{
 "cells": [
  {
   "cell_type": "markdown",
   "id": "8d204ce5",
   "metadata": {},
   "source": [
    "## Enhancement 5: Choose a new dataset from the list below. Search the Internet and download your chosen dataset (many of them could be available on kaggle). Adapt your model to your dataset. Train your model and record your results.\n",
    "\n",
    "   * cancer_dataset          - Breast cancer dataset.\n",
    "   * crab_dataset            - Crab gender dataset.\n",
    "   * glass_dataset           - Glass chemical dataset.\n",
    "   * iris_dataset            - Iris flower dataset.\n",
    "   * ovarian_dataset         - Ovarian cancer dataset.\n",
    "   * thyroid_dataset         - Thyroid function dataset."
   ]
  },
  {
   "cell_type": "markdown",
   "id": "0eeeeeea",
   "metadata": {},
   "source": [
    "#### Imports"
   ]
  },
  {
   "cell_type": "code",
   "execution_count": 132,
   "id": "ed753ed2",
   "metadata": {},
   "outputs": [],
   "source": [
    "import warnings\n",
    "import pandas as pd\n",
    "import torch\n",
    "import torch.nn as nn\n",
    "import torch.nn.functional as F\n",
    "from torch.optim import AdamW\n",
    "from torch.utils.data import Dataset, DataLoader\n",
    "from tqdm.notebook import tqdm\n",
    "from sklearn.metrics import accuracy_score, precision_score, recall_score, f1_score"
   ]
  },
  {
   "cell_type": "markdown",
   "id": "1c993ae5",
   "metadata": {},
   "source": [
    "#### Load Dataset"
   ]
  },
  {
   "cell_type": "code",
   "execution_count": 104,
   "id": "d27675db",
   "metadata": {},
   "outputs": [],
   "source": [
    "from sklearn.datasets import load_breast_cancer\n",
    "cancer_dataset = load_breast_cancer()"
   ]
  },
  {
   "cell_type": "code",
   "execution_count": 105,
   "id": "4ead43f3",
   "metadata": {},
   "outputs": [
    {
     "data": {
      "text/plain": [
       "sklearn.utils.Bunch"
      ]
     },
     "execution_count": 105,
     "metadata": {},
     "output_type": "execute_result"
    }
   ],
   "source": [
    "type(cancer_dataset)"
   ]
  },
  {
   "cell_type": "code",
   "execution_count": 106,
   "id": "ed1724b1",
   "metadata": {},
   "outputs": [],
   "source": [
    "df = pd.DataFrame(data=cancer_dataset.data, columns=cancer_dataset.feature_names)\n",
    "df['target'] = cancer_dataset.target"
   ]
  },
  {
   "cell_type": "code",
   "execution_count": 107,
   "id": "7f5de469",
   "metadata": {},
   "outputs": [
    {
     "data": {
      "text/html": [
       "<div>\n",
       "<style scoped>\n",
       "    .dataframe tbody tr th:only-of-type {\n",
       "        vertical-align: middle;\n",
       "    }\n",
       "\n",
       "    .dataframe tbody tr th {\n",
       "        vertical-align: top;\n",
       "    }\n",
       "\n",
       "    .dataframe thead th {\n",
       "        text-align: right;\n",
       "    }\n",
       "</style>\n",
       "<table border=\"1\" class=\"dataframe\">\n",
       "  <thead>\n",
       "    <tr style=\"text-align: right;\">\n",
       "      <th></th>\n",
       "      <th>mean radius</th>\n",
       "      <th>mean texture</th>\n",
       "      <th>mean perimeter</th>\n",
       "      <th>mean area</th>\n",
       "      <th>mean smoothness</th>\n",
       "      <th>mean compactness</th>\n",
       "      <th>mean concavity</th>\n",
       "      <th>mean concave points</th>\n",
       "      <th>mean symmetry</th>\n",
       "      <th>mean fractal dimension</th>\n",
       "      <th>...</th>\n",
       "      <th>worst texture</th>\n",
       "      <th>worst perimeter</th>\n",
       "      <th>worst area</th>\n",
       "      <th>worst smoothness</th>\n",
       "      <th>worst compactness</th>\n",
       "      <th>worst concavity</th>\n",
       "      <th>worst concave points</th>\n",
       "      <th>worst symmetry</th>\n",
       "      <th>worst fractal dimension</th>\n",
       "      <th>target</th>\n",
       "    </tr>\n",
       "  </thead>\n",
       "  <tbody>\n",
       "    <tr>\n",
       "      <th>0</th>\n",
       "      <td>17.99</td>\n",
       "      <td>10.38</td>\n",
       "      <td>122.80</td>\n",
       "      <td>1001.0</td>\n",
       "      <td>0.11840</td>\n",
       "      <td>0.27760</td>\n",
       "      <td>0.3001</td>\n",
       "      <td>0.14710</td>\n",
       "      <td>0.2419</td>\n",
       "      <td>0.07871</td>\n",
       "      <td>...</td>\n",
       "      <td>17.33</td>\n",
       "      <td>184.60</td>\n",
       "      <td>2019.0</td>\n",
       "      <td>0.1622</td>\n",
       "      <td>0.6656</td>\n",
       "      <td>0.7119</td>\n",
       "      <td>0.2654</td>\n",
       "      <td>0.4601</td>\n",
       "      <td>0.11890</td>\n",
       "      <td>0</td>\n",
       "    </tr>\n",
       "    <tr>\n",
       "      <th>1</th>\n",
       "      <td>20.57</td>\n",
       "      <td>17.77</td>\n",
       "      <td>132.90</td>\n",
       "      <td>1326.0</td>\n",
       "      <td>0.08474</td>\n",
       "      <td>0.07864</td>\n",
       "      <td>0.0869</td>\n",
       "      <td>0.07017</td>\n",
       "      <td>0.1812</td>\n",
       "      <td>0.05667</td>\n",
       "      <td>...</td>\n",
       "      <td>23.41</td>\n",
       "      <td>158.80</td>\n",
       "      <td>1956.0</td>\n",
       "      <td>0.1238</td>\n",
       "      <td>0.1866</td>\n",
       "      <td>0.2416</td>\n",
       "      <td>0.1860</td>\n",
       "      <td>0.2750</td>\n",
       "      <td>0.08902</td>\n",
       "      <td>0</td>\n",
       "    </tr>\n",
       "    <tr>\n",
       "      <th>2</th>\n",
       "      <td>19.69</td>\n",
       "      <td>21.25</td>\n",
       "      <td>130.00</td>\n",
       "      <td>1203.0</td>\n",
       "      <td>0.10960</td>\n",
       "      <td>0.15990</td>\n",
       "      <td>0.1974</td>\n",
       "      <td>0.12790</td>\n",
       "      <td>0.2069</td>\n",
       "      <td>0.05999</td>\n",
       "      <td>...</td>\n",
       "      <td>25.53</td>\n",
       "      <td>152.50</td>\n",
       "      <td>1709.0</td>\n",
       "      <td>0.1444</td>\n",
       "      <td>0.4245</td>\n",
       "      <td>0.4504</td>\n",
       "      <td>0.2430</td>\n",
       "      <td>0.3613</td>\n",
       "      <td>0.08758</td>\n",
       "      <td>0</td>\n",
       "    </tr>\n",
       "    <tr>\n",
       "      <th>3</th>\n",
       "      <td>11.42</td>\n",
       "      <td>20.38</td>\n",
       "      <td>77.58</td>\n",
       "      <td>386.1</td>\n",
       "      <td>0.14250</td>\n",
       "      <td>0.28390</td>\n",
       "      <td>0.2414</td>\n",
       "      <td>0.10520</td>\n",
       "      <td>0.2597</td>\n",
       "      <td>0.09744</td>\n",
       "      <td>...</td>\n",
       "      <td>26.50</td>\n",
       "      <td>98.87</td>\n",
       "      <td>567.7</td>\n",
       "      <td>0.2098</td>\n",
       "      <td>0.8663</td>\n",
       "      <td>0.6869</td>\n",
       "      <td>0.2575</td>\n",
       "      <td>0.6638</td>\n",
       "      <td>0.17300</td>\n",
       "      <td>0</td>\n",
       "    </tr>\n",
       "    <tr>\n",
       "      <th>4</th>\n",
       "      <td>20.29</td>\n",
       "      <td>14.34</td>\n",
       "      <td>135.10</td>\n",
       "      <td>1297.0</td>\n",
       "      <td>0.10030</td>\n",
       "      <td>0.13280</td>\n",
       "      <td>0.1980</td>\n",
       "      <td>0.10430</td>\n",
       "      <td>0.1809</td>\n",
       "      <td>0.05883</td>\n",
       "      <td>...</td>\n",
       "      <td>16.67</td>\n",
       "      <td>152.20</td>\n",
       "      <td>1575.0</td>\n",
       "      <td>0.1374</td>\n",
       "      <td>0.2050</td>\n",
       "      <td>0.4000</td>\n",
       "      <td>0.1625</td>\n",
       "      <td>0.2364</td>\n",
       "      <td>0.07678</td>\n",
       "      <td>0</td>\n",
       "    </tr>\n",
       "  </tbody>\n",
       "</table>\n",
       "<p>5 rows × 31 columns</p>\n",
       "</div>"
      ],
      "text/plain": [
       "   mean radius  mean texture  mean perimeter  mean area  mean smoothness  \\\n",
       "0        17.99         10.38          122.80     1001.0          0.11840   \n",
       "1        20.57         17.77          132.90     1326.0          0.08474   \n",
       "2        19.69         21.25          130.00     1203.0          0.10960   \n",
       "3        11.42         20.38           77.58      386.1          0.14250   \n",
       "4        20.29         14.34          135.10     1297.0          0.10030   \n",
       "\n",
       "   mean compactness  mean concavity  mean concave points  mean symmetry  \\\n",
       "0           0.27760          0.3001              0.14710         0.2419   \n",
       "1           0.07864          0.0869              0.07017         0.1812   \n",
       "2           0.15990          0.1974              0.12790         0.2069   \n",
       "3           0.28390          0.2414              0.10520         0.2597   \n",
       "4           0.13280          0.1980              0.10430         0.1809   \n",
       "\n",
       "   mean fractal dimension  ...  worst texture  worst perimeter  worst area  \\\n",
       "0                 0.07871  ...          17.33           184.60      2019.0   \n",
       "1                 0.05667  ...          23.41           158.80      1956.0   \n",
       "2                 0.05999  ...          25.53           152.50      1709.0   \n",
       "3                 0.09744  ...          26.50            98.87       567.7   \n",
       "4                 0.05883  ...          16.67           152.20      1575.0   \n",
       "\n",
       "   worst smoothness  worst compactness  worst concavity  worst concave points  \\\n",
       "0            0.1622             0.6656           0.7119                0.2654   \n",
       "1            0.1238             0.1866           0.2416                0.1860   \n",
       "2            0.1444             0.4245           0.4504                0.2430   \n",
       "3            0.2098             0.8663           0.6869                0.2575   \n",
       "4            0.1374             0.2050           0.4000                0.1625   \n",
       "\n",
       "   worst symmetry  worst fractal dimension  target  \n",
       "0          0.4601                  0.11890       0  \n",
       "1          0.2750                  0.08902       0  \n",
       "2          0.3613                  0.08758       0  \n",
       "3          0.6638                  0.17300       0  \n",
       "4          0.2364                  0.07678       0  \n",
       "\n",
       "[5 rows x 31 columns]"
      ]
     },
     "execution_count": 107,
     "metadata": {},
     "output_type": "execute_result"
    }
   ],
   "source": [
    "# make sure it looks good\n",
    "df.head()\n",
    "# df.tail()"
   ]
  },
  {
   "cell_type": "code",
   "execution_count": 108,
   "id": "69e8266d",
   "metadata": {
    "scrolled": true
   },
   "outputs": [
    {
     "data": {
      "text/plain": [
       "30"
      ]
     },
     "execution_count": 108,
     "metadata": {},
     "output_type": "execute_result"
    }
   ],
   "source": [
    "# how many features?\n",
    "# WOW!\n",
    "len(df.columns) -1"
   ]
  },
  {
   "cell_type": "code",
   "execution_count": 109,
   "id": "2036f641",
   "metadata": {},
   "outputs": [
    {
     "data": {
      "text/plain": [
       "564    0\n",
       "565    0\n",
       "566    0\n",
       "567    0\n",
       "568    1\n",
       "Name: target, dtype: int32"
      ]
     },
     "execution_count": 109,
     "metadata": {},
     "output_type": "execute_result"
    }
   ],
   "source": [
    "# 0 means malignant\n",
    "# 1 means benign\n",
    "df['target'].tail(5)"
   ]
  },
  {
   "cell_type": "code",
   "execution_count": 110,
   "id": "3848d9cc",
   "metadata": {},
   "outputs": [],
   "source": [
    "# normalize data so that each feature has a mean of 0 and a std of 1\n",
    "labels = df['target']\n",
    "df = (df - df.mean()) / df.std()\n",
    "df['target'] = labels"
   ]
  },
  {
   "cell_type": "code",
   "execution_count": 111,
   "id": "5451a6f7",
   "metadata": {},
   "outputs": [
    {
     "data": {
      "text/html": [
       "<div>\n",
       "<style scoped>\n",
       "    .dataframe tbody tr th:only-of-type {\n",
       "        vertical-align: middle;\n",
       "    }\n",
       "\n",
       "    .dataframe tbody tr th {\n",
       "        vertical-align: top;\n",
       "    }\n",
       "\n",
       "    .dataframe thead th {\n",
       "        text-align: right;\n",
       "    }\n",
       "</style>\n",
       "<table border=\"1\" class=\"dataframe\">\n",
       "  <thead>\n",
       "    <tr style=\"text-align: right;\">\n",
       "      <th></th>\n",
       "      <th>mean radius</th>\n",
       "      <th>mean texture</th>\n",
       "      <th>mean perimeter</th>\n",
       "      <th>mean area</th>\n",
       "      <th>mean smoothness</th>\n",
       "      <th>mean compactness</th>\n",
       "      <th>mean concavity</th>\n",
       "      <th>mean concave points</th>\n",
       "      <th>mean symmetry</th>\n",
       "      <th>mean fractal dimension</th>\n",
       "      <th>...</th>\n",
       "      <th>worst texture</th>\n",
       "      <th>worst perimeter</th>\n",
       "      <th>worst area</th>\n",
       "      <th>worst smoothness</th>\n",
       "      <th>worst compactness</th>\n",
       "      <th>worst concavity</th>\n",
       "      <th>worst concave points</th>\n",
       "      <th>worst symmetry</th>\n",
       "      <th>worst fractal dimension</th>\n",
       "      <th>target</th>\n",
       "    </tr>\n",
       "  </thead>\n",
       "  <tbody>\n",
       "    <tr>\n",
       "      <th>0</th>\n",
       "      <td>1.096100</td>\n",
       "      <td>-2.071512</td>\n",
       "      <td>1.268817</td>\n",
       "      <td>0.983510</td>\n",
       "      <td>1.567087</td>\n",
       "      <td>3.280628</td>\n",
       "      <td>2.650542</td>\n",
       "      <td>2.530249</td>\n",
       "      <td>2.215566</td>\n",
       "      <td>2.253764</td>\n",
       "      <td>...</td>\n",
       "      <td>-1.358098</td>\n",
       "      <td>2.301575</td>\n",
       "      <td>1.999478</td>\n",
       "      <td>1.306537</td>\n",
       "      <td>2.614365</td>\n",
       "      <td>2.107672</td>\n",
       "      <td>2.294058</td>\n",
       "      <td>2.748204</td>\n",
       "      <td>1.935312</td>\n",
       "      <td>0</td>\n",
       "    </tr>\n",
       "    <tr>\n",
       "      <th>1</th>\n",
       "      <td>1.828212</td>\n",
       "      <td>-0.353322</td>\n",
       "      <td>1.684473</td>\n",
       "      <td>1.907030</td>\n",
       "      <td>-0.826235</td>\n",
       "      <td>-0.486643</td>\n",
       "      <td>-0.023825</td>\n",
       "      <td>0.547662</td>\n",
       "      <td>0.001391</td>\n",
       "      <td>-0.867889</td>\n",
       "      <td>...</td>\n",
       "      <td>-0.368879</td>\n",
       "      <td>1.533776</td>\n",
       "      <td>1.888827</td>\n",
       "      <td>-0.375282</td>\n",
       "      <td>-0.430066</td>\n",
       "      <td>-0.146620</td>\n",
       "      <td>1.086129</td>\n",
       "      <td>-0.243675</td>\n",
       "      <td>0.280943</td>\n",
       "      <td>0</td>\n",
       "    </tr>\n",
       "    <tr>\n",
       "      <th>2</th>\n",
       "      <td>1.578499</td>\n",
       "      <td>0.455786</td>\n",
       "      <td>1.565126</td>\n",
       "      <td>1.557513</td>\n",
       "      <td>0.941382</td>\n",
       "      <td>1.052000</td>\n",
       "      <td>1.362280</td>\n",
       "      <td>2.035440</td>\n",
       "      <td>0.938859</td>\n",
       "      <td>-0.397658</td>\n",
       "      <td>...</td>\n",
       "      <td>-0.023953</td>\n",
       "      <td>1.346291</td>\n",
       "      <td>1.455004</td>\n",
       "      <td>0.526944</td>\n",
       "      <td>1.081980</td>\n",
       "      <td>0.854222</td>\n",
       "      <td>1.953282</td>\n",
       "      <td>1.151242</td>\n",
       "      <td>0.201214</td>\n",
       "      <td>0</td>\n",
       "    </tr>\n",
       "    <tr>\n",
       "      <th>3</th>\n",
       "      <td>-0.768233</td>\n",
       "      <td>0.253509</td>\n",
       "      <td>-0.592166</td>\n",
       "      <td>-0.763792</td>\n",
       "      <td>3.280667</td>\n",
       "      <td>3.399917</td>\n",
       "      <td>1.914213</td>\n",
       "      <td>1.450431</td>\n",
       "      <td>2.864862</td>\n",
       "      <td>4.906602</td>\n",
       "      <td>...</td>\n",
       "      <td>0.133866</td>\n",
       "      <td>-0.249720</td>\n",
       "      <td>-0.549538</td>\n",
       "      <td>3.391291</td>\n",
       "      <td>3.889975</td>\n",
       "      <td>1.987839</td>\n",
       "      <td>2.173873</td>\n",
       "      <td>6.040726</td>\n",
       "      <td>4.930672</td>\n",
       "      <td>0</td>\n",
       "    </tr>\n",
       "    <tr>\n",
       "      <th>4</th>\n",
       "      <td>1.748758</td>\n",
       "      <td>-1.150804</td>\n",
       "      <td>1.775011</td>\n",
       "      <td>1.824624</td>\n",
       "      <td>0.280125</td>\n",
       "      <td>0.538866</td>\n",
       "      <td>1.369806</td>\n",
       "      <td>1.427237</td>\n",
       "      <td>-0.009552</td>\n",
       "      <td>-0.561956</td>\n",
       "      <td>...</td>\n",
       "      <td>-1.465481</td>\n",
       "      <td>1.337363</td>\n",
       "      <td>1.219651</td>\n",
       "      <td>0.220362</td>\n",
       "      <td>-0.313119</td>\n",
       "      <td>0.612640</td>\n",
       "      <td>0.728618</td>\n",
       "      <td>-0.867590</td>\n",
       "      <td>-0.396751</td>\n",
       "      <td>0</td>\n",
       "    </tr>\n",
       "  </tbody>\n",
       "</table>\n",
       "<p>5 rows × 31 columns</p>\n",
       "</div>"
      ],
      "text/plain": [
       "   mean radius  mean texture  mean perimeter  mean area  mean smoothness  \\\n",
       "0     1.096100     -2.071512        1.268817   0.983510         1.567087   \n",
       "1     1.828212     -0.353322        1.684473   1.907030        -0.826235   \n",
       "2     1.578499      0.455786        1.565126   1.557513         0.941382   \n",
       "3    -0.768233      0.253509       -0.592166  -0.763792         3.280667   \n",
       "4     1.748758     -1.150804        1.775011   1.824624         0.280125   \n",
       "\n",
       "   mean compactness  mean concavity  mean concave points  mean symmetry  \\\n",
       "0          3.280628        2.650542             2.530249       2.215566   \n",
       "1         -0.486643       -0.023825             0.547662       0.001391   \n",
       "2          1.052000        1.362280             2.035440       0.938859   \n",
       "3          3.399917        1.914213             1.450431       2.864862   \n",
       "4          0.538866        1.369806             1.427237      -0.009552   \n",
       "\n",
       "   mean fractal dimension  ...  worst texture  worst perimeter  worst area  \\\n",
       "0                2.253764  ...      -1.358098         2.301575    1.999478   \n",
       "1               -0.867889  ...      -0.368879         1.533776    1.888827   \n",
       "2               -0.397658  ...      -0.023953         1.346291    1.455004   \n",
       "3                4.906602  ...       0.133866        -0.249720   -0.549538   \n",
       "4               -0.561956  ...      -1.465481         1.337363    1.219651   \n",
       "\n",
       "   worst smoothness  worst compactness  worst concavity  worst concave points  \\\n",
       "0          1.306537           2.614365         2.107672              2.294058   \n",
       "1         -0.375282          -0.430066        -0.146620              1.086129   \n",
       "2          0.526944           1.081980         0.854222              1.953282   \n",
       "3          3.391291           3.889975         1.987839              2.173873   \n",
       "4          0.220362          -0.313119         0.612640              0.728618   \n",
       "\n",
       "   worst symmetry  worst fractal dimension  target  \n",
       "0        2.748204                 1.935312       0  \n",
       "1       -0.243675                 0.280943       0  \n",
       "2        1.151242                 0.201214       0  \n",
       "3        6.040726                 4.930672       0  \n",
       "4       -0.867590                -0.396751       0  \n",
       "\n",
       "[5 rows x 31 columns]"
      ]
     },
     "execution_count": 111,
     "metadata": {},
     "output_type": "execute_result"
    }
   ],
   "source": [
    "df.head()"
   ]
  },
  {
   "cell_type": "code",
   "execution_count": 112,
   "id": "c3ad9262",
   "metadata": {},
   "outputs": [
    {
     "data": {
      "text/html": [
       "<div>\n",
       "<style scoped>\n",
       "    .dataframe tbody tr th:only-of-type {\n",
       "        vertical-align: middle;\n",
       "    }\n",
       "\n",
       "    .dataframe tbody tr th {\n",
       "        vertical-align: top;\n",
       "    }\n",
       "\n",
       "    .dataframe thead th {\n",
       "        text-align: right;\n",
       "    }\n",
       "</style>\n",
       "<table border=\"1\" class=\"dataframe\">\n",
       "  <thead>\n",
       "    <tr style=\"text-align: right;\">\n",
       "      <th></th>\n",
       "      <th>mean radius</th>\n",
       "      <th>mean texture</th>\n",
       "      <th>mean perimeter</th>\n",
       "      <th>mean area</th>\n",
       "      <th>mean smoothness</th>\n",
       "      <th>mean compactness</th>\n",
       "      <th>mean concavity</th>\n",
       "      <th>mean concave points</th>\n",
       "      <th>mean symmetry</th>\n",
       "      <th>mean fractal dimension</th>\n",
       "      <th>...</th>\n",
       "      <th>worst texture</th>\n",
       "      <th>worst perimeter</th>\n",
       "      <th>worst area</th>\n",
       "      <th>worst smoothness</th>\n",
       "      <th>worst compactness</th>\n",
       "      <th>worst concavity</th>\n",
       "      <th>worst concave points</th>\n",
       "      <th>worst symmetry</th>\n",
       "      <th>worst fractal dimension</th>\n",
       "      <th>target</th>\n",
       "    </tr>\n",
       "  </thead>\n",
       "  <tbody>\n",
       "    <tr>\n",
       "      <th>count</th>\n",
       "      <td>5.690000e+02</td>\n",
       "      <td>5.690000e+02</td>\n",
       "      <td>5.690000e+02</td>\n",
       "      <td>5.690000e+02</td>\n",
       "      <td>5.690000e+02</td>\n",
       "      <td>5.690000e+02</td>\n",
       "      <td>5.690000e+02</td>\n",
       "      <td>5.690000e+02</td>\n",
       "      <td>5.690000e+02</td>\n",
       "      <td>5.690000e+02</td>\n",
       "      <td>...</td>\n",
       "      <td>5.690000e+02</td>\n",
       "      <td>5.690000e+02</td>\n",
       "      <td>5.690000e+02</td>\n",
       "      <td>5.690000e+02</td>\n",
       "      <td>5.690000e+02</td>\n",
       "      <td>5.690000e+02</td>\n",
       "      <td>5.690000e+02</td>\n",
       "      <td>5.690000e+02</td>\n",
       "      <td>5.690000e+02</td>\n",
       "      <td>569.000000</td>\n",
       "    </tr>\n",
       "    <tr>\n",
       "      <th>mean</th>\n",
       "      <td>-3.159355e-15</td>\n",
       "      <td>-6.549730e-15</td>\n",
       "      <td>-6.993039e-16</td>\n",
       "      <td>-8.553985e-16</td>\n",
       "      <td>6.043984e-15</td>\n",
       "      <td>-1.111394e-15</td>\n",
       "      <td>-2.997017e-16</td>\n",
       "      <td>1.023981e-15</td>\n",
       "      <td>-1.860648e-15</td>\n",
       "      <td>-1.461046e-15</td>\n",
       "      <td>...</td>\n",
       "      <td>1.735772e-15</td>\n",
       "      <td>-1.211294e-15</td>\n",
       "      <td>6.243785e-16</td>\n",
       "      <td>-5.094929e-15</td>\n",
       "      <td>-2.097912e-15</td>\n",
       "      <td>6.368661e-16</td>\n",
       "      <td>-1.998011e-16</td>\n",
       "      <td>-2.422589e-15</td>\n",
       "      <td>2.497514e-15</td>\n",
       "      <td>0.627417</td>\n",
       "    </tr>\n",
       "    <tr>\n",
       "      <th>std</th>\n",
       "      <td>1.000000e+00</td>\n",
       "      <td>1.000000e+00</td>\n",
       "      <td>1.000000e+00</td>\n",
       "      <td>1.000000e+00</td>\n",
       "      <td>1.000000e+00</td>\n",
       "      <td>1.000000e+00</td>\n",
       "      <td>1.000000e+00</td>\n",
       "      <td>1.000000e+00</td>\n",
       "      <td>1.000000e+00</td>\n",
       "      <td>1.000000e+00</td>\n",
       "      <td>...</td>\n",
       "      <td>1.000000e+00</td>\n",
       "      <td>1.000000e+00</td>\n",
       "      <td>1.000000e+00</td>\n",
       "      <td>1.000000e+00</td>\n",
       "      <td>1.000000e+00</td>\n",
       "      <td>1.000000e+00</td>\n",
       "      <td>1.000000e+00</td>\n",
       "      <td>1.000000e+00</td>\n",
       "      <td>1.000000e+00</td>\n",
       "      <td>0.483918</td>\n",
       "    </tr>\n",
       "    <tr>\n",
       "      <th>min</th>\n",
       "      <td>-2.027864e+00</td>\n",
       "      <td>-2.227289e+00</td>\n",
       "      <td>-1.982759e+00</td>\n",
       "      <td>-1.453164e+00</td>\n",
       "      <td>-3.109349e+00</td>\n",
       "      <td>-1.608721e+00</td>\n",
       "      <td>-1.113893e+00</td>\n",
       "      <td>-1.260710e+00</td>\n",
       "      <td>-2.741705e+00</td>\n",
       "      <td>-1.818265e+00</td>\n",
       "      <td>...</td>\n",
       "      <td>-2.222039e+00</td>\n",
       "      <td>-1.691872e+00</td>\n",
       "      <td>-1.221348e+00</td>\n",
       "      <td>-2.680337e+00</td>\n",
       "      <td>-1.442609e+00</td>\n",
       "      <td>-1.304683e+00</td>\n",
       "      <td>-1.743529e+00</td>\n",
       "      <td>-2.159060e+00</td>\n",
       "      <td>-1.600431e+00</td>\n",
       "      <td>0.000000</td>\n",
       "    </tr>\n",
       "    <tr>\n",
       "      <th>25%</th>\n",
       "      <td>-6.887793e-01</td>\n",
       "      <td>-7.253249e-01</td>\n",
       "      <td>-6.913472e-01</td>\n",
       "      <td>-6.666089e-01</td>\n",
       "      <td>-7.103378e-01</td>\n",
       "      <td>-7.464292e-01</td>\n",
       "      <td>-7.430941e-01</td>\n",
       "      <td>-7.372951e-01</td>\n",
       "      <td>-7.026215e-01</td>\n",
       "      <td>-7.220040e-01</td>\n",
       "      <td>...</td>\n",
       "      <td>-7.479711e-01</td>\n",
       "      <td>-6.889721e-01</td>\n",
       "      <td>-6.415713e-01</td>\n",
       "      <td>-6.906227e-01</td>\n",
       "      <td>-6.804845e-01</td>\n",
       "      <td>-7.558491e-01</td>\n",
       "      <td>-7.557349e-01</td>\n",
       "      <td>-6.412994e-01</td>\n",
       "      <td>-6.913035e-01</td>\n",
       "      <td>0.000000</td>\n",
       "    </tr>\n",
       "    <tr>\n",
       "      <th>50%</th>\n",
       "      <td>-2.148925e-01</td>\n",
       "      <td>-1.045442e-01</td>\n",
       "      <td>-2.357726e-01</td>\n",
       "      <td>-2.949274e-01</td>\n",
       "      <td>-3.486040e-02</td>\n",
       "      <td>-2.217454e-01</td>\n",
       "      <td>-3.419391e-01</td>\n",
       "      <td>-3.973715e-01</td>\n",
       "      <td>-7.156354e-02</td>\n",
       "      <td>-1.781226e-01</td>\n",
       "      <td>...</td>\n",
       "      <td>-4.347738e-02</td>\n",
       "      <td>-2.857288e-01</td>\n",
       "      <td>-3.408813e-01</td>\n",
       "      <td>-4.680159e-02</td>\n",
       "      <td>-2.692639e-01</td>\n",
       "      <td>-2.180402e-01</td>\n",
       "      <td>-2.232725e-01</td>\n",
       "      <td>-1.272975e-01</td>\n",
       "      <td>-2.162538e-01</td>\n",
       "      <td>1.000000</td>\n",
       "    </tr>\n",
       "    <tr>\n",
       "      <th>75%</th>\n",
       "      <td>4.689800e-01</td>\n",
       "      <td>5.836621e-01</td>\n",
       "      <td>4.992377e-01</td>\n",
       "      <td>3.631877e-01</td>\n",
       "      <td>6.356397e-01</td>\n",
       "      <td>4.934227e-01</td>\n",
       "      <td>5.255994e-01</td>\n",
       "      <td>6.463664e-01</td>\n",
       "      <td>5.303125e-01</td>\n",
       "      <td>4.705693e-01</td>\n",
       "      <td>...</td>\n",
       "      <td>6.577623e-01</td>\n",
       "      <td>5.398040e-01</td>\n",
       "      <td>3.572747e-01</td>\n",
       "      <td>5.970195e-01</td>\n",
       "      <td>5.391944e-01</td>\n",
       "      <td>5.306742e-01</td>\n",
       "      <td>7.118836e-01</td>\n",
       "      <td>4.497425e-01</td>\n",
       "      <td>4.503661e-01</td>\n",
       "      <td>1.000000</td>\n",
       "    </tr>\n",
       "    <tr>\n",
       "      <th>max</th>\n",
       "      <td>3.967796e+00</td>\n",
       "      <td>4.647799e+00</td>\n",
       "      <td>3.972634e+00</td>\n",
       "      <td>5.245913e+00</td>\n",
       "      <td>4.766717e+00</td>\n",
       "      <td>4.564409e+00</td>\n",
       "      <td>4.239858e+00</td>\n",
       "      <td>3.924477e+00</td>\n",
       "      <td>4.480808e+00</td>\n",
       "      <td>4.906602e+00</td>\n",
       "      <td>...</td>\n",
       "      <td>3.882489e+00</td>\n",
       "      <td>4.283568e+00</td>\n",
       "      <td>5.924959e+00</td>\n",
       "      <td>3.951897e+00</td>\n",
       "      <td>5.108382e+00</td>\n",
       "      <td>4.696536e+00</td>\n",
       "      <td>2.683516e+00</td>\n",
       "      <td>6.040726e+00</td>\n",
       "      <td>6.840837e+00</td>\n",
       "      <td>1.000000</td>\n",
       "    </tr>\n",
       "  </tbody>\n",
       "</table>\n",
       "<p>8 rows × 31 columns</p>\n",
       "</div>"
      ],
      "text/plain": [
       "        mean radius  mean texture  mean perimeter     mean area  \\\n",
       "count  5.690000e+02  5.690000e+02    5.690000e+02  5.690000e+02   \n",
       "mean  -3.159355e-15 -6.549730e-15   -6.993039e-16 -8.553985e-16   \n",
       "std    1.000000e+00  1.000000e+00    1.000000e+00  1.000000e+00   \n",
       "min   -2.027864e+00 -2.227289e+00   -1.982759e+00 -1.453164e+00   \n",
       "25%   -6.887793e-01 -7.253249e-01   -6.913472e-01 -6.666089e-01   \n",
       "50%   -2.148925e-01 -1.045442e-01   -2.357726e-01 -2.949274e-01   \n",
       "75%    4.689800e-01  5.836621e-01    4.992377e-01  3.631877e-01   \n",
       "max    3.967796e+00  4.647799e+00    3.972634e+00  5.245913e+00   \n",
       "\n",
       "       mean smoothness  mean compactness  mean concavity  mean concave points  \\\n",
       "count     5.690000e+02      5.690000e+02    5.690000e+02         5.690000e+02   \n",
       "mean      6.043984e-15     -1.111394e-15   -2.997017e-16         1.023981e-15   \n",
       "std       1.000000e+00      1.000000e+00    1.000000e+00         1.000000e+00   \n",
       "min      -3.109349e+00     -1.608721e+00   -1.113893e+00        -1.260710e+00   \n",
       "25%      -7.103378e-01     -7.464292e-01   -7.430941e-01        -7.372951e-01   \n",
       "50%      -3.486040e-02     -2.217454e-01   -3.419391e-01        -3.973715e-01   \n",
       "75%       6.356397e-01      4.934227e-01    5.255994e-01         6.463664e-01   \n",
       "max       4.766717e+00      4.564409e+00    4.239858e+00         3.924477e+00   \n",
       "\n",
       "       mean symmetry  mean fractal dimension  ...  worst texture  \\\n",
       "count   5.690000e+02            5.690000e+02  ...   5.690000e+02   \n",
       "mean   -1.860648e-15           -1.461046e-15  ...   1.735772e-15   \n",
       "std     1.000000e+00            1.000000e+00  ...   1.000000e+00   \n",
       "min    -2.741705e+00           -1.818265e+00  ...  -2.222039e+00   \n",
       "25%    -7.026215e-01           -7.220040e-01  ...  -7.479711e-01   \n",
       "50%    -7.156354e-02           -1.781226e-01  ...  -4.347738e-02   \n",
       "75%     5.303125e-01            4.705693e-01  ...   6.577623e-01   \n",
       "max     4.480808e+00            4.906602e+00  ...   3.882489e+00   \n",
       "\n",
       "       worst perimeter    worst area  worst smoothness  worst compactness  \\\n",
       "count     5.690000e+02  5.690000e+02      5.690000e+02       5.690000e+02   \n",
       "mean     -1.211294e-15  6.243785e-16     -5.094929e-15      -2.097912e-15   \n",
       "std       1.000000e+00  1.000000e+00      1.000000e+00       1.000000e+00   \n",
       "min      -1.691872e+00 -1.221348e+00     -2.680337e+00      -1.442609e+00   \n",
       "25%      -6.889721e-01 -6.415713e-01     -6.906227e-01      -6.804845e-01   \n",
       "50%      -2.857288e-01 -3.408813e-01     -4.680159e-02      -2.692639e-01   \n",
       "75%       5.398040e-01  3.572747e-01      5.970195e-01       5.391944e-01   \n",
       "max       4.283568e+00  5.924959e+00      3.951897e+00       5.108382e+00   \n",
       "\n",
       "       worst concavity  worst concave points  worst symmetry  \\\n",
       "count     5.690000e+02          5.690000e+02    5.690000e+02   \n",
       "mean      6.368661e-16         -1.998011e-16   -2.422589e-15   \n",
       "std       1.000000e+00          1.000000e+00    1.000000e+00   \n",
       "min      -1.304683e+00         -1.743529e+00   -2.159060e+00   \n",
       "25%      -7.558491e-01         -7.557349e-01   -6.412994e-01   \n",
       "50%      -2.180402e-01         -2.232725e-01   -1.272975e-01   \n",
       "75%       5.306742e-01          7.118836e-01    4.497425e-01   \n",
       "max       4.696536e+00          2.683516e+00    6.040726e+00   \n",
       "\n",
       "       worst fractal dimension      target  \n",
       "count             5.690000e+02  569.000000  \n",
       "mean              2.497514e-15    0.627417  \n",
       "std               1.000000e+00    0.483918  \n",
       "min              -1.600431e+00    0.000000  \n",
       "25%              -6.913035e-01    0.000000  \n",
       "50%              -2.162538e-01    1.000000  \n",
       "75%               4.503661e-01    1.000000  \n",
       "max               6.840837e+00    1.000000  \n",
       "\n",
       "[8 rows x 31 columns]"
      ]
     },
     "execution_count": 112,
     "metadata": {},
     "output_type": "execute_result"
    }
   ],
   "source": [
    "# sumamry statistics of the data\n",
    "df.describe()"
   ]
  },
  {
   "cell_type": "markdown",
   "id": "fbd17b67",
   "metadata": {},
   "source": [
    "## Load this dataset for training a neural network"
   ]
  },
  {
   "cell_type": "code",
   "execution_count": 113,
   "id": "9c2d5e1b",
   "metadata": {},
   "outputs": [],
   "source": [
    "# The dataset class\n",
    "# inherit the Dataset class and create a new class CancerDataset\n",
    "class CancerDataset(Dataset):\n",
    "    def __init__(self, df):\n",
    "        self.df = df\n",
    "        self.features = []\n",
    "        self.labels = []\n",
    "        \n",
    "        # Iterate through rows of the DataFrame\n",
    "        for _, row in df.iterrows():\n",
    "            # Append features for each row except the 'target' column\n",
    "            self.features.append(row.drop('target').tolist())\n",
    "            # Append label for each row\n",
    "            self.labels.append(row['target'])\n",
    "    \n",
    "    # set length to reaturn number of rows\n",
    "    def __len__(self):\n",
    "        return len(self.df)\n",
    "    \n",
    "    # get a sample in the form of a dictionary (features and labels) given its index\n",
    "    def __getitem__(self, idx):\n",
    "        if torch.is_tensor(idx):\n",
    "            idx = idx.tolist()\n",
    "\n",
    "        features = self.features[idx]\n",
    "        features = torch.FloatTensor(features)\n",
    "\n",
    "        labels = torch.tensor(self.labels[idx], dtype = torch.long)\n",
    "\n",
    "        return {'labels': labels, 'features': features}\n",
    "\n",
    "# instanciate a CancerDataset object based off of data_df\n",
    "cancer_dataset = CancerDataset(df)\n",
    "# perform a 80, 10, 10 split using the cancer_dataset object\n",
    "train_dataset, val_dataset, test_dataset = torch.utils.data.random_split(cancer_dataset, [0.8, 0.1, 0.1])\n",
    "\n",
    "# The dataloader\n",
    "train_dataloader = DataLoader(\n",
    "    # dataset input\n",
    "    train_dataset,\n",
    "    # batches of 4 during training\n",
    "    batch_size = 4,\n",
    "    # don't learn from the order of the dataset!\n",
    "    shuffle = True,\n",
    "    # what does num_workers do? @$@\n",
    "    # multy processing. (0 = 1 process to load data)\n",
    "    # how many processes can you do? \n",
    "    num_workers = 0\n",
    ")\n",
    "\n",
    "#want results without any randomness, therfore shuffle is False for these\n",
    "val_dataloader = DataLoader(val_dataset, batch_size = 4, shuffle = False, num_workers = 0)\n",
    "test_dataloader = DataLoader(test_dataset, batch_size = 4, shuffle = False, num_workers = 0)"
   ]
  },
  {
   "cell_type": "code",
   "execution_count": 114,
   "id": "36fd2d5f",
   "metadata": {},
   "outputs": [
    {
     "name": "stdout",
     "output_type": "stream",
     "text": [
      "{'labels': tensor(0), 'features': tensor([ 1.0961, -2.0715,  1.2688,  0.9835,  1.5671,  3.2806,  2.6505,  2.5302,\n",
      "         2.2156,  2.2538,  2.4875, -0.5648,  2.8305,  2.4854, -0.2138,  1.3157,\n",
      "         0.7234,  0.6602,  1.1477,  0.9063,  1.8850, -1.3581,  2.3016,  1.9995,\n",
      "         1.3065,  2.6144,  2.1077,  2.2941,  2.7482,  1.9353])}\n"
     ]
    },
    {
     "name": "stderr",
     "output_type": "stream",
     "text": [
      "C:\\Users\\dansc\\AppData\\Local\\Temp\\ipykernel_6952\\782166347.py:28: DeprecationWarning: an integer is required (got type numpy.float64).  Implicit conversion to integers using __int__ is deprecated, and may be removed in a future version of Python.\n",
      "  labels = torch.tensor(self.labels[idx], dtype = torch.long)\n"
     ]
    }
   ],
   "source": [
    "# peak into the dataset\n",
    "for i in cancer_dataset:\n",
    "    print(i)\n",
    "    break"
   ]
  },
  {
   "cell_type": "markdown",
   "id": "0af85b59",
   "metadata": {},
   "source": [
    "## Neural Network"
   ]
  },
  {
   "cell_type": "code",
   "execution_count": 115,
   "id": "1e595fa2",
   "metadata": {},
   "outputs": [],
   "source": [
    "# change the device to gpu if available\n",
    "device = torch.device('cuda' if torch.cuda.is_available() else 'cpu')"
   ]
  },
  {
   "cell_type": "code",
   "execution_count": 116,
   "id": "0c9042e1",
   "metadata": {},
   "outputs": [],
   "source": [
    "#defines new class named CancerModel, inherits from torch.blah\n",
    "class CancerModel(torch.nn.Module):\n",
    "\n",
    "    def __init__(self):\n",
    "        # initialize in the same way the parent class does first\n",
    "        super(CancerModel, self).__init__()\n",
    "        \n",
    "        # create linear layer. 11 inputs 200 outputs?\n",
    "        self.linear1 = torch.nn.Linear(30, 210)                \n",
    "        # creates activation function (What does this do and how does it work @$@)\n",
    "        self.activation = torch.nn.ReLU()\n",
    "        \n",
    "        # a second linear layer. Takes in 200 and outputs 6 (one corresponding to each feature)\n",
    "        self.linear2 = torch.nn.Linear(210, 1)              \n",
    "         \n",
    "        # sigmoid activation for binary\n",
    "        self.sigmoiud = torch.nn.Sigmoid()\n",
    "    \n",
    "    # defines forward pass of nn\n",
    "    # sends input through the tunnel: lin1 -> act -> line2 -> softmax \n",
    "    def forward(self, x):\n",
    "        x = self.linear1(x)\n",
    "        x = self.activation(x)\n",
    "        x = self.linear2(x)\n",
    "        x = self.activation(x)\n",
    "        x = self.sigmoiud(x)\n",
    "        return x\n",
    "\n",
    "# earlier we set device to cpu or gpu\n",
    "# create this CancerModel object, then move to cpu or gpu\n",
    "cancermodel = CancerModel().to(device)"
   ]
  },
  {
   "cell_type": "code",
   "execution_count": 117,
   "id": "dfd224aa",
   "metadata": {},
   "outputs": [],
   "source": [
    "# Define and the loss function and optimizer\n",
    "# we are trying binary cross entropy loss\n",
    "criterion = nn.BCEWithLogitsLoss().to(device)\n",
    "\n",
    "# an optimizer @$@ what does it do? \n",
    "# specify the learning rate\n",
    "optimizer = AdamW(cancermodel.parameters(), lr = 1e-3)"
   ]
  },
  {
   "cell_type": "code",
   "execution_count": 126,
   "id": "deb94b98",
   "metadata": {},
   "outputs": [],
   "source": [
    "# Lets define the training steps\n",
    "def accuracy(preds, labels):\n",
    "    preds = torch.argmax(preds, dim=1).flatten()\n",
    "    labels = labels.flatten()\n",
    "    return torch.sum(preds == labels) / len(labels)\n",
    "\n",
    "def train(model, data_loader, optimizer, criterion):\n",
    "    epoch_loss = 0\n",
    "    epoch_acc = 0\n",
    "    \n",
    "    # activate training mode\n",
    "    model.train()\n",
    "    \n",
    "    # iterate over batches\n",
    "    for d in tqdm(data_loader):\n",
    "        inputs = d['features'].to(device)\n",
    "        labels = d['labels'].unsqueeze(1).to(device)  # Adjusting the shape of the target tensor\n",
    "        labels = labels.float()  # Cast labels to float32\n",
    "        \n",
    "        # obtaining predictions\n",
    "        outputs = cancermodel(inputs)\n",
    "        preds = (outputs > 0.5).float()  # Convert logits to binary predictions\n",
    "        \n",
    "        # calulate loss and accuracy by comparing predictions to labels\n",
    "        loss = criterion(outputs, labels)\n",
    "        acc = accuracy(preds, labels)  # Use binary accuracy function\n",
    "        \n",
    "        # Backpropagation\n",
    "        loss.backward()\n",
    "        optimizer.step()\n",
    "        optimizer.zero_grad()\n",
    "        \n",
    "        epoch_loss += loss.item()\n",
    "        epoch_acc += acc.item()\n",
    "\n",
    "    return epoch_loss / len(data_loader), epoch_acc / len(data_loader)\n",
    "\n",
    "\n",
    "# Lets define the testing steps\n",
    "def evaluate(model, data_loader, criterion):\n",
    "    epoch_loss = 0\n",
    "    epoch_acc = 0\n",
    "    epoch_precision = 0\n",
    "    epoch_recall = 0\n",
    "    epoch_f1 = 0\n",
    "    \n",
    "    # eval mode activate!\n",
    "    model.eval()\n",
    "    \n",
    "    # iterate over batches (later we will average the huge sum)\n",
    "    with torch.no_grad():\n",
    "        for d in data_loader:\n",
    "            # extract labels and features from batch and send to cpu/gpu\n",
    "            inputs = d['features'].to(device)\n",
    "            labels = d['labels'].unsqueeze(1).to(device)  # Adjusting the shape of the target tensor\n",
    "            labels = labels.float()  # Convert labels to float32\n",
    "            \n",
    "            # use model to get predictions\n",
    "            outputs = cancermodel(inputs)\n",
    "            \n",
    "            #  get loss and accuracy\n",
    "            loss = criterion(outputs, labels)\n",
    "            acc = accuracy(outputs, labels)\n",
    "            \n",
    "            # run a big sum!\n",
    "            epoch_loss += loss.item()\n",
    "            epoch_acc += acc.item()\n",
    "            precision = precision_score(labels.cpu(), outputs.cpu() > 0.5, average='weighted')\n",
    "            recall = recall_score(labels.cpu(), outputs.cpu() > 0.5, average='weighted')\n",
    "            f1 = f1_score(labels.cpu(), outputs.cpu() > 0.5, average='weighted')\n",
    "            epoch_precision += precision\n",
    "            epoch_recall += recall\n",
    "            epoch_f1 += f1\n",
    "\n",
    "    # average big sums by # of epochs\n",
    "    num_batches = len(data_loader)\n",
    "    return (epoch_loss / num_batches, \n",
    "            epoch_acc / num_batches, \n",
    "            epoch_precision / num_batches, \n",
    "            epoch_recall / num_batches,\n",
    "            epoch_f1 / num_batches)\n"
   ]
  },
  {
   "cell_type": "code",
   "execution_count": null,
   "id": "f5ddfffa",
   "metadata": {},
   "outputs": [
    {
     "data": {
      "application/vnd.jupyter.widget-view+json": {
       "model_id": "459163aaffa4475ab3797d2f8c526a8a",
       "version_major": 2,
       "version_minor": 0
      },
      "text/plain": [
       "  0%|          | 0/114 [00:00<?, ?it/s]"
      ]
     },
     "metadata": {},
     "output_type": "display_data"
    },
    {
     "name": "stdout",
     "output_type": "stream",
     "text": [
      "| Epoch: 01 | Train Loss: 0.565 | Train Acc: 37.94% | Val. Loss: 0.604 | Val. Acc: 41.67% | Val. Precision: 0.981 | Val. Recall: 0.950 | Val. F1-score: 0.951 |\n"
     ]
    },
    {
     "data": {
      "application/vnd.jupyter.widget-view+json": {
       "model_id": "f57021e8fd4e4509832fb0b00dc8781c",
       "version_major": 2,
       "version_minor": 0
      },
      "text/plain": [
       "  0%|          | 0/114 [00:00<?, ?it/s]"
      ]
     },
     "metadata": {},
     "output_type": "display_data"
    },
    {
     "name": "stdout",
     "output_type": "stream",
     "text": [
      "| Epoch: 02 | Train Loss: 0.565 | Train Acc: 37.94% | Val. Loss: 0.604 | Val. Acc: 41.67% | Val. Precision: 0.981 | Val. Recall: 0.950 | Val. F1-score: 0.951 |\n"
     ]
    },
    {
     "data": {
      "application/vnd.jupyter.widget-view+json": {
       "model_id": "ec100c45b583427ab88c182c7b41c89e",
       "version_major": 2,
       "version_minor": 0
      },
      "text/plain": [
       "  0%|          | 0/114 [00:00<?, ?it/s]"
      ]
     },
     "metadata": {},
     "output_type": "display_data"
    },
    {
     "name": "stdout",
     "output_type": "stream",
     "text": [
      "| Epoch: 03 | Train Loss: 0.565 | Train Acc: 37.94% | Val. Loss: 0.604 | Val. Acc: 41.67% | Val. Precision: 0.981 | Val. Recall: 0.950 | Val. F1-score: 0.951 |\n"
     ]
    },
    {
     "data": {
      "application/vnd.jupyter.widget-view+json": {
       "model_id": "fbf63208378a4ce896af2edcf55b1c45",
       "version_major": 2,
       "version_minor": 0
      },
      "text/plain": [
       "  0%|          | 0/114 [00:00<?, ?it/s]"
      ]
     },
     "metadata": {},
     "output_type": "display_data"
    },
    {
     "name": "stdout",
     "output_type": "stream",
     "text": [
      "| Epoch: 04 | Train Loss: 0.565 | Train Acc: 37.94% | Val. Loss: 0.604 | Val. Acc: 41.67% | Val. Precision: 0.981 | Val. Recall: 0.950 | Val. F1-score: 0.951 |\n"
     ]
    },
    {
     "data": {
      "application/vnd.jupyter.widget-view+json": {
       "model_id": "91d1891edc11491b9e3d96f8f2504d3a",
       "version_major": 2,
       "version_minor": 0
      },
      "text/plain": [
       "  0%|          | 0/114 [00:00<?, ?it/s]"
      ]
     },
     "metadata": {},
     "output_type": "display_data"
    },
    {
     "name": "stdout",
     "output_type": "stream",
     "text": [
      "| Epoch: 05 | Train Loss: 0.566 | Train Acc: 37.94% | Val. Loss: 0.602 | Val. Acc: 41.67% | Val. Precision: 0.983 | Val. Recall: 0.967 | Val. F1-score: 0.969 |\n"
     ]
    },
    {
     "data": {
      "application/vnd.jupyter.widget-view+json": {
       "model_id": "8460a9ad123b4cd2884b5aa598290453",
       "version_major": 2,
       "version_minor": 0
      },
      "text/plain": [
       "  0%|          | 0/114 [00:00<?, ?it/s]"
      ]
     },
     "metadata": {},
     "output_type": "display_data"
    },
    {
     "name": "stdout",
     "output_type": "stream",
     "text": [
      "| Epoch: 06 | Train Loss: 0.566 | Train Acc: 37.94% | Val. Loss: 0.602 | Val. Acc: 41.67% | Val. Precision: 0.983 | Val. Recall: 0.967 | Val. F1-score: 0.969 |\n"
     ]
    },
    {
     "data": {
      "application/vnd.jupyter.widget-view+json": {
       "model_id": "4957a9d9cd854b1fb79d0e4660ddcbbe",
       "version_major": 2,
       "version_minor": 0
      },
      "text/plain": [
       "  0%|          | 0/114 [00:00<?, ?it/s]"
      ]
     },
     "metadata": {},
     "output_type": "display_data"
    },
    {
     "name": "stdout",
     "output_type": "stream",
     "text": [
      "| Epoch: 07 | Train Loss: 0.566 | Train Acc: 37.94% | Val. Loss: 0.601 | Val. Acc: 41.67% | Val. Precision: 0.983 | Val. Recall: 0.967 | Val. F1-score: 0.969 |\n"
     ]
    },
    {
     "data": {
      "application/vnd.jupyter.widget-view+json": {
       "model_id": "412dd7cb8e6f4c35a8fa4fb8277275bf",
       "version_major": 2,
       "version_minor": 0
      },
      "text/plain": [
       "  0%|          | 0/114 [00:00<?, ?it/s]"
      ]
     },
     "metadata": {},
     "output_type": "display_data"
    },
    {
     "name": "stdout",
     "output_type": "stream",
     "text": [
      "| Epoch: 08 | Train Loss: 0.566 | Train Acc: 37.94% | Val. Loss: 0.602 | Val. Acc: 41.67% | Val. Precision: 0.983 | Val. Recall: 0.967 | Val. F1-score: 0.969 |\n"
     ]
    },
    {
     "data": {
      "application/vnd.jupyter.widget-view+json": {
       "model_id": "fade024e116a4882a51e09108b28a9ec",
       "version_major": 2,
       "version_minor": 0
      },
      "text/plain": [
       "  0%|          | 0/114 [00:00<?, ?it/s]"
      ]
     },
     "metadata": {},
     "output_type": "display_data"
    },
    {
     "name": "stdout",
     "output_type": "stream",
     "text": [
      "| Epoch: 09 | Train Loss: 0.566 | Train Acc: 37.94% | Val. Loss: 0.601 | Val. Acc: 41.67% | Val. Precision: 0.983 | Val. Recall: 0.967 | Val. F1-score: 0.969 |\n"
     ]
    },
    {
     "data": {
      "application/vnd.jupyter.widget-view+json": {
       "model_id": "1bd88e3f8c4a4274b1ee0f5af1020e95",
       "version_major": 2,
       "version_minor": 0
      },
      "text/plain": [
       "  0%|          | 0/114 [00:00<?, ?it/s]"
      ]
     },
     "metadata": {},
     "output_type": "display_data"
    },
    {
     "name": "stdout",
     "output_type": "stream",
     "text": [
      "| Epoch: 10 | Train Loss: 0.566 | Train Acc: 37.94% | Val. Loss: 0.600 | Val. Acc: 41.67% | Val. Precision: 0.983 | Val. Recall: 0.967 | Val. F1-score: 0.969 |\n"
     ]
    },
    {
     "data": {
      "application/vnd.jupyter.widget-view+json": {
       "model_id": "02980143bd9f4916ac3e8c825dcf6a20",
       "version_major": 2,
       "version_minor": 0
      },
      "text/plain": [
       "  0%|          | 0/114 [00:00<?, ?it/s]"
      ]
     },
     "metadata": {},
     "output_type": "display_data"
    },
    {
     "name": "stdout",
     "output_type": "stream",
     "text": [
      "| Epoch: 11 | Train Loss: 0.565 | Train Acc: 37.94% | Val. Loss: 0.600 | Val. Acc: 41.67% | Val. Precision: 0.983 | Val. Recall: 0.967 | Val. F1-score: 0.969 |\n"
     ]
    },
    {
     "data": {
      "application/vnd.jupyter.widget-view+json": {
       "model_id": "fb222457753b41769fe33d435fe02ba7",
       "version_major": 2,
       "version_minor": 0
      },
      "text/plain": [
       "  0%|          | 0/114 [00:00<?, ?it/s]"
      ]
     },
     "metadata": {},
     "output_type": "display_data"
    },
    {
     "name": "stdout",
     "output_type": "stream",
     "text": [
      "| Epoch: 12 | Train Loss: 0.565 | Train Acc: 37.94% | Val. Loss: 0.600 | Val. Acc: 41.67% | Val. Precision: 0.983 | Val. Recall: 0.967 | Val. F1-score: 0.969 |\n"
     ]
    },
    {
     "data": {
      "application/vnd.jupyter.widget-view+json": {
       "model_id": "c49a024ee18143c9a193a523bae20b2a",
       "version_major": 2,
       "version_minor": 0
      },
      "text/plain": [
       "  0%|          | 0/114 [00:00<?, ?it/s]"
      ]
     },
     "metadata": {},
     "output_type": "display_data"
    },
    {
     "name": "stdout",
     "output_type": "stream",
     "text": [
      "| Epoch: 13 | Train Loss: 0.565 | Train Acc: 37.94% | Val. Loss: 0.600 | Val. Acc: 41.67% | Val. Precision: 0.983 | Val. Recall: 0.967 | Val. F1-score: 0.969 |\n"
     ]
    },
    {
     "data": {
      "application/vnd.jupyter.widget-view+json": {
       "model_id": "340137d4fb5244899069572bc9a90917",
       "version_major": 2,
       "version_minor": 0
      },
      "text/plain": [
       "  0%|          | 0/114 [00:00<?, ?it/s]"
      ]
     },
     "metadata": {},
     "output_type": "display_data"
    },
    {
     "name": "stdout",
     "output_type": "stream",
     "text": [
      "| Epoch: 14 | Train Loss: 0.566 | Train Acc: 37.94% | Val. Loss: 0.600 | Val. Acc: 41.67% | Val. Precision: 0.983 | Val. Recall: 0.967 | Val. F1-score: 0.969 |\n"
     ]
    },
    {
     "data": {
      "application/vnd.jupyter.widget-view+json": {
       "model_id": "08f182167f1f41a7911f188be171ae9d",
       "version_major": 2,
       "version_minor": 0
      },
      "text/plain": [
       "  0%|          | 0/114 [00:00<?, ?it/s]"
      ]
     },
     "metadata": {},
     "output_type": "display_data"
    },
    {
     "name": "stdout",
     "output_type": "stream",
     "text": [
      "| Epoch: 15 | Train Loss: 0.566 | Train Acc: 37.94% | Val. Loss: 0.600 | Val. Acc: 41.67% | Val. Precision: 0.983 | Val. Recall: 0.967 | Val. F1-score: 0.969 |\n"
     ]
    },
    {
     "data": {
      "application/vnd.jupyter.widget-view+json": {
       "model_id": "5e975619230d4a67af1e1aabb8a56218",
       "version_major": 2,
       "version_minor": 0
      },
      "text/plain": [
       "  0%|          | 0/114 [00:00<?, ?it/s]"
      ]
     },
     "metadata": {},
     "output_type": "display_data"
    },
    {
     "name": "stdout",
     "output_type": "stream",
     "text": [
      "| Epoch: 16 | Train Loss: 0.565 | Train Acc: 37.94% | Val. Loss: 0.600 | Val. Acc: 41.67% | Val. Precision: 0.983 | Val. Recall: 0.967 | Val. F1-score: 0.969 |\n"
     ]
    },
    {
     "data": {
      "application/vnd.jupyter.widget-view+json": {
       "model_id": "651fd9d64464446296ee0a01bddb04a4",
       "version_major": 2,
       "version_minor": 0
      },
      "text/plain": [
       "  0%|          | 0/114 [00:00<?, ?it/s]"
      ]
     },
     "metadata": {},
     "output_type": "display_data"
    },
    {
     "name": "stdout",
     "output_type": "stream",
     "text": [
      "| Epoch: 17 | Train Loss: 0.565 | Train Acc: 37.94% | Val. Loss: 0.600 | Val. Acc: 41.67% | Val. Precision: 0.983 | Val. Recall: 0.967 | Val. F1-score: 0.969 |\n"
     ]
    },
    {
     "data": {
      "application/vnd.jupyter.widget-view+json": {
       "model_id": "53c99fe9f9f747c5bfdc30dc8bb4cab6",
       "version_major": 2,
       "version_minor": 0
      },
      "text/plain": [
       "  0%|          | 0/114 [00:00<?, ?it/s]"
      ]
     },
     "metadata": {},
     "output_type": "display_data"
    },
    {
     "name": "stdout",
     "output_type": "stream",
     "text": [
      "| Epoch: 18 | Train Loss: 0.565 | Train Acc: 37.94% | Val. Loss: 0.600 | Val. Acc: 41.67% | Val. Precision: 0.983 | Val. Recall: 0.967 | Val. F1-score: 0.969 |\n"
     ]
    },
    {
     "data": {
      "application/vnd.jupyter.widget-view+json": {
       "model_id": "041efd5445974e3da763753825013633",
       "version_major": 2,
       "version_minor": 0
      },
      "text/plain": [
       "  0%|          | 0/114 [00:00<?, ?it/s]"
      ]
     },
     "metadata": {},
     "output_type": "display_data"
    },
    {
     "name": "stdout",
     "output_type": "stream",
     "text": [
      "| Epoch: 19 | Train Loss: 0.565 | Train Acc: 37.94% | Val. Loss: 0.600 | Val. Acc: 41.67% | Val. Precision: 0.983 | Val. Recall: 0.967 | Val. F1-score: 0.969 |\n"
     ]
    },
    {
     "data": {
      "application/vnd.jupyter.widget-view+json": {
       "model_id": "ac53390aa7724a44b2a117e9177207a9",
       "version_major": 2,
       "version_minor": 0
      },
      "text/plain": [
       "  0%|          | 0/114 [00:00<?, ?it/s]"
      ]
     },
     "metadata": {},
     "output_type": "display_data"
    },
    {
     "name": "stdout",
     "output_type": "stream",
     "text": [
      "| Epoch: 20 | Train Loss: 0.565 | Train Acc: 37.94% | Val. Loss: 0.600 | Val. Acc: 41.67% | Val. Precision: 0.983 | Val. Recall: 0.967 | Val. F1-score: 0.969 |\n"
     ]
    },
    {
     "data": {
      "application/vnd.jupyter.widget-view+json": {
       "model_id": "9e9610df6f394704861b6994b8147e1a",
       "version_major": 2,
       "version_minor": 0
      },
      "text/plain": [
       "  0%|          | 0/114 [00:00<?, ?it/s]"
      ]
     },
     "metadata": {},
     "output_type": "display_data"
    },
    {
     "name": "stdout",
     "output_type": "stream",
     "text": [
      "| Epoch: 21 | Train Loss: 0.565 | Train Acc: 37.94% | Val. Loss: 0.600 | Val. Acc: 41.67% | Val. Precision: 0.983 | Val. Recall: 0.967 | Val. F1-score: 0.969 |\n"
     ]
    },
    {
     "data": {
      "application/vnd.jupyter.widget-view+json": {
       "model_id": "4283b9c425a74f5ab27587139ee765ee",
       "version_major": 2,
       "version_minor": 0
      },
      "text/plain": [
       "  0%|          | 0/114 [00:00<?, ?it/s]"
      ]
     },
     "metadata": {},
     "output_type": "display_data"
    },
    {
     "name": "stdout",
     "output_type": "stream",
     "text": [
      "| Epoch: 22 | Train Loss: 0.565 | Train Acc: 37.94% | Val. Loss: 0.600 | Val. Acc: 41.67% | Val. Precision: 0.983 | Val. Recall: 0.967 | Val. F1-score: 0.969 |\n"
     ]
    },
    {
     "data": {
      "application/vnd.jupyter.widget-view+json": {
       "model_id": "003695ac096f4fdeb2b03e8c23887e13",
       "version_major": 2,
       "version_minor": 0
      },
      "text/plain": [
       "  0%|          | 0/114 [00:00<?, ?it/s]"
      ]
     },
     "metadata": {},
     "output_type": "display_data"
    },
    {
     "name": "stdout",
     "output_type": "stream",
     "text": [
      "| Epoch: 23 | Train Loss: 0.565 | Train Acc: 37.94% | Val. Loss: 0.600 | Val. Acc: 41.67% | Val. Precision: 0.983 | Val. Recall: 0.967 | Val. F1-score: 0.969 |\n"
     ]
    },
    {
     "data": {
      "application/vnd.jupyter.widget-view+json": {
       "model_id": "221495b94fa44b4695774559b2ef0584",
       "version_major": 2,
       "version_minor": 0
      },
      "text/plain": [
       "  0%|          | 0/114 [00:00<?, ?it/s]"
      ]
     },
     "metadata": {},
     "output_type": "display_data"
    },
    {
     "name": "stdout",
     "output_type": "stream",
     "text": [
      "| Epoch: 24 | Train Loss: 0.565 | Train Acc: 37.94% | Val. Loss: 0.600 | Val. Acc: 41.67% | Val. Precision: 0.983 | Val. Recall: 0.967 | Val. F1-score: 0.969 |\n"
     ]
    },
    {
     "data": {
      "application/vnd.jupyter.widget-view+json": {
       "model_id": "1c5bc9e2ec444561ae5f018afd70061f",
       "version_major": 2,
       "version_minor": 0
      },
      "text/plain": [
       "  0%|          | 0/114 [00:00<?, ?it/s]"
      ]
     },
     "metadata": {},
     "output_type": "display_data"
    },
    {
     "name": "stdout",
     "output_type": "stream",
     "text": [
      "| Epoch: 25 | Train Loss: 0.565 | Train Acc: 37.94% | Val. Loss: 0.600 | Val. Acc: 41.67% | Val. Precision: 0.983 | Val. Recall: 0.967 | Val. F1-score: 0.969 |\n"
     ]
    },
    {
     "data": {
      "application/vnd.jupyter.widget-view+json": {
       "model_id": "e8d7f4eac9ae4542af73cfbd9e052487",
       "version_major": 2,
       "version_minor": 0
      },
      "text/plain": [
       "  0%|          | 0/114 [00:00<?, ?it/s]"
      ]
     },
     "metadata": {},
     "output_type": "display_data"
    },
    {
     "name": "stdout",
     "output_type": "stream",
     "text": [
      "| Epoch: 26 | Train Loss: 0.565 | Train Acc: 37.94% | Val. Loss: 0.600 | Val. Acc: 41.67% | Val. Precision: 0.983 | Val. Recall: 0.967 | Val. F1-score: 0.969 |\n"
     ]
    },
    {
     "data": {
      "application/vnd.jupyter.widget-view+json": {
       "model_id": "d0fe7904ff0b48adbad28336797e08cc",
       "version_major": 2,
       "version_minor": 0
      },
      "text/plain": [
       "  0%|          | 0/114 [00:00<?, ?it/s]"
      ]
     },
     "metadata": {},
     "output_type": "display_data"
    },
    {
     "name": "stdout",
     "output_type": "stream",
     "text": [
      "| Epoch: 27 | Train Loss: 0.565 | Train Acc: 37.94% | Val. Loss: 0.600 | Val. Acc: 41.67% | Val. Precision: 0.983 | Val. Recall: 0.967 | Val. F1-score: 0.969 |\n"
     ]
    },
    {
     "data": {
      "application/vnd.jupyter.widget-view+json": {
       "model_id": "d9505f06858b45ce8510cc822cf1ca98",
       "version_major": 2,
       "version_minor": 0
      },
      "text/plain": [
       "  0%|          | 0/114 [00:00<?, ?it/s]"
      ]
     },
     "metadata": {},
     "output_type": "display_data"
    },
    {
     "name": "stdout",
     "output_type": "stream",
     "text": [
      "| Epoch: 28 | Train Loss: 0.565 | Train Acc: 37.94% | Val. Loss: 0.600 | Val. Acc: 41.67% | Val. Precision: 0.983 | Val. Recall: 0.967 | Val. F1-score: 0.969 |\n"
     ]
    },
    {
     "data": {
      "application/vnd.jupyter.widget-view+json": {
       "model_id": "a481c0dee287458bb1d1a0d0563f2dbe",
       "version_major": 2,
       "version_minor": 0
      },
      "text/plain": [
       "  0%|          | 0/114 [00:00<?, ?it/s]"
      ]
     },
     "metadata": {},
     "output_type": "display_data"
    },
    {
     "name": "stdout",
     "output_type": "stream",
     "text": [
      "| Epoch: 29 | Train Loss: 0.565 | Train Acc: 37.94% | Val. Loss: 0.600 | Val. Acc: 41.67% | Val. Precision: 0.983 | Val. Recall: 0.967 | Val. F1-score: 0.969 |\n"
     ]
    },
    {
     "data": {
      "application/vnd.jupyter.widget-view+json": {
       "model_id": "4424e69149904548b00103f34350c465",
       "version_major": 2,
       "version_minor": 0
      },
      "text/plain": [
       "  0%|          | 0/114 [00:00<?, ?it/s]"
      ]
     },
     "metadata": {},
     "output_type": "display_data"
    },
    {
     "name": "stdout",
     "output_type": "stream",
     "text": [
      "| Epoch: 30 | Train Loss: 0.565 | Train Acc: 37.94% | Val. Loss: 0.600 | Val. Acc: 41.67% | Val. Precision: 0.983 | Val. Recall: 0.967 | Val. F1-score: 0.969 |\n"
     ]
    },
    {
     "data": {
      "application/vnd.jupyter.widget-view+json": {
       "model_id": "62ff115a5a024a9ebc5d1416e04a4a36",
       "version_major": 2,
       "version_minor": 0
      },
      "text/plain": [
       "  0%|          | 0/114 [00:00<?, ?it/s]"
      ]
     },
     "metadata": {},
     "output_type": "display_data"
    },
    {
     "name": "stdout",
     "output_type": "stream",
     "text": [
      "| Epoch: 31 | Train Loss: 0.565 | Train Acc: 37.94% | Val. Loss: 0.600 | Val. Acc: 41.67% | Val. Precision: 0.983 | Val. Recall: 0.967 | Val. F1-score: 0.969 |\n"
     ]
    },
    {
     "data": {
      "application/vnd.jupyter.widget-view+json": {
       "model_id": "ad50fa5ce8284efa91803e1dab7b7ef0",
       "version_major": 2,
       "version_minor": 0
      },
      "text/plain": [
       "  0%|          | 0/114 [00:00<?, ?it/s]"
      ]
     },
     "metadata": {},
     "output_type": "display_data"
    },
    {
     "name": "stdout",
     "output_type": "stream",
     "text": [
      "| Epoch: 32 | Train Loss: 0.565 | Train Acc: 37.94% | Val. Loss: 0.600 | Val. Acc: 41.67% | Val. Precision: 0.983 | Val. Recall: 0.967 | Val. F1-score: 0.969 |\n"
     ]
    },
    {
     "data": {
      "application/vnd.jupyter.widget-view+json": {
       "model_id": "7afd22a7c8084d37a428f03ba45a410a",
       "version_major": 2,
       "version_minor": 0
      },
      "text/plain": [
       "  0%|          | 0/114 [00:00<?, ?it/s]"
      ]
     },
     "metadata": {},
     "output_type": "display_data"
    },
    {
     "name": "stdout",
     "output_type": "stream",
     "text": [
      "| Epoch: 33 | Train Loss: 0.565 | Train Acc: 37.94% | Val. Loss: 0.600 | Val. Acc: 41.67% | Val. Precision: 0.983 | Val. Recall: 0.967 | Val. F1-score: 0.969 |\n"
     ]
    },
    {
     "data": {
      "application/vnd.jupyter.widget-view+json": {
       "model_id": "0a27e4c8bd1444cea7f4807d16c16ccb",
       "version_major": 2,
       "version_minor": 0
      },
      "text/plain": [
       "  0%|          | 0/114 [00:00<?, ?it/s]"
      ]
     },
     "metadata": {},
     "output_type": "display_data"
    },
    {
     "name": "stdout",
     "output_type": "stream",
     "text": [
      "| Epoch: 34 | Train Loss: 0.565 | Train Acc: 37.94% | Val. Loss: 0.600 | Val. Acc: 41.67% | Val. Precision: 0.983 | Val. Recall: 0.967 | Val. F1-score: 0.969 |\n"
     ]
    },
    {
     "data": {
      "application/vnd.jupyter.widget-view+json": {
       "model_id": "e5e2e5b334c443bc8a147ff0285bd20d",
       "version_major": 2,
       "version_minor": 0
      },
      "text/plain": [
       "  0%|          | 0/114 [00:00<?, ?it/s]"
      ]
     },
     "metadata": {},
     "output_type": "display_data"
    },
    {
     "name": "stdout",
     "output_type": "stream",
     "text": [
      "| Epoch: 35 | Train Loss: 0.565 | Train Acc: 37.94% | Val. Loss: 0.600 | Val. Acc: 41.67% | Val. Precision: 0.983 | Val. Recall: 0.967 | Val. F1-score: 0.969 |\n"
     ]
    },
    {
     "data": {
      "application/vnd.jupyter.widget-view+json": {
       "model_id": "402f224b2d164de6998f1562ed73a6ca",
       "version_major": 2,
       "version_minor": 0
      },
      "text/plain": [
       "  0%|          | 0/114 [00:00<?, ?it/s]"
      ]
     },
     "metadata": {},
     "output_type": "display_data"
    },
    {
     "name": "stdout",
     "output_type": "stream",
     "text": [
      "| Epoch: 36 | Train Loss: 0.565 | Train Acc: 37.94% | Val. Loss: 0.600 | Val. Acc: 41.67% | Val. Precision: 0.981 | Val. Recall: 0.950 | Val. F1-score: 0.951 |\n"
     ]
    },
    {
     "data": {
      "application/vnd.jupyter.widget-view+json": {
       "model_id": "9ad16392c58e4de8bc4067db430a1856",
       "version_major": 2,
       "version_minor": 0
      },
      "text/plain": [
       "  0%|          | 0/114 [00:00<?, ?it/s]"
      ]
     },
     "metadata": {},
     "output_type": "display_data"
    },
    {
     "name": "stdout",
     "output_type": "stream",
     "text": [
      "| Epoch: 37 | Train Loss: 0.565 | Train Acc: 37.94% | Val. Loss: 0.600 | Val. Acc: 41.67% | Val. Precision: 0.981 | Val. Recall: 0.950 | Val. F1-score: 0.951 |\n"
     ]
    },
    {
     "data": {
      "application/vnd.jupyter.widget-view+json": {
       "model_id": "80154dfc89c94794bc019323910b1c92",
       "version_major": 2,
       "version_minor": 0
      },
      "text/plain": [
       "  0%|          | 0/114 [00:00<?, ?it/s]"
      ]
     },
     "metadata": {},
     "output_type": "display_data"
    },
    {
     "name": "stdout",
     "output_type": "stream",
     "text": [
      "| Epoch: 38 | Train Loss: 0.565 | Train Acc: 37.94% | Val. Loss: 0.601 | Val. Acc: 41.67% | Val. Precision: 0.981 | Val. Recall: 0.950 | Val. F1-score: 0.951 |\n"
     ]
    },
    {
     "data": {
      "application/vnd.jupyter.widget-view+json": {
       "model_id": "f008f7835cd54129a2d494edbc39ab0f",
       "version_major": 2,
       "version_minor": 0
      },
      "text/plain": [
       "  0%|          | 0/114 [00:00<?, ?it/s]"
      ]
     },
     "metadata": {},
     "output_type": "display_data"
    },
    {
     "name": "stdout",
     "output_type": "stream",
     "text": [
      "| Epoch: 39 | Train Loss: 0.565 | Train Acc: 37.94% | Val. Loss: 0.601 | Val. Acc: 41.67% | Val. Precision: 0.981 | Val. Recall: 0.950 | Val. F1-score: 0.951 |\n"
     ]
    },
    {
     "data": {
      "application/vnd.jupyter.widget-view+json": {
       "model_id": "5b1b176f95b14832bd6492c1ede7140f",
       "version_major": 2,
       "version_minor": 0
      },
      "text/plain": [
       "  0%|          | 0/114 [00:00<?, ?it/s]"
      ]
     },
     "metadata": {},
     "output_type": "display_data"
    },
    {
     "name": "stdout",
     "output_type": "stream",
     "text": [
      "| Epoch: 40 | Train Loss: 0.565 | Train Acc: 37.94% | Val. Loss: 0.602 | Val. Acc: 41.67% | Val. Precision: 0.981 | Val. Recall: 0.950 | Val. F1-score: 0.951 |\n"
     ]
    },
    {
     "data": {
      "application/vnd.jupyter.widget-view+json": {
       "model_id": "c0a37ded9bd54a1b96bd24ccad627b01",
       "version_major": 2,
       "version_minor": 0
      },
      "text/plain": [
       "  0%|          | 0/114 [00:00<?, ?it/s]"
      ]
     },
     "metadata": {},
     "output_type": "display_data"
    },
    {
     "name": "stdout",
     "output_type": "stream",
     "text": [
      "| Epoch: 41 | Train Loss: 0.565 | Train Acc: 37.94% | Val. Loss: 0.602 | Val. Acc: 41.67% | Val. Precision: 0.981 | Val. Recall: 0.950 | Val. F1-score: 0.951 |\n"
     ]
    },
    {
     "data": {
      "application/vnd.jupyter.widget-view+json": {
       "model_id": "2fb3d148c79644a692bfda2310e466ff",
       "version_major": 2,
       "version_minor": 0
      },
      "text/plain": [
       "  0%|          | 0/114 [00:00<?, ?it/s]"
      ]
     },
     "metadata": {},
     "output_type": "display_data"
    },
    {
     "name": "stdout",
     "output_type": "stream",
     "text": [
      "| Epoch: 42 | Train Loss: 0.565 | Train Acc: 37.94% | Val. Loss: 0.602 | Val. Acc: 41.67% | Val. Precision: 0.981 | Val. Recall: 0.950 | Val. F1-score: 0.951 |\n"
     ]
    },
    {
     "data": {
      "application/vnd.jupyter.widget-view+json": {
       "model_id": "78bfce8e831647889f36db46a7eea9af",
       "version_major": 2,
       "version_minor": 0
      },
      "text/plain": [
       "  0%|          | 0/114 [00:00<?, ?it/s]"
      ]
     },
     "metadata": {},
     "output_type": "display_data"
    },
    {
     "name": "stdout",
     "output_type": "stream",
     "text": [
      "| Epoch: 43 | Train Loss: 0.565 | Train Acc: 37.94% | Val. Loss: 0.603 | Val. Acc: 41.67% | Val. Precision: 0.981 | Val. Recall: 0.950 | Val. F1-score: 0.951 |\n"
     ]
    },
    {
     "data": {
      "application/vnd.jupyter.widget-view+json": {
       "model_id": "0f60e9bdaf594f0b9f23e072e155a531",
       "version_major": 2,
       "version_minor": 0
      },
      "text/plain": [
       "  0%|          | 0/114 [00:00<?, ?it/s]"
      ]
     },
     "metadata": {},
     "output_type": "display_data"
    },
    {
     "name": "stdout",
     "output_type": "stream",
     "text": [
      "| Epoch: 44 | Train Loss: 0.565 | Train Acc: 37.94% | Val. Loss: 0.603 | Val. Acc: 41.67% | Val. Precision: 0.981 | Val. Recall: 0.950 | Val. F1-score: 0.951 |\n"
     ]
    },
    {
     "data": {
      "application/vnd.jupyter.widget-view+json": {
       "model_id": "5381769c39ce4e9b8d5b3d1e4a5e3e09",
       "version_major": 2,
       "version_minor": 0
      },
      "text/plain": [
       "  0%|          | 0/114 [00:00<?, ?it/s]"
      ]
     },
     "metadata": {},
     "output_type": "display_data"
    },
    {
     "name": "stdout",
     "output_type": "stream",
     "text": [
      "| Epoch: 45 | Train Loss: 0.565 | Train Acc: 37.94% | Val. Loss: 0.603 | Val. Acc: 41.67% | Val. Precision: 0.981 | Val. Recall: 0.950 | Val. F1-score: 0.951 |\n"
     ]
    },
    {
     "data": {
      "application/vnd.jupyter.widget-view+json": {
       "model_id": "f552024dad144fbcb1aaeb07c1faf12f",
       "version_major": 2,
       "version_minor": 0
      },
      "text/plain": [
       "  0%|          | 0/114 [00:00<?, ?it/s]"
      ]
     },
     "metadata": {},
     "output_type": "display_data"
    },
    {
     "name": "stdout",
     "output_type": "stream",
     "text": [
      "| Epoch: 46 | Train Loss: 0.565 | Train Acc: 37.94% | Val. Loss: 0.603 | Val. Acc: 41.67% | Val. Precision: 0.981 | Val. Recall: 0.950 | Val. F1-score: 0.951 |\n"
     ]
    },
    {
     "data": {
      "application/vnd.jupyter.widget-view+json": {
       "model_id": "cf07502614464183be690102ccddd168",
       "version_major": 2,
       "version_minor": 0
      },
      "text/plain": [
       "  0%|          | 0/114 [00:00<?, ?it/s]"
      ]
     },
     "metadata": {},
     "output_type": "display_data"
    },
    {
     "name": "stdout",
     "output_type": "stream",
     "text": [
      "| Epoch: 47 | Train Loss: 0.566 | Train Acc: 37.94% | Val. Loss: 0.600 | Val. Acc: 41.67% | Val. Precision: 0.983 | Val. Recall: 0.967 | Val. F1-score: 0.969 |\n"
     ]
    },
    {
     "data": {
      "application/vnd.jupyter.widget-view+json": {
       "model_id": "1d946021f51346afaba50837bc37da8b",
       "version_major": 2,
       "version_minor": 0
      },
      "text/plain": [
       "  0%|          | 0/114 [00:00<?, ?it/s]"
      ]
     },
     "metadata": {},
     "output_type": "display_data"
    },
    {
     "name": "stdout",
     "output_type": "stream",
     "text": [
      "| Epoch: 48 | Train Loss: 0.566 | Train Acc: 37.94% | Val. Loss: 0.600 | Val. Acc: 41.67% | Val. Precision: 0.983 | Val. Recall: 0.967 | Val. F1-score: 0.969 |\n"
     ]
    },
    {
     "data": {
      "application/vnd.jupyter.widget-view+json": {
       "model_id": "7447aebf40ec42c3ae3a615b7556bf75",
       "version_major": 2,
       "version_minor": 0
      },
      "text/plain": [
       "  0%|          | 0/114 [00:00<?, ?it/s]"
      ]
     },
     "metadata": {},
     "output_type": "display_data"
    },
    {
     "name": "stdout",
     "output_type": "stream",
     "text": [
      "| Epoch: 49 | Train Loss: 0.565 | Train Acc: 37.94% | Val. Loss: 0.600 | Val. Acc: 41.67% | Val. Precision: 0.983 | Val. Recall: 0.967 | Val. F1-score: 0.969 |\n"
     ]
    },
    {
     "data": {
      "application/vnd.jupyter.widget-view+json": {
       "model_id": "86e410646be742afbee19ef8adf68460",
       "version_major": 2,
       "version_minor": 0
      },
      "text/plain": [
       "  0%|          | 0/114 [00:00<?, ?it/s]"
      ]
     },
     "metadata": {},
     "output_type": "display_data"
    },
    {
     "name": "stdout",
     "output_type": "stream",
     "text": [
      "| Epoch: 50 | Train Loss: 0.565 | Train Acc: 37.94% | Val. Loss: 0.600 | Val. Acc: 41.67% | Val. Precision: 0.981 | Val. Recall: 0.950 | Val. F1-score: 0.951 |\n"
     ]
    },
    {
     "data": {
      "application/vnd.jupyter.widget-view+json": {
       "model_id": "dfc86b8af26249ce8d913a269b453591",
       "version_major": 2,
       "version_minor": 0
      },
      "text/plain": [
       "  0%|          | 0/114 [00:00<?, ?it/s]"
      ]
     },
     "metadata": {},
     "output_type": "display_data"
    },
    {
     "name": "stdout",
     "output_type": "stream",
     "text": [
      "| Epoch: 51 | Train Loss: 0.565 | Train Acc: 37.94% | Val. Loss: 0.602 | Val. Acc: 41.67% | Val. Precision: 0.981 | Val. Recall: 0.950 | Val. F1-score: 0.951 |\n"
     ]
    },
    {
     "data": {
      "application/vnd.jupyter.widget-view+json": {
       "model_id": "7619ff2ef93c443683c27389b7b5b279",
       "version_major": 2,
       "version_minor": 0
      },
      "text/plain": [
       "  0%|          | 0/114 [00:00<?, ?it/s]"
      ]
     },
     "metadata": {},
     "output_type": "display_data"
    },
    {
     "name": "stdout",
     "output_type": "stream",
     "text": [
      "| Epoch: 52 | Train Loss: 0.565 | Train Acc: 37.94% | Val. Loss: 0.603 | Val. Acc: 41.67% | Val. Precision: 0.981 | Val. Recall: 0.950 | Val. F1-score: 0.951 |\n"
     ]
    },
    {
     "data": {
      "application/vnd.jupyter.widget-view+json": {
       "model_id": "d51d58ccf07e4bfeb8c46aee1c8fe309",
       "version_major": 2,
       "version_minor": 0
      },
      "text/plain": [
       "  0%|          | 0/114 [00:00<?, ?it/s]"
      ]
     },
     "metadata": {},
     "output_type": "display_data"
    },
    {
     "name": "stdout",
     "output_type": "stream",
     "text": [
      "| Epoch: 53 | Train Loss: 0.565 | Train Acc: 37.94% | Val. Loss: 0.603 | Val. Acc: 41.67% | Val. Precision: 0.981 | Val. Recall: 0.950 | Val. F1-score: 0.951 |\n"
     ]
    },
    {
     "data": {
      "application/vnd.jupyter.widget-view+json": {
       "model_id": "7c5219f517f54b318fd52cea9a65d0f9",
       "version_major": 2,
       "version_minor": 0
      },
      "text/plain": [
       "  0%|          | 0/114 [00:00<?, ?it/s]"
      ]
     },
     "metadata": {},
     "output_type": "display_data"
    },
    {
     "name": "stdout",
     "output_type": "stream",
     "text": [
      "| Epoch: 54 | Train Loss: 0.565 | Train Acc: 37.94% | Val. Loss: 0.604 | Val. Acc: 41.67% | Val. Precision: 0.981 | Val. Recall: 0.950 | Val. F1-score: 0.951 |\n"
     ]
    },
    {
     "data": {
      "application/vnd.jupyter.widget-view+json": {
       "model_id": "9c8f9d4164714aff93759a769f349615",
       "version_major": 2,
       "version_minor": 0
      },
      "text/plain": [
       "  0%|          | 0/114 [00:00<?, ?it/s]"
      ]
     },
     "metadata": {},
     "output_type": "display_data"
    },
    {
     "name": "stdout",
     "output_type": "stream",
     "text": [
      "| Epoch: 55 | Train Loss: 0.565 | Train Acc: 37.94% | Val. Loss: 0.604 | Val. Acc: 41.67% | Val. Precision: 0.981 | Val. Recall: 0.950 | Val. F1-score: 0.951 |\n"
     ]
    },
    {
     "data": {
      "application/vnd.jupyter.widget-view+json": {
       "model_id": "ed20b6c16ed2475395cf3abee836d0d1",
       "version_major": 2,
       "version_minor": 0
      },
      "text/plain": [
       "  0%|          | 0/114 [00:00<?, ?it/s]"
      ]
     },
     "metadata": {},
     "output_type": "display_data"
    },
    {
     "name": "stdout",
     "output_type": "stream",
     "text": [
      "| Epoch: 56 | Train Loss: 0.565 | Train Acc: 37.94% | Val. Loss: 0.605 | Val. Acc: 41.67% | Val. Precision: 0.981 | Val. Recall: 0.950 | Val. F1-score: 0.951 |\n"
     ]
    },
    {
     "data": {
      "application/vnd.jupyter.widget-view+json": {
       "model_id": "11728e86e67d4a4aa3d5ea2cd1cb4d6b",
       "version_major": 2,
       "version_minor": 0
      },
      "text/plain": [
       "  0%|          | 0/114 [00:00<?, ?it/s]"
      ]
     },
     "metadata": {},
     "output_type": "display_data"
    },
    {
     "name": "stdout",
     "output_type": "stream",
     "text": [
      "| Epoch: 57 | Train Loss: 0.565 | Train Acc: 37.94% | Val. Loss: 0.605 | Val. Acc: 41.67% | Val. Precision: 0.981 | Val. Recall: 0.950 | Val. F1-score: 0.951 |\n"
     ]
    },
    {
     "data": {
      "application/vnd.jupyter.widget-view+json": {
       "model_id": "da06bf1a6b5e47f8b89030bb5159bc99",
       "version_major": 2,
       "version_minor": 0
      },
      "text/plain": [
       "  0%|          | 0/114 [00:00<?, ?it/s]"
      ]
     },
     "metadata": {},
     "output_type": "display_data"
    },
    {
     "name": "stdout",
     "output_type": "stream",
     "text": [
      "| Epoch: 58 | Train Loss: 0.565 | Train Acc: 37.94% | Val. Loss: 0.605 | Val. Acc: 41.67% | Val. Precision: 0.981 | Val. Recall: 0.950 | Val. F1-score: 0.951 |\n"
     ]
    },
    {
     "data": {
      "application/vnd.jupyter.widget-view+json": {
       "model_id": "c1bbed432bb2485492935c40d28ec942",
       "version_major": 2,
       "version_minor": 0
      },
      "text/plain": [
       "  0%|          | 0/114 [00:00<?, ?it/s]"
      ]
     },
     "metadata": {},
     "output_type": "display_data"
    },
    {
     "name": "stdout",
     "output_type": "stream",
     "text": [
      "| Epoch: 59 | Train Loss: 0.565 | Train Acc: 37.94% | Val. Loss: 0.605 | Val. Acc: 41.67% | Val. Precision: 0.981 | Val. Recall: 0.950 | Val. F1-score: 0.951 |\n"
     ]
    },
    {
     "data": {
      "application/vnd.jupyter.widget-view+json": {
       "model_id": "7510a7d383724a6aafdea7e407253ef7",
       "version_major": 2,
       "version_minor": 0
      },
      "text/plain": [
       "  0%|          | 0/114 [00:00<?, ?it/s]"
      ]
     },
     "metadata": {},
     "output_type": "display_data"
    },
    {
     "name": "stdout",
     "output_type": "stream",
     "text": [
      "| Epoch: 60 | Train Loss: 0.565 | Train Acc: 37.94% | Val. Loss: 0.605 | Val. Acc: 41.67% | Val. Precision: 0.981 | Val. Recall: 0.950 | Val. F1-score: 0.951 |\n"
     ]
    },
    {
     "data": {
      "application/vnd.jupyter.widget-view+json": {
       "model_id": "e963e1706bb44f738fba1dac3949d813",
       "version_major": 2,
       "version_minor": 0
      },
      "text/plain": [
       "  0%|          | 0/114 [00:00<?, ?it/s]"
      ]
     },
     "metadata": {},
     "output_type": "display_data"
    },
    {
     "name": "stdout",
     "output_type": "stream",
     "text": [
      "| Epoch: 61 | Train Loss: 0.565 | Train Acc: 37.94% | Val. Loss: 0.605 | Val. Acc: 41.67% | Val. Precision: 0.981 | Val. Recall: 0.950 | Val. F1-score: 0.951 |\n"
     ]
    },
    {
     "data": {
      "application/vnd.jupyter.widget-view+json": {
       "model_id": "5e1546b7c4924237b0d775362e75bc76",
       "version_major": 2,
       "version_minor": 0
      },
      "text/plain": [
       "  0%|          | 0/114 [00:00<?, ?it/s]"
      ]
     },
     "metadata": {},
     "output_type": "display_data"
    },
    {
     "name": "stdout",
     "output_type": "stream",
     "text": [
      "| Epoch: 62 | Train Loss: 0.565 | Train Acc: 37.94% | Val. Loss: 0.605 | Val. Acc: 41.67% | Val. Precision: 0.981 | Val. Recall: 0.950 | Val. F1-score: 0.951 |\n"
     ]
    },
    {
     "data": {
      "application/vnd.jupyter.widget-view+json": {
       "model_id": "7b4c206f54044baeab21716dbae643cd",
       "version_major": 2,
       "version_minor": 0
      },
      "text/plain": [
       "  0%|          | 0/114 [00:00<?, ?it/s]"
      ]
     },
     "metadata": {},
     "output_type": "display_data"
    },
    {
     "name": "stdout",
     "output_type": "stream",
     "text": [
      "| Epoch: 63 | Train Loss: 0.565 | Train Acc: 37.94% | Val. Loss: 0.605 | Val. Acc: 41.67% | Val. Precision: 0.981 | Val. Recall: 0.950 | Val. F1-score: 0.951 |\n"
     ]
    },
    {
     "data": {
      "application/vnd.jupyter.widget-view+json": {
       "model_id": "35ced74a45164e88a9af08887e1daa11",
       "version_major": 2,
       "version_minor": 0
      },
      "text/plain": [
       "  0%|          | 0/114 [00:00<?, ?it/s]"
      ]
     },
     "metadata": {},
     "output_type": "display_data"
    },
    {
     "name": "stdout",
     "output_type": "stream",
     "text": [
      "| Epoch: 64 | Train Loss: 0.565 | Train Acc: 37.94% | Val. Loss: 0.605 | Val. Acc: 41.67% | Val. Precision: 0.981 | Val. Recall: 0.950 | Val. F1-score: 0.951 |\n"
     ]
    },
    {
     "data": {
      "application/vnd.jupyter.widget-view+json": {
       "model_id": "21bbcac9eaa94445b2d6efa795ad082a",
       "version_major": 2,
       "version_minor": 0
      },
      "text/plain": [
       "  0%|          | 0/114 [00:00<?, ?it/s]"
      ]
     },
     "metadata": {},
     "output_type": "display_data"
    },
    {
     "name": "stdout",
     "output_type": "stream",
     "text": [
      "| Epoch: 65 | Train Loss: 0.565 | Train Acc: 37.94% | Val. Loss: 0.605 | Val. Acc: 41.67% | Val. Precision: 0.981 | Val. Recall: 0.950 | Val. F1-score: 0.951 |\n"
     ]
    },
    {
     "data": {
      "application/vnd.jupyter.widget-view+json": {
       "model_id": "b7814aa824e14cb1bcc281b55010f360",
       "version_major": 2,
       "version_minor": 0
      },
      "text/plain": [
       "  0%|          | 0/114 [00:00<?, ?it/s]"
      ]
     },
     "metadata": {},
     "output_type": "display_data"
    },
    {
     "name": "stdout",
     "output_type": "stream",
     "text": [
      "| Epoch: 66 | Train Loss: 0.565 | Train Acc: 37.94% | Val. Loss: 0.605 | Val. Acc: 41.67% | Val. Precision: 0.981 | Val. Recall: 0.950 | Val. F1-score: 0.951 |\n"
     ]
    },
    {
     "data": {
      "application/vnd.jupyter.widget-view+json": {
       "model_id": "9dd95d21db2e4b89ae31f89854fadcb1",
       "version_major": 2,
       "version_minor": 0
      },
      "text/plain": [
       "  0%|          | 0/114 [00:00<?, ?it/s]"
      ]
     },
     "metadata": {},
     "output_type": "display_data"
    },
    {
     "name": "stdout",
     "output_type": "stream",
     "text": [
      "| Epoch: 67 | Train Loss: 0.565 | Train Acc: 37.94% | Val. Loss: 0.605 | Val. Acc: 41.67% | Val. Precision: 0.981 | Val. Recall: 0.950 | Val. F1-score: 0.951 |\n"
     ]
    },
    {
     "data": {
      "application/vnd.jupyter.widget-view+json": {
       "model_id": "aaa87b59954f43cab10e3fb6b68f6b55",
       "version_major": 2,
       "version_minor": 0
      },
      "text/plain": [
       "  0%|          | 0/114 [00:00<?, ?it/s]"
      ]
     },
     "metadata": {},
     "output_type": "display_data"
    },
    {
     "name": "stdout",
     "output_type": "stream",
     "text": [
      "| Epoch: 68 | Train Loss: 0.565 | Train Acc: 37.94% | Val. Loss: 0.605 | Val. Acc: 41.67% | Val. Precision: 0.981 | Val. Recall: 0.950 | Val. F1-score: 0.951 |\n"
     ]
    },
    {
     "data": {
      "application/vnd.jupyter.widget-view+json": {
       "model_id": "c6cbe27636584b8db162d7df181769f9",
       "version_major": 2,
       "version_minor": 0
      },
      "text/plain": [
       "  0%|          | 0/114 [00:00<?, ?it/s]"
      ]
     },
     "metadata": {},
     "output_type": "display_data"
    },
    {
     "name": "stdout",
     "output_type": "stream",
     "text": [
      "| Epoch: 69 | Train Loss: 0.565 | Train Acc: 37.94% | Val. Loss: 0.606 | Val. Acc: 41.67% | Val. Precision: 0.981 | Val. Recall: 0.950 | Val. F1-score: 0.951 |\n"
     ]
    },
    {
     "data": {
      "application/vnd.jupyter.widget-view+json": {
       "model_id": "669658ed1b0647d9aedf7b29ccdd55f8",
       "version_major": 2,
       "version_minor": 0
      },
      "text/plain": [
       "  0%|          | 0/114 [00:00<?, ?it/s]"
      ]
     },
     "metadata": {},
     "output_type": "display_data"
    },
    {
     "name": "stdout",
     "output_type": "stream",
     "text": [
      "| Epoch: 70 | Train Loss: 0.565 | Train Acc: 37.94% | Val. Loss: 0.606 | Val. Acc: 41.67% | Val. Precision: 0.981 | Val. Recall: 0.950 | Val. F1-score: 0.951 |\n"
     ]
    },
    {
     "data": {
      "application/vnd.jupyter.widget-view+json": {
       "model_id": "a29a02cd129144d58aca094a98c791f5",
       "version_major": 2,
       "version_minor": 0
      },
      "text/plain": [
       "  0%|          | 0/114 [00:00<?, ?it/s]"
      ]
     },
     "metadata": {},
     "output_type": "display_data"
    },
    {
     "name": "stdout",
     "output_type": "stream",
     "text": [
      "| Epoch: 71 | Train Loss: 0.565 | Train Acc: 37.94% | Val. Loss: 0.606 | Val. Acc: 41.67% | Val. Precision: 0.981 | Val. Recall: 0.950 | Val. F1-score: 0.951 |\n"
     ]
    },
    {
     "data": {
      "application/vnd.jupyter.widget-view+json": {
       "model_id": "e324970eafc54777a95c85a9cdefba41",
       "version_major": 2,
       "version_minor": 0
      },
      "text/plain": [
       "  0%|          | 0/114 [00:00<?, ?it/s]"
      ]
     },
     "metadata": {},
     "output_type": "display_data"
    },
    {
     "name": "stdout",
     "output_type": "stream",
     "text": [
      "| Epoch: 72 | Train Loss: 0.565 | Train Acc: 37.94% | Val. Loss: 0.606 | Val. Acc: 41.67% | Val. Precision: 0.981 | Val. Recall: 0.950 | Val. F1-score: 0.951 |\n"
     ]
    },
    {
     "data": {
      "application/vnd.jupyter.widget-view+json": {
       "model_id": "b4b0cd34ac984ca3905b577169aa99ef",
       "version_major": 2,
       "version_minor": 0
      },
      "text/plain": [
       "  0%|          | 0/114 [00:00<?, ?it/s]"
      ]
     },
     "metadata": {},
     "output_type": "display_data"
    },
    {
     "name": "stdout",
     "output_type": "stream",
     "text": [
      "| Epoch: 73 | Train Loss: 0.566 | Train Acc: 37.94% | Val. Loss: 0.606 | Val. Acc: 41.67% | Val. Precision: 0.981 | Val. Recall: 0.950 | Val. F1-score: 0.951 |\n"
     ]
    },
    {
     "data": {
      "application/vnd.jupyter.widget-view+json": {
       "model_id": "2acf093a450d46bc9206617daff09c0b",
       "version_major": 2,
       "version_minor": 0
      },
      "text/plain": [
       "  0%|          | 0/114 [00:00<?, ?it/s]"
      ]
     },
     "metadata": {},
     "output_type": "display_data"
    }
   ],
   "source": [
    "warnings.filterwarnings(\"ignore\", category=DeprecationWarning)\n",
    "\n",
    "\n",
    "# Let's train our model\n",
    "for epoch in range(100):\n",
    "    train_loss, train_acc = train(cancermodel, train_dataloader, optimizer, criterion)\n",
    "    valid_loss, valid_acc, valid_precision, valid_recall, valid_f1 = evaluate(cancermodel, val_dataloader, criterion)\n",
    "\n",
    "    print(f'| Epoch: {epoch+1:02} | Train Loss: {train_loss:.3f} | Train Acc: {train_acc*100:.2f}% | Val. Loss: {valid_loss:.3f} | Val. Acc: {valid_acc*100:.2f}% | Val. Precision: {valid_precision:.3f} | Val. Recall: {valid_recall:.3f} | Val. F1-score: {valid_f1:.3f} |')\n"
   ]
  },
  {
   "cell_type": "code",
   "execution_count": 131,
   "id": "a2b86b90",
   "metadata": {},
   "outputs": [
    {
     "ename": "NameError",
     "evalue": "name 'warnings' is not defined",
     "output_type": "error",
     "traceback": [
      "\u001b[1;31m---------------------------------------------------------------------------\u001b[0m",
      "\u001b[1;31mNameError\u001b[0m                                 Traceback (most recent call last)",
      "Input \u001b[1;32mIn [131]\u001b[0m, in \u001b[0;36m<cell line: 1>\u001b[1;34m()\u001b[0m\n\u001b[1;32m----> 1\u001b[0m \u001b[43mwarnings\u001b[49m\u001b[38;5;241m.\u001b[39mfilterwarnings(\u001b[38;5;124m\"\u001b[39m\u001b[38;5;124mignore\u001b[39m\u001b[38;5;124m\"\u001b[39m, category\u001b[38;5;241m=\u001b[39m\u001b[38;5;167;01mDeprecationWarning\u001b[39;00m)\n\u001b[0;32m      3\u001b[0m test_loss, test_acc, test_prec, test_rec, test_f1 \u001b[38;5;241m=\u001b[39m evaluate(cancermodel, test_dataloader, criterion)\n\u001b[0;32m      6\u001b[0m \u001b[38;5;28mprint\u001b[39m(\u001b[38;5;124mf\u001b[39m\u001b[38;5;124m'\u001b[39m\u001b[38;5;124m| Test. Loss: \u001b[39m\u001b[38;5;132;01m{\u001b[39;00mtest_loss\u001b[38;5;132;01m:\u001b[39;00m\u001b[38;5;124m.3f\u001b[39m\u001b[38;5;132;01m}\u001b[39;00m\u001b[38;5;124m | Test. Acc: \u001b[39m\u001b[38;5;132;01m{\u001b[39;00mtest_acc\u001b[38;5;241m*\u001b[39m\u001b[38;5;241m100\u001b[39m\u001b[38;5;132;01m:\u001b[39;00m\u001b[38;5;124m.2f\u001b[39m\u001b[38;5;132;01m}\u001b[39;00m\u001b[38;5;124m% | Test. Precision: \u001b[39m\u001b[38;5;132;01m{\u001b[39;00mtest_prec\u001b[38;5;132;01m:\u001b[39;00m\u001b[38;5;124m.3f\u001b[39m\u001b[38;5;132;01m}\u001b[39;00m\u001b[38;5;124m | Test. Recall: \u001b[39m\u001b[38;5;132;01m{\u001b[39;00mtest_rec\u001b[38;5;132;01m:\u001b[39;00m\u001b[38;5;124m.3f\u001b[39m\u001b[38;5;132;01m}\u001b[39;00m\u001b[38;5;124m | Test. F1-score: \u001b[39m\u001b[38;5;132;01m{\u001b[39;00mtest_f1\u001b[38;5;132;01m:\u001b[39;00m\u001b[38;5;124m.3f\u001b[39m\u001b[38;5;132;01m}\u001b[39;00m\u001b[38;5;124m |\u001b[39m\u001b[38;5;124m'\u001b[39m)\n",
      "\u001b[1;31mNameError\u001b[0m: name 'warnings' is not defined"
     ]
    }
   ],
   "source": [
    "warnings.filterwarnings(\"ignore\", category=DeprecationWarning)\n",
    "\n",
    "test_loss, test_acc, test_prec, test_rec, test_f1 = evaluate(cancermodel, test_dataloader, criterion)\n",
    "\n",
    "\n",
    "print(f'| Test. Loss: {test_loss:.3f} | Test. Acc: {test_acc*100:.2f}% | Test. Precision: {test_prec:.3f} | Test. Recall: {test_rec:.3f} | Test. F1-score: {test_f1:.3f} |')"
   ]
  },
  {
   "cell_type": "code",
   "execution_count": null,
   "id": "518d1721",
   "metadata": {},
   "outputs": [],
   "source": []
  },
  {
   "cell_type": "code",
   "execution_count": null,
   "id": "0204824d",
   "metadata": {},
   "outputs": [],
   "source": [
    "warnings.resetwarnings()"
   ]
  }
 ],
 "metadata": {
  "hide_input": false,
  "kernelspec": {
   "display_name": "Python 3 (ipykernel)",
   "language": "python",
   "name": "python3"
  },
  "language_info": {
   "codemirror_mode": {
    "name": "ipython",
    "version": 3
   },
   "file_extension": ".py",
   "mimetype": "text/x-python",
   "name": "python",
   "nbconvert_exporter": "python",
   "pygments_lexer": "ipython3",
   "version": "3.9.12"
  }
 },
 "nbformat": 4,
 "nbformat_minor": 5
}
