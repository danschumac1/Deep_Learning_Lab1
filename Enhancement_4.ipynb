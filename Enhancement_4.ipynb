{
 "cells": [
  {
   "cell_type": "markdown",
   "metadata": {
    "id": "CoCJY_nPAMOf"
   },
   "source": [
    "## Imports"
   ]
  },
  {
   "cell_type": "code",
   "execution_count": 58,
   "metadata": {
    "id": "ug19bzmJAAt5"
   },
   "outputs": [],
   "source": [
    "import pandas as pd\n",
    "import torch\n",
    "import torch.nn as nn\n",
    "import torch.nn.functional as F\n",
    "from torch.optim import AdamW\n",
    "from torch.utils.data import Dataset, DataLoader\n",
    "from tqdm.notebook import tqdm\n",
    "\n",
    "\n",
    "from sklearn.metrics import (\n",
    "    accuracy_score,\n",
    "    # ENHANCEMENT 1\n",
    "    precision_score,\n",
    "    recall_score,\n",
    "    f1_score\n",
    ")"
   ]
  },
  {
   "cell_type": "markdown",
   "metadata": {
    "id": "g2ZA_xBjAQlY"
   },
   "source": [
    "## Dataset"
   ]
  },
  {
   "cell_type": "code",
   "execution_count": 59,
   "metadata": {
    "id": "_wI27iYZATct"
   },
   "outputs": [],
   "source": [
    "data_df = pd.read_csv('./data/winequality-red.csv')"
   ]
  },
  {
   "cell_type": "code",
   "execution_count": 60,
   "metadata": {
    "colab": {
     "base_uri": "https://localhost:8080/",
     "height": 204
    },
    "id": "7V3cR9csAe9R",
    "outputId": "fdc6cbfa-5ac8-4f64-ef49-9e754f6cc667"
   },
   "outputs": [
    {
     "data": {
      "text/html": [
       "<div>\n",
       "<style scoped>\n",
       "    .dataframe tbody tr th:only-of-type {\n",
       "        vertical-align: middle;\n",
       "    }\n",
       "\n",
       "    .dataframe tbody tr th {\n",
       "        vertical-align: top;\n",
       "    }\n",
       "\n",
       "    .dataframe thead th {\n",
       "        text-align: right;\n",
       "    }\n",
       "</style>\n",
       "<table border=\"1\" class=\"dataframe\">\n",
       "  <thead>\n",
       "    <tr style=\"text-align: right;\">\n",
       "      <th></th>\n",
       "      <th>fixed acidity</th>\n",
       "      <th>volatile acidity</th>\n",
       "      <th>citric acid</th>\n",
       "      <th>residual sugar</th>\n",
       "      <th>chlorides</th>\n",
       "      <th>free sulfur dioxide</th>\n",
       "      <th>total sulfur dioxide</th>\n",
       "      <th>density</th>\n",
       "      <th>pH</th>\n",
       "      <th>sulphates</th>\n",
       "      <th>alcohol</th>\n",
       "      <th>quality</th>\n",
       "    </tr>\n",
       "  </thead>\n",
       "  <tbody>\n",
       "    <tr>\n",
       "      <th>0</th>\n",
       "      <td>7.4</td>\n",
       "      <td>0.70</td>\n",
       "      <td>0.00</td>\n",
       "      <td>1.9</td>\n",
       "      <td>0.076</td>\n",
       "      <td>11.0</td>\n",
       "      <td>34.0</td>\n",
       "      <td>0.9978</td>\n",
       "      <td>3.51</td>\n",
       "      <td>0.56</td>\n",
       "      <td>9.4</td>\n",
       "      <td>5</td>\n",
       "    </tr>\n",
       "    <tr>\n",
       "      <th>1</th>\n",
       "      <td>7.8</td>\n",
       "      <td>0.88</td>\n",
       "      <td>0.00</td>\n",
       "      <td>2.6</td>\n",
       "      <td>0.098</td>\n",
       "      <td>25.0</td>\n",
       "      <td>67.0</td>\n",
       "      <td>0.9968</td>\n",
       "      <td>3.20</td>\n",
       "      <td>0.68</td>\n",
       "      <td>9.8</td>\n",
       "      <td>5</td>\n",
       "    </tr>\n",
       "    <tr>\n",
       "      <th>2</th>\n",
       "      <td>7.8</td>\n",
       "      <td>0.76</td>\n",
       "      <td>0.04</td>\n",
       "      <td>2.3</td>\n",
       "      <td>0.092</td>\n",
       "      <td>15.0</td>\n",
       "      <td>54.0</td>\n",
       "      <td>0.9970</td>\n",
       "      <td>3.26</td>\n",
       "      <td>0.65</td>\n",
       "      <td>9.8</td>\n",
       "      <td>5</td>\n",
       "    </tr>\n",
       "    <tr>\n",
       "      <th>3</th>\n",
       "      <td>11.2</td>\n",
       "      <td>0.28</td>\n",
       "      <td>0.56</td>\n",
       "      <td>1.9</td>\n",
       "      <td>0.075</td>\n",
       "      <td>17.0</td>\n",
       "      <td>60.0</td>\n",
       "      <td>0.9980</td>\n",
       "      <td>3.16</td>\n",
       "      <td>0.58</td>\n",
       "      <td>9.8</td>\n",
       "      <td>6</td>\n",
       "    </tr>\n",
       "    <tr>\n",
       "      <th>4</th>\n",
       "      <td>7.4</td>\n",
       "      <td>0.70</td>\n",
       "      <td>0.00</td>\n",
       "      <td>1.9</td>\n",
       "      <td>0.076</td>\n",
       "      <td>11.0</td>\n",
       "      <td>34.0</td>\n",
       "      <td>0.9978</td>\n",
       "      <td>3.51</td>\n",
       "      <td>0.56</td>\n",
       "      <td>9.4</td>\n",
       "      <td>5</td>\n",
       "    </tr>\n",
       "  </tbody>\n",
       "</table>\n",
       "</div>"
      ],
      "text/plain": [
       "   fixed acidity  volatile acidity  citric acid  residual sugar  chlorides  \\\n",
       "0            7.4              0.70         0.00             1.9      0.076   \n",
       "1            7.8              0.88         0.00             2.6      0.098   \n",
       "2            7.8              0.76         0.04             2.3      0.092   \n",
       "3           11.2              0.28         0.56             1.9      0.075   \n",
       "4            7.4              0.70         0.00             1.9      0.076   \n",
       "\n",
       "   free sulfur dioxide  total sulfur dioxide  density    pH  sulphates  \\\n",
       "0                 11.0                  34.0   0.9978  3.51       0.56   \n",
       "1                 25.0                  67.0   0.9968  3.20       0.68   \n",
       "2                 15.0                  54.0   0.9970  3.26       0.65   \n",
       "3                 17.0                  60.0   0.9980  3.16       0.58   \n",
       "4                 11.0                  34.0   0.9978  3.51       0.56   \n",
       "\n",
       "   alcohol  quality  \n",
       "0      9.4        5  \n",
       "1      9.8        5  \n",
       "2      9.8        5  \n",
       "3      9.8        6  \n",
       "4      9.4        5  "
      ]
     },
     "execution_count": 60,
     "metadata": {},
     "output_type": "execute_result"
    }
   ],
   "source": [
    "data_df.head()"
   ]
  },
  {
   "cell_type": "code",
   "execution_count": 61,
   "metadata": {
    "colab": {
     "base_uri": "https://localhost:8080/"
    },
    "id": "QH-m4kr6Dk8Z",
    "outputId": "ab5fb65e-4c18-424a-a13d-94e42c321b6a"
   },
   "outputs": [
    {
     "data": {
      "text/plain": [
       "11"
      ]
     },
     "execution_count": 61,
     "metadata": {},
     "output_type": "execute_result"
    }
   ],
   "source": [
    "# how many features?\n",
    "len(data_df.columns) - 1"
   ]
  },
  {
   "cell_type": "code",
   "execution_count": 62,
   "metadata": {
    "colab": {
     "base_uri": "https://localhost:8080/"
    },
    "id": "uvAZ_osUDvgA",
    "outputId": "4b01868e-0292-4560-c3a0-3192a43f48bf"
   },
   "outputs": [
    {
     "data": {
      "text/plain": [
       "array([5, 6, 7, 4, 8, 3], dtype=int64)"
      ]
     },
     "execution_count": 62,
     "metadata": {},
     "output_type": "execute_result"
    }
   ],
   "source": [
    "# how many labels? If yours is a binary classification task, then you'll have 2 labels.\n",
    "data_df.quality.unique()"
   ]
  },
  {
   "cell_type": "code",
   "execution_count": 63,
   "metadata": {
    "id": "0nSKpV6FZFaN"
   },
   "outputs": [],
   "source": [
    "# convert these quaity measures to labels (0 to 5)\n",
    "def get_label(quality):\n",
    "    if quality == 3:\n",
    "        return 0\n",
    "    elif quality == 4:\n",
    "        return 1\n",
    "    elif quality == 5:\n",
    "        return 2\n",
    "    elif quality == 6:\n",
    "        return 3\n",
    "    elif quality == 7:\n",
    "        return 4\n",
    "    else:\n",
    "        return 5\n",
    "\n",
    "labels = data_df['quality'].apply(get_label)\n",
    "\n",
    "# normalize data\n",
    "data_df = (data_df - data_df.mean()) / data_df.std()\n",
    "data_df['label'] = labels"
   ]
  },
  {
   "cell_type": "code",
   "execution_count": 64,
   "metadata": {
    "colab": {
     "base_uri": "https://localhost:8080/",
     "height": 204
    },
    "id": "DX2cZiS2gs5f",
    "outputId": "e8ef29c9-9a82-4468-8091-30e623126953"
   },
   "outputs": [
    {
     "data": {
      "text/html": [
       "<div>\n",
       "<style scoped>\n",
       "    .dataframe tbody tr th:only-of-type {\n",
       "        vertical-align: middle;\n",
       "    }\n",
       "\n",
       "    .dataframe tbody tr th {\n",
       "        vertical-align: top;\n",
       "    }\n",
       "\n",
       "    .dataframe thead th {\n",
       "        text-align: right;\n",
       "    }\n",
       "</style>\n",
       "<table border=\"1\" class=\"dataframe\">\n",
       "  <thead>\n",
       "    <tr style=\"text-align: right;\">\n",
       "      <th></th>\n",
       "      <th>fixed acidity</th>\n",
       "      <th>volatile acidity</th>\n",
       "      <th>citric acid</th>\n",
       "      <th>residual sugar</th>\n",
       "      <th>chlorides</th>\n",
       "      <th>free sulfur dioxide</th>\n",
       "      <th>total sulfur dioxide</th>\n",
       "      <th>density</th>\n",
       "      <th>pH</th>\n",
       "      <th>sulphates</th>\n",
       "      <th>alcohol</th>\n",
       "      <th>quality</th>\n",
       "      <th>label</th>\n",
       "    </tr>\n",
       "  </thead>\n",
       "  <tbody>\n",
       "    <tr>\n",
       "      <th>0</th>\n",
       "      <td>-0.528194</td>\n",
       "      <td>0.961576</td>\n",
       "      <td>-1.391037</td>\n",
       "      <td>-0.453077</td>\n",
       "      <td>-0.243630</td>\n",
       "      <td>-0.466047</td>\n",
       "      <td>-0.379014</td>\n",
       "      <td>0.558100</td>\n",
       "      <td>1.288240</td>\n",
       "      <td>-0.579025</td>\n",
       "      <td>-0.959946</td>\n",
       "      <td>-0.787576</td>\n",
       "      <td>2</td>\n",
       "    </tr>\n",
       "    <tr>\n",
       "      <th>1</th>\n",
       "      <td>-0.298454</td>\n",
       "      <td>1.966827</td>\n",
       "      <td>-1.391037</td>\n",
       "      <td>0.043403</td>\n",
       "      <td>0.223805</td>\n",
       "      <td>0.872365</td>\n",
       "      <td>0.624168</td>\n",
       "      <td>0.028252</td>\n",
       "      <td>-0.719708</td>\n",
       "      <td>0.128910</td>\n",
       "      <td>-0.584594</td>\n",
       "      <td>-0.787576</td>\n",
       "      <td>2</td>\n",
       "    </tr>\n",
       "    <tr>\n",
       "      <th>2</th>\n",
       "      <td>-0.298454</td>\n",
       "      <td>1.296660</td>\n",
       "      <td>-1.185699</td>\n",
       "      <td>-0.169374</td>\n",
       "      <td>0.096323</td>\n",
       "      <td>-0.083643</td>\n",
       "      <td>0.228975</td>\n",
       "      <td>0.134222</td>\n",
       "      <td>-0.331073</td>\n",
       "      <td>-0.048074</td>\n",
       "      <td>-0.584594</td>\n",
       "      <td>-0.787576</td>\n",
       "      <td>2</td>\n",
       "    </tr>\n",
       "    <tr>\n",
       "      <th>3</th>\n",
       "      <td>1.654339</td>\n",
       "      <td>-1.384011</td>\n",
       "      <td>1.483689</td>\n",
       "      <td>-0.453077</td>\n",
       "      <td>-0.264878</td>\n",
       "      <td>0.107558</td>\n",
       "      <td>0.411372</td>\n",
       "      <td>0.664069</td>\n",
       "      <td>-0.978798</td>\n",
       "      <td>-0.461036</td>\n",
       "      <td>-0.584594</td>\n",
       "      <td>0.450707</td>\n",
       "      <td>3</td>\n",
       "    </tr>\n",
       "    <tr>\n",
       "      <th>4</th>\n",
       "      <td>-0.528194</td>\n",
       "      <td>0.961576</td>\n",
       "      <td>-1.391037</td>\n",
       "      <td>-0.453077</td>\n",
       "      <td>-0.243630</td>\n",
       "      <td>-0.466047</td>\n",
       "      <td>-0.379014</td>\n",
       "      <td>0.558100</td>\n",
       "      <td>1.288240</td>\n",
       "      <td>-0.579025</td>\n",
       "      <td>-0.959946</td>\n",
       "      <td>-0.787576</td>\n",
       "      <td>2</td>\n",
       "    </tr>\n",
       "  </tbody>\n",
       "</table>\n",
       "</div>"
      ],
      "text/plain": [
       "   fixed acidity  volatile acidity  citric acid  residual sugar  chlorides  \\\n",
       "0      -0.528194          0.961576    -1.391037       -0.453077  -0.243630   \n",
       "1      -0.298454          1.966827    -1.391037        0.043403   0.223805   \n",
       "2      -0.298454          1.296660    -1.185699       -0.169374   0.096323   \n",
       "3       1.654339         -1.384011     1.483689       -0.453077  -0.264878   \n",
       "4      -0.528194          0.961576    -1.391037       -0.453077  -0.243630   \n",
       "\n",
       "   free sulfur dioxide  total sulfur dioxide   density        pH  sulphates  \\\n",
       "0            -0.466047             -0.379014  0.558100  1.288240  -0.579025   \n",
       "1             0.872365              0.624168  0.028252 -0.719708   0.128910   \n",
       "2            -0.083643              0.228975  0.134222 -0.331073  -0.048074   \n",
       "3             0.107558              0.411372  0.664069 -0.978798  -0.461036   \n",
       "4            -0.466047             -0.379014  0.558100  1.288240  -0.579025   \n",
       "\n",
       "    alcohol   quality  label  \n",
       "0 -0.959946 -0.787576      2  \n",
       "1 -0.584594 -0.787576      2  \n",
       "2 -0.584594 -0.787576      2  \n",
       "3 -0.584594  0.450707      3  \n",
       "4 -0.959946 -0.787576      2  "
      ]
     },
     "execution_count": 64,
     "metadata": {},
     "output_type": "execute_result"
    }
   ],
   "source": [
    "data_df.head()"
   ]
  },
  {
   "cell_type": "code",
   "execution_count": 65,
   "metadata": {
    "colab": {
     "base_uri": "https://localhost:8080/",
     "height": 297
    },
    "id": "rLSIw4GJAjIF",
    "outputId": "5c24977f-d49a-4bfa-9702-3d34894834a2"
   },
   "outputs": [
    {
     "data": {
      "text/html": [
       "<div>\n",
       "<style scoped>\n",
       "    .dataframe tbody tr th:only-of-type {\n",
       "        vertical-align: middle;\n",
       "    }\n",
       "\n",
       "    .dataframe tbody tr th {\n",
       "        vertical-align: top;\n",
       "    }\n",
       "\n",
       "    .dataframe thead th {\n",
       "        text-align: right;\n",
       "    }\n",
       "</style>\n",
       "<table border=\"1\" class=\"dataframe\">\n",
       "  <thead>\n",
       "    <tr style=\"text-align: right;\">\n",
       "      <th></th>\n",
       "      <th>fixed acidity</th>\n",
       "      <th>volatile acidity</th>\n",
       "      <th>citric acid</th>\n",
       "      <th>residual sugar</th>\n",
       "      <th>chlorides</th>\n",
       "      <th>free sulfur dioxide</th>\n",
       "      <th>total sulfur dioxide</th>\n",
       "      <th>density</th>\n",
       "      <th>pH</th>\n",
       "      <th>sulphates</th>\n",
       "      <th>alcohol</th>\n",
       "      <th>quality</th>\n",
       "      <th>label</th>\n",
       "    </tr>\n",
       "  </thead>\n",
       "  <tbody>\n",
       "    <tr>\n",
       "      <th>count</th>\n",
       "      <td>1.599000e+03</td>\n",
       "      <td>1.599000e+03</td>\n",
       "      <td>1.599000e+03</td>\n",
       "      <td>1.599000e+03</td>\n",
       "      <td>1.599000e+03</td>\n",
       "      <td>1.599000e+03</td>\n",
       "      <td>1.599000e+03</td>\n",
       "      <td>1.599000e+03</td>\n",
       "      <td>1.599000e+03</td>\n",
       "      <td>1.599000e+03</td>\n",
       "      <td>1.599000e+03</td>\n",
       "      <td>1.599000e+03</td>\n",
       "      <td>1599.000000</td>\n",
       "    </tr>\n",
       "    <tr>\n",
       "      <th>mean</th>\n",
       "      <td>-1.570643e-14</td>\n",
       "      <td>-1.590973e-15</td>\n",
       "      <td>6.045057e-15</td>\n",
       "      <td>-1.344696e-15</td>\n",
       "      <td>4.924731e-15</td>\n",
       "      <td>-7.724347e-17</td>\n",
       "      <td>1.619856e-16</td>\n",
       "      <td>4.946064e-13</td>\n",
       "      <td>-5.937923e-15</td>\n",
       "      <td>-2.175036e-15</td>\n",
       "      <td>2.580411e-14</td>\n",
       "      <td>1.081756e-15</td>\n",
       "      <td>2.636023</td>\n",
       "    </tr>\n",
       "    <tr>\n",
       "      <th>std</th>\n",
       "      <td>1.000000e+00</td>\n",
       "      <td>1.000000e+00</td>\n",
       "      <td>1.000000e+00</td>\n",
       "      <td>1.000000e+00</td>\n",
       "      <td>1.000000e+00</td>\n",
       "      <td>1.000000e+00</td>\n",
       "      <td>1.000000e+00</td>\n",
       "      <td>1.000000e+00</td>\n",
       "      <td>1.000000e+00</td>\n",
       "      <td>1.000000e+00</td>\n",
       "      <td>1.000000e+00</td>\n",
       "      <td>1.000000e+00</td>\n",
       "      <td>0.807569</td>\n",
       "    </tr>\n",
       "    <tr>\n",
       "      <th>min</th>\n",
       "      <td>-2.136377e+00</td>\n",
       "      <td>-2.277567e+00</td>\n",
       "      <td>-1.391037e+00</td>\n",
       "      <td>-1.162333e+00</td>\n",
       "      <td>-1.603443e+00</td>\n",
       "      <td>-1.422055e+00</td>\n",
       "      <td>-1.230199e+00</td>\n",
       "      <td>-3.537625e+00</td>\n",
       "      <td>-3.699244e+00</td>\n",
       "      <td>-1.935902e+00</td>\n",
       "      <td>-1.898325e+00</td>\n",
       "      <td>-3.264143e+00</td>\n",
       "      <td>0.000000</td>\n",
       "    </tr>\n",
       "    <tr>\n",
       "      <th>25%</th>\n",
       "      <td>-7.004996e-01</td>\n",
       "      <td>-7.696903e-01</td>\n",
       "      <td>-9.290275e-01</td>\n",
       "      <td>-4.530767e-01</td>\n",
       "      <td>-3.711129e-01</td>\n",
       "      <td>-8.484502e-01</td>\n",
       "      <td>-7.438076e-01</td>\n",
       "      <td>-6.075656e-01</td>\n",
       "      <td>-6.549356e-01</td>\n",
       "      <td>-6.380200e-01</td>\n",
       "      <td>-8.661079e-01</td>\n",
       "      <td>-7.875763e-01</td>\n",
       "      <td>2.000000</td>\n",
       "    </tr>\n",
       "    <tr>\n",
       "      <th>50%</th>\n",
       "      <td>-2.410190e-01</td>\n",
       "      <td>-4.367545e-02</td>\n",
       "      <td>-5.634264e-02</td>\n",
       "      <td>-2.402999e-01</td>\n",
       "      <td>-1.798892e-01</td>\n",
       "      <td>-1.792441e-01</td>\n",
       "      <td>-2.574163e-01</td>\n",
       "      <td>1.759533e-03</td>\n",
       "      <td>-7.210449e-03</td>\n",
       "      <td>-2.250577e-01</td>\n",
       "      <td>-2.092427e-01</td>\n",
       "      <td>4.507074e-01</td>\n",
       "      <td>3.000000</td>\n",
       "    </tr>\n",
       "    <tr>\n",
       "      <th>75%</th>\n",
       "      <td>5.056370e-01</td>\n",
       "      <td>6.264921e-01</td>\n",
       "      <td>7.650078e-01</td>\n",
       "      <td>4.340257e-02</td>\n",
       "      <td>5.382858e-02</td>\n",
       "      <td>4.899619e-01</td>\n",
       "      <td>4.721707e-01</td>\n",
       "      <td>5.766445e-01</td>\n",
       "      <td>5.757422e-01</td>\n",
       "      <td>4.238832e-01</td>\n",
       "      <td>6.352984e-01</td>\n",
       "      <td>4.507074e-01</td>\n",
       "      <td>3.000000</td>\n",
       "    </tr>\n",
       "    <tr>\n",
       "      <th>max</th>\n",
       "      <td>4.353787e+00</td>\n",
       "      <td>5.876138e+00</td>\n",
       "      <td>3.742403e+00</td>\n",
       "      <td>9.192806e+00</td>\n",
       "      <td>1.112355e+01</td>\n",
       "      <td>5.365606e+00</td>\n",
       "      <td>7.372847e+00</td>\n",
       "      <td>3.678904e+00</td>\n",
       "      <td>4.526866e+00</td>\n",
       "      <td>7.916200e+00</td>\n",
       "      <td>4.201138e+00</td>\n",
       "      <td>2.927275e+00</td>\n",
       "      <td>5.000000</td>\n",
       "    </tr>\n",
       "  </tbody>\n",
       "</table>\n",
       "</div>"
      ],
      "text/plain": [
       "       fixed acidity  volatile acidity   citric acid  residual sugar  \\\n",
       "count   1.599000e+03      1.599000e+03  1.599000e+03    1.599000e+03   \n",
       "mean   -1.570643e-14     -1.590973e-15  6.045057e-15   -1.344696e-15   \n",
       "std     1.000000e+00      1.000000e+00  1.000000e+00    1.000000e+00   \n",
       "min    -2.136377e+00     -2.277567e+00 -1.391037e+00   -1.162333e+00   \n",
       "25%    -7.004996e-01     -7.696903e-01 -9.290275e-01   -4.530767e-01   \n",
       "50%    -2.410190e-01     -4.367545e-02 -5.634264e-02   -2.402999e-01   \n",
       "75%     5.056370e-01      6.264921e-01  7.650078e-01    4.340257e-02   \n",
       "max     4.353787e+00      5.876138e+00  3.742403e+00    9.192806e+00   \n",
       "\n",
       "          chlorides  free sulfur dioxide  total sulfur dioxide       density  \\\n",
       "count  1.599000e+03         1.599000e+03          1.599000e+03  1.599000e+03   \n",
       "mean   4.924731e-15        -7.724347e-17          1.619856e-16  4.946064e-13   \n",
       "std    1.000000e+00         1.000000e+00          1.000000e+00  1.000000e+00   \n",
       "min   -1.603443e+00        -1.422055e+00         -1.230199e+00 -3.537625e+00   \n",
       "25%   -3.711129e-01        -8.484502e-01         -7.438076e-01 -6.075656e-01   \n",
       "50%   -1.798892e-01        -1.792441e-01         -2.574163e-01  1.759533e-03   \n",
       "75%    5.382858e-02         4.899619e-01          4.721707e-01  5.766445e-01   \n",
       "max    1.112355e+01         5.365606e+00          7.372847e+00  3.678904e+00   \n",
       "\n",
       "                 pH     sulphates       alcohol       quality        label  \n",
       "count  1.599000e+03  1.599000e+03  1.599000e+03  1.599000e+03  1599.000000  \n",
       "mean  -5.937923e-15 -2.175036e-15  2.580411e-14  1.081756e-15     2.636023  \n",
       "std    1.000000e+00  1.000000e+00  1.000000e+00  1.000000e+00     0.807569  \n",
       "min   -3.699244e+00 -1.935902e+00 -1.898325e+00 -3.264143e+00     0.000000  \n",
       "25%   -6.549356e-01 -6.380200e-01 -8.661079e-01 -7.875763e-01     2.000000  \n",
       "50%   -7.210449e-03 -2.250577e-01 -2.092427e-01  4.507074e-01     3.000000  \n",
       "75%    5.757422e-01  4.238832e-01  6.352984e-01  4.507074e-01     3.000000  \n",
       "max    4.526866e+00  7.916200e+00  4.201138e+00  2.927275e+00     5.000000  "
      ]
     },
     "execution_count": 65,
     "metadata": {},
     "output_type": "execute_result"
    }
   ],
   "source": [
    "# sumamry statistics of the data\n",
    "data_df.describe()"
   ]
  },
  {
   "cell_type": "markdown",
   "metadata": {
    "id": "d0HMGVIQAwgL"
   },
   "source": [
    "## Load this dataset for training a neural network"
   ]
  },
  {
   "cell_type": "code",
   "execution_count": 66,
   "metadata": {
    "id": "a9hxNj99A23V"
   },
   "outputs": [],
   "source": [
    "# The dataset class\n",
    "class WineDataset(Dataset):\n",
    "\n",
    "    def __init__(self, data_df):\n",
    "        self.data_df = data_df\n",
    "        self.features = []\n",
    "        self.labels = []\n",
    "        for _, i in data_df.iterrows():\n",
    "            self.features.append([i['fixed acidity'], i['volatile acidity'], i['citric acid'], i['residual sugar'], i['chlorides'], i['free sulfur dioxide'], i['total sulfur dioxide'], i['density'], i['pH'], i['sulphates'], i['alcohol']])\n",
    "            self.labels.append(i['label'])\n",
    "\n",
    "    def __len__(self):\n",
    "        return len(self.data_df)\n",
    "\n",
    "    def __getitem__(self, idx):\n",
    "        if torch.is_tensor(idx):\n",
    "            idx = idx.tolist()\n",
    "\n",
    "        features = self.features[idx]\n",
    "        features = torch.FloatTensor(features)\n",
    "\n",
    "        labels = torch.tensor(int(self.labels[idx]), dtype = torch.long)\n",
    "\n",
    "        return {'labels': labels, 'features': features}\n",
    "\n",
    "wine_dataset = WineDataset(data_df)\n",
    "train_dataset, val_dataset, test_dataset = torch.utils.data.random_split(wine_dataset, [0.8, 0.1, 0.1])\n",
    "\n",
    "# The dataloader\n",
    "train_dataloader = DataLoader(train_dataset, batch_size = 4, shuffle = True, num_workers = 0)\n",
    "val_dataloader = DataLoader(val_dataset, batch_size = 4, shuffle = False, num_workers = 0)\n",
    "test_dataloader = DataLoader(test_dataset, batch_size = 4, shuffle = False, num_workers = 0)"
   ]
  },
  {
   "cell_type": "code",
   "execution_count": 67,
   "metadata": {
    "colab": {
     "base_uri": "https://localhost:8080/"
    },
    "id": "T7paaLBxKIKV",
    "outputId": "4de080df-4b1b-4aa0-833e-1be241c51599"
   },
   "outputs": [
    {
     "name": "stdout",
     "output_type": "stream",
     "text": [
      "{'labels': tensor(2), 'features': tensor([-0.5282,  0.9616, -1.3910, -0.4531, -0.2436, -0.4660, -0.3790,  0.5581,\n",
      "         1.2882, -0.5790, -0.9599])}\n"
     ]
    }
   ],
   "source": [
    "# peak into the dataset\n",
    "for i in wine_dataset:\n",
    "    print(i)\n",
    "    break"
   ]
  },
  {
   "cell_type": "markdown",
   "metadata": {
    "id": "wfUddVfdDRpy"
   },
   "source": [
    "## Neural Network"
   ]
  },
  {
   "cell_type": "code",
   "execution_count": 68,
   "metadata": {
    "id": "h3SKAUaHGsE7"
   },
   "outputs": [],
   "source": [
    "# change the device to gpu if available\n",
    "device = torch.device('cuda' if torch.cuda.is_available() else 'cpu')"
   ]
  },
  {
   "cell_type": "code",
   "execution_count": 69,
   "metadata": {
    "id": "xq1Z_rukDTz-"
   },
   "outputs": [],
   "source": [
    "class WineModel(torch.nn.Module):\n",
    "\n",
    "    def __init__(self):\n",
    "        super(WineModel, self).__init__()\n",
    "                                            # ENHANCEMENT 4 (Larger right number)\n",
    "        self.linear1 = torch.nn.Linear(11, 200)\n",
    "        self.activation = torch.nn.ReLU()\n",
    "                                      # ENHANCEMENT 3\n",
    "        self.linear2 = torch.nn.Linear(200, 400) # ENHANCEMENT 4 (Larger numbers)\n",
    "        self.linear3 = torch.nn.Linear(400, 6) # ENHANCEMENT 4 (Larger left number)\n",
    "\n",
    "        self.softmax = torch.nn.Softmax(dim =1)\n",
    "\n",
    "    def forward(self, x):\n",
    "        x = self.linear1(x)\n",
    "        x = self.activation(x)\n",
    "        x = self.linear2(x)\n",
    "        \n",
    "        # ENHANCEMENT 3\n",
    "        x = self.activation(x)\n",
    "        x = self.linear3(x)\n",
    "        x = self.softmax(x)\n",
    "        return x\n",
    "\n",
    "winemodel = WineModel().to(device)"
   ]
  },
  {
   "cell_type": "markdown",
   "metadata": {
    "id": "4qb3GgFzEr5S"
   },
   "source": [
    "## Training"
   ]
  },
  {
   "cell_type": "code",
   "execution_count": 70,
   "metadata": {
    "id": "8_mWSPkrEtcY"
   },
   "outputs": [],
   "source": [
    "# Define and the loss function and optimizer\n",
    "criterion = nn.CrossEntropyLoss().to(device)\n",
    "                                            # ENHANCEMENT 2\n",
    "optimizer = AdamW(winemodel.parameters(), lr = 1e-3)"
   ]
  },
  {
   "cell_type": "code",
   "execution_count": 71,
   "metadata": {
    "id": "AS13PO4tJGnm"
   },
   "outputs": [],
   "source": [
    "# Lets define the training steps\n",
    "\n",
    "def accuracy(preds, labels):\n",
    "    preds = torch.argmax(preds, dim=1).flatten()\n",
    "    labels = labels.flatten()\n",
    "    return torch.sum(preds == labels) / len(labels)\n",
    "\n",
    "def train(model, data_loader, optimizer, criterion):\n",
    "    epoch_loss = 0\n",
    "    epoch_acc = 0\n",
    "\n",
    "    model.train()\n",
    "    for d in tqdm(data_loader):\n",
    "        inputs = d['features'].to(device)\n",
    "        labels = d['labels'].to(device)\n",
    "        outputs = winemodel(inputs)\n",
    "\n",
    "        _, preds = torch.max(outputs, dim=1)\n",
    "        loss = criterion(outputs, labels)\n",
    "        acc = accuracy(outputs, labels)\n",
    "\n",
    "        loss.backward()\n",
    "        optimizer.step()\n",
    "        optimizer.zero_grad()\n",
    "\n",
    "        epoch_loss += loss.item()\n",
    "        epoch_acc += acc.item()\n",
    "\n",
    "    return epoch_loss / len(data_loader), epoch_acc / len(data_loader)\n",
    "\n",
    "# Lets define the testing steps\n",
    "def evaluate(model, data_loader, criterion):\n",
    "    epoch_loss = 0\n",
    "    epoch_acc = 0\n",
    "    # ENHANCEMENT 1\n",
    "    epoch_precision = 0\n",
    "    epoch_recall = 0\n",
    "    epoch_f1 = 0\n",
    "\n",
    "    model.eval()\n",
    "    with torch.no_grad():\n",
    "        for d in data_loader:\n",
    "            inputs = d['features'].to(device)\n",
    "            labels = d['labels'].to(device)\n",
    "            outputs = winemodel(inputs)\n",
    "\n",
    "            _, preds = torch.max(outputs, dim=1)\n",
    "            loss = criterion(outputs, labels)\n",
    "            acc = accuracy(outputs, labels)\n",
    "            epoch_loss += loss.item()\n",
    "            epoch_acc += acc.item()\n",
    "            \n",
    "            # ENHANCEMENT 1\n",
    "            precision = precision_score(labels.cpu(), preds.cpu(), average='weighted', zero_division=0)\n",
    "            recall = recall_score(labels.cpu(), preds.cpu(), average='weighted',zero_division=0)\n",
    "            f1 = f1_score(labels.cpu(), preds.cpu(), average='weighted',zero_division=0)\n",
    "            epoch_precision += precision\n",
    "            epoch_recall += recall\n",
    "            epoch_f1 += f1\n",
    "            \n",
    "    num_batches = len(data_loader)\n",
    "    return (\n",
    "        epoch_loss / num_batches,\n",
    "        epoch_acc / num_batches,\n",
    "        \n",
    "        # ENHANCEMENT 1\n",
    "        epoch_precision / num_batches, \n",
    "        epoch_recall / num_batches,\n",
    "        epoch_f1 / num_batches\n",
    "    )\n",
    "\n"
   ]
  },
  {
   "cell_type": "code",
   "execution_count": 72,
   "metadata": {
    "id": "algZYvjGQYS3",
    "scrolled": true
   },
   "outputs": [
    {
     "data": {
      "application/vnd.jupyter.widget-view+json": {
       "model_id": "204338354b9b4fc986bdf793c45f973e",
       "version_major": 2,
       "version_minor": 0
      },
      "text/plain": [
       "  0%|          | 0/320 [00:00<?, ?it/s]"
      ]
     },
     "metadata": {},
     "output_type": "display_data"
    },
    {
     "name": "stdout",
     "output_type": "stream",
     "text": [
      "| Epoch: 01 | Train Loss: 1.491 | Train Acc: 54.84% | Val. Loss: 1.452 | Val. Acc: 59.38% | Val. Precision: 55.937 | Val. Recall: 59.375 | Val. F1-score: 55.143 |\n"
     ]
    },
    {
     "data": {
      "application/vnd.jupyter.widget-view+json": {
       "model_id": "7144141c196541049cc9b9a2388a2fd0",
       "version_major": 2,
       "version_minor": 0
      },
      "text/plain": [
       "  0%|          | 0/320 [00:00<?, ?it/s]"
      ]
     },
     "metadata": {},
     "output_type": "display_data"
    },
    {
     "name": "stdout",
     "output_type": "stream",
     "text": [
      "| Epoch: 02 | Train Loss: 1.465 | Train Acc: 57.66% | Val. Loss: 1.454 | Val. Acc: 57.50% | Val. Precision: 53.177 | Val. Recall: 57.500 | Val. F1-score: 52.899 |\n"
     ]
    },
    {
     "data": {
      "application/vnd.jupyter.widget-view+json": {
       "model_id": "637fcbe59d4f40f69fd0f431893128ed",
       "version_major": 2,
       "version_minor": 0
      },
      "text/plain": [
       "  0%|          | 0/320 [00:00<?, ?it/s]"
      ]
     },
     "metadata": {},
     "output_type": "display_data"
    },
    {
     "name": "stdout",
     "output_type": "stream",
     "text": [
      "| Epoch: 03 | Train Loss: 1.434 | Train Acc: 60.39% | Val. Loss: 1.475 | Val. Acc: 56.88% | Val. Precision: 59.167 | Val. Recall: 56.875 | Val. F1-score: 54.604 |\n"
     ]
    },
    {
     "data": {
      "application/vnd.jupyter.widget-view+json": {
       "model_id": "0e263ea7cde745599c088d290a920cbe",
       "version_major": 2,
       "version_minor": 0
      },
      "text/plain": [
       "  0%|          | 0/320 [00:00<?, ?it/s]"
      ]
     },
     "metadata": {},
     "output_type": "display_data"
    },
    {
     "name": "stdout",
     "output_type": "stream",
     "text": [
      "| Epoch: 04 | Train Loss: 1.426 | Train Acc: 61.25% | Val. Loss: 1.452 | Val. Acc: 57.50% | Val. Precision: 59.427 | Val. Recall: 57.500 | Val. F1-score: 55.190 |\n"
     ]
    },
    {
     "data": {
      "application/vnd.jupyter.widget-view+json": {
       "model_id": "a853b009f38649c7b122ee4cc8b3676d",
       "version_major": 2,
       "version_minor": 0
      },
      "text/plain": [
       "  0%|          | 0/320 [00:00<?, ?it/s]"
      ]
     },
     "metadata": {},
     "output_type": "display_data"
    },
    {
     "name": "stdout",
     "output_type": "stream",
     "text": [
      "| Epoch: 05 | Train Loss: 1.411 | Train Acc: 63.12% | Val. Loss: 1.429 | Val. Acc: 61.25% | Val. Precision: 62.708 | Val. Recall: 61.250 | Val. F1-score: 58.622 |\n"
     ]
    },
    {
     "data": {
      "application/vnd.jupyter.widget-view+json": {
       "model_id": "cf65b3be00a744758e5c44ad5a707953",
       "version_major": 2,
       "version_minor": 0
      },
      "text/plain": [
       "  0%|          | 0/320 [00:00<?, ?it/s]"
      ]
     },
     "metadata": {},
     "output_type": "display_data"
    },
    {
     "name": "stdout",
     "output_type": "stream",
     "text": [
      "| Epoch: 06 | Train Loss: 1.399 | Train Acc: 63.52% | Val. Loss: 1.435 | Val. Acc: 59.38% | Val. Precision: 62.135 | Val. Recall: 59.375 | Val. F1-score: 57.292 |\n"
     ]
    },
    {
     "data": {
      "application/vnd.jupyter.widget-view+json": {
       "model_id": "b6d16407286f47238f173a48c4292735",
       "version_major": 2,
       "version_minor": 0
      },
      "text/plain": [
       "  0%|          | 0/320 [00:00<?, ?it/s]"
      ]
     },
     "metadata": {},
     "output_type": "display_data"
    },
    {
     "name": "stdout",
     "output_type": "stream",
     "text": [
      "| Epoch: 07 | Train Loss: 1.386 | Train Acc: 65.70% | Val. Loss: 1.419 | Val. Acc: 61.88% | Val. Precision: 64.271 | Val. Recall: 61.875 | Val. F1-score: 59.479 |\n"
     ]
    },
    {
     "data": {
      "application/vnd.jupyter.widget-view+json": {
       "model_id": "5415321e575449a283ac650b12639ec8",
       "version_major": 2,
       "version_minor": 0
      },
      "text/plain": [
       "  0%|          | 0/320 [00:00<?, ?it/s]"
      ]
     },
     "metadata": {},
     "output_type": "display_data"
    },
    {
     "name": "stdout",
     "output_type": "stream",
     "text": [
      "| Epoch: 08 | Train Loss: 1.382 | Train Acc: 65.86% | Val. Loss: 1.417 | Val. Acc: 62.50% | Val. Precision: 64.271 | Val. Recall: 62.500 | Val. F1-score: 59.812 |\n"
     ]
    },
    {
     "data": {
      "application/vnd.jupyter.widget-view+json": {
       "model_id": "bbdb82f9cb4e4c25bce39d45f054159c",
       "version_major": 2,
       "version_minor": 0
      },
      "text/plain": [
       "  0%|          | 0/320 [00:00<?, ?it/s]"
      ]
     },
     "metadata": {},
     "output_type": "display_data"
    },
    {
     "name": "stdout",
     "output_type": "stream",
     "text": [
      "| Epoch: 09 | Train Loss: 1.376 | Train Acc: 66.64% | Val. Loss: 1.430 | Val. Acc: 61.25% | Val. Precision: 64.427 | Val. Recall: 61.250 | Val. F1-score: 58.979 |\n"
     ]
    },
    {
     "data": {
      "application/vnd.jupyter.widget-view+json": {
       "model_id": "280327b1e5f049118c97c6001e61e404",
       "version_major": 2,
       "version_minor": 0
      },
      "text/plain": [
       "  0%|          | 0/320 [00:00<?, ?it/s]"
      ]
     },
     "metadata": {},
     "output_type": "display_data"
    },
    {
     "name": "stdout",
     "output_type": "stream",
     "text": [
      "| Epoch: 10 | Train Loss: 1.383 | Train Acc: 65.94% | Val. Loss: 1.401 | Val. Acc: 64.38% | Val. Precision: 66.406 | Val. Recall: 64.375 | Val. F1-score: 61.896 |\n"
     ]
    },
    {
     "data": {
      "application/vnd.jupyter.widget-view+json": {
       "model_id": "9b694779a4134c1cb8ef3bd2396d879a",
       "version_major": 2,
       "version_minor": 0
      },
      "text/plain": [
       "  0%|          | 0/320 [00:00<?, ?it/s]"
      ]
     },
     "metadata": {},
     "output_type": "display_data"
    },
    {
     "name": "stdout",
     "output_type": "stream",
     "text": [
      "| Epoch: 11 | Train Loss: 1.356 | Train Acc: 69.14% | Val. Loss: 1.447 | Val. Acc: 60.00% | Val. Precision: 63.906 | Val. Recall: 60.000 | Val. F1-score: 57.857 |\n"
     ]
    },
    {
     "data": {
      "application/vnd.jupyter.widget-view+json": {
       "model_id": "d6d69a9d872f419d94b86dc7b1a3f3e9",
       "version_major": 2,
       "version_minor": 0
      },
      "text/plain": [
       "  0%|          | 0/320 [00:00<?, ?it/s]"
      ]
     },
     "metadata": {},
     "output_type": "display_data"
    },
    {
     "name": "stdout",
     "output_type": "stream",
     "text": [
      "| Epoch: 12 | Train Loss: 1.358 | Train Acc: 68.44% | Val. Loss: 1.425 | Val. Acc: 61.88% | Val. Precision: 65.260 | Val. Recall: 61.875 | Val. F1-score: 60.128 |\n"
     ]
    },
    {
     "data": {
      "application/vnd.jupyter.widget-view+json": {
       "model_id": "eb74419304454ee3ba2d878daa4bfbdd",
       "version_major": 2,
       "version_minor": 0
      },
      "text/plain": [
       "  0%|          | 0/320 [00:00<?, ?it/s]"
      ]
     },
     "metadata": {},
     "output_type": "display_data"
    },
    {
     "name": "stdout",
     "output_type": "stream",
     "text": [
      "| Epoch: 13 | Train Loss: 1.354 | Train Acc: 68.83% | Val. Loss: 1.427 | Val. Acc: 61.25% | Val. Precision: 63.958 | Val. Recall: 61.250 | Val. F1-score: 59.104 |\n"
     ]
    },
    {
     "data": {
      "application/vnd.jupyter.widget-view+json": {
       "model_id": "8a963d68955047b98bf3f1942a81e1a6",
       "version_major": 2,
       "version_minor": 0
      },
      "text/plain": [
       "  0%|          | 0/320 [00:00<?, ?it/s]"
      ]
     },
     "metadata": {},
     "output_type": "display_data"
    },
    {
     "name": "stdout",
     "output_type": "stream",
     "text": [
      "| Epoch: 14 | Train Loss: 1.346 | Train Acc: 69.77% | Val. Loss: 1.411 | Val. Acc: 63.12% | Val. Precision: 66.094 | Val. Recall: 63.125 | Val. F1-score: 61.375 |\n"
     ]
    },
    {
     "data": {
      "application/vnd.jupyter.widget-view+json": {
       "model_id": "48d34e09f41a4166ab36186733f3964b",
       "version_major": 2,
       "version_minor": 0
      },
      "text/plain": [
       "  0%|          | 0/320 [00:00<?, ?it/s]"
      ]
     },
     "metadata": {},
     "output_type": "display_data"
    },
    {
     "name": "stdout",
     "output_type": "stream",
     "text": [
      "| Epoch: 15 | Train Loss: 1.337 | Train Acc: 70.94% | Val. Loss: 1.406 | Val. Acc: 63.75% | Val. Precision: 65.521 | Val. Recall: 63.750 | Val. F1-score: 61.170 |\n"
     ]
    },
    {
     "data": {
      "application/vnd.jupyter.widget-view+json": {
       "model_id": "af29f41d276c49f088084873a3ab5fd7",
       "version_major": 2,
       "version_minor": 0
      },
      "text/plain": [
       "  0%|          | 0/320 [00:00<?, ?it/s]"
      ]
     },
     "metadata": {},
     "output_type": "display_data"
    },
    {
     "name": "stdout",
     "output_type": "stream",
     "text": [
      "| Epoch: 16 | Train Loss: 1.339 | Train Acc: 70.31% | Val. Loss: 1.406 | Val. Acc: 65.00% | Val. Precision: 66.615 | Val. Recall: 65.000 | Val. F1-score: 62.378 |\n"
     ]
    },
    {
     "data": {
      "application/vnd.jupyter.widget-view+json": {
       "model_id": "2bd12045e5e248cfb52aee6521a5a827",
       "version_major": 2,
       "version_minor": 0
      },
      "text/plain": [
       "  0%|          | 0/320 [00:00<?, ?it/s]"
      ]
     },
     "metadata": {},
     "output_type": "display_data"
    },
    {
     "name": "stdout",
     "output_type": "stream",
     "text": [
      "| Epoch: 17 | Train Loss: 1.341 | Train Acc: 70.16% | Val. Loss: 1.420 | Val. Acc: 61.88% | Val. Precision: 63.125 | Val. Recall: 61.875 | Val. F1-score: 59.086 |\n"
     ]
    },
    {
     "data": {
      "application/vnd.jupyter.widget-view+json": {
       "model_id": "4c7a53e54eb345f0bc97d3ec0fac9698",
       "version_major": 2,
       "version_minor": 0
      },
      "text/plain": [
       "  0%|          | 0/320 [00:00<?, ?it/s]"
      ]
     },
     "metadata": {},
     "output_type": "display_data"
    },
    {
     "name": "stdout",
     "output_type": "stream",
     "text": [
      "| Epoch: 18 | Train Loss: 1.330 | Train Acc: 71.41% | Val. Loss: 1.412 | Val. Acc: 61.88% | Val. Precision: 64.271 | Val. Recall: 61.875 | Val. F1-score: 59.312 |\n"
     ]
    },
    {
     "data": {
      "application/vnd.jupyter.widget-view+json": {
       "model_id": "6b9ed78131c14c64a5e2aa4ba43de4ef",
       "version_major": 2,
       "version_minor": 0
      },
      "text/plain": [
       "  0%|          | 0/320 [00:00<?, ?it/s]"
      ]
     },
     "metadata": {},
     "output_type": "display_data"
    },
    {
     "name": "stdout",
     "output_type": "stream",
     "text": [
      "| Epoch: 19 | Train Loss: 1.321 | Train Acc: 72.81% | Val. Loss: 1.401 | Val. Acc: 64.38% | Val. Precision: 65.938 | Val. Recall: 64.375 | Val. F1-score: 61.503 |\n"
     ]
    },
    {
     "data": {
      "application/vnd.jupyter.widget-view+json": {
       "model_id": "d9d5ccc402c74f96943e89bc4560183b",
       "version_major": 2,
       "version_minor": 0
      },
      "text/plain": [
       "  0%|          | 0/320 [00:00<?, ?it/s]"
      ]
     },
     "metadata": {},
     "output_type": "display_data"
    },
    {
     "name": "stdout",
     "output_type": "stream",
     "text": [
      "| Epoch: 20 | Train Loss: 1.322 | Train Acc: 72.66% | Val. Loss: 1.413 | Val. Acc: 63.12% | Val. Precision: 67.135 | Val. Recall: 63.125 | Val. F1-score: 61.188 |\n"
     ]
    },
    {
     "data": {
      "application/vnd.jupyter.widget-view+json": {
       "model_id": "b8487360f84d430d89909ca668587132",
       "version_major": 2,
       "version_minor": 0
      },
      "text/plain": [
       "  0%|          | 0/320 [00:00<?, ?it/s]"
      ]
     },
     "metadata": {},
     "output_type": "display_data"
    },
    {
     "name": "stdout",
     "output_type": "stream",
     "text": [
      "| Epoch: 21 | Train Loss: 1.323 | Train Acc: 72.58% | Val. Loss: 1.410 | Val. Acc: 63.12% | Val. Precision: 66.510 | Val. Recall: 63.125 | Val. F1-score: 61.083 |\n"
     ]
    },
    {
     "data": {
      "application/vnd.jupyter.widget-view+json": {
       "model_id": "4d86cc72f0204c14bbbb51ed6195c2a6",
       "version_major": 2,
       "version_minor": 0
      },
      "text/plain": [
       "  0%|          | 0/320 [00:00<?, ?it/s]"
      ]
     },
     "metadata": {},
     "output_type": "display_data"
    },
    {
     "name": "stdout",
     "output_type": "stream",
     "text": [
      "| Epoch: 22 | Train Loss: 1.331 | Train Acc: 71.33% | Val. Loss: 1.441 | Val. Acc: 60.00% | Val. Precision: 63.437 | Val. Recall: 60.000 | Val. F1-score: 58.438 |\n"
     ]
    },
    {
     "data": {
      "application/vnd.jupyter.widget-view+json": {
       "model_id": "d12d4dda2c00408c8c43746db6111375",
       "version_major": 2,
       "version_minor": 0
      },
      "text/plain": [
       "  0%|          | 0/320 [00:00<?, ?it/s]"
      ]
     },
     "metadata": {},
     "output_type": "display_data"
    },
    {
     "name": "stdout",
     "output_type": "stream",
     "text": [
      "| Epoch: 23 | Train Loss: 1.336 | Train Acc: 70.62% | Val. Loss: 1.426 | Val. Acc: 61.25% | Val. Precision: 64.583 | Val. Recall: 61.250 | Val. F1-score: 58.979 |\n"
     ]
    },
    {
     "data": {
      "application/vnd.jupyter.widget-view+json": {
       "model_id": "44fc5ed0fef945bfbafa540009d94402",
       "version_major": 2,
       "version_minor": 0
      },
      "text/plain": [
       "  0%|          | 0/320 [00:00<?, ?it/s]"
      ]
     },
     "metadata": {},
     "output_type": "display_data"
    },
    {
     "name": "stdout",
     "output_type": "stream",
     "text": [
      "| Epoch: 24 | Train Loss: 1.329 | Train Acc: 71.72% | Val. Loss: 1.415 | Val. Acc: 63.75% | Val. Precision: 65.938 | Val. Recall: 63.750 | Val. F1-score: 61.586 |\n"
     ]
    },
    {
     "data": {
      "application/vnd.jupyter.widget-view+json": {
       "model_id": "dd51b871c6a7432a8b3fc6d3196ba6c5",
       "version_major": 2,
       "version_minor": 0
      },
      "text/plain": [
       "  0%|          | 0/320 [00:00<?, ?it/s]"
      ]
     },
     "metadata": {},
     "output_type": "display_data"
    },
    {
     "name": "stdout",
     "output_type": "stream",
     "text": [
      "| Epoch: 25 | Train Loss: 1.325 | Train Acc: 71.88% | Val. Loss: 1.429 | Val. Acc: 61.25% | Val. Precision: 65.260 | Val. Recall: 61.250 | Val. F1-score: 59.375 |\n"
     ]
    },
    {
     "data": {
      "application/vnd.jupyter.widget-view+json": {
       "model_id": "eec7a4d23be4402baa6c53f129afd13b",
       "version_major": 2,
       "version_minor": 0
      },
      "text/plain": [
       "  0%|          | 0/320 [00:00<?, ?it/s]"
      ]
     },
     "metadata": {},
     "output_type": "display_data"
    },
    {
     "name": "stdout",
     "output_type": "stream",
     "text": [
      "| Epoch: 26 | Train Loss: 1.332 | Train Acc: 71.17% | Val. Loss: 1.433 | Val. Acc: 60.62% | Val. Precision: 65.677 | Val. Recall: 60.625 | Val. F1-score: 59.125 |\n"
     ]
    },
    {
     "data": {
      "application/vnd.jupyter.widget-view+json": {
       "model_id": "2975debf8dd747b3880adafaa2be78b1",
       "version_major": 2,
       "version_minor": 0
      },
      "text/plain": [
       "  0%|          | 0/320 [00:00<?, ?it/s]"
      ]
     },
     "metadata": {},
     "output_type": "display_data"
    },
    {
     "name": "stdout",
     "output_type": "stream",
     "text": [
      "| Epoch: 27 | Train Loss: 1.319 | Train Acc: 72.34% | Val. Loss: 1.422 | Val. Acc: 62.50% | Val. Precision: 67.656 | Val. Recall: 62.500 | Val. F1-score: 60.789 |\n"
     ]
    },
    {
     "data": {
      "application/vnd.jupyter.widget-view+json": {
       "model_id": "f909e66d20a14125a178c58a4f901dbb",
       "version_major": 2,
       "version_minor": 0
      },
      "text/plain": [
       "  0%|          | 0/320 [00:00<?, ?it/s]"
      ]
     },
     "metadata": {},
     "output_type": "display_data"
    },
    {
     "name": "stdout",
     "output_type": "stream",
     "text": [
      "| Epoch: 28 | Train Loss: 1.318 | Train Acc: 72.66% | Val. Loss: 1.430 | Val. Acc: 61.25% | Val. Precision: 64.635 | Val. Recall: 61.250 | Val. F1-score: 58.854 |\n"
     ]
    },
    {
     "data": {
      "application/vnd.jupyter.widget-view+json": {
       "model_id": "43724ec2a1a4495cb5654c52f1a56452",
       "version_major": 2,
       "version_minor": 0
      },
      "text/plain": [
       "  0%|          | 0/320 [00:00<?, ?it/s]"
      ]
     },
     "metadata": {},
     "output_type": "display_data"
    },
    {
     "name": "stdout",
     "output_type": "stream",
     "text": [
      "| Epoch: 29 | Train Loss: 1.327 | Train Acc: 71.72% | Val. Loss: 1.433 | Val. Acc: 60.62% | Val. Precision: 62.292 | Val. Recall: 60.625 | Val. F1-score: 58.039 |\n"
     ]
    },
    {
     "data": {
      "application/vnd.jupyter.widget-view+json": {
       "model_id": "eda7d162dfe947d1b675887e44c52b8b",
       "version_major": 2,
       "version_minor": 0
      },
      "text/plain": [
       "  0%|          | 0/320 [00:00<?, ?it/s]"
      ]
     },
     "metadata": {},
     "output_type": "display_data"
    },
    {
     "name": "stdout",
     "output_type": "stream",
     "text": [
      "| Epoch: 30 | Train Loss: 1.313 | Train Acc: 73.20% | Val. Loss: 1.415 | Val. Acc: 62.50% | Val. Precision: 64.896 | Val. Recall: 62.500 | Val. F1-score: 60.080 |\n"
     ]
    },
    {
     "data": {
      "application/vnd.jupyter.widget-view+json": {
       "model_id": "31ec8933bf5341d7b9423ee9fd89bbed",
       "version_major": 2,
       "version_minor": 0
      },
      "text/plain": [
       "  0%|          | 0/320 [00:00<?, ?it/s]"
      ]
     },
     "metadata": {},
     "output_type": "display_data"
    },
    {
     "name": "stdout",
     "output_type": "stream",
     "text": [
      "| Epoch: 31 | Train Loss: 1.308 | Train Acc: 73.83% | Val. Loss: 1.409 | Val. Acc: 63.75% | Val. Precision: 66.667 | Val. Recall: 63.750 | Val. F1-score: 61.649 |\n"
     ]
    },
    {
     "data": {
      "application/vnd.jupyter.widget-view+json": {
       "model_id": "c0ad177f32484d4fa6a7643a8251c40f",
       "version_major": 2,
       "version_minor": 0
      },
      "text/plain": [
       "  0%|          | 0/320 [00:00<?, ?it/s]"
      ]
     },
     "metadata": {},
     "output_type": "display_data"
    },
    {
     "name": "stdout",
     "output_type": "stream",
     "text": [
      "| Epoch: 32 | Train Loss: 1.303 | Train Acc: 74.30% | Val. Loss: 1.402 | Val. Acc: 64.38% | Val. Precision: 66.146 | Val. Recall: 64.375 | Val. F1-score: 61.795 |\n"
     ]
    },
    {
     "data": {
      "application/vnd.jupyter.widget-view+json": {
       "model_id": "1e5d26d8c1a246dfa7f8e800e7e8eeca",
       "version_major": 2,
       "version_minor": 0
      },
      "text/plain": [
       "  0%|          | 0/320 [00:00<?, ?it/s]"
      ]
     },
     "metadata": {},
     "output_type": "display_data"
    },
    {
     "name": "stdout",
     "output_type": "stream",
     "text": [
      "| Epoch: 33 | Train Loss: 1.308 | Train Acc: 73.44% | Val. Loss: 1.439 | Val. Acc: 60.00% | Val. Precision: 63.802 | Val. Recall: 60.000 | Val. F1-score: 58.188 |\n"
     ]
    },
    {
     "data": {
      "application/vnd.jupyter.widget-view+json": {
       "model_id": "4a39ab484b974f448e1044c8971f6535",
       "version_major": 2,
       "version_minor": 0
      },
      "text/plain": [
       "  0%|          | 0/320 [00:00<?, ?it/s]"
      ]
     },
     "metadata": {},
     "output_type": "display_data"
    },
    {
     "name": "stdout",
     "output_type": "stream",
     "text": [
      "| Epoch: 34 | Train Loss: 1.322 | Train Acc: 72.42% | Val. Loss: 1.401 | Val. Acc: 65.00% | Val. Precision: 66.458 | Val. Recall: 65.000 | Val. F1-score: 61.920 |\n"
     ]
    },
    {
     "data": {
      "application/vnd.jupyter.widget-view+json": {
       "model_id": "689ef9ed76b4486a845bb77e2a2894df",
       "version_major": 2,
       "version_minor": 0
      },
      "text/plain": [
       "  0%|          | 0/320 [00:00<?, ?it/s]"
      ]
     },
     "metadata": {},
     "output_type": "display_data"
    },
    {
     "name": "stdout",
     "output_type": "stream",
     "text": [
      "| Epoch: 35 | Train Loss: 1.320 | Train Acc: 72.19% | Val. Loss: 1.420 | Val. Acc: 61.88% | Val. Precision: 65.365 | Val. Recall: 61.875 | Val. F1-score: 59.958 |\n"
     ]
    },
    {
     "data": {
      "application/vnd.jupyter.widget-view+json": {
       "model_id": "603936281a854ebbadd79da8561b47da",
       "version_major": 2,
       "version_minor": 0
      },
      "text/plain": [
       "  0%|          | 0/320 [00:00<?, ?it/s]"
      ]
     },
     "metadata": {},
     "output_type": "display_data"
    },
    {
     "name": "stdout",
     "output_type": "stream",
     "text": [
      "| Epoch: 36 | Train Loss: 1.309 | Train Acc: 73.36% | Val. Loss: 1.417 | Val. Acc: 63.12% | Val. Precision: 67.760 | Val. Recall: 63.125 | Val. F1-score: 61.768 |\n"
     ]
    },
    {
     "data": {
      "application/vnd.jupyter.widget-view+json": {
       "model_id": "b178a0efd3f44d479d3fefb6645e8c46",
       "version_major": 2,
       "version_minor": 0
      },
      "text/plain": [
       "  0%|          | 0/320 [00:00<?, ?it/s]"
      ]
     },
     "metadata": {},
     "output_type": "display_data"
    },
    {
     "name": "stdout",
     "output_type": "stream",
     "text": [
      "| Epoch: 37 | Train Loss: 1.306 | Train Acc: 74.14% | Val. Loss: 1.398 | Val. Acc: 64.38% | Val. Precision: 66.615 | Val. Recall: 64.375 | Val. F1-score: 62.021 |\n"
     ]
    },
    {
     "data": {
      "application/vnd.jupyter.widget-view+json": {
       "model_id": "c84eb6fd734948eea01e7e56d96afa71",
       "version_major": 2,
       "version_minor": 0
      },
      "text/plain": [
       "  0%|          | 0/320 [00:00<?, ?it/s]"
      ]
     },
     "metadata": {},
     "output_type": "display_data"
    },
    {
     "name": "stdout",
     "output_type": "stream",
     "text": [
      "| Epoch: 38 | Train Loss: 1.307 | Train Acc: 73.67% | Val. Loss: 1.418 | Val. Acc: 62.50% | Val. Precision: 65.885 | Val. Recall: 62.500 | Val. F1-score: 60.333 |\n"
     ]
    },
    {
     "data": {
      "application/vnd.jupyter.widget-view+json": {
       "model_id": "3befbee6ca154ce6926bf219c9acc936",
       "version_major": 2,
       "version_minor": 0
      },
      "text/plain": [
       "  0%|          | 0/320 [00:00<?, ?it/s]"
      ]
     },
     "metadata": {},
     "output_type": "display_data"
    },
    {
     "name": "stdout",
     "output_type": "stream",
     "text": [
      "| Epoch: 39 | Train Loss: 1.298 | Train Acc: 74.84% | Val. Loss: 1.430 | Val. Acc: 61.25% | Val. Precision: 65.469 | Val. Recall: 61.250 | Val. F1-score: 59.357 |\n"
     ]
    },
    {
     "data": {
      "application/vnd.jupyter.widget-view+json": {
       "model_id": "4ae06976291744c49b06f8933fb1be64",
       "version_major": 2,
       "version_minor": 0
      },
      "text/plain": [
       "  0%|          | 0/320 [00:00<?, ?it/s]"
      ]
     },
     "metadata": {},
     "output_type": "display_data"
    },
    {
     "name": "stdout",
     "output_type": "stream",
     "text": [
      "| Epoch: 40 | Train Loss: 1.312 | Train Acc: 73.44% | Val. Loss: 1.453 | Val. Acc: 60.00% | Val. Precision: 66.198 | Val. Recall: 60.000 | Val. F1-score: 59.062 |\n"
     ]
    },
    {
     "data": {
      "application/vnd.jupyter.widget-view+json": {
       "model_id": "9c7faf8b7c8f4015867b3a15bbc0bf6a",
       "version_major": 2,
       "version_minor": 0
      },
      "text/plain": [
       "  0%|          | 0/320 [00:00<?, ?it/s]"
      ]
     },
     "metadata": {},
     "output_type": "display_data"
    },
    {
     "name": "stdout",
     "output_type": "stream",
     "text": [
      "| Epoch: 41 | Train Loss: 1.307 | Train Acc: 73.67% | Val. Loss: 1.431 | Val. Acc: 61.25% | Val. Precision: 65.573 | Val. Recall: 61.250 | Val. F1-score: 59.312 |\n"
     ]
    },
    {
     "data": {
      "application/vnd.jupyter.widget-view+json": {
       "model_id": "27eb5b527a464a6592bc203971b5dd35",
       "version_major": 2,
       "version_minor": 0
      },
      "text/plain": [
       "  0%|          | 0/320 [00:00<?, ?it/s]"
      ]
     },
     "metadata": {},
     "output_type": "display_data"
    },
    {
     "name": "stdout",
     "output_type": "stream",
     "text": [
      "| Epoch: 42 | Train Loss: 1.300 | Train Acc: 74.69% | Val. Loss: 1.427 | Val. Acc: 61.88% | Val. Precision: 65.833 | Val. Recall: 61.875 | Val. F1-score: 60.086 |\n"
     ]
    },
    {
     "data": {
      "application/vnd.jupyter.widget-view+json": {
       "model_id": "7a292dab361f4de0b3751149e39db005",
       "version_major": 2,
       "version_minor": 0
      },
      "text/plain": [
       "  0%|          | 0/320 [00:00<?, ?it/s]"
      ]
     },
     "metadata": {},
     "output_type": "display_data"
    },
    {
     "name": "stdout",
     "output_type": "stream",
     "text": [
      "| Epoch: 43 | Train Loss: 1.302 | Train Acc: 74.22% | Val. Loss: 1.442 | Val. Acc: 60.62% | Val. Precision: 62.292 | Val. Recall: 60.625 | Val. F1-score: 58.065 |\n"
     ]
    },
    {
     "data": {
      "application/vnd.jupyter.widget-view+json": {
       "model_id": "f420af1d5af64cbaaa26532df2dfb119",
       "version_major": 2,
       "version_minor": 0
      },
      "text/plain": [
       "  0%|          | 0/320 [00:00<?, ?it/s]"
      ]
     },
     "metadata": {},
     "output_type": "display_data"
    },
    {
     "name": "stdout",
     "output_type": "stream",
     "text": [
      "| Epoch: 44 | Train Loss: 1.298 | Train Acc: 74.61% | Val. Loss: 1.424 | Val. Acc: 62.50% | Val. Precision: 67.135 | Val. Recall: 62.500 | Val. F1-score: 60.750 |\n"
     ]
    },
    {
     "data": {
      "application/vnd.jupyter.widget-view+json": {
       "model_id": "046fe9219fc54a71bad82bada8631928",
       "version_major": 2,
       "version_minor": 0
      },
      "text/plain": [
       "  0%|          | 0/320 [00:00<?, ?it/s]"
      ]
     },
     "metadata": {},
     "output_type": "display_data"
    },
    {
     "name": "stdout",
     "output_type": "stream",
     "text": [
      "| Epoch: 45 | Train Loss: 1.304 | Train Acc: 73.75% | Val. Loss: 1.413 | Val. Acc: 63.75% | Val. Precision: 66.354 | Val. Recall: 63.750 | Val. F1-score: 61.170 |\n"
     ]
    },
    {
     "data": {
      "application/vnd.jupyter.widget-view+json": {
       "model_id": "0849324af41245978cc74c4d4582e4a8",
       "version_major": 2,
       "version_minor": 0
      },
      "text/plain": [
       "  0%|          | 0/320 [00:00<?, ?it/s]"
      ]
     },
     "metadata": {},
     "output_type": "display_data"
    },
    {
     "name": "stdout",
     "output_type": "stream",
     "text": [
      "| Epoch: 46 | Train Loss: 1.307 | Train Acc: 73.67% | Val. Loss: 1.413 | Val. Acc: 62.50% | Val. Precision: 64.948 | Val. Recall: 62.500 | Val. F1-score: 60.604 |\n"
     ]
    },
    {
     "data": {
      "application/vnd.jupyter.widget-view+json": {
       "model_id": "63f8f21ed9584dd593d4a91ef3dfdf6e",
       "version_major": 2,
       "version_minor": 0
      },
      "text/plain": [
       "  0%|          | 0/320 [00:00<?, ?it/s]"
      ]
     },
     "metadata": {},
     "output_type": "display_data"
    },
    {
     "name": "stdout",
     "output_type": "stream",
     "text": [
      "| Epoch: 47 | Train Loss: 1.296 | Train Acc: 74.69% | Val. Loss: 1.440 | Val. Acc: 60.00% | Val. Precision: 64.844 | Val. Recall: 60.000 | Val. F1-score: 58.268 |\n"
     ]
    },
    {
     "data": {
      "application/vnd.jupyter.widget-view+json": {
       "model_id": "b96e3da2d808453293599c0482a4aea9",
       "version_major": 2,
       "version_minor": 0
      },
      "text/plain": [
       "  0%|          | 0/320 [00:00<?, ?it/s]"
      ]
     },
     "metadata": {},
     "output_type": "display_data"
    },
    {
     "name": "stdout",
     "output_type": "stream",
     "text": [
      "| Epoch: 48 | Train Loss: 1.299 | Train Acc: 74.77% | Val. Loss: 1.398 | Val. Acc: 64.38% | Val. Precision: 66.667 | Val. Recall: 64.375 | Val. F1-score: 61.854 |\n"
     ]
    },
    {
     "data": {
      "application/vnd.jupyter.widget-view+json": {
       "model_id": "4ba1fb0169b74d6d82052ce650315625",
       "version_major": 2,
       "version_minor": 0
      },
      "text/plain": [
       "  0%|          | 0/320 [00:00<?, ?it/s]"
      ]
     },
     "metadata": {},
     "output_type": "display_data"
    },
    {
     "name": "stdout",
     "output_type": "stream",
     "text": [
      "| Epoch: 49 | Train Loss: 1.292 | Train Acc: 75.16% | Val. Loss: 1.403 | Val. Acc: 64.38% | Val. Precision: 66.562 | Val. Recall: 64.375 | Val. F1-score: 61.586 |\n"
     ]
    },
    {
     "data": {
      "application/vnd.jupyter.widget-view+json": {
       "model_id": "4b2d15038f824e86b84f1cc39ad90782",
       "version_major": 2,
       "version_minor": 0
      },
      "text/plain": [
       "  0%|          | 0/320 [00:00<?, ?it/s]"
      ]
     },
     "metadata": {},
     "output_type": "display_data"
    },
    {
     "name": "stdout",
     "output_type": "stream",
     "text": [
      "| Epoch: 50 | Train Loss: 1.293 | Train Acc: 75.31% | Val. Loss: 1.406 | Val. Acc: 63.12% | Val. Precision: 65.208 | Val. Recall: 63.125 | Val. F1-score: 60.774 |\n"
     ]
    },
    {
     "data": {
      "application/vnd.jupyter.widget-view+json": {
       "model_id": "7d4a6b3c34b149078bcca5cb4e391f92",
       "version_major": 2,
       "version_minor": 0
      },
      "text/plain": [
       "  0%|          | 0/320 [00:00<?, ?it/s]"
      ]
     },
     "metadata": {},
     "output_type": "display_data"
    },
    {
     "name": "stdout",
     "output_type": "stream",
     "text": [
      "| Epoch: 51 | Train Loss: 1.296 | Train Acc: 74.92% | Val. Loss: 1.410 | Val. Acc: 63.12% | Val. Precision: 65.729 | Val. Recall: 63.125 | Val. F1-score: 60.583 |\n"
     ]
    },
    {
     "data": {
      "application/vnd.jupyter.widget-view+json": {
       "model_id": "5f77a7c68c9340fc963019f04942dc8c",
       "version_major": 2,
       "version_minor": 0
      },
      "text/plain": [
       "  0%|          | 0/320 [00:00<?, ?it/s]"
      ]
     },
     "metadata": {},
     "output_type": "display_data"
    },
    {
     "name": "stdout",
     "output_type": "stream",
     "text": [
      "| Epoch: 52 | Train Loss: 1.292 | Train Acc: 75.16% | Val. Loss: 1.417 | Val. Acc: 62.50% | Val. Precision: 66.927 | Val. Recall: 62.500 | Val. F1-score: 60.643 |\n"
     ]
    },
    {
     "data": {
      "application/vnd.jupyter.widget-view+json": {
       "model_id": "942a0cf323bd4fdf9b4e2b8e2e6dab08",
       "version_major": 2,
       "version_minor": 0
      },
      "text/plain": [
       "  0%|          | 0/320 [00:00<?, ?it/s]"
      ]
     },
     "metadata": {},
     "output_type": "display_data"
    },
    {
     "name": "stdout",
     "output_type": "stream",
     "text": [
      "| Epoch: 53 | Train Loss: 1.296 | Train Acc: 74.69% | Val. Loss: 1.452 | Val. Acc: 59.38% | Val. Precision: 62.656 | Val. Recall: 59.375 | Val. F1-score: 57.042 |\n"
     ]
    },
    {
     "data": {
      "application/vnd.jupyter.widget-view+json": {
       "model_id": "df173679038c4e3bac9f36adaf8af831",
       "version_major": 2,
       "version_minor": 0
      },
      "text/plain": [
       "  0%|          | 0/320 [00:00<?, ?it/s]"
      ]
     },
     "metadata": {},
     "output_type": "display_data"
    },
    {
     "name": "stdout",
     "output_type": "stream",
     "text": [
      "| Epoch: 54 | Train Loss: 1.307 | Train Acc: 73.91% | Val. Loss: 1.440 | Val. Acc: 59.38% | Val. Precision: 63.021 | Val. Recall: 59.375 | Val. F1-score: 57.271 |\n"
     ]
    },
    {
     "data": {
      "application/vnd.jupyter.widget-view+json": {
       "model_id": "190f6af2c7014d8789804c3f93bd2e3f",
       "version_major": 2,
       "version_minor": 0
      },
      "text/plain": [
       "  0%|          | 0/320 [00:00<?, ?it/s]"
      ]
     },
     "metadata": {},
     "output_type": "display_data"
    },
    {
     "name": "stdout",
     "output_type": "stream",
     "text": [
      "| Epoch: 55 | Train Loss: 1.297 | Train Acc: 74.61% | Val. Loss: 1.406 | Val. Acc: 63.12% | Val. Precision: 66.146 | Val. Recall: 63.125 | Val. F1-score: 60.810 |\n"
     ]
    },
    {
     "data": {
      "application/vnd.jupyter.widget-view+json": {
       "model_id": "b9f8961ec44a4e9eb0132253045ae765",
       "version_major": 2,
       "version_minor": 0
      },
      "text/plain": [
       "  0%|          | 0/320 [00:00<?, ?it/s]"
      ]
     },
     "metadata": {},
     "output_type": "display_data"
    },
    {
     "name": "stdout",
     "output_type": "stream",
     "text": [
      "| Epoch: 56 | Train Loss: 1.296 | Train Acc: 74.92% | Val. Loss: 1.386 | Val. Acc: 66.25% | Val. Precision: 68.177 | Val. Recall: 66.250 | Val. F1-score: 63.461 |\n"
     ]
    },
    {
     "data": {
      "application/vnd.jupyter.widget-view+json": {
       "model_id": "1d7e26bfc9ac4fb68924d310b21da251",
       "version_major": 2,
       "version_minor": 0
      },
      "text/plain": [
       "  0%|          | 0/320 [00:00<?, ?it/s]"
      ]
     },
     "metadata": {},
     "output_type": "display_data"
    },
    {
     "name": "stdout",
     "output_type": "stream",
     "text": [
      "| Epoch: 57 | Train Loss: 1.295 | Train Acc: 75.00% | Val. Loss: 1.388 | Val. Acc: 65.62% | Val. Precision: 68.125 | Val. Recall: 65.625 | Val. F1-score: 62.836 |\n"
     ]
    },
    {
     "data": {
      "application/vnd.jupyter.widget-view+json": {
       "model_id": "73ea8864df77442c825ec5733918730a",
       "version_major": 2,
       "version_minor": 0
      },
      "text/plain": [
       "  0%|          | 0/320 [00:00<?, ?it/s]"
      ]
     },
     "metadata": {},
     "output_type": "display_data"
    },
    {
     "name": "stdout",
     "output_type": "stream",
     "text": [
      "| Epoch: 58 | Train Loss: 1.287 | Train Acc: 75.78% | Val. Loss: 1.427 | Val. Acc: 61.88% | Val. Precision: 65.625 | Val. Recall: 61.875 | Val. F1-score: 59.375 |\n"
     ]
    },
    {
     "data": {
      "application/vnd.jupyter.widget-view+json": {
       "model_id": "f05540b7a70b4117977c401846bd8e2c",
       "version_major": 2,
       "version_minor": 0
      },
      "text/plain": [
       "  0%|          | 0/320 [00:00<?, ?it/s]"
      ]
     },
     "metadata": {},
     "output_type": "display_data"
    },
    {
     "name": "stdout",
     "output_type": "stream",
     "text": [
      "| Epoch: 59 | Train Loss: 1.278 | Train Acc: 76.72% | Val. Loss: 1.401 | Val. Acc: 64.38% | Val. Precision: 66.979 | Val. Recall: 64.375 | Val. F1-score: 61.833 |\n"
     ]
    },
    {
     "data": {
      "application/vnd.jupyter.widget-view+json": {
       "model_id": "cd17a96538d64c4e9d26ff6f014e9af0",
       "version_major": 2,
       "version_minor": 0
      },
      "text/plain": [
       "  0%|          | 0/320 [00:00<?, ?it/s]"
      ]
     },
     "metadata": {},
     "output_type": "display_data"
    },
    {
     "name": "stdout",
     "output_type": "stream",
     "text": [
      "| Epoch: 60 | Train Loss: 1.286 | Train Acc: 75.78% | Val. Loss: 1.434 | Val. Acc: 60.62% | Val. Precision: 65.365 | Val. Recall: 60.625 | Val. F1-score: 58.976 |\n"
     ]
    },
    {
     "data": {
      "application/vnd.jupyter.widget-view+json": {
       "model_id": "5b08bf47b1324b7f9726286efbdda956",
       "version_major": 2,
       "version_minor": 0
      },
      "text/plain": [
       "  0%|          | 0/320 [00:00<?, ?it/s]"
      ]
     },
     "metadata": {},
     "output_type": "display_data"
    },
    {
     "name": "stdout",
     "output_type": "stream",
     "text": [
      "| Epoch: 61 | Train Loss: 1.286 | Train Acc: 75.86% | Val. Loss: 1.425 | Val. Acc: 61.88% | Val. Precision: 64.219 | Val. Recall: 61.875 | Val. F1-score: 59.125 |\n"
     ]
    },
    {
     "data": {
      "application/vnd.jupyter.widget-view+json": {
       "model_id": "1f02582f5b2b4460a8caf15079117000",
       "version_major": 2,
       "version_minor": 0
      },
      "text/plain": [
       "  0%|          | 0/320 [00:00<?, ?it/s]"
      ]
     },
     "metadata": {},
     "output_type": "display_data"
    },
    {
     "name": "stdout",
     "output_type": "stream",
     "text": [
      "| Epoch: 62 | Train Loss: 1.303 | Train Acc: 74.22% | Val. Loss: 1.447 | Val. Acc: 59.38% | Val. Precision: 62.083 | Val. Recall: 59.375 | Val. F1-score: 56.500 |\n"
     ]
    },
    {
     "data": {
      "application/vnd.jupyter.widget-view+json": {
       "model_id": "2f2f76170f814701b6cc5fc093435614",
       "version_major": 2,
       "version_minor": 0
      },
      "text/plain": [
       "  0%|          | 0/320 [00:00<?, ?it/s]"
      ]
     },
     "metadata": {},
     "output_type": "display_data"
    },
    {
     "name": "stdout",
     "output_type": "stream",
     "text": [
      "| Epoch: 63 | Train Loss: 1.294 | Train Acc: 75.16% | Val. Loss: 1.416 | Val. Acc: 63.75% | Val. Precision: 68.385 | Val. Recall: 63.750 | Val. F1-score: 62.000 |\n"
     ]
    },
    {
     "data": {
      "application/vnd.jupyter.widget-view+json": {
       "model_id": "b7a09466c43143f7bd3c9f638da3f056",
       "version_major": 2,
       "version_minor": 0
      },
      "text/plain": [
       "  0%|          | 0/320 [00:00<?, ?it/s]"
      ]
     },
     "metadata": {},
     "output_type": "display_data"
    },
    {
     "name": "stdout",
     "output_type": "stream",
     "text": [
      "| Epoch: 64 | Train Loss: 1.291 | Train Acc: 75.39% | Val. Loss: 1.418 | Val. Acc: 62.50% | Val. Precision: 64.792 | Val. Recall: 62.500 | Val. F1-score: 59.938 |\n"
     ]
    },
    {
     "data": {
      "application/vnd.jupyter.widget-view+json": {
       "model_id": "4173b6ce05d74eb9bb1a34a8106a44d5",
       "version_major": 2,
       "version_minor": 0
      },
      "text/plain": [
       "  0%|          | 0/320 [00:00<?, ?it/s]"
      ]
     },
     "metadata": {},
     "output_type": "display_data"
    },
    {
     "name": "stdout",
     "output_type": "stream",
     "text": [
      "| Epoch: 65 | Train Loss: 1.286 | Train Acc: 75.78% | Val. Loss: 1.412 | Val. Acc: 63.12% | Val. Precision: 66.823 | Val. Recall: 63.125 | Val. F1-score: 60.958 |\n"
     ]
    },
    {
     "data": {
      "application/vnd.jupyter.widget-view+json": {
       "model_id": "bf7d0539654e4fc393a0962e18409db0",
       "version_major": 2,
       "version_minor": 0
      },
      "text/plain": [
       "  0%|          | 0/320 [00:00<?, ?it/s]"
      ]
     },
     "metadata": {},
     "output_type": "display_data"
    },
    {
     "name": "stdout",
     "output_type": "stream",
     "text": [
      "| Epoch: 66 | Train Loss: 1.287 | Train Acc: 75.55% | Val. Loss: 1.424 | Val. Acc: 61.88% | Val. Precision: 65.260 | Val. Recall: 61.875 | Val. F1-score: 59.560 |\n"
     ]
    },
    {
     "data": {
      "application/vnd.jupyter.widget-view+json": {
       "model_id": "9c3d9893bf30420eb30e41388b3ff3d8",
       "version_major": 2,
       "version_minor": 0
      },
      "text/plain": [
       "  0%|          | 0/320 [00:00<?, ?it/s]"
      ]
     },
     "metadata": {},
     "output_type": "display_data"
    },
    {
     "name": "stdout",
     "output_type": "stream",
     "text": [
      "| Epoch: 67 | Train Loss: 1.278 | Train Acc: 76.80% | Val. Loss: 1.409 | Val. Acc: 63.12% | Val. Precision: 66.562 | Val. Recall: 63.125 | Val. F1-score: 60.771 |\n"
     ]
    },
    {
     "data": {
      "application/vnd.jupyter.widget-view+json": {
       "model_id": "839ca1902ecb48b5af180f76504ff3f8",
       "version_major": 2,
       "version_minor": 0
      },
      "text/plain": [
       "  0%|          | 0/320 [00:00<?, ?it/s]"
      ]
     },
     "metadata": {},
     "output_type": "display_data"
    },
    {
     "name": "stdout",
     "output_type": "stream",
     "text": [
      "| Epoch: 68 | Train Loss: 1.280 | Train Acc: 76.48% | Val. Loss: 1.415 | Val. Acc: 63.12% | Val. Precision: 66.354 | Val. Recall: 63.125 | Val. F1-score: 60.690 |\n"
     ]
    },
    {
     "data": {
      "application/vnd.jupyter.widget-view+json": {
       "model_id": "90b2adff27f54d6aba825e71778ffb46",
       "version_major": 2,
       "version_minor": 0
      },
      "text/plain": [
       "  0%|          | 0/320 [00:00<?, ?it/s]"
      ]
     },
     "metadata": {},
     "output_type": "display_data"
    },
    {
     "name": "stdout",
     "output_type": "stream",
     "text": [
      "| Epoch: 69 | Train Loss: 1.274 | Train Acc: 77.11% | Val. Loss: 1.417 | Val. Acc: 62.50% | Val. Precision: 66.823 | Val. Recall: 62.500 | Val. F1-score: 60.435 |\n"
     ]
    },
    {
     "data": {
      "application/vnd.jupyter.widget-view+json": {
       "model_id": "67b94590dc0d435f9a78a203799ed7ac",
       "version_major": 2,
       "version_minor": 0
      },
      "text/plain": [
       "  0%|          | 0/320 [00:00<?, ?it/s]"
      ]
     },
     "metadata": {},
     "output_type": "display_data"
    },
    {
     "name": "stdout",
     "output_type": "stream",
     "text": [
      "| Epoch: 70 | Train Loss: 1.280 | Train Acc: 76.56% | Val. Loss: 1.404 | Val. Acc: 64.38% | Val. Precision: 66.979 | Val. Recall: 64.375 | Val. F1-score: 61.812 |\n"
     ]
    },
    {
     "data": {
      "application/vnd.jupyter.widget-view+json": {
       "model_id": "0ff8cc13764c4448bd4ded31f9b612c1",
       "version_major": 2,
       "version_minor": 0
      },
      "text/plain": [
       "  0%|          | 0/320 [00:00<?, ?it/s]"
      ]
     },
     "metadata": {},
     "output_type": "display_data"
    },
    {
     "name": "stdout",
     "output_type": "stream",
     "text": [
      "| Epoch: 71 | Train Loss: 1.291 | Train Acc: 75.39% | Val. Loss: 1.380 | Val. Acc: 66.25% | Val. Precision: 68.385 | Val. Recall: 66.250 | Val. F1-score: 63.753 |\n"
     ]
    },
    {
     "data": {
      "application/vnd.jupyter.widget-view+json": {
       "model_id": "68e659dc00884a88ab4767db754b5972",
       "version_major": 2,
       "version_minor": 0
      },
      "text/plain": [
       "  0%|          | 0/320 [00:00<?, ?it/s]"
      ]
     },
     "metadata": {},
     "output_type": "display_data"
    },
    {
     "name": "stdout",
     "output_type": "stream",
     "text": [
      "| Epoch: 72 | Train Loss: 1.296 | Train Acc: 74.84% | Val. Loss: 1.423 | Val. Acc: 61.88% | Val. Precision: 66.146 | Val. Recall: 61.875 | Val. F1-score: 60.068 |\n"
     ]
    },
    {
     "data": {
      "application/vnd.jupyter.widget-view+json": {
       "model_id": "481766c6eef74e9dbbde2fc3058a10d8",
       "version_major": 2,
       "version_minor": 0
      },
      "text/plain": [
       "  0%|          | 0/320 [00:00<?, ?it/s]"
      ]
     },
     "metadata": {},
     "output_type": "display_data"
    },
    {
     "name": "stdout",
     "output_type": "stream",
     "text": [
      "| Epoch: 73 | Train Loss: 1.294 | Train Acc: 75.16% | Val. Loss: 1.389 | Val. Acc: 65.62% | Val. Precision: 67.969 | Val. Recall: 65.625 | Val. F1-score: 63.146 |\n"
     ]
    },
    {
     "data": {
      "application/vnd.jupyter.widget-view+json": {
       "model_id": "8f62c2223afd4eabb3ecc8f67443ad8d",
       "version_major": 2,
       "version_minor": 0
      },
      "text/plain": [
       "  0%|          | 0/320 [00:00<?, ?it/s]"
      ]
     },
     "metadata": {},
     "output_type": "display_data"
    },
    {
     "name": "stdout",
     "output_type": "stream",
     "text": [
      "| Epoch: 74 | Train Loss: 1.289 | Train Acc: 75.47% | Val. Loss: 1.387 | Val. Acc: 65.62% | Val. Precision: 69.219 | Val. Recall: 65.625 | Val. F1-score: 63.336 |\n"
     ]
    },
    {
     "data": {
      "application/vnd.jupyter.widget-view+json": {
       "model_id": "8783e833ce6742a88500d31a2a050a50",
       "version_major": 2,
       "version_minor": 0
      },
      "text/plain": [
       "  0%|          | 0/320 [00:00<?, ?it/s]"
      ]
     },
     "metadata": {},
     "output_type": "display_data"
    },
    {
     "name": "stdout",
     "output_type": "stream",
     "text": [
      "| Epoch: 75 | Train Loss: 1.289 | Train Acc: 75.78% | Val. Loss: 1.396 | Val. Acc: 63.75% | Val. Precision: 64.896 | Val. Recall: 63.750 | Val. F1-score: 60.732 |\n"
     ]
    },
    {
     "data": {
      "application/vnd.jupyter.widget-view+json": {
       "model_id": "a4050c2353104c8780423bc2c61ff88c",
       "version_major": 2,
       "version_minor": 0
      },
      "text/plain": [
       "  0%|          | 0/320 [00:00<?, ?it/s]"
      ]
     },
     "metadata": {},
     "output_type": "display_data"
    },
    {
     "name": "stdout",
     "output_type": "stream",
     "text": [
      "| Epoch: 76 | Train Loss: 1.283 | Train Acc: 76.09% | Val. Loss: 1.396 | Val. Acc: 64.38% | Val. Precision: 66.823 | Val. Recall: 64.375 | Val. F1-score: 62.045 |\n"
     ]
    },
    {
     "data": {
      "application/vnd.jupyter.widget-view+json": {
       "model_id": "70f082fd7ca045539f2004c9fd295956",
       "version_major": 2,
       "version_minor": 0
      },
      "text/plain": [
       "  0%|          | 0/320 [00:00<?, ?it/s]"
      ]
     },
     "metadata": {},
     "output_type": "display_data"
    },
    {
     "name": "stdout",
     "output_type": "stream",
     "text": [
      "| Epoch: 77 | Train Loss: 1.289 | Train Acc: 75.55% | Val. Loss: 1.410 | Val. Acc: 63.75% | Val. Precision: 64.792 | Val. Recall: 63.750 | Val. F1-score: 60.917 |\n"
     ]
    },
    {
     "data": {
      "application/vnd.jupyter.widget-view+json": {
       "model_id": "2ca89c8589ec4cb795d3499e100865dc",
       "version_major": 2,
       "version_minor": 0
      },
      "text/plain": [
       "  0%|          | 0/320 [00:00<?, ?it/s]"
      ]
     },
     "metadata": {},
     "output_type": "display_data"
    },
    {
     "name": "stdout",
     "output_type": "stream",
     "text": [
      "| Epoch: 78 | Train Loss: 1.281 | Train Acc: 76.25% | Val. Loss: 1.392 | Val. Acc: 65.62% | Val. Precision: 66.875 | Val. Recall: 65.625 | Val. F1-score: 62.586 |\n"
     ]
    },
    {
     "data": {
      "application/vnd.jupyter.widget-view+json": {
       "model_id": "3792785db64f4802a9ef4130fcaefe61",
       "version_major": 2,
       "version_minor": 0
      },
      "text/plain": [
       "  0%|          | 0/320 [00:00<?, ?it/s]"
      ]
     },
     "metadata": {},
     "output_type": "display_data"
    },
    {
     "name": "stdout",
     "output_type": "stream",
     "text": [
      "| Epoch: 79 | Train Loss: 1.280 | Train Acc: 76.64% | Val. Loss: 1.410 | Val. Acc: 63.75% | Val. Precision: 66.198 | Val. Recall: 63.750 | Val. F1-score: 60.920 |\n"
     ]
    },
    {
     "data": {
      "application/vnd.jupyter.widget-view+json": {
       "model_id": "f85266ec330a40b8a4cf7bec0d37de5e",
       "version_major": 2,
       "version_minor": 0
      },
      "text/plain": [
       "  0%|          | 0/320 [00:00<?, ?it/s]"
      ]
     },
     "metadata": {},
     "output_type": "display_data"
    },
    {
     "name": "stdout",
     "output_type": "stream",
     "text": [
      "| Epoch: 80 | Train Loss: 1.281 | Train Acc: 76.33% | Val. Loss: 1.405 | Val. Acc: 63.75% | Val. Precision: 67.760 | Val. Recall: 63.750 | Val. F1-score: 61.211 |\n"
     ]
    },
    {
     "data": {
      "application/vnd.jupyter.widget-view+json": {
       "model_id": "5f516fca0a3f406297587e066fc01e4f",
       "version_major": 2,
       "version_minor": 0
      },
      "text/plain": [
       "  0%|          | 0/320 [00:00<?, ?it/s]"
      ]
     },
     "metadata": {},
     "output_type": "display_data"
    },
    {
     "name": "stdout",
     "output_type": "stream",
     "text": [
      "| Epoch: 81 | Train Loss: 1.277 | Train Acc: 76.64% | Val. Loss: 1.398 | Val. Acc: 65.00% | Val. Precision: 67.135 | Val. Recall: 65.000 | Val. F1-score: 62.149 |\n"
     ]
    },
    {
     "data": {
      "application/vnd.jupyter.widget-view+json": {
       "model_id": "559d7517789b4a46a08acd9e6f2ee5c6",
       "version_major": 2,
       "version_minor": 0
      },
      "text/plain": [
       "  0%|          | 0/320 [00:00<?, ?it/s]"
      ]
     },
     "metadata": {},
     "output_type": "display_data"
    },
    {
     "name": "stdout",
     "output_type": "stream",
     "text": [
      "| Epoch: 82 | Train Loss: 1.282 | Train Acc: 76.17% | Val. Loss: 1.385 | Val. Acc: 65.62% | Val. Precision: 68.229 | Val. Recall: 65.625 | Val. F1-score: 63.086 |\n"
     ]
    },
    {
     "data": {
      "application/vnd.jupyter.widget-view+json": {
       "model_id": "e07a5cb80bd342649bd7e99366a581bd",
       "version_major": 2,
       "version_minor": 0
      },
      "text/plain": [
       "  0%|          | 0/320 [00:00<?, ?it/s]"
      ]
     },
     "metadata": {},
     "output_type": "display_data"
    },
    {
     "name": "stdout",
     "output_type": "stream",
     "text": [
      "| Epoch: 83 | Train Loss: 1.294 | Train Acc: 75.00% | Val. Loss: 1.412 | Val. Acc: 63.12% | Val. Precision: 64.115 | Val. Recall: 63.125 | Val. F1-score: 60.420 |\n"
     ]
    },
    {
     "data": {
      "application/vnd.jupyter.widget-view+json": {
       "model_id": "17f54a17d94c425294f429766b4f9f84",
       "version_major": 2,
       "version_minor": 0
      },
      "text/plain": [
       "  0%|          | 0/320 [00:00<?, ?it/s]"
      ]
     },
     "metadata": {},
     "output_type": "display_data"
    },
    {
     "name": "stdout",
     "output_type": "stream",
     "text": [
      "| Epoch: 84 | Train Loss: 1.293 | Train Acc: 75.00% | Val. Loss: 1.406 | Val. Acc: 63.75% | Val. Precision: 64.167 | Val. Recall: 63.750 | Val. F1-score: 60.708 |\n"
     ]
    },
    {
     "data": {
      "application/vnd.jupyter.widget-view+json": {
       "model_id": "db386b25d7814c01a1c689120c710e22",
       "version_major": 2,
       "version_minor": 0
      },
      "text/plain": [
       "  0%|          | 0/320 [00:00<?, ?it/s]"
      ]
     },
     "metadata": {},
     "output_type": "display_data"
    },
    {
     "name": "stdout",
     "output_type": "stream",
     "text": [
      "| Epoch: 85 | Train Loss: 1.276 | Train Acc: 76.88% | Val. Loss: 1.410 | Val. Acc: 63.12% | Val. Precision: 66.302 | Val. Recall: 63.125 | Val. F1-score: 61.021 |\n"
     ]
    },
    {
     "data": {
      "application/vnd.jupyter.widget-view+json": {
       "model_id": "16584e3c25a243d78f6682a09f22bf63",
       "version_major": 2,
       "version_minor": 0
      },
      "text/plain": [
       "  0%|          | 0/320 [00:00<?, ?it/s]"
      ]
     },
     "metadata": {},
     "output_type": "display_data"
    },
    {
     "name": "stdout",
     "output_type": "stream",
     "text": [
      "| Epoch: 86 | Train Loss: 1.285 | Train Acc: 75.78% | Val. Loss: 1.431 | Val. Acc: 61.25% | Val. Precision: 66.615 | Val. Recall: 61.250 | Val. F1-score: 59.167 |\n"
     ]
    },
    {
     "data": {
      "application/vnd.jupyter.widget-view+json": {
       "model_id": "add011233a094e03b2f4665dbc568142",
       "version_major": 2,
       "version_minor": 0
      },
      "text/plain": [
       "  0%|          | 0/320 [00:00<?, ?it/s]"
      ]
     },
     "metadata": {},
     "output_type": "display_data"
    },
    {
     "name": "stdout",
     "output_type": "stream",
     "text": [
      "| Epoch: 87 | Train Loss: 1.277 | Train Acc: 76.72% | Val. Loss: 1.409 | Val. Acc: 63.12% | Val. Precision: 65.156 | Val. Recall: 63.125 | Val. F1-score: 60.562 |\n"
     ]
    },
    {
     "data": {
      "application/vnd.jupyter.widget-view+json": {
       "model_id": "a4aa524ea5e946bd9c4d27e19903a14f",
       "version_major": 2,
       "version_minor": 0
      },
      "text/plain": [
       "  0%|          | 0/320 [00:00<?, ?it/s]"
      ]
     },
     "metadata": {},
     "output_type": "display_data"
    },
    {
     "name": "stdout",
     "output_type": "stream",
     "text": [
      "| Epoch: 88 | Train Loss: 1.282 | Train Acc: 76.25% | Val. Loss: 1.391 | Val. Acc: 65.62% | Val. Precision: 68.177 | Val. Recall: 65.625 | Val. F1-score: 63.271 |\n"
     ]
    },
    {
     "data": {
      "application/vnd.jupyter.widget-view+json": {
       "model_id": "bec2cbf51c3a42f8b723efddfa4a6849",
       "version_major": 2,
       "version_minor": 0
      },
      "text/plain": [
       "  0%|          | 0/320 [00:00<?, ?it/s]"
      ]
     },
     "metadata": {},
     "output_type": "display_data"
    },
    {
     "name": "stdout",
     "output_type": "stream",
     "text": [
      "| Epoch: 89 | Train Loss: 1.278 | Train Acc: 76.41% | Val. Loss: 1.416 | Val. Acc: 63.12% | Val. Precision: 65.052 | Val. Recall: 63.125 | Val. F1-score: 60.438 |\n"
     ]
    },
    {
     "data": {
      "application/vnd.jupyter.widget-view+json": {
       "model_id": "6d861d8ea7524e858748ae9426e2ef16",
       "version_major": 2,
       "version_minor": 0
      },
      "text/plain": [
       "  0%|          | 0/320 [00:00<?, ?it/s]"
      ]
     },
     "metadata": {},
     "output_type": "display_data"
    },
    {
     "name": "stdout",
     "output_type": "stream",
     "text": [
      "| Epoch: 90 | Train Loss: 1.293 | Train Acc: 75.00% | Val. Loss: 1.384 | Val. Acc: 66.25% | Val. Precision: 67.500 | Val. Recall: 66.250 | Val. F1-score: 63.271 |\n"
     ]
    },
    {
     "data": {
      "application/vnd.jupyter.widget-view+json": {
       "model_id": "79c7527a2d994ea3a6270e32db401bb8",
       "version_major": 2,
       "version_minor": 0
      },
      "text/plain": [
       "  0%|          | 0/320 [00:00<?, ?it/s]"
      ]
     },
     "metadata": {},
     "output_type": "display_data"
    },
    {
     "name": "stdout",
     "output_type": "stream",
     "text": [
      "| Epoch: 91 | Train Loss: 1.289 | Train Acc: 75.55% | Val. Loss: 1.399 | Val. Acc: 65.00% | Val. Precision: 67.396 | Val. Recall: 65.000 | Val. F1-score: 62.753 |\n"
     ]
    },
    {
     "data": {
      "application/vnd.jupyter.widget-view+json": {
       "model_id": "37653f6944cc46b2acb62ac99c0d2463",
       "version_major": 2,
       "version_minor": 0
      },
      "text/plain": [
       "  0%|          | 0/320 [00:00<?, ?it/s]"
      ]
     },
     "metadata": {},
     "output_type": "display_data"
    },
    {
     "name": "stdout",
     "output_type": "stream",
     "text": [
      "| Epoch: 92 | Train Loss: 1.286 | Train Acc: 75.62% | Val. Loss: 1.403 | Val. Acc: 63.75% | Val. Precision: 64.167 | Val. Recall: 63.750 | Val. F1-score: 60.708 |\n"
     ]
    },
    {
     "data": {
      "application/vnd.jupyter.widget-view+json": {
       "model_id": "8e50a85e2fd941869f38dc6bf137d8a3",
       "version_major": 2,
       "version_minor": 0
      },
      "text/plain": [
       "  0%|          | 0/320 [00:00<?, ?it/s]"
      ]
     },
     "metadata": {},
     "output_type": "display_data"
    },
    {
     "name": "stdout",
     "output_type": "stream",
     "text": [
      "| Epoch: 93 | Train Loss: 1.277 | Train Acc: 76.80% | Val. Loss: 1.399 | Val. Acc: 64.38% | Val. Precision: 66.667 | Val. Recall: 64.375 | Val. F1-score: 61.878 |\n"
     ]
    },
    {
     "data": {
      "application/vnd.jupyter.widget-view+json": {
       "model_id": "52e97f7b6b4d4e96b6c84fbbfab94b66",
       "version_major": 2,
       "version_minor": 0
      },
      "text/plain": [
       "  0%|          | 0/320 [00:00<?, ?it/s]"
      ]
     },
     "metadata": {},
     "output_type": "display_data"
    },
    {
     "name": "stdout",
     "output_type": "stream",
     "text": [
      "| Epoch: 94 | Train Loss: 1.277 | Train Acc: 76.72% | Val. Loss: 1.417 | Val. Acc: 62.50% | Val. Precision: 65.938 | Val. Recall: 62.500 | Val. F1-score: 60.083 |\n"
     ]
    },
    {
     "data": {
      "application/vnd.jupyter.widget-view+json": {
       "model_id": "906a61b972964a73b8910fad265fe11e",
       "version_major": 2,
       "version_minor": 0
      },
      "text/plain": [
       "  0%|          | 0/320 [00:00<?, ?it/s]"
      ]
     },
     "metadata": {},
     "output_type": "display_data"
    },
    {
     "name": "stdout",
     "output_type": "stream",
     "text": [
      "| Epoch: 95 | Train Loss: 1.284 | Train Acc: 75.94% | Val. Loss: 1.420 | Val. Acc: 61.88% | Val. Precision: 64.167 | Val. Recall: 61.875 | Val. F1-score: 59.312 |\n"
     ]
    },
    {
     "data": {
      "application/vnd.jupyter.widget-view+json": {
       "model_id": "1482fe2065534c87b9c7a0c71a91f5b5",
       "version_major": 2,
       "version_minor": 0
      },
      "text/plain": [
       "  0%|          | 0/320 [00:00<?, ?it/s]"
      ]
     },
     "metadata": {},
     "output_type": "display_data"
    },
    {
     "name": "stdout",
     "output_type": "stream",
     "text": [
      "| Epoch: 96 | Train Loss: 1.293 | Train Acc: 75.31% | Val. Loss: 1.414 | Val. Acc: 63.12% | Val. Precision: 63.906 | Val. Recall: 63.125 | Val. F1-score: 60.188 |\n"
     ]
    },
    {
     "data": {
      "application/vnd.jupyter.widget-view+json": {
       "model_id": "cee24a90fd6144c281a4b92746429dbc",
       "version_major": 2,
       "version_minor": 0
      },
      "text/plain": [
       "  0%|          | 0/320 [00:00<?, ?it/s]"
      ]
     },
     "metadata": {},
     "output_type": "display_data"
    },
    {
     "name": "stdout",
     "output_type": "stream",
     "text": [
      "| Epoch: 97 | Train Loss: 1.279 | Train Acc: 76.56% | Val. Loss: 1.408 | Val. Acc: 63.75% | Val. Precision: 67.344 | Val. Recall: 63.750 | Val. F1-score: 61.396 |\n"
     ]
    },
    {
     "data": {
      "application/vnd.jupyter.widget-view+json": {
       "model_id": "46c9664674474783a0096d6dd9bfa3b8",
       "version_major": 2,
       "version_minor": 0
      },
      "text/plain": [
       "  0%|          | 0/320 [00:00<?, ?it/s]"
      ]
     },
     "metadata": {},
     "output_type": "display_data"
    },
    {
     "name": "stdout",
     "output_type": "stream",
     "text": [
      "| Epoch: 98 | Train Loss: 1.285 | Train Acc: 75.94% | Val. Loss: 1.412 | Val. Acc: 63.75% | Val. Precision: 65.417 | Val. Recall: 63.750 | Val. F1-score: 60.860 |\n"
     ]
    },
    {
     "data": {
      "application/vnd.jupyter.widget-view+json": {
       "model_id": "03b7869242f04ac1a075ab98ad72a322",
       "version_major": 2,
       "version_minor": 0
      },
      "text/plain": [
       "  0%|          | 0/320 [00:00<?, ?it/s]"
      ]
     },
     "metadata": {},
     "output_type": "display_data"
    },
    {
     "name": "stdout",
     "output_type": "stream",
     "text": [
      "| Epoch: 99 | Train Loss: 1.284 | Train Acc: 76.02% | Val. Loss: 1.431 | Val. Acc: 60.62% | Val. Precision: 65.104 | Val. Recall: 60.625 | Val. F1-score: 58.521 |\n"
     ]
    },
    {
     "data": {
      "application/vnd.jupyter.widget-view+json": {
       "model_id": "67936c2c44e249cea715276c91c06b6a",
       "version_major": 2,
       "version_minor": 0
      },
      "text/plain": [
       "  0%|          | 0/320 [00:00<?, ?it/s]"
      ]
     },
     "metadata": {},
     "output_type": "display_data"
    },
    {
     "name": "stdout",
     "output_type": "stream",
     "text": [
      "| Epoch: 100 | Train Loss: 1.273 | Train Acc: 77.27% | Val. Loss: 1.399 | Val. Acc: 64.38% | Val. Precision: 66.979 | Val. Recall: 64.375 | Val. F1-score: 61.568 |\n"
     ]
    },
    {
     "data": {
      "application/vnd.jupyter.widget-view+json": {
       "model_id": "0af90f73977e4b0eb69a827e54cba28a",
       "version_major": 2,
       "version_minor": 0
      },
      "text/plain": [
       "  0%|          | 0/320 [00:00<?, ?it/s]"
      ]
     },
     "metadata": {},
     "output_type": "display_data"
    },
    {
     "name": "stdout",
     "output_type": "stream",
     "text": [
      "| Epoch: 101 | Train Loss: 1.274 | Train Acc: 77.03% | Val. Loss: 1.401 | Val. Acc: 64.38% | Val. Precision: 66.979 | Val. Recall: 64.375 | Val. F1-score: 61.506 |\n"
     ]
    },
    {
     "data": {
      "application/vnd.jupyter.widget-view+json": {
       "model_id": "fca934b697cb4409b8433cf410b06fcc",
       "version_major": 2,
       "version_minor": 0
      },
      "text/plain": [
       "  0%|          | 0/320 [00:00<?, ?it/s]"
      ]
     },
     "metadata": {},
     "output_type": "display_data"
    },
    {
     "name": "stdout",
     "output_type": "stream",
     "text": [
      "| Epoch: 102 | Train Loss: 1.269 | Train Acc: 77.50% | Val. Loss: 1.441 | Val. Acc: 60.62% | Val. Precision: 63.802 | Val. Recall: 60.625 | Val. F1-score: 58.313 |\n"
     ]
    },
    {
     "data": {
      "application/vnd.jupyter.widget-view+json": {
       "model_id": "fd4d6eae858143b493cd940fcf393463",
       "version_major": 2,
       "version_minor": 0
      },
      "text/plain": [
       "  0%|          | 0/320 [00:00<?, ?it/s]"
      ]
     },
     "metadata": {},
     "output_type": "display_data"
    },
    {
     "name": "stdout",
     "output_type": "stream",
     "text": [
      "| Epoch: 103 | Train Loss: 1.278 | Train Acc: 76.48% | Val. Loss: 1.394 | Val. Acc: 65.00% | Val. Precision: 68.177 | Val. Recall: 65.000 | Val. F1-score: 62.503 |\n"
     ]
    },
    {
     "data": {
      "application/vnd.jupyter.widget-view+json": {
       "model_id": "8429a48518bd4f2e82f96d5f1fb3a174",
       "version_major": 2,
       "version_minor": 0
      },
      "text/plain": [
       "  0%|          | 0/320 [00:00<?, ?it/s]"
      ]
     },
     "metadata": {},
     "output_type": "display_data"
    },
    {
     "name": "stdout",
     "output_type": "stream",
     "text": [
      "| Epoch: 104 | Train Loss: 1.267 | Train Acc: 77.58% | Val. Loss: 1.396 | Val. Acc: 64.38% | Val. Precision: 66.979 | Val. Recall: 64.375 | Val. F1-score: 61.506 |\n"
     ]
    },
    {
     "data": {
      "application/vnd.jupyter.widget-view+json": {
       "model_id": "904baea9c8c744a2ac6c04432f2a2675",
       "version_major": 2,
       "version_minor": 0
      },
      "text/plain": [
       "  0%|          | 0/320 [00:00<?, ?it/s]"
      ]
     },
     "metadata": {},
     "output_type": "display_data"
    },
    {
     "name": "stdout",
     "output_type": "stream",
     "text": [
      "| Epoch: 105 | Train Loss: 1.275 | Train Acc: 76.88% | Val. Loss: 1.401 | Val. Acc: 63.75% | Val. Precision: 65.677 | Val. Recall: 63.750 | Val. F1-score: 60.464 |\n"
     ]
    },
    {
     "data": {
      "application/vnd.jupyter.widget-view+json": {
       "model_id": "257be63de0d3421ba61f09fb6feb07dd",
       "version_major": 2,
       "version_minor": 0
      },
      "text/plain": [
       "  0%|          | 0/320 [00:00<?, ?it/s]"
      ]
     },
     "metadata": {},
     "output_type": "display_data"
    },
    {
     "name": "stdout",
     "output_type": "stream",
     "text": [
      "| Epoch: 106 | Train Loss: 1.275 | Train Acc: 76.80% | Val. Loss: 1.449 | Val. Acc: 58.75% | Val. Precision: 63.021 | Val. Recall: 58.750 | Val. F1-score: 56.482 |\n"
     ]
    },
    {
     "data": {
      "application/vnd.jupyter.widget-view+json": {
       "model_id": "06839a9300724c2f9939c7bfe797e17e",
       "version_major": 2,
       "version_minor": 0
      },
      "text/plain": [
       "  0%|          | 0/320 [00:00<?, ?it/s]"
      ]
     },
     "metadata": {},
     "output_type": "display_data"
    },
    {
     "name": "stdout",
     "output_type": "stream",
     "text": [
      "| Epoch: 107 | Train Loss: 1.278 | Train Acc: 76.64% | Val. Loss: 1.394 | Val. Acc: 64.38% | Val. Precision: 66.875 | Val. Recall: 64.375 | Val. F1-score: 61.711 |\n"
     ]
    },
    {
     "data": {
      "application/vnd.jupyter.widget-view+json": {
       "model_id": "c4b72ea1f6bc4e38bc2deda445d55067",
       "version_major": 2,
       "version_minor": 0
      },
      "text/plain": [
       "  0%|          | 0/320 [00:00<?, ?it/s]"
      ]
     },
     "metadata": {},
     "output_type": "display_data"
    },
    {
     "name": "stdout",
     "output_type": "stream",
     "text": [
      "| Epoch: 108 | Train Loss: 1.268 | Train Acc: 77.73% | Val. Loss: 1.402 | Val. Acc: 63.75% | Val. Precision: 65.312 | Val. Recall: 63.750 | Val. F1-score: 60.402 |\n"
     ]
    },
    {
     "data": {
      "application/vnd.jupyter.widget-view+json": {
       "model_id": "1937ef966a5f414aa30330a926fa621b",
       "version_major": 2,
       "version_minor": 0
      },
      "text/plain": [
       "  0%|          | 0/320 [00:00<?, ?it/s]"
      ]
     },
     "metadata": {},
     "output_type": "display_data"
    },
    {
     "name": "stdout",
     "output_type": "stream",
     "text": [
      "| Epoch: 109 | Train Loss: 1.268 | Train Acc: 77.50% | Val. Loss: 1.392 | Val. Acc: 65.62% | Val. Precision: 67.083 | Val. Recall: 65.625 | Val. F1-score: 62.652 |\n"
     ]
    },
    {
     "data": {
      "application/vnd.jupyter.widget-view+json": {
       "model_id": "dfb70f4e6640401cbd1dbaa5d469043b",
       "version_major": 2,
       "version_minor": 0
      },
      "text/plain": [
       "  0%|          | 0/320 [00:00<?, ?it/s]"
      ]
     },
     "metadata": {},
     "output_type": "display_data"
    },
    {
     "name": "stdout",
     "output_type": "stream",
     "text": [
      "| Epoch: 110 | Train Loss: 1.266 | Train Acc: 77.81% | Val. Loss: 1.382 | Val. Acc: 65.62% | Val. Precision: 66.562 | Val. Recall: 65.625 | Val. F1-score: 62.649 |\n"
     ]
    },
    {
     "data": {
      "application/vnd.jupyter.widget-view+json": {
       "model_id": "0112e14545ef49dd8e9b5db1e697b963",
       "version_major": 2,
       "version_minor": 0
      },
      "text/plain": [
       "  0%|          | 0/320 [00:00<?, ?it/s]"
      ]
     },
     "metadata": {},
     "output_type": "display_data"
    },
    {
     "name": "stdout",
     "output_type": "stream",
     "text": [
      "| Epoch: 111 | Train Loss: 1.284 | Train Acc: 75.86% | Val. Loss: 1.398 | Val. Acc: 65.00% | Val. Precision: 64.687 | Val. Recall: 65.000 | Val. F1-score: 61.360 |\n"
     ]
    },
    {
     "data": {
      "application/vnd.jupyter.widget-view+json": {
       "model_id": "b5f9f69f0aff467c8130fc076b51292b",
       "version_major": 2,
       "version_minor": 0
      },
      "text/plain": [
       "  0%|          | 0/320 [00:00<?, ?it/s]"
      ]
     },
     "metadata": {},
     "output_type": "display_data"
    },
    {
     "name": "stdout",
     "output_type": "stream",
     "text": [
      "| Epoch: 112 | Train Loss: 1.281 | Train Acc: 76.25% | Val. Loss: 1.390 | Val. Acc: 65.62% | Val. Precision: 68.177 | Val. Recall: 65.625 | Val. F1-score: 62.920 |\n"
     ]
    },
    {
     "data": {
      "application/vnd.jupyter.widget-view+json": {
       "model_id": "0e98f1fe79c84b42843e6d3247fe2f83",
       "version_major": 2,
       "version_minor": 0
      },
      "text/plain": [
       "  0%|          | 0/320 [00:00<?, ?it/s]"
      ]
     },
     "metadata": {},
     "output_type": "display_data"
    },
    {
     "name": "stdout",
     "output_type": "stream",
     "text": [
      "| Epoch: 113 | Train Loss: 1.275 | Train Acc: 77.03% | Val. Loss: 1.423 | Val. Acc: 61.25% | Val. Precision: 66.198 | Val. Recall: 61.250 | Val. F1-score: 59.622 |\n"
     ]
    },
    {
     "data": {
      "application/vnd.jupyter.widget-view+json": {
       "model_id": "ab140eaefe254c0f9e0848b0cba34b20",
       "version_major": 2,
       "version_minor": 0
      },
      "text/plain": [
       "  0%|          | 0/320 [00:00<?, ?it/s]"
      ]
     },
     "metadata": {},
     "output_type": "display_data"
    },
    {
     "name": "stdout",
     "output_type": "stream",
     "text": [
      "| Epoch: 114 | Train Loss: 1.268 | Train Acc: 77.73% | Val. Loss: 1.412 | Val. Acc: 63.12% | Val. Precision: 66.719 | Val. Recall: 63.125 | Val. F1-score: 60.563 |\n"
     ]
    },
    {
     "data": {
      "application/vnd.jupyter.widget-view+json": {
       "model_id": "ff4ef01f361d4da881c3f0b457a5a132",
       "version_major": 2,
       "version_minor": 0
      },
      "text/plain": [
       "  0%|          | 0/320 [00:00<?, ?it/s]"
      ]
     },
     "metadata": {},
     "output_type": "display_data"
    },
    {
     "name": "stdout",
     "output_type": "stream",
     "text": [
      "| Epoch: 115 | Train Loss: 1.264 | Train Acc: 77.81% | Val. Loss: 1.408 | Val. Acc: 63.12% | Val. Precision: 65.677 | Val. Recall: 63.125 | Val. F1-score: 60.583 |\n"
     ]
    },
    {
     "data": {
      "application/vnd.jupyter.widget-view+json": {
       "model_id": "eab3047542af4577bec5dd19561829ea",
       "version_major": 2,
       "version_minor": 0
      },
      "text/plain": [
       "  0%|          | 0/320 [00:00<?, ?it/s]"
      ]
     },
     "metadata": {},
     "output_type": "display_data"
    },
    {
     "name": "stdout",
     "output_type": "stream",
     "text": [
      "| Epoch: 116 | Train Loss: 1.258 | Train Acc: 78.59% | Val. Loss: 1.408 | Val. Acc: 63.75% | Val. Precision: 67.865 | Val. Recall: 63.750 | Val. F1-score: 61.583 |\n"
     ]
    },
    {
     "data": {
      "application/vnd.jupyter.widget-view+json": {
       "model_id": "27cf61da3e1b48f9a1b0f21f7443390e",
       "version_major": 2,
       "version_minor": 0
      },
      "text/plain": [
       "  0%|          | 0/320 [00:00<?, ?it/s]"
      ]
     },
     "metadata": {},
     "output_type": "display_data"
    },
    {
     "name": "stdout",
     "output_type": "stream",
     "text": [
      "| Epoch: 117 | Train Loss: 1.260 | Train Acc: 78.28% | Val. Loss: 1.407 | Val. Acc: 63.75% | Val. Precision: 67.552 | Val. Recall: 63.750 | Val. F1-score: 61.375 |\n"
     ]
    },
    {
     "data": {
      "application/vnd.jupyter.widget-view+json": {
       "model_id": "f32acbb711424c49b0980231a6fda550",
       "version_major": 2,
       "version_minor": 0
      },
      "text/plain": [
       "  0%|          | 0/320 [00:00<?, ?it/s]"
      ]
     },
     "metadata": {},
     "output_type": "display_data"
    },
    {
     "name": "stdout",
     "output_type": "stream",
     "text": [
      "| Epoch: 118 | Train Loss: 1.256 | Train Acc: 78.75% | Val. Loss: 1.401 | Val. Acc: 64.38% | Val. Precision: 68.073 | Val. Recall: 64.375 | Val. F1-score: 62.042 |\n"
     ]
    },
    {
     "data": {
      "application/vnd.jupyter.widget-view+json": {
       "model_id": "2ae5ac9402d640ecbfe41d544ca17893",
       "version_major": 2,
       "version_minor": 0
      },
      "text/plain": [
       "  0%|          | 0/320 [00:00<?, ?it/s]"
      ]
     },
     "metadata": {},
     "output_type": "display_data"
    },
    {
     "name": "stdout",
     "output_type": "stream",
     "text": [
      "| Epoch: 119 | Train Loss: 1.273 | Train Acc: 76.88% | Val. Loss: 1.404 | Val. Acc: 63.75% | Val. Precision: 63.698 | Val. Recall: 63.750 | Val. F1-score: 60.336 |\n"
     ]
    },
    {
     "data": {
      "application/vnd.jupyter.widget-view+json": {
       "model_id": "cf07f1734ba849d89aeb38cbcbfe1555",
       "version_major": 2,
       "version_minor": 0
      },
      "text/plain": [
       "  0%|          | 0/320 [00:00<?, ?it/s]"
      ]
     },
     "metadata": {},
     "output_type": "display_data"
    },
    {
     "name": "stdout",
     "output_type": "stream",
     "text": [
      "| Epoch: 120 | Train Loss: 1.296 | Train Acc: 74.69% | Val. Loss: 1.435 | Val. Acc: 61.25% | Val. Precision: 63.594 | Val. Recall: 61.250 | Val. F1-score: 58.777 |\n"
     ]
    },
    {
     "data": {
      "application/vnd.jupyter.widget-view+json": {
       "model_id": "5df948fce988462a871d8f24f5b14963",
       "version_major": 2,
       "version_minor": 0
      },
      "text/plain": [
       "  0%|          | 0/320 [00:00<?, ?it/s]"
      ]
     },
     "metadata": {},
     "output_type": "display_data"
    },
    {
     "name": "stdout",
     "output_type": "stream",
     "text": [
      "| Epoch: 121 | Train Loss: 1.285 | Train Acc: 75.62% | Val. Loss: 1.412 | Val. Acc: 63.12% | Val. Precision: 66.146 | Val. Recall: 63.125 | Val. F1-score: 60.798 |\n"
     ]
    },
    {
     "data": {
      "application/vnd.jupyter.widget-view+json": {
       "model_id": "037a878255b540e38dd43e02fd884ea1",
       "version_major": 2,
       "version_minor": 0
      },
      "text/plain": [
       "  0%|          | 0/320 [00:00<?, ?it/s]"
      ]
     },
     "metadata": {},
     "output_type": "display_data"
    },
    {
     "name": "stdout",
     "output_type": "stream",
     "text": [
      "| Epoch: 122 | Train Loss: 1.269 | Train Acc: 77.58% | Val. Loss: 1.415 | Val. Acc: 62.50% | Val. Precision: 65.104 | Val. Recall: 62.500 | Val. F1-score: 59.631 |\n"
     ]
    },
    {
     "data": {
      "application/vnd.jupyter.widget-view+json": {
       "model_id": "52548df1dc9e4753ab2d537b6298d0e1",
       "version_major": 2,
       "version_minor": 0
      },
      "text/plain": [
       "  0%|          | 0/320 [00:00<?, ?it/s]"
      ]
     },
     "metadata": {},
     "output_type": "display_data"
    },
    {
     "name": "stdout",
     "output_type": "stream",
     "text": [
      "| Epoch: 123 | Train Loss: 1.261 | Train Acc: 78.28% | Val. Loss: 1.393 | Val. Acc: 65.00% | Val. Precision: 68.490 | Val. Recall: 65.000 | Val. F1-score: 62.565 |\n"
     ]
    },
    {
     "data": {
      "application/vnd.jupyter.widget-view+json": {
       "model_id": "2ba10b1b8d4b40c3b152dc7d9ea00122",
       "version_major": 2,
       "version_minor": 0
      },
      "text/plain": [
       "  0%|          | 0/320 [00:00<?, ?it/s]"
      ]
     },
     "metadata": {},
     "output_type": "display_data"
    },
    {
     "name": "stdout",
     "output_type": "stream",
     "text": [
      "| Epoch: 124 | Train Loss: 1.267 | Train Acc: 77.73% | Val. Loss: 1.393 | Val. Acc: 66.25% | Val. Precision: 67.708 | Val. Recall: 66.250 | Val. F1-score: 63.295 |\n"
     ]
    },
    {
     "data": {
      "application/vnd.jupyter.widget-view+json": {
       "model_id": "637315d77f3f4488a6cfe76e06d9c6a8",
       "version_major": 2,
       "version_minor": 0
      },
      "text/plain": [
       "  0%|          | 0/320 [00:00<?, ?it/s]"
      ]
     },
     "metadata": {},
     "output_type": "display_data"
    },
    {
     "name": "stdout",
     "output_type": "stream",
     "text": [
      "| Epoch: 125 | Train Loss: 1.265 | Train Acc: 77.89% | Val. Loss: 1.398 | Val. Acc: 64.38% | Val. Precision: 65.833 | Val. Recall: 64.375 | Val. F1-score: 61.214 |\n"
     ]
    },
    {
     "data": {
      "application/vnd.jupyter.widget-view+json": {
       "model_id": "bcc6347fa59944e0aac3a5fb4ac02f80",
       "version_major": 2,
       "version_minor": 0
      },
      "text/plain": [
       "  0%|          | 0/320 [00:00<?, ?it/s]"
      ]
     },
     "metadata": {},
     "output_type": "display_data"
    },
    {
     "name": "stdout",
     "output_type": "stream",
     "text": [
      "| Epoch: 126 | Train Loss: 1.279 | Train Acc: 76.48% | Val. Loss: 1.402 | Val. Acc: 64.38% | Val. Precision: 65.938 | Val. Recall: 64.375 | Val. F1-score: 61.065 |\n"
     ]
    },
    {
     "data": {
      "application/vnd.jupyter.widget-view+json": {
       "model_id": "ff3e4e74e2ab4e01a5887cb4bcb84433",
       "version_major": 2,
       "version_minor": 0
      },
      "text/plain": [
       "  0%|          | 0/320 [00:00<?, ?it/s]"
      ]
     },
     "metadata": {},
     "output_type": "display_data"
    },
    {
     "name": "stdout",
     "output_type": "stream",
     "text": [
      "| Epoch: 127 | Train Loss: 1.269 | Train Acc: 77.73% | Val. Loss: 1.394 | Val. Acc: 64.38% | Val. Precision: 67.760 | Val. Recall: 64.375 | Val. F1-score: 61.774 |\n"
     ]
    },
    {
     "data": {
      "application/vnd.jupyter.widget-view+json": {
       "model_id": "28afd3dcb85f47798cc3cc72286e8286",
       "version_major": 2,
       "version_minor": 0
      },
      "text/plain": [
       "  0%|          | 0/320 [00:00<?, ?it/s]"
      ]
     },
     "metadata": {},
     "output_type": "display_data"
    },
    {
     "name": "stdout",
     "output_type": "stream",
     "text": [
      "| Epoch: 128 | Train Loss: 1.259 | Train Acc: 78.52% | Val. Loss: 1.382 | Val. Acc: 66.25% | Val. Precision: 67.969 | Val. Recall: 66.250 | Val. F1-score: 63.378 |\n"
     ]
    },
    {
     "data": {
      "application/vnd.jupyter.widget-view+json": {
       "model_id": "22397ba3f0944a118c6378b2f6b8c825",
       "version_major": 2,
       "version_minor": 0
      },
      "text/plain": [
       "  0%|          | 0/320 [00:00<?, ?it/s]"
      ]
     },
     "metadata": {},
     "output_type": "display_data"
    },
    {
     "name": "stdout",
     "output_type": "stream",
     "text": [
      "| Epoch: 129 | Train Loss: 1.259 | Train Acc: 78.44% | Val. Loss: 1.394 | Val. Acc: 65.00% | Val. Precision: 64.219 | Val. Recall: 65.000 | Val. F1-score: 61.131 |\n"
     ]
    },
    {
     "data": {
      "application/vnd.jupyter.widget-view+json": {
       "model_id": "82315b73f19944e1bcc48a89bce5fac6",
       "version_major": 2,
       "version_minor": 0
      },
      "text/plain": [
       "  0%|          | 0/320 [00:00<?, ?it/s]"
      ]
     },
     "metadata": {},
     "output_type": "display_data"
    },
    {
     "name": "stdout",
     "output_type": "stream",
     "text": [
      "| Epoch: 130 | Train Loss: 1.274 | Train Acc: 77.19% | Val. Loss: 1.388 | Val. Acc: 65.62% | Val. Precision: 68.594 | Val. Recall: 65.625 | Val. F1-score: 62.565 |\n"
     ]
    },
    {
     "data": {
      "application/vnd.jupyter.widget-view+json": {
       "model_id": "c31ccc9fc3144497b38efd5009babec7",
       "version_major": 2,
       "version_minor": 0
      },
      "text/plain": [
       "  0%|          | 0/320 [00:00<?, ?it/s]"
      ]
     },
     "metadata": {},
     "output_type": "display_data"
    },
    {
     "name": "stdout",
     "output_type": "stream",
     "text": [
      "| Epoch: 131 | Train Loss: 1.264 | Train Acc: 77.89% | Val. Loss: 1.383 | Val. Acc: 65.62% | Val. Precision: 68.594 | Val. Recall: 65.625 | Val. F1-score: 62.711 |\n"
     ]
    },
    {
     "data": {
      "application/vnd.jupyter.widget-view+json": {
       "model_id": "5633a83301eb4169b69f6c8ecfc558e3",
       "version_major": 2,
       "version_minor": 0
      },
      "text/plain": [
       "  0%|          | 0/320 [00:00<?, ?it/s]"
      ]
     },
     "metadata": {},
     "output_type": "display_data"
    },
    {
     "name": "stdout",
     "output_type": "stream",
     "text": [
      "| Epoch: 132 | Train Loss: 1.262 | Train Acc: 78.20% | Val. Loss: 1.407 | Val. Acc: 63.75% | Val. Precision: 63.438 | Val. Recall: 63.750 | Val. F1-score: 60.149 |\n"
     ]
    },
    {
     "data": {
      "application/vnd.jupyter.widget-view+json": {
       "model_id": "1a009f4056f04dbe84a4ddf16d9ad087",
       "version_major": 2,
       "version_minor": 0
      },
      "text/plain": [
       "  0%|          | 0/320 [00:00<?, ?it/s]"
      ]
     },
     "metadata": {},
     "output_type": "display_data"
    },
    {
     "name": "stdout",
     "output_type": "stream",
     "text": [
      "| Epoch: 133 | Train Loss: 1.275 | Train Acc: 76.88% | Val. Loss: 1.378 | Val. Acc: 66.25% | Val. Precision: 68.281 | Val. Recall: 66.250 | Val. F1-score: 63.586 |\n"
     ]
    },
    {
     "data": {
      "application/vnd.jupyter.widget-view+json": {
       "model_id": "3086392753af463b8901c5b83ca2cfd8",
       "version_major": 2,
       "version_minor": 0
      },
      "text/plain": [
       "  0%|          | 0/320 [00:00<?, ?it/s]"
      ]
     },
     "metadata": {},
     "output_type": "display_data"
    },
    {
     "name": "stdout",
     "output_type": "stream",
     "text": [
      "| Epoch: 134 | Train Loss: 1.267 | Train Acc: 77.81% | Val. Loss: 1.385 | Val. Acc: 66.25% | Val. Precision: 68.802 | Val. Recall: 66.250 | Val. F1-score: 63.542 |\n"
     ]
    },
    {
     "data": {
      "application/vnd.jupyter.widget-view+json": {
       "model_id": "ce2c02e8024d46b999717b11f7323507",
       "version_major": 2,
       "version_minor": 0
      },
      "text/plain": [
       "  0%|          | 0/320 [00:00<?, ?it/s]"
      ]
     },
     "metadata": {},
     "output_type": "display_data"
    },
    {
     "name": "stdout",
     "output_type": "stream",
     "text": [
      "| Epoch: 135 | Train Loss: 1.262 | Train Acc: 78.36% | Val. Loss: 1.377 | Val. Acc: 66.25% | Val. Precision: 67.917 | Val. Recall: 66.250 | Val. F1-score: 63.232 |\n"
     ]
    },
    {
     "data": {
      "application/vnd.jupyter.widget-view+json": {
       "model_id": "c5e19da63b694bf4a1b441c0c4399c39",
       "version_major": 2,
       "version_minor": 0
      },
      "text/plain": [
       "  0%|          | 0/320 [00:00<?, ?it/s]"
      ]
     },
     "metadata": {},
     "output_type": "display_data"
    },
    {
     "name": "stdout",
     "output_type": "stream",
     "text": [
      "| Epoch: 136 | Train Loss: 1.255 | Train Acc: 78.83% | Val. Loss: 1.380 | Val. Acc: 66.88% | Val. Precision: 69.115 | Val. Recall: 66.875 | Val. F1-score: 64.107 |\n"
     ]
    },
    {
     "data": {
      "application/vnd.jupyter.widget-view+json": {
       "model_id": "26f36360fc5f4995b61be50282d33feb",
       "version_major": 2,
       "version_minor": 0
      },
      "text/plain": [
       "  0%|          | 0/320 [00:00<?, ?it/s]"
      ]
     },
     "metadata": {},
     "output_type": "display_data"
    },
    {
     "name": "stdout",
     "output_type": "stream",
     "text": [
      "| Epoch: 137 | Train Loss: 1.258 | Train Acc: 78.59% | Val. Loss: 1.379 | Val. Acc: 66.88% | Val. Precision: 69.115 | Val. Recall: 66.875 | Val. F1-score: 64.107 |\n"
     ]
    },
    {
     "data": {
      "application/vnd.jupyter.widget-view+json": {
       "model_id": "4ef6a8a086a04c7f964c7375408778dd",
       "version_major": 2,
       "version_minor": 0
      },
      "text/plain": [
       "  0%|          | 0/320 [00:00<?, ?it/s]"
      ]
     },
     "metadata": {},
     "output_type": "display_data"
    },
    {
     "name": "stdout",
     "output_type": "stream",
     "text": [
      "| Epoch: 138 | Train Loss: 1.265 | Train Acc: 77.81% | Val. Loss: 1.380 | Val. Acc: 66.25% | Val. Precision: 68.698 | Val. Recall: 66.250 | Val. F1-score: 63.357 |\n"
     ]
    },
    {
     "data": {
      "application/vnd.jupyter.widget-view+json": {
       "model_id": "2ce42e77423b40ca8d225f721b2b7b7f",
       "version_major": 2,
       "version_minor": 0
      },
      "text/plain": [
       "  0%|          | 0/320 [00:00<?, ?it/s]"
      ]
     },
     "metadata": {},
     "output_type": "display_data"
    },
    {
     "name": "stdout",
     "output_type": "stream",
     "text": [
      "| Epoch: 139 | Train Loss: 1.287 | Train Acc: 75.70% | Val. Loss: 1.392 | Val. Acc: 65.00% | Val. Precision: 65.885 | Val. Recall: 65.000 | Val. F1-score: 62.250 |\n"
     ]
    },
    {
     "data": {
      "application/vnd.jupyter.widget-view+json": {
       "model_id": "827224ecc02741f29a0822d02cbbdf9d",
       "version_major": 2,
       "version_minor": 0
      },
      "text/plain": [
       "  0%|          | 0/320 [00:00<?, ?it/s]"
      ]
     },
     "metadata": {},
     "output_type": "display_data"
    },
    {
     "name": "stdout",
     "output_type": "stream",
     "text": [
      "| Epoch: 140 | Train Loss: 1.268 | Train Acc: 77.58% | Val. Loss: 1.373 | Val. Acc: 67.50% | Val. Precision: 68.906 | Val. Recall: 67.500 | Val. F1-score: 64.545 |\n"
     ]
    },
    {
     "data": {
      "application/vnd.jupyter.widget-view+json": {
       "model_id": "409dd2996d69479686bc8133b7416b5b",
       "version_major": 2,
       "version_minor": 0
      },
      "text/plain": [
       "  0%|          | 0/320 [00:00<?, ?it/s]"
      ]
     },
     "metadata": {},
     "output_type": "display_data"
    },
    {
     "name": "stdout",
     "output_type": "stream",
     "text": [
      "| Epoch: 141 | Train Loss: 1.260 | Train Acc: 78.36% | Val. Loss: 1.380 | Val. Acc: 66.25% | Val. Precision: 68.802 | Val. Recall: 66.250 | Val. F1-score: 63.711 |\n"
     ]
    },
    {
     "data": {
      "application/vnd.jupyter.widget-view+json": {
       "model_id": "79cb3835f7384977b106468af959d16e",
       "version_major": 2,
       "version_minor": 0
      },
      "text/plain": [
       "  0%|          | 0/320 [00:00<?, ?it/s]"
      ]
     },
     "metadata": {},
     "output_type": "display_data"
    },
    {
     "name": "stdout",
     "output_type": "stream",
     "text": [
      "| Epoch: 142 | Train Loss: 1.261 | Train Acc: 78.36% | Val. Loss: 1.388 | Val. Acc: 65.62% | Val. Precision: 68.802 | Val. Recall: 65.625 | Val. F1-score: 63.211 |\n"
     ]
    },
    {
     "data": {
      "application/vnd.jupyter.widget-view+json": {
       "model_id": "eb9a2134ceb04a54ba7b3db870988554",
       "version_major": 2,
       "version_minor": 0
      },
      "text/plain": [
       "  0%|          | 0/320 [00:00<?, ?it/s]"
      ]
     },
     "metadata": {},
     "output_type": "display_data"
    },
    {
     "name": "stdout",
     "output_type": "stream",
     "text": [
      "| Epoch: 143 | Train Loss: 1.262 | Train Acc: 78.36% | Val. Loss: 1.380 | Val. Acc: 66.25% | Val. Precision: 68.177 | Val. Recall: 66.250 | Val. F1-score: 63.295 |\n"
     ]
    },
    {
     "data": {
      "application/vnd.jupyter.widget-view+json": {
       "model_id": "dca7a86d608f4583a8dd254bce02e7ac",
       "version_major": 2,
       "version_minor": 0
      },
      "text/plain": [
       "  0%|          | 0/320 [00:00<?, ?it/s]"
      ]
     },
     "metadata": {},
     "output_type": "display_data"
    },
    {
     "name": "stdout",
     "output_type": "stream",
     "text": [
      "| Epoch: 144 | Train Loss: 1.261 | Train Acc: 78.28% | Val. Loss: 1.375 | Val. Acc: 66.25% | Val. Precision: 68.698 | Val. Recall: 66.250 | Val. F1-score: 63.607 |\n"
     ]
    },
    {
     "data": {
      "application/vnd.jupyter.widget-view+json": {
       "model_id": "511180f281e54c7da16e3dc25ec84776",
       "version_major": 2,
       "version_minor": 0
      },
      "text/plain": [
       "  0%|          | 0/320 [00:00<?, ?it/s]"
      ]
     },
     "metadata": {},
     "output_type": "display_data"
    },
    {
     "name": "stdout",
     "output_type": "stream",
     "text": [
      "| Epoch: 145 | Train Loss: 1.261 | Train Acc: 78.28% | Val. Loss: 1.414 | Val. Acc: 62.50% | Val. Precision: 66.979 | Val. Recall: 62.500 | Val. F1-score: 60.958 |\n"
     ]
    },
    {
     "data": {
      "application/vnd.jupyter.widget-view+json": {
       "model_id": "169e04ead14041e0bdb79a76b35cf9e8",
       "version_major": 2,
       "version_minor": 0
      },
      "text/plain": [
       "  0%|          | 0/320 [00:00<?, ?it/s]"
      ]
     },
     "metadata": {},
     "output_type": "display_data"
    },
    {
     "name": "stdout",
     "output_type": "stream",
     "text": [
      "| Epoch: 146 | Train Loss: 1.270 | Train Acc: 77.42% | Val. Loss: 1.390 | Val. Acc: 65.62% | Val. Precision: 68.490 | Val. Recall: 65.625 | Val. F1-score: 63.378 |\n"
     ]
    },
    {
     "data": {
      "application/vnd.jupyter.widget-view+json": {
       "model_id": "9f6724409b754337a3ccbcd3543223cd",
       "version_major": 2,
       "version_minor": 0
      },
      "text/plain": [
       "  0%|          | 0/320 [00:00<?, ?it/s]"
      ]
     },
     "metadata": {},
     "output_type": "display_data"
    },
    {
     "name": "stdout",
     "output_type": "stream",
     "text": [
      "| Epoch: 147 | Train Loss: 1.270 | Train Acc: 77.42% | Val. Loss: 1.387 | Val. Acc: 65.62% | Val. Precision: 68.906 | Val. Recall: 65.625 | Val. F1-score: 63.086 |\n"
     ]
    },
    {
     "data": {
      "application/vnd.jupyter.widget-view+json": {
       "model_id": "6fa930fe6d7c47cb9bf207ea2d93bcdb",
       "version_major": 2,
       "version_minor": 0
      },
      "text/plain": [
       "  0%|          | 0/320 [00:00<?, ?it/s]"
      ]
     },
     "metadata": {},
     "output_type": "display_data"
    },
    {
     "name": "stdout",
     "output_type": "stream",
     "text": [
      "| Epoch: 148 | Train Loss: 1.269 | Train Acc: 77.42% | Val. Loss: 1.410 | Val. Acc: 63.75% | Val. Precision: 66.354 | Val. Recall: 63.750 | Val. F1-score: 60.818 |\n"
     ]
    },
    {
     "data": {
      "application/vnd.jupyter.widget-view+json": {
       "model_id": "a827a930d9db4e988c120acea339d269",
       "version_major": 2,
       "version_minor": 0
      },
      "text/plain": [
       "  0%|          | 0/320 [00:00<?, ?it/s]"
      ]
     },
     "metadata": {},
     "output_type": "display_data"
    },
    {
     "name": "stdout",
     "output_type": "stream",
     "text": [
      "| Epoch: 149 | Train Loss: 1.267 | Train Acc: 77.73% | Val. Loss: 1.406 | Val. Acc: 63.12% | Val. Precision: 66.823 | Val. Recall: 63.125 | Val. F1-score: 60.583 |\n"
     ]
    },
    {
     "data": {
      "application/vnd.jupyter.widget-view+json": {
       "model_id": "d3a835e617654afc8874a8776d5a37d5",
       "version_major": 2,
       "version_minor": 0
      },
      "text/plain": [
       "  0%|          | 0/320 [00:00<?, ?it/s]"
      ]
     },
     "metadata": {},
     "output_type": "display_data"
    },
    {
     "name": "stdout",
     "output_type": "stream",
     "text": [
      "| Epoch: 150 | Train Loss: 1.256 | Train Acc: 78.75% | Val. Loss: 1.398 | Val. Acc: 64.38% | Val. Precision: 67.760 | Val. Recall: 64.375 | Val. F1-score: 61.833 |\n"
     ]
    },
    {
     "data": {
      "application/vnd.jupyter.widget-view+json": {
       "model_id": "642cb311b0924bbfa72675da75e1e570",
       "version_major": 2,
       "version_minor": 0
      },
      "text/plain": [
       "  0%|          | 0/320 [00:00<?, ?it/s]"
      ]
     },
     "metadata": {},
     "output_type": "display_data"
    },
    {
     "name": "stdout",
     "output_type": "stream",
     "text": [
      "| Epoch: 151 | Train Loss: 1.255 | Train Acc: 78.83% | Val. Loss: 1.388 | Val. Acc: 65.62% | Val. Precision: 67.656 | Val. Recall: 65.625 | Val. F1-score: 62.670 |\n"
     ]
    },
    {
     "data": {
      "application/vnd.jupyter.widget-view+json": {
       "model_id": "bc558ca47f674a2abbeac5f3907c5815",
       "version_major": 2,
       "version_minor": 0
      },
      "text/plain": [
       "  0%|          | 0/320 [00:00<?, ?it/s]"
      ]
     },
     "metadata": {},
     "output_type": "display_data"
    },
    {
     "name": "stdout",
     "output_type": "stream",
     "text": [
      "| Epoch: 152 | Train Loss: 1.261 | Train Acc: 78.36% | Val. Loss: 1.410 | Val. Acc: 63.75% | Val. Precision: 66.823 | Val. Recall: 63.750 | Val. F1-score: 61.045 |\n"
     ]
    },
    {
     "data": {
      "application/vnd.jupyter.widget-view+json": {
       "model_id": "3029192b9a574a9fb8632834b2ba50fb",
       "version_major": 2,
       "version_minor": 0
      },
      "text/plain": [
       "  0%|          | 0/320 [00:00<?, ?it/s]"
      ]
     },
     "metadata": {},
     "output_type": "display_data"
    },
    {
     "name": "stdout",
     "output_type": "stream",
     "text": [
      "| Epoch: 153 | Train Loss: 1.273 | Train Acc: 77.27% | Val. Loss: 1.398 | Val. Acc: 64.38% | Val. Precision: 67.344 | Val. Recall: 64.375 | Val. F1-score: 61.795 |\n"
     ]
    },
    {
     "data": {
      "application/vnd.jupyter.widget-view+json": {
       "model_id": "4fcd9f5972f54b5ea03fb9832cc2ba8f",
       "version_major": 2,
       "version_minor": 0
      },
      "text/plain": [
       "  0%|          | 0/320 [00:00<?, ?it/s]"
      ]
     },
     "metadata": {},
     "output_type": "display_data"
    },
    {
     "name": "stdout",
     "output_type": "stream",
     "text": [
      "| Epoch: 154 | Train Loss: 1.274 | Train Acc: 76.95% | Val. Loss: 1.393 | Val. Acc: 65.00% | Val. Precision: 64.687 | Val. Recall: 65.000 | Val. F1-score: 61.170 |\n"
     ]
    },
    {
     "data": {
      "application/vnd.jupyter.widget-view+json": {
       "model_id": "9334924b12c44c70a69b3ddd1b899a5e",
       "version_major": 2,
       "version_minor": 0
      },
      "text/plain": [
       "  0%|          | 0/320 [00:00<?, ?it/s]"
      ]
     },
     "metadata": {},
     "output_type": "display_data"
    },
    {
     "name": "stdout",
     "output_type": "stream",
     "text": [
      "| Epoch: 155 | Train Loss: 1.279 | Train Acc: 76.56% | Val. Loss: 1.385 | Val. Acc: 65.62% | Val. Precision: 69.219 | Val. Recall: 65.625 | Val. F1-score: 63.378 |\n"
     ]
    },
    {
     "data": {
      "application/vnd.jupyter.widget-view+json": {
       "model_id": "61e7d934341a469b913c4d9d21ef4296",
       "version_major": 2,
       "version_minor": 0
      },
      "text/plain": [
       "  0%|          | 0/320 [00:00<?, ?it/s]"
      ]
     },
     "metadata": {},
     "output_type": "display_data"
    },
    {
     "name": "stdout",
     "output_type": "stream",
     "text": [
      "| Epoch: 156 | Train Loss: 1.269 | Train Acc: 77.42% | Val. Loss: 1.402 | Val. Acc: 63.75% | Val. Precision: 67.344 | Val. Recall: 63.750 | Val. F1-score: 61.232 |\n"
     ]
    },
    {
     "data": {
      "application/vnd.jupyter.widget-view+json": {
       "model_id": "96a215702634494888e2b44ed460fbde",
       "version_major": 2,
       "version_minor": 0
      },
      "text/plain": [
       "  0%|          | 0/320 [00:00<?, ?it/s]"
      ]
     },
     "metadata": {},
     "output_type": "display_data"
    },
    {
     "name": "stdout",
     "output_type": "stream",
     "text": [
      "| Epoch: 157 | Train Loss: 1.265 | Train Acc: 77.81% | Val. Loss: 1.374 | Val. Acc: 66.88% | Val. Precision: 68.490 | Val. Recall: 66.875 | Val. F1-score: 64.003 |\n"
     ]
    },
    {
     "data": {
      "application/vnd.jupyter.widget-view+json": {
       "model_id": "2242b1653f964b20bab96b2b4b9ea7c1",
       "version_major": 2,
       "version_minor": 0
      },
      "text/plain": [
       "  0%|          | 0/320 [00:00<?, ?it/s]"
      ]
     },
     "metadata": {},
     "output_type": "display_data"
    },
    {
     "name": "stdout",
     "output_type": "stream",
     "text": [
      "| Epoch: 158 | Train Loss: 1.269 | Train Acc: 77.50% | Val. Loss: 1.409 | Val. Acc: 63.12% | Val. Precision: 66.823 | Val. Recall: 63.125 | Val. F1-score: 60.562 |\n"
     ]
    },
    {
     "data": {
      "application/vnd.jupyter.widget-view+json": {
       "model_id": "cc6b385f03394ce59adc11ba7b1e8c8f",
       "version_major": 2,
       "version_minor": 0
      },
      "text/plain": [
       "  0%|          | 0/320 [00:00<?, ?it/s]"
      ]
     },
     "metadata": {},
     "output_type": "display_data"
    },
    {
     "name": "stdout",
     "output_type": "stream",
     "text": [
      "| Epoch: 159 | Train Loss: 1.264 | Train Acc: 78.12% | Val. Loss: 1.374 | Val. Acc: 66.88% | Val. Precision: 67.969 | Val. Recall: 66.875 | Val. F1-score: 63.670 |\n"
     ]
    },
    {
     "data": {
      "application/vnd.jupyter.widget-view+json": {
       "model_id": "ee52c9ac921a470b9433e1d8e35b362b",
       "version_major": 2,
       "version_minor": 0
      },
      "text/plain": [
       "  0%|          | 0/320 [00:00<?, ?it/s]"
      ]
     },
     "metadata": {},
     "output_type": "display_data"
    },
    {
     "name": "stdout",
     "output_type": "stream",
     "text": [
      "| Epoch: 160 | Train Loss: 1.263 | Train Acc: 78.05% | Val. Loss: 1.388 | Val. Acc: 65.62% | Val. Precision: 65.260 | Val. Recall: 65.625 | Val. F1-score: 61.628 |\n"
     ]
    },
    {
     "data": {
      "application/vnd.jupyter.widget-view+json": {
       "model_id": "924612a9afdc4dd78066eb2e4180886e",
       "version_major": 2,
       "version_minor": 0
      },
      "text/plain": [
       "  0%|          | 0/320 [00:00<?, ?it/s]"
      ]
     },
     "metadata": {},
     "output_type": "display_data"
    },
    {
     "name": "stdout",
     "output_type": "stream",
     "text": [
      "| Epoch: 161 | Train Loss: 1.270 | Train Acc: 77.42% | Val. Loss: 1.387 | Val. Acc: 65.62% | Val. Precision: 67.500 | Val. Recall: 65.625 | Val. F1-score: 62.690 |\n"
     ]
    },
    {
     "data": {
      "application/vnd.jupyter.widget-view+json": {
       "model_id": "81eb533ddfbb433e82f2847302d7484c",
       "version_major": 2,
       "version_minor": 0
      },
      "text/plain": [
       "  0%|          | 0/320 [00:00<?, ?it/s]"
      ]
     },
     "metadata": {},
     "output_type": "display_data"
    },
    {
     "name": "stdout",
     "output_type": "stream",
     "text": [
      "| Epoch: 162 | Train Loss: 1.269 | Train Acc: 77.50% | Val. Loss: 1.379 | Val. Acc: 66.88% | Val. Precision: 68.594 | Val. Recall: 66.875 | Val. F1-score: 63.482 |\n"
     ]
    },
    {
     "data": {
      "application/vnd.jupyter.widget-view+json": {
       "model_id": "56daa281cadc416b871c87056790c0d3",
       "version_major": 2,
       "version_minor": 0
      },
      "text/plain": [
       "  0%|          | 0/320 [00:00<?, ?it/s]"
      ]
     },
     "metadata": {},
     "output_type": "display_data"
    },
    {
     "name": "stdout",
     "output_type": "stream",
     "text": [
      "| Epoch: 163 | Train Loss: 1.262 | Train Acc: 78.12% | Val. Loss: 1.388 | Val. Acc: 64.38% | Val. Precision: 65.156 | Val. Recall: 64.375 | Val. F1-score: 60.524 |\n"
     ]
    },
    {
     "data": {
      "application/vnd.jupyter.widget-view+json": {
       "model_id": "f1dfa262c56443258326fb527a469a50",
       "version_major": 2,
       "version_minor": 0
      },
      "text/plain": [
       "  0%|          | 0/320 [00:00<?, ?it/s]"
      ]
     },
     "metadata": {},
     "output_type": "display_data"
    },
    {
     "name": "stdout",
     "output_type": "stream",
     "text": [
      "| Epoch: 164 | Train Loss: 1.261 | Train Acc: 78.28% | Val. Loss: 1.375 | Val. Acc: 66.25% | Val. Precision: 66.042 | Val. Recall: 66.250 | Val. F1-score: 62.482 |\n"
     ]
    },
    {
     "data": {
      "application/vnd.jupyter.widget-view+json": {
       "model_id": "99da0b15cf0541c1ba0f30248321da3e",
       "version_major": 2,
       "version_minor": 0
      },
      "text/plain": [
       "  0%|          | 0/320 [00:00<?, ?it/s]"
      ]
     },
     "metadata": {},
     "output_type": "display_data"
    },
    {
     "name": "stdout",
     "output_type": "stream",
     "text": [
      "| Epoch: 165 | Train Loss: 1.262 | Train Acc: 78.12% | Val. Loss: 1.352 | Val. Acc: 69.38% | Val. Precision: 69.740 | Val. Recall: 69.375 | Val. F1-score: 66.128 |\n"
     ]
    },
    {
     "data": {
      "application/vnd.jupyter.widget-view+json": {
       "model_id": "f06ac470a00b4666a2c72d0466b2f8f0",
       "version_major": 2,
       "version_minor": 0
      },
      "text/plain": [
       "  0%|          | 0/320 [00:00<?, ?it/s]"
      ]
     },
     "metadata": {},
     "output_type": "display_data"
    },
    {
     "name": "stdout",
     "output_type": "stream",
     "text": [
      "| Epoch: 166 | Train Loss: 1.264 | Train Acc: 77.97% | Val. Loss: 1.374 | Val. Acc: 66.25% | Val. Precision: 67.031 | Val. Recall: 66.250 | Val. F1-score: 63.253 |\n"
     ]
    },
    {
     "data": {
      "application/vnd.jupyter.widget-view+json": {
       "model_id": "dd343914d24e4098a1039bb31e26adf8",
       "version_major": 2,
       "version_minor": 0
      },
      "text/plain": [
       "  0%|          | 0/320 [00:00<?, ?it/s]"
      ]
     },
     "metadata": {},
     "output_type": "display_data"
    },
    {
     "name": "stdout",
     "output_type": "stream",
     "text": [
      "| Epoch: 167 | Train Loss: 1.257 | Train Acc: 78.75% | Val. Loss: 1.365 | Val. Acc: 67.50% | Val. Precision: 67.760 | Val. Recall: 67.500 | Val. F1-score: 64.128 |\n"
     ]
    },
    {
     "data": {
      "application/vnd.jupyter.widget-view+json": {
       "model_id": "5648518f3e1a4112b3393335dfab9542",
       "version_major": 2,
       "version_minor": 0
      },
      "text/plain": [
       "  0%|          | 0/320 [00:00<?, ?it/s]"
      ]
     },
     "metadata": {},
     "output_type": "display_data"
    },
    {
     "name": "stdout",
     "output_type": "stream",
     "text": [
      "| Epoch: 168 | Train Loss: 1.258 | Train Acc: 78.59% | Val. Loss: 1.375 | Val. Acc: 66.88% | Val. Precision: 68.073 | Val. Recall: 66.875 | Val. F1-score: 64.190 |\n"
     ]
    },
    {
     "data": {
      "application/vnd.jupyter.widget-view+json": {
       "model_id": "eefdda13db3b4588bccba7435b453bc5",
       "version_major": 2,
       "version_minor": 0
      },
      "text/plain": [
       "  0%|          | 0/320 [00:00<?, ?it/s]"
      ]
     },
     "metadata": {},
     "output_type": "display_data"
    },
    {
     "name": "stdout",
     "output_type": "stream",
     "text": [
      "| Epoch: 169 | Train Loss: 1.258 | Train Acc: 78.52% | Val. Loss: 1.367 | Val. Acc: 68.12% | Val. Precision: 69.531 | Val. Recall: 68.125 | Val. F1-score: 65.336 |\n"
     ]
    },
    {
     "data": {
      "application/vnd.jupyter.widget-view+json": {
       "model_id": "eebf3bb4aae446879df9ab2851b25762",
       "version_major": 2,
       "version_minor": 0
      },
      "text/plain": [
       "  0%|          | 0/320 [00:00<?, ?it/s]"
      ]
     },
     "metadata": {},
     "output_type": "display_data"
    },
    {
     "name": "stdout",
     "output_type": "stream",
     "text": [
      "| Epoch: 170 | Train Loss: 1.276 | Train Acc: 76.64% | Val. Loss: 1.376 | Val. Acc: 66.25% | Val. Precision: 67.292 | Val. Recall: 66.250 | Val. F1-score: 63.170 |\n"
     ]
    },
    {
     "data": {
      "application/vnd.jupyter.widget-view+json": {
       "model_id": "28ab1ef13c9c4aea9934a5dd68919759",
       "version_major": 2,
       "version_minor": 0
      },
      "text/plain": [
       "  0%|          | 0/320 [00:00<?, ?it/s]"
      ]
     },
     "metadata": {},
     "output_type": "display_data"
    },
    {
     "name": "stdout",
     "output_type": "stream",
     "text": [
      "| Epoch: 171 | Train Loss: 1.275 | Train Acc: 76.88% | Val. Loss: 1.364 | Val. Acc: 68.12% | Val. Precision: 70.052 | Val. Recall: 68.125 | Val. F1-score: 65.149 |\n"
     ]
    },
    {
     "data": {
      "application/vnd.jupyter.widget-view+json": {
       "model_id": "dda793bf2786421b976c48058e2d37a3",
       "version_major": 2,
       "version_minor": 0
      },
      "text/plain": [
       "  0%|          | 0/320 [00:00<?, ?it/s]"
      ]
     },
     "metadata": {},
     "output_type": "display_data"
    },
    {
     "name": "stdout",
     "output_type": "stream",
     "text": [
      "| Epoch: 172 | Train Loss: 1.261 | Train Acc: 78.28% | Val. Loss: 1.376 | Val. Acc: 66.25% | Val. Precision: 69.010 | Val. Recall: 66.250 | Val. F1-score: 63.378 |\n"
     ]
    },
    {
     "data": {
      "application/vnd.jupyter.widget-view+json": {
       "model_id": "d1487aa6fb684bb59e19c2533734bc63",
       "version_major": 2,
       "version_minor": 0
      },
      "text/plain": [
       "  0%|          | 0/320 [00:00<?, ?it/s]"
      ]
     },
     "metadata": {},
     "output_type": "display_data"
    },
    {
     "name": "stdout",
     "output_type": "stream",
     "text": [
      "| Epoch: 173 | Train Loss: 1.275 | Train Acc: 76.80% | Val. Loss: 1.381 | Val. Acc: 66.25% | Val. Precision: 67.552 | Val. Recall: 66.250 | Val. F1-score: 63.440 |\n"
     ]
    },
    {
     "data": {
      "application/vnd.jupyter.widget-view+json": {
       "model_id": "7dd1d8f1f4f946a5ae47031f55e14201",
       "version_major": 2,
       "version_minor": 0
      },
      "text/plain": [
       "  0%|          | 0/320 [00:00<?, ?it/s]"
      ]
     },
     "metadata": {},
     "output_type": "display_data"
    },
    {
     "name": "stdout",
     "output_type": "stream",
     "text": [
      "| Epoch: 174 | Train Loss: 1.274 | Train Acc: 77.03% | Val. Loss: 1.400 | Val. Acc: 63.75% | Val. Precision: 67.344 | Val. Recall: 63.750 | Val. F1-score: 61.274 |\n"
     ]
    },
    {
     "data": {
      "application/vnd.jupyter.widget-view+json": {
       "model_id": "8ac2b742ae9e4dd6b251c8d90ba332a6",
       "version_major": 2,
       "version_minor": 0
      },
      "text/plain": [
       "  0%|          | 0/320 [00:00<?, ?it/s]"
      ]
     },
     "metadata": {},
     "output_type": "display_data"
    },
    {
     "name": "stdout",
     "output_type": "stream",
     "text": [
      "| Epoch: 175 | Train Loss: 1.260 | Train Acc: 78.36% | Val. Loss: 1.383 | Val. Acc: 65.62% | Val. Precision: 67.969 | Val. Recall: 65.625 | Val. F1-score: 62.521 |\n"
     ]
    },
    {
     "data": {
      "application/vnd.jupyter.widget-view+json": {
       "model_id": "d5a2bf94576342d6b1a0802f36c05f28",
       "version_major": 2,
       "version_minor": 0
      },
      "text/plain": [
       "  0%|          | 0/320 [00:00<?, ?it/s]"
      ]
     },
     "metadata": {},
     "output_type": "display_data"
    },
    {
     "name": "stdout",
     "output_type": "stream",
     "text": [
      "| Epoch: 176 | Train Loss: 1.262 | Train Acc: 78.36% | Val. Loss: 1.387 | Val. Acc: 65.62% | Val. Precision: 67.865 | Val. Recall: 65.625 | Val. F1-score: 63.149 |\n"
     ]
    },
    {
     "data": {
      "application/vnd.jupyter.widget-view+json": {
       "model_id": "484f1e7f72cb42f1b9d8f7bb86c9affc",
       "version_major": 2,
       "version_minor": 0
      },
      "text/plain": [
       "  0%|          | 0/320 [00:00<?, ?it/s]"
      ]
     },
     "metadata": {},
     "output_type": "display_data"
    },
    {
     "name": "stdout",
     "output_type": "stream",
     "text": [
      "| Epoch: 177 | Train Loss: 1.264 | Train Acc: 77.97% | Val. Loss: 1.362 | Val. Acc: 68.75% | Val. Precision: 69.115 | Val. Recall: 68.750 | Val. F1-score: 65.670 |\n"
     ]
    },
    {
     "data": {
      "application/vnd.jupyter.widget-view+json": {
       "model_id": "805390e51b944fe288488c16dace5245",
       "version_major": 2,
       "version_minor": 0
      },
      "text/plain": [
       "  0%|          | 0/320 [00:00<?, ?it/s]"
      ]
     },
     "metadata": {},
     "output_type": "display_data"
    },
    {
     "name": "stdout",
     "output_type": "stream",
     "text": [
      "| Epoch: 178 | Train Loss: 1.258 | Train Acc: 78.52% | Val. Loss: 1.382 | Val. Acc: 66.25% | Val. Precision: 67.969 | Val. Recall: 66.250 | Val. F1-score: 63.229 |\n"
     ]
    },
    {
     "data": {
      "application/vnd.jupyter.widget-view+json": {
       "model_id": "ab676705e1a343ed9a04842be0e64482",
       "version_major": 2,
       "version_minor": 0
      },
      "text/plain": [
       "  0%|          | 0/320 [00:00<?, ?it/s]"
      ]
     },
     "metadata": {},
     "output_type": "display_data"
    },
    {
     "name": "stdout",
     "output_type": "stream",
     "text": [
      "| Epoch: 179 | Train Loss: 1.268 | Train Acc: 77.42% | Val. Loss: 1.373 | Val. Acc: 67.50% | Val. Precision: 69.010 | Val. Recall: 67.500 | Val. F1-score: 64.586 |\n"
     ]
    },
    {
     "data": {
      "application/vnd.jupyter.widget-view+json": {
       "model_id": "e54fec72e98a414a8403c8fa0b10bbc1",
       "version_major": 2,
       "version_minor": 0
      },
      "text/plain": [
       "  0%|          | 0/320 [00:00<?, ?it/s]"
      ]
     },
     "metadata": {},
     "output_type": "display_data"
    },
    {
     "name": "stdout",
     "output_type": "stream",
     "text": [
      "| Epoch: 180 | Train Loss: 1.259 | Train Acc: 78.44% | Val. Loss: 1.364 | Val. Acc: 68.12% | Val. Precision: 68.906 | Val. Recall: 68.125 | Val. F1-score: 65.128 |\n"
     ]
    },
    {
     "data": {
      "application/vnd.jupyter.widget-view+json": {
       "model_id": "78562ac45fd641c6bbdb7fb44e7edb00",
       "version_major": 2,
       "version_minor": 0
      },
      "text/plain": [
       "  0%|          | 0/320 [00:00<?, ?it/s]"
      ]
     },
     "metadata": {},
     "output_type": "display_data"
    },
    {
     "name": "stdout",
     "output_type": "stream",
     "text": [
      "| Epoch: 181 | Train Loss: 1.260 | Train Acc: 78.36% | Val. Loss: 1.402 | Val. Acc: 63.75% | Val. Precision: 66.927 | Val. Recall: 63.750 | Val. F1-score: 61.250 |\n"
     ]
    },
    {
     "data": {
      "application/vnd.jupyter.widget-view+json": {
       "model_id": "cf0c902b236c4ebe9cf05c768d792076",
       "version_major": 2,
       "version_minor": 0
      },
      "text/plain": [
       "  0%|          | 0/320 [00:00<?, ?it/s]"
      ]
     },
     "metadata": {},
     "output_type": "display_data"
    },
    {
     "name": "stdout",
     "output_type": "stream",
     "text": [
      "| Epoch: 182 | Train Loss: 1.265 | Train Acc: 77.89% | Val. Loss: 1.390 | Val. Acc: 65.00% | Val. Precision: 65.052 | Val. Recall: 65.000 | Val. F1-score: 61.982 |\n"
     ]
    },
    {
     "data": {
      "application/vnd.jupyter.widget-view+json": {
       "model_id": "01c6b0bb9a614ea1a9820f0881cdb0b1",
       "version_major": 2,
       "version_minor": 0
      },
      "text/plain": [
       "  0%|          | 0/320 [00:00<?, ?it/s]"
      ]
     },
     "metadata": {},
     "output_type": "display_data"
    },
    {
     "name": "stdout",
     "output_type": "stream",
     "text": [
      "| Epoch: 183 | Train Loss: 1.259 | Train Acc: 78.52% | Val. Loss: 1.396 | Val. Acc: 65.00% | Val. Precision: 66.250 | Val. Recall: 65.000 | Val. F1-score: 61.920 |\n"
     ]
    },
    {
     "data": {
      "application/vnd.jupyter.widget-view+json": {
       "model_id": "ecf4c5f16b574d06825c035b6fbae743",
       "version_major": 2,
       "version_minor": 0
      },
      "text/plain": [
       "  0%|          | 0/320 [00:00<?, ?it/s]"
      ]
     },
     "metadata": {},
     "output_type": "display_data"
    },
    {
     "name": "stdout",
     "output_type": "stream",
     "text": [
      "| Epoch: 184 | Train Loss: 1.262 | Train Acc: 78.12% | Val. Loss: 1.356 | Val. Acc: 68.75% | Val. Precision: 68.906 | Val. Recall: 68.750 | Val. F1-score: 65.545 |\n"
     ]
    },
    {
     "data": {
      "application/vnd.jupyter.widget-view+json": {
       "model_id": "2f2b7e35e53f42e3aa4870efe41e8ebf",
       "version_major": 2,
       "version_minor": 0
      },
      "text/plain": [
       "  0%|          | 0/320 [00:00<?, ?it/s]"
      ]
     },
     "metadata": {},
     "output_type": "display_data"
    },
    {
     "name": "stdout",
     "output_type": "stream",
     "text": [
      "| Epoch: 185 | Train Loss: 1.254 | Train Acc: 79.06% | Val. Loss: 1.369 | Val. Acc: 67.50% | Val. Precision: 68.906 | Val. Recall: 67.500 | Val. F1-score: 64.170 |\n"
     ]
    },
    {
     "data": {
      "application/vnd.jupyter.widget-view+json": {
       "model_id": "2b70357f4e6f448488f9675bfad2bfa1",
       "version_major": 2,
       "version_minor": 0
      },
      "text/plain": [
       "  0%|          | 0/320 [00:00<?, ?it/s]"
      ]
     },
     "metadata": {},
     "output_type": "display_data"
    },
    {
     "name": "stdout",
     "output_type": "stream",
     "text": [
      "| Epoch: 186 | Train Loss: 1.265 | Train Acc: 77.97% | Val. Loss: 1.373 | Val. Acc: 66.88% | Val. Precision: 66.406 | Val. Recall: 66.875 | Val. F1-score: 63.565 |\n"
     ]
    },
    {
     "data": {
      "application/vnd.jupyter.widget-view+json": {
       "model_id": "bafb447f52064e92aec2dd1e4765968f",
       "version_major": 2,
       "version_minor": 0
      },
      "text/plain": [
       "  0%|          | 0/320 [00:00<?, ?it/s]"
      ]
     },
     "metadata": {},
     "output_type": "display_data"
    },
    {
     "name": "stdout",
     "output_type": "stream",
     "text": [
      "| Epoch: 187 | Train Loss: 1.261 | Train Acc: 78.20% | Val. Loss: 1.412 | Val. Acc: 62.50% | Val. Precision: 64.427 | Val. Recall: 62.500 | Val. F1-score: 59.438 |\n"
     ]
    },
    {
     "data": {
      "application/vnd.jupyter.widget-view+json": {
       "model_id": "6cf3542c755e461fa6b22de884d18800",
       "version_major": 2,
       "version_minor": 0
      },
      "text/plain": [
       "  0%|          | 0/320 [00:00<?, ?it/s]"
      ]
     },
     "metadata": {},
     "output_type": "display_data"
    },
    {
     "name": "stdout",
     "output_type": "stream",
     "text": [
      "| Epoch: 188 | Train Loss: 1.266 | Train Acc: 77.81% | Val. Loss: 1.391 | Val. Acc: 65.00% | Val. Precision: 66.302 | Val. Recall: 65.000 | Val. F1-score: 61.545 |\n"
     ]
    },
    {
     "data": {
      "application/vnd.jupyter.widget-view+json": {
       "model_id": "ca2f77e88590495598f1b6f3ad58a26d",
       "version_major": 2,
       "version_minor": 0
      },
      "text/plain": [
       "  0%|          | 0/320 [00:00<?, ?it/s]"
      ]
     },
     "metadata": {},
     "output_type": "display_data"
    },
    {
     "name": "stdout",
     "output_type": "stream",
     "text": [
      "| Epoch: 189 | Train Loss: 1.258 | Train Acc: 78.52% | Val. Loss: 1.380 | Val. Acc: 66.88% | Val. Precision: 67.656 | Val. Recall: 66.875 | Val. F1-score: 63.836 |\n"
     ]
    },
    {
     "data": {
      "application/vnd.jupyter.widget-view+json": {
       "model_id": "747320dcfe5245eaaccc290aec2ea0e8",
       "version_major": 2,
       "version_minor": 0
      },
      "text/plain": [
       "  0%|          | 0/320 [00:00<?, ?it/s]"
      ]
     },
     "metadata": {},
     "output_type": "display_data"
    },
    {
     "name": "stdout",
     "output_type": "stream",
     "text": [
      "| Epoch: 190 | Train Loss: 1.254 | Train Acc: 78.98% | Val. Loss: 1.375 | Val. Acc: 66.88% | Val. Precision: 69.219 | Val. Recall: 66.875 | Val. F1-score: 64.295 |\n"
     ]
    },
    {
     "data": {
      "application/vnd.jupyter.widget-view+json": {
       "model_id": "cc0732307d0c444e9521150381a8a63b",
       "version_major": 2,
       "version_minor": 0
      },
      "text/plain": [
       "  0%|          | 0/320 [00:00<?, ?it/s]"
      ]
     },
     "metadata": {},
     "output_type": "display_data"
    },
    {
     "name": "stdout",
     "output_type": "stream",
     "text": [
      "| Epoch: 191 | Train Loss: 1.253 | Train Acc: 79.06% | Val. Loss: 1.371 | Val. Acc: 67.50% | Val. Precision: 69.115 | Val. Recall: 67.500 | Val. F1-score: 64.836 |\n"
     ]
    },
    {
     "data": {
      "application/vnd.jupyter.widget-view+json": {
       "model_id": "f54a4a8f9d48477181de5863fdab0be3",
       "version_major": 2,
       "version_minor": 0
      },
      "text/plain": [
       "  0%|          | 0/320 [00:00<?, ?it/s]"
      ]
     },
     "metadata": {},
     "output_type": "display_data"
    },
    {
     "name": "stdout",
     "output_type": "stream",
     "text": [
      "| Epoch: 192 | Train Loss: 1.253 | Train Acc: 79.06% | Val. Loss: 1.384 | Val. Acc: 66.25% | Val. Precision: 68.698 | Val. Recall: 66.250 | Val. F1-score: 63.607 |\n"
     ]
    },
    {
     "data": {
      "application/vnd.jupyter.widget-view+json": {
       "model_id": "033fa35186f34a6a80d1fcd0bed180cf",
       "version_major": 2,
       "version_minor": 0
      },
      "text/plain": [
       "  0%|          | 0/320 [00:00<?, ?it/s]"
      ]
     },
     "metadata": {},
     "output_type": "display_data"
    },
    {
     "name": "stdout",
     "output_type": "stream",
     "text": [
      "| Epoch: 193 | Train Loss: 1.252 | Train Acc: 79.06% | Val. Loss: 1.375 | Val. Acc: 66.88% | Val. Precision: 67.656 | Val. Recall: 66.875 | Val. F1-score: 63.836 |\n"
     ]
    },
    {
     "data": {
      "application/vnd.jupyter.widget-view+json": {
       "model_id": "3d345ee473ea4b1398463def9cb9fda4",
       "version_major": 2,
       "version_minor": 0
      },
      "text/plain": [
       "  0%|          | 0/320 [00:00<?, ?it/s]"
      ]
     },
     "metadata": {},
     "output_type": "display_data"
    },
    {
     "name": "stdout",
     "output_type": "stream",
     "text": [
      "| Epoch: 194 | Train Loss: 1.258 | Train Acc: 78.52% | Val. Loss: 1.375 | Val. Acc: 67.50% | Val. Precision: 67.135 | Val. Recall: 67.500 | Val. F1-score: 64.024 |\n"
     ]
    },
    {
     "data": {
      "application/vnd.jupyter.widget-view+json": {
       "model_id": "7f5b1024cbf94abb9c04a8dfbcb2f883",
       "version_major": 2,
       "version_minor": 0
      },
      "text/plain": [
       "  0%|          | 0/320 [00:00<?, ?it/s]"
      ]
     },
     "metadata": {},
     "output_type": "display_data"
    },
    {
     "name": "stdout",
     "output_type": "stream",
     "text": [
      "| Epoch: 195 | Train Loss: 1.262 | Train Acc: 78.20% | Val. Loss: 1.384 | Val. Acc: 65.00% | Val. Precision: 64.219 | Val. Recall: 65.000 | Val. F1-score: 61.399 |\n"
     ]
    },
    {
     "data": {
      "application/vnd.jupyter.widget-view+json": {
       "model_id": "70f71b76107945a6b788818c80360393",
       "version_major": 2,
       "version_minor": 0
      },
      "text/plain": [
       "  0%|          | 0/320 [00:00<?, ?it/s]"
      ]
     },
     "metadata": {},
     "output_type": "display_data"
    },
    {
     "name": "stdout",
     "output_type": "stream",
     "text": [
      "| Epoch: 196 | Train Loss: 1.269 | Train Acc: 77.50% | Val. Loss: 1.378 | Val. Acc: 66.25% | Val. Precision: 68.698 | Val. Recall: 66.250 | Val. F1-score: 63.753 |\n"
     ]
    },
    {
     "data": {
      "application/vnd.jupyter.widget-view+json": {
       "model_id": "3725f63cf72c4c63a9c9f662fcb23973",
       "version_major": 2,
       "version_minor": 0
      },
      "text/plain": [
       "  0%|          | 0/320 [00:00<?, ?it/s]"
      ]
     },
     "metadata": {},
     "output_type": "display_data"
    },
    {
     "name": "stdout",
     "output_type": "stream",
     "text": [
      "| Epoch: 197 | Train Loss: 1.262 | Train Acc: 78.05% | Val. Loss: 1.374 | Val. Acc: 67.50% | Val. Precision: 68.906 | Val. Recall: 67.500 | Val. F1-score: 64.961 |\n"
     ]
    },
    {
     "data": {
      "application/vnd.jupyter.widget-view+json": {
       "model_id": "aa89775974ca49c3bbff57e218164184",
       "version_major": 2,
       "version_minor": 0
      },
      "text/plain": [
       "  0%|          | 0/320 [00:00<?, ?it/s]"
      ]
     },
     "metadata": {},
     "output_type": "display_data"
    },
    {
     "name": "stdout",
     "output_type": "stream",
     "text": [
      "| Epoch: 198 | Train Loss: 1.264 | Train Acc: 77.81% | Val. Loss: 1.389 | Val. Acc: 65.62% | Val. Precision: 67.604 | Val. Recall: 65.625 | Val. F1-score: 62.670 |\n"
     ]
    },
    {
     "data": {
      "application/vnd.jupyter.widget-view+json": {
       "model_id": "575aa86090574ca884b99f98a47b5d24",
       "version_major": 2,
       "version_minor": 0
      },
      "text/plain": [
       "  0%|          | 0/320 [00:00<?, ?it/s]"
      ]
     },
     "metadata": {},
     "output_type": "display_data"
    },
    {
     "name": "stdout",
     "output_type": "stream",
     "text": [
      "| Epoch: 199 | Train Loss: 1.257 | Train Acc: 78.75% | Val. Loss: 1.381 | Val. Acc: 65.62% | Val. Precision: 67.031 | Val. Recall: 65.625 | Val. F1-score: 62.857 |\n"
     ]
    },
    {
     "data": {
      "application/vnd.jupyter.widget-view+json": {
       "model_id": "65dea57f5c2947c3be372469e184e136",
       "version_major": 2,
       "version_minor": 0
      },
      "text/plain": [
       "  0%|          | 0/320 [00:00<?, ?it/s]"
      ]
     },
     "metadata": {},
     "output_type": "display_data"
    },
    {
     "name": "stdout",
     "output_type": "stream",
     "text": [
      "| Epoch: 200 | Train Loss: 1.255 | Train Acc: 78.83% | Val. Loss: 1.371 | Val. Acc: 66.88% | Val. Precision: 67.448 | Val. Recall: 66.875 | Val. F1-score: 63.753 |\n"
     ]
    },
    {
     "data": {
      "application/vnd.jupyter.widget-view+json": {
       "model_id": "335c9689021a4728a34b8d6434c54b89",
       "version_major": 2,
       "version_minor": 0
      },
      "text/plain": [
       "  0%|          | 0/320 [00:00<?, ?it/s]"
      ]
     },
     "metadata": {},
     "output_type": "display_data"
    },
    {
     "name": "stdout",
     "output_type": "stream",
     "text": [
      "| Epoch: 201 | Train Loss: 1.251 | Train Acc: 79.22% | Val. Loss: 1.369 | Val. Acc: 67.50% | Val. Precision: 68.802 | Val. Recall: 67.500 | Val. F1-score: 64.607 |\n"
     ]
    },
    {
     "data": {
      "application/vnd.jupyter.widget-view+json": {
       "model_id": "9e5669ca9ff24e65a1ed344fa2c50d88",
       "version_major": 2,
       "version_minor": 0
      },
      "text/plain": [
       "  0%|          | 0/320 [00:00<?, ?it/s]"
      ]
     },
     "metadata": {},
     "output_type": "display_data"
    },
    {
     "name": "stdout",
     "output_type": "stream",
     "text": [
      "| Epoch: 202 | Train Loss: 1.254 | Train Acc: 78.91% | Val. Loss: 1.374 | Val. Acc: 66.88% | Val. Precision: 67.969 | Val. Recall: 66.875 | Val. F1-score: 63.940 |\n"
     ]
    },
    {
     "data": {
      "application/vnd.jupyter.widget-view+json": {
       "model_id": "1218f9794d1f4eedae44684be9bc83b3",
       "version_major": 2,
       "version_minor": 0
      },
      "text/plain": [
       "  0%|          | 0/320 [00:00<?, ?it/s]"
      ]
     },
     "metadata": {},
     "output_type": "display_data"
    },
    {
     "name": "stdout",
     "output_type": "stream",
     "text": [
      "| Epoch: 203 | Train Loss: 1.254 | Train Acc: 78.91% | Val. Loss: 1.369 | Val. Acc: 67.50% | Val. Precision: 68.698 | Val. Recall: 67.500 | Val. F1-score: 64.357 |\n"
     ]
    },
    {
     "data": {
      "application/vnd.jupyter.widget-view+json": {
       "model_id": "fc6e8b3f6bd647138c0f1726eb08a54b",
       "version_major": 2,
       "version_minor": 0
      },
      "text/plain": [
       "  0%|          | 0/320 [00:00<?, ?it/s]"
      ]
     },
     "metadata": {},
     "output_type": "display_data"
    },
    {
     "name": "stdout",
     "output_type": "stream",
     "text": [
      "| Epoch: 204 | Train Loss: 1.264 | Train Acc: 77.97% | Val. Loss: 1.378 | Val. Acc: 66.25% | Val. Precision: 67.760 | Val. Recall: 66.250 | Val. F1-score: 63.565 |\n"
     ]
    },
    {
     "data": {
      "application/vnd.jupyter.widget-view+json": {
       "model_id": "170f6a3ad97e4123ab0dba3dbf7be7f7",
       "version_major": 2,
       "version_minor": 0
      },
      "text/plain": [
       "  0%|          | 0/320 [00:00<?, ?it/s]"
      ]
     },
     "metadata": {},
     "output_type": "display_data"
    },
    {
     "name": "stdout",
     "output_type": "stream",
     "text": [
      "| Epoch: 205 | Train Loss: 1.258 | Train Acc: 78.67% | Val. Loss: 1.379 | Val. Acc: 66.25% | Val. Precision: 65.312 | Val. Recall: 66.250 | Val. F1-score: 62.670 |\n"
     ]
    },
    {
     "data": {
      "application/vnd.jupyter.widget-view+json": {
       "model_id": "83a7d4a3242a4d0eab92520d1057edf1",
       "version_major": 2,
       "version_minor": 0
      },
      "text/plain": [
       "  0%|          | 0/320 [00:00<?, ?it/s]"
      ]
     },
     "metadata": {},
     "output_type": "display_data"
    },
    {
     "name": "stdout",
     "output_type": "stream",
     "text": [
      "| Epoch: 206 | Train Loss: 1.252 | Train Acc: 79.22% | Val. Loss: 1.376 | Val. Acc: 66.25% | Val. Precision: 65.417 | Val. Recall: 66.250 | Val. F1-score: 62.628 |\n"
     ]
    },
    {
     "data": {
      "application/vnd.jupyter.widget-view+json": {
       "model_id": "8535675426d240b8b44936f0cb51fc36",
       "version_major": 2,
       "version_minor": 0
      },
      "text/plain": [
       "  0%|          | 0/320 [00:00<?, ?it/s]"
      ]
     },
     "metadata": {},
     "output_type": "display_data"
    },
    {
     "name": "stdout",
     "output_type": "stream",
     "text": [
      "| Epoch: 207 | Train Loss: 1.250 | Train Acc: 79.38% | Val. Loss: 1.376 | Val. Acc: 66.25% | Val. Precision: 67.135 | Val. Recall: 66.250 | Val. F1-score: 62.940 |\n"
     ]
    },
    {
     "data": {
      "application/vnd.jupyter.widget-view+json": {
       "model_id": "93f3a267823d44b3a7a0ce0dd2467fe2",
       "version_major": 2,
       "version_minor": 0
      },
      "text/plain": [
       "  0%|          | 0/320 [00:00<?, ?it/s]"
      ]
     },
     "metadata": {},
     "output_type": "display_data"
    },
    {
     "name": "stdout",
     "output_type": "stream",
     "text": [
      "| Epoch: 208 | Train Loss: 1.252 | Train Acc: 79.22% | Val. Loss: 1.384 | Val. Acc: 65.62% | Val. Precision: 64.531 | Val. Recall: 65.625 | Val. F1-score: 62.423 |\n"
     ]
    },
    {
     "data": {
      "application/vnd.jupyter.widget-view+json": {
       "model_id": "5b96d38f5ca44c87a5ae9ae20f632797",
       "version_major": 2,
       "version_minor": 0
      },
      "text/plain": [
       "  0%|          | 0/320 [00:00<?, ?it/s]"
      ]
     },
     "metadata": {},
     "output_type": "display_data"
    },
    {
     "name": "stdout",
     "output_type": "stream",
     "text": [
      "| Epoch: 209 | Train Loss: 1.256 | Train Acc: 78.98% | Val. Loss: 1.386 | Val. Acc: 65.62% | Val. Precision: 67.552 | Val. Recall: 65.625 | Val. F1-score: 62.795 |\n"
     ]
    },
    {
     "data": {
      "application/vnd.jupyter.widget-view+json": {
       "model_id": "052afbf4c2b8404b98e3a07c18857ccf",
       "version_major": 2,
       "version_minor": 0
      },
      "text/plain": [
       "  0%|          | 0/320 [00:00<?, ?it/s]"
      ]
     },
     "metadata": {},
     "output_type": "display_data"
    },
    {
     "name": "stdout",
     "output_type": "stream",
     "text": [
      "| Epoch: 210 | Train Loss: 1.279 | Train Acc: 76.41% | Val. Loss: 1.378 | Val. Acc: 66.25% | Val. Precision: 67.812 | Val. Recall: 66.250 | Val. F1-score: 63.735 |\n"
     ]
    },
    {
     "data": {
      "application/vnd.jupyter.widget-view+json": {
       "model_id": "c332ec6351ae41cd99e6c46b8de0477d",
       "version_major": 2,
       "version_minor": 0
      },
      "text/plain": [
       "  0%|          | 0/320 [00:00<?, ?it/s]"
      ]
     },
     "metadata": {},
     "output_type": "display_data"
    },
    {
     "name": "stdout",
     "output_type": "stream",
     "text": [
      "| Epoch: 211 | Train Loss: 1.273 | Train Acc: 77.19% | Val. Loss: 1.398 | Val. Acc: 63.75% | Val. Precision: 64.583 | Val. Recall: 63.750 | Val. F1-score: 60.631 |\n"
     ]
    },
    {
     "data": {
      "application/vnd.jupyter.widget-view+json": {
       "model_id": "c35667322bb64c0fb0ec9c6a3ce22c7a",
       "version_major": 2,
       "version_minor": 0
      },
      "text/plain": [
       "  0%|          | 0/320 [00:00<?, ?it/s]"
      ]
     },
     "metadata": {},
     "output_type": "display_data"
    },
    {
     "name": "stdout",
     "output_type": "stream",
     "text": [
      "| Epoch: 212 | Train Loss: 1.263 | Train Acc: 78.05% | Val. Loss: 1.406 | Val. Acc: 63.75% | Val. Precision: 64.479 | Val. Recall: 63.750 | Val. F1-score: 60.836 |\n"
     ]
    },
    {
     "data": {
      "application/vnd.jupyter.widget-view+json": {
       "model_id": "3f449a375ec14927884142a894e933c3",
       "version_major": 2,
       "version_minor": 0
      },
      "text/plain": [
       "  0%|          | 0/320 [00:00<?, ?it/s]"
      ]
     },
     "metadata": {},
     "output_type": "display_data"
    },
    {
     "name": "stdout",
     "output_type": "stream",
     "text": [
      "| Epoch: 213 | Train Loss: 1.260 | Train Acc: 78.44% | Val. Loss: 1.389 | Val. Acc: 66.25% | Val. Precision: 68.281 | Val. Recall: 66.250 | Val. F1-score: 63.586 |\n"
     ]
    },
    {
     "data": {
      "application/vnd.jupyter.widget-view+json": {
       "model_id": "90ed9e93e8e744e7b0e2215a5fec554a",
       "version_major": 2,
       "version_minor": 0
      },
      "text/plain": [
       "  0%|          | 0/320 [00:00<?, ?it/s]"
      ]
     },
     "metadata": {},
     "output_type": "display_data"
    },
    {
     "name": "stdout",
     "output_type": "stream",
     "text": [
      "| Epoch: 214 | Train Loss: 1.263 | Train Acc: 78.12% | Val. Loss: 1.408 | Val. Acc: 63.75% | Val. Precision: 67.240 | Val. Recall: 63.750 | Val. F1-score: 61.274 |\n"
     ]
    },
    {
     "data": {
      "application/vnd.jupyter.widget-view+json": {
       "model_id": "78489708f455468ea8be0599537a3d02",
       "version_major": 2,
       "version_minor": 0
      },
      "text/plain": [
       "  0%|          | 0/320 [00:00<?, ?it/s]"
      ]
     },
     "metadata": {},
     "output_type": "display_data"
    },
    {
     "name": "stdout",
     "output_type": "stream",
     "text": [
      "| Epoch: 215 | Train Loss: 1.264 | Train Acc: 77.97% | Val. Loss: 1.388 | Val. Acc: 66.25% | Val. Precision: 69.115 | Val. Recall: 66.250 | Val. F1-score: 63.750 |\n"
     ]
    },
    {
     "data": {
      "application/vnd.jupyter.widget-view+json": {
       "model_id": "6ee96f994ed8410a871862c68353444b",
       "version_major": 2,
       "version_minor": 0
      },
      "text/plain": [
       "  0%|          | 0/320 [00:00<?, ?it/s]"
      ]
     },
     "metadata": {},
     "output_type": "display_data"
    },
    {
     "name": "stdout",
     "output_type": "stream",
     "text": [
      "| Epoch: 216 | Train Loss: 1.258 | Train Acc: 78.52% | Val. Loss: 1.399 | Val. Acc: 63.75% | Val. Precision: 65.990 | Val. Recall: 63.750 | Val. F1-score: 61.146 |\n"
     ]
    },
    {
     "data": {
      "application/vnd.jupyter.widget-view+json": {
       "model_id": "15bf24d8e1134a45ab611cc90dbddf8b",
       "version_major": 2,
       "version_minor": 0
      },
      "text/plain": [
       "  0%|          | 0/320 [00:00<?, ?it/s]"
      ]
     },
     "metadata": {},
     "output_type": "display_data"
    },
    {
     "name": "stdout",
     "output_type": "stream",
     "text": [
      "| Epoch: 217 | Train Loss: 1.253 | Train Acc: 79.06% | Val. Loss: 1.386 | Val. Acc: 65.62% | Val. Precision: 67.969 | Val. Recall: 65.625 | Val. F1-score: 62.670 |\n"
     ]
    },
    {
     "data": {
      "application/vnd.jupyter.widget-view+json": {
       "model_id": "ea6b037a140d4b428773bd2bddfce90d",
       "version_major": 2,
       "version_minor": 0
      },
      "text/plain": [
       "  0%|          | 0/320 [00:00<?, ?it/s]"
      ]
     },
     "metadata": {},
     "output_type": "display_data"
    },
    {
     "name": "stdout",
     "output_type": "stream",
     "text": [
      "| Epoch: 218 | Train Loss: 1.251 | Train Acc: 79.22% | Val. Loss: 1.374 | Val. Acc: 67.50% | Val. Precision: 68.802 | Val. Recall: 67.500 | Val. F1-score: 64.461 |\n"
     ]
    },
    {
     "data": {
      "application/vnd.jupyter.widget-view+json": {
       "model_id": "78ac1d8fd1f9443a9206d5063019ad82",
       "version_major": 2,
       "version_minor": 0
      },
      "text/plain": [
       "  0%|          | 0/320 [00:00<?, ?it/s]"
      ]
     },
     "metadata": {},
     "output_type": "display_data"
    },
    {
     "name": "stdout",
     "output_type": "stream",
     "text": [
      "| Epoch: 219 | Train Loss: 1.258 | Train Acc: 78.59% | Val. Loss: 1.393 | Val. Acc: 65.62% | Val. Precision: 67.760 | Val. Recall: 65.625 | Val. F1-score: 62.961 |\n"
     ]
    },
    {
     "data": {
      "application/vnd.jupyter.widget-view+json": {
       "model_id": "7514d394dae74e61a8b97359f09ba8b6",
       "version_major": 2,
       "version_minor": 0
      },
      "text/plain": [
       "  0%|          | 0/320 [00:00<?, ?it/s]"
      ]
     },
     "metadata": {},
     "output_type": "display_data"
    },
    {
     "name": "stdout",
     "output_type": "stream",
     "text": [
      "| Epoch: 220 | Train Loss: 1.271 | Train Acc: 77.11% | Val. Loss: 1.373 | Val. Acc: 67.50% | Val. Precision: 68.802 | Val. Recall: 67.500 | Val. F1-score: 64.607 |\n"
     ]
    },
    {
     "data": {
      "application/vnd.jupyter.widget-view+json": {
       "model_id": "1fd98045631c4481975c1b236d5c0ab4",
       "version_major": 2,
       "version_minor": 0
      },
      "text/plain": [
       "  0%|          | 0/320 [00:00<?, ?it/s]"
      ]
     },
     "metadata": {},
     "output_type": "display_data"
    },
    {
     "name": "stdout",
     "output_type": "stream",
     "text": [
      "| Epoch: 221 | Train Loss: 1.260 | Train Acc: 78.44% | Val. Loss: 1.375 | Val. Acc: 67.50% | Val. Precision: 68.698 | Val. Recall: 67.500 | Val. F1-score: 64.732 |\n"
     ]
    },
    {
     "data": {
      "application/vnd.jupyter.widget-view+json": {
       "model_id": "6df1062d706d4e7d877de29df341d4e4",
       "version_major": 2,
       "version_minor": 0
      },
      "text/plain": [
       "  0%|          | 0/320 [00:00<?, ?it/s]"
      ]
     },
     "metadata": {},
     "output_type": "display_data"
    },
    {
     "name": "stdout",
     "output_type": "stream",
     "text": [
      "| Epoch: 222 | Train Loss: 1.262 | Train Acc: 78.20% | Val. Loss: 1.380 | Val. Acc: 66.25% | Val. Precision: 68.073 | Val. Recall: 66.250 | Val. F1-score: 63.482 |\n"
     ]
    },
    {
     "data": {
      "application/vnd.jupyter.widget-view+json": {
       "model_id": "a5ee06b955c74dc1a09e86e70b47dec6",
       "version_major": 2,
       "version_minor": 0
      },
      "text/plain": [
       "  0%|          | 0/320 [00:00<?, ?it/s]"
      ]
     },
     "metadata": {},
     "output_type": "display_data"
    },
    {
     "name": "stdout",
     "output_type": "stream",
     "text": [
      "| Epoch: 223 | Train Loss: 1.263 | Train Acc: 77.89% | Val. Loss: 1.386 | Val. Acc: 65.62% | Val. Precision: 66.094 | Val. Recall: 65.625 | Val. F1-score: 62.649 |\n"
     ]
    },
    {
     "data": {
      "application/vnd.jupyter.widget-view+json": {
       "model_id": "d52f2ec3da4440228805aeb9299e08c7",
       "version_major": 2,
       "version_minor": 0
      },
      "text/plain": [
       "  0%|          | 0/320 [00:00<?, ?it/s]"
      ]
     },
     "metadata": {},
     "output_type": "display_data"
    },
    {
     "name": "stdout",
     "output_type": "stream",
     "text": [
      "| Epoch: 224 | Train Loss: 1.269 | Train Acc: 77.66% | Val. Loss: 1.388 | Val. Acc: 65.62% | Val. Precision: 67.344 | Val. Recall: 65.625 | Val. F1-score: 62.670 |\n"
     ]
    },
    {
     "data": {
      "application/vnd.jupyter.widget-view+json": {
       "model_id": "fd97bebc59d14a41ab7b2694c86adb67",
       "version_major": 2,
       "version_minor": 0
      },
      "text/plain": [
       "  0%|          | 0/320 [00:00<?, ?it/s]"
      ]
     },
     "metadata": {},
     "output_type": "display_data"
    },
    {
     "name": "stdout",
     "output_type": "stream",
     "text": [
      "| Epoch: 225 | Train Loss: 1.258 | Train Acc: 78.59% | Val. Loss: 1.406 | Val. Acc: 63.75% | Val. Precision: 65.260 | Val. Recall: 63.750 | Val. F1-score: 60.774 |\n"
     ]
    },
    {
     "data": {
      "application/vnd.jupyter.widget-view+json": {
       "model_id": "eeefb7dff9dc4371b875d33246a72be5",
       "version_major": 2,
       "version_minor": 0
      },
      "text/plain": [
       "  0%|          | 0/320 [00:00<?, ?it/s]"
      ]
     },
     "metadata": {},
     "output_type": "display_data"
    },
    {
     "name": "stdout",
     "output_type": "stream",
     "text": [
      "| Epoch: 226 | Train Loss: 1.261 | Train Acc: 78.44% | Val. Loss: 1.381 | Val. Acc: 66.25% | Val. Precision: 68.490 | Val. Recall: 66.250 | Val. F1-score: 63.774 |\n"
     ]
    },
    {
     "data": {
      "application/vnd.jupyter.widget-view+json": {
       "model_id": "a31e47ee571c442bb4447f9624d6cd47",
       "version_major": 2,
       "version_minor": 0
      },
      "text/plain": [
       "  0%|          | 0/320 [00:00<?, ?it/s]"
      ]
     },
     "metadata": {},
     "output_type": "display_data"
    },
    {
     "name": "stdout",
     "output_type": "stream",
     "text": [
      "| Epoch: 227 | Train Loss: 1.259 | Train Acc: 78.52% | Val. Loss: 1.391 | Val. Acc: 66.25% | Val. Precision: 66.458 | Val. Recall: 66.250 | Val. F1-score: 63.274 |\n"
     ]
    },
    {
     "data": {
      "application/vnd.jupyter.widget-view+json": {
       "model_id": "95bce7119286417ca7729d1cc99ff5d1",
       "version_major": 2,
       "version_minor": 0
      },
      "text/plain": [
       "  0%|          | 0/320 [00:00<?, ?it/s]"
      ]
     },
     "metadata": {},
     "output_type": "display_data"
    },
    {
     "name": "stdout",
     "output_type": "stream",
     "text": [
      "| Epoch: 228 | Train Loss: 1.261 | Train Acc: 78.12% | Val. Loss: 1.379 | Val. Acc: 66.88% | Val. Precision: 67.865 | Val. Recall: 66.875 | Val. F1-score: 63.774 |\n"
     ]
    },
    {
     "data": {
      "application/vnd.jupyter.widget-view+json": {
       "model_id": "db17407f5e3e4e0fa3e2e8dfd90c2ceb",
       "version_major": 2,
       "version_minor": 0
      },
      "text/plain": [
       "  0%|          | 0/320 [00:00<?, ?it/s]"
      ]
     },
     "metadata": {},
     "output_type": "display_data"
    },
    {
     "name": "stdout",
     "output_type": "stream",
     "text": [
      "| Epoch: 229 | Train Loss: 1.250 | Train Acc: 79.38% | Val. Loss: 1.380 | Val. Acc: 66.88% | Val. Precision: 67.656 | Val. Recall: 66.875 | Val. F1-score: 63.649 |\n"
     ]
    },
    {
     "data": {
      "application/vnd.jupyter.widget-view+json": {
       "model_id": "7cae38a60c4040ce90b11a1384f80c66",
       "version_major": 2,
       "version_minor": 0
      },
      "text/plain": [
       "  0%|          | 0/320 [00:00<?, ?it/s]"
      ]
     },
     "metadata": {},
     "output_type": "display_data"
    },
    {
     "name": "stdout",
     "output_type": "stream",
     "text": [
      "| Epoch: 230 | Train Loss: 1.249 | Train Acc: 79.45% | Val. Loss: 1.382 | Val. Acc: 66.25% | Val. Precision: 67.240 | Val. Recall: 66.250 | Val. F1-score: 63.149 |\n"
     ]
    },
    {
     "data": {
      "application/vnd.jupyter.widget-view+json": {
       "model_id": "f01a1ae8f5374b97b1653965a8a867bc",
       "version_major": 2,
       "version_minor": 0
      },
      "text/plain": [
       "  0%|          | 0/320 [00:00<?, ?it/s]"
      ]
     },
     "metadata": {},
     "output_type": "display_data"
    },
    {
     "name": "stdout",
     "output_type": "stream",
     "text": [
      "| Epoch: 231 | Train Loss: 1.257 | Train Acc: 78.67% | Val. Loss: 1.384 | Val. Acc: 66.25% | Val. Precision: 68.698 | Val. Recall: 66.250 | Val. F1-score: 63.732 |\n"
     ]
    },
    {
     "data": {
      "application/vnd.jupyter.widget-view+json": {
       "model_id": "d42e8aa6e3884fe498766c25b0120e49",
       "version_major": 2,
       "version_minor": 0
      },
      "text/plain": [
       "  0%|          | 0/320 [00:00<?, ?it/s]"
      ]
     },
     "metadata": {},
     "output_type": "display_data"
    },
    {
     "name": "stdout",
     "output_type": "stream",
     "text": [
      "| Epoch: 232 | Train Loss: 1.264 | Train Acc: 77.89% | Val. Loss: 1.394 | Val. Acc: 65.00% | Val. Precision: 67.031 | Val. Recall: 65.000 | Val. F1-score: 62.503 |\n"
     ]
    },
    {
     "data": {
      "application/vnd.jupyter.widget-view+json": {
       "model_id": "2f7024a17dc8482e89bf29189def0aa9",
       "version_major": 2,
       "version_minor": 0
      },
      "text/plain": [
       "  0%|          | 0/320 [00:00<?, ?it/s]"
      ]
     },
     "metadata": {},
     "output_type": "display_data"
    },
    {
     "name": "stdout",
     "output_type": "stream",
     "text": [
      "| Epoch: 233 | Train Loss: 1.272 | Train Acc: 77.19% | Val. Loss: 1.370 | Val. Acc: 66.25% | Val. Precision: 67.760 | Val. Recall: 66.250 | Val. F1-score: 63.295 |\n"
     ]
    },
    {
     "data": {
      "application/vnd.jupyter.widget-view+json": {
       "model_id": "6d7dcebb173745adb31e763288d90e38",
       "version_major": 2,
       "version_minor": 0
      },
      "text/plain": [
       "  0%|          | 0/320 [00:00<?, ?it/s]"
      ]
     },
     "metadata": {},
     "output_type": "display_data"
    },
    {
     "name": "stdout",
     "output_type": "stream",
     "text": [
      "| Epoch: 234 | Train Loss: 1.254 | Train Acc: 79.14% | Val. Loss: 1.364 | Val. Acc: 68.12% | Val. Precision: 69.323 | Val. Recall: 68.125 | Val. F1-score: 65.440 |\n"
     ]
    },
    {
     "data": {
      "application/vnd.jupyter.widget-view+json": {
       "model_id": "64cc7e8209074529955d7eed82dbef73",
       "version_major": 2,
       "version_minor": 0
      },
      "text/plain": [
       "  0%|          | 0/320 [00:00<?, ?it/s]"
      ]
     },
     "metadata": {},
     "output_type": "display_data"
    },
    {
     "name": "stdout",
     "output_type": "stream",
     "text": [
      "| Epoch: 235 | Train Loss: 1.249 | Train Acc: 79.53% | Val. Loss: 1.384 | Val. Acc: 66.25% | Val. Precision: 67.760 | Val. Recall: 66.250 | Val. F1-score: 63.857 |\n"
     ]
    },
    {
     "data": {
      "application/vnd.jupyter.widget-view+json": {
       "model_id": "02fd3df3043a49daab72b08baa45f060",
       "version_major": 2,
       "version_minor": 0
      },
      "text/plain": [
       "  0%|          | 0/320 [00:00<?, ?it/s]"
      ]
     },
     "metadata": {},
     "output_type": "display_data"
    },
    {
     "name": "stdout",
     "output_type": "stream",
     "text": [
      "| Epoch: 236 | Train Loss: 1.245 | Train Acc: 79.92% | Val. Loss: 1.376 | Val. Acc: 66.88% | Val. Precision: 67.760 | Val. Recall: 66.875 | Val. F1-score: 63.815 |\n"
     ]
    },
    {
     "data": {
      "application/vnd.jupyter.widget-view+json": {
       "model_id": "2ae8ed3911274a8f87481c54cb8872af",
       "version_major": 2,
       "version_minor": 0
      },
      "text/plain": [
       "  0%|          | 0/320 [00:00<?, ?it/s]"
      ]
     },
     "metadata": {},
     "output_type": "display_data"
    },
    {
     "name": "stdout",
     "output_type": "stream",
     "text": [
      "| Epoch: 237 | Train Loss: 1.243 | Train Acc: 80.08% | Val. Loss: 1.373 | Val. Acc: 67.50% | Val. Precision: 68.594 | Val. Recall: 67.500 | Val. F1-score: 64.545 |\n"
     ]
    },
    {
     "data": {
      "application/vnd.jupyter.widget-view+json": {
       "model_id": "a78a6fc2f477434c857d369855bf8ceb",
       "version_major": 2,
       "version_minor": 0
      },
      "text/plain": [
       "  0%|          | 0/320 [00:00<?, ?it/s]"
      ]
     },
     "metadata": {},
     "output_type": "display_data"
    },
    {
     "name": "stdout",
     "output_type": "stream",
     "text": [
      "| Epoch: 238 | Train Loss: 1.242 | Train Acc: 80.16% | Val. Loss: 1.377 | Val. Acc: 66.25% | Val. Precision: 67.240 | Val. Recall: 66.250 | Val. F1-score: 63.211 |\n"
     ]
    },
    {
     "data": {
      "application/vnd.jupyter.widget-view+json": {
       "model_id": "8342c125183a4864985af55809776960",
       "version_major": 2,
       "version_minor": 0
      },
      "text/plain": [
       "  0%|          | 0/320 [00:00<?, ?it/s]"
      ]
     },
     "metadata": {},
     "output_type": "display_data"
    },
    {
     "name": "stdout",
     "output_type": "stream",
     "text": [
      "| Epoch: 239 | Train Loss: 1.242 | Train Acc: 80.16% | Val. Loss: 1.373 | Val. Acc: 66.88% | Val. Precision: 68.698 | Val. Recall: 66.875 | Val. F1-score: 64.170 |\n"
     ]
    },
    {
     "data": {
      "application/vnd.jupyter.widget-view+json": {
       "model_id": "8ba3202eb13b4bbc98119cd85d13cfc2",
       "version_major": 2,
       "version_minor": 0
      },
      "text/plain": [
       "  0%|          | 0/320 [00:00<?, ?it/s]"
      ]
     },
     "metadata": {},
     "output_type": "display_data"
    },
    {
     "name": "stdout",
     "output_type": "stream",
     "text": [
      "| Epoch: 240 | Train Loss: 1.242 | Train Acc: 80.16% | Val. Loss: 1.380 | Val. Acc: 66.25% | Val. Precision: 67.240 | Val. Recall: 66.250 | Val. F1-score: 63.211 |\n"
     ]
    },
    {
     "data": {
      "application/vnd.jupyter.widget-view+json": {
       "model_id": "dfae12633b424af79ff45703f7b90d8a",
       "version_major": 2,
       "version_minor": 0
      },
      "text/plain": [
       "  0%|          | 0/320 [00:00<?, ?it/s]"
      ]
     },
     "metadata": {},
     "output_type": "display_data"
    },
    {
     "name": "stdout",
     "output_type": "stream",
     "text": [
      "| Epoch: 241 | Train Loss: 1.249 | Train Acc: 79.45% | Val. Loss: 1.381 | Val. Acc: 66.25% | Val. Precision: 68.281 | Val. Recall: 66.250 | Val. F1-score: 63.729 |\n"
     ]
    },
    {
     "data": {
      "application/vnd.jupyter.widget-view+json": {
       "model_id": "62cd8b6aaa20490793d2050c28ce60fa",
       "version_major": 2,
       "version_minor": 0
      },
      "text/plain": [
       "  0%|          | 0/320 [00:00<?, ?it/s]"
      ]
     },
     "metadata": {},
     "output_type": "display_data"
    },
    {
     "name": "stdout",
     "output_type": "stream",
     "text": [
      "| Epoch: 242 | Train Loss: 1.256 | Train Acc: 78.67% | Val. Loss: 1.377 | Val. Acc: 67.50% | Val. Precision: 67.448 | Val. Recall: 67.500 | Val. F1-score: 63.982 |\n"
     ]
    },
    {
     "data": {
      "application/vnd.jupyter.widget-view+json": {
       "model_id": "2538c300f3be4ed8a00d80617b0dff6b",
       "version_major": 2,
       "version_minor": 0
      },
      "text/plain": [
       "  0%|          | 0/320 [00:00<?, ?it/s]"
      ]
     },
     "metadata": {},
     "output_type": "display_data"
    },
    {
     "name": "stdout",
     "output_type": "stream",
     "text": [
      "| Epoch: 243 | Train Loss: 1.272 | Train Acc: 77.11% | Val. Loss: 1.388 | Val. Acc: 65.62% | Val. Precision: 68.906 | Val. Recall: 65.625 | Val. F1-score: 63.586 |\n"
     ]
    },
    {
     "data": {
      "application/vnd.jupyter.widget-view+json": {
       "model_id": "c459c4d62655424bafd9c7812e988039",
       "version_major": 2,
       "version_minor": 0
      },
      "text/plain": [
       "  0%|          | 0/320 [00:00<?, ?it/s]"
      ]
     },
     "metadata": {},
     "output_type": "display_data"
    },
    {
     "name": "stdout",
     "output_type": "stream",
     "text": [
      "| Epoch: 244 | Train Loss: 1.255 | Train Acc: 78.83% | Val. Loss: 1.388 | Val. Acc: 65.00% | Val. Precision: 66.615 | Val. Recall: 65.000 | Val. F1-score: 62.420 |\n"
     ]
    },
    {
     "data": {
      "application/vnd.jupyter.widget-view+json": {
       "model_id": "537c896490274e48899baa6f355ec4e3",
       "version_major": 2,
       "version_minor": 0
      },
      "text/plain": [
       "  0%|          | 0/320 [00:00<?, ?it/s]"
      ]
     },
     "metadata": {},
     "output_type": "display_data"
    },
    {
     "name": "stdout",
     "output_type": "stream",
     "text": [
      "| Epoch: 245 | Train Loss: 1.256 | Train Acc: 78.75% | Val. Loss: 1.388 | Val. Acc: 65.62% | Val. Precision: 67.240 | Val. Recall: 65.625 | Val. F1-score: 62.690 |\n"
     ]
    },
    {
     "data": {
      "application/vnd.jupyter.widget-view+json": {
       "model_id": "f606738ed0db435282448f317ce52985",
       "version_major": 2,
       "version_minor": 0
      },
      "text/plain": [
       "  0%|          | 0/320 [00:00<?, ?it/s]"
      ]
     },
     "metadata": {},
     "output_type": "display_data"
    },
    {
     "name": "stdout",
     "output_type": "stream",
     "text": [
      "| Epoch: 246 | Train Loss: 1.246 | Train Acc: 79.84% | Val. Loss: 1.384 | Val. Acc: 65.62% | Val. Precision: 66.927 | Val. Recall: 65.625 | Val. F1-score: 62.440 |\n"
     ]
    },
    {
     "data": {
      "application/vnd.jupyter.widget-view+json": {
       "model_id": "8600e41b8fe8452f9f0d51fe28f68fb6",
       "version_major": 2,
       "version_minor": 0
      },
      "text/plain": [
       "  0%|          | 0/320 [00:00<?, ?it/s]"
      ]
     },
     "metadata": {},
     "output_type": "display_data"
    },
    {
     "name": "stdout",
     "output_type": "stream",
     "text": [
      "| Epoch: 247 | Train Loss: 1.247 | Train Acc: 79.69% | Val. Loss: 1.378 | Val. Acc: 66.25% | Val. Precision: 67.396 | Val. Recall: 66.250 | Val. F1-score: 63.170 |\n"
     ]
    },
    {
     "data": {
      "application/vnd.jupyter.widget-view+json": {
       "model_id": "cb0a32e9f32b4f4daa8f5b6730a308e0",
       "version_major": 2,
       "version_minor": 0
      },
      "text/plain": [
       "  0%|          | 0/320 [00:00<?, ?it/s]"
      ]
     },
     "metadata": {},
     "output_type": "display_data"
    },
    {
     "name": "stdout",
     "output_type": "stream",
     "text": [
      "| Epoch: 248 | Train Loss: 1.255 | Train Acc: 78.91% | Val. Loss: 1.387 | Val. Acc: 65.00% | Val. Precision: 66.615 | Val. Recall: 65.000 | Val. F1-score: 62.045 |\n"
     ]
    },
    {
     "data": {
      "application/vnd.jupyter.widget-view+json": {
       "model_id": "537873db09334b80b15fda0a0760bfc9",
       "version_major": 2,
       "version_minor": 0
      },
      "text/plain": [
       "  0%|          | 0/320 [00:00<?, ?it/s]"
      ]
     },
     "metadata": {},
     "output_type": "display_data"
    },
    {
     "name": "stdout",
     "output_type": "stream",
     "text": [
      "| Epoch: 249 | Train Loss: 1.251 | Train Acc: 79.22% | Val. Loss: 1.376 | Val. Acc: 66.88% | Val. Precision: 67.865 | Val. Recall: 66.875 | Val. F1-score: 63.982 |\n"
     ]
    },
    {
     "data": {
      "application/vnd.jupyter.widget-view+json": {
       "model_id": "b0e9448b1c4445f086666374c69e1054",
       "version_major": 2,
       "version_minor": 0
      },
      "text/plain": [
       "  0%|          | 0/320 [00:00<?, ?it/s]"
      ]
     },
     "metadata": {},
     "output_type": "display_data"
    },
    {
     "name": "stdout",
     "output_type": "stream",
     "text": [
      "| Epoch: 250 | Train Loss: 1.246 | Train Acc: 79.69% | Val. Loss: 1.390 | Val. Acc: 65.00% | Val. Precision: 67.135 | Val. Recall: 65.000 | Val. F1-score: 62.086 |\n"
     ]
    },
    {
     "data": {
      "application/vnd.jupyter.widget-view+json": {
       "model_id": "6c87f240deb342b69ac2b12a777ab369",
       "version_major": 2,
       "version_minor": 0
      },
      "text/plain": [
       "  0%|          | 0/320 [00:00<?, ?it/s]"
      ]
     },
     "metadata": {},
     "output_type": "display_data"
    },
    {
     "name": "stdout",
     "output_type": "stream",
     "text": [
      "| Epoch: 251 | Train Loss: 1.243 | Train Acc: 80.08% | Val. Loss: 1.389 | Val. Acc: 65.00% | Val. Precision: 67.135 | Val. Recall: 65.000 | Val. F1-score: 62.149 |\n"
     ]
    },
    {
     "data": {
      "application/vnd.jupyter.widget-view+json": {
       "model_id": "551e4b572ecf4eadbeb334b9ee82320a",
       "version_major": 2,
       "version_minor": 0
      },
      "text/plain": [
       "  0%|          | 0/320 [00:00<?, ?it/s]"
      ]
     },
     "metadata": {},
     "output_type": "display_data"
    },
    {
     "name": "stdout",
     "output_type": "stream",
     "text": [
      "| Epoch: 252 | Train Loss: 1.248 | Train Acc: 79.45% | Val. Loss: 1.372 | Val. Acc: 68.12% | Val. Precision: 67.760 | Val. Recall: 68.125 | Val. F1-score: 64.565 |\n"
     ]
    },
    {
     "data": {
      "application/vnd.jupyter.widget-view+json": {
       "model_id": "62a07edb654347379cdee1b9c24e5b04",
       "version_major": 2,
       "version_minor": 0
      },
      "text/plain": [
       "  0%|          | 0/320 [00:00<?, ?it/s]"
      ]
     },
     "metadata": {},
     "output_type": "display_data"
    },
    {
     "name": "stdout",
     "output_type": "stream",
     "text": [
      "| Epoch: 253 | Train Loss: 1.249 | Train Acc: 79.38% | Val. Loss: 1.386 | Val. Acc: 65.00% | Val. Precision: 65.104 | Val. Recall: 65.000 | Val. F1-score: 61.628 |\n"
     ]
    },
    {
     "data": {
      "application/vnd.jupyter.widget-view+json": {
       "model_id": "43bd043ab11b42c18478deddf8dd7b15",
       "version_major": 2,
       "version_minor": 0
      },
      "text/plain": [
       "  0%|          | 0/320 [00:00<?, ?it/s]"
      ]
     },
     "metadata": {},
     "output_type": "display_data"
    },
    {
     "name": "stdout",
     "output_type": "stream",
     "text": [
      "| Epoch: 254 | Train Loss: 1.253 | Train Acc: 79.06% | Val. Loss: 1.418 | Val. Acc: 62.50% | Val. Precision: 63.906 | Val. Recall: 62.500 | Val. F1-score: 59.420 |\n"
     ]
    },
    {
     "data": {
      "application/vnd.jupyter.widget-view+json": {
       "model_id": "a3c9c145e6124a5f88e324c351b05f5c",
       "version_major": 2,
       "version_minor": 0
      },
      "text/plain": [
       "  0%|          | 0/320 [00:00<?, ?it/s]"
      ]
     },
     "metadata": {},
     "output_type": "display_data"
    },
    {
     "name": "stdout",
     "output_type": "stream",
     "text": [
      "| Epoch: 255 | Train Loss: 1.274 | Train Acc: 77.27% | Val. Loss: 1.411 | Val. Acc: 62.50% | Val. Precision: 65.885 | Val. Recall: 62.500 | Val. F1-score: 59.920 |\n"
     ]
    },
    {
     "data": {
      "application/vnd.jupyter.widget-view+json": {
       "model_id": "3dda79a2ff3b434696be13dd7521911b",
       "version_major": 2,
       "version_minor": 0
      },
      "text/plain": [
       "  0%|          | 0/320 [00:00<?, ?it/s]"
      ]
     },
     "metadata": {},
     "output_type": "display_data"
    },
    {
     "name": "stdout",
     "output_type": "stream",
     "text": [
      "| Epoch: 256 | Train Loss: 1.250 | Train Acc: 79.45% | Val. Loss: 1.390 | Val. Acc: 65.00% | Val. Precision: 67.135 | Val. Recall: 65.000 | Val. F1-score: 62.274 |\n"
     ]
    },
    {
     "data": {
      "application/vnd.jupyter.widget-view+json": {
       "model_id": "46bc99e2adc547ed8ffcde8c31557f8b",
       "version_major": 2,
       "version_minor": 0
      },
      "text/plain": [
       "  0%|          | 0/320 [00:00<?, ?it/s]"
      ]
     },
     "metadata": {},
     "output_type": "display_data"
    },
    {
     "name": "stdout",
     "output_type": "stream",
     "text": [
      "| Epoch: 257 | Train Loss: 1.244 | Train Acc: 80.00% | Val. Loss: 1.413 | Val. Acc: 63.12% | Val. Precision: 63.646 | Val. Recall: 63.125 | Val. F1-score: 60.024 |\n"
     ]
    },
    {
     "data": {
      "application/vnd.jupyter.widget-view+json": {
       "model_id": "a8be01692a694e26a2ce0a092917a2e5",
       "version_major": 2,
       "version_minor": 0
      },
      "text/plain": [
       "  0%|          | 0/320 [00:00<?, ?it/s]"
      ]
     },
     "metadata": {},
     "output_type": "display_data"
    },
    {
     "name": "stdout",
     "output_type": "stream",
     "text": [
      "| Epoch: 258 | Train Loss: 1.256 | Train Acc: 78.75% | Val. Loss: 1.388 | Val. Acc: 65.62% | Val. Precision: 66.823 | Val. Recall: 65.625 | Val. F1-score: 62.732 |\n"
     ]
    },
    {
     "data": {
      "application/vnd.jupyter.widget-view+json": {
       "model_id": "45bafb8b42f54329957ae92b01f98395",
       "version_major": 2,
       "version_minor": 0
      },
      "text/plain": [
       "  0%|          | 0/320 [00:00<?, ?it/s]"
      ]
     },
     "metadata": {},
     "output_type": "display_data"
    },
    {
     "name": "stdout",
     "output_type": "stream",
     "text": [
      "| Epoch: 259 | Train Loss: 1.242 | Train Acc: 80.16% | Val. Loss: 1.393 | Val. Acc: 65.00% | Val. Precision: 66.406 | Val. Recall: 65.000 | Val. F1-score: 62.211 |\n"
     ]
    },
    {
     "data": {
      "application/vnd.jupyter.widget-view+json": {
       "model_id": "33e43c4facde4a5194b49422320e8a61",
       "version_major": 2,
       "version_minor": 0
      },
      "text/plain": [
       "  0%|          | 0/320 [00:00<?, ?it/s]"
      ]
     },
     "metadata": {},
     "output_type": "display_data"
    },
    {
     "name": "stdout",
     "output_type": "stream",
     "text": [
      "| Epoch: 260 | Train Loss: 1.240 | Train Acc: 80.39% | Val. Loss: 1.388 | Val. Acc: 65.62% | Val. Precision: 67.344 | Val. Recall: 65.625 | Val. F1-score: 63.045 |\n"
     ]
    },
    {
     "data": {
      "application/vnd.jupyter.widget-view+json": {
       "model_id": "1b0dc327f0c2446b891e7b1391bf9f17",
       "version_major": 2,
       "version_minor": 0
      },
      "text/plain": [
       "  0%|          | 0/320 [00:00<?, ?it/s]"
      ]
     },
     "metadata": {},
     "output_type": "display_data"
    },
    {
     "name": "stdout",
     "output_type": "stream",
     "text": [
      "| Epoch: 261 | Train Loss: 1.239 | Train Acc: 80.47% | Val. Loss: 1.385 | Val. Acc: 65.62% | Val. Precision: 67.344 | Val. Recall: 65.625 | Val. F1-score: 63.045 |\n"
     ]
    },
    {
     "data": {
      "application/vnd.jupyter.widget-view+json": {
       "model_id": "c5f64ea5d59140118d6ddfeae1cdaa15",
       "version_major": 2,
       "version_minor": 0
      },
      "text/plain": [
       "  0%|          | 0/320 [00:00<?, ?it/s]"
      ]
     },
     "metadata": {},
     "output_type": "display_data"
    },
    {
     "name": "stdout",
     "output_type": "stream",
     "text": [
      "| Epoch: 262 | Train Loss: 1.239 | Train Acc: 80.39% | Val. Loss: 1.396 | Val. Acc: 63.75% | Val. Precision: 62.604 | Val. Recall: 63.750 | Val. F1-score: 60.485 |\n"
     ]
    },
    {
     "data": {
      "application/vnd.jupyter.widget-view+json": {
       "model_id": "200eebb7e4f94a79be64093dcf0b978a",
       "version_major": 2,
       "version_minor": 0
      },
      "text/plain": [
       "  0%|          | 0/320 [00:00<?, ?it/s]"
      ]
     },
     "metadata": {},
     "output_type": "display_data"
    },
    {
     "name": "stdout",
     "output_type": "stream",
     "text": [
      "| Epoch: 263 | Train Loss: 1.247 | Train Acc: 79.69% | Val. Loss: 1.393 | Val. Acc: 65.00% | Val. Precision: 64.323 | Val. Recall: 65.000 | Val. F1-score: 61.295 |\n"
     ]
    },
    {
     "data": {
      "application/vnd.jupyter.widget-view+json": {
       "model_id": "e262beb4b278460a99b98af0a44c0c98",
       "version_major": 2,
       "version_minor": 0
      },
      "text/plain": [
       "  0%|          | 0/320 [00:00<?, ?it/s]"
      ]
     },
     "metadata": {},
     "output_type": "display_data"
    },
    {
     "name": "stdout",
     "output_type": "stream",
     "text": [
      "| Epoch: 264 | Train Loss: 1.249 | Train Acc: 79.38% | Val. Loss: 1.395 | Val. Acc: 65.00% | Val. Precision: 68.385 | Val. Recall: 65.000 | Val. F1-score: 62.753 |\n"
     ]
    },
    {
     "data": {
      "application/vnd.jupyter.widget-view+json": {
       "model_id": "06957c9bef8747ba9b5bd0752a8dd28a",
       "version_major": 2,
       "version_minor": 0
      },
      "text/plain": [
       "  0%|          | 0/320 [00:00<?, ?it/s]"
      ]
     },
     "metadata": {},
     "output_type": "display_data"
    },
    {
     "name": "stdout",
     "output_type": "stream",
     "text": [
      "| Epoch: 265 | Train Loss: 1.248 | Train Acc: 79.61% | Val. Loss: 1.409 | Val. Acc: 63.75% | Val. Precision: 65.573 | Val. Recall: 63.750 | Val. F1-score: 60.940 |\n"
     ]
    },
    {
     "data": {
      "application/vnd.jupyter.widget-view+json": {
       "model_id": "63535ac249b94462b629a0518b056fd8",
       "version_major": 2,
       "version_minor": 0
      },
      "text/plain": [
       "  0%|          | 0/320 [00:00<?, ?it/s]"
      ]
     },
     "metadata": {},
     "output_type": "display_data"
    },
    {
     "name": "stdout",
     "output_type": "stream",
     "text": [
      "| Epoch: 266 | Train Loss: 1.253 | Train Acc: 79.30% | Val. Loss: 1.396 | Val. Acc: 64.38% | Val. Precision: 66.510 | Val. Recall: 64.375 | Val. F1-score: 61.833 |\n"
     ]
    },
    {
     "data": {
      "application/vnd.jupyter.widget-view+json": {
       "model_id": "c90dd8c7178449238770b8837fc20c81",
       "version_major": 2,
       "version_minor": 0
      },
      "text/plain": [
       "  0%|          | 0/320 [00:00<?, ?it/s]"
      ]
     },
     "metadata": {},
     "output_type": "display_data"
    },
    {
     "name": "stdout",
     "output_type": "stream",
     "text": [
      "| Epoch: 267 | Train Loss: 1.242 | Train Acc: 80.16% | Val. Loss: 1.387 | Val. Acc: 66.25% | Val. Precision: 68.594 | Val. Recall: 66.250 | Val. F1-score: 63.503 |\n"
     ]
    },
    {
     "data": {
      "application/vnd.jupyter.widget-view+json": {
       "model_id": "7e33729540a64bfc869fdaa5ed2a3810",
       "version_major": 2,
       "version_minor": 0
      },
      "text/plain": [
       "  0%|          | 0/320 [00:00<?, ?it/s]"
      ]
     },
     "metadata": {},
     "output_type": "display_data"
    },
    {
     "name": "stdout",
     "output_type": "stream",
     "text": [
      "| Epoch: 268 | Train Loss: 1.237 | Train Acc: 80.78% | Val. Loss: 1.381 | Val. Acc: 65.62% | Val. Precision: 67.448 | Val. Recall: 65.625 | Val. F1-score: 62.795 |\n"
     ]
    },
    {
     "data": {
      "application/vnd.jupyter.widget-view+json": {
       "model_id": "7c7d3fa51f4c4bbeb5b93d23694315a8",
       "version_major": 2,
       "version_minor": 0
      },
      "text/plain": [
       "  0%|          | 0/320 [00:00<?, ?it/s]"
      ]
     },
     "metadata": {},
     "output_type": "display_data"
    },
    {
     "name": "stdout",
     "output_type": "stream",
     "text": [
      "| Epoch: 269 | Train Loss: 1.233 | Train Acc: 81.09% | Val. Loss: 1.383 | Val. Acc: 65.00% | Val. Precision: 66.615 | Val. Recall: 65.000 | Val. F1-score: 62.045 |\n"
     ]
    },
    {
     "data": {
      "application/vnd.jupyter.widget-view+json": {
       "model_id": "a77f2a25c9e2459e9fb6bf8331f2f8fd",
       "version_major": 2,
       "version_minor": 0
      },
      "text/plain": [
       "  0%|          | 0/320 [00:00<?, ?it/s]"
      ]
     },
     "metadata": {},
     "output_type": "display_data"
    },
    {
     "name": "stdout",
     "output_type": "stream",
     "text": [
      "| Epoch: 270 | Train Loss: 1.232 | Train Acc: 81.09% | Val. Loss: 1.379 | Val. Acc: 65.62% | Val. Precision: 68.073 | Val. Recall: 65.625 | Val. F1-score: 63.003 |\n"
     ]
    },
    {
     "data": {
      "application/vnd.jupyter.widget-view+json": {
       "model_id": "6d74d499ab654bf3a510c34979c2ac63",
       "version_major": 2,
       "version_minor": 0
      },
      "text/plain": [
       "  0%|          | 0/320 [00:00<?, ?it/s]"
      ]
     },
     "metadata": {},
     "output_type": "display_data"
    },
    {
     "name": "stdout",
     "output_type": "stream",
     "text": [
      "| Epoch: 271 | Train Loss: 1.232 | Train Acc: 81.09% | Val. Loss: 1.390 | Val. Acc: 64.38% | Val. Precision: 66.406 | Val. Recall: 64.375 | Val. F1-score: 61.378 |\n"
     ]
    },
    {
     "data": {
      "application/vnd.jupyter.widget-view+json": {
       "model_id": "24eaac3394ae4436bd7a12c526b624ae",
       "version_major": 2,
       "version_minor": 0
      },
      "text/plain": [
       "  0%|          | 0/320 [00:00<?, ?it/s]"
      ]
     },
     "metadata": {},
     "output_type": "display_data"
    },
    {
     "name": "stdout",
     "output_type": "stream",
     "text": [
      "| Epoch: 272 | Train Loss: 1.232 | Train Acc: 81.17% | Val. Loss: 1.390 | Val. Acc: 65.00% | Val. Precision: 66.510 | Val. Recall: 65.000 | Val. F1-score: 62.045 |\n"
     ]
    },
    {
     "data": {
      "application/vnd.jupyter.widget-view+json": {
       "model_id": "2ab10acf5d304477b791e01d29101435",
       "version_major": 2,
       "version_minor": 0
      },
      "text/plain": [
       "  0%|          | 0/320 [00:00<?, ?it/s]"
      ]
     },
     "metadata": {},
     "output_type": "display_data"
    },
    {
     "name": "stdout",
     "output_type": "stream",
     "text": [
      "| Epoch: 273 | Train Loss: 1.233 | Train Acc: 81.17% | Val. Loss: 1.381 | Val. Acc: 66.25% | Val. Precision: 67.240 | Val. Recall: 66.250 | Val. F1-score: 63.107 |\n"
     ]
    },
    {
     "data": {
      "application/vnd.jupyter.widget-view+json": {
       "model_id": "1d835db3b0e94860a9849be2d667a039",
       "version_major": 2,
       "version_minor": 0
      },
      "text/plain": [
       "  0%|          | 0/320 [00:00<?, ?it/s]"
      ]
     },
     "metadata": {},
     "output_type": "display_data"
    },
    {
     "name": "stdout",
     "output_type": "stream",
     "text": [
      "| Epoch: 274 | Train Loss: 1.248 | Train Acc: 79.69% | Val. Loss: 1.381 | Val. Acc: 66.25% | Val. Precision: 67.865 | Val. Recall: 66.250 | Val. F1-score: 63.940 |\n"
     ]
    },
    {
     "data": {
      "application/vnd.jupyter.widget-view+json": {
       "model_id": "ffd8363ab90246809d19d2ad0e8dacea",
       "version_major": 2,
       "version_minor": 0
      },
      "text/plain": [
       "  0%|          | 0/320 [00:00<?, ?it/s]"
      ]
     },
     "metadata": {},
     "output_type": "display_data"
    },
    {
     "name": "stdout",
     "output_type": "stream",
     "text": [
      "| Epoch: 275 | Train Loss: 1.244 | Train Acc: 80.08% | Val. Loss: 1.381 | Val. Acc: 66.88% | Val. Precision: 67.656 | Val. Recall: 66.875 | Val. F1-score: 64.357 |\n"
     ]
    },
    {
     "data": {
      "application/vnd.jupyter.widget-view+json": {
       "model_id": "3eeddcd66ac84a079f606ead41707a81",
       "version_major": 2,
       "version_minor": 0
      },
      "text/plain": [
       "  0%|          | 0/320 [00:00<?, ?it/s]"
      ]
     },
     "metadata": {},
     "output_type": "display_data"
    },
    {
     "name": "stdout",
     "output_type": "stream",
     "text": [
      "| Epoch: 276 | Train Loss: 1.253 | Train Acc: 79.30% | Val. Loss: 1.388 | Val. Acc: 66.25% | Val. Precision: 67.448 | Val. Recall: 66.250 | Val. F1-score: 63.565 |\n"
     ]
    },
    {
     "data": {
      "application/vnd.jupyter.widget-view+json": {
       "model_id": "b30c49a08e0f476781ee6d6c52f9e252",
       "version_major": 2,
       "version_minor": 0
      },
      "text/plain": [
       "  0%|          | 0/320 [00:00<?, ?it/s]"
      ]
     },
     "metadata": {},
     "output_type": "display_data"
    },
    {
     "name": "stdout",
     "output_type": "stream",
     "text": [
      "| Epoch: 277 | Train Loss: 1.243 | Train Acc: 80.16% | Val. Loss: 1.381 | Val. Acc: 66.88% | Val. Precision: 68.802 | Val. Recall: 66.875 | Val. F1-score: 64.440 |\n"
     ]
    },
    {
     "data": {
      "application/vnd.jupyter.widget-view+json": {
       "model_id": "f11f65b10d9a4afda26fe1f06487c06d",
       "version_major": 2,
       "version_minor": 0
      },
      "text/plain": [
       "  0%|          | 0/320 [00:00<?, ?it/s]"
      ]
     },
     "metadata": {},
     "output_type": "display_data"
    },
    {
     "name": "stdout",
     "output_type": "stream",
     "text": [
      "| Epoch: 278 | Train Loss: 1.242 | Train Acc: 80.23% | Val. Loss: 1.378 | Val. Acc: 65.62% | Val. Precision: 67.865 | Val. Recall: 65.625 | Val. F1-score: 62.878 |\n"
     ]
    },
    {
     "data": {
      "application/vnd.jupyter.widget-view+json": {
       "model_id": "7e5d22a516534c4799f4b3e29118ca6f",
       "version_major": 2,
       "version_minor": 0
      },
      "text/plain": [
       "  0%|          | 0/320 [00:00<?, ?it/s]"
      ]
     },
     "metadata": {},
     "output_type": "display_data"
    },
    {
     "name": "stdout",
     "output_type": "stream",
     "text": [
      "| Epoch: 279 | Train Loss: 1.236 | Train Acc: 80.78% | Val. Loss: 1.406 | Val. Acc: 63.12% | Val. Precision: 66.354 | Val. Recall: 63.125 | Val. F1-score: 60.750 |\n"
     ]
    },
    {
     "data": {
      "application/vnd.jupyter.widget-view+json": {
       "model_id": "3beac47a8d864d798368885d560b5640",
       "version_major": 2,
       "version_minor": 0
      },
      "text/plain": [
       "  0%|          | 0/320 [00:00<?, ?it/s]"
      ]
     },
     "metadata": {},
     "output_type": "display_data"
    },
    {
     "name": "stdout",
     "output_type": "stream",
     "text": [
      "| Epoch: 280 | Train Loss: 1.240 | Train Acc: 80.39% | Val. Loss: 1.395 | Val. Acc: 65.00% | Val. Precision: 66.771 | Val. Recall: 65.000 | Val. F1-score: 61.982 |\n"
     ]
    },
    {
     "data": {
      "application/vnd.jupyter.widget-view+json": {
       "model_id": "4be5d39dfeda40f5a3d879b9bceebc47",
       "version_major": 2,
       "version_minor": 0
      },
      "text/plain": [
       "  0%|          | 0/320 [00:00<?, ?it/s]"
      ]
     },
     "metadata": {},
     "output_type": "display_data"
    },
    {
     "name": "stdout",
     "output_type": "stream",
     "text": [
      "| Epoch: 281 | Train Loss: 1.240 | Train Acc: 80.31% | Val. Loss: 1.409 | Val. Acc: 63.12% | Val. Precision: 66.042 | Val. Recall: 63.125 | Val. F1-score: 60.420 |\n"
     ]
    },
    {
     "data": {
      "application/vnd.jupyter.widget-view+json": {
       "model_id": "d039948480c841f786c635bbd18e7224",
       "version_major": 2,
       "version_minor": 0
      },
      "text/plain": [
       "  0%|          | 0/320 [00:00<?, ?it/s]"
      ]
     },
     "metadata": {},
     "output_type": "display_data"
    },
    {
     "name": "stdout",
     "output_type": "stream",
     "text": [
      "| Epoch: 282 | Train Loss: 1.234 | Train Acc: 80.94% | Val. Loss: 1.380 | Val. Acc: 65.62% | Val. Precision: 68.177 | Val. Recall: 65.625 | Val. F1-score: 63.253 |\n"
     ]
    },
    {
     "data": {
      "application/vnd.jupyter.widget-view+json": {
       "model_id": "37142a0cbeca4ea993d31682ce956512",
       "version_major": 2,
       "version_minor": 0
      },
      "text/plain": [
       "  0%|          | 0/320 [00:00<?, ?it/s]"
      ]
     },
     "metadata": {},
     "output_type": "display_data"
    },
    {
     "name": "stdout",
     "output_type": "stream",
     "text": [
      "| Epoch: 283 | Train Loss: 1.234 | Train Acc: 80.94% | Val. Loss: 1.387 | Val. Acc: 65.00% | Val. Precision: 68.073 | Val. Recall: 65.000 | Val. F1-score: 62.565 |\n"
     ]
    },
    {
     "data": {
      "application/vnd.jupyter.widget-view+json": {
       "model_id": "fa784a6c7eed4f80822cb45b44c47d11",
       "version_major": 2,
       "version_minor": 0
      },
      "text/plain": [
       "  0%|          | 0/320 [00:00<?, ?it/s]"
      ]
     },
     "metadata": {},
     "output_type": "display_data"
    },
    {
     "name": "stdout",
     "output_type": "stream",
     "text": [
      "| Epoch: 284 | Train Loss: 1.235 | Train Acc: 80.86% | Val. Loss: 1.371 | Val. Acc: 66.25% | Val. Precision: 67.448 | Val. Recall: 66.250 | Val. F1-score: 63.628 |\n"
     ]
    },
    {
     "data": {
      "application/vnd.jupyter.widget-view+json": {
       "model_id": "8d1004830bba4eac8bc412471d67a308",
       "version_major": 2,
       "version_minor": 0
      },
      "text/plain": [
       "  0%|          | 0/320 [00:00<?, ?it/s]"
      ]
     },
     "metadata": {},
     "output_type": "display_data"
    },
    {
     "name": "stdout",
     "output_type": "stream",
     "text": [
      "| Epoch: 285 | Train Loss: 1.238 | Train Acc: 80.70% | Val. Loss: 1.381 | Val. Acc: 65.62% | Val. Precision: 65.052 | Val. Recall: 65.625 | Val. F1-score: 62.024 |\n"
     ]
    },
    {
     "data": {
      "application/vnd.jupyter.widget-view+json": {
       "model_id": "625069d418f246aeaa0b28d238549bc5",
       "version_major": 2,
       "version_minor": 0
      },
      "text/plain": [
       "  0%|          | 0/320 [00:00<?, ?it/s]"
      ]
     },
     "metadata": {},
     "output_type": "display_data"
    },
    {
     "name": "stdout",
     "output_type": "stream",
     "text": [
      "| Epoch: 286 | Train Loss: 1.249 | Train Acc: 79.38% | Val. Loss: 1.420 | Val. Acc: 62.50% | Val. Precision: 63.073 | Val. Recall: 62.500 | Val. F1-score: 58.979 |\n"
     ]
    },
    {
     "data": {
      "application/vnd.jupyter.widget-view+json": {
       "model_id": "a6ee4a3b40ab497cbc711fa02a4a1617",
       "version_major": 2,
       "version_minor": 0
      },
      "text/plain": [
       "  0%|          | 0/320 [00:00<?, ?it/s]"
      ]
     },
     "metadata": {},
     "output_type": "display_data"
    },
    {
     "name": "stdout",
     "output_type": "stream",
     "text": [
      "| Epoch: 287 | Train Loss: 1.255 | Train Acc: 79.22% | Val. Loss: 1.378 | Val. Acc: 66.25% | Val. Precision: 66.719 | Val. Recall: 66.250 | Val. F1-score: 63.295 |\n"
     ]
    },
    {
     "data": {
      "application/vnd.jupyter.widget-view+json": {
       "model_id": "daefa7ae757a458fb12f94a096d02873",
       "version_major": 2,
       "version_minor": 0
      },
      "text/plain": [
       "  0%|          | 0/320 [00:00<?, ?it/s]"
      ]
     },
     "metadata": {},
     "output_type": "display_data"
    },
    {
     "name": "stdout",
     "output_type": "stream",
     "text": [
      "| Epoch: 288 | Train Loss: 1.241 | Train Acc: 80.16% | Val. Loss: 1.381 | Val. Acc: 65.00% | Val. Precision: 66.615 | Val. Recall: 65.000 | Val. F1-score: 62.190 |\n"
     ]
    },
    {
     "data": {
      "application/vnd.jupyter.widget-view+json": {
       "model_id": "fd74f4aa057c4d2c8fd47fad9f8cffa4",
       "version_major": 2,
       "version_minor": 0
      },
      "text/plain": [
       "  0%|          | 0/320 [00:00<?, ?it/s]"
      ]
     },
     "metadata": {},
     "output_type": "display_data"
    },
    {
     "name": "stdout",
     "output_type": "stream",
     "text": [
      "| Epoch: 289 | Train Loss: 1.240 | Train Acc: 80.23% | Val. Loss: 1.391 | Val. Acc: 64.38% | Val. Precision: 66.406 | Val. Recall: 64.375 | Val. F1-score: 61.357 |\n"
     ]
    },
    {
     "data": {
      "application/vnd.jupyter.widget-view+json": {
       "model_id": "3ac0bd740d5c4e6bbc72c4411a8c1401",
       "version_major": 2,
       "version_minor": 0
      },
      "text/plain": [
       "  0%|          | 0/320 [00:00<?, ?it/s]"
      ]
     },
     "metadata": {},
     "output_type": "display_data"
    },
    {
     "name": "stdout",
     "output_type": "stream",
     "text": [
      "| Epoch: 290 | Train Loss: 1.237 | Train Acc: 80.78% | Val. Loss: 1.383 | Val. Acc: 65.00% | Val. Precision: 67.135 | Val. Recall: 65.000 | Val. F1-score: 62.315 |\n"
     ]
    },
    {
     "data": {
      "application/vnd.jupyter.widget-view+json": {
       "model_id": "24686e29b1e5477487788a84721d5e74",
       "version_major": 2,
       "version_minor": 0
      },
      "text/plain": [
       "  0%|          | 0/320 [00:00<?, ?it/s]"
      ]
     },
     "metadata": {},
     "output_type": "display_data"
    },
    {
     "name": "stdout",
     "output_type": "stream",
     "text": [
      "| Epoch: 291 | Train Loss: 1.238 | Train Acc: 80.55% | Val. Loss: 1.401 | Val. Acc: 64.38% | Val. Precision: 66.198 | Val. Recall: 64.375 | Val. F1-score: 61.545 |\n"
     ]
    },
    {
     "data": {
      "application/vnd.jupyter.widget-view+json": {
       "model_id": "c0d7ae436acc4c0e9728259c243980dc",
       "version_major": 2,
       "version_minor": 0
      },
      "text/plain": [
       "  0%|          | 0/320 [00:00<?, ?it/s]"
      ]
     },
     "metadata": {},
     "output_type": "display_data"
    },
    {
     "name": "stdout",
     "output_type": "stream",
     "text": [
      "| Epoch: 292 | Train Loss: 1.239 | Train Acc: 80.55% | Val. Loss: 1.381 | Val. Acc: 66.25% | Val. Precision: 68.073 | Val. Recall: 66.250 | Val. F1-score: 63.649 |\n"
     ]
    },
    {
     "data": {
      "application/vnd.jupyter.widget-view+json": {
       "model_id": "cb374407028d4c6d93e7c70d65ab6b45",
       "version_major": 2,
       "version_minor": 0
      },
      "text/plain": [
       "  0%|          | 0/320 [00:00<?, ?it/s]"
      ]
     },
     "metadata": {},
     "output_type": "display_data"
    },
    {
     "name": "stdout",
     "output_type": "stream",
     "text": [
      "| Epoch: 293 | Train Loss: 1.235 | Train Acc: 80.86% | Val. Loss: 1.384 | Val. Acc: 65.62% | Val. Precision: 67.656 | Val. Recall: 65.625 | Val. F1-score: 62.607 |\n"
     ]
    },
    {
     "data": {
      "application/vnd.jupyter.widget-view+json": {
       "model_id": "45af1c7114d445b5ada4a97cb9d6c9f5",
       "version_major": 2,
       "version_minor": 0
      },
      "text/plain": [
       "  0%|          | 0/320 [00:00<?, ?it/s]"
      ]
     },
     "metadata": {},
     "output_type": "display_data"
    },
    {
     "name": "stdout",
     "output_type": "stream",
     "text": [
      "| Epoch: 294 | Train Loss: 1.230 | Train Acc: 81.33% | Val. Loss: 1.400 | Val. Acc: 64.38% | Val. Precision: 68.281 | Val. Recall: 64.375 | Val. F1-score: 61.982 |\n"
     ]
    },
    {
     "data": {
      "application/vnd.jupyter.widget-view+json": {
       "model_id": "792e06608d0e4e78b6ff9cea6293effc",
       "version_major": 2,
       "version_minor": 0
      },
      "text/plain": [
       "  0%|          | 0/320 [00:00<?, ?it/s]"
      ]
     },
     "metadata": {},
     "output_type": "display_data"
    },
    {
     "name": "stdout",
     "output_type": "stream",
     "text": [
      "| Epoch: 295 | Train Loss: 1.232 | Train Acc: 81.02% | Val. Loss: 1.397 | Val. Acc: 64.38% | Val. Precision: 67.448 | Val. Recall: 64.375 | Val. F1-score: 61.732 |\n"
     ]
    },
    {
     "data": {
      "application/vnd.jupyter.widget-view+json": {
       "model_id": "0efc9fcdd9b947de9104e83d8e09c47c",
       "version_major": 2,
       "version_minor": 0
      },
      "text/plain": [
       "  0%|          | 0/320 [00:00<?, ?it/s]"
      ]
     },
     "metadata": {},
     "output_type": "display_data"
    },
    {
     "name": "stdout",
     "output_type": "stream",
     "text": [
      "| Epoch: 296 | Train Loss: 1.229 | Train Acc: 81.41% | Val. Loss: 1.381 | Val. Acc: 66.25% | Val. Precision: 68.281 | Val. Recall: 66.250 | Val. F1-score: 63.815 |\n"
     ]
    },
    {
     "data": {
      "application/vnd.jupyter.widget-view+json": {
       "model_id": "99f272b353b64dc8acdfa092b256c69f",
       "version_major": 2,
       "version_minor": 0
      },
      "text/plain": [
       "  0%|          | 0/320 [00:00<?, ?it/s]"
      ]
     },
     "metadata": {},
     "output_type": "display_data"
    },
    {
     "name": "stdout",
     "output_type": "stream",
     "text": [
      "| Epoch: 297 | Train Loss: 1.231 | Train Acc: 81.25% | Val. Loss: 1.382 | Val. Acc: 66.25% | Val. Precision: 68.073 | Val. Recall: 66.250 | Val. F1-score: 63.690 |\n"
     ]
    },
    {
     "data": {
      "application/vnd.jupyter.widget-view+json": {
       "model_id": "79999d5ffb32405e9f7b307d92153a04",
       "version_major": 2,
       "version_minor": 0
      },
      "text/plain": [
       "  0%|          | 0/320 [00:00<?, ?it/s]"
      ]
     },
     "metadata": {},
     "output_type": "display_data"
    },
    {
     "name": "stdout",
     "output_type": "stream",
     "text": [
      "| Epoch: 298 | Train Loss: 1.230 | Train Acc: 81.33% | Val. Loss: 1.379 | Val. Acc: 66.25% | Val. Precision: 68.073 | Val. Recall: 66.250 | Val. F1-score: 63.690 |\n"
     ]
    },
    {
     "data": {
      "application/vnd.jupyter.widget-view+json": {
       "model_id": "eda8d15a5f924d3f9b0a609eab769849",
       "version_major": 2,
       "version_minor": 0
      },
      "text/plain": [
       "  0%|          | 0/320 [00:00<?, ?it/s]"
      ]
     },
     "metadata": {},
     "output_type": "display_data"
    },
    {
     "name": "stdout",
     "output_type": "stream",
     "text": [
      "| Epoch: 299 | Train Loss: 1.233 | Train Acc: 81.09% | Val. Loss: 1.370 | Val. Acc: 68.12% | Val. Precision: 67.760 | Val. Recall: 68.125 | Val. F1-score: 64.565 |\n"
     ]
    },
    {
     "data": {
      "application/vnd.jupyter.widget-view+json": {
       "model_id": "e77cbff1bc444d5bb9204198d07606da",
       "version_major": 2,
       "version_minor": 0
      },
      "text/plain": [
       "  0%|          | 0/320 [00:00<?, ?it/s]"
      ]
     },
     "metadata": {},
     "output_type": "display_data"
    },
    {
     "name": "stdout",
     "output_type": "stream",
     "text": [
      "| Epoch: 300 | Train Loss: 1.246 | Train Acc: 79.84% | Val. Loss: 1.390 | Val. Acc: 65.00% | Val. Precision: 67.969 | Val. Recall: 65.000 | Val. F1-score: 62.357 |\n"
     ]
    },
    {
     "data": {
      "application/vnd.jupyter.widget-view+json": {
       "model_id": "bd9ac352d4984791be0861eb7a863bd9",
       "version_major": 2,
       "version_minor": 0
      },
      "text/plain": [
       "  0%|          | 0/320 [00:00<?, ?it/s]"
      ]
     },
     "metadata": {},
     "output_type": "display_data"
    },
    {
     "name": "stdout",
     "output_type": "stream",
     "text": [
      "| Epoch: 301 | Train Loss: 1.250 | Train Acc: 79.45% | Val. Loss: 1.382 | Val. Acc: 66.88% | Val. Precision: 67.656 | Val. Recall: 66.875 | Val. F1-score: 63.857 |\n"
     ]
    },
    {
     "data": {
      "application/vnd.jupyter.widget-view+json": {
       "model_id": "c68e24cd66f3407fbe6247d02cac599a",
       "version_major": 2,
       "version_minor": 0
      },
      "text/plain": [
       "  0%|          | 0/320 [00:00<?, ?it/s]"
      ]
     },
     "metadata": {},
     "output_type": "display_data"
    },
    {
     "name": "stdout",
     "output_type": "stream",
     "text": [
      "| Epoch: 302 | Train Loss: 1.242 | Train Acc: 80.16% | Val. Loss: 1.397 | Val. Acc: 64.38% | Val. Precision: 66.927 | Val. Recall: 64.375 | Val. F1-score: 61.625 |\n"
     ]
    },
    {
     "data": {
      "application/vnd.jupyter.widget-view+json": {
       "model_id": "3f09c481e52145b0b6269f7af90f13ff",
       "version_major": 2,
       "version_minor": 0
      },
      "text/plain": [
       "  0%|          | 0/320 [00:00<?, ?it/s]"
      ]
     },
     "metadata": {},
     "output_type": "display_data"
    },
    {
     "name": "stdout",
     "output_type": "stream",
     "text": [
      "| Epoch: 303 | Train Loss: 1.235 | Train Acc: 80.94% | Val. Loss: 1.375 | Val. Acc: 67.50% | Val. Precision: 69.531 | Val. Recall: 67.500 | Val. F1-score: 64.940 |\n"
     ]
    },
    {
     "data": {
      "application/vnd.jupyter.widget-view+json": {
       "model_id": "1237cb0c61e84768b76e83c34f9dc1f9",
       "version_major": 2,
       "version_minor": 0
      },
      "text/plain": [
       "  0%|          | 0/320 [00:00<?, ?it/s]"
      ]
     },
     "metadata": {},
     "output_type": "display_data"
    },
    {
     "name": "stdout",
     "output_type": "stream",
     "text": [
      "| Epoch: 304 | Train Loss: 1.233 | Train Acc: 81.09% | Val. Loss: 1.383 | Val. Acc: 66.25% | Val. Precision: 66.510 | Val. Recall: 66.250 | Val. F1-score: 62.878 |\n"
     ]
    },
    {
     "data": {
      "application/vnd.jupyter.widget-view+json": {
       "model_id": "a04a02a13f1b485eb01897801d4aca8b",
       "version_major": 2,
       "version_minor": 0
      },
      "text/plain": [
       "  0%|          | 0/320 [00:00<?, ?it/s]"
      ]
     },
     "metadata": {},
     "output_type": "display_data"
    },
    {
     "name": "stdout",
     "output_type": "stream",
     "text": [
      "| Epoch: 305 | Train Loss: 1.239 | Train Acc: 80.39% | Val. Loss: 1.381 | Val. Acc: 65.62% | Val. Precision: 66.302 | Val. Recall: 65.625 | Val. F1-score: 62.336 |\n"
     ]
    },
    {
     "data": {
      "application/vnd.jupyter.widget-view+json": {
       "model_id": "c3f2fc52c78e40ba8f8d74d1a3c4709f",
       "version_major": 2,
       "version_minor": 0
      },
      "text/plain": [
       "  0%|          | 0/320 [00:00<?, ?it/s]"
      ]
     },
     "metadata": {},
     "output_type": "display_data"
    },
    {
     "name": "stdout",
     "output_type": "stream",
     "text": [
      "| Epoch: 306 | Train Loss: 1.231 | Train Acc: 81.41% | Val. Loss: 1.397 | Val. Acc: 64.38% | Val. Precision: 65.885 | Val. Recall: 64.375 | Val. F1-score: 61.274 |\n"
     ]
    },
    {
     "data": {
      "application/vnd.jupyter.widget-view+json": {
       "model_id": "3f0759ab21484bac956e195f23736729",
       "version_major": 2,
       "version_minor": 0
      },
      "text/plain": [
       "  0%|          | 0/320 [00:00<?, ?it/s]"
      ]
     },
     "metadata": {},
     "output_type": "display_data"
    },
    {
     "name": "stdout",
     "output_type": "stream",
     "text": [
      "| Epoch: 307 | Train Loss: 1.232 | Train Acc: 81.17% | Val. Loss: 1.390 | Val. Acc: 66.25% | Val. Precision: 66.927 | Val. Recall: 66.250 | Val. F1-score: 62.961 |\n"
     ]
    },
    {
     "data": {
      "application/vnd.jupyter.widget-view+json": {
       "model_id": "0b4cad85d3d94ce295bd5eace1305403",
       "version_major": 2,
       "version_minor": 0
      },
      "text/plain": [
       "  0%|          | 0/320 [00:00<?, ?it/s]"
      ]
     },
     "metadata": {},
     "output_type": "display_data"
    },
    {
     "name": "stdout",
     "output_type": "stream",
     "text": [
      "| Epoch: 308 | Train Loss: 1.229 | Train Acc: 81.48% | Val. Loss: 1.384 | Val. Acc: 65.62% | Val. Precision: 67.760 | Val. Recall: 65.625 | Val. F1-score: 62.920 |\n"
     ]
    },
    {
     "data": {
      "application/vnd.jupyter.widget-view+json": {
       "model_id": "c7436aac3cf64534add0966b0e3c50b3",
       "version_major": 2,
       "version_minor": 0
      },
      "text/plain": [
       "  0%|          | 0/320 [00:00<?, ?it/s]"
      ]
     },
     "metadata": {},
     "output_type": "display_data"
    },
    {
     "name": "stdout",
     "output_type": "stream",
     "text": [
      "| Epoch: 309 | Train Loss: 1.228 | Train Acc: 81.48% | Val. Loss: 1.396 | Val. Acc: 64.38% | Val. Precision: 65.208 | Val. Recall: 64.375 | Val. F1-score: 61.027 |\n"
     ]
    },
    {
     "data": {
      "application/vnd.jupyter.widget-view+json": {
       "model_id": "d22bdbf499974197b50e4b044dc1d47e",
       "version_major": 2,
       "version_minor": 0
      },
      "text/plain": [
       "  0%|          | 0/320 [00:00<?, ?it/s]"
      ]
     },
     "metadata": {},
     "output_type": "display_data"
    },
    {
     "name": "stdout",
     "output_type": "stream",
     "text": [
      "| Epoch: 310 | Train Loss: 1.232 | Train Acc: 81.17% | Val. Loss: 1.391 | Val. Acc: 65.62% | Val. Precision: 64.531 | Val. Recall: 65.625 | Val. F1-score: 61.923 |\n"
     ]
    },
    {
     "data": {
      "application/vnd.jupyter.widget-view+json": {
       "model_id": "e3337b0088c14244815a6a82d347d7f6",
       "version_major": 2,
       "version_minor": 0
      },
      "text/plain": [
       "  0%|          | 0/320 [00:00<?, ?it/s]"
      ]
     },
     "metadata": {},
     "output_type": "display_data"
    },
    {
     "name": "stdout",
     "output_type": "stream",
     "text": [
      "| Epoch: 311 | Train Loss: 1.231 | Train Acc: 81.25% | Val. Loss: 1.388 | Val. Acc: 65.00% | Val. Precision: 65.104 | Val. Recall: 65.000 | Val. F1-score: 61.339 |\n"
     ]
    },
    {
     "data": {
      "application/vnd.jupyter.widget-view+json": {
       "model_id": "76202fb781764c0c81a550a45ba695ea",
       "version_major": 2,
       "version_minor": 0
      },
      "text/plain": [
       "  0%|          | 0/320 [00:00<?, ?it/s]"
      ]
     },
     "metadata": {},
     "output_type": "display_data"
    },
    {
     "name": "stdout",
     "output_type": "stream",
     "text": [
      "| Epoch: 312 | Train Loss: 1.263 | Train Acc: 77.97% | Val. Loss: 1.409 | Val. Acc: 62.50% | Val. Precision: 64.844 | Val. Recall: 62.500 | Val. F1-score: 60.086 |\n"
     ]
    },
    {
     "data": {
      "application/vnd.jupyter.widget-view+json": {
       "model_id": "4eff673eb2124c0a92d023842de4a7bc",
       "version_major": 2,
       "version_minor": 0
      },
      "text/plain": [
       "  0%|          | 0/320 [00:00<?, ?it/s]"
      ]
     },
     "metadata": {},
     "output_type": "display_data"
    },
    {
     "name": "stdout",
     "output_type": "stream",
     "text": [
      "| Epoch: 313 | Train Loss: 1.268 | Train Acc: 77.50% | Val. Loss: 1.370 | Val. Acc: 68.12% | Val. Precision: 68.021 | Val. Recall: 68.125 | Val. F1-score: 64.777 |\n"
     ]
    },
    {
     "data": {
      "application/vnd.jupyter.widget-view+json": {
       "model_id": "fb2db563438f464590a91a078e9d9652",
       "version_major": 2,
       "version_minor": 0
      },
      "text/plain": [
       "  0%|          | 0/320 [00:00<?, ?it/s]"
      ]
     },
     "metadata": {},
     "output_type": "display_data"
    },
    {
     "name": "stdout",
     "output_type": "stream",
     "text": [
      "| Epoch: 314 | Train Loss: 1.240 | Train Acc: 80.47% | Val. Loss: 1.400 | Val. Acc: 64.38% | Val. Precision: 65.104 | Val. Recall: 64.375 | Val. F1-score: 60.943 |\n"
     ]
    },
    {
     "data": {
      "application/vnd.jupyter.widget-view+json": {
       "model_id": "496943d963b0439ca844d146f16e570f",
       "version_major": 2,
       "version_minor": 0
      },
      "text/plain": [
       "  0%|          | 0/320 [00:00<?, ?it/s]"
      ]
     },
     "metadata": {},
     "output_type": "display_data"
    },
    {
     "name": "stdout",
     "output_type": "stream",
     "text": [
      "| Epoch: 315 | Train Loss: 1.233 | Train Acc: 81.02% | Val. Loss: 1.402 | Val. Acc: 63.75% | Val. Precision: 64.687 | Val. Recall: 63.750 | Val. F1-score: 60.756 |\n"
     ]
    },
    {
     "data": {
      "application/vnd.jupyter.widget-view+json": {
       "model_id": "4025a4948a81422d83c0328f0b25a9de",
       "version_major": 2,
       "version_minor": 0
      },
      "text/plain": [
       "  0%|          | 0/320 [00:00<?, ?it/s]"
      ]
     },
     "metadata": {},
     "output_type": "display_data"
    },
    {
     "name": "stdout",
     "output_type": "stream",
     "text": [
      "| Epoch: 316 | Train Loss: 1.235 | Train Acc: 80.86% | Val. Loss: 1.393 | Val. Acc: 65.62% | Val. Precision: 67.396 | Val. Recall: 65.625 | Val. F1-score: 62.735 |\n"
     ]
    },
    {
     "data": {
      "application/vnd.jupyter.widget-view+json": {
       "model_id": "9fa94dcadacf43158ff9755507824236",
       "version_major": 2,
       "version_minor": 0
      },
      "text/plain": [
       "  0%|          | 0/320 [00:00<?, ?it/s]"
      ]
     },
     "metadata": {},
     "output_type": "display_data"
    },
    {
     "name": "stdout",
     "output_type": "stream",
     "text": [
      "| Epoch: 317 | Train Loss: 1.233 | Train Acc: 81.02% | Val. Loss: 1.388 | Val. Acc: 64.38% | Val. Precision: 65.885 | Val. Recall: 64.375 | Val. F1-score: 61.128 |\n"
     ]
    },
    {
     "data": {
      "application/vnd.jupyter.widget-view+json": {
       "model_id": "216c2cb3b8a0412eab529a97ecf7bdb8",
       "version_major": 2,
       "version_minor": 0
      },
      "text/plain": [
       "  0%|          | 0/320 [00:00<?, ?it/s]"
      ]
     },
     "metadata": {},
     "output_type": "display_data"
    },
    {
     "name": "stdout",
     "output_type": "stream",
     "text": [
      "| Epoch: 318 | Train Loss: 1.233 | Train Acc: 81.02% | Val. Loss: 1.393 | Val. Acc: 65.62% | Val. Precision: 65.365 | Val. Recall: 65.625 | Val. F1-score: 62.298 |\n"
     ]
    },
    {
     "data": {
      "application/vnd.jupyter.widget-view+json": {
       "model_id": "5a18858d15f04050a3abd343bcaad6a5",
       "version_major": 2,
       "version_minor": 0
      },
      "text/plain": [
       "  0%|          | 0/320 [00:00<?, ?it/s]"
      ]
     },
     "metadata": {},
     "output_type": "display_data"
    },
    {
     "name": "stdout",
     "output_type": "stream",
     "text": [
      "| Epoch: 319 | Train Loss: 1.231 | Train Acc: 81.25% | Val. Loss: 1.380 | Val. Acc: 65.62% | Val. Precision: 66.667 | Val. Recall: 65.625 | Val. F1-score: 62.461 |\n"
     ]
    },
    {
     "data": {
      "application/vnd.jupyter.widget-view+json": {
       "model_id": "127116bafa7c4317b28d95fbaf29ffb0",
       "version_major": 2,
       "version_minor": 0
      },
      "text/plain": [
       "  0%|          | 0/320 [00:00<?, ?it/s]"
      ]
     },
     "metadata": {},
     "output_type": "display_data"
    },
    {
     "name": "stdout",
     "output_type": "stream",
     "text": [
      "| Epoch: 320 | Train Loss: 1.229 | Train Acc: 81.41% | Val. Loss: 1.383 | Val. Acc: 65.62% | Val. Precision: 67.135 | Val. Recall: 65.625 | Val. F1-score: 62.607 |\n"
     ]
    },
    {
     "data": {
      "application/vnd.jupyter.widget-view+json": {
       "model_id": "d5c3e0a869fa4116b594a09391a81d03",
       "version_major": 2,
       "version_minor": 0
      },
      "text/plain": [
       "  0%|          | 0/320 [00:00<?, ?it/s]"
      ]
     },
     "metadata": {},
     "output_type": "display_data"
    },
    {
     "name": "stdout",
     "output_type": "stream",
     "text": [
      "| Epoch: 321 | Train Loss: 1.228 | Train Acc: 81.48% | Val. Loss: 1.380 | Val. Acc: 66.25% | Val. Precision: 68.906 | Val. Recall: 66.250 | Val. F1-score: 63.607 |\n"
     ]
    },
    {
     "data": {
      "application/vnd.jupyter.widget-view+json": {
       "model_id": "d691ac14567c4fefaca42af93aa48c70",
       "version_major": 2,
       "version_minor": 0
      },
      "text/plain": [
       "  0%|          | 0/320 [00:00<?, ?it/s]"
      ]
     },
     "metadata": {},
     "output_type": "display_data"
    },
    {
     "name": "stdout",
     "output_type": "stream",
     "text": [
      "| Epoch: 322 | Train Loss: 1.228 | Train Acc: 81.48% | Val. Loss: 1.393 | Val. Acc: 64.38% | Val. Precision: 66.823 | Val. Recall: 64.375 | Val. F1-score: 61.732 |\n"
     ]
    },
    {
     "data": {
      "application/vnd.jupyter.widget-view+json": {
       "model_id": "257de262324f434c88f4aabb55c0b7be",
       "version_major": 2,
       "version_minor": 0
      },
      "text/plain": [
       "  0%|          | 0/320 [00:00<?, ?it/s]"
      ]
     },
     "metadata": {},
     "output_type": "display_data"
    },
    {
     "name": "stdout",
     "output_type": "stream",
     "text": [
      "| Epoch: 323 | Train Loss: 1.246 | Train Acc: 79.77% | Val. Loss: 1.388 | Val. Acc: 65.00% | Val. Precision: 65.260 | Val. Recall: 65.000 | Val. F1-score: 61.753 |\n"
     ]
    },
    {
     "data": {
      "application/vnd.jupyter.widget-view+json": {
       "model_id": "2e3675e65a1448239bd895d3e04c05e7",
       "version_major": 2,
       "version_minor": 0
      },
      "text/plain": [
       "  0%|          | 0/320 [00:00<?, ?it/s]"
      ]
     },
     "metadata": {},
     "output_type": "display_data"
    },
    {
     "name": "stdout",
     "output_type": "stream",
     "text": [
      "| Epoch: 324 | Train Loss: 1.250 | Train Acc: 79.45% | Val. Loss: 1.395 | Val. Acc: 65.00% | Val. Precision: 64.531 | Val. Recall: 65.000 | Val. F1-score: 61.565 |\n"
     ]
    },
    {
     "data": {
      "application/vnd.jupyter.widget-view+json": {
       "model_id": "b163429c2c3449409f062ab5b9b9e723",
       "version_major": 2,
       "version_minor": 0
      },
      "text/plain": [
       "  0%|          | 0/320 [00:00<?, ?it/s]"
      ]
     },
     "metadata": {},
     "output_type": "display_data"
    },
    {
     "name": "stdout",
     "output_type": "stream",
     "text": [
      "| Epoch: 325 | Train Loss: 1.235 | Train Acc: 80.86% | Val. Loss: 1.402 | Val. Acc: 64.38% | Val. Precision: 67.448 | Val. Recall: 64.375 | Val. F1-score: 61.878 |\n"
     ]
    },
    {
     "data": {
      "application/vnd.jupyter.widget-view+json": {
       "model_id": "0793d5db11254762b0e7425e0941ab97",
       "version_major": 2,
       "version_minor": 0
      },
      "text/plain": [
       "  0%|          | 0/320 [00:00<?, ?it/s]"
      ]
     },
     "metadata": {},
     "output_type": "display_data"
    },
    {
     "name": "stdout",
     "output_type": "stream",
     "text": [
      "| Epoch: 326 | Train Loss: 1.240 | Train Acc: 80.31% | Val. Loss: 1.396 | Val. Acc: 63.75% | Val. Precision: 63.750 | Val. Recall: 63.750 | Val. F1-score: 60.399 |\n"
     ]
    },
    {
     "data": {
      "application/vnd.jupyter.widget-view+json": {
       "model_id": "78e8306f514f4b05a1feb5a32555fe57",
       "version_major": 2,
       "version_minor": 0
      },
      "text/plain": [
       "  0%|          | 0/320 [00:00<?, ?it/s]"
      ]
     },
     "metadata": {},
     "output_type": "display_data"
    },
    {
     "name": "stdout",
     "output_type": "stream",
     "text": [
      "| Epoch: 327 | Train Loss: 1.233 | Train Acc: 81.25% | Val. Loss: 1.379 | Val. Acc: 66.88% | Val. Precision: 68.490 | Val. Recall: 66.875 | Val. F1-score: 63.920 |\n"
     ]
    },
    {
     "data": {
      "application/vnd.jupyter.widget-view+json": {
       "model_id": "d70e5ac72c96411c84f5ad3997288175",
       "version_major": 2,
       "version_minor": 0
      },
      "text/plain": [
       "  0%|          | 0/320 [00:00<?, ?it/s]"
      ]
     },
     "metadata": {},
     "output_type": "display_data"
    },
    {
     "name": "stdout",
     "output_type": "stream",
     "text": [
      "| Epoch: 328 | Train Loss: 1.236 | Train Acc: 80.70% | Val. Loss: 1.394 | Val. Acc: 64.38% | Val. Precision: 66.510 | Val. Recall: 64.375 | Val. F1-score: 61.565 |\n"
     ]
    },
    {
     "data": {
      "application/vnd.jupyter.widget-view+json": {
       "model_id": "aa3a9525b354445fa0a5804e43a5d059",
       "version_major": 2,
       "version_minor": 0
      },
      "text/plain": [
       "  0%|          | 0/320 [00:00<?, ?it/s]"
      ]
     },
     "metadata": {},
     "output_type": "display_data"
    },
    {
     "name": "stdout",
     "output_type": "stream",
     "text": [
      "| Epoch: 329 | Train Loss: 1.231 | Train Acc: 81.25% | Val. Loss: 1.375 | Val. Acc: 66.88% | Val. Precision: 67.656 | Val. Recall: 66.875 | Val. F1-score: 63.836 |\n"
     ]
    },
    {
     "data": {
      "application/vnd.jupyter.widget-view+json": {
       "model_id": "84b38f1cdf664f6d9ea9f11b6d91b247",
       "version_major": 2,
       "version_minor": 0
      },
      "text/plain": [
       "  0%|          | 0/320 [00:00<?, ?it/s]"
      ]
     },
     "metadata": {},
     "output_type": "display_data"
    },
    {
     "name": "stdout",
     "output_type": "stream",
     "text": [
      "| Epoch: 330 | Train Loss: 1.232 | Train Acc: 81.17% | Val. Loss: 1.398 | Val. Acc: 65.00% | Val. Precision: 66.615 | Val. Recall: 65.000 | Val. F1-score: 62.003 |\n"
     ]
    },
    {
     "data": {
      "application/vnd.jupyter.widget-view+json": {
       "model_id": "e986e539dd9844f79b401eda394c7371",
       "version_major": 2,
       "version_minor": 0
      },
      "text/plain": [
       "  0%|          | 0/320 [00:00<?, ?it/s]"
      ]
     },
     "metadata": {},
     "output_type": "display_data"
    },
    {
     "name": "stdout",
     "output_type": "stream",
     "text": [
      "| Epoch: 331 | Train Loss: 1.234 | Train Acc: 81.09% | Val. Loss: 1.378 | Val. Acc: 66.25% | Val. Precision: 65.938 | Val. Recall: 66.250 | Val. F1-score: 62.732 |\n"
     ]
    },
    {
     "data": {
      "application/vnd.jupyter.widget-view+json": {
       "model_id": "171dac7d499343ab945e1fcaa8140c40",
       "version_major": 2,
       "version_minor": 0
      },
      "text/plain": [
       "  0%|          | 0/320 [00:00<?, ?it/s]"
      ]
     },
     "metadata": {},
     "output_type": "display_data"
    },
    {
     "name": "stdout",
     "output_type": "stream",
     "text": [
      "| Epoch: 332 | Train Loss: 1.253 | Train Acc: 79.14% | Val. Loss: 1.440 | Val. Acc: 60.00% | Val. Precision: 61.250 | Val. Recall: 60.000 | Val. F1-score: 56.357 |\n"
     ]
    },
    {
     "data": {
      "application/vnd.jupyter.widget-view+json": {
       "model_id": "5edd3536f7f349febc4f82346f1e019e",
       "version_major": 2,
       "version_minor": 0
      },
      "text/plain": [
       "  0%|          | 0/320 [00:00<?, ?it/s]"
      ]
     },
     "metadata": {},
     "output_type": "display_data"
    },
    {
     "name": "stdout",
     "output_type": "stream",
     "text": [
      "| Epoch: 333 | Train Loss: 1.255 | Train Acc: 78.91% | Val. Loss: 1.387 | Val. Acc: 65.00% | Val. Precision: 67.135 | Val. Recall: 65.000 | Val. F1-score: 62.045 |\n"
     ]
    },
    {
     "data": {
      "application/vnd.jupyter.widget-view+json": {
       "model_id": "f54015b126324980bbf7eeb1f66adfe8",
       "version_major": 2,
       "version_minor": 0
      },
      "text/plain": [
       "  0%|          | 0/320 [00:00<?, ?it/s]"
      ]
     },
     "metadata": {},
     "output_type": "display_data"
    },
    {
     "name": "stdout",
     "output_type": "stream",
     "text": [
      "| Epoch: 334 | Train Loss: 1.231 | Train Acc: 81.25% | Val. Loss: 1.372 | Val. Acc: 66.88% | Val. Precision: 68.385 | Val. Recall: 66.875 | Val. F1-score: 63.920 |\n"
     ]
    },
    {
     "data": {
      "application/vnd.jupyter.widget-view+json": {
       "model_id": "9dbbf97f2634401f8f24b0c85a53fd02",
       "version_major": 2,
       "version_minor": 0
      },
      "text/plain": [
       "  0%|          | 0/320 [00:00<?, ?it/s]"
      ]
     },
     "metadata": {},
     "output_type": "display_data"
    },
    {
     "name": "stdout",
     "output_type": "stream",
     "text": [
      "| Epoch: 335 | Train Loss: 1.228 | Train Acc: 81.56% | Val. Loss: 1.370 | Val. Acc: 66.88% | Val. Precision: 68.281 | Val. Recall: 66.875 | Val. F1-score: 64.024 |\n"
     ]
    },
    {
     "data": {
      "application/vnd.jupyter.widget-view+json": {
       "model_id": "ea6ad233a70642859e9de21e2c585e24",
       "version_major": 2,
       "version_minor": 0
      },
      "text/plain": [
       "  0%|          | 0/320 [00:00<?, ?it/s]"
      ]
     },
     "metadata": {},
     "output_type": "display_data"
    },
    {
     "name": "stdout",
     "output_type": "stream",
     "text": [
      "| Epoch: 336 | Train Loss: 1.227 | Train Acc: 81.56% | Val. Loss: 1.387 | Val. Acc: 65.62% | Val. Precision: 66.823 | Val. Recall: 65.625 | Val. F1-score: 62.482 |\n"
     ]
    },
    {
     "data": {
      "application/vnd.jupyter.widget-view+json": {
       "model_id": "993d1191bc5648b59421e718d9d0ec49",
       "version_major": 2,
       "version_minor": 0
      },
      "text/plain": [
       "  0%|          | 0/320 [00:00<?, ?it/s]"
      ]
     },
     "metadata": {},
     "output_type": "display_data"
    },
    {
     "name": "stdout",
     "output_type": "stream",
     "text": [
      "| Epoch: 337 | Train Loss: 1.227 | Train Acc: 81.64% | Val. Loss: 1.377 | Val. Acc: 66.88% | Val. Precision: 68.906 | Val. Recall: 66.875 | Val. F1-score: 64.128 |\n"
     ]
    },
    {
     "data": {
      "application/vnd.jupyter.widget-view+json": {
       "model_id": "051d7715fcff4cb2a3ad92c61aa8f6a2",
       "version_major": 2,
       "version_minor": 0
      },
      "text/plain": [
       "  0%|          | 0/320 [00:00<?, ?it/s]"
      ]
     },
     "metadata": {},
     "output_type": "display_data"
    },
    {
     "name": "stdout",
     "output_type": "stream",
     "text": [
      "| Epoch: 338 | Train Loss: 1.227 | Train Acc: 81.64% | Val. Loss: 1.376 | Val. Acc: 67.50% | Val. Precision: 69.115 | Val. Recall: 67.500 | Val. F1-score: 64.795 |\n"
     ]
    },
    {
     "data": {
      "application/vnd.jupyter.widget-view+json": {
       "model_id": "7befc4d7e7814b398e35d3c10b5089a8",
       "version_major": 2,
       "version_minor": 0
      },
      "text/plain": [
       "  0%|          | 0/320 [00:00<?, ?it/s]"
      ]
     },
     "metadata": {},
     "output_type": "display_data"
    },
    {
     "name": "stdout",
     "output_type": "stream",
     "text": [
      "| Epoch: 339 | Train Loss: 1.226 | Train Acc: 81.64% | Val. Loss: 1.383 | Val. Acc: 65.62% | Val. Precision: 68.646 | Val. Recall: 65.625 | Val. F1-score: 63.104 |\n"
     ]
    },
    {
     "data": {
      "application/vnd.jupyter.widget-view+json": {
       "model_id": "0839c8c1e1bc4b6896d655a406bf1442",
       "version_major": 2,
       "version_minor": 0
      },
      "text/plain": [
       "  0%|          | 0/320 [00:00<?, ?it/s]"
      ]
     },
     "metadata": {},
     "output_type": "display_data"
    },
    {
     "name": "stdout",
     "output_type": "stream",
     "text": [
      "| Epoch: 340 | Train Loss: 1.240 | Train Acc: 80.31% | Val. Loss: 1.364 | Val. Acc: 68.12% | Val. Precision: 69.010 | Val. Recall: 68.125 | Val. F1-score: 64.961 |\n"
     ]
    },
    {
     "data": {
      "application/vnd.jupyter.widget-view+json": {
       "model_id": "d8a080fcf2be49c5a5573821d6ea6954",
       "version_major": 2,
       "version_minor": 0
      },
      "text/plain": [
       "  0%|          | 0/320 [00:00<?, ?it/s]"
      ]
     },
     "metadata": {},
     "output_type": "display_data"
    },
    {
     "name": "stdout",
     "output_type": "stream",
     "text": [
      "| Epoch: 341 | Train Loss: 1.236 | Train Acc: 80.78% | Val. Loss: 1.402 | Val. Acc: 63.75% | Val. Precision: 64.375 | Val. Recall: 63.750 | Val. F1-score: 60.110 |\n"
     ]
    },
    {
     "data": {
      "application/vnd.jupyter.widget-view+json": {
       "model_id": "570a706ec9e24af099db79cf9477534b",
       "version_major": 2,
       "version_minor": 0
      },
      "text/plain": [
       "  0%|          | 0/320 [00:00<?, ?it/s]"
      ]
     },
     "metadata": {},
     "output_type": "display_data"
    },
    {
     "name": "stdout",
     "output_type": "stream",
     "text": [
      "| Epoch: 342 | Train Loss: 1.230 | Train Acc: 81.41% | Val. Loss: 1.399 | Val. Acc: 64.38% | Val. Precision: 65.000 | Val. Recall: 64.375 | Val. F1-score: 60.568 |\n"
     ]
    },
    {
     "data": {
      "application/vnd.jupyter.widget-view+json": {
       "model_id": "80026798661f45c98549799896c26e9d",
       "version_major": 2,
       "version_minor": 0
      },
      "text/plain": [
       "  0%|          | 0/320 [00:00<?, ?it/s]"
      ]
     },
     "metadata": {},
     "output_type": "display_data"
    },
    {
     "name": "stdout",
     "output_type": "stream",
     "text": [
      "| Epoch: 343 | Train Loss: 1.241 | Train Acc: 80.16% | Val. Loss: 1.396 | Val. Acc: 65.62% | Val. Precision: 68.177 | Val. Recall: 65.625 | Val. F1-score: 63.062 |\n"
     ]
    },
    {
     "data": {
      "application/vnd.jupyter.widget-view+json": {
       "model_id": "1eeaa04d9433478ebf6919e6ef107e4c",
       "version_major": 2,
       "version_minor": 0
      },
      "text/plain": [
       "  0%|          | 0/320 [00:00<?, ?it/s]"
      ]
     },
     "metadata": {},
     "output_type": "display_data"
    },
    {
     "name": "stdout",
     "output_type": "stream",
     "text": [
      "| Epoch: 344 | Train Loss: 1.236 | Train Acc: 80.86% | Val. Loss: 1.371 | Val. Acc: 67.50% | Val. Precision: 68.125 | Val. Recall: 67.500 | Val. F1-score: 64.402 |\n"
     ]
    },
    {
     "data": {
      "application/vnd.jupyter.widget-view+json": {
       "model_id": "eb12cd80b81a40f8b720cc3132115e9b",
       "version_major": 2,
       "version_minor": 0
      },
      "text/plain": [
       "  0%|          | 0/320 [00:00<?, ?it/s]"
      ]
     },
     "metadata": {},
     "output_type": "display_data"
    },
    {
     "name": "stdout",
     "output_type": "stream",
     "text": [
      "| Epoch: 345 | Train Loss: 1.234 | Train Acc: 81.02% | Val. Loss: 1.412 | Val. Acc: 63.12% | Val. Precision: 65.521 | Val. Recall: 63.125 | Val. F1-score: 60.423 |\n"
     ]
    },
    {
     "data": {
      "application/vnd.jupyter.widget-view+json": {
       "model_id": "79eb4a7e59f4495f858765d42d0b0073",
       "version_major": 2,
       "version_minor": 0
      },
      "text/plain": [
       "  0%|          | 0/320 [00:00<?, ?it/s]"
      ]
     },
     "metadata": {},
     "output_type": "display_data"
    },
    {
     "name": "stdout",
     "output_type": "stream",
     "text": [
      "| Epoch: 346 | Train Loss: 1.237 | Train Acc: 80.70% | Val. Loss: 1.395 | Val. Acc: 63.75% | Val. Precision: 63.750 | Val. Recall: 63.750 | Val. F1-score: 60.131 |\n"
     ]
    },
    {
     "data": {
      "application/vnd.jupyter.widget-view+json": {
       "model_id": "93744f26f8a749d2b7a34bceb09a04a0",
       "version_major": 2,
       "version_minor": 0
      },
      "text/plain": [
       "  0%|          | 0/320 [00:00<?, ?it/s]"
      ]
     },
     "metadata": {},
     "output_type": "display_data"
    },
    {
     "name": "stdout",
     "output_type": "stream",
     "text": [
      "| Epoch: 347 | Train Loss: 1.232 | Train Acc: 81.09% | Val. Loss: 1.363 | Val. Acc: 68.12% | Val. Precision: 68.385 | Val. Recall: 68.125 | Val. F1-score: 64.753 |\n"
     ]
    },
    {
     "data": {
      "application/vnd.jupyter.widget-view+json": {
       "model_id": "813b6d44d58946f78db6d1cda4d9d4bf",
       "version_major": 2,
       "version_minor": 0
      },
      "text/plain": [
       "  0%|          | 0/320 [00:00<?, ?it/s]"
      ]
     },
     "metadata": {},
     "output_type": "display_data"
    },
    {
     "name": "stdout",
     "output_type": "stream",
     "text": [
      "| Epoch: 348 | Train Loss: 1.229 | Train Acc: 81.41% | Val. Loss: 1.373 | Val. Acc: 67.50% | Val. Precision: 68.490 | Val. Recall: 67.500 | Val. F1-score: 64.420 |\n"
     ]
    },
    {
     "data": {
      "application/vnd.jupyter.widget-view+json": {
       "model_id": "c408a558c1ea4cd7b573f089a9dc441d",
       "version_major": 2,
       "version_minor": 0
      },
      "text/plain": [
       "  0%|          | 0/320 [00:00<?, ?it/s]"
      ]
     },
     "metadata": {},
     "output_type": "display_data"
    },
    {
     "name": "stdout",
     "output_type": "stream",
     "text": [
      "| Epoch: 349 | Train Loss: 1.224 | Train Acc: 81.88% | Val. Loss: 1.389 | Val. Acc: 64.38% | Val. Precision: 66.406 | Val. Recall: 64.375 | Val. F1-score: 61.524 |\n"
     ]
    },
    {
     "data": {
      "application/vnd.jupyter.widget-view+json": {
       "model_id": "9bfb9a067a524707b3bb349544ab8caf",
       "version_major": 2,
       "version_minor": 0
      },
      "text/plain": [
       "  0%|          | 0/320 [00:00<?, ?it/s]"
      ]
     },
     "metadata": {},
     "output_type": "display_data"
    },
    {
     "name": "stdout",
     "output_type": "stream",
     "text": [
      "| Epoch: 350 | Train Loss: 1.224 | Train Acc: 81.88% | Val. Loss: 1.383 | Val. Acc: 65.62% | Val. Precision: 66.927 | Val. Recall: 65.625 | Val. F1-score: 62.524 |\n"
     ]
    },
    {
     "data": {
      "application/vnd.jupyter.widget-view+json": {
       "model_id": "dfa18b9312a847fdb7e4b5b26a3e6f29",
       "version_major": 2,
       "version_minor": 0
      },
      "text/plain": [
       "  0%|          | 0/320 [00:00<?, ?it/s]"
      ]
     },
     "metadata": {},
     "output_type": "display_data"
    },
    {
     "name": "stdout",
     "output_type": "stream",
     "text": [
      "| Epoch: 351 | Train Loss: 1.224 | Train Acc: 81.88% | Val. Loss: 1.379 | Val. Acc: 65.62% | Val. Precision: 66.823 | Val. Recall: 65.625 | Val. F1-score: 62.670 |\n"
     ]
    },
    {
     "data": {
      "application/vnd.jupyter.widget-view+json": {
       "model_id": "b2d0d44c508843f1aa36bbb253294437",
       "version_major": 2,
       "version_minor": 0
      },
      "text/plain": [
       "  0%|          | 0/320 [00:00<?, ?it/s]"
      ]
     },
     "metadata": {},
     "output_type": "display_data"
    },
    {
     "name": "stdout",
     "output_type": "stream",
     "text": [
      "| Epoch: 352 | Train Loss: 1.224 | Train Acc: 81.88% | Val. Loss: 1.382 | Val. Acc: 66.25% | Val. Precision: 68.490 | Val. Recall: 66.250 | Val. F1-score: 63.500 |\n"
     ]
    },
    {
     "data": {
      "application/vnd.jupyter.widget-view+json": {
       "model_id": "353259a4bb5e413f9d22af21bb3029bb",
       "version_major": 2,
       "version_minor": 0
      },
      "text/plain": [
       "  0%|          | 0/320 [00:00<?, ?it/s]"
      ]
     },
     "metadata": {},
     "output_type": "display_data"
    },
    {
     "name": "stdout",
     "output_type": "stream",
     "text": [
      "| Epoch: 353 | Train Loss: 1.260 | Train Acc: 78.20% | Val. Loss: 1.385 | Val. Acc: 66.25% | Val. Precision: 67.500 | Val. Recall: 66.250 | Val. F1-score: 63.214 |\n"
     ]
    },
    {
     "data": {
      "application/vnd.jupyter.widget-view+json": {
       "model_id": "1b8b07ffd39c4be6a826891c85247fb9",
       "version_major": 2,
       "version_minor": 0
      },
      "text/plain": [
       "  0%|          | 0/320 [00:00<?, ?it/s]"
      ]
     },
     "metadata": {},
     "output_type": "display_data"
    },
    {
     "name": "stdout",
     "output_type": "stream",
     "text": [
      "| Epoch: 354 | Train Loss: 1.233 | Train Acc: 81.02% | Val. Loss: 1.395 | Val. Acc: 65.00% | Val. Precision: 65.938 | Val. Recall: 65.000 | Val. F1-score: 62.107 |\n"
     ]
    },
    {
     "data": {
      "application/vnd.jupyter.widget-view+json": {
       "model_id": "be03060e9f004e5999611c7dfc9cc74d",
       "version_major": 2,
       "version_minor": 0
      },
      "text/plain": [
       "  0%|          | 0/320 [00:00<?, ?it/s]"
      ]
     },
     "metadata": {},
     "output_type": "display_data"
    },
    {
     "name": "stdout",
     "output_type": "stream",
     "text": [
      "| Epoch: 355 | Train Loss: 1.230 | Train Acc: 81.41% | Val. Loss: 1.394 | Val. Acc: 65.62% | Val. Precision: 65.208 | Val. Recall: 65.625 | Val. F1-score: 62.086 |\n"
     ]
    },
    {
     "data": {
      "application/vnd.jupyter.widget-view+json": {
       "model_id": "8a75a323495e4f9cb5271ade52bc447c",
       "version_major": 2,
       "version_minor": 0
      },
      "text/plain": [
       "  0%|          | 0/320 [00:00<?, ?it/s]"
      ]
     },
     "metadata": {},
     "output_type": "display_data"
    },
    {
     "name": "stdout",
     "output_type": "stream",
     "text": [
      "| Epoch: 356 | Train Loss: 1.241 | Train Acc: 80.23% | Val. Loss: 1.383 | Val. Acc: 65.62% | Val. Precision: 65.938 | Val. Recall: 65.625 | Val. F1-score: 62.110 |\n"
     ]
    },
    {
     "data": {
      "application/vnd.jupyter.widget-view+json": {
       "model_id": "23bcd92cc77a44798101f5880d58722e",
       "version_major": 2,
       "version_minor": 0
      },
      "text/plain": [
       "  0%|          | 0/320 [00:00<?, ?it/s]"
      ]
     },
     "metadata": {},
     "output_type": "display_data"
    },
    {
     "name": "stdout",
     "output_type": "stream",
     "text": [
      "| Epoch: 357 | Train Loss: 1.241 | Train Acc: 80.23% | Val. Loss: 1.382 | Val. Acc: 66.25% | Val. Precision: 68.698 | Val. Recall: 66.250 | Val. F1-score: 63.420 |\n"
     ]
    },
    {
     "data": {
      "application/vnd.jupyter.widget-view+json": {
       "model_id": "d781222a061b4b62ba56ca198443fa6b",
       "version_major": 2,
       "version_minor": 0
      },
      "text/plain": [
       "  0%|          | 0/320 [00:00<?, ?it/s]"
      ]
     },
     "metadata": {},
     "output_type": "display_data"
    },
    {
     "name": "stdout",
     "output_type": "stream",
     "text": [
      "| Epoch: 358 | Train Loss: 1.235 | Train Acc: 81.02% | Val. Loss: 1.365 | Val. Acc: 68.12% | Val. Precision: 69.531 | Val. Recall: 68.125 | Val. F1-score: 65.503 |\n"
     ]
    },
    {
     "data": {
      "application/vnd.jupyter.widget-view+json": {
       "model_id": "7ec973e4b1b74954b7ea8dac239d35a4",
       "version_major": 2,
       "version_minor": 0
      },
      "text/plain": [
       "  0%|          | 0/320 [00:00<?, ?it/s]"
      ]
     },
     "metadata": {},
     "output_type": "display_data"
    },
    {
     "name": "stdout",
     "output_type": "stream",
     "text": [
      "| Epoch: 359 | Train Loss: 1.229 | Train Acc: 81.41% | Val. Loss: 1.382 | Val. Acc: 66.25% | Val. Precision: 66.979 | Val. Recall: 66.250 | Val. F1-score: 63.482 |\n"
     ]
    },
    {
     "data": {
      "application/vnd.jupyter.widget-view+json": {
       "model_id": "5b2ecde3622a4f63852cb70c24068a1d",
       "version_major": 2,
       "version_minor": 0
      },
      "text/plain": [
       "  0%|          | 0/320 [00:00<?, ?it/s]"
      ]
     },
     "metadata": {},
     "output_type": "display_data"
    },
    {
     "name": "stdout",
     "output_type": "stream",
     "text": [
      "| Epoch: 360 | Train Loss: 1.228 | Train Acc: 81.48% | Val. Loss: 1.377 | Val. Acc: 66.88% | Val. Precision: 66.667 | Val. Recall: 66.875 | Val. F1-score: 63.461 |\n"
     ]
    },
    {
     "data": {
      "application/vnd.jupyter.widget-view+json": {
       "model_id": "85d722f5c5624a398301c7921c118c58",
       "version_major": 2,
       "version_minor": 0
      },
      "text/plain": [
       "  0%|          | 0/320 [00:00<?, ?it/s]"
      ]
     },
     "metadata": {},
     "output_type": "display_data"
    },
    {
     "name": "stdout",
     "output_type": "stream",
     "text": [
      "| Epoch: 361 | Train Loss: 1.225 | Train Acc: 81.80% | Val. Loss: 1.376 | Val. Acc: 66.88% | Val. Precision: 66.875 | Val. Recall: 66.875 | Val. F1-score: 63.586 |\n"
     ]
    },
    {
     "data": {
      "application/vnd.jupyter.widget-view+json": {
       "model_id": "1e8780faf91b4c9ca141c9d8ba715724",
       "version_major": 2,
       "version_minor": 0
      },
      "text/plain": [
       "  0%|          | 0/320 [00:00<?, ?it/s]"
      ]
     },
     "metadata": {},
     "output_type": "display_data"
    },
    {
     "name": "stdout",
     "output_type": "stream",
     "text": [
      "| Epoch: 362 | Train Loss: 1.225 | Train Acc: 81.80% | Val. Loss: 1.374 | Val. Acc: 67.50% | Val. Precision: 66.979 | Val. Recall: 67.500 | Val. F1-score: 64.232 |\n"
     ]
    },
    {
     "data": {
      "application/vnd.jupyter.widget-view+json": {
       "model_id": "ada107c384aa468dadee59f2b5765858",
       "version_major": 2,
       "version_minor": 0
      },
      "text/plain": [
       "  0%|          | 0/320 [00:00<?, ?it/s]"
      ]
     },
     "metadata": {},
     "output_type": "display_data"
    },
    {
     "name": "stdout",
     "output_type": "stream",
     "text": [
      "| Epoch: 363 | Train Loss: 1.225 | Train Acc: 81.80% | Val. Loss: 1.380 | Val. Acc: 65.62% | Val. Precision: 66.250 | Val. Recall: 65.625 | Val. F1-score: 62.565 |\n"
     ]
    },
    {
     "data": {
      "application/vnd.jupyter.widget-view+json": {
       "model_id": "5562cc9c3f964d46b4b031102bb9a0b1",
       "version_major": 2,
       "version_minor": 0
      },
      "text/plain": [
       "  0%|          | 0/320 [00:00<?, ?it/s]"
      ]
     },
     "metadata": {},
     "output_type": "display_data"
    },
    {
     "name": "stdout",
     "output_type": "stream",
     "text": [
      "| Epoch: 364 | Train Loss: 1.224 | Train Acc: 81.88% | Val. Loss: 1.384 | Val. Acc: 65.00% | Val. Precision: 65.104 | Val. Recall: 65.000 | Val. F1-score: 61.586 |\n"
     ]
    },
    {
     "data": {
      "application/vnd.jupyter.widget-view+json": {
       "model_id": "f1413e2abb6d46dd9887c54803a7d746",
       "version_major": 2,
       "version_minor": 0
      },
      "text/plain": [
       "  0%|          | 0/320 [00:00<?, ?it/s]"
      ]
     },
     "metadata": {},
     "output_type": "display_data"
    },
    {
     "name": "stdout",
     "output_type": "stream",
     "text": [
      "| Epoch: 365 | Train Loss: 1.224 | Train Acc: 81.88% | Val. Loss: 1.365 | Val. Acc: 67.50% | Val. Precision: 66.667 | Val. Recall: 67.500 | Val. F1-score: 64.086 |\n"
     ]
    },
    {
     "data": {
      "application/vnd.jupyter.widget-view+json": {
       "model_id": "885d825d54dc435b9d38e9cf39b9d614",
       "version_major": 2,
       "version_minor": 0
      },
      "text/plain": [
       "  0%|          | 0/320 [00:00<?, ?it/s]"
      ]
     },
     "metadata": {},
     "output_type": "display_data"
    },
    {
     "name": "stdout",
     "output_type": "stream",
     "text": [
      "| Epoch: 366 | Train Loss: 1.233 | Train Acc: 80.94% | Val. Loss: 1.400 | Val. Acc: 63.12% | Val. Precision: 65.365 | Val. Recall: 63.125 | Val. F1-score: 60.125 |\n"
     ]
    },
    {
     "data": {
      "application/vnd.jupyter.widget-view+json": {
       "model_id": "91435b82aa9047398ba345db73add9f1",
       "version_major": 2,
       "version_minor": 0
      },
      "text/plain": [
       "  0%|          | 0/320 [00:00<?, ?it/s]"
      ]
     },
     "metadata": {},
     "output_type": "display_data"
    },
    {
     "name": "stdout",
     "output_type": "stream",
     "text": [
      "| Epoch: 367 | Train Loss: 1.242 | Train Acc: 80.23% | Val. Loss: 1.402 | Val. Acc: 63.12% | Val. Precision: 62.865 | Val. Recall: 63.125 | Val. F1-score: 59.440 |\n"
     ]
    },
    {
     "data": {
      "application/vnd.jupyter.widget-view+json": {
       "model_id": "1e7ae253294c4f428929176acb999b71",
       "version_major": 2,
       "version_minor": 0
      },
      "text/plain": [
       "  0%|          | 0/320 [00:00<?, ?it/s]"
      ]
     },
     "metadata": {},
     "output_type": "display_data"
    },
    {
     "name": "stdout",
     "output_type": "stream",
     "text": [
      "| Epoch: 368 | Train Loss: 1.239 | Train Acc: 80.55% | Val. Loss: 1.375 | Val. Acc: 67.50% | Val. Precision: 66.771 | Val. Recall: 67.500 | Val. F1-score: 64.068 |\n"
     ]
    },
    {
     "data": {
      "application/vnd.jupyter.widget-view+json": {
       "model_id": "f1ced4e2027c4b0089f8619fbde6a911",
       "version_major": 2,
       "version_minor": 0
      },
      "text/plain": [
       "  0%|          | 0/320 [00:00<?, ?it/s]"
      ]
     },
     "metadata": {},
     "output_type": "display_data"
    },
    {
     "name": "stdout",
     "output_type": "stream",
     "text": [
      "| Epoch: 369 | Train Loss: 1.235 | Train Acc: 80.94% | Val. Loss: 1.380 | Val. Acc: 65.62% | Val. Precision: 66.354 | Val. Recall: 65.625 | Val. F1-score: 62.193 |\n"
     ]
    },
    {
     "data": {
      "application/vnd.jupyter.widget-view+json": {
       "model_id": "b3c488f26fdf44cf8a10d68f70a79447",
       "version_major": 2,
       "version_minor": 0
      },
      "text/plain": [
       "  0%|          | 0/320 [00:00<?, ?it/s]"
      ]
     },
     "metadata": {},
     "output_type": "display_data"
    },
    {
     "name": "stdout",
     "output_type": "stream",
     "text": [
      "| Epoch: 370 | Train Loss: 1.230 | Train Acc: 81.41% | Val. Loss: 1.374 | Val. Acc: 67.50% | Val. Precision: 66.979 | Val. Recall: 67.500 | Val. F1-score: 64.027 |\n"
     ]
    },
    {
     "data": {
      "application/vnd.jupyter.widget-view+json": {
       "model_id": "894b0fa9176349d8aade9c936ccba57f",
       "version_major": 2,
       "version_minor": 0
      },
      "text/plain": [
       "  0%|          | 0/320 [00:00<?, ?it/s]"
      ]
     },
     "metadata": {},
     "output_type": "display_data"
    },
    {
     "name": "stdout",
     "output_type": "stream",
     "text": [
      "| Epoch: 371 | Train Loss: 1.225 | Train Acc: 81.80% | Val. Loss: 1.382 | Val. Acc: 65.62% | Val. Precision: 67.656 | Val. Recall: 65.625 | Val. F1-score: 62.961 |\n"
     ]
    },
    {
     "data": {
      "application/vnd.jupyter.widget-view+json": {
       "model_id": "b5bee8dc5fee42fea1d5e6e6af3bc665",
       "version_major": 2,
       "version_minor": 0
      },
      "text/plain": [
       "  0%|          | 0/320 [00:00<?, ?it/s]"
      ]
     },
     "metadata": {},
     "output_type": "display_data"
    },
    {
     "name": "stdout",
     "output_type": "stream",
     "text": [
      "| Epoch: 372 | Train Loss: 1.228 | Train Acc: 81.41% | Val. Loss: 1.382 | Val. Acc: 65.62% | Val. Precision: 66.667 | Val. Recall: 65.625 | Val. F1-score: 62.589 |\n"
     ]
    },
    {
     "data": {
      "application/vnd.jupyter.widget-view+json": {
       "model_id": "12911ed63f3e43019e67d4fdb02c91ce",
       "version_major": 2,
       "version_minor": 0
      },
      "text/plain": [
       "  0%|          | 0/320 [00:00<?, ?it/s]"
      ]
     },
     "metadata": {},
     "output_type": "display_data"
    },
    {
     "name": "stdout",
     "output_type": "stream",
     "text": [
      "| Epoch: 373 | Train Loss: 1.224 | Train Acc: 81.88% | Val. Loss: 1.384 | Val. Acc: 65.62% | Val. Precision: 66.458 | Val. Recall: 65.625 | Val. F1-score: 62.464 |\n"
     ]
    },
    {
     "data": {
      "application/vnd.jupyter.widget-view+json": {
       "model_id": "a9bc1008309844568ac39dbc107f9b04",
       "version_major": 2,
       "version_minor": 0
      },
      "text/plain": [
       "  0%|          | 0/320 [00:00<?, ?it/s]"
      ]
     },
     "metadata": {},
     "output_type": "display_data"
    },
    {
     "name": "stdout",
     "output_type": "stream",
     "text": [
      "| Epoch: 374 | Train Loss: 1.223 | Train Acc: 81.95% | Val. Loss: 1.382 | Val. Acc: 66.25% | Val. Precision: 68.177 | Val. Recall: 66.250 | Val. F1-score: 63.503 |\n"
     ]
    },
    {
     "data": {
      "application/vnd.jupyter.widget-view+json": {
       "model_id": "f606b1fd33db43bcbe10c24f4d52c7e6",
       "version_major": 2,
       "version_minor": 0
      },
      "text/plain": [
       "  0%|          | 0/320 [00:00<?, ?it/s]"
      ]
     },
     "metadata": {},
     "output_type": "display_data"
    },
    {
     "name": "stdout",
     "output_type": "stream",
     "text": [
      "| Epoch: 375 | Train Loss: 1.223 | Train Acc: 81.95% | Val. Loss: 1.382 | Val. Acc: 65.62% | Val. Precision: 67.760 | Val. Recall: 65.625 | Val. F1-score: 62.899 |\n"
     ]
    },
    {
     "data": {
      "application/vnd.jupyter.widget-view+json": {
       "model_id": "3f7b7e7519d44631bc1c6db5d1888315",
       "version_major": 2,
       "version_minor": 0
      },
      "text/plain": [
       "  0%|          | 0/320 [00:00<?, ?it/s]"
      ]
     },
     "metadata": {},
     "output_type": "display_data"
    },
    {
     "name": "stdout",
     "output_type": "stream",
     "text": [
      "| Epoch: 376 | Train Loss: 1.224 | Train Acc: 81.88% | Val. Loss: 1.401 | Val. Acc: 63.75% | Val. Precision: 67.240 | Val. Recall: 63.750 | Val. F1-score: 61.086 |\n"
     ]
    },
    {
     "data": {
      "application/vnd.jupyter.widget-view+json": {
       "model_id": "4fb9c2a766584675886eef2e0f0e542a",
       "version_major": 2,
       "version_minor": 0
      },
      "text/plain": [
       "  0%|          | 0/320 [00:00<?, ?it/s]"
      ]
     },
     "metadata": {},
     "output_type": "display_data"
    },
    {
     "name": "stdout",
     "output_type": "stream",
     "text": [
      "| Epoch: 377 | Train Loss: 1.224 | Train Acc: 81.95% | Val. Loss: 1.378 | Val. Acc: 66.25% | Val. Precision: 68.177 | Val. Recall: 66.250 | Val. F1-score: 63.420 |\n"
     ]
    },
    {
     "data": {
      "application/vnd.jupyter.widget-view+json": {
       "model_id": "2f2a59aa67874bd682201372894ebefb",
       "version_major": 2,
       "version_minor": 0
      },
      "text/plain": [
       "  0%|          | 0/320 [00:00<?, ?it/s]"
      ]
     },
     "metadata": {},
     "output_type": "display_data"
    },
    {
     "name": "stdout",
     "output_type": "stream",
     "text": [
      "| Epoch: 378 | Train Loss: 1.229 | Train Acc: 81.41% | Val. Loss: 1.382 | Val. Acc: 66.25% | Val. Precision: 66.927 | Val. Recall: 66.250 | Val. F1-score: 63.232 |\n"
     ]
    },
    {
     "data": {
      "application/vnd.jupyter.widget-view+json": {
       "model_id": "d9aaf9bbf8ef4192a5b1d9751973f4a9",
       "version_major": 2,
       "version_minor": 0
      },
      "text/plain": [
       "  0%|          | 0/320 [00:00<?, ?it/s]"
      ]
     },
     "metadata": {},
     "output_type": "display_data"
    },
    {
     "name": "stdout",
     "output_type": "stream",
     "text": [
      "| Epoch: 379 | Train Loss: 1.241 | Train Acc: 80.39% | Val. Loss: 1.389 | Val. Acc: 64.38% | Val. Precision: 67.188 | Val. Recall: 64.375 | Val. F1-score: 61.649 |\n"
     ]
    },
    {
     "data": {
      "application/vnd.jupyter.widget-view+json": {
       "model_id": "1770620170ed478b95c9963cc2101db1",
       "version_major": 2,
       "version_minor": 0
      },
      "text/plain": [
       "  0%|          | 0/320 [00:00<?, ?it/s]"
      ]
     },
     "metadata": {},
     "output_type": "display_data"
    },
    {
     "name": "stdout",
     "output_type": "stream",
     "text": [
      "| Epoch: 380 | Train Loss: 1.242 | Train Acc: 80.16% | Val. Loss: 1.384 | Val. Acc: 65.62% | Val. Precision: 65.729 | Val. Recall: 65.625 | Val. F1-score: 62.461 |\n"
     ]
    },
    {
     "data": {
      "application/vnd.jupyter.widget-view+json": {
       "model_id": "bff0c3989ba4402a911ec5bd5348e9ae",
       "version_major": 2,
       "version_minor": 0
      },
      "text/plain": [
       "  0%|          | 0/320 [00:00<?, ?it/s]"
      ]
     },
     "metadata": {},
     "output_type": "display_data"
    },
    {
     "name": "stdout",
     "output_type": "stream",
     "text": [
      "| Epoch: 381 | Train Loss: 1.236 | Train Acc: 80.86% | Val. Loss: 1.383 | Val. Acc: 65.62% | Val. Precision: 67.135 | Val. Recall: 65.625 | Val. F1-score: 62.753 |\n"
     ]
    },
    {
     "data": {
      "application/vnd.jupyter.widget-view+json": {
       "model_id": "6d49178b08ca4393bc984de2542032a3",
       "version_major": 2,
       "version_minor": 0
      },
      "text/plain": [
       "  0%|          | 0/320 [00:00<?, ?it/s]"
      ]
     },
     "metadata": {},
     "output_type": "display_data"
    },
    {
     "name": "stdout",
     "output_type": "stream",
     "text": [
      "| Epoch: 382 | Train Loss: 1.243 | Train Acc: 80.31% | Val. Loss: 1.379 | Val. Acc: 65.62% | Val. Precision: 64.375 | Val. Recall: 65.625 | Val. F1-score: 61.985 |\n"
     ]
    },
    {
     "data": {
      "application/vnd.jupyter.widget-view+json": {
       "model_id": "b830e7c931d84f05b389ee247eff792f",
       "version_major": 2,
       "version_minor": 0
      },
      "text/plain": [
       "  0%|          | 0/320 [00:00<?, ?it/s]"
      ]
     },
     "metadata": {},
     "output_type": "display_data"
    },
    {
     "name": "stdout",
     "output_type": "stream",
     "text": [
      "| Epoch: 383 | Train Loss: 1.239 | Train Acc: 80.55% | Val. Loss: 1.398 | Val. Acc: 64.38% | Val. Precision: 66.771 | Val. Recall: 64.375 | Val. F1-score: 61.628 |\n"
     ]
    },
    {
     "data": {
      "application/vnd.jupyter.widget-view+json": {
       "model_id": "e5e4ef619d58470eaac4fb303c991c6e",
       "version_major": 2,
       "version_minor": 0
      },
      "text/plain": [
       "  0%|          | 0/320 [00:00<?, ?it/s]"
      ]
     },
     "metadata": {},
     "output_type": "display_data"
    },
    {
     "name": "stdout",
     "output_type": "stream",
     "text": [
      "| Epoch: 384 | Train Loss: 1.233 | Train Acc: 80.94% | Val. Loss: 1.404 | Val. Acc: 63.75% | Val. Precision: 64.896 | Val. Recall: 63.750 | Val. F1-score: 60.277 |\n"
     ]
    },
    {
     "data": {
      "application/vnd.jupyter.widget-view+json": {
       "model_id": "ca78a01febf349c1b2f3004e337443de",
       "version_major": 2,
       "version_minor": 0
      },
      "text/plain": [
       "  0%|          | 0/320 [00:00<?, ?it/s]"
      ]
     },
     "metadata": {},
     "output_type": "display_data"
    },
    {
     "name": "stdout",
     "output_type": "stream",
     "text": [
      "| Epoch: 385 | Train Loss: 1.226 | Train Acc: 81.72% | Val. Loss: 1.391 | Val. Acc: 64.38% | Val. Precision: 66.250 | Val. Recall: 64.375 | Val. F1-score: 61.464 |\n"
     ]
    },
    {
     "data": {
      "application/vnd.jupyter.widget-view+json": {
       "model_id": "678e1f3c87114c50aa9b91ad29685dac",
       "version_major": 2,
       "version_minor": 0
      },
      "text/plain": [
       "  0%|          | 0/320 [00:00<?, ?it/s]"
      ]
     },
     "metadata": {},
     "output_type": "display_data"
    },
    {
     "name": "stdout",
     "output_type": "stream",
     "text": [
      "| Epoch: 386 | Train Loss: 1.225 | Train Acc: 81.88% | Val. Loss: 1.368 | Val. Acc: 68.12% | Val. Precision: 68.542 | Val. Recall: 68.125 | Val. F1-score: 65.048 |\n"
     ]
    },
    {
     "data": {
      "application/vnd.jupyter.widget-view+json": {
       "model_id": "25e3b2c227804f65839813c5c0e7b11c",
       "version_major": 2,
       "version_minor": 0
      },
      "text/plain": [
       "  0%|          | 0/320 [00:00<?, ?it/s]"
      ]
     },
     "metadata": {},
     "output_type": "display_data"
    },
    {
     "name": "stdout",
     "output_type": "stream",
     "text": [
      "| Epoch: 387 | Train Loss: 1.230 | Train Acc: 81.25% | Val. Loss: 1.390 | Val. Acc: 65.00% | Val. Precision: 64.375 | Val. Recall: 65.000 | Val. F1-score: 61.485 |\n"
     ]
    },
    {
     "data": {
      "application/vnd.jupyter.widget-view+json": {
       "model_id": "0311b75b2dcc4b5580ac513af7423dcc",
       "version_major": 2,
       "version_minor": 0
      },
      "text/plain": [
       "  0%|          | 0/320 [00:00<?, ?it/s]"
      ]
     },
     "metadata": {},
     "output_type": "display_data"
    },
    {
     "name": "stdout",
     "output_type": "stream",
     "text": [
      "| Epoch: 388 | Train Loss: 1.227 | Train Acc: 81.72% | Val. Loss: 1.372 | Val. Acc: 66.25% | Val. Precision: 66.562 | Val. Recall: 66.250 | Val. F1-score: 63.006 |\n"
     ]
    },
    {
     "data": {
      "application/vnd.jupyter.widget-view+json": {
       "model_id": "e970f34122ad4439903230e92acdff43",
       "version_major": 2,
       "version_minor": 0
      },
      "text/plain": [
       "  0%|          | 0/320 [00:00<?, ?it/s]"
      ]
     },
     "metadata": {},
     "output_type": "display_data"
    },
    {
     "name": "stdout",
     "output_type": "stream",
     "text": [
      "| Epoch: 389 | Train Loss: 1.226 | Train Acc: 81.72% | Val. Loss: 1.366 | Val. Acc: 66.88% | Val. Precision: 67.448 | Val. Recall: 66.875 | Val. F1-score: 63.732 |\n"
     ]
    },
    {
     "data": {
      "application/vnd.jupyter.widget-view+json": {
       "model_id": "f2e24569d4ef412c8aeadea456be5bfa",
       "version_major": 2,
       "version_minor": 0
      },
      "text/plain": [
       "  0%|          | 0/320 [00:00<?, ?it/s]"
      ]
     },
     "metadata": {},
     "output_type": "display_data"
    },
    {
     "name": "stdout",
     "output_type": "stream",
     "text": [
      "| Epoch: 390 | Train Loss: 1.223 | Train Acc: 82.03% | Val. Loss: 1.374 | Val. Acc: 67.50% | Val. Precision: 69.010 | Val. Recall: 67.500 | Val. F1-score: 64.607 |\n"
     ]
    },
    {
     "data": {
      "application/vnd.jupyter.widget-view+json": {
       "model_id": "4a8f1c944db44198adb820bde6cdb808",
       "version_major": 2,
       "version_minor": 0
      },
      "text/plain": [
       "  0%|          | 0/320 [00:00<?, ?it/s]"
      ]
     },
     "metadata": {},
     "output_type": "display_data"
    },
    {
     "name": "stdout",
     "output_type": "stream",
     "text": [
      "| Epoch: 391 | Train Loss: 1.221 | Train Acc: 82.27% | Val. Loss: 1.368 | Val. Acc: 66.25% | Val. Precision: 66.719 | Val. Recall: 66.250 | Val. F1-score: 62.940 |\n"
     ]
    },
    {
     "data": {
      "application/vnd.jupyter.widget-view+json": {
       "model_id": "2524f55399174c55b0d815426c359d9c",
       "version_major": 2,
       "version_minor": 0
      },
      "text/plain": [
       "  0%|          | 0/320 [00:00<?, ?it/s]"
      ]
     },
     "metadata": {},
     "output_type": "display_data"
    },
    {
     "name": "stdout",
     "output_type": "stream",
     "text": [
      "| Epoch: 392 | Train Loss: 1.220 | Train Acc: 82.42% | Val. Loss: 1.381 | Val. Acc: 66.25% | Val. Precision: 66.250 | Val. Recall: 66.250 | Val. F1-score: 62.443 |\n"
     ]
    },
    {
     "data": {
      "application/vnd.jupyter.widget-view+json": {
       "model_id": "e601c1be3a4d443ca2826392c7ab0e30",
       "version_major": 2,
       "version_minor": 0
      },
      "text/plain": [
       "  0%|          | 0/320 [00:00<?, ?it/s]"
      ]
     },
     "metadata": {},
     "output_type": "display_data"
    },
    {
     "name": "stdout",
     "output_type": "stream",
     "text": [
      "| Epoch: 393 | Train Loss: 1.227 | Train Acc: 81.56% | Val. Loss: 1.397 | Val. Acc: 64.38% | Val. Precision: 66.354 | Val. Recall: 64.375 | Val. F1-score: 61.402 |\n"
     ]
    },
    {
     "data": {
      "application/vnd.jupyter.widget-view+json": {
       "model_id": "65c1a323845342a793b9e1d38ee9b0b1",
       "version_major": 2,
       "version_minor": 0
      },
      "text/plain": [
       "  0%|          | 0/320 [00:00<?, ?it/s]"
      ]
     },
     "metadata": {},
     "output_type": "display_data"
    },
    {
     "name": "stdout",
     "output_type": "stream",
     "text": [
      "| Epoch: 394 | Train Loss: 1.228 | Train Acc: 81.56% | Val. Loss: 1.384 | Val. Acc: 65.00% | Val. Precision: 66.667 | Val. Recall: 65.000 | Val. F1-score: 61.961 |\n"
     ]
    },
    {
     "data": {
      "application/vnd.jupyter.widget-view+json": {
       "model_id": "6f80e3e6b8ff4496be0d9ebe075c7cae",
       "version_major": 2,
       "version_minor": 0
      },
      "text/plain": [
       "  0%|          | 0/320 [00:00<?, ?it/s]"
      ]
     },
     "metadata": {},
     "output_type": "display_data"
    },
    {
     "name": "stdout",
     "output_type": "stream",
     "text": [
      "| Epoch: 395 | Train Loss: 1.234 | Train Acc: 81.02% | Val. Loss: 1.351 | Val. Acc: 68.75% | Val. Precision: 67.708 | Val. Recall: 68.750 | Val. F1-score: 64.943 |\n"
     ]
    },
    {
     "data": {
      "application/vnd.jupyter.widget-view+json": {
       "model_id": "4fdf161fafb64be5adf9b78534ce248b",
       "version_major": 2,
       "version_minor": 0
      },
      "text/plain": [
       "  0%|          | 0/320 [00:00<?, ?it/s]"
      ]
     },
     "metadata": {},
     "output_type": "display_data"
    },
    {
     "name": "stdout",
     "output_type": "stream",
     "text": [
      "| Epoch: 396 | Train Loss: 1.231 | Train Acc: 81.33% | Val. Loss: 1.373 | Val. Acc: 67.50% | Val. Precision: 65.781 | Val. Recall: 67.500 | Val. F1-score: 63.836 |\n"
     ]
    },
    {
     "data": {
      "application/vnd.jupyter.widget-view+json": {
       "model_id": "463b96d2b74a49c2b65b067891c94125",
       "version_major": 2,
       "version_minor": 0
      },
      "text/plain": [
       "  0%|          | 0/320 [00:00<?, ?it/s]"
      ]
     },
     "metadata": {},
     "output_type": "display_data"
    },
    {
     "name": "stdout",
     "output_type": "stream",
     "text": [
      "| Epoch: 397 | Train Loss: 1.229 | Train Acc: 81.56% | Val. Loss: 1.381 | Val. Acc: 66.25% | Val. Precision: 67.031 | Val. Recall: 66.250 | Val. F1-score: 63.128 |\n"
     ]
    },
    {
     "data": {
      "application/vnd.jupyter.widget-view+json": {
       "model_id": "c4966c68ecc24fc1a53e87bef27f9d9c",
       "version_major": 2,
       "version_minor": 0
      },
      "text/plain": [
       "  0%|          | 0/320 [00:00<?, ?it/s]"
      ]
     },
     "metadata": {},
     "output_type": "display_data"
    },
    {
     "name": "stdout",
     "output_type": "stream",
     "text": [
      "| Epoch: 398 | Train Loss: 1.220 | Train Acc: 82.34% | Val. Loss: 1.385 | Val. Acc: 65.00% | Val. Precision: 65.469 | Val. Recall: 65.000 | Val. F1-score: 61.461 |\n"
     ]
    },
    {
     "data": {
      "application/vnd.jupyter.widget-view+json": {
       "model_id": "8aef5504f01f4ef88201f5ba0a76451b",
       "version_major": 2,
       "version_minor": 0
      },
      "text/plain": [
       "  0%|          | 0/320 [00:00<?, ?it/s]"
      ]
     },
     "metadata": {},
     "output_type": "display_data"
    },
    {
     "name": "stdout",
     "output_type": "stream",
     "text": [
      "| Epoch: 399 | Train Loss: 1.219 | Train Acc: 82.42% | Val. Loss: 1.377 | Val. Acc: 66.25% | Val. Precision: 67.448 | Val. Recall: 66.250 | Val. F1-score: 63.107 |\n"
     ]
    },
    {
     "data": {
      "application/vnd.jupyter.widget-view+json": {
       "model_id": "a4f65d3a3c034401aa93f0863e6be21f",
       "version_major": 2,
       "version_minor": 0
      },
      "text/plain": [
       "  0%|          | 0/320 [00:00<?, ?it/s]"
      ]
     },
     "metadata": {},
     "output_type": "display_data"
    },
    {
     "name": "stdout",
     "output_type": "stream",
     "text": [
      "| Epoch: 400 | Train Loss: 1.223 | Train Acc: 82.03% | Val. Loss: 1.368 | Val. Acc: 67.50% | Val. Precision: 67.865 | Val. Recall: 67.500 | Val. F1-score: 64.253 |\n"
     ]
    },
    {
     "data": {
      "application/vnd.jupyter.widget-view+json": {
       "model_id": "30a47d7fe22c47bfaa30f34187703b5c",
       "version_major": 2,
       "version_minor": 0
      },
      "text/plain": [
       "  0%|          | 0/320 [00:00<?, ?it/s]"
      ]
     },
     "metadata": {},
     "output_type": "display_data"
    },
    {
     "name": "stdout",
     "output_type": "stream",
     "text": [
      "| Epoch: 401 | Train Loss: 1.220 | Train Acc: 82.34% | Val. Loss: 1.379 | Val. Acc: 66.25% | Val. Precision: 67.187 | Val. Recall: 66.250 | Val. F1-score: 63.173 |\n"
     ]
    },
    {
     "data": {
      "application/vnd.jupyter.widget-view+json": {
       "model_id": "0567eb93b3d145ddbb5a547fbf8ba043",
       "version_major": 2,
       "version_minor": 0
      },
      "text/plain": [
       "  0%|          | 0/320 [00:00<?, ?it/s]"
      ]
     },
     "metadata": {},
     "output_type": "display_data"
    },
    {
     "name": "stdout",
     "output_type": "stream",
     "text": [
      "| Epoch: 402 | Train Loss: 1.222 | Train Acc: 82.19% | Val. Loss: 1.380 | Val. Acc: 65.62% | Val. Precision: 66.927 | Val. Recall: 65.625 | Val. F1-score: 62.503 |\n"
     ]
    },
    {
     "data": {
      "application/vnd.jupyter.widget-view+json": {
       "model_id": "1b897e3f0a8644b6b09fbaf6aee163b1",
       "version_major": 2,
       "version_minor": 0
      },
      "text/plain": [
       "  0%|          | 0/320 [00:00<?, ?it/s]"
      ]
     },
     "metadata": {},
     "output_type": "display_data"
    },
    {
     "name": "stdout",
     "output_type": "stream",
     "text": [
      "| Epoch: 403 | Train Loss: 1.226 | Train Acc: 81.88% | Val. Loss: 1.392 | Val. Acc: 65.00% | Val. Precision: 65.990 | Val. Recall: 65.000 | Val. F1-score: 61.673 |\n"
     ]
    },
    {
     "data": {
      "application/vnd.jupyter.widget-view+json": {
       "model_id": "2fd266de0b9a4d1b877b561b458654cb",
       "version_major": 2,
       "version_minor": 0
      },
      "text/plain": [
       "  0%|          | 0/320 [00:00<?, ?it/s]"
      ]
     },
     "metadata": {},
     "output_type": "display_data"
    },
    {
     "name": "stdout",
     "output_type": "stream",
     "text": [
      "| Epoch: 404 | Train Loss: 1.244 | Train Acc: 79.92% | Val. Loss: 1.411 | Val. Acc: 62.50% | Val. Precision: 62.031 | Val. Recall: 62.500 | Val. F1-score: 59.086 |\n"
     ]
    },
    {
     "data": {
      "application/vnd.jupyter.widget-view+json": {
       "model_id": "43ccddf9496e4c4aab2c18d9bc4eaad5",
       "version_major": 2,
       "version_minor": 0
      },
      "text/plain": [
       "  0%|          | 0/320 [00:00<?, ?it/s]"
      ]
     },
     "metadata": {},
     "output_type": "display_data"
    },
    {
     "name": "stdout",
     "output_type": "stream",
     "text": [
      "| Epoch: 405 | Train Loss: 1.230 | Train Acc: 81.48% | Val. Loss: 1.373 | Val. Acc: 66.88% | Val. Precision: 67.448 | Val. Recall: 66.875 | Val. F1-score: 63.815 |\n"
     ]
    },
    {
     "data": {
      "application/vnd.jupyter.widget-view+json": {
       "model_id": "b1a4dacbff3b4401825830620370d11d",
       "version_major": 2,
       "version_minor": 0
      },
      "text/plain": [
       "  0%|          | 0/320 [00:00<?, ?it/s]"
      ]
     },
     "metadata": {},
     "output_type": "display_data"
    },
    {
     "name": "stdout",
     "output_type": "stream",
     "text": [
      "| Epoch: 406 | Train Loss: 1.226 | Train Acc: 81.64% | Val. Loss: 1.388 | Val. Acc: 65.62% | Val. Precision: 66.667 | Val. Recall: 65.625 | Val. F1-score: 62.896 |\n"
     ]
    },
    {
     "data": {
      "application/vnd.jupyter.widget-view+json": {
       "model_id": "93f094fe9c9a4d678e0ca06f2b43cf84",
       "version_major": 2,
       "version_minor": 0
      },
      "text/plain": [
       "  0%|          | 0/320 [00:00<?, ?it/s]"
      ]
     },
     "metadata": {},
     "output_type": "display_data"
    },
    {
     "name": "stdout",
     "output_type": "stream",
     "text": [
      "| Epoch: 407 | Train Loss: 1.224 | Train Acc: 81.95% | Val. Loss: 1.364 | Val. Acc: 68.12% | Val. Precision: 69.583 | Val. Recall: 68.125 | Val. F1-score: 65.521 |\n"
     ]
    },
    {
     "data": {
      "application/vnd.jupyter.widget-view+json": {
       "model_id": "b6b3c1f39de3400db03405459346bfe1",
       "version_major": 2,
       "version_minor": 0
      },
      "text/plain": [
       "  0%|          | 0/320 [00:00<?, ?it/s]"
      ]
     },
     "metadata": {},
     "output_type": "display_data"
    },
    {
     "name": "stdout",
     "output_type": "stream",
     "text": [
      "| Epoch: 408 | Train Loss: 1.221 | Train Acc: 82.27% | Val. Loss: 1.380 | Val. Acc: 65.62% | Val. Precision: 67.969 | Val. Recall: 65.625 | Val. F1-score: 63.271 |\n"
     ]
    },
    {
     "data": {
      "application/vnd.jupyter.widget-view+json": {
       "model_id": "f553634fec24414da21867c6dc46cf7e",
       "version_major": 2,
       "version_minor": 0
      },
      "text/plain": [
       "  0%|          | 0/320 [00:00<?, ?it/s]"
      ]
     },
     "metadata": {},
     "output_type": "display_data"
    },
    {
     "name": "stdout",
     "output_type": "stream",
     "text": [
      "| Epoch: 409 | Train Loss: 1.219 | Train Acc: 82.34% | Val. Loss: 1.369 | Val. Acc: 68.12% | Val. Precision: 68.490 | Val. Recall: 68.125 | Val. F1-score: 65.170 |\n"
     ]
    },
    {
     "data": {
      "application/vnd.jupyter.widget-view+json": {
       "model_id": "bd5f43bdeee5414ab50f96e2a44a92e1",
       "version_major": 2,
       "version_minor": 0
      },
      "text/plain": [
       "  0%|          | 0/320 [00:00<?, ?it/s]"
      ]
     },
     "metadata": {},
     "output_type": "display_data"
    },
    {
     "name": "stdout",
     "output_type": "stream",
     "text": [
      "| Epoch: 410 | Train Loss: 1.218 | Train Acc: 82.50% | Val. Loss: 1.362 | Val. Acc: 68.12% | Val. Precision: 69.115 | Val. Recall: 68.125 | Val. F1-score: 65.274 |\n"
     ]
    },
    {
     "data": {
      "application/vnd.jupyter.widget-view+json": {
       "model_id": "8775c93f8e6341458e83604f111540ec",
       "version_major": 2,
       "version_minor": 0
      },
      "text/plain": [
       "  0%|          | 0/320 [00:00<?, ?it/s]"
      ]
     },
     "metadata": {},
     "output_type": "display_data"
    },
    {
     "name": "stdout",
     "output_type": "stream",
     "text": [
      "| Epoch: 411 | Train Loss: 1.217 | Train Acc: 82.66% | Val. Loss: 1.369 | Val. Acc: 67.50% | Val. Precision: 69.010 | Val. Recall: 67.500 | Val. F1-score: 64.753 |\n"
     ]
    },
    {
     "data": {
      "application/vnd.jupyter.widget-view+json": {
       "model_id": "564ad50cdd3c4c7780c57600a4ec6c06",
       "version_major": 2,
       "version_minor": 0
      },
      "text/plain": [
       "  0%|          | 0/320 [00:00<?, ?it/s]"
      ]
     },
     "metadata": {},
     "output_type": "display_data"
    },
    {
     "name": "stdout",
     "output_type": "stream",
     "text": [
      "| Epoch: 412 | Train Loss: 1.216 | Train Acc: 82.73% | Val. Loss: 1.366 | Val. Acc: 68.12% | Val. Precision: 69.010 | Val. Recall: 68.125 | Val. F1-score: 65.170 |\n"
     ]
    },
    {
     "data": {
      "application/vnd.jupyter.widget-view+json": {
       "model_id": "d3301916f0eb4109bdf04f58775fb2a8",
       "version_major": 2,
       "version_minor": 0
      },
      "text/plain": [
       "  0%|          | 0/320 [00:00<?, ?it/s]"
      ]
     },
     "metadata": {},
     "output_type": "display_data"
    },
    {
     "name": "stdout",
     "output_type": "stream",
     "text": [
      "| Epoch: 413 | Train Loss: 1.216 | Train Acc: 82.73% | Val. Loss: 1.369 | Val. Acc: 68.12% | Val. Precision: 69.427 | Val. Recall: 68.125 | Val. F1-score: 65.420 |\n"
     ]
    },
    {
     "data": {
      "application/vnd.jupyter.widget-view+json": {
       "model_id": "d795e523721a43239bc93ab6b2940879",
       "version_major": 2,
       "version_minor": 0
      },
      "text/plain": [
       "  0%|          | 0/320 [00:00<?, ?it/s]"
      ]
     },
     "metadata": {},
     "output_type": "display_data"
    },
    {
     "name": "stdout",
     "output_type": "stream",
     "text": [
      "| Epoch: 414 | Train Loss: 1.216 | Train Acc: 82.73% | Val. Loss: 1.361 | Val. Acc: 68.75% | Val. Precision: 69.219 | Val. Recall: 68.750 | Val. F1-score: 65.670 |\n"
     ]
    },
    {
     "data": {
      "application/vnd.jupyter.widget-view+json": {
       "model_id": "f6c8268a12634d91b84109f470abfb0a",
       "version_major": 2,
       "version_minor": 0
      },
      "text/plain": [
       "  0%|          | 0/320 [00:00<?, ?it/s]"
      ]
     },
     "metadata": {},
     "output_type": "display_data"
    },
    {
     "name": "stdout",
     "output_type": "stream",
     "text": [
      "| Epoch: 415 | Train Loss: 1.216 | Train Acc: 82.73% | Val. Loss: 1.366 | Val. Acc: 68.12% | Val. Precision: 67.500 | Val. Recall: 68.125 | Val. F1-score: 64.795 |\n"
     ]
    },
    {
     "data": {
      "application/vnd.jupyter.widget-view+json": {
       "model_id": "f560be2ae26441d38227e01decd75a4f",
       "version_major": 2,
       "version_minor": 0
      },
      "text/plain": [
       "  0%|          | 0/320 [00:00<?, ?it/s]"
      ]
     },
     "metadata": {},
     "output_type": "display_data"
    },
    {
     "name": "stdout",
     "output_type": "stream",
     "text": [
      "| Epoch: 416 | Train Loss: 1.216 | Train Acc: 82.73% | Val. Loss: 1.371 | Val. Acc: 66.88% | Val. Precision: 65.521 | Val. Recall: 66.875 | Val. F1-score: 63.107 |\n"
     ]
    },
    {
     "data": {
      "application/vnd.jupyter.widget-view+json": {
       "model_id": "caad9f6388e4473ebc52832817df1421",
       "version_major": 2,
       "version_minor": 0
      },
      "text/plain": [
       "  0%|          | 0/320 [00:00<?, ?it/s]"
      ]
     },
     "metadata": {},
     "output_type": "display_data"
    },
    {
     "name": "stdout",
     "output_type": "stream",
     "text": [
      "| Epoch: 417 | Train Loss: 1.226 | Train Acc: 81.80% | Val. Loss: 1.381 | Val. Acc: 65.62% | Val. Precision: 66.823 | Val. Recall: 65.625 | Val. F1-score: 63.024 |\n"
     ]
    },
    {
     "data": {
      "application/vnd.jupyter.widget-view+json": {
       "model_id": "40a452e8e24b427e86fb2ae50c53b2b2",
       "version_major": 2,
       "version_minor": 0
      },
      "text/plain": [
       "  0%|          | 0/320 [00:00<?, ?it/s]"
      ]
     },
     "metadata": {},
     "output_type": "display_data"
    },
    {
     "name": "stdout",
     "output_type": "stream",
     "text": [
      "| Epoch: 418 | Train Loss: 1.247 | Train Acc: 79.45% | Val. Loss: 1.383 | Val. Acc: 65.62% | Val. Precision: 65.052 | Val. Recall: 65.625 | Val. F1-score: 62.524 |\n"
     ]
    },
    {
     "data": {
      "application/vnd.jupyter.widget-view+json": {
       "model_id": "811e6050dc7d4d7a9a346b70eef1202d",
       "version_major": 2,
       "version_minor": 0
      },
      "text/plain": [
       "  0%|          | 0/320 [00:00<?, ?it/s]"
      ]
     },
     "metadata": {},
     "output_type": "display_data"
    },
    {
     "name": "stdout",
     "output_type": "stream",
     "text": [
      "| Epoch: 419 | Train Loss: 1.230 | Train Acc: 81.48% | Val. Loss: 1.365 | Val. Acc: 67.50% | Val. Precision: 68.646 | Val. Recall: 67.500 | Val. F1-score: 64.836 |\n"
     ]
    },
    {
     "data": {
      "application/vnd.jupyter.widget-view+json": {
       "model_id": "fca5d5af7de9491989f9f84dc6b7f096",
       "version_major": 2,
       "version_minor": 0
      },
      "text/plain": [
       "  0%|          | 0/320 [00:00<?, ?it/s]"
      ]
     },
     "metadata": {},
     "output_type": "display_data"
    },
    {
     "name": "stdout",
     "output_type": "stream",
     "text": [
      "| Epoch: 420 | Train Loss: 1.230 | Train Acc: 81.33% | Val. Loss: 1.353 | Val. Acc: 68.75% | Val. Precision: 67.708 | Val. Recall: 68.750 | Val. F1-score: 65.318 |\n"
     ]
    },
    {
     "data": {
      "application/vnd.jupyter.widget-view+json": {
       "model_id": "a210dd435cab4d7896ffd946d6a55f56",
       "version_major": 2,
       "version_minor": 0
      },
      "text/plain": [
       "  0%|          | 0/320 [00:00<?, ?it/s]"
      ]
     },
     "metadata": {},
     "output_type": "display_data"
    },
    {
     "name": "stdout",
     "output_type": "stream",
     "text": [
      "| Epoch: 421 | Train Loss: 1.220 | Train Acc: 82.27% | Val. Loss: 1.359 | Val. Acc: 68.12% | Val. Precision: 69.010 | Val. Recall: 68.125 | Val. F1-score: 65.170 |\n"
     ]
    },
    {
     "data": {
      "application/vnd.jupyter.widget-view+json": {
       "model_id": "501019dee56f4297920416ffd1094527",
       "version_major": 2,
       "version_minor": 0
      },
      "text/plain": [
       "  0%|          | 0/320 [00:00<?, ?it/s]"
      ]
     },
     "metadata": {},
     "output_type": "display_data"
    },
    {
     "name": "stdout",
     "output_type": "stream",
     "text": [
      "| Epoch: 422 | Train Loss: 1.219 | Train Acc: 82.42% | Val. Loss: 1.364 | Val. Acc: 67.50% | Val. Precision: 68.594 | Val. Recall: 67.500 | Val. F1-score: 64.378 |\n"
     ]
    },
    {
     "data": {
      "application/vnd.jupyter.widget-view+json": {
       "model_id": "2593be8b4c6f4ac6ba7d622dfe64047e",
       "version_major": 2,
       "version_minor": 0
      },
      "text/plain": [
       "  0%|          | 0/320 [00:00<?, ?it/s]"
      ]
     },
     "metadata": {},
     "output_type": "display_data"
    },
    {
     "name": "stdout",
     "output_type": "stream",
     "text": [
      "| Epoch: 423 | Train Loss: 1.218 | Train Acc: 82.50% | Val. Loss: 1.360 | Val. Acc: 68.75% | Val. Precision: 68.802 | Val. Recall: 68.750 | Val. F1-score: 65.420 |\n"
     ]
    },
    {
     "data": {
      "application/vnd.jupyter.widget-view+json": {
       "model_id": "94c9a625a2444a9bb6f2491b2dcd759d",
       "version_major": 2,
       "version_minor": 0
      },
      "text/plain": [
       "  0%|          | 0/320 [00:00<?, ?it/s]"
      ]
     },
     "metadata": {},
     "output_type": "display_data"
    },
    {
     "name": "stdout",
     "output_type": "stream",
     "text": [
      "| Epoch: 424 | Train Loss: 1.218 | Train Acc: 82.50% | Val. Loss: 1.355 | Val. Acc: 68.75% | Val. Precision: 68.802 | Val. Recall: 68.750 | Val. F1-score: 65.420 |\n"
     ]
    },
    {
     "data": {
      "application/vnd.jupyter.widget-view+json": {
       "model_id": "5176fd0ff9d7447484b15a91071c5269",
       "version_major": 2,
       "version_minor": 0
      },
      "text/plain": [
       "  0%|          | 0/320 [00:00<?, ?it/s]"
      ]
     },
     "metadata": {},
     "output_type": "display_data"
    },
    {
     "name": "stdout",
     "output_type": "stream",
     "text": [
      "| Epoch: 425 | Train Loss: 1.219 | Train Acc: 82.42% | Val. Loss: 1.366 | Val. Acc: 67.50% | Val. Precision: 67.135 | Val. Recall: 67.500 | Val. F1-score: 63.961 |\n"
     ]
    },
    {
     "data": {
      "application/vnd.jupyter.widget-view+json": {
       "model_id": "9d5645b4c70c481a93509aa3b45fb1b8",
       "version_major": 2,
       "version_minor": 0
      },
      "text/plain": [
       "  0%|          | 0/320 [00:00<?, ?it/s]"
      ]
     },
     "metadata": {},
     "output_type": "display_data"
    },
    {
     "name": "stdout",
     "output_type": "stream",
     "text": [
      "| Epoch: 426 | Train Loss: 1.226 | Train Acc: 81.80% | Val. Loss: 1.388 | Val. Acc: 65.62% | Val. Precision: 66.615 | Val. Recall: 65.625 | Val. F1-score: 62.878 |\n"
     ]
    },
    {
     "data": {
      "application/vnd.jupyter.widget-view+json": {
       "model_id": "bcfcad98873d4d88bca231bab086f1ba",
       "version_major": 2,
       "version_minor": 0
      },
      "text/plain": [
       "  0%|          | 0/320 [00:00<?, ?it/s]"
      ]
     },
     "metadata": {},
     "output_type": "display_data"
    },
    {
     "name": "stdout",
     "output_type": "stream",
     "text": [
      "| Epoch: 427 | Train Loss: 1.227 | Train Acc: 81.72% | Val. Loss: 1.400 | Val. Acc: 63.12% | Val. Precision: 64.583 | Val. Recall: 63.125 | Val. F1-score: 59.857 |\n"
     ]
    },
    {
     "data": {
      "application/vnd.jupyter.widget-view+json": {
       "model_id": "72c7857ce4544a8f8b99d15f8eaf1a8e",
       "version_major": 2,
       "version_minor": 0
      },
      "text/plain": [
       "  0%|          | 0/320 [00:00<?, ?it/s]"
      ]
     },
     "metadata": {},
     "output_type": "display_data"
    },
    {
     "name": "stdout",
     "output_type": "stream",
     "text": [
      "| Epoch: 428 | Train Loss: 1.238 | Train Acc: 80.55% | Val. Loss: 1.372 | Val. Acc: 66.25% | Val. Precision: 66.510 | Val. Recall: 66.250 | Val. F1-score: 63.086 |\n"
     ]
    },
    {
     "data": {
      "application/vnd.jupyter.widget-view+json": {
       "model_id": "0dfa17cd73e948ef9ebd62c0d141349d",
       "version_major": 2,
       "version_minor": 0
      },
      "text/plain": [
       "  0%|          | 0/320 [00:00<?, ?it/s]"
      ]
     },
     "metadata": {},
     "output_type": "display_data"
    },
    {
     "name": "stdout",
     "output_type": "stream",
     "text": [
      "| Epoch: 429 | Train Loss: 1.229 | Train Acc: 81.56% | Val. Loss: 1.360 | Val. Acc: 68.12% | Val. Precision: 68.125 | Val. Recall: 68.125 | Val. F1-score: 64.631 |\n"
     ]
    },
    {
     "data": {
      "application/vnd.jupyter.widget-view+json": {
       "model_id": "b61736b83db843fa885e635a26821ab1",
       "version_major": 2,
       "version_minor": 0
      },
      "text/plain": [
       "  0%|          | 0/320 [00:00<?, ?it/s]"
      ]
     },
     "metadata": {},
     "output_type": "display_data"
    },
    {
     "name": "stdout",
     "output_type": "stream",
     "text": [
      "| Epoch: 430 | Train Loss: 1.221 | Train Acc: 82.19% | Val. Loss: 1.366 | Val. Acc: 68.12% | Val. Precision: 69.427 | Val. Recall: 68.125 | Val. F1-score: 65.500 |\n"
     ]
    },
    {
     "data": {
      "application/vnd.jupyter.widget-view+json": {
       "model_id": "7190cd93bc364b48bc3d27aaa2e55238",
       "version_major": 2,
       "version_minor": 0
      },
      "text/plain": [
       "  0%|          | 0/320 [00:00<?, ?it/s]"
      ]
     },
     "metadata": {},
     "output_type": "display_data"
    },
    {
     "name": "stdout",
     "output_type": "stream",
     "text": [
      "| Epoch: 431 | Train Loss: 1.232 | Train Acc: 81.33% | Val. Loss: 1.354 | Val. Acc: 68.75% | Val. Precision: 69.323 | Val. Recall: 68.750 | Val. F1-score: 65.732 |\n"
     ]
    },
    {
     "data": {
      "application/vnd.jupyter.widget-view+json": {
       "model_id": "e939350ed27348768ba8b6180e9bda76",
       "version_major": 2,
       "version_minor": 0
      },
      "text/plain": [
       "  0%|          | 0/320 [00:00<?, ?it/s]"
      ]
     },
     "metadata": {},
     "output_type": "display_data"
    },
    {
     "name": "stdout",
     "output_type": "stream",
     "text": [
      "| Epoch: 432 | Train Loss: 1.224 | Train Acc: 81.95% | Val. Loss: 1.376 | Val. Acc: 66.25% | Val. Precision: 67.292 | Val. Recall: 66.250 | Val. F1-score: 63.190 |\n"
     ]
    },
    {
     "data": {
      "application/vnd.jupyter.widget-view+json": {
       "model_id": "e97b6e4580e24b5faa1476b0336b722a",
       "version_major": 2,
       "version_minor": 0
      },
      "text/plain": [
       "  0%|          | 0/320 [00:00<?, ?it/s]"
      ]
     },
     "metadata": {},
     "output_type": "display_data"
    },
    {
     "name": "stdout",
     "output_type": "stream",
     "text": [
      "| Epoch: 433 | Train Loss: 1.217 | Train Acc: 82.58% | Val. Loss: 1.355 | Val. Acc: 68.12% | Val. Precision: 68.802 | Val. Recall: 68.125 | Val. F1-score: 65.274 |\n"
     ]
    },
    {
     "data": {
      "application/vnd.jupyter.widget-view+json": {
       "model_id": "38f88af6a3e74e8394683f3499b829fb",
       "version_major": 2,
       "version_minor": 0
      },
      "text/plain": [
       "  0%|          | 0/320 [00:00<?, ?it/s]"
      ]
     },
     "metadata": {},
     "output_type": "display_data"
    },
    {
     "name": "stdout",
     "output_type": "stream",
     "text": [
      "| Epoch: 434 | Train Loss: 1.225 | Train Acc: 81.80% | Val. Loss: 1.345 | Val. Acc: 70.00% | Val. Precision: 69.740 | Val. Recall: 70.000 | Val. F1-score: 66.899 |\n"
     ]
    },
    {
     "data": {
      "application/vnd.jupyter.widget-view+json": {
       "model_id": "dbbce1b689c448c9af7c66a3a0c92ef8",
       "version_major": 2,
       "version_minor": 0
      },
      "text/plain": [
       "  0%|          | 0/320 [00:00<?, ?it/s]"
      ]
     },
     "metadata": {},
     "output_type": "display_data"
    },
    {
     "name": "stdout",
     "output_type": "stream",
     "text": [
      "| Epoch: 435 | Train Loss: 1.220 | Train Acc: 82.42% | Val. Loss: 1.350 | Val. Acc: 68.75% | Val. Precision: 69.635 | Val. Recall: 68.750 | Val. F1-score: 65.878 |\n"
     ]
    },
    {
     "data": {
      "application/vnd.jupyter.widget-view+json": {
       "model_id": "d1dd59253c7e4e228de379b40f31c5c3",
       "version_major": 2,
       "version_minor": 0
      },
      "text/plain": [
       "  0%|          | 0/320 [00:00<?, ?it/s]"
      ]
     },
     "metadata": {},
     "output_type": "display_data"
    },
    {
     "name": "stdout",
     "output_type": "stream",
     "text": [
      "| Epoch: 436 | Train Loss: 1.231 | Train Acc: 81.25% | Val. Loss: 1.357 | Val. Acc: 68.75% | Val. Precision: 68.906 | Val. Recall: 68.750 | Val. F1-score: 65.503 |\n"
     ]
    },
    {
     "data": {
      "application/vnd.jupyter.widget-view+json": {
       "model_id": "5c5c37895ae44f92a665abd5a63c3496",
       "version_major": 2,
       "version_minor": 0
      },
      "text/plain": [
       "  0%|          | 0/320 [00:00<?, ?it/s]"
      ]
     },
     "metadata": {},
     "output_type": "display_data"
    },
    {
     "name": "stdout",
     "output_type": "stream",
     "text": [
      "| Epoch: 437 | Train Loss: 1.219 | Train Acc: 82.50% | Val. Loss: 1.348 | Val. Acc: 69.38% | Val. Precision: 68.490 | Val. Recall: 69.375 | Val. F1-score: 65.815 |\n"
     ]
    },
    {
     "data": {
      "application/vnd.jupyter.widget-view+json": {
       "model_id": "9d229977f7fd4df3afcfec56ea6d326b",
       "version_major": 2,
       "version_minor": 0
      },
      "text/plain": [
       "  0%|          | 0/320 [00:00<?, ?it/s]"
      ]
     },
     "metadata": {},
     "output_type": "display_data"
    },
    {
     "name": "stdout",
     "output_type": "stream",
     "text": [
      "| Epoch: 438 | Train Loss: 1.219 | Train Acc: 82.42% | Val. Loss: 1.344 | Val. Acc: 70.00% | Val. Precision: 70.156 | Val. Recall: 70.000 | Val. F1-score: 67.107 |\n"
     ]
    },
    {
     "data": {
      "application/vnd.jupyter.widget-view+json": {
       "model_id": "6a53366924ad483baa2df38d0ca809e0",
       "version_major": 2,
       "version_minor": 0
      },
      "text/plain": [
       "  0%|          | 0/320 [00:00<?, ?it/s]"
      ]
     },
     "metadata": {},
     "output_type": "display_data"
    },
    {
     "name": "stdout",
     "output_type": "stream",
     "text": [
      "| Epoch: 439 | Train Loss: 1.223 | Train Acc: 82.03% | Val. Loss: 1.353 | Val. Acc: 68.75% | Val. Precision: 67.240 | Val. Recall: 68.750 | Val. F1-score: 64.923 |\n"
     ]
    },
    {
     "data": {
      "application/vnd.jupyter.widget-view+json": {
       "model_id": "63287c509ed444f19b92733e99d5eb88",
       "version_major": 2,
       "version_minor": 0
      },
      "text/plain": [
       "  0%|          | 0/320 [00:00<?, ?it/s]"
      ]
     },
     "metadata": {},
     "output_type": "display_data"
    },
    {
     "name": "stdout",
     "output_type": "stream",
     "text": [
      "| Epoch: 440 | Train Loss: 1.231 | Train Acc: 81.33% | Val. Loss: 1.346 | Val. Acc: 69.38% | Val. Precision: 67.552 | Val. Recall: 69.375 | Val. F1-score: 65.315 |\n"
     ]
    },
    {
     "data": {
      "application/vnd.jupyter.widget-view+json": {
       "model_id": "931a65b438334d13b0fe770bfbd2d352",
       "version_major": 2,
       "version_minor": 0
      },
      "text/plain": [
       "  0%|          | 0/320 [00:00<?, ?it/s]"
      ]
     },
     "metadata": {},
     "output_type": "display_data"
    },
    {
     "name": "stdout",
     "output_type": "stream",
     "text": [
      "| Epoch: 441 | Train Loss: 1.230 | Train Acc: 81.41% | Val. Loss: 1.362 | Val. Acc: 66.88% | Val. Precision: 66.719 | Val. Recall: 66.875 | Val. F1-score: 63.232 |\n"
     ]
    },
    {
     "data": {
      "application/vnd.jupyter.widget-view+json": {
       "model_id": "2d363e5d9daf4ba6aaf60dbf35c88f3a",
       "version_major": 2,
       "version_minor": 0
      },
      "text/plain": [
       "  0%|          | 0/320 [00:00<?, ?it/s]"
      ]
     },
     "metadata": {},
     "output_type": "display_data"
    },
    {
     "name": "stdout",
     "output_type": "stream",
     "text": [
      "| Epoch: 442 | Train Loss: 1.222 | Train Acc: 82.19% | Val. Loss: 1.367 | Val. Acc: 66.88% | Val. Precision: 67.969 | Val. Recall: 66.875 | Val. F1-score: 63.711 |\n"
     ]
    },
    {
     "data": {
      "application/vnd.jupyter.widget-view+json": {
       "model_id": "3f021c31656b47fd90db076f4be56b89",
       "version_major": 2,
       "version_minor": 0
      },
      "text/plain": [
       "  0%|          | 0/320 [00:00<?, ?it/s]"
      ]
     },
     "metadata": {},
     "output_type": "display_data"
    },
    {
     "name": "stdout",
     "output_type": "stream",
     "text": [
      "| Epoch: 443 | Train Loss: 1.226 | Train Acc: 81.64% | Val. Loss: 1.382 | Val. Acc: 65.00% | Val. Precision: 65.208 | Val. Recall: 65.000 | Val. F1-score: 61.711 |\n"
     ]
    },
    {
     "data": {
      "application/vnd.jupyter.widget-view+json": {
       "model_id": "2fd490f94bd748cdbc655502fcdcc602",
       "version_major": 2,
       "version_minor": 0
      },
      "text/plain": [
       "  0%|          | 0/320 [00:00<?, ?it/s]"
      ]
     },
     "metadata": {},
     "output_type": "display_data"
    },
    {
     "name": "stdout",
     "output_type": "stream",
     "text": [
      "| Epoch: 444 | Train Loss: 1.220 | Train Acc: 82.27% | Val. Loss: 1.369 | Val. Acc: 68.12% | Val. Precision: 67.292 | Val. Recall: 68.125 | Val. F1-score: 64.503 |\n"
     ]
    },
    {
     "data": {
      "application/vnd.jupyter.widget-view+json": {
       "model_id": "3072fb302d17481dab1dbd5dab1097ed",
       "version_major": 2,
       "version_minor": 0
      },
      "text/plain": [
       "  0%|          | 0/320 [00:00<?, ?it/s]"
      ]
     },
     "metadata": {},
     "output_type": "display_data"
    },
    {
     "name": "stdout",
     "output_type": "stream",
     "text": [
      "| Epoch: 445 | Train Loss: 1.216 | Train Acc: 82.66% | Val. Loss: 1.375 | Val. Acc: 66.25% | Val. Precision: 67.865 | Val. Recall: 66.250 | Val. F1-score: 63.190 |\n"
     ]
    },
    {
     "data": {
      "application/vnd.jupyter.widget-view+json": {
       "model_id": "6095fef383f647828fe35758fefd00eb",
       "version_major": 2,
       "version_minor": 0
      },
      "text/plain": [
       "  0%|          | 0/320 [00:00<?, ?it/s]"
      ]
     },
     "metadata": {},
     "output_type": "display_data"
    },
    {
     "name": "stdout",
     "output_type": "stream",
     "text": [
      "| Epoch: 446 | Train Loss: 1.215 | Train Acc: 82.81% | Val. Loss: 1.374 | Val. Acc: 66.25% | Val. Precision: 66.719 | Val. Recall: 66.250 | Val. F1-score: 62.815 |\n"
     ]
    },
    {
     "data": {
      "application/vnd.jupyter.widget-view+json": {
       "model_id": "38568730ea9d48e4bb6baaa1fe4faa3d",
       "version_major": 2,
       "version_minor": 0
      },
      "text/plain": [
       "  0%|          | 0/320 [00:00<?, ?it/s]"
      ]
     },
     "metadata": {},
     "output_type": "display_data"
    },
    {
     "name": "stdout",
     "output_type": "stream",
     "text": [
      "| Epoch: 447 | Train Loss: 1.215 | Train Acc: 82.81% | Val. Loss: 1.371 | Val. Acc: 65.62% | Val. Precision: 65.938 | Val. Recall: 65.625 | Val. F1-score: 62.190 |\n"
     ]
    },
    {
     "data": {
      "application/vnd.jupyter.widget-view+json": {
       "model_id": "aa61f56036074e5ab20e511c5db93a5c",
       "version_major": 2,
       "version_minor": 0
      },
      "text/plain": [
       "  0%|          | 0/320 [00:00<?, ?it/s]"
      ]
     },
     "metadata": {},
     "output_type": "display_data"
    },
    {
     "name": "stdout",
     "output_type": "stream",
     "text": [
      "| Epoch: 448 | Train Loss: 1.215 | Train Acc: 82.81% | Val. Loss: 1.376 | Val. Acc: 65.62% | Val. Precision: 66.302 | Val. Recall: 65.625 | Val. F1-score: 62.149 |\n"
     ]
    },
    {
     "data": {
      "application/vnd.jupyter.widget-view+json": {
       "model_id": "e310484a5d584efbb44cf2aef4ea19bf",
       "version_major": 2,
       "version_minor": 0
      },
      "text/plain": [
       "  0%|          | 0/320 [00:00<?, ?it/s]"
      ]
     },
     "metadata": {},
     "output_type": "display_data"
    },
    {
     "name": "stdout",
     "output_type": "stream",
     "text": [
      "| Epoch: 449 | Train Loss: 1.215 | Train Acc: 82.81% | Val. Loss: 1.377 | Val. Acc: 65.00% | Val. Precision: 66.302 | Val. Recall: 65.000 | Val. F1-score: 61.670 |\n"
     ]
    },
    {
     "data": {
      "application/vnd.jupyter.widget-view+json": {
       "model_id": "8b05c6d6d41a471b91993420b360f3c7",
       "version_major": 2,
       "version_minor": 0
      },
      "text/plain": [
       "  0%|          | 0/320 [00:00<?, ?it/s]"
      ]
     },
     "metadata": {},
     "output_type": "display_data"
    },
    {
     "name": "stdout",
     "output_type": "stream",
     "text": [
      "| Epoch: 450 | Train Loss: 1.215 | Train Acc: 82.81% | Val. Loss: 1.383 | Val. Acc: 65.62% | Val. Precision: 67.135 | Val. Recall: 65.625 | Val. F1-score: 62.399 |\n"
     ]
    },
    {
     "data": {
      "application/vnd.jupyter.widget-view+json": {
       "model_id": "29d10c1aba014c75a69bb467a91613b2",
       "version_major": 2,
       "version_minor": 0
      },
      "text/plain": [
       "  0%|          | 0/320 [00:00<?, ?it/s]"
      ]
     },
     "metadata": {},
     "output_type": "display_data"
    },
    {
     "name": "stdout",
     "output_type": "stream",
     "text": [
      "| Epoch: 451 | Train Loss: 1.268 | Train Acc: 77.66% | Val. Loss: 1.389 | Val. Acc: 65.62% | Val. Precision: 66.146 | Val. Recall: 65.625 | Val. F1-score: 62.839 |\n"
     ]
    },
    {
     "data": {
      "application/vnd.jupyter.widget-view+json": {
       "model_id": "03164b28da114f78882814a6b2709ee5",
       "version_major": 2,
       "version_minor": 0
      },
      "text/plain": [
       "  0%|          | 0/320 [00:00<?, ?it/s]"
      ]
     },
     "metadata": {},
     "output_type": "display_data"
    },
    {
     "name": "stdout",
     "output_type": "stream",
     "text": [
      "| Epoch: 452 | Train Loss: 1.244 | Train Acc: 80.00% | Val. Loss: 1.399 | Val. Acc: 63.75% | Val. Precision: 60.937 | Val. Recall: 63.750 | Val. F1-score: 59.318 |\n"
     ]
    },
    {
     "data": {
      "application/vnd.jupyter.widget-view+json": {
       "model_id": "1c956f5a80f84d57a856e0d7b5ed2c61",
       "version_major": 2,
       "version_minor": 0
      },
      "text/plain": [
       "  0%|          | 0/320 [00:00<?, ?it/s]"
      ]
     },
     "metadata": {},
     "output_type": "display_data"
    },
    {
     "name": "stdout",
     "output_type": "stream",
     "text": [
      "| Epoch: 453 | Train Loss: 1.223 | Train Acc: 82.19% | Val. Loss: 1.375 | Val. Acc: 66.88% | Val. Precision: 69.427 | Val. Recall: 66.875 | Val. F1-score: 64.211 |\n"
     ]
    },
    {
     "data": {
      "application/vnd.jupyter.widget-view+json": {
       "model_id": "628ad5300f374a6bbacaab7cce9e541f",
       "version_major": 2,
       "version_minor": 0
      },
      "text/plain": [
       "  0%|          | 0/320 [00:00<?, ?it/s]"
      ]
     },
     "metadata": {},
     "output_type": "display_data"
    },
    {
     "name": "stdout",
     "output_type": "stream",
     "text": [
      "| Epoch: 454 | Train Loss: 1.223 | Train Acc: 81.88% | Val. Loss: 1.375 | Val. Acc: 66.25% | Val. Precision: 67.396 | Val. Recall: 66.250 | Val. F1-score: 63.048 |\n"
     ]
    },
    {
     "data": {
      "application/vnd.jupyter.widget-view+json": {
       "model_id": "4cf4a20e07eb4907a5f81ae4fa1b7ee8",
       "version_major": 2,
       "version_minor": 0
      },
      "text/plain": [
       "  0%|          | 0/320 [00:00<?, ?it/s]"
      ]
     },
     "metadata": {},
     "output_type": "display_data"
    },
    {
     "name": "stdout",
     "output_type": "stream",
     "text": [
      "| Epoch: 455 | Train Loss: 1.227 | Train Acc: 81.80% | Val. Loss: 1.387 | Val. Acc: 65.62% | Val. Precision: 65.052 | Val. Recall: 65.625 | Val. F1-score: 62.193 |\n"
     ]
    },
    {
     "data": {
      "application/vnd.jupyter.widget-view+json": {
       "model_id": "b2628b8f6d784eb8a900ce2cb9e69b8f",
       "version_major": 2,
       "version_minor": 0
      },
      "text/plain": [
       "  0%|          | 0/320 [00:00<?, ?it/s]"
      ]
     },
     "metadata": {},
     "output_type": "display_data"
    },
    {
     "name": "stdout",
     "output_type": "stream",
     "text": [
      "| Epoch: 456 | Train Loss: 1.216 | Train Acc: 82.73% | Val. Loss: 1.354 | Val. Acc: 68.75% | Val. Precision: 69.115 | Val. Recall: 68.750 | Val. F1-score: 65.795 |\n"
     ]
    },
    {
     "data": {
      "application/vnd.jupyter.widget-view+json": {
       "model_id": "1e659c0ca86f41b383947ae9c12c802c",
       "version_major": 2,
       "version_minor": 0
      },
      "text/plain": [
       "  0%|          | 0/320 [00:00<?, ?it/s]"
      ]
     },
     "metadata": {},
     "output_type": "display_data"
    },
    {
     "name": "stdout",
     "output_type": "stream",
     "text": [
      "| Epoch: 457 | Train Loss: 1.209 | Train Acc: 83.44% | Val. Loss: 1.376 | Val. Acc: 65.62% | Val. Precision: 67.187 | Val. Recall: 65.625 | Val. F1-score: 62.673 |\n"
     ]
    },
    {
     "data": {
      "application/vnd.jupyter.widget-view+json": {
       "model_id": "7d2ad4d219814584a3cab608e0dcdc02",
       "version_major": 2,
       "version_minor": 0
      },
      "text/plain": [
       "  0%|          | 0/320 [00:00<?, ?it/s]"
      ]
     },
     "metadata": {},
     "output_type": "display_data"
    },
    {
     "name": "stdout",
     "output_type": "stream",
     "text": [
      "| Epoch: 458 | Train Loss: 1.217 | Train Acc: 82.73% | Val. Loss: 1.382 | Val. Acc: 66.25% | Val. Precision: 66.406 | Val. Recall: 66.250 | Val. F1-score: 63.024 |\n"
     ]
    },
    {
     "data": {
      "application/vnd.jupyter.widget-view+json": {
       "model_id": "3cbbc2e6ada64d619bd1deed7f374e27",
       "version_major": 2,
       "version_minor": 0
      },
      "text/plain": [
       "  0%|          | 0/320 [00:00<?, ?it/s]"
      ]
     },
     "metadata": {},
     "output_type": "display_data"
    },
    {
     "name": "stdout",
     "output_type": "stream",
     "text": [
      "| Epoch: 459 | Train Loss: 1.213 | Train Acc: 83.20% | Val. Loss: 1.367 | Val. Acc: 67.50% | Val. Precision: 68.281 | Val. Recall: 67.500 | Val. F1-score: 64.399 |\n"
     ]
    },
    {
     "data": {
      "application/vnd.jupyter.widget-view+json": {
       "model_id": "975e8a987e444c44be180bdd2b03798e",
       "version_major": 2,
       "version_minor": 0
      },
      "text/plain": [
       "  0%|          | 0/320 [00:00<?, ?it/s]"
      ]
     },
     "metadata": {},
     "output_type": "display_data"
    },
    {
     "name": "stdout",
     "output_type": "stream",
     "text": [
      "| Epoch: 460 | Train Loss: 1.214 | Train Acc: 82.89% | Val. Loss: 1.369 | Val. Acc: 68.12% | Val. Precision: 68.698 | Val. Recall: 68.125 | Val. F1-score: 65.065 |\n"
     ]
    },
    {
     "data": {
      "application/vnd.jupyter.widget-view+json": {
       "model_id": "07776453cf224e2a87e920aae909868f",
       "version_major": 2,
       "version_minor": 0
      },
      "text/plain": [
       "  0%|          | 0/320 [00:00<?, ?it/s]"
      ]
     },
     "metadata": {},
     "output_type": "display_data"
    },
    {
     "name": "stdout",
     "output_type": "stream",
     "text": [
      "| Epoch: 461 | Train Loss: 1.212 | Train Acc: 83.20% | Val. Loss: 1.359 | Val. Acc: 68.12% | Val. Precision: 67.552 | Val. Recall: 68.125 | Val. F1-score: 64.545 |\n"
     ]
    },
    {
     "data": {
      "application/vnd.jupyter.widget-view+json": {
       "model_id": "fc0f8696bc4e46f8a8ebf501c92f1ea2",
       "version_major": 2,
       "version_minor": 0
      },
      "text/plain": [
       "  0%|          | 0/320 [00:00<?, ?it/s]"
      ]
     },
     "metadata": {},
     "output_type": "display_data"
    },
    {
     "name": "stdout",
     "output_type": "stream",
     "text": [
      "| Epoch: 462 | Train Loss: 1.213 | Train Acc: 83.05% | Val. Loss: 1.367 | Val. Acc: 68.12% | Val. Precision: 68.594 | Val. Recall: 68.125 | Val. F1-score: 65.170 |\n"
     ]
    },
    {
     "data": {
      "application/vnd.jupyter.widget-view+json": {
       "model_id": "db1d3df3821c4c8296bf001bf0a23972",
       "version_major": 2,
       "version_minor": 0
      },
      "text/plain": [
       "  0%|          | 0/320 [00:00<?, ?it/s]"
      ]
     },
     "metadata": {},
     "output_type": "display_data"
    },
    {
     "name": "stdout",
     "output_type": "stream",
     "text": [
      "| Epoch: 463 | Train Loss: 1.216 | Train Acc: 82.81% | Val. Loss: 1.377 | Val. Acc: 66.25% | Val. Precision: 67.969 | Val. Recall: 66.250 | Val. F1-score: 63.711 |\n"
     ]
    },
    {
     "data": {
      "application/vnd.jupyter.widget-view+json": {
       "model_id": "958d0f553d6f4025bfa585f91403fabc",
       "version_major": 2,
       "version_minor": 0
      },
      "text/plain": [
       "  0%|          | 0/320 [00:00<?, ?it/s]"
      ]
     },
     "metadata": {},
     "output_type": "display_data"
    },
    {
     "name": "stdout",
     "output_type": "stream",
     "text": [
      "| Epoch: 464 | Train Loss: 1.216 | Train Acc: 82.73% | Val. Loss: 1.371 | Val. Acc: 66.88% | Val. Precision: 68.698 | Val. Recall: 66.875 | Val. F1-score: 63.982 |\n"
     ]
    },
    {
     "data": {
      "application/vnd.jupyter.widget-view+json": {
       "model_id": "2c68f3c0fb324ca6a677a00aee77123b",
       "version_major": 2,
       "version_minor": 0
      },
      "text/plain": [
       "  0%|          | 0/320 [00:00<?, ?it/s]"
      ]
     },
     "metadata": {},
     "output_type": "display_data"
    },
    {
     "name": "stdout",
     "output_type": "stream",
     "text": [
      "| Epoch: 465 | Train Loss: 1.215 | Train Acc: 82.81% | Val. Loss: 1.366 | Val. Acc: 67.50% | Val. Precision: 68.073 | Val. Recall: 67.500 | Val. F1-score: 63.920 |\n"
     ]
    },
    {
     "data": {
      "application/vnd.jupyter.widget-view+json": {
       "model_id": "ae5b5b18d8c941899e89c4d259bf2271",
       "version_major": 2,
       "version_minor": 0
      },
      "text/plain": [
       "  0%|          | 0/320 [00:00<?, ?it/s]"
      ]
     },
     "metadata": {},
     "output_type": "display_data"
    },
    {
     "name": "stdout",
     "output_type": "stream",
     "text": [
      "| Epoch: 466 | Train Loss: 1.219 | Train Acc: 82.73% | Val. Loss: 1.369 | Val. Acc: 67.50% | Val. Precision: 67.396 | Val. Recall: 67.500 | Val. F1-score: 64.312 |\n"
     ]
    },
    {
     "data": {
      "application/vnd.jupyter.widget-view+json": {
       "model_id": "fd99676c1f714148a7692c5ca36830eb",
       "version_major": 2,
       "version_minor": 0
      },
      "text/plain": [
       "  0%|          | 0/320 [00:00<?, ?it/s]"
      ]
     },
     "metadata": {},
     "output_type": "display_data"
    },
    {
     "name": "stdout",
     "output_type": "stream",
     "text": [
      "| Epoch: 467 | Train Loss: 1.219 | Train Acc: 82.27% | Val. Loss: 1.367 | Val. Acc: 67.50% | Val. Precision: 66.927 | Val. Recall: 67.500 | Val. F1-score: 64.128 |\n"
     ]
    },
    {
     "data": {
      "application/vnd.jupyter.widget-view+json": {
       "model_id": "437940f4531c49b9b87b3fd5f5a7ece0",
       "version_major": 2,
       "version_minor": 0
      },
      "text/plain": [
       "  0%|          | 0/320 [00:00<?, ?it/s]"
      ]
     },
     "metadata": {},
     "output_type": "display_data"
    },
    {
     "name": "stdout",
     "output_type": "stream",
     "text": [
      "| Epoch: 468 | Train Loss: 1.219 | Train Acc: 82.42% | Val. Loss: 1.373 | Val. Acc: 67.50% | Val. Precision: 67.552 | Val. Recall: 67.500 | Val. F1-score: 64.211 |\n"
     ]
    },
    {
     "data": {
      "application/vnd.jupyter.widget-view+json": {
       "model_id": "d3cc6c74c711465e9344dd06950d3161",
       "version_major": 2,
       "version_minor": 0
      },
      "text/plain": [
       "  0%|          | 0/320 [00:00<?, ?it/s]"
      ]
     },
     "metadata": {},
     "output_type": "display_data"
    },
    {
     "name": "stdout",
     "output_type": "stream",
     "text": [
      "| Epoch: 469 | Train Loss: 1.208 | Train Acc: 83.52% | Val. Loss: 1.376 | Val. Acc: 65.62% | Val. Precision: 66.823 | Val. Recall: 65.625 | Val. F1-score: 62.545 |\n"
     ]
    },
    {
     "data": {
      "application/vnd.jupyter.widget-view+json": {
       "model_id": "1a06642f8beb43a7955812344ed7d01c",
       "version_major": 2,
       "version_minor": 0
      },
      "text/plain": [
       "  0%|          | 0/320 [00:00<?, ?it/s]"
      ]
     },
     "metadata": {},
     "output_type": "display_data"
    },
    {
     "name": "stdout",
     "output_type": "stream",
     "text": [
      "| Epoch: 470 | Train Loss: 1.208 | Train Acc: 83.52% | Val. Loss: 1.376 | Val. Acc: 66.25% | Val. Precision: 66.406 | Val. Recall: 66.250 | Val. F1-score: 62.815 |\n"
     ]
    },
    {
     "data": {
      "application/vnd.jupyter.widget-view+json": {
       "model_id": "70d2a859fe284c9285f8e000e51efea2",
       "version_major": 2,
       "version_minor": 0
      },
      "text/plain": [
       "  0%|          | 0/320 [00:00<?, ?it/s]"
      ]
     },
     "metadata": {},
     "output_type": "display_data"
    },
    {
     "name": "stdout",
     "output_type": "stream",
     "text": [
      "| Epoch: 471 | Train Loss: 1.208 | Train Acc: 83.52% | Val. Loss: 1.385 | Val. Acc: 65.00% | Val. Precision: 66.823 | Val. Recall: 65.000 | Val. F1-score: 62.003 |\n"
     ]
    },
    {
     "data": {
      "application/vnd.jupyter.widget-view+json": {
       "model_id": "cb170d59d353414fba3931d3a45e0c7e",
       "version_major": 2,
       "version_minor": 0
      },
      "text/plain": [
       "  0%|          | 0/320 [00:00<?, ?it/s]"
      ]
     },
     "metadata": {},
     "output_type": "display_data"
    },
    {
     "name": "stdout",
     "output_type": "stream",
     "text": [
      "| Epoch: 472 | Train Loss: 1.208 | Train Acc: 83.44% | Val. Loss: 1.384 | Val. Acc: 65.62% | Val. Precision: 66.615 | Val. Recall: 65.625 | Val. F1-score: 62.274 |\n"
     ]
    },
    {
     "data": {
      "application/vnd.jupyter.widget-view+json": {
       "model_id": "2916764216494ceda61fd37bd41c9609",
       "version_major": 2,
       "version_minor": 0
      },
      "text/plain": [
       "  0%|          | 0/320 [00:00<?, ?it/s]"
      ]
     },
     "metadata": {},
     "output_type": "display_data"
    },
    {
     "name": "stdout",
     "output_type": "stream",
     "text": [
      "| Epoch: 473 | Train Loss: 1.209 | Train Acc: 83.28% | Val. Loss: 1.383 | Val. Acc: 65.00% | Val. Precision: 65.781 | Val. Recall: 65.000 | Val. F1-score: 61.899 |\n"
     ]
    },
    {
     "data": {
      "application/vnd.jupyter.widget-view+json": {
       "model_id": "a44ece6296884babb5ac3078b2931bb6",
       "version_major": 2,
       "version_minor": 0
      },
      "text/plain": [
       "  0%|          | 0/320 [00:00<?, ?it/s]"
      ]
     },
     "metadata": {},
     "output_type": "display_data"
    },
    {
     "name": "stdout",
     "output_type": "stream",
     "text": [
      "| Epoch: 474 | Train Loss: 1.210 | Train Acc: 83.28% | Val. Loss: 1.382 | Val. Acc: 65.62% | Val. Precision: 64.115 | Val. Recall: 65.625 | Val. F1-score: 61.839 |\n"
     ]
    },
    {
     "data": {
      "application/vnd.jupyter.widget-view+json": {
       "model_id": "c51449328b6e4a209a1bdd327d20e9d8",
       "version_major": 2,
       "version_minor": 0
      },
      "text/plain": [
       "  0%|          | 0/320 [00:00<?, ?it/s]"
      ]
     },
     "metadata": {},
     "output_type": "display_data"
    },
    {
     "name": "stdout",
     "output_type": "stream",
     "text": [
      "| Epoch: 475 | Train Loss: 1.212 | Train Acc: 83.20% | Val. Loss: 1.384 | Val. Acc: 65.00% | Val. Precision: 64.271 | Val. Recall: 65.000 | Val. F1-score: 61.003 |\n"
     ]
    },
    {
     "data": {
      "application/vnd.jupyter.widget-view+json": {
       "model_id": "dd4ef9bb0fe64395aadcba2ac1b9f38d",
       "version_major": 2,
       "version_minor": 0
      },
      "text/plain": [
       "  0%|          | 0/320 [00:00<?, ?it/s]"
      ]
     },
     "metadata": {},
     "output_type": "display_data"
    },
    {
     "name": "stdout",
     "output_type": "stream",
     "text": [
      "| Epoch: 476 | Train Loss: 1.232 | Train Acc: 81.09% | Val. Loss: 1.388 | Val. Acc: 65.62% | Val. Precision: 66.875 | Val. Recall: 65.625 | Val. F1-score: 62.673 |\n"
     ]
    },
    {
     "data": {
      "application/vnd.jupyter.widget-view+json": {
       "model_id": "c0fe9187e593447aab4ed955aa515280",
       "version_major": 2,
       "version_minor": 0
      },
      "text/plain": [
       "  0%|          | 0/320 [00:00<?, ?it/s]"
      ]
     },
     "metadata": {},
     "output_type": "display_data"
    },
    {
     "name": "stdout",
     "output_type": "stream",
     "text": [
      "| Epoch: 477 | Train Loss: 1.240 | Train Acc: 80.23% | Val. Loss: 1.389 | Val. Acc: 65.00% | Val. Precision: 66.771 | Val. Recall: 65.000 | Val. F1-score: 61.961 |\n"
     ]
    },
    {
     "data": {
      "application/vnd.jupyter.widget-view+json": {
       "model_id": "d1f981db48514126957d44ffb25b658a",
       "version_major": 2,
       "version_minor": 0
      },
      "text/plain": [
       "  0%|          | 0/320 [00:00<?, ?it/s]"
      ]
     },
     "metadata": {},
     "output_type": "display_data"
    },
    {
     "name": "stdout",
     "output_type": "stream",
     "text": [
      "| Epoch: 478 | Train Loss: 1.215 | Train Acc: 82.89% | Val. Loss: 1.391 | Val. Acc: 65.00% | Val. Precision: 67.865 | Val. Recall: 65.000 | Val. F1-score: 62.461 |\n"
     ]
    },
    {
     "data": {
      "application/vnd.jupyter.widget-view+json": {
       "model_id": "6e4db9aff1b4454abb631551fbe135c6",
       "version_major": 2,
       "version_minor": 0
      },
      "text/plain": [
       "  0%|          | 0/320 [00:00<?, ?it/s]"
      ]
     },
     "metadata": {},
     "output_type": "display_data"
    },
    {
     "name": "stdout",
     "output_type": "stream",
     "text": [
      "| Epoch: 479 | Train Loss: 1.208 | Train Acc: 83.59% | Val. Loss: 1.368 | Val. Acc: 66.25% | Val. Precision: 68.490 | Val. Recall: 66.250 | Val. F1-score: 63.336 |\n"
     ]
    },
    {
     "data": {
      "application/vnd.jupyter.widget-view+json": {
       "model_id": "38d384ad63ac4388a104ee9bf57b7424",
       "version_major": 2,
       "version_minor": 0
      },
      "text/plain": [
       "  0%|          | 0/320 [00:00<?, ?it/s]"
      ]
     },
     "metadata": {},
     "output_type": "display_data"
    },
    {
     "name": "stdout",
     "output_type": "stream",
     "text": [
      "| Epoch: 480 | Train Loss: 1.213 | Train Acc: 82.97% | Val. Loss: 1.377 | Val. Acc: 65.62% | Val. Precision: 66.562 | Val. Recall: 65.625 | Val. F1-score: 62.524 |\n"
     ]
    },
    {
     "data": {
      "application/vnd.jupyter.widget-view+json": {
       "model_id": "1bfddc9e3b2f42c0a8f279c43c0f4b20",
       "version_major": 2,
       "version_minor": 0
      },
      "text/plain": [
       "  0%|          | 0/320 [00:00<?, ?it/s]"
      ]
     },
     "metadata": {},
     "output_type": "display_data"
    },
    {
     "name": "stdout",
     "output_type": "stream",
     "text": [
      "| Epoch: 481 | Train Loss: 1.216 | Train Acc: 82.73% | Val. Loss: 1.373 | Val. Acc: 66.25% | Val. Precision: 67.656 | Val. Recall: 66.250 | Val. F1-score: 63.170 |\n"
     ]
    },
    {
     "data": {
      "application/vnd.jupyter.widget-view+json": {
       "model_id": "e7f5661328084ec4afe12f26c34cbbdb",
       "version_major": 2,
       "version_minor": 0
      },
      "text/plain": [
       "  0%|          | 0/320 [00:00<?, ?it/s]"
      ]
     },
     "metadata": {},
     "output_type": "display_data"
    },
    {
     "name": "stdout",
     "output_type": "stream",
     "text": [
      "| Epoch: 482 | Train Loss: 1.211 | Train Acc: 83.28% | Val. Loss: 1.372 | Val. Acc: 66.88% | Val. Precision: 67.552 | Val. Recall: 66.875 | Val. F1-score: 63.690 |\n"
     ]
    },
    {
     "data": {
      "application/vnd.jupyter.widget-view+json": {
       "model_id": "c3e3f0bde7054499879886bd99325f01",
       "version_major": 2,
       "version_minor": 0
      },
      "text/plain": [
       "  0%|          | 0/320 [00:00<?, ?it/s]"
      ]
     },
     "metadata": {},
     "output_type": "display_data"
    },
    {
     "name": "stdout",
     "output_type": "stream",
     "text": [
      "| Epoch: 483 | Train Loss: 1.209 | Train Acc: 83.36% | Val. Loss: 1.380 | Val. Acc: 66.25% | Val. Precision: 67.240 | Val. Recall: 66.250 | Val. F1-score: 63.065 |\n"
     ]
    },
    {
     "data": {
      "application/vnd.jupyter.widget-view+json": {
       "model_id": "884f2446302549f5b31f7110a3630b84",
       "version_major": 2,
       "version_minor": 0
      },
      "text/plain": [
       "  0%|          | 0/320 [00:00<?, ?it/s]"
      ]
     },
     "metadata": {},
     "output_type": "display_data"
    },
    {
     "name": "stdout",
     "output_type": "stream",
     "text": [
      "| Epoch: 484 | Train Loss: 1.208 | Train Acc: 83.52% | Val. Loss: 1.398 | Val. Acc: 64.38% | Val. Precision: 66.094 | Val. Recall: 64.375 | Val. F1-score: 61.482 |\n"
     ]
    },
    {
     "data": {
      "application/vnd.jupyter.widget-view+json": {
       "model_id": "abf3b56c85f44367b47ebd7610943836",
       "version_major": 2,
       "version_minor": 0
      },
      "text/plain": [
       "  0%|          | 0/320 [00:00<?, ?it/s]"
      ]
     },
     "metadata": {},
     "output_type": "display_data"
    },
    {
     "name": "stdout",
     "output_type": "stream",
     "text": [
      "| Epoch: 485 | Train Loss: 1.209 | Train Acc: 83.52% | Val. Loss: 1.381 | Val. Acc: 65.62% | Val. Precision: 67.656 | Val. Recall: 65.625 | Val. F1-score: 62.545 |\n"
     ]
    },
    {
     "data": {
      "application/vnd.jupyter.widget-view+json": {
       "model_id": "d7811271cd994f6c8831854c0fbd0017",
       "version_major": 2,
       "version_minor": 0
      },
      "text/plain": [
       "  0%|          | 0/320 [00:00<?, ?it/s]"
      ]
     },
     "metadata": {},
     "output_type": "display_data"
    },
    {
     "name": "stdout",
     "output_type": "stream",
     "text": [
      "| Epoch: 486 | Train Loss: 1.211 | Train Acc: 83.28% | Val. Loss: 1.379 | Val. Acc: 66.88% | Val. Precision: 67.135 | Val. Recall: 66.875 | Val. F1-score: 63.399 |\n"
     ]
    },
    {
     "data": {
      "application/vnd.jupyter.widget-view+json": {
       "model_id": "313cf259b1e24c419e91604932d43046",
       "version_major": 2,
       "version_minor": 0
      },
      "text/plain": [
       "  0%|          | 0/320 [00:00<?, ?it/s]"
      ]
     },
     "metadata": {},
     "output_type": "display_data"
    },
    {
     "name": "stdout",
     "output_type": "stream",
     "text": [
      "| Epoch: 487 | Train Loss: 1.218 | Train Acc: 82.50% | Val. Loss: 1.388 | Val. Acc: 65.00% | Val. Precision: 65.469 | Val. Recall: 65.000 | Val. F1-score: 61.836 |\n"
     ]
    },
    {
     "data": {
      "application/vnd.jupyter.widget-view+json": {
       "model_id": "f75e2b528aaf4dd5a075856550d84985",
       "version_major": 2,
       "version_minor": 0
      },
      "text/plain": [
       "  0%|          | 0/320 [00:00<?, ?it/s]"
      ]
     },
     "metadata": {},
     "output_type": "display_data"
    },
    {
     "name": "stdout",
     "output_type": "stream",
     "text": [
      "| Epoch: 488 | Train Loss: 1.221 | Train Acc: 82.42% | Val. Loss: 1.391 | Val. Acc: 65.00% | Val. Precision: 64.688 | Val. Recall: 65.000 | Val. F1-score: 61.399 |\n"
     ]
    },
    {
     "data": {
      "application/vnd.jupyter.widget-view+json": {
       "model_id": "6c508cd4fb214b46b6fe32e1c6c3461f",
       "version_major": 2,
       "version_minor": 0
      },
      "text/plain": [
       "  0%|          | 0/320 [00:00<?, ?it/s]"
      ]
     },
     "metadata": {},
     "output_type": "display_data"
    },
    {
     "name": "stdout",
     "output_type": "stream",
     "text": [
      "| Epoch: 489 | Train Loss: 1.216 | Train Acc: 82.81% | Val. Loss: 1.382 | Val. Acc: 65.62% | Val. Precision: 66.302 | Val. Recall: 65.625 | Val. F1-score: 62.583 |\n"
     ]
    },
    {
     "data": {
      "application/vnd.jupyter.widget-view+json": {
       "model_id": "8b3d09e9948d425ba4f079e31809454a",
       "version_major": 2,
       "version_minor": 0
      },
      "text/plain": [
       "  0%|          | 0/320 [00:00<?, ?it/s]"
      ]
     },
     "metadata": {},
     "output_type": "display_data"
    },
    {
     "name": "stdout",
     "output_type": "stream",
     "text": [
      "| Epoch: 490 | Train Loss: 1.212 | Train Acc: 83.20% | Val. Loss: 1.360 | Val. Acc: 68.12% | Val. Precision: 68.490 | Val. Recall: 68.125 | Val. F1-score: 64.961 |\n"
     ]
    },
    {
     "data": {
      "application/vnd.jupyter.widget-view+json": {
       "model_id": "9029471feb9a45a7b7b61ea543842e92",
       "version_major": 2,
       "version_minor": 0
      },
      "text/plain": [
       "  0%|          | 0/320 [00:00<?, ?it/s]"
      ]
     },
     "metadata": {},
     "output_type": "display_data"
    },
    {
     "name": "stdout",
     "output_type": "stream",
     "text": [
      "| Epoch: 491 | Train Loss: 1.206 | Train Acc: 83.67% | Val. Loss: 1.370 | Val. Acc: 67.50% | Val. Precision: 67.031 | Val. Recall: 67.500 | Val. F1-score: 63.961 |\n"
     ]
    },
    {
     "data": {
      "application/vnd.jupyter.widget-view+json": {
       "model_id": "cd31c54aef024f6684cc506ebec40c08",
       "version_major": 2,
       "version_minor": 0
      },
      "text/plain": [
       "  0%|          | 0/320 [00:00<?, ?it/s]"
      ]
     },
     "metadata": {},
     "output_type": "display_data"
    },
    {
     "name": "stdout",
     "output_type": "stream",
     "text": [
      "| Epoch: 492 | Train Loss: 1.206 | Train Acc: 83.67% | Val. Loss: 1.367 | Val. Acc: 67.50% | Val. Precision: 68.073 | Val. Recall: 67.500 | Val. F1-score: 64.211 |\n"
     ]
    },
    {
     "data": {
      "application/vnd.jupyter.widget-view+json": {
       "model_id": "7c45393e986d413b80dc3ad50f9cafe5",
       "version_major": 2,
       "version_minor": 0
      },
      "text/plain": [
       "  0%|          | 0/320 [00:00<?, ?it/s]"
      ]
     },
     "metadata": {},
     "output_type": "display_data"
    },
    {
     "name": "stdout",
     "output_type": "stream",
     "text": [
      "| Epoch: 493 | Train Loss: 1.209 | Train Acc: 83.44% | Val. Loss: 1.367 | Val. Acc: 67.50% | Val. Precision: 66.823 | Val. Recall: 67.500 | Val. F1-score: 63.836 |\n"
     ]
    },
    {
     "data": {
      "application/vnd.jupyter.widget-view+json": {
       "model_id": "7127e2867ec34910846763ca7cfcf8ab",
       "version_major": 2,
       "version_minor": 0
      },
      "text/plain": [
       "  0%|          | 0/320 [00:00<?, ?it/s]"
      ]
     },
     "metadata": {},
     "output_type": "display_data"
    },
    {
     "name": "stdout",
     "output_type": "stream",
     "text": [
      "| Epoch: 494 | Train Loss: 1.211 | Train Acc: 83.20% | Val. Loss: 1.371 | Val. Acc: 67.50% | Val. Precision: 68.490 | Val. Recall: 67.500 | Val. F1-score: 64.732 |\n"
     ]
    },
    {
     "data": {
      "application/vnd.jupyter.widget-view+json": {
       "model_id": "844fd6200b274759aa57dc5eb5979843",
       "version_major": 2,
       "version_minor": 0
      },
      "text/plain": [
       "  0%|          | 0/320 [00:00<?, ?it/s]"
      ]
     },
     "metadata": {},
     "output_type": "display_data"
    },
    {
     "name": "stdout",
     "output_type": "stream",
     "text": [
      "| Epoch: 495 | Train Loss: 1.207 | Train Acc: 83.67% | Val. Loss: 1.376 | Val. Acc: 66.88% | Val. Precision: 68.385 | Val. Recall: 66.875 | Val. F1-score: 64.065 |\n"
     ]
    },
    {
     "data": {
      "application/vnd.jupyter.widget-view+json": {
       "model_id": "a60b5028d0b64dfd831e6543ea3fd289",
       "version_major": 2,
       "version_minor": 0
      },
      "text/plain": [
       "  0%|          | 0/320 [00:00<?, ?it/s]"
      ]
     },
     "metadata": {},
     "output_type": "display_data"
    },
    {
     "name": "stdout",
     "output_type": "stream",
     "text": [
      "| Epoch: 496 | Train Loss: 1.206 | Train Acc: 83.67% | Val. Loss: 1.366 | Val. Acc: 68.12% | Val. Precision: 68.490 | Val. Recall: 68.125 | Val. F1-score: 64.940 |\n"
     ]
    },
    {
     "data": {
      "application/vnd.jupyter.widget-view+json": {
       "model_id": "151d103f167d4a31bd018051ad478737",
       "version_major": 2,
       "version_minor": 0
      },
      "text/plain": [
       "  0%|          | 0/320 [00:00<?, ?it/s]"
      ]
     },
     "metadata": {},
     "output_type": "display_data"
    },
    {
     "name": "stdout",
     "output_type": "stream",
     "text": [
      "| Epoch: 497 | Train Loss: 1.207 | Train Acc: 83.59% | Val. Loss: 1.369 | Val. Acc: 67.50% | Val. Precision: 67.448 | Val. Recall: 67.500 | Val. F1-score: 64.253 |\n"
     ]
    },
    {
     "data": {
      "application/vnd.jupyter.widget-view+json": {
       "model_id": "dcedc2696d9143c1a271f4aeecff2f74",
       "version_major": 2,
       "version_minor": 0
      },
      "text/plain": [
       "  0%|          | 0/320 [00:00<?, ?it/s]"
      ]
     },
     "metadata": {},
     "output_type": "display_data"
    },
    {
     "name": "stdout",
     "output_type": "stream",
     "text": [
      "| Epoch: 498 | Train Loss: 1.221 | Train Acc: 82.27% | Val. Loss: 1.394 | Val. Acc: 65.00% | Val. Precision: 67.240 | Val. Recall: 65.000 | Val. F1-score: 61.899 |\n"
     ]
    },
    {
     "data": {
      "application/vnd.jupyter.widget-view+json": {
       "model_id": "3f9a3c44f59b482fb32a57c02c6bb0a0",
       "version_major": 2,
       "version_minor": 0
      },
      "text/plain": [
       "  0%|          | 0/320 [00:00<?, ?it/s]"
      ]
     },
     "metadata": {},
     "output_type": "display_data"
    },
    {
     "name": "stdout",
     "output_type": "stream",
     "text": [
      "| Epoch: 499 | Train Loss: 1.231 | Train Acc: 81.25% | Val. Loss: 1.395 | Val. Acc: 64.38% | Val. Precision: 64.948 | Val. Recall: 64.375 | Val. F1-score: 61.396 |\n"
     ]
    },
    {
     "data": {
      "application/vnd.jupyter.widget-view+json": {
       "model_id": "da09003d53e14fb78a6c4087fb872de1",
       "version_major": 2,
       "version_minor": 0
      },
      "text/plain": [
       "  0%|          | 0/320 [00:00<?, ?it/s]"
      ]
     },
     "metadata": {},
     "output_type": "display_data"
    },
    {
     "name": "stdout",
     "output_type": "stream",
     "text": [
      "| Epoch: 500 | Train Loss: 1.234 | Train Acc: 81.02% | Val. Loss: 1.367 | Val. Acc: 67.50% | Val. Precision: 65.990 | Val. Recall: 67.500 | Val. F1-score: 63.670 |\n"
     ]
    }
   ],
   "source": [
    "# Let's train our model\n",
    "                   # ENHANCEMENT 2\n",
    "for epoch in range(500):\n",
    "    train_loss, train_acc = train(winemodel, train_dataloader, optimizer, criterion)\n",
    "    # ENHANCEMENT 1\n",
    "    valid_loss, valid_acc, valid_precision, valid_recall, valid_f1  = evaluate(winemodel, val_dataloader, criterion)\n",
    "\n",
    "    print(f'| Epoch: {epoch+1:02} | Train Loss: {train_loss:.3f} | Train Acc: {train_acc*100:.2f}% | Val. Loss: {valid_loss:.3f} | Val. Acc: {valid_acc*100:.2f}% | Val. Precision: {valid_precision *100:.3f} | Val. Recall: {valid_recall*100:.3f} | Val. F1-score: {valid_f1*100:.3f} |')"
   ]
  },
  {
   "cell_type": "markdown",
   "metadata": {
    "id": "sN4r268sqghf"
   },
   "source": [
    "# Lab Enhancements\n",
    "* These tasks are additional enhancements with less guidance.\n",
    "* Report results means give us the accuracy, precision, recall and F1-score.\n"
   ]
  },
  {
   "cell_type": "markdown",
   "metadata": {
    "id": "lTeTTU12l_e8"
   },
   "source": [
    "## Enhancement 1: The current code does not actually evaluate the model on the test set, but it only evaluates it on the val set. When you write papers, you would ideally split the dataset into train, val and test. Train and val are both used in training, and the model trained on the training data, and  evaluated on the val data. So why do we need test split? We report our results on the test split in papers. Also, we do cross-validation on the train/val split (covered in later labs).\n",
    "\n",
    "## Report the results of the model on the test split. (Hint: It would be exactly like the evaluation on the val dataset, except it would be done on the test dataset.)"
   ]
  },
  {
   "cell_type": "code",
   "execution_count": 73,
   "metadata": {
    "id": "mvThtvybtAyC"
   },
   "outputs": [
    {
     "name": "stdout",
     "output_type": "stream",
     "text": [
      "| Test. Loss: 1.461 | Test. Acc: 56.67% | Test. Precision: 0.586 | Test. Recall: 0.567 | Test. F1-score: 0.539 |\n"
     ]
    }
   ],
   "source": [
    "test_loss, test_acc, test_prec, test_rec, test_f1 = evaluate(winemodel, test_dataloader, criterion)\n",
    "\n",
    "print(f'| Test. Loss: {test_loss:.3f} | Test. Acc: {test_acc*100:.2f}% | Test. Precision: {test_prec:.3f} | Test. Recall: {test_rec:.3f} | Test. F1-score: {test_f1:.3f} |')"
   ]
  },
  {
   "cell_type": "markdown",
   "metadata": {
    "id": "TtPZiqkAqX88"
   },
   "source": [
    "## Enhancement 2: Increase the number of epochs (and maybe the learning rate). Does the accuracy on the test set increase? Is there a significant difference between the test accuracy and the train accuracy? If yes, why?"
   ]
  },
  {
   "cell_type": "markdown",
   "metadata": {
    "id": "7Qb9PdtvpGpO"
   },
   "source": [
    "## Enhancement 3: Increase the depth of your model (add more layers). Report the parts of the model definition you had to update. Report results."
   ]
  },
  {
   "cell_type": "markdown",
   "metadata": {
    "id": "hH1YvNbbpMWh"
   },
   "source": [
    "## Enhancement 4: Increase the width of your model's layers. Report the parts of the model definition you had to update. Report results."
   ]
  },
  {
   "cell_type": "markdown",
   "metadata": {
    "id": "2RryO5TdpZ_m"
   },
   "source": [
    "## Enhancement 5: Choose a new dataset from the list below. Search the Internet and download your chosen dataset (many of them could be available on kaggle). Adapt your model to your dataset. Train your model and record your results.\n",
    "\n",
    "   * cancer_dataset          - Breast cancer dataset.\n",
    "   * crab_dataset            - Crab gender dataset.\n",
    "   * glass_dataset           - Glass chemical dataset.\n",
    "   * iris_dataset            - Iris flower dataset.\n",
    "   * ovarian_dataset         - Ovarian cancer dataset.\n",
    "   * thyroid_dataset         - Thyroid function dataset."
   ]
  }
 ],
 "metadata": {
  "colab": {
   "provenance": []
  },
  "hide_input": false,
  "kernelspec": {
   "display_name": "Python 3 (ipykernel)",
   "language": "python",
   "name": "python3"
  },
  "language_info": {
   "codemirror_mode": {
    "name": "ipython",
    "version": 3
   },
   "file_extension": ".py",
   "mimetype": "text/x-python",
   "name": "python",
   "nbconvert_exporter": "python",
   "pygments_lexer": "ipython3",
   "version": "3.9.12"
  }
 },
 "nbformat": 4,
 "nbformat_minor": 1
}
