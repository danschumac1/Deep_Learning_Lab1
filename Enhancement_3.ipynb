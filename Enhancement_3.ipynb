{
 "cells": [
  {
   "cell_type": "markdown",
   "metadata": {
    "id": "CoCJY_nPAMOf"
   },
   "source": [
    "## Imports"
   ]
  },
  {
   "cell_type": "code",
   "execution_count": 32,
   "metadata": {
    "id": "ug19bzmJAAt5"
   },
   "outputs": [],
   "source": [
    "import pandas as pd\n",
    "import torch\n",
    "import torch.nn as nn\n",
    "import torch.nn.functional as F\n",
    "from torch.optim import AdamW\n",
    "from torch.utils.data import Dataset, DataLoader\n",
    "from tqdm.notebook import tqdm\n",
    "\n",
    "\n",
    "from sklearn.metrics import (\n",
    "    accuracy_score,\n",
    "    # ENHANCEMENT 1\n",
    "    precision_score,\n",
    "    recall_score,\n",
    "    f1_score\n",
    ")"
   ]
  },
  {
   "cell_type": "markdown",
   "metadata": {
    "id": "g2ZA_xBjAQlY"
   },
   "source": [
    "## Dataset"
   ]
  },
  {
   "cell_type": "code",
   "execution_count": 33,
   "metadata": {
    "id": "_wI27iYZATct"
   },
   "outputs": [],
   "source": [
    "data_df = pd.read_csv('./data/winequality-red.csv')"
   ]
  },
  {
   "cell_type": "code",
   "execution_count": 34,
   "metadata": {
    "colab": {
     "base_uri": "https://localhost:8080/",
     "height": 204
    },
    "id": "7V3cR9csAe9R",
    "outputId": "fdc6cbfa-5ac8-4f64-ef49-9e754f6cc667"
   },
   "outputs": [
    {
     "data": {
      "text/html": [
       "<div>\n",
       "<style scoped>\n",
       "    .dataframe tbody tr th:only-of-type {\n",
       "        vertical-align: middle;\n",
       "    }\n",
       "\n",
       "    .dataframe tbody tr th {\n",
       "        vertical-align: top;\n",
       "    }\n",
       "\n",
       "    .dataframe thead th {\n",
       "        text-align: right;\n",
       "    }\n",
       "</style>\n",
       "<table border=\"1\" class=\"dataframe\">\n",
       "  <thead>\n",
       "    <tr style=\"text-align: right;\">\n",
       "      <th></th>\n",
       "      <th>fixed acidity</th>\n",
       "      <th>volatile acidity</th>\n",
       "      <th>citric acid</th>\n",
       "      <th>residual sugar</th>\n",
       "      <th>chlorides</th>\n",
       "      <th>free sulfur dioxide</th>\n",
       "      <th>total sulfur dioxide</th>\n",
       "      <th>density</th>\n",
       "      <th>pH</th>\n",
       "      <th>sulphates</th>\n",
       "      <th>alcohol</th>\n",
       "      <th>quality</th>\n",
       "    </tr>\n",
       "  </thead>\n",
       "  <tbody>\n",
       "    <tr>\n",
       "      <th>0</th>\n",
       "      <td>7.4</td>\n",
       "      <td>0.70</td>\n",
       "      <td>0.00</td>\n",
       "      <td>1.9</td>\n",
       "      <td>0.076</td>\n",
       "      <td>11.0</td>\n",
       "      <td>34.0</td>\n",
       "      <td>0.9978</td>\n",
       "      <td>3.51</td>\n",
       "      <td>0.56</td>\n",
       "      <td>9.4</td>\n",
       "      <td>5</td>\n",
       "    </tr>\n",
       "    <tr>\n",
       "      <th>1</th>\n",
       "      <td>7.8</td>\n",
       "      <td>0.88</td>\n",
       "      <td>0.00</td>\n",
       "      <td>2.6</td>\n",
       "      <td>0.098</td>\n",
       "      <td>25.0</td>\n",
       "      <td>67.0</td>\n",
       "      <td>0.9968</td>\n",
       "      <td>3.20</td>\n",
       "      <td>0.68</td>\n",
       "      <td>9.8</td>\n",
       "      <td>5</td>\n",
       "    </tr>\n",
       "    <tr>\n",
       "      <th>2</th>\n",
       "      <td>7.8</td>\n",
       "      <td>0.76</td>\n",
       "      <td>0.04</td>\n",
       "      <td>2.3</td>\n",
       "      <td>0.092</td>\n",
       "      <td>15.0</td>\n",
       "      <td>54.0</td>\n",
       "      <td>0.9970</td>\n",
       "      <td>3.26</td>\n",
       "      <td>0.65</td>\n",
       "      <td>9.8</td>\n",
       "      <td>5</td>\n",
       "    </tr>\n",
       "    <tr>\n",
       "      <th>3</th>\n",
       "      <td>11.2</td>\n",
       "      <td>0.28</td>\n",
       "      <td>0.56</td>\n",
       "      <td>1.9</td>\n",
       "      <td>0.075</td>\n",
       "      <td>17.0</td>\n",
       "      <td>60.0</td>\n",
       "      <td>0.9980</td>\n",
       "      <td>3.16</td>\n",
       "      <td>0.58</td>\n",
       "      <td>9.8</td>\n",
       "      <td>6</td>\n",
       "    </tr>\n",
       "    <tr>\n",
       "      <th>4</th>\n",
       "      <td>7.4</td>\n",
       "      <td>0.70</td>\n",
       "      <td>0.00</td>\n",
       "      <td>1.9</td>\n",
       "      <td>0.076</td>\n",
       "      <td>11.0</td>\n",
       "      <td>34.0</td>\n",
       "      <td>0.9978</td>\n",
       "      <td>3.51</td>\n",
       "      <td>0.56</td>\n",
       "      <td>9.4</td>\n",
       "      <td>5</td>\n",
       "    </tr>\n",
       "  </tbody>\n",
       "</table>\n",
       "</div>"
      ],
      "text/plain": [
       "   fixed acidity  volatile acidity  citric acid  residual sugar  chlorides  \\\n",
       "0            7.4              0.70         0.00             1.9      0.076   \n",
       "1            7.8              0.88         0.00             2.6      0.098   \n",
       "2            7.8              0.76         0.04             2.3      0.092   \n",
       "3           11.2              0.28         0.56             1.9      0.075   \n",
       "4            7.4              0.70         0.00             1.9      0.076   \n",
       "\n",
       "   free sulfur dioxide  total sulfur dioxide  density    pH  sulphates  \\\n",
       "0                 11.0                  34.0   0.9978  3.51       0.56   \n",
       "1                 25.0                  67.0   0.9968  3.20       0.68   \n",
       "2                 15.0                  54.0   0.9970  3.26       0.65   \n",
       "3                 17.0                  60.0   0.9980  3.16       0.58   \n",
       "4                 11.0                  34.0   0.9978  3.51       0.56   \n",
       "\n",
       "   alcohol  quality  \n",
       "0      9.4        5  \n",
       "1      9.8        5  \n",
       "2      9.8        5  \n",
       "3      9.8        6  \n",
       "4      9.4        5  "
      ]
     },
     "execution_count": 34,
     "metadata": {},
     "output_type": "execute_result"
    }
   ],
   "source": [
    "data_df.head()"
   ]
  },
  {
   "cell_type": "code",
   "execution_count": 35,
   "metadata": {
    "colab": {
     "base_uri": "https://localhost:8080/"
    },
    "id": "QH-m4kr6Dk8Z",
    "outputId": "ab5fb65e-4c18-424a-a13d-94e42c321b6a"
   },
   "outputs": [
    {
     "data": {
      "text/plain": [
       "11"
      ]
     },
     "execution_count": 35,
     "metadata": {},
     "output_type": "execute_result"
    }
   ],
   "source": [
    "# how many features?\n",
    "len(data_df.columns) - 1"
   ]
  },
  {
   "cell_type": "code",
   "execution_count": 36,
   "metadata": {
    "colab": {
     "base_uri": "https://localhost:8080/"
    },
    "id": "uvAZ_osUDvgA",
    "outputId": "4b01868e-0292-4560-c3a0-3192a43f48bf"
   },
   "outputs": [
    {
     "data": {
      "text/plain": [
       "array([5, 6, 7, 4, 8, 3], dtype=int64)"
      ]
     },
     "execution_count": 36,
     "metadata": {},
     "output_type": "execute_result"
    }
   ],
   "source": [
    "# how many labels? If yours is a binary classification task, then you'll have 2 labels.\n",
    "data_df.quality.unique()"
   ]
  },
  {
   "cell_type": "code",
   "execution_count": 37,
   "metadata": {
    "id": "0nSKpV6FZFaN"
   },
   "outputs": [],
   "source": [
    "# convert these quaity measures to labels (0 to 5)\n",
    "def get_label(quality):\n",
    "    if quality == 3:\n",
    "        return 0\n",
    "    elif quality == 4:\n",
    "        return 1\n",
    "    elif quality == 5:\n",
    "        return 2\n",
    "    elif quality == 6:\n",
    "        return 3\n",
    "    elif quality == 7:\n",
    "        return 4\n",
    "    else:\n",
    "        return 5\n",
    "\n",
    "labels = data_df['quality'].apply(get_label)\n",
    "\n",
    "# normalize data\n",
    "data_df = (data_df - data_df.mean()) / data_df.std()\n",
    "data_df['label'] = labels"
   ]
  },
  {
   "cell_type": "code",
   "execution_count": 38,
   "metadata": {
    "colab": {
     "base_uri": "https://localhost:8080/",
     "height": 204
    },
    "id": "DX2cZiS2gs5f",
    "outputId": "e8ef29c9-9a82-4468-8091-30e623126953"
   },
   "outputs": [
    {
     "data": {
      "text/html": [
       "<div>\n",
       "<style scoped>\n",
       "    .dataframe tbody tr th:only-of-type {\n",
       "        vertical-align: middle;\n",
       "    }\n",
       "\n",
       "    .dataframe tbody tr th {\n",
       "        vertical-align: top;\n",
       "    }\n",
       "\n",
       "    .dataframe thead th {\n",
       "        text-align: right;\n",
       "    }\n",
       "</style>\n",
       "<table border=\"1\" class=\"dataframe\">\n",
       "  <thead>\n",
       "    <tr style=\"text-align: right;\">\n",
       "      <th></th>\n",
       "      <th>fixed acidity</th>\n",
       "      <th>volatile acidity</th>\n",
       "      <th>citric acid</th>\n",
       "      <th>residual sugar</th>\n",
       "      <th>chlorides</th>\n",
       "      <th>free sulfur dioxide</th>\n",
       "      <th>total sulfur dioxide</th>\n",
       "      <th>density</th>\n",
       "      <th>pH</th>\n",
       "      <th>sulphates</th>\n",
       "      <th>alcohol</th>\n",
       "      <th>quality</th>\n",
       "      <th>label</th>\n",
       "    </tr>\n",
       "  </thead>\n",
       "  <tbody>\n",
       "    <tr>\n",
       "      <th>0</th>\n",
       "      <td>-0.528194</td>\n",
       "      <td>0.961576</td>\n",
       "      <td>-1.391037</td>\n",
       "      <td>-0.453077</td>\n",
       "      <td>-0.243630</td>\n",
       "      <td>-0.466047</td>\n",
       "      <td>-0.379014</td>\n",
       "      <td>0.558100</td>\n",
       "      <td>1.288240</td>\n",
       "      <td>-0.579025</td>\n",
       "      <td>-0.959946</td>\n",
       "      <td>-0.787576</td>\n",
       "      <td>2</td>\n",
       "    </tr>\n",
       "    <tr>\n",
       "      <th>1</th>\n",
       "      <td>-0.298454</td>\n",
       "      <td>1.966827</td>\n",
       "      <td>-1.391037</td>\n",
       "      <td>0.043403</td>\n",
       "      <td>0.223805</td>\n",
       "      <td>0.872365</td>\n",
       "      <td>0.624168</td>\n",
       "      <td>0.028252</td>\n",
       "      <td>-0.719708</td>\n",
       "      <td>0.128910</td>\n",
       "      <td>-0.584594</td>\n",
       "      <td>-0.787576</td>\n",
       "      <td>2</td>\n",
       "    </tr>\n",
       "    <tr>\n",
       "      <th>2</th>\n",
       "      <td>-0.298454</td>\n",
       "      <td>1.296660</td>\n",
       "      <td>-1.185699</td>\n",
       "      <td>-0.169374</td>\n",
       "      <td>0.096323</td>\n",
       "      <td>-0.083643</td>\n",
       "      <td>0.228975</td>\n",
       "      <td>0.134222</td>\n",
       "      <td>-0.331073</td>\n",
       "      <td>-0.048074</td>\n",
       "      <td>-0.584594</td>\n",
       "      <td>-0.787576</td>\n",
       "      <td>2</td>\n",
       "    </tr>\n",
       "    <tr>\n",
       "      <th>3</th>\n",
       "      <td>1.654339</td>\n",
       "      <td>-1.384011</td>\n",
       "      <td>1.483689</td>\n",
       "      <td>-0.453077</td>\n",
       "      <td>-0.264878</td>\n",
       "      <td>0.107558</td>\n",
       "      <td>0.411372</td>\n",
       "      <td>0.664069</td>\n",
       "      <td>-0.978798</td>\n",
       "      <td>-0.461036</td>\n",
       "      <td>-0.584594</td>\n",
       "      <td>0.450707</td>\n",
       "      <td>3</td>\n",
       "    </tr>\n",
       "    <tr>\n",
       "      <th>4</th>\n",
       "      <td>-0.528194</td>\n",
       "      <td>0.961576</td>\n",
       "      <td>-1.391037</td>\n",
       "      <td>-0.453077</td>\n",
       "      <td>-0.243630</td>\n",
       "      <td>-0.466047</td>\n",
       "      <td>-0.379014</td>\n",
       "      <td>0.558100</td>\n",
       "      <td>1.288240</td>\n",
       "      <td>-0.579025</td>\n",
       "      <td>-0.959946</td>\n",
       "      <td>-0.787576</td>\n",
       "      <td>2</td>\n",
       "    </tr>\n",
       "  </tbody>\n",
       "</table>\n",
       "</div>"
      ],
      "text/plain": [
       "   fixed acidity  volatile acidity  citric acid  residual sugar  chlorides  \\\n",
       "0      -0.528194          0.961576    -1.391037       -0.453077  -0.243630   \n",
       "1      -0.298454          1.966827    -1.391037        0.043403   0.223805   \n",
       "2      -0.298454          1.296660    -1.185699       -0.169374   0.096323   \n",
       "3       1.654339         -1.384011     1.483689       -0.453077  -0.264878   \n",
       "4      -0.528194          0.961576    -1.391037       -0.453077  -0.243630   \n",
       "\n",
       "   free sulfur dioxide  total sulfur dioxide   density        pH  sulphates  \\\n",
       "0            -0.466047             -0.379014  0.558100  1.288240  -0.579025   \n",
       "1             0.872365              0.624168  0.028252 -0.719708   0.128910   \n",
       "2            -0.083643              0.228975  0.134222 -0.331073  -0.048074   \n",
       "3             0.107558              0.411372  0.664069 -0.978798  -0.461036   \n",
       "4            -0.466047             -0.379014  0.558100  1.288240  -0.579025   \n",
       "\n",
       "    alcohol   quality  label  \n",
       "0 -0.959946 -0.787576      2  \n",
       "1 -0.584594 -0.787576      2  \n",
       "2 -0.584594 -0.787576      2  \n",
       "3 -0.584594  0.450707      3  \n",
       "4 -0.959946 -0.787576      2  "
      ]
     },
     "execution_count": 38,
     "metadata": {},
     "output_type": "execute_result"
    }
   ],
   "source": [
    "data_df.head()"
   ]
  },
  {
   "cell_type": "code",
   "execution_count": 39,
   "metadata": {
    "colab": {
     "base_uri": "https://localhost:8080/",
     "height": 297
    },
    "id": "rLSIw4GJAjIF",
    "outputId": "5c24977f-d49a-4bfa-9702-3d34894834a2"
   },
   "outputs": [
    {
     "data": {
      "text/html": [
       "<div>\n",
       "<style scoped>\n",
       "    .dataframe tbody tr th:only-of-type {\n",
       "        vertical-align: middle;\n",
       "    }\n",
       "\n",
       "    .dataframe tbody tr th {\n",
       "        vertical-align: top;\n",
       "    }\n",
       "\n",
       "    .dataframe thead th {\n",
       "        text-align: right;\n",
       "    }\n",
       "</style>\n",
       "<table border=\"1\" class=\"dataframe\">\n",
       "  <thead>\n",
       "    <tr style=\"text-align: right;\">\n",
       "      <th></th>\n",
       "      <th>fixed acidity</th>\n",
       "      <th>volatile acidity</th>\n",
       "      <th>citric acid</th>\n",
       "      <th>residual sugar</th>\n",
       "      <th>chlorides</th>\n",
       "      <th>free sulfur dioxide</th>\n",
       "      <th>total sulfur dioxide</th>\n",
       "      <th>density</th>\n",
       "      <th>pH</th>\n",
       "      <th>sulphates</th>\n",
       "      <th>alcohol</th>\n",
       "      <th>quality</th>\n",
       "      <th>label</th>\n",
       "    </tr>\n",
       "  </thead>\n",
       "  <tbody>\n",
       "    <tr>\n",
       "      <th>count</th>\n",
       "      <td>1.599000e+03</td>\n",
       "      <td>1.599000e+03</td>\n",
       "      <td>1.599000e+03</td>\n",
       "      <td>1.599000e+03</td>\n",
       "      <td>1.599000e+03</td>\n",
       "      <td>1.599000e+03</td>\n",
       "      <td>1.599000e+03</td>\n",
       "      <td>1.599000e+03</td>\n",
       "      <td>1.599000e+03</td>\n",
       "      <td>1.599000e+03</td>\n",
       "      <td>1.599000e+03</td>\n",
       "      <td>1.599000e+03</td>\n",
       "      <td>1599.000000</td>\n",
       "    </tr>\n",
       "    <tr>\n",
       "      <th>mean</th>\n",
       "      <td>-1.570643e-14</td>\n",
       "      <td>-1.590973e-15</td>\n",
       "      <td>6.045057e-15</td>\n",
       "      <td>-1.344696e-15</td>\n",
       "      <td>4.924731e-15</td>\n",
       "      <td>-7.724347e-17</td>\n",
       "      <td>1.619856e-16</td>\n",
       "      <td>4.946064e-13</td>\n",
       "      <td>-5.937923e-15</td>\n",
       "      <td>-2.175036e-15</td>\n",
       "      <td>2.580411e-14</td>\n",
       "      <td>1.081756e-15</td>\n",
       "      <td>2.636023</td>\n",
       "    </tr>\n",
       "    <tr>\n",
       "      <th>std</th>\n",
       "      <td>1.000000e+00</td>\n",
       "      <td>1.000000e+00</td>\n",
       "      <td>1.000000e+00</td>\n",
       "      <td>1.000000e+00</td>\n",
       "      <td>1.000000e+00</td>\n",
       "      <td>1.000000e+00</td>\n",
       "      <td>1.000000e+00</td>\n",
       "      <td>1.000000e+00</td>\n",
       "      <td>1.000000e+00</td>\n",
       "      <td>1.000000e+00</td>\n",
       "      <td>1.000000e+00</td>\n",
       "      <td>1.000000e+00</td>\n",
       "      <td>0.807569</td>\n",
       "    </tr>\n",
       "    <tr>\n",
       "      <th>min</th>\n",
       "      <td>-2.136377e+00</td>\n",
       "      <td>-2.277567e+00</td>\n",
       "      <td>-1.391037e+00</td>\n",
       "      <td>-1.162333e+00</td>\n",
       "      <td>-1.603443e+00</td>\n",
       "      <td>-1.422055e+00</td>\n",
       "      <td>-1.230199e+00</td>\n",
       "      <td>-3.537625e+00</td>\n",
       "      <td>-3.699244e+00</td>\n",
       "      <td>-1.935902e+00</td>\n",
       "      <td>-1.898325e+00</td>\n",
       "      <td>-3.264143e+00</td>\n",
       "      <td>0.000000</td>\n",
       "    </tr>\n",
       "    <tr>\n",
       "      <th>25%</th>\n",
       "      <td>-7.004996e-01</td>\n",
       "      <td>-7.696903e-01</td>\n",
       "      <td>-9.290275e-01</td>\n",
       "      <td>-4.530767e-01</td>\n",
       "      <td>-3.711129e-01</td>\n",
       "      <td>-8.484502e-01</td>\n",
       "      <td>-7.438076e-01</td>\n",
       "      <td>-6.075656e-01</td>\n",
       "      <td>-6.549356e-01</td>\n",
       "      <td>-6.380200e-01</td>\n",
       "      <td>-8.661079e-01</td>\n",
       "      <td>-7.875763e-01</td>\n",
       "      <td>2.000000</td>\n",
       "    </tr>\n",
       "    <tr>\n",
       "      <th>50%</th>\n",
       "      <td>-2.410190e-01</td>\n",
       "      <td>-4.367545e-02</td>\n",
       "      <td>-5.634264e-02</td>\n",
       "      <td>-2.402999e-01</td>\n",
       "      <td>-1.798892e-01</td>\n",
       "      <td>-1.792441e-01</td>\n",
       "      <td>-2.574163e-01</td>\n",
       "      <td>1.759533e-03</td>\n",
       "      <td>-7.210449e-03</td>\n",
       "      <td>-2.250577e-01</td>\n",
       "      <td>-2.092427e-01</td>\n",
       "      <td>4.507074e-01</td>\n",
       "      <td>3.000000</td>\n",
       "    </tr>\n",
       "    <tr>\n",
       "      <th>75%</th>\n",
       "      <td>5.056370e-01</td>\n",
       "      <td>6.264921e-01</td>\n",
       "      <td>7.650078e-01</td>\n",
       "      <td>4.340257e-02</td>\n",
       "      <td>5.382858e-02</td>\n",
       "      <td>4.899619e-01</td>\n",
       "      <td>4.721707e-01</td>\n",
       "      <td>5.766445e-01</td>\n",
       "      <td>5.757422e-01</td>\n",
       "      <td>4.238832e-01</td>\n",
       "      <td>6.352984e-01</td>\n",
       "      <td>4.507074e-01</td>\n",
       "      <td>3.000000</td>\n",
       "    </tr>\n",
       "    <tr>\n",
       "      <th>max</th>\n",
       "      <td>4.353787e+00</td>\n",
       "      <td>5.876138e+00</td>\n",
       "      <td>3.742403e+00</td>\n",
       "      <td>9.192806e+00</td>\n",
       "      <td>1.112355e+01</td>\n",
       "      <td>5.365606e+00</td>\n",
       "      <td>7.372847e+00</td>\n",
       "      <td>3.678904e+00</td>\n",
       "      <td>4.526866e+00</td>\n",
       "      <td>7.916200e+00</td>\n",
       "      <td>4.201138e+00</td>\n",
       "      <td>2.927275e+00</td>\n",
       "      <td>5.000000</td>\n",
       "    </tr>\n",
       "  </tbody>\n",
       "</table>\n",
       "</div>"
      ],
      "text/plain": [
       "       fixed acidity  volatile acidity   citric acid  residual sugar  \\\n",
       "count   1.599000e+03      1.599000e+03  1.599000e+03    1.599000e+03   \n",
       "mean   -1.570643e-14     -1.590973e-15  6.045057e-15   -1.344696e-15   \n",
       "std     1.000000e+00      1.000000e+00  1.000000e+00    1.000000e+00   \n",
       "min    -2.136377e+00     -2.277567e+00 -1.391037e+00   -1.162333e+00   \n",
       "25%    -7.004996e-01     -7.696903e-01 -9.290275e-01   -4.530767e-01   \n",
       "50%    -2.410190e-01     -4.367545e-02 -5.634264e-02   -2.402999e-01   \n",
       "75%     5.056370e-01      6.264921e-01  7.650078e-01    4.340257e-02   \n",
       "max     4.353787e+00      5.876138e+00  3.742403e+00    9.192806e+00   \n",
       "\n",
       "          chlorides  free sulfur dioxide  total sulfur dioxide       density  \\\n",
       "count  1.599000e+03         1.599000e+03          1.599000e+03  1.599000e+03   \n",
       "mean   4.924731e-15        -7.724347e-17          1.619856e-16  4.946064e-13   \n",
       "std    1.000000e+00         1.000000e+00          1.000000e+00  1.000000e+00   \n",
       "min   -1.603443e+00        -1.422055e+00         -1.230199e+00 -3.537625e+00   \n",
       "25%   -3.711129e-01        -8.484502e-01         -7.438076e-01 -6.075656e-01   \n",
       "50%   -1.798892e-01        -1.792441e-01         -2.574163e-01  1.759533e-03   \n",
       "75%    5.382858e-02         4.899619e-01          4.721707e-01  5.766445e-01   \n",
       "max    1.112355e+01         5.365606e+00          7.372847e+00  3.678904e+00   \n",
       "\n",
       "                 pH     sulphates       alcohol       quality        label  \n",
       "count  1.599000e+03  1.599000e+03  1.599000e+03  1.599000e+03  1599.000000  \n",
       "mean  -5.937923e-15 -2.175036e-15  2.580411e-14  1.081756e-15     2.636023  \n",
       "std    1.000000e+00  1.000000e+00  1.000000e+00  1.000000e+00     0.807569  \n",
       "min   -3.699244e+00 -1.935902e+00 -1.898325e+00 -3.264143e+00     0.000000  \n",
       "25%   -6.549356e-01 -6.380200e-01 -8.661079e-01 -7.875763e-01     2.000000  \n",
       "50%   -7.210449e-03 -2.250577e-01 -2.092427e-01  4.507074e-01     3.000000  \n",
       "75%    5.757422e-01  4.238832e-01  6.352984e-01  4.507074e-01     3.000000  \n",
       "max    4.526866e+00  7.916200e+00  4.201138e+00  2.927275e+00     5.000000  "
      ]
     },
     "execution_count": 39,
     "metadata": {},
     "output_type": "execute_result"
    }
   ],
   "source": [
    "# sumamry statistics of the data\n",
    "data_df.describe()"
   ]
  },
  {
   "cell_type": "markdown",
   "metadata": {
    "id": "d0HMGVIQAwgL"
   },
   "source": [
    "## Load this dataset for training a neural network"
   ]
  },
  {
   "cell_type": "code",
   "execution_count": 40,
   "metadata": {
    "id": "a9hxNj99A23V"
   },
   "outputs": [],
   "source": [
    "# The dataset class\n",
    "class WineDataset(Dataset):\n",
    "\n",
    "    def __init__(self, data_df):\n",
    "        self.data_df = data_df\n",
    "        self.features = []\n",
    "        self.labels = []\n",
    "        for _, i in data_df.iterrows():\n",
    "            self.features.append([i['fixed acidity'], i['volatile acidity'], i['citric acid'], i['residual sugar'], i['chlorides'], i['free sulfur dioxide'], i['total sulfur dioxide'], i['density'], i['pH'], i['sulphates'], i['alcohol']])\n",
    "            self.labels.append(i['label'])\n",
    "\n",
    "    def __len__(self):\n",
    "        return len(self.data_df)\n",
    "\n",
    "    def __getitem__(self, idx):\n",
    "        if torch.is_tensor(idx):\n",
    "            idx = idx.tolist()\n",
    "\n",
    "        features = self.features[idx]\n",
    "        features = torch.FloatTensor(features)\n",
    "\n",
    "        labels = torch.tensor(int(self.labels[idx]), dtype = torch.long)\n",
    "\n",
    "        return {'labels': labels, 'features': features}\n",
    "\n",
    "wine_dataset = WineDataset(data_df)\n",
    "train_dataset, val_dataset, test_dataset = torch.utils.data.random_split(wine_dataset, [0.8, 0.1, 0.1])\n",
    "\n",
    "# The dataloader\n",
    "train_dataloader = DataLoader(train_dataset, batch_size = 4, shuffle = True, num_workers = 0)\n",
    "val_dataloader = DataLoader(val_dataset, batch_size = 4, shuffle = False, num_workers = 0)\n",
    "test_dataloader = DataLoader(test_dataset, batch_size = 4, shuffle = False, num_workers = 0)"
   ]
  },
  {
   "cell_type": "code",
   "execution_count": 41,
   "metadata": {
    "colab": {
     "base_uri": "https://localhost:8080/"
    },
    "id": "T7paaLBxKIKV",
    "outputId": "4de080df-4b1b-4aa0-833e-1be241c51599"
   },
   "outputs": [
    {
     "name": "stdout",
     "output_type": "stream",
     "text": [
      "{'labels': tensor(2), 'features': tensor([-0.5282,  0.9616, -1.3910, -0.4531, -0.2436, -0.4660, -0.3790,  0.5581,\n",
      "         1.2882, -0.5790, -0.9599])}\n"
     ]
    }
   ],
   "source": [
    "# peak into the dataset\n",
    "for i in wine_dataset:\n",
    "    print(i)\n",
    "    break"
   ]
  },
  {
   "cell_type": "markdown",
   "metadata": {
    "id": "wfUddVfdDRpy"
   },
   "source": [
    "## Neural Network"
   ]
  },
  {
   "cell_type": "code",
   "execution_count": 42,
   "metadata": {
    "id": "h3SKAUaHGsE7"
   },
   "outputs": [],
   "source": [
    "# change the device to gpu if available\n",
    "device = torch.device('cuda' if torch.cuda.is_available() else 'cpu')"
   ]
  },
  {
   "cell_type": "code",
   "execution_count": 43,
   "metadata": {
    "id": "xq1Z_rukDTz-"
   },
   "outputs": [],
   "source": [
    "class WineModel(torch.nn.Module):\n",
    "\n",
    "    def __init__(self):\n",
    "        super(WineModel, self).__init__()\n",
    "\n",
    "        self.linear1 = torch.nn.Linear(11, 200)\n",
    "        self.activation = torch.nn.ReLU()\n",
    "                                      # ENHANCEMENT 3\n",
    "        self.linear2 = torch.nn.Linear(200, 200)\n",
    "        self.linear3 = torch.nn.Linear(200, 6)\n",
    "\n",
    "        self.softmax = torch.nn.Softmax(dim =1)\n",
    "\n",
    "    def forward(self, x):\n",
    "        x = self.linear1(x)\n",
    "        x = self.activation(x)\n",
    "        x = self.linear2(x)\n",
    "        \n",
    "        # ENHANCEMENT 3\n",
    "        x = self.activation(x)\n",
    "        x = self.linear3(x)\n",
    "        \n",
    "        x = self.softmax(x)\n",
    "        return x\n",
    "\n",
    "winemodel = WineModel().to(device)"
   ]
  },
  {
   "cell_type": "markdown",
   "metadata": {
    "id": "4qb3GgFzEr5S"
   },
   "source": [
    "## Training"
   ]
  },
  {
   "cell_type": "code",
   "execution_count": 44,
   "metadata": {
    "id": "8_mWSPkrEtcY"
   },
   "outputs": [],
   "source": [
    "# Define and the loss function and optimizer\n",
    "criterion = nn.CrossEntropyLoss().to(device)\n",
    "                                            # ENHANCEMENT 2\n",
    "optimizer = AdamW(winemodel.parameters(), lr = 1e-3)"
   ]
  },
  {
   "cell_type": "code",
   "execution_count": 45,
   "metadata": {
    "id": "AS13PO4tJGnm"
   },
   "outputs": [],
   "source": [
    "# Lets define the training steps\n",
    "\n",
    "def accuracy(preds, labels):\n",
    "    preds = torch.argmax(preds, dim=1).flatten()\n",
    "    labels = labels.flatten()\n",
    "    return torch.sum(preds == labels) / len(labels)\n",
    "\n",
    "def train(model, data_loader, optimizer, criterion):\n",
    "    epoch_loss = 0\n",
    "    epoch_acc = 0\n",
    "\n",
    "    model.train()\n",
    "    for d in tqdm(data_loader):\n",
    "        inputs = d['features'].to(device)\n",
    "        labels = d['labels'].to(device)\n",
    "        outputs = winemodel(inputs)\n",
    "\n",
    "        _, preds = torch.max(outputs, dim=1)\n",
    "        loss = criterion(outputs, labels)\n",
    "        acc = accuracy(outputs, labels)\n",
    "\n",
    "        loss.backward()\n",
    "        optimizer.step()\n",
    "        optimizer.zero_grad()\n",
    "\n",
    "        epoch_loss += loss.item()\n",
    "        epoch_acc += acc.item()\n",
    "\n",
    "    return epoch_loss / len(data_loader), epoch_acc / len(data_loader)\n",
    "\n",
    "# Lets define the testing steps\n",
    "def evaluate(model, data_loader, criterion):\n",
    "    epoch_loss = 0\n",
    "    epoch_acc = 0\n",
    "    # ENHANCEMENT 1\n",
    "    epoch_precision = 0\n",
    "    epoch_recall = 0\n",
    "    epoch_f1 = 0\n",
    "\n",
    "    model.eval()\n",
    "    with torch.no_grad():\n",
    "        for d in data_loader:\n",
    "            inputs = d['features'].to(device)\n",
    "            labels = d['labels'].to(device)\n",
    "            outputs = winemodel(inputs)\n",
    "\n",
    "            _, preds = torch.max(outputs, dim=1)\n",
    "            loss = criterion(outputs, labels)\n",
    "            acc = accuracy(outputs, labels)\n",
    "            epoch_loss += loss.item()\n",
    "            epoch_acc += acc.item()\n",
    "            \n",
    "            # ENHANCEMENT 1\n",
    "            precision = precision_score(labels.cpu(), preds.cpu(), average='weighted', zero_division=0)\n",
    "            recall = recall_score(labels.cpu(), preds.cpu(), average='weighted',zero_division=0)\n",
    "            f1 = f1_score(labels.cpu(), preds.cpu(), average='weighted',zero_division=0)\n",
    "            epoch_precision += precision\n",
    "            epoch_recall += recall\n",
    "            epoch_f1 += f1\n",
    "            \n",
    "    num_batches = len(data_loader)\n",
    "    return (\n",
    "        epoch_loss / num_batches,\n",
    "        epoch_acc / num_batches,\n",
    "        \n",
    "        # ENHANCEMENT 1\n",
    "        epoch_precision / num_batches, \n",
    "        epoch_recall / num_batches,\n",
    "        epoch_f1 / num_batches\n",
    "    )\n",
    "\n"
   ]
  },
  {
   "cell_type": "code",
   "execution_count": 46,
   "metadata": {
    "id": "algZYvjGQYS3",
    "scrolled": true
   },
   "outputs": [
    {
     "data": {
      "application/vnd.jupyter.widget-view+json": {
       "model_id": "1260dccce6df4de4a7ed05b5a8090f7c",
       "version_major": 2,
       "version_minor": 0
      },
      "text/plain": [
       "  0%|          | 0/320 [00:00<?, ?it/s]"
      ]
     },
     "metadata": {},
     "output_type": "display_data"
    },
    {
     "name": "stdout",
     "output_type": "stream",
     "text": [
      "| Epoch: 01 | Train Loss: 1.489 | Train Acc: 56.25% | Val. Loss: 1.538 | Val. Acc: 50.00% | Val. Precision: 43.646 | Val. Recall: 50.000 | Val. F1-score: 43.893 |\n"
     ]
    },
    {
     "data": {
      "application/vnd.jupyter.widget-view+json": {
       "model_id": "6dedde9880514b0ea4de4b02f0858936",
       "version_major": 2,
       "version_minor": 0
      },
      "text/plain": [
       "  0%|          | 0/320 [00:00<?, ?it/s]"
      ]
     },
     "metadata": {},
     "output_type": "display_data"
    },
    {
     "name": "stdout",
     "output_type": "stream",
     "text": [
      "| Epoch: 02 | Train Loss: 1.447 | Train Acc: 58.83% | Val. Loss: 1.536 | Val. Acc: 50.00% | Val. Precision: 46.094 | Val. Recall: 50.000 | Val. F1-score: 44.565 |\n"
     ]
    },
    {
     "data": {
      "application/vnd.jupyter.widget-view+json": {
       "model_id": "528a0867633740ccad1651ab9e6fd423",
       "version_major": 2,
       "version_minor": 0
      },
      "text/plain": [
       "  0%|          | 0/320 [00:00<?, ?it/s]"
      ]
     },
     "metadata": {},
     "output_type": "display_data"
    },
    {
     "name": "stdout",
     "output_type": "stream",
     "text": [
      "| Epoch: 03 | Train Loss: 1.430 | Train Acc: 61.02% | Val. Loss: 1.538 | Val. Acc: 49.38% | Val. Precision: 41.406 | Val. Recall: 49.375 | Val. F1-score: 43.062 |\n"
     ]
    },
    {
     "data": {
      "application/vnd.jupyter.widget-view+json": {
       "model_id": "fb65abe11adb4b2ca1da11c088a3b997",
       "version_major": 2,
       "version_minor": 0
      },
      "text/plain": [
       "  0%|          | 0/320 [00:00<?, ?it/s]"
      ]
     },
     "metadata": {},
     "output_type": "display_data"
    },
    {
     "name": "stdout",
     "output_type": "stream",
     "text": [
      "| Epoch: 04 | Train Loss: 1.437 | Train Acc: 60.47% | Val. Loss: 1.530 | Val. Acc: 51.88% | Val. Precision: 46.406 | Val. Recall: 51.875 | Val. F1-score: 45.961 |\n"
     ]
    },
    {
     "data": {
      "application/vnd.jupyter.widget-view+json": {
       "model_id": "a3dd6015bdee42929c6c0e466622c331",
       "version_major": 2,
       "version_minor": 0
      },
      "text/plain": [
       "  0%|          | 0/320 [00:00<?, ?it/s]"
      ]
     },
     "metadata": {},
     "output_type": "display_data"
    },
    {
     "name": "stdout",
     "output_type": "stream",
     "text": [
      "| Epoch: 05 | Train Loss: 1.421 | Train Acc: 62.42% | Val. Loss: 1.533 | Val. Acc: 50.00% | Val. Precision: 42.448 | Val. Recall: 50.000 | Val. F1-score: 43.396 |\n"
     ]
    },
    {
     "data": {
      "application/vnd.jupyter.widget-view+json": {
       "model_id": "10b33f30a211412d859c62d26e79a871",
       "version_major": 2,
       "version_minor": 0
      },
      "text/plain": [
       "  0%|          | 0/320 [00:00<?, ?it/s]"
      ]
     },
     "metadata": {},
     "output_type": "display_data"
    },
    {
     "name": "stdout",
     "output_type": "stream",
     "text": [
      "| Epoch: 06 | Train Loss: 1.413 | Train Acc: 62.89% | Val. Loss: 1.536 | Val. Acc: 50.00% | Val. Precision: 46.042 | Val. Recall: 50.000 | Val. F1-score: 44.690 |\n"
     ]
    },
    {
     "data": {
      "application/vnd.jupyter.widget-view+json": {
       "model_id": "5699023b57864fbf881cbb2752563ae0",
       "version_major": 2,
       "version_minor": 0
      },
      "text/plain": [
       "  0%|          | 0/320 [00:00<?, ?it/s]"
      ]
     },
     "metadata": {},
     "output_type": "display_data"
    },
    {
     "name": "stdout",
     "output_type": "stream",
     "text": [
      "| Epoch: 07 | Train Loss: 1.420 | Train Acc: 62.03% | Val. Loss: 1.531 | Val. Acc: 51.25% | Val. Precision: 43.385 | Val. Recall: 51.250 | Val. F1-score: 44.854 |\n"
     ]
    },
    {
     "data": {
      "application/vnd.jupyter.widget-view+json": {
       "model_id": "117c1bbf8f7c4a6a921c61a70d5eced9",
       "version_major": 2,
       "version_minor": 0
      },
      "text/plain": [
       "  0%|          | 0/320 [00:00<?, ?it/s]"
      ]
     },
     "metadata": {},
     "output_type": "display_data"
    },
    {
     "name": "stdout",
     "output_type": "stream",
     "text": [
      "| Epoch: 08 | Train Loss: 1.412 | Train Acc: 62.73% | Val. Loss: 1.540 | Val. Acc: 50.62% | Val. Precision: 43.438 | Val. Recall: 50.625 | Val. F1-score: 43.878 |\n"
     ]
    },
    {
     "data": {
      "application/vnd.jupyter.widget-view+json": {
       "model_id": "c9a82d126f584d13acd929025105326f",
       "version_major": 2,
       "version_minor": 0
      },
      "text/plain": [
       "  0%|          | 0/320 [00:00<?, ?it/s]"
      ]
     },
     "metadata": {},
     "output_type": "display_data"
    },
    {
     "name": "stdout",
     "output_type": "stream",
     "text": [
      "| Epoch: 09 | Train Loss: 1.410 | Train Acc: 63.20% | Val. Loss: 1.528 | Val. Acc: 51.25% | Val. Precision: 42.604 | Val. Recall: 51.250 | Val. F1-score: 44.208 |\n"
     ]
    },
    {
     "data": {
      "application/vnd.jupyter.widget-view+json": {
       "model_id": "c43f1bd4a17349e98db0b773508634df",
       "version_major": 2,
       "version_minor": 0
      },
      "text/plain": [
       "  0%|          | 0/320 [00:00<?, ?it/s]"
      ]
     },
     "metadata": {},
     "output_type": "display_data"
    },
    {
     "name": "stdout",
     "output_type": "stream",
     "text": [
      "| Epoch: 10 | Train Loss: 1.398 | Train Acc: 64.38% | Val. Loss: 1.537 | Val. Acc: 50.00% | Val. Precision: 44.740 | Val. Recall: 50.000 | Val. F1-score: 43.670 |\n"
     ]
    },
    {
     "data": {
      "application/vnd.jupyter.widget-view+json": {
       "model_id": "a8cbe6ae1aa440f9af58d27b2b401f92",
       "version_major": 2,
       "version_minor": 0
      },
      "text/plain": [
       "  0%|          | 0/320 [00:00<?, ?it/s]"
      ]
     },
     "metadata": {},
     "output_type": "display_data"
    },
    {
     "name": "stdout",
     "output_type": "stream",
     "text": [
      "| Epoch: 11 | Train Loss: 1.396 | Train Acc: 64.77% | Val. Loss: 1.527 | Val. Acc: 50.62% | Val. Precision: 44.688 | Val. Recall: 50.625 | Val. F1-score: 44.815 |\n"
     ]
    },
    {
     "data": {
      "application/vnd.jupyter.widget-view+json": {
       "model_id": "48bbff958eae4251b71d27a5140a7a9c",
       "version_major": 2,
       "version_minor": 0
      },
      "text/plain": [
       "  0%|          | 0/320 [00:00<?, ?it/s]"
      ]
     },
     "metadata": {},
     "output_type": "display_data"
    },
    {
     "name": "stdout",
     "output_type": "stream",
     "text": [
      "| Epoch: 12 | Train Loss: 1.395 | Train Acc: 64.77% | Val. Loss: 1.522 | Val. Acc: 51.25% | Val. Precision: 44.479 | Val. Recall: 51.250 | Val. F1-score: 45.125 |\n"
     ]
    },
    {
     "data": {
      "application/vnd.jupyter.widget-view+json": {
       "model_id": "349b29dac84548ea8f6c5e7e4ad39f7b",
       "version_major": 2,
       "version_minor": 0
      },
      "text/plain": [
       "  0%|          | 0/320 [00:00<?, ?it/s]"
      ]
     },
     "metadata": {},
     "output_type": "display_data"
    },
    {
     "name": "stdout",
     "output_type": "stream",
     "text": [
      "| Epoch: 13 | Train Loss: 1.399 | Train Acc: 64.06% | Val. Loss: 1.518 | Val. Acc: 52.50% | Val. Precision: 44.115 | Val. Recall: 52.500 | Val. F1-score: 45.708 |\n"
     ]
    },
    {
     "data": {
      "application/vnd.jupyter.widget-view+json": {
       "model_id": "acebb20c4bb74d70bf2dceacb37080e3",
       "version_major": 2,
       "version_minor": 0
      },
      "text/plain": [
       "  0%|          | 0/320 [00:00<?, ?it/s]"
      ]
     },
     "metadata": {},
     "output_type": "display_data"
    },
    {
     "name": "stdout",
     "output_type": "stream",
     "text": [
      "| Epoch: 14 | Train Loss: 1.388 | Train Acc: 65.39% | Val. Loss: 1.526 | Val. Acc: 50.62% | Val. Precision: 43.646 | Val. Recall: 50.625 | Val. F1-score: 44.333 |\n"
     ]
    },
    {
     "data": {
      "application/vnd.jupyter.widget-view+json": {
       "model_id": "bb8f2f7c098e4ad293d5d744978b9049",
       "version_major": 2,
       "version_minor": 0
      },
      "text/plain": [
       "  0%|          | 0/320 [00:00<?, ?it/s]"
      ]
     },
     "metadata": {},
     "output_type": "display_data"
    },
    {
     "name": "stdout",
     "output_type": "stream",
     "text": [
      "| Epoch: 15 | Train Loss: 1.387 | Train Acc: 65.55% | Val. Loss: 1.525 | Val. Acc: 51.25% | Val. Precision: 43.490 | Val. Recall: 51.250 | Val. F1-score: 44.399 |\n"
     ]
    },
    {
     "data": {
      "application/vnd.jupyter.widget-view+json": {
       "model_id": "6d7262c9fc77414eacf6f867f8dee4a6",
       "version_major": 2,
       "version_minor": 0
      },
      "text/plain": [
       "  0%|          | 0/320 [00:00<?, ?it/s]"
      ]
     },
     "metadata": {},
     "output_type": "display_data"
    },
    {
     "name": "stdout",
     "output_type": "stream",
     "text": [
      "| Epoch: 16 | Train Loss: 1.387 | Train Acc: 65.39% | Val. Loss: 1.531 | Val. Acc: 51.25% | Val. Precision: 43.281 | Val. Recall: 51.250 | Val. F1-score: 44.503 |\n"
     ]
    },
    {
     "data": {
      "application/vnd.jupyter.widget-view+json": {
       "model_id": "280c5c2eff214190bb4ec9cefcfb58f0",
       "version_major": 2,
       "version_minor": 0
      },
      "text/plain": [
       "  0%|          | 0/320 [00:00<?, ?it/s]"
      ]
     },
     "metadata": {},
     "output_type": "display_data"
    },
    {
     "name": "stdout",
     "output_type": "stream",
     "text": [
      "| Epoch: 17 | Train Loss: 1.387 | Train Acc: 65.39% | Val. Loss: 1.514 | Val. Acc: 53.75% | Val. Precision: 44.844 | Val. Recall: 53.750 | Val. F1-score: 46.792 |\n"
     ]
    },
    {
     "data": {
      "application/vnd.jupyter.widget-view+json": {
       "model_id": "fcf5afbbe32346e7bf8e1c6988414e63",
       "version_major": 2,
       "version_minor": 0
      },
      "text/plain": [
       "  0%|          | 0/320 [00:00<?, ?it/s]"
      ]
     },
     "metadata": {},
     "output_type": "display_data"
    },
    {
     "name": "stdout",
     "output_type": "stream",
     "text": [
      "| Epoch: 18 | Train Loss: 1.382 | Train Acc: 66.17% | Val. Loss: 1.524 | Val. Acc: 51.88% | Val. Precision: 46.094 | Val. Recall: 51.875 | Val. F1-score: 45.045 |\n"
     ]
    },
    {
     "data": {
      "application/vnd.jupyter.widget-view+json": {
       "model_id": "b5207058c4774dfaa304087edf91bca8",
       "version_major": 2,
       "version_minor": 0
      },
      "text/plain": [
       "  0%|          | 0/320 [00:00<?, ?it/s]"
      ]
     },
     "metadata": {},
     "output_type": "display_data"
    },
    {
     "name": "stdout",
     "output_type": "stream",
     "text": [
      "| Epoch: 19 | Train Loss: 1.388 | Train Acc: 65.94% | Val. Loss: 1.520 | Val. Acc: 51.88% | Val. Precision: 44.219 | Val. Recall: 51.875 | Val. F1-score: 45.295 |\n"
     ]
    },
    {
     "data": {
      "application/vnd.jupyter.widget-view+json": {
       "model_id": "b15ce87e72ab4639a7aeda7b7e037572",
       "version_major": 2,
       "version_minor": 0
      },
      "text/plain": [
       "  0%|          | 0/320 [00:00<?, ?it/s]"
      ]
     },
     "metadata": {},
     "output_type": "display_data"
    },
    {
     "name": "stdout",
     "output_type": "stream",
     "text": [
      "| Epoch: 20 | Train Loss: 1.381 | Train Acc: 66.17% | Val. Loss: 1.539 | Val. Acc: 50.00% | Val. Precision: 42.188 | Val. Recall: 50.000 | Val. F1-score: 43.336 |\n"
     ]
    },
    {
     "data": {
      "application/vnd.jupyter.widget-view+json": {
       "model_id": "fd7e47976c1c475fa86575f944335794",
       "version_major": 2,
       "version_minor": 0
      },
      "text/plain": [
       "  0%|          | 0/320 [00:00<?, ?it/s]"
      ]
     },
     "metadata": {},
     "output_type": "display_data"
    },
    {
     "name": "stdout",
     "output_type": "stream",
     "text": [
      "| Epoch: 21 | Train Loss: 1.377 | Train Acc: 66.72% | Val. Loss: 1.521 | Val. Acc: 52.50% | Val. Precision: 44.896 | Val. Recall: 52.500 | Val. F1-score: 45.753 |\n"
     ]
    },
    {
     "data": {
      "application/vnd.jupyter.widget-view+json": {
       "model_id": "0b368063b7894a72994ce4f232a885f1",
       "version_major": 2,
       "version_minor": 0
      },
      "text/plain": [
       "  0%|          | 0/320 [00:00<?, ?it/s]"
      ]
     },
     "metadata": {},
     "output_type": "display_data"
    },
    {
     "name": "stdout",
     "output_type": "stream",
     "text": [
      "| Epoch: 22 | Train Loss: 1.371 | Train Acc: 67.50% | Val. Loss: 1.528 | Val. Acc: 51.25% | Val. Precision: 44.271 | Val. Recall: 51.250 | Val. F1-score: 45.128 |\n"
     ]
    },
    {
     "data": {
      "application/vnd.jupyter.widget-view+json": {
       "model_id": "615c4710ad62480cbb15739e17954464",
       "version_major": 2,
       "version_minor": 0
      },
      "text/plain": [
       "  0%|          | 0/320 [00:00<?, ?it/s]"
      ]
     },
     "metadata": {},
     "output_type": "display_data"
    },
    {
     "name": "stdout",
     "output_type": "stream",
     "text": [
      "| Epoch: 23 | Train Loss: 1.375 | Train Acc: 66.88% | Val. Loss: 1.521 | Val. Acc: 51.88% | Val. Precision: 45.312 | Val. Recall: 51.875 | Val. F1-score: 45.565 |\n"
     ]
    },
    {
     "data": {
      "application/vnd.jupyter.widget-view+json": {
       "model_id": "166b2d6f26b7411db76fdba89e0eb791",
       "version_major": 2,
       "version_minor": 0
      },
      "text/plain": [
       "  0%|          | 0/320 [00:00<?, ?it/s]"
      ]
     },
     "metadata": {},
     "output_type": "display_data"
    },
    {
     "name": "stdout",
     "output_type": "stream",
     "text": [
      "| Epoch: 24 | Train Loss: 1.375 | Train Acc: 67.11% | Val. Loss: 1.522 | Val. Acc: 51.88% | Val. Precision: 47.240 | Val. Recall: 51.875 | Val. F1-score: 46.357 |\n"
     ]
    },
    {
     "data": {
      "application/vnd.jupyter.widget-view+json": {
       "model_id": "8441f2fd69314989b6912143b7c499be",
       "version_major": 2,
       "version_minor": 0
      },
      "text/plain": [
       "  0%|          | 0/320 [00:00<?, ?it/s]"
      ]
     },
     "metadata": {},
     "output_type": "display_data"
    },
    {
     "name": "stdout",
     "output_type": "stream",
     "text": [
      "| Epoch: 25 | Train Loss: 1.370 | Train Acc: 67.42% | Val. Loss: 1.520 | Val. Acc: 53.12% | Val. Precision: 46.615 | Val. Recall: 53.125 | Val. F1-score: 47.086 |\n"
     ]
    },
    {
     "data": {
      "application/vnd.jupyter.widget-view+json": {
       "model_id": "0b20291d1c574d86bc4c7ed7715b31d1",
       "version_major": 2,
       "version_minor": 0
      },
      "text/plain": [
       "  0%|          | 0/320 [00:00<?, ?it/s]"
      ]
     },
     "metadata": {},
     "output_type": "display_data"
    },
    {
     "name": "stdout",
     "output_type": "stream",
     "text": [
      "| Epoch: 26 | Train Loss: 1.361 | Train Acc: 68.52% | Val. Loss: 1.522 | Val. Acc: 52.50% | Val. Precision: 47.969 | Val. Recall: 52.500 | Val. F1-score: 47.146 |\n"
     ]
    },
    {
     "data": {
      "application/vnd.jupyter.widget-view+json": {
       "model_id": "2b0affe1df7648ed89163994b34c3a1f",
       "version_major": 2,
       "version_minor": 0
      },
      "text/plain": [
       "  0%|          | 0/320 [00:00<?, ?it/s]"
      ]
     },
     "metadata": {},
     "output_type": "display_data"
    },
    {
     "name": "stdout",
     "output_type": "stream",
     "text": [
      "| Epoch: 27 | Train Loss: 1.366 | Train Acc: 67.73% | Val. Loss: 1.519 | Val. Acc: 52.50% | Val. Precision: 46.615 | Val. Recall: 52.500 | Val. F1-score: 46.315 |\n"
     ]
    },
    {
     "data": {
      "application/vnd.jupyter.widget-view+json": {
       "model_id": "c5ab99f2cd7545f2856f32688c3f1dc5",
       "version_major": 2,
       "version_minor": 0
      },
      "text/plain": [
       "  0%|          | 0/320 [00:00<?, ?it/s]"
      ]
     },
     "metadata": {},
     "output_type": "display_data"
    },
    {
     "name": "stdout",
     "output_type": "stream",
     "text": [
      "| Epoch: 28 | Train Loss: 1.363 | Train Acc: 68.05% | Val. Loss: 1.517 | Val. Acc: 52.50% | Val. Precision: 46.250 | Val. Recall: 52.500 | Val. F1-score: 46.232 |\n"
     ]
    },
    {
     "data": {
      "application/vnd.jupyter.widget-view+json": {
       "model_id": "c26f3ee6ef6a40aba742f395d3e44c24",
       "version_major": 2,
       "version_minor": 0
      },
      "text/plain": [
       "  0%|          | 0/320 [00:00<?, ?it/s]"
      ]
     },
     "metadata": {},
     "output_type": "display_data"
    },
    {
     "name": "stdout",
     "output_type": "stream",
     "text": [
      "| Epoch: 29 | Train Loss: 1.361 | Train Acc: 68.75% | Val. Loss: 1.525 | Val. Acc: 51.88% | Val. Precision: 47.344 | Val. Recall: 51.875 | Val. F1-score: 46.461 |\n"
     ]
    },
    {
     "data": {
      "application/vnd.jupyter.widget-view+json": {
       "model_id": "0bd04462d8074eb1bb0d803fff893021",
       "version_major": 2,
       "version_minor": 0
      },
      "text/plain": [
       "  0%|          | 0/320 [00:00<?, ?it/s]"
      ]
     },
     "metadata": {},
     "output_type": "display_data"
    },
    {
     "name": "stdout",
     "output_type": "stream",
     "text": [
      "| Epoch: 30 | Train Loss: 1.364 | Train Acc: 67.97% | Val. Loss: 1.523 | Val. Acc: 51.88% | Val. Precision: 46.927 | Val. Recall: 51.875 | Val. F1-score: 46.670 |\n"
     ]
    },
    {
     "data": {
      "application/vnd.jupyter.widget-view+json": {
       "model_id": "d5fbafd94e8941bba3c069f23bffe49c",
       "version_major": 2,
       "version_minor": 0
      },
      "text/plain": [
       "  0%|          | 0/320 [00:00<?, ?it/s]"
      ]
     },
     "metadata": {},
     "output_type": "display_data"
    },
    {
     "name": "stdout",
     "output_type": "stream",
     "text": [
      "| Epoch: 31 | Train Loss: 1.365 | Train Acc: 68.12% | Val. Loss: 1.507 | Val. Acc: 53.75% | Val. Precision: 47.135 | Val. Recall: 53.750 | Val. F1-score: 47.854 |\n"
     ]
    },
    {
     "data": {
      "application/vnd.jupyter.widget-view+json": {
       "model_id": "3cae32b56c414f7fae590828b5e32845",
       "version_major": 2,
       "version_minor": 0
      },
      "text/plain": [
       "  0%|          | 0/320 [00:00<?, ?it/s]"
      ]
     },
     "metadata": {},
     "output_type": "display_data"
    },
    {
     "name": "stdout",
     "output_type": "stream",
     "text": [
      "| Epoch: 32 | Train Loss: 1.355 | Train Acc: 68.91% | Val. Loss: 1.520 | Val. Acc: 51.88% | Val. Precision: 44.688 | Val. Recall: 51.875 | Val. F1-score: 45.565 |\n"
     ]
    },
    {
     "data": {
      "application/vnd.jupyter.widget-view+json": {
       "model_id": "fa5ebb7248bd46a09a3871480eb12df9",
       "version_major": 2,
       "version_minor": 0
      },
      "text/plain": [
       "  0%|          | 0/320 [00:00<?, ?it/s]"
      ]
     },
     "metadata": {},
     "output_type": "display_data"
    },
    {
     "name": "stdout",
     "output_type": "stream",
     "text": [
      "| Epoch: 33 | Train Loss: 1.349 | Train Acc: 69.92% | Val. Loss: 1.524 | Val. Acc: 51.88% | Val. Precision: 46.458 | Val. Recall: 51.875 | Val. F1-score: 46.479 |\n"
     ]
    },
    {
     "data": {
      "application/vnd.jupyter.widget-view+json": {
       "model_id": "1bfc1d99fdcb4913ae7eea718308246f",
       "version_major": 2,
       "version_minor": 0
      },
      "text/plain": [
       "  0%|          | 0/320 [00:00<?, ?it/s]"
      ]
     },
     "metadata": {},
     "output_type": "display_data"
    },
    {
     "name": "stdout",
     "output_type": "stream",
     "text": [
      "| Epoch: 34 | Train Loss: 1.353 | Train Acc: 68.98% | Val. Loss: 1.511 | Val. Acc: 52.50% | Val. Precision: 46.979 | Val. Recall: 52.500 | Val. F1-score: 47.063 |\n"
     ]
    },
    {
     "data": {
      "application/vnd.jupyter.widget-view+json": {
       "model_id": "612517bc899f42108779b1829a392156",
       "version_major": 2,
       "version_minor": 0
      },
      "text/plain": [
       "  0%|          | 0/320 [00:00<?, ?it/s]"
      ]
     },
     "metadata": {},
     "output_type": "display_data"
    },
    {
     "name": "stdout",
     "output_type": "stream",
     "text": [
      "| Epoch: 35 | Train Loss: 1.360 | Train Acc: 68.59% | Val. Loss: 1.525 | Val. Acc: 51.88% | Val. Precision: 44.479 | Val. Recall: 51.875 | Val. F1-score: 45.440 |\n"
     ]
    },
    {
     "data": {
      "application/vnd.jupyter.widget-view+json": {
       "model_id": "dd6062e1097149ceb8d226376f398dcf",
       "version_major": 2,
       "version_minor": 0
      },
      "text/plain": [
       "  0%|          | 0/320 [00:00<?, ?it/s]"
      ]
     },
     "metadata": {},
     "output_type": "display_data"
    },
    {
     "name": "stdout",
     "output_type": "stream",
     "text": [
      "| Epoch: 36 | Train Loss: 1.350 | Train Acc: 69.53% | Val. Loss: 1.533 | Val. Acc: 51.88% | Val. Precision: 47.500 | Val. Recall: 51.875 | Val. F1-score: 46.729 |\n"
     ]
    },
    {
     "data": {
      "application/vnd.jupyter.widget-view+json": {
       "model_id": "3cc74a4525e8412699421a6187fdc9ca",
       "version_major": 2,
       "version_minor": 0
      },
      "text/plain": [
       "  0%|          | 0/320 [00:00<?, ?it/s]"
      ]
     },
     "metadata": {},
     "output_type": "display_data"
    },
    {
     "name": "stdout",
     "output_type": "stream",
     "text": [
      "| Epoch: 37 | Train Loss: 1.346 | Train Acc: 70.16% | Val. Loss: 1.511 | Val. Acc: 52.50% | Val. Precision: 45.312 | Val. Recall: 52.500 | Val. F1-score: 46.271 |\n"
     ]
    },
    {
     "data": {
      "application/vnd.jupyter.widget-view+json": {
       "model_id": "c82d38ab9ec640c5a9b6494a7775ab70",
       "version_major": 2,
       "version_minor": 0
      },
      "text/plain": [
       "  0%|          | 0/320 [00:00<?, ?it/s]"
      ]
     },
     "metadata": {},
     "output_type": "display_data"
    },
    {
     "name": "stdout",
     "output_type": "stream",
     "text": [
      "| Epoch: 38 | Train Loss: 1.345 | Train Acc: 70.08% | Val. Loss: 1.510 | Val. Acc: 53.75% | Val. Precision: 46.771 | Val. Recall: 53.750 | Val. F1-score: 47.628 |\n"
     ]
    },
    {
     "data": {
      "application/vnd.jupyter.widget-view+json": {
       "model_id": "2a78ba4ed52b43a6ad1d899ea3491b9b",
       "version_major": 2,
       "version_minor": 0
      },
      "text/plain": [
       "  0%|          | 0/320 [00:00<?, ?it/s]"
      ]
     },
     "metadata": {},
     "output_type": "display_data"
    },
    {
     "name": "stdout",
     "output_type": "stream",
     "text": [
      "| Epoch: 39 | Train Loss: 1.340 | Train Acc: 70.55% | Val. Loss: 1.513 | Val. Acc: 53.12% | Val. Precision: 46.667 | Val. Recall: 53.125 | Val. F1-score: 47.107 |\n"
     ]
    },
    {
     "data": {
      "application/vnd.jupyter.widget-view+json": {
       "model_id": "5837019c58714f23a12e1f0d6c42ba7a",
       "version_major": 2,
       "version_minor": 0
      },
      "text/plain": [
       "  0%|          | 0/320 [00:00<?, ?it/s]"
      ]
     },
     "metadata": {},
     "output_type": "display_data"
    },
    {
     "name": "stdout",
     "output_type": "stream",
     "text": [
      "| Epoch: 40 | Train Loss: 1.340 | Train Acc: 70.62% | Val. Loss: 1.515 | Val. Acc: 53.12% | Val. Precision: 47.083 | Val. Recall: 53.125 | Val. F1-score: 47.312 |\n"
     ]
    },
    {
     "data": {
      "application/vnd.jupyter.widget-view+json": {
       "model_id": "7030bbf7bdc34c82bd7b9509179ee4c3",
       "version_major": 2,
       "version_minor": 0
      },
      "text/plain": [
       "  0%|          | 0/320 [00:00<?, ?it/s]"
      ]
     },
     "metadata": {},
     "output_type": "display_data"
    },
    {
     "name": "stdout",
     "output_type": "stream",
     "text": [
      "| Epoch: 41 | Train Loss: 1.334 | Train Acc: 71.02% | Val. Loss: 1.512 | Val. Acc: 53.75% | Val. Precision: 50.365 | Val. Recall: 53.750 | Val. F1-score: 49.167 |\n"
     ]
    },
    {
     "data": {
      "application/vnd.jupyter.widget-view+json": {
       "model_id": "f914f50349d94554a47c2c127ba5a385",
       "version_major": 2,
       "version_minor": 0
      },
      "text/plain": [
       "  0%|          | 0/320 [00:00<?, ?it/s]"
      ]
     },
     "metadata": {},
     "output_type": "display_data"
    },
    {
     "name": "stdout",
     "output_type": "stream",
     "text": [
      "| Epoch: 42 | Train Loss: 1.334 | Train Acc: 71.25% | Val. Loss: 1.514 | Val. Acc: 52.50% | Val. Precision: 47.708 | Val. Recall: 52.500 | Val. F1-score: 47.310 |\n"
     ]
    },
    {
     "data": {
      "application/vnd.jupyter.widget-view+json": {
       "model_id": "87957e6388a1420782ac201eae4b3d40",
       "version_major": 2,
       "version_minor": 0
      },
      "text/plain": [
       "  0%|          | 0/320 [00:00<?, ?it/s]"
      ]
     },
     "metadata": {},
     "output_type": "display_data"
    },
    {
     "name": "stdout",
     "output_type": "stream",
     "text": [
      "| Epoch: 43 | Train Loss: 1.336 | Train Acc: 70.86% | Val. Loss: 1.510 | Val. Acc: 52.50% | Val. Precision: 47.135 | Val. Recall: 52.500 | Val. F1-score: 46.940 |\n"
     ]
    },
    {
     "data": {
      "application/vnd.jupyter.widget-view+json": {
       "model_id": "38f898fd06cf4b8a8377bdb72af5408f",
       "version_major": 2,
       "version_minor": 0
      },
      "text/plain": [
       "  0%|          | 0/320 [00:00<?, ?it/s]"
      ]
     },
     "metadata": {},
     "output_type": "display_data"
    },
    {
     "name": "stdout",
     "output_type": "stream",
     "text": [
      "| Epoch: 44 | Train Loss: 1.339 | Train Acc: 70.55% | Val. Loss: 1.507 | Val. Acc: 52.50% | Val. Precision: 47.135 | Val. Recall: 52.500 | Val. F1-score: 47.128 |\n"
     ]
    },
    {
     "data": {
      "application/vnd.jupyter.widget-view+json": {
       "model_id": "7c306db48bb44ecfa39ab5b96f425d43",
       "version_major": 2,
       "version_minor": 0
      },
      "text/plain": [
       "  0%|          | 0/320 [00:00<?, ?it/s]"
      ]
     },
     "metadata": {},
     "output_type": "display_data"
    },
    {
     "name": "stdout",
     "output_type": "stream",
     "text": [
      "| Epoch: 45 | Train Loss: 1.327 | Train Acc: 71.88% | Val. Loss: 1.509 | Val. Acc: 52.50% | Val. Precision: 48.021 | Val. Recall: 52.500 | Val. F1-score: 47.149 |\n"
     ]
    },
    {
     "data": {
      "application/vnd.jupyter.widget-view+json": {
       "model_id": "75e1608a436547188862afaacf8e5415",
       "version_major": 2,
       "version_minor": 0
      },
      "text/plain": [
       "  0%|          | 0/320 [00:00<?, ?it/s]"
      ]
     },
     "metadata": {},
     "output_type": "display_data"
    },
    {
     "name": "stdout",
     "output_type": "stream",
     "text": [
      "| Epoch: 46 | Train Loss: 1.326 | Train Acc: 71.88% | Val. Loss: 1.527 | Val. Acc: 52.50% | Val. Precision: 45.781 | Val. Recall: 52.500 | Val. F1-score: 46.461 |\n"
     ]
    },
    {
     "data": {
      "application/vnd.jupyter.widget-view+json": {
       "model_id": "183a6710918a404687c1408e9f9f7aa6",
       "version_major": 2,
       "version_minor": 0
      },
      "text/plain": [
       "  0%|          | 0/320 [00:00<?, ?it/s]"
      ]
     },
     "metadata": {},
     "output_type": "display_data"
    },
    {
     "name": "stdout",
     "output_type": "stream",
     "text": [
      "| Epoch: 47 | Train Loss: 1.333 | Train Acc: 71.09% | Val. Loss: 1.501 | Val. Acc: 53.75% | Val. Precision: 48.854 | Val. Recall: 53.750 | Val. F1-score: 48.482 |\n"
     ]
    },
    {
     "data": {
      "application/vnd.jupyter.widget-view+json": {
       "model_id": "de1d7ba3ba8b46b2868f39a555ed9d25",
       "version_major": 2,
       "version_minor": 0
      },
      "text/plain": [
       "  0%|          | 0/320 [00:00<?, ?it/s]"
      ]
     },
     "metadata": {},
     "output_type": "display_data"
    },
    {
     "name": "stdout",
     "output_type": "stream",
     "text": [
      "| Epoch: 48 | Train Loss: 1.325 | Train Acc: 72.27% | Val. Loss: 1.502 | Val. Acc: 54.37% | Val. Precision: 50.885 | Val. Recall: 54.375 | Val. F1-score: 49.565 |\n"
     ]
    },
    {
     "data": {
      "application/vnd.jupyter.widget-view+json": {
       "model_id": "09ac10dcbc0f44ecb2eb52815161e4c4",
       "version_major": 2,
       "version_minor": 0
      },
      "text/plain": [
       "  0%|          | 0/320 [00:00<?, ?it/s]"
      ]
     },
     "metadata": {},
     "output_type": "display_data"
    },
    {
     "name": "stdout",
     "output_type": "stream",
     "text": [
      "| Epoch: 49 | Train Loss: 1.328 | Train Acc: 71.80% | Val. Loss: 1.496 | Val. Acc: 55.62% | Val. Precision: 50.937 | Val. Recall: 55.625 | Val. F1-score: 50.381 |\n"
     ]
    },
    {
     "data": {
      "application/vnd.jupyter.widget-view+json": {
       "model_id": "a055a18c936840f3b1783a059250919c",
       "version_major": 2,
       "version_minor": 0
      },
      "text/plain": [
       "  0%|          | 0/320 [00:00<?, ?it/s]"
      ]
     },
     "metadata": {},
     "output_type": "display_data"
    },
    {
     "name": "stdout",
     "output_type": "stream",
     "text": [
      "| Epoch: 50 | Train Loss: 1.324 | Train Acc: 72.03% | Val. Loss: 1.503 | Val. Acc: 55.00% | Val. Precision: 48.385 | Val. Recall: 55.000 | Val. F1-score: 48.878 |\n"
     ]
    },
    {
     "data": {
      "application/vnd.jupyter.widget-view+json": {
       "model_id": "f31fc6f8d387486298c55252e147e613",
       "version_major": 2,
       "version_minor": 0
      },
      "text/plain": [
       "  0%|          | 0/320 [00:00<?, ?it/s]"
      ]
     },
     "metadata": {},
     "output_type": "display_data"
    },
    {
     "name": "stdout",
     "output_type": "stream",
     "text": [
      "| Epoch: 51 | Train Loss: 1.319 | Train Acc: 72.66% | Val. Loss: 1.494 | Val. Acc: 54.37% | Val. Precision: 49.375 | Val. Recall: 54.375 | Val. F1-score: 49.065 |\n"
     ]
    },
    {
     "data": {
      "application/vnd.jupyter.widget-view+json": {
       "model_id": "d8fbe8135bb343d5a18985f37c5bd834",
       "version_major": 2,
       "version_minor": 0
      },
      "text/plain": [
       "  0%|          | 0/320 [00:00<?, ?it/s]"
      ]
     },
     "metadata": {},
     "output_type": "display_data"
    },
    {
     "name": "stdout",
     "output_type": "stream",
     "text": [
      "| Epoch: 52 | Train Loss: 1.323 | Train Acc: 72.19% | Val. Loss: 1.494 | Val. Acc: 55.00% | Val. Precision: 50.208 | Val. Recall: 55.000 | Val. F1-score: 49.732 |\n"
     ]
    },
    {
     "data": {
      "application/vnd.jupyter.widget-view+json": {
       "model_id": "a1984013015948e3a587d7f406f856f9",
       "version_major": 2,
       "version_minor": 0
      },
      "text/plain": [
       "  0%|          | 0/320 [00:00<?, ?it/s]"
      ]
     },
     "metadata": {},
     "output_type": "display_data"
    },
    {
     "name": "stdout",
     "output_type": "stream",
     "text": [
      "| Epoch: 53 | Train Loss: 1.316 | Train Acc: 72.89% | Val. Loss: 1.500 | Val. Acc: 54.37% | Val. Precision: 51.562 | Val. Recall: 54.375 | Val. F1-score: 50.149 |\n"
     ]
    },
    {
     "data": {
      "application/vnd.jupyter.widget-view+json": {
       "model_id": "adeaed3ce733466cba7200c83e2ffc46",
       "version_major": 2,
       "version_minor": 0
      },
      "text/plain": [
       "  0%|          | 0/320 [00:00<?, ?it/s]"
      ]
     },
     "metadata": {},
     "output_type": "display_data"
    },
    {
     "name": "stdout",
     "output_type": "stream",
     "text": [
      "| Epoch: 54 | Train Loss: 1.323 | Train Acc: 72.27% | Val. Loss: 1.490 | Val. Acc: 55.62% | Val. Precision: 50.938 | Val. Recall: 55.625 | Val. F1-score: 50.399 |\n"
     ]
    },
    {
     "data": {
      "application/vnd.jupyter.widget-view+json": {
       "model_id": "4bb5ff1663c546c6aa622469ce109a9a",
       "version_major": 2,
       "version_minor": 0
      },
      "text/plain": [
       "  0%|          | 0/320 [00:00<?, ?it/s]"
      ]
     },
     "metadata": {},
     "output_type": "display_data"
    },
    {
     "name": "stdout",
     "output_type": "stream",
     "text": [
      "| Epoch: 55 | Train Loss: 1.317 | Train Acc: 72.73% | Val. Loss: 1.499 | Val. Acc: 53.75% | Val. Precision: 48.802 | Val. Recall: 53.750 | Val. F1-score: 48.461 |\n"
     ]
    },
    {
     "data": {
      "application/vnd.jupyter.widget-view+json": {
       "model_id": "444915391ec446e88a73ed34774a7b04",
       "version_major": 2,
       "version_minor": 0
      },
      "text/plain": [
       "  0%|          | 0/320 [00:00<?, ?it/s]"
      ]
     },
     "metadata": {},
     "output_type": "display_data"
    },
    {
     "name": "stdout",
     "output_type": "stream",
     "text": [
      "| Epoch: 56 | Train Loss: 1.316 | Train Acc: 72.89% | Val. Loss: 1.507 | Val. Acc: 53.12% | Val. Precision: 47.656 | Val. Recall: 53.125 | Val. F1-score: 47.711 |\n"
     ]
    },
    {
     "data": {
      "application/vnd.jupyter.widget-view+json": {
       "model_id": "241a578f6b984bb0b14718c40335e5e3",
       "version_major": 2,
       "version_minor": 0
      },
      "text/plain": [
       "  0%|          | 0/320 [00:00<?, ?it/s]"
      ]
     },
     "metadata": {},
     "output_type": "display_data"
    },
    {
     "name": "stdout",
     "output_type": "stream",
     "text": [
      "| Epoch: 57 | Train Loss: 1.321 | Train Acc: 72.42% | Val. Loss: 1.500 | Val. Acc: 53.75% | Val. Precision: 50.104 | Val. Recall: 53.750 | Val. F1-score: 49.170 |\n"
     ]
    },
    {
     "data": {
      "application/vnd.jupyter.widget-view+json": {
       "model_id": "9df9976f9565445f8095ec6687360612",
       "version_major": 2,
       "version_minor": 0
      },
      "text/plain": [
       "  0%|          | 0/320 [00:00<?, ?it/s]"
      ]
     },
     "metadata": {},
     "output_type": "display_data"
    },
    {
     "name": "stdout",
     "output_type": "stream",
     "text": [
      "| Epoch: 58 | Train Loss: 1.331 | Train Acc: 71.33% | Val. Loss: 1.498 | Val. Acc: 55.00% | Val. Precision: 50.260 | Val. Recall: 55.000 | Val. F1-score: 49.833 |\n"
     ]
    },
    {
     "data": {
      "application/vnd.jupyter.widget-view+json": {
       "model_id": "cad951fa4583460cb3488e4db98963a1",
       "version_major": 2,
       "version_minor": 0
      },
      "text/plain": [
       "  0%|          | 0/320 [00:00<?, ?it/s]"
      ]
     },
     "metadata": {},
     "output_type": "display_data"
    },
    {
     "name": "stdout",
     "output_type": "stream",
     "text": [
      "| Epoch: 59 | Train Loss: 1.333 | Train Acc: 71.17% | Val. Loss: 1.521 | Val. Acc: 51.88% | Val. Precision: 47.760 | Val. Recall: 51.875 | Val. F1-score: 47.351 |\n"
     ]
    },
    {
     "data": {
      "application/vnd.jupyter.widget-view+json": {
       "model_id": "f22707d3dde847b49b3ea2942b6c69dd",
       "version_major": 2,
       "version_minor": 0
      },
      "text/plain": [
       "  0%|          | 0/320 [00:00<?, ?it/s]"
      ]
     },
     "metadata": {},
     "output_type": "display_data"
    },
    {
     "name": "stdout",
     "output_type": "stream",
     "text": [
      "| Epoch: 60 | Train Loss: 1.322 | Train Acc: 72.19% | Val. Loss: 1.482 | Val. Acc: 56.88% | Val. Precision: 51.146 | Val. Recall: 56.875 | Val. F1-score: 51.232 |\n"
     ]
    },
    {
     "data": {
      "application/vnd.jupyter.widget-view+json": {
       "model_id": "15977af0f50b429c9110b1ba2e7ec084",
       "version_major": 2,
       "version_minor": 0
      },
      "text/plain": [
       "  0%|          | 0/320 [00:00<?, ?it/s]"
      ]
     },
     "metadata": {},
     "output_type": "display_data"
    },
    {
     "name": "stdout",
     "output_type": "stream",
     "text": [
      "| Epoch: 61 | Train Loss: 1.315 | Train Acc: 72.89% | Val. Loss: 1.493 | Val. Acc: 55.00% | Val. Precision: 50.781 | Val. Recall: 55.000 | Val. F1-score: 49.982 |\n"
     ]
    },
    {
     "data": {
      "application/vnd.jupyter.widget-view+json": {
       "model_id": "f52de0cf60134114a08e8f1d6842dc57",
       "version_major": 2,
       "version_minor": 0
      },
      "text/plain": [
       "  0%|          | 0/320 [00:00<?, ?it/s]"
      ]
     },
     "metadata": {},
     "output_type": "display_data"
    },
    {
     "name": "stdout",
     "output_type": "stream",
     "text": [
      "| Epoch: 62 | Train Loss: 1.313 | Train Acc: 73.12% | Val. Loss: 1.497 | Val. Acc: 54.37% | Val. Precision: 48.698 | Val. Recall: 54.375 | Val. F1-score: 48.607 |\n"
     ]
    },
    {
     "data": {
      "application/vnd.jupyter.widget-view+json": {
       "model_id": "a1926ce03d5f4b5cbe81c03d79da76c7",
       "version_major": 2,
       "version_minor": 0
      },
      "text/plain": [
       "  0%|          | 0/320 [00:00<?, ?it/s]"
      ]
     },
     "metadata": {},
     "output_type": "display_data"
    },
    {
     "name": "stdout",
     "output_type": "stream",
     "text": [
      "| Epoch: 63 | Train Loss: 1.310 | Train Acc: 73.59% | Val. Loss: 1.516 | Val. Acc: 51.88% | Val. Precision: 46.146 | Val. Recall: 51.875 | Val. F1-score: 46.024 |\n"
     ]
    },
    {
     "data": {
      "application/vnd.jupyter.widget-view+json": {
       "model_id": "21a03a0b0fa848e29b54dd3bb90078ee",
       "version_major": 2,
       "version_minor": 0
      },
      "text/plain": [
       "  0%|          | 0/320 [00:00<?, ?it/s]"
      ]
     },
     "metadata": {},
     "output_type": "display_data"
    },
    {
     "name": "stdout",
     "output_type": "stream",
     "text": [
      "| Epoch: 64 | Train Loss: 1.316 | Train Acc: 73.20% | Val. Loss: 1.494 | Val. Acc: 56.25% | Val. Precision: 50.000 | Val. Recall: 56.250 | Val. F1-score: 50.214 |\n"
     ]
    },
    {
     "data": {
      "application/vnd.jupyter.widget-view+json": {
       "model_id": "8b1d7e1a8a7642149347ab7c984b0087",
       "version_major": 2,
       "version_minor": 0
      },
      "text/plain": [
       "  0%|          | 0/320 [00:00<?, ?it/s]"
      ]
     },
     "metadata": {},
     "output_type": "display_data"
    },
    {
     "name": "stdout",
     "output_type": "stream",
     "text": [
      "| Epoch: 65 | Train Loss: 1.316 | Train Acc: 72.97% | Val. Loss: 1.488 | Val. Acc: 55.00% | Val. Precision: 50.573 | Val. Recall: 55.000 | Val. F1-score: 50.170 |\n"
     ]
    },
    {
     "data": {
      "application/vnd.jupyter.widget-view+json": {
       "model_id": "4584d29790674fe883c99c626f357bda",
       "version_major": 2,
       "version_minor": 0
      },
      "text/plain": [
       "  0%|          | 0/320 [00:00<?, ?it/s]"
      ]
     },
     "metadata": {},
     "output_type": "display_data"
    },
    {
     "name": "stdout",
     "output_type": "stream",
     "text": [
      "| Epoch: 66 | Train Loss: 1.309 | Train Acc: 73.59% | Val. Loss: 1.492 | Val. Acc: 54.37% | Val. Precision: 48.698 | Val. Recall: 54.375 | Val. F1-score: 48.836 |\n"
     ]
    },
    {
     "data": {
      "application/vnd.jupyter.widget-view+json": {
       "model_id": "8166fb0c31b64384af8cffc9ee178219",
       "version_major": 2,
       "version_minor": 0
      },
      "text/plain": [
       "  0%|          | 0/320 [00:00<?, ?it/s]"
      ]
     },
     "metadata": {},
     "output_type": "display_data"
    },
    {
     "name": "stdout",
     "output_type": "stream",
     "text": [
      "| Epoch: 67 | Train Loss: 1.312 | Train Acc: 73.44% | Val. Loss: 1.490 | Val. Acc: 55.62% | Val. Precision: 50.625 | Val. Recall: 55.625 | Val. F1-score: 50.214 |\n"
     ]
    },
    {
     "data": {
      "application/vnd.jupyter.widget-view+json": {
       "model_id": "1f3b8103aaf442c48aa65e6a325b5dad",
       "version_major": 2,
       "version_minor": 0
      },
      "text/plain": [
       "  0%|          | 0/320 [00:00<?, ?it/s]"
      ]
     },
     "metadata": {},
     "output_type": "display_data"
    },
    {
     "name": "stdout",
     "output_type": "stream",
     "text": [
      "| Epoch: 68 | Train Loss: 1.309 | Train Acc: 73.67% | Val. Loss: 1.509 | Val. Acc: 54.37% | Val. Precision: 48.438 | Val. Recall: 54.375 | Val. F1-score: 48.503 |\n"
     ]
    },
    {
     "data": {
      "application/vnd.jupyter.widget-view+json": {
       "model_id": "f52cea4c4c844e0db4888799f648d94c",
       "version_major": 2,
       "version_minor": 0
      },
      "text/plain": [
       "  0%|          | 0/320 [00:00<?, ?it/s]"
      ]
     },
     "metadata": {},
     "output_type": "display_data"
    },
    {
     "name": "stdout",
     "output_type": "stream",
     "text": [
      "| Epoch: 69 | Train Loss: 1.310 | Train Acc: 73.59% | Val. Loss: 1.494 | Val. Acc: 55.62% | Val. Precision: 50.937 | Val. Recall: 55.625 | Val. F1-score: 50.420 |\n"
     ]
    },
    {
     "data": {
      "application/vnd.jupyter.widget-view+json": {
       "model_id": "6a6c849e38154173b765c1adf5dc7350",
       "version_major": 2,
       "version_minor": 0
      },
      "text/plain": [
       "  0%|          | 0/320 [00:00<?, ?it/s]"
      ]
     },
     "metadata": {},
     "output_type": "display_data"
    },
    {
     "name": "stdout",
     "output_type": "stream",
     "text": [
      "| Epoch: 70 | Train Loss: 1.314 | Train Acc: 73.28% | Val. Loss: 1.505 | Val. Acc: 53.12% | Val. Precision: 48.490 | Val. Recall: 53.125 | Val. F1-score: 48.045 |\n"
     ]
    },
    {
     "data": {
      "application/vnd.jupyter.widget-view+json": {
       "model_id": "a540b66b04f741a686ffb798bf45c8bc",
       "version_major": 2,
       "version_minor": 0
      },
      "text/plain": [
       "  0%|          | 0/320 [00:00<?, ?it/s]"
      ]
     },
     "metadata": {},
     "output_type": "display_data"
    },
    {
     "name": "stdout",
     "output_type": "stream",
     "text": [
      "| Epoch: 71 | Train Loss: 1.310 | Train Acc: 73.36% | Val. Loss: 1.500 | Val. Acc: 53.12% | Val. Precision: 48.281 | Val. Recall: 53.125 | Val. F1-score: 47.732 |\n"
     ]
    },
    {
     "data": {
      "application/vnd.jupyter.widget-view+json": {
       "model_id": "da858906ac6f47e9aef0f748d0384e31",
       "version_major": 2,
       "version_minor": 0
      },
      "text/plain": [
       "  0%|          | 0/320 [00:00<?, ?it/s]"
      ]
     },
     "metadata": {},
     "output_type": "display_data"
    },
    {
     "name": "stdout",
     "output_type": "stream",
     "text": [
      "| Epoch: 72 | Train Loss: 1.304 | Train Acc: 74.14% | Val. Loss: 1.495 | Val. Acc: 55.00% | Val. Precision: 50.417 | Val. Recall: 55.000 | Val. F1-score: 49.836 |\n"
     ]
    },
    {
     "data": {
      "application/vnd.jupyter.widget-view+json": {
       "model_id": "4cc108067b414b75976be4732778c4fb",
       "version_major": 2,
       "version_minor": 0
      },
      "text/plain": [
       "  0%|          | 0/320 [00:00<?, ?it/s]"
      ]
     },
     "metadata": {},
     "output_type": "display_data"
    },
    {
     "name": "stdout",
     "output_type": "stream",
     "text": [
      "| Epoch: 73 | Train Loss: 1.311 | Train Acc: 73.44% | Val. Loss: 1.501 | Val. Acc: 54.37% | Val. Precision: 48.073 | Val. Recall: 54.375 | Val. F1-score: 48.461 |\n"
     ]
    },
    {
     "data": {
      "application/vnd.jupyter.widget-view+json": {
       "model_id": "2e7873068f5045fb997e0503d07ea9b2",
       "version_major": 2,
       "version_minor": 0
      },
      "text/plain": [
       "  0%|          | 0/320 [00:00<?, ?it/s]"
      ]
     },
     "metadata": {},
     "output_type": "display_data"
    },
    {
     "name": "stdout",
     "output_type": "stream",
     "text": [
      "| Epoch: 74 | Train Loss: 1.315 | Train Acc: 72.97% | Val. Loss: 1.505 | Val. Acc: 53.12% | Val. Precision: 49.167 | Val. Recall: 53.125 | Val. F1-score: 48.170 |\n"
     ]
    },
    {
     "data": {
      "application/vnd.jupyter.widget-view+json": {
       "model_id": "e4916c0f7a154dc998ee994393bfa806",
       "version_major": 2,
       "version_minor": 0
      },
      "text/plain": [
       "  0%|          | 0/320 [00:00<?, ?it/s]"
      ]
     },
     "metadata": {},
     "output_type": "display_data"
    },
    {
     "name": "stdout",
     "output_type": "stream",
     "text": [
      "| Epoch: 75 | Train Loss: 1.313 | Train Acc: 72.97% | Val. Loss: 1.477 | Val. Acc: 56.25% | Val. Precision: 51.250 | Val. Recall: 56.250 | Val. F1-score: 50.899 |\n"
     ]
    },
    {
     "data": {
      "application/vnd.jupyter.widget-view+json": {
       "model_id": "2467d14a52f14c5bac251978730e403f",
       "version_major": 2,
       "version_minor": 0
      },
      "text/plain": [
       "  0%|          | 0/320 [00:00<?, ?it/s]"
      ]
     },
     "metadata": {},
     "output_type": "display_data"
    },
    {
     "name": "stdout",
     "output_type": "stream",
     "text": [
      "| Epoch: 76 | Train Loss: 1.303 | Train Acc: 74.22% | Val. Loss: 1.487 | Val. Acc: 56.25% | Val. Precision: 51.250 | Val. Recall: 56.250 | Val. F1-score: 50.527 |\n"
     ]
    },
    {
     "data": {
      "application/vnd.jupyter.widget-view+json": {
       "model_id": "6bb0c93419894be4bda67f56cb2dc299",
       "version_major": 2,
       "version_minor": 0
      },
      "text/plain": [
       "  0%|          | 0/320 [00:00<?, ?it/s]"
      ]
     },
     "metadata": {},
     "output_type": "display_data"
    },
    {
     "name": "stdout",
     "output_type": "stream",
     "text": [
      "| Epoch: 77 | Train Loss: 1.298 | Train Acc: 74.61% | Val. Loss: 1.480 | Val. Acc: 56.88% | Val. Precision: 51.042 | Val. Recall: 56.875 | Val. F1-score: 50.923 |\n"
     ]
    },
    {
     "data": {
      "application/vnd.jupyter.widget-view+json": {
       "model_id": "e5293de81f6b4fbd89ab3b1caab67ae7",
       "version_major": 2,
       "version_minor": 0
      },
      "text/plain": [
       "  0%|          | 0/320 [00:00<?, ?it/s]"
      ]
     },
     "metadata": {},
     "output_type": "display_data"
    },
    {
     "name": "stdout",
     "output_type": "stream",
     "text": [
      "| Epoch: 78 | Train Loss: 1.298 | Train Acc: 74.69% | Val. Loss: 1.479 | Val. Acc: 56.88% | Val. Precision: 51.667 | Val. Recall: 56.875 | Val. F1-score: 51.339 |\n"
     ]
    },
    {
     "data": {
      "application/vnd.jupyter.widget-view+json": {
       "model_id": "f0adfb08af394efa9067f7ceddcf0dfe",
       "version_major": 2,
       "version_minor": 0
      },
      "text/plain": [
       "  0%|          | 0/320 [00:00<?, ?it/s]"
      ]
     },
     "metadata": {},
     "output_type": "display_data"
    },
    {
     "name": "stdout",
     "output_type": "stream",
     "text": [
      "| Epoch: 79 | Train Loss: 1.296 | Train Acc: 74.84% | Val. Loss: 1.479 | Val. Acc: 56.25% | Val. Precision: 50.833 | Val. Recall: 56.250 | Val. F1-score: 50.548 |\n"
     ]
    },
    {
     "data": {
      "application/vnd.jupyter.widget-view+json": {
       "model_id": "6efbba2f02ba46f89eff34ef69b5df13",
       "version_major": 2,
       "version_minor": 0
      },
      "text/plain": [
       "  0%|          | 0/320 [00:00<?, ?it/s]"
      ]
     },
     "metadata": {},
     "output_type": "display_data"
    },
    {
     "name": "stdout",
     "output_type": "stream",
     "text": [
      "| Epoch: 80 | Train Loss: 1.301 | Train Acc: 74.38% | Val. Loss: 1.492 | Val. Acc: 55.00% | Val. Precision: 49.010 | Val. Recall: 55.000 | Val. F1-score: 48.943 |\n"
     ]
    },
    {
     "data": {
      "application/vnd.jupyter.widget-view+json": {
       "model_id": "b4deaf5672dd49c7a616d012cc981c7d",
       "version_major": 2,
       "version_minor": 0
      },
      "text/plain": [
       "  0%|          | 0/320 [00:00<?, ?it/s]"
      ]
     },
     "metadata": {},
     "output_type": "display_data"
    },
    {
     "name": "stdout",
     "output_type": "stream",
     "text": [
      "| Epoch: 81 | Train Loss: 1.307 | Train Acc: 73.75% | Val. Loss: 1.490 | Val. Acc: 55.62% | Val. Precision: 50.260 | Val. Recall: 55.625 | Val. F1-score: 49.985 |\n"
     ]
    },
    {
     "data": {
      "application/vnd.jupyter.widget-view+json": {
       "model_id": "40a19892087d43b3845c956da94757d6",
       "version_major": 2,
       "version_minor": 0
      },
      "text/plain": [
       "  0%|          | 0/320 [00:00<?, ?it/s]"
      ]
     },
     "metadata": {},
     "output_type": "display_data"
    },
    {
     "name": "stdout",
     "output_type": "stream",
     "text": [
      "| Epoch: 82 | Train Loss: 1.307 | Train Acc: 73.75% | Val. Loss: 1.498 | Val. Acc: 54.37% | Val. Precision: 48.073 | Val. Recall: 54.375 | Val. F1-score: 48.589 |\n"
     ]
    },
    {
     "data": {
      "application/vnd.jupyter.widget-view+json": {
       "model_id": "e2fae4d2a74e4b73b008e3a943cc7227",
       "version_major": 2,
       "version_minor": 0
      },
      "text/plain": [
       "  0%|          | 0/320 [00:00<?, ?it/s]"
      ]
     },
     "metadata": {},
     "output_type": "display_data"
    },
    {
     "name": "stdout",
     "output_type": "stream",
     "text": [
      "| Epoch: 83 | Train Loss: 1.309 | Train Acc: 73.59% | Val. Loss: 1.482 | Val. Acc: 56.25% | Val. Precision: 50.625 | Val. Recall: 56.250 | Val. F1-score: 50.652 |\n"
     ]
    },
    {
     "data": {
      "application/vnd.jupyter.widget-view+json": {
       "model_id": "b53dd6794af744e88676037fb0755f70",
       "version_major": 2,
       "version_minor": 0
      },
      "text/plain": [
       "  0%|          | 0/320 [00:00<?, ?it/s]"
      ]
     },
     "metadata": {},
     "output_type": "display_data"
    },
    {
     "name": "stdout",
     "output_type": "stream",
     "text": [
      "| Epoch: 84 | Train Loss: 1.301 | Train Acc: 74.38% | Val. Loss: 1.490 | Val. Acc: 55.62% | Val. Precision: 50.417 | Val. Recall: 55.625 | Val. F1-score: 50.048 |\n"
     ]
    },
    {
     "data": {
      "application/vnd.jupyter.widget-view+json": {
       "model_id": "b8a312f8b8064c7d996544360cc3cc2c",
       "version_major": 2,
       "version_minor": 0
      },
      "text/plain": [
       "  0%|          | 0/320 [00:00<?, ?it/s]"
      ]
     },
     "metadata": {},
     "output_type": "display_data"
    },
    {
     "name": "stdout",
     "output_type": "stream",
     "text": [
      "| Epoch: 85 | Train Loss: 1.301 | Train Acc: 74.38% | Val. Loss: 1.510 | Val. Acc: 53.12% | Val. Precision: 49.740 | Val. Recall: 53.125 | Val. F1-score: 48.399 |\n"
     ]
    },
    {
     "data": {
      "application/vnd.jupyter.widget-view+json": {
       "model_id": "e47e78dacd2045d6a681982efd190b71",
       "version_major": 2,
       "version_minor": 0
      },
      "text/plain": [
       "  0%|          | 0/320 [00:00<?, ?it/s]"
      ]
     },
     "metadata": {},
     "output_type": "display_data"
    },
    {
     "name": "stdout",
     "output_type": "stream",
     "text": [
      "| Epoch: 86 | Train Loss: 1.303 | Train Acc: 73.98% | Val. Loss: 1.498 | Val. Acc: 54.37% | Val. Precision: 50.052 | Val. Recall: 54.375 | Val. F1-score: 49.357 |\n"
     ]
    },
    {
     "data": {
      "application/vnd.jupyter.widget-view+json": {
       "model_id": "0eb18b2a55e2493ca29f35413eec8664",
       "version_major": 2,
       "version_minor": 0
      },
      "text/plain": [
       "  0%|          | 0/320 [00:00<?, ?it/s]"
      ]
     },
     "metadata": {},
     "output_type": "display_data"
    },
    {
     "name": "stdout",
     "output_type": "stream",
     "text": [
      "| Epoch: 87 | Train Loss: 1.296 | Train Acc: 74.84% | Val. Loss: 1.498 | Val. Acc: 54.37% | Val. Precision: 48.906 | Val. Recall: 54.375 | Val. F1-score: 48.732 |\n"
     ]
    },
    {
     "data": {
      "application/vnd.jupyter.widget-view+json": {
       "model_id": "2c497f176ddd43238ec0cf52bc1ae4b7",
       "version_major": 2,
       "version_minor": 0
      },
      "text/plain": [
       "  0%|          | 0/320 [00:00<?, ?it/s]"
      ]
     },
     "metadata": {},
     "output_type": "display_data"
    },
    {
     "name": "stdout",
     "output_type": "stream",
     "text": [
      "| Epoch: 88 | Train Loss: 1.304 | Train Acc: 74.14% | Val. Loss: 1.497 | Val. Acc: 55.00% | Val. Precision: 50.833 | Val. Recall: 55.000 | Val. F1-score: 49.693 |\n"
     ]
    },
    {
     "data": {
      "application/vnd.jupyter.widget-view+json": {
       "model_id": "0d52ee3dea3f460bb7d176f585afa670",
       "version_major": 2,
       "version_minor": 0
      },
      "text/plain": [
       "  0%|          | 0/320 [00:00<?, ?it/s]"
      ]
     },
     "metadata": {},
     "output_type": "display_data"
    },
    {
     "name": "stdout",
     "output_type": "stream",
     "text": [
      "| Epoch: 89 | Train Loss: 1.303 | Train Acc: 74.14% | Val. Loss: 1.507 | Val. Acc: 54.37% | Val. Precision: 49.375 | Val. Recall: 54.375 | Val. F1-score: 48.693 |\n"
     ]
    },
    {
     "data": {
      "application/vnd.jupyter.widget-view+json": {
       "model_id": "3af9c416f3034c878123f7aa143c9731",
       "version_major": 2,
       "version_minor": 0
      },
      "text/plain": [
       "  0%|          | 0/320 [00:00<?, ?it/s]"
      ]
     },
     "metadata": {},
     "output_type": "display_data"
    },
    {
     "name": "stdout",
     "output_type": "stream",
     "text": [
      "| Epoch: 90 | Train Loss: 1.299 | Train Acc: 74.45% | Val. Loss: 1.500 | Val. Acc: 53.75% | Val. Precision: 48.698 | Val. Recall: 53.750 | Val. F1-score: 48.503 |\n"
     ]
    },
    {
     "data": {
      "application/vnd.jupyter.widget-view+json": {
       "model_id": "7733c6628fa4466c8626dd53e4866e53",
       "version_major": 2,
       "version_minor": 0
      },
      "text/plain": [
       "  0%|          | 0/320 [00:00<?, ?it/s]"
      ]
     },
     "metadata": {},
     "output_type": "display_data"
    },
    {
     "name": "stdout",
     "output_type": "stream",
     "text": [
      "| Epoch: 91 | Train Loss: 1.299 | Train Acc: 74.61% | Val. Loss: 1.496 | Val. Acc: 55.00% | Val. Precision: 48.542 | Val. Recall: 55.000 | Val. F1-score: 48.964 |\n"
     ]
    },
    {
     "data": {
      "application/vnd.jupyter.widget-view+json": {
       "model_id": "72f6301fb2354d55aa55b97f9d6ca8f0",
       "version_major": 2,
       "version_minor": 0
      },
      "text/plain": [
       "  0%|          | 0/320 [00:00<?, ?it/s]"
      ]
     },
     "metadata": {},
     "output_type": "display_data"
    },
    {
     "name": "stdout",
     "output_type": "stream",
     "text": [
      "| Epoch: 92 | Train Loss: 1.303 | Train Acc: 74.14% | Val. Loss: 1.499 | Val. Acc: 55.00% | Val. Precision: 50.260 | Val. Recall: 55.000 | Val. F1-score: 49.690 |\n"
     ]
    },
    {
     "data": {
      "application/vnd.jupyter.widget-view+json": {
       "model_id": "826c2f7bf5854789aba4637bfd7d682b",
       "version_major": 2,
       "version_minor": 0
      },
      "text/plain": [
       "  0%|          | 0/320 [00:00<?, ?it/s]"
      ]
     },
     "metadata": {},
     "output_type": "display_data"
    },
    {
     "name": "stdout",
     "output_type": "stream",
     "text": [
      "| Epoch: 93 | Train Loss: 1.304 | Train Acc: 74.06% | Val. Loss: 1.491 | Val. Acc: 55.00% | Val. Precision: 49.531 | Val. Recall: 55.000 | Val. F1-score: 49.399 |\n"
     ]
    },
    {
     "data": {
      "application/vnd.jupyter.widget-view+json": {
       "model_id": "dbd9d4f852cc44c5a50428bd37c00eb9",
       "version_major": 2,
       "version_minor": 0
      },
      "text/plain": [
       "  0%|          | 0/320 [00:00<?, ?it/s]"
      ]
     },
     "metadata": {},
     "output_type": "display_data"
    },
    {
     "name": "stdout",
     "output_type": "stream",
     "text": [
      "| Epoch: 94 | Train Loss: 1.296 | Train Acc: 74.84% | Val. Loss: 1.490 | Val. Acc: 56.25% | Val. Precision: 51.042 | Val. Recall: 56.250 | Val. F1-score: 50.673 |\n"
     ]
    },
    {
     "data": {
      "application/vnd.jupyter.widget-view+json": {
       "model_id": "c72f7f8346e64e8e99f7d1b404a213bf",
       "version_major": 2,
       "version_minor": 0
      },
      "text/plain": [
       "  0%|          | 0/320 [00:00<?, ?it/s]"
      ]
     },
     "metadata": {},
     "output_type": "display_data"
    },
    {
     "name": "stdout",
     "output_type": "stream",
     "text": [
      "| Epoch: 95 | Train Loss: 1.297 | Train Acc: 74.84% | Val. Loss: 1.492 | Val. Acc: 55.62% | Val. Precision: 50.521 | Val. Recall: 55.625 | Val. F1-score: 50.131 |\n"
     ]
    },
    {
     "data": {
      "application/vnd.jupyter.widget-view+json": {
       "model_id": "1e804a4f23a84ff8bd12a2310ff0295d",
       "version_major": 2,
       "version_minor": 0
      },
      "text/plain": [
       "  0%|          | 0/320 [00:00<?, ?it/s]"
      ]
     },
     "metadata": {},
     "output_type": "display_data"
    },
    {
     "name": "stdout",
     "output_type": "stream",
     "text": [
      "| Epoch: 96 | Train Loss: 1.295 | Train Acc: 74.84% | Val. Loss: 1.478 | Val. Acc: 56.88% | Val. Precision: 51.042 | Val. Recall: 56.875 | Val. F1-score: 51.149 |\n"
     ]
    },
    {
     "data": {
      "application/vnd.jupyter.widget-view+json": {
       "model_id": "a608e93723404c50809b1c68dda46945",
       "version_major": 2,
       "version_minor": 0
      },
      "text/plain": [
       "  0%|          | 0/320 [00:00<?, ?it/s]"
      ]
     },
     "metadata": {},
     "output_type": "display_data"
    },
    {
     "name": "stdout",
     "output_type": "stream",
     "text": [
      "| Epoch: 97 | Train Loss: 1.305 | Train Acc: 73.91% | Val. Loss: 1.502 | Val. Acc: 53.75% | Val. Precision: 49.740 | Val. Recall: 53.750 | Val. F1-score: 48.917 |\n"
     ]
    },
    {
     "data": {
      "application/vnd.jupyter.widget-view+json": {
       "model_id": "3c8ea566dd9740cb8c6004e2609e346d",
       "version_major": 2,
       "version_minor": 0
      },
      "text/plain": [
       "  0%|          | 0/320 [00:00<?, ?it/s]"
      ]
     },
     "metadata": {},
     "output_type": "display_data"
    },
    {
     "name": "stdout",
     "output_type": "stream",
     "text": [
      "| Epoch: 98 | Train Loss: 1.300 | Train Acc: 74.30% | Val. Loss: 1.494 | Val. Acc: 55.00% | Val. Precision: 49.062 | Val. Recall: 55.000 | Val. F1-score: 49.131 |\n"
     ]
    },
    {
     "data": {
      "application/vnd.jupyter.widget-view+json": {
       "model_id": "e8c25288a265404980d50779c11f6bbf",
       "version_major": 2,
       "version_minor": 0
      },
      "text/plain": [
       "  0%|          | 0/320 [00:00<?, ?it/s]"
      ]
     },
     "metadata": {},
     "output_type": "display_data"
    },
    {
     "name": "stdout",
     "output_type": "stream",
     "text": [
      "| Epoch: 99 | Train Loss: 1.302 | Train Acc: 74.38% | Val. Loss: 1.492 | Val. Acc: 55.00% | Val. Precision: 49.062 | Val. Recall: 55.000 | Val. F1-score: 49.131 |\n"
     ]
    },
    {
     "data": {
      "application/vnd.jupyter.widget-view+json": {
       "model_id": "1f51ff86e7264996ae61096f0a838e10",
       "version_major": 2,
       "version_minor": 0
      },
      "text/plain": [
       "  0%|          | 0/320 [00:00<?, ?it/s]"
      ]
     },
     "metadata": {},
     "output_type": "display_data"
    },
    {
     "name": "stdout",
     "output_type": "stream",
     "text": [
      "| Epoch: 100 | Train Loss: 1.303 | Train Acc: 74.14% | Val. Loss: 1.497 | Val. Acc: 54.37% | Val. Precision: 49.323 | Val. Recall: 54.375 | Val. F1-score: 49.006 |\n"
     ]
    },
    {
     "data": {
      "application/vnd.jupyter.widget-view+json": {
       "model_id": "bea43dabf53f4c97a593754824a5a56a",
       "version_major": 2,
       "version_minor": 0
      },
      "text/plain": [
       "  0%|          | 0/320 [00:00<?, ?it/s]"
      ]
     },
     "metadata": {},
     "output_type": "display_data"
    },
    {
     "name": "stdout",
     "output_type": "stream",
     "text": [
      "| Epoch: 101 | Train Loss: 1.298 | Train Acc: 74.61% | Val. Loss: 1.484 | Val. Acc: 56.25% | Val. Precision: 51.146 | Val. Recall: 56.250 | Val. F1-score: 50.756 |\n"
     ]
    },
    {
     "data": {
      "application/vnd.jupyter.widget-view+json": {
       "model_id": "d9964940654b48e9a2c4702bfe4de414",
       "version_major": 2,
       "version_minor": 0
      },
      "text/plain": [
       "  0%|          | 0/320 [00:00<?, ?it/s]"
      ]
     },
     "metadata": {},
     "output_type": "display_data"
    },
    {
     "name": "stdout",
     "output_type": "stream",
     "text": [
      "| Epoch: 102 | Train Loss: 1.293 | Train Acc: 75.08% | Val. Loss: 1.494 | Val. Acc: 54.37% | Val. Precision: 49.844 | Val. Recall: 54.375 | Val. F1-score: 49.232 |\n"
     ]
    },
    {
     "data": {
      "application/vnd.jupyter.widget-view+json": {
       "model_id": "1faadb8898764a359b0446d307c20c62",
       "version_major": 2,
       "version_minor": 0
      },
      "text/plain": [
       "  0%|          | 0/320 [00:00<?, ?it/s]"
      ]
     },
     "metadata": {},
     "output_type": "display_data"
    },
    {
     "name": "stdout",
     "output_type": "stream",
     "text": [
      "| Epoch: 103 | Train Loss: 1.296 | Train Acc: 74.77% | Val. Loss: 1.487 | Val. Acc: 55.00% | Val. Precision: 50.000 | Val. Recall: 55.000 | Val. F1-score: 49.589 |\n"
     ]
    },
    {
     "data": {
      "application/vnd.jupyter.widget-view+json": {
       "model_id": "cfb3f1e179154097a7fc1e987f08190f",
       "version_major": 2,
       "version_minor": 0
      },
      "text/plain": [
       "  0%|          | 0/320 [00:00<?, ?it/s]"
      ]
     },
     "metadata": {},
     "output_type": "display_data"
    },
    {
     "name": "stdout",
     "output_type": "stream",
     "text": [
      "| Epoch: 104 | Train Loss: 1.292 | Train Acc: 75.16% | Val. Loss: 1.485 | Val. Acc: 56.25% | Val. Precision: 51.146 | Val. Recall: 56.250 | Val. F1-score: 50.756 |\n"
     ]
    },
    {
     "data": {
      "application/vnd.jupyter.widget-view+json": {
       "model_id": "9d187cea224f44f58cd7aeebe6c11378",
       "version_major": 2,
       "version_minor": 0
      },
      "text/plain": [
       "  0%|          | 0/320 [00:00<?, ?it/s]"
      ]
     },
     "metadata": {},
     "output_type": "display_data"
    },
    {
     "name": "stdout",
     "output_type": "stream",
     "text": [
      "| Epoch: 105 | Train Loss: 1.316 | Train Acc: 72.66% | Val. Loss: 1.542 | Val. Acc: 50.62% | Val. Precision: 45.052 | Val. Recall: 50.625 | Val. F1-score: 44.940 |\n"
     ]
    },
    {
     "data": {
      "application/vnd.jupyter.widget-view+json": {
       "model_id": "0f9e6a6461154fc098eb8ba6b24474e5",
       "version_major": 2,
       "version_minor": 0
      },
      "text/plain": [
       "  0%|          | 0/320 [00:00<?, ?it/s]"
      ]
     },
     "metadata": {},
     "output_type": "display_data"
    },
    {
     "name": "stdout",
     "output_type": "stream",
     "text": [
      "| Epoch: 106 | Train Loss: 1.326 | Train Acc: 71.88% | Val. Loss: 1.499 | Val. Acc: 55.00% | Val. Precision: 49.740 | Val. Recall: 55.000 | Val. F1-score: 49.795 |\n"
     ]
    },
    {
     "data": {
      "application/vnd.jupyter.widget-view+json": {
       "model_id": "71f0f9dd1e3b4c6fad0a5a3fe050a561",
       "version_major": 2,
       "version_minor": 0
      },
      "text/plain": [
       "  0%|          | 0/320 [00:00<?, ?it/s]"
      ]
     },
     "metadata": {},
     "output_type": "display_data"
    },
    {
     "name": "stdout",
     "output_type": "stream",
     "text": [
      "| Epoch: 107 | Train Loss: 1.312 | Train Acc: 73.05% | Val. Loss: 1.489 | Val. Acc: 55.62% | Val. Precision: 50.312 | Val. Recall: 55.625 | Val. F1-score: 50.173 |\n"
     ]
    },
    {
     "data": {
      "application/vnd.jupyter.widget-view+json": {
       "model_id": "951e3df25e12411dba53188f1055193a",
       "version_major": 2,
       "version_minor": 0
      },
      "text/plain": [
       "  0%|          | 0/320 [00:00<?, ?it/s]"
      ]
     },
     "metadata": {},
     "output_type": "display_data"
    },
    {
     "name": "stdout",
     "output_type": "stream",
     "text": [
      "| Epoch: 108 | Train Loss: 1.299 | Train Acc: 74.45% | Val. Loss: 1.487 | Val. Acc: 55.62% | Val. Precision: 49.635 | Val. Recall: 55.625 | Val. F1-score: 49.690 |\n"
     ]
    },
    {
     "data": {
      "application/vnd.jupyter.widget-view+json": {
       "model_id": "4c48bca1c620402e89ec42ee775f1c47",
       "version_major": 2,
       "version_minor": 0
      },
      "text/plain": [
       "  0%|          | 0/320 [00:00<?, ?it/s]"
      ]
     },
     "metadata": {},
     "output_type": "display_data"
    },
    {
     "name": "stdout",
     "output_type": "stream",
     "text": [
      "| Epoch: 109 | Train Loss: 1.295 | Train Acc: 74.92% | Val. Loss: 1.489 | Val. Acc: 55.00% | Val. Precision: 49.531 | Val. Recall: 55.000 | Val. F1-score: 49.357 |\n"
     ]
    },
    {
     "data": {
      "application/vnd.jupyter.widget-view+json": {
       "model_id": "237630118f8c4a4b9aea883d804b7ebc",
       "version_major": 2,
       "version_minor": 0
      },
      "text/plain": [
       "  0%|          | 0/320 [00:00<?, ?it/s]"
      ]
     },
     "metadata": {},
     "output_type": "display_data"
    },
    {
     "name": "stdout",
     "output_type": "stream",
     "text": [
      "| Epoch: 110 | Train Loss: 1.290 | Train Acc: 75.31% | Val. Loss: 1.491 | Val. Acc: 55.62% | Val. Precision: 48.750 | Val. Recall: 55.625 | Val. F1-score: 49.131 |\n"
     ]
    },
    {
     "data": {
      "application/vnd.jupyter.widget-view+json": {
       "model_id": "cedbf68d9e8a4c1f9255798a4b8f62ca",
       "version_major": 2,
       "version_minor": 0
      },
      "text/plain": [
       "  0%|          | 0/320 [00:00<?, ?it/s]"
      ]
     },
     "metadata": {},
     "output_type": "display_data"
    },
    {
     "name": "stdout",
     "output_type": "stream",
     "text": [
      "| Epoch: 111 | Train Loss: 1.290 | Train Acc: 75.31% | Val. Loss: 1.488 | Val. Acc: 55.62% | Val. Precision: 48.958 | Val. Recall: 55.625 | Val. F1-score: 49.256 |\n"
     ]
    },
    {
     "data": {
      "application/vnd.jupyter.widget-view+json": {
       "model_id": "bca6b854ff4d470cb8ddfcb41d07473b",
       "version_major": 2,
       "version_minor": 0
      },
      "text/plain": [
       "  0%|          | 0/320 [00:00<?, ?it/s]"
      ]
     },
     "metadata": {},
     "output_type": "display_data"
    },
    {
     "name": "stdout",
     "output_type": "stream",
     "text": [
      "| Epoch: 112 | Train Loss: 1.290 | Train Acc: 75.31% | Val. Loss: 1.484 | Val. Acc: 56.25% | Val. Precision: 50.260 | Val. Recall: 56.250 | Val. F1-score: 50.315 |\n"
     ]
    },
    {
     "data": {
      "application/vnd.jupyter.widget-view+json": {
       "model_id": "a174e0e5f67b43b985b181415b9e1711",
       "version_major": 2,
       "version_minor": 0
      },
      "text/plain": [
       "  0%|          | 0/320 [00:00<?, ?it/s]"
      ]
     },
     "metadata": {},
     "output_type": "display_data"
    },
    {
     "name": "stdout",
     "output_type": "stream",
     "text": [
      "| Epoch: 113 | Train Loss: 1.290 | Train Acc: 75.31% | Val. Loss: 1.492 | Val. Acc: 55.00% | Val. Precision: 49.062 | Val. Recall: 55.000 | Val. F1-score: 49.131 |\n"
     ]
    },
    {
     "data": {
      "application/vnd.jupyter.widget-view+json": {
       "model_id": "1d0a80cbbb6e4f7490f428349b77e51e",
       "version_major": 2,
       "version_minor": 0
      },
      "text/plain": [
       "  0%|          | 0/320 [00:00<?, ?it/s]"
      ]
     },
     "metadata": {},
     "output_type": "display_data"
    },
    {
     "name": "stdout",
     "output_type": "stream",
     "text": [
      "| Epoch: 114 | Train Loss: 1.290 | Train Acc: 75.31% | Val. Loss: 1.490 | Val. Acc: 55.62% | Val. Precision: 50.156 | Val. Recall: 55.625 | Val. F1-score: 50.024 |\n"
     ]
    },
    {
     "data": {
      "application/vnd.jupyter.widget-view+json": {
       "model_id": "b611fa8b6acd4e03ad1a41dbdce5d9e1",
       "version_major": 2,
       "version_minor": 0
      },
      "text/plain": [
       "  0%|          | 0/320 [00:00<?, ?it/s]"
      ]
     },
     "metadata": {},
     "output_type": "display_data"
    },
    {
     "name": "stdout",
     "output_type": "stream",
     "text": [
      "| Epoch: 115 | Train Loss: 1.298 | Train Acc: 74.45% | Val. Loss: 1.492 | Val. Acc: 55.62% | Val. Precision: 49.531 | Val. Recall: 55.625 | Val. F1-score: 49.381 |\n"
     ]
    },
    {
     "data": {
      "application/vnd.jupyter.widget-view+json": {
       "model_id": "a6d90b1b76f44799b787610f4fd46d85",
       "version_major": 2,
       "version_minor": 0
      },
      "text/plain": [
       "  0%|          | 0/320 [00:00<?, ?it/s]"
      ]
     },
     "metadata": {},
     "output_type": "display_data"
    },
    {
     "name": "stdout",
     "output_type": "stream",
     "text": [
      "| Epoch: 116 | Train Loss: 1.313 | Train Acc: 73.05% | Val. Loss: 1.488 | Val. Acc: 55.62% | Val. Precision: 48.229 | Val. Recall: 55.625 | Val. F1-score: 48.964 |\n"
     ]
    },
    {
     "data": {
      "application/vnd.jupyter.widget-view+json": {
       "model_id": "09b7587e873848a98774b98e0048122a",
       "version_major": 2,
       "version_minor": 0
      },
      "text/plain": [
       "  0%|          | 0/320 [00:00<?, ?it/s]"
      ]
     },
     "metadata": {},
     "output_type": "display_data"
    },
    {
     "name": "stdout",
     "output_type": "stream",
     "text": [
      "| Epoch: 117 | Train Loss: 1.308 | Train Acc: 73.59% | Val. Loss: 1.478 | Val. Acc: 56.25% | Val. Precision: 50.625 | Val. Recall: 56.250 | Val. F1-score: 50.256 |\n"
     ]
    },
    {
     "data": {
      "application/vnd.jupyter.widget-view+json": {
       "model_id": "f482c9e6cb994aa5906c4820182c15d2",
       "version_major": 2,
       "version_minor": 0
      },
      "text/plain": [
       "  0%|          | 0/320 [00:00<?, ?it/s]"
      ]
     },
     "metadata": {},
     "output_type": "display_data"
    },
    {
     "name": "stdout",
     "output_type": "stream",
     "text": [
      "| Epoch: 118 | Train Loss: 1.300 | Train Acc: 74.53% | Val. Loss: 1.495 | Val. Acc: 55.00% | Val. Precision: 48.958 | Val. Recall: 55.000 | Val. F1-score: 48.881 |\n"
     ]
    },
    {
     "data": {
      "application/vnd.jupyter.widget-view+json": {
       "model_id": "33bb85696a534c8e8cf32cb63b17658c",
       "version_major": 2,
       "version_minor": 0
      },
      "text/plain": [
       "  0%|          | 0/320 [00:00<?, ?it/s]"
      ]
     },
     "metadata": {},
     "output_type": "display_data"
    },
    {
     "name": "stdout",
     "output_type": "stream",
     "text": [
      "| Epoch: 119 | Train Loss: 1.298 | Train Acc: 74.61% | Val. Loss: 1.504 | Val. Acc: 53.12% | Val. Precision: 48.385 | Val. Recall: 53.125 | Val. F1-score: 47.649 |\n"
     ]
    },
    {
     "data": {
      "application/vnd.jupyter.widget-view+json": {
       "model_id": "3abb7d80106840c896b61ae293921467",
       "version_major": 2,
       "version_minor": 0
      },
      "text/plain": [
       "  0%|          | 0/320 [00:00<?, ?it/s]"
      ]
     },
     "metadata": {},
     "output_type": "display_data"
    },
    {
     "name": "stdout",
     "output_type": "stream",
     "text": [
      "| Epoch: 120 | Train Loss: 1.297 | Train Acc: 74.69% | Val. Loss: 1.500 | Val. Acc: 54.37% | Val. Precision: 50.156 | Val. Recall: 54.375 | Val. F1-score: 49.065 |\n"
     ]
    },
    {
     "data": {
      "application/vnd.jupyter.widget-view+json": {
       "model_id": "0da0fb5b6eef4b208e03ab958df0a32b",
       "version_major": 2,
       "version_minor": 0
      },
      "text/plain": [
       "  0%|          | 0/320 [00:00<?, ?it/s]"
      ]
     },
     "metadata": {},
     "output_type": "display_data"
    },
    {
     "name": "stdout",
     "output_type": "stream",
     "text": [
      "| Epoch: 121 | Train Loss: 1.293 | Train Acc: 75.08% | Val. Loss: 1.487 | Val. Acc: 55.62% | Val. Precision: 49.531 | Val. Recall: 55.625 | Val. F1-score: 49.670 |\n"
     ]
    },
    {
     "data": {
      "application/vnd.jupyter.widget-view+json": {
       "model_id": "994de15077a14db38de7fb4263c94a7a",
       "version_major": 2,
       "version_minor": 0
      },
      "text/plain": [
       "  0%|          | 0/320 [00:00<?, ?it/s]"
      ]
     },
     "metadata": {},
     "output_type": "display_data"
    },
    {
     "name": "stdout",
     "output_type": "stream",
     "text": [
      "| Epoch: 122 | Train Loss: 1.292 | Train Acc: 75.16% | Val. Loss: 1.497 | Val. Acc: 54.37% | Val. Precision: 49.427 | Val. Recall: 54.375 | Val. F1-score: 48.961 |\n"
     ]
    },
    {
     "data": {
      "application/vnd.jupyter.widget-view+json": {
       "model_id": "e8783dc79c3e4409a7fdeea7a7565b25",
       "version_major": 2,
       "version_minor": 0
      },
      "text/plain": [
       "  0%|          | 0/320 [00:00<?, ?it/s]"
      ]
     },
     "metadata": {},
     "output_type": "display_data"
    },
    {
     "name": "stdout",
     "output_type": "stream",
     "text": [
      "| Epoch: 123 | Train Loss: 1.293 | Train Acc: 75.08% | Val. Loss: 1.491 | Val. Acc: 55.00% | Val. Precision: 49.896 | Val. Recall: 55.000 | Val. F1-score: 49.339 |\n"
     ]
    },
    {
     "data": {
      "application/vnd.jupyter.widget-view+json": {
       "model_id": "00f04b3a6688424b9313d31769e91565",
       "version_major": 2,
       "version_minor": 0
      },
      "text/plain": [
       "  0%|          | 0/320 [00:00<?, ?it/s]"
      ]
     },
     "metadata": {},
     "output_type": "display_data"
    },
    {
     "name": "stdout",
     "output_type": "stream",
     "text": [
      "| Epoch: 124 | Train Loss: 1.297 | Train Acc: 74.84% | Val. Loss: 1.491 | Val. Acc: 55.00% | Val. Precision: 50.000 | Val. Recall: 55.000 | Val. F1-score: 49.589 |\n"
     ]
    },
    {
     "data": {
      "application/vnd.jupyter.widget-view+json": {
       "model_id": "d9e3c95d4f2045d1ba4e5c37579458cc",
       "version_major": 2,
       "version_minor": 0
      },
      "text/plain": [
       "  0%|          | 0/320 [00:00<?, ?it/s]"
      ]
     },
     "metadata": {},
     "output_type": "display_data"
    },
    {
     "name": "stdout",
     "output_type": "stream",
     "text": [
      "| Epoch: 125 | Train Loss: 1.296 | Train Acc: 74.77% | Val. Loss: 1.494 | Val. Acc: 55.00% | Val. Precision: 49.167 | Val. Recall: 55.000 | Val. F1-score: 49.214 |\n"
     ]
    },
    {
     "data": {
      "application/vnd.jupyter.widget-view+json": {
       "model_id": "b597d810dd5040f7a3ec7034080c6e09",
       "version_major": 2,
       "version_minor": 0
      },
      "text/plain": [
       "  0%|          | 0/320 [00:00<?, ?it/s]"
      ]
     },
     "metadata": {},
     "output_type": "display_data"
    },
    {
     "name": "stdout",
     "output_type": "stream",
     "text": [
      "| Epoch: 126 | Train Loss: 1.305 | Train Acc: 73.83% | Val. Loss: 1.496 | Val. Acc: 54.37% | Val. Precision: 49.948 | Val. Recall: 54.375 | Val. F1-score: 49.586 |\n"
     ]
    },
    {
     "data": {
      "application/vnd.jupyter.widget-view+json": {
       "model_id": "d985e13d69a947dd9526dc4f22cb71a4",
       "version_major": 2,
       "version_minor": 0
      },
      "text/plain": [
       "  0%|          | 0/320 [00:00<?, ?it/s]"
      ]
     },
     "metadata": {},
     "output_type": "display_data"
    },
    {
     "name": "stdout",
     "output_type": "stream",
     "text": [
      "| Epoch: 127 | Train Loss: 1.307 | Train Acc: 73.83% | Val. Loss: 1.500 | Val. Acc: 53.75% | Val. Precision: 47.708 | Val. Recall: 53.750 | Val. F1-score: 47.860 |\n"
     ]
    },
    {
     "data": {
      "application/vnd.jupyter.widget-view+json": {
       "model_id": "1b21c514caa5404a9c1eceeb9df14f11",
       "version_major": 2,
       "version_minor": 0
      },
      "text/plain": [
       "  0%|          | 0/320 [00:00<?, ?it/s]"
      ]
     },
     "metadata": {},
     "output_type": "display_data"
    },
    {
     "name": "stdout",
     "output_type": "stream",
     "text": [
      "| Epoch: 128 | Train Loss: 1.302 | Train Acc: 74.38% | Val. Loss: 1.496 | Val. Acc: 54.37% | Val. Precision: 48.698 | Val. Recall: 54.375 | Val. F1-score: 48.714 |\n"
     ]
    },
    {
     "data": {
      "application/vnd.jupyter.widget-view+json": {
       "model_id": "2bd3d0e80d2b4d9daac885f7550b6dad",
       "version_major": 2,
       "version_minor": 0
      },
      "text/plain": [
       "  0%|          | 0/320 [00:00<?, ?it/s]"
      ]
     },
     "metadata": {},
     "output_type": "display_data"
    },
    {
     "name": "stdout",
     "output_type": "stream",
     "text": [
      "| Epoch: 129 | Train Loss: 1.297 | Train Acc: 74.69% | Val. Loss: 1.502 | Val. Acc: 54.37% | Val. Precision: 48.437 | Val. Recall: 54.375 | Val. F1-score: 48.506 |\n"
     ]
    },
    {
     "data": {
      "application/vnd.jupyter.widget-view+json": {
       "model_id": "fce459fb413046b2b7517ce4280e5fb7",
       "version_major": 2,
       "version_minor": 0
      },
      "text/plain": [
       "  0%|          | 0/320 [00:00<?, ?it/s]"
      ]
     },
     "metadata": {},
     "output_type": "display_data"
    },
    {
     "name": "stdout",
     "output_type": "stream",
     "text": [
      "| Epoch: 130 | Train Loss: 1.291 | Train Acc: 75.31% | Val. Loss: 1.502 | Val. Acc: 54.37% | Val. Precision: 48.229 | Val. Recall: 54.375 | Val. F1-score: 48.381 |\n"
     ]
    },
    {
     "data": {
      "application/vnd.jupyter.widget-view+json": {
       "model_id": "fdc3e94c82314a4cb36571bbc479295a",
       "version_major": 2,
       "version_minor": 0
      },
      "text/plain": [
       "  0%|          | 0/320 [00:00<?, ?it/s]"
      ]
     },
     "metadata": {},
     "output_type": "display_data"
    },
    {
     "name": "stdout",
     "output_type": "stream",
     "text": [
      "| Epoch: 131 | Train Loss: 1.290 | Train Acc: 75.31% | Val. Loss: 1.498 | Val. Acc: 55.00% | Val. Precision: 49.323 | Val. Recall: 55.000 | Val. F1-score: 49.274 |\n"
     ]
    },
    {
     "data": {
      "application/vnd.jupyter.widget-view+json": {
       "model_id": "d1efa959acee4fefb664dbce5d6a9fc6",
       "version_major": 2,
       "version_minor": 0
      },
      "text/plain": [
       "  0%|          | 0/320 [00:00<?, ?it/s]"
      ]
     },
     "metadata": {},
     "output_type": "display_data"
    },
    {
     "name": "stdout",
     "output_type": "stream",
     "text": [
      "| Epoch: 132 | Train Loss: 1.290 | Train Acc: 75.31% | Val. Loss: 1.494 | Val. Acc: 55.00% | Val. Precision: 48.229 | Val. Recall: 55.000 | Val. F1-score: 48.857 |\n"
     ]
    },
    {
     "data": {
      "application/vnd.jupyter.widget-view+json": {
       "model_id": "b6061968f63a4b7d901f3fe91183840d",
       "version_major": 2,
       "version_minor": 0
      },
      "text/plain": [
       "  0%|          | 0/320 [00:00<?, ?it/s]"
      ]
     },
     "metadata": {},
     "output_type": "display_data"
    },
    {
     "name": "stdout",
     "output_type": "stream",
     "text": [
      "| Epoch: 133 | Train Loss: 1.290 | Train Acc: 75.31% | Val. Loss: 1.494 | Val. Acc: 54.37% | Val. Precision: 48.385 | Val. Recall: 54.375 | Val. F1-score: 48.836 |\n"
     ]
    },
    {
     "data": {
      "application/vnd.jupyter.widget-view+json": {
       "model_id": "60c30bc6df5f47bbbe0bce0cf467c616",
       "version_major": 2,
       "version_minor": 0
      },
      "text/plain": [
       "  0%|          | 0/320 [00:00<?, ?it/s]"
      ]
     },
     "metadata": {},
     "output_type": "display_data"
    },
    {
     "name": "stdout",
     "output_type": "stream",
     "text": [
      "| Epoch: 134 | Train Loss: 1.299 | Train Acc: 74.45% | Val. Loss: 1.498 | Val. Acc: 55.00% | Val. Precision: 49.687 | Val. Recall: 55.000 | Val. F1-score: 49.381 |\n"
     ]
    },
    {
     "data": {
      "application/vnd.jupyter.widget-view+json": {
       "model_id": "a0b89432eb474caabdd041efb60018aa",
       "version_major": 2,
       "version_minor": 0
      },
      "text/plain": [
       "  0%|          | 0/320 [00:00<?, ?it/s]"
      ]
     },
     "metadata": {},
     "output_type": "display_data"
    },
    {
     "name": "stdout",
     "output_type": "stream",
     "text": [
      "| Epoch: 135 | Train Loss: 1.290 | Train Acc: 75.39% | Val. Loss: 1.489 | Val. Acc: 55.62% | Val. Precision: 50.781 | Val. Recall: 55.625 | Val. F1-score: 50.274 |\n"
     ]
    },
    {
     "data": {
      "application/vnd.jupyter.widget-view+json": {
       "model_id": "2800cacbc7e1417f9c947ecff88d78c1",
       "version_major": 2,
       "version_minor": 0
      },
      "text/plain": [
       "  0%|          | 0/320 [00:00<?, ?it/s]"
      ]
     },
     "metadata": {},
     "output_type": "display_data"
    },
    {
     "name": "stdout",
     "output_type": "stream",
     "text": [
      "| Epoch: 136 | Train Loss: 1.289 | Train Acc: 75.39% | Val. Loss: 1.494 | Val. Acc: 55.00% | Val. Precision: 50.885 | Val. Recall: 55.000 | Val. F1-score: 50.107 |\n"
     ]
    },
    {
     "data": {
      "application/vnd.jupyter.widget-view+json": {
       "model_id": "7d45c2f9c97c4076ae2f86a802b690e9",
       "version_major": 2,
       "version_minor": 0
      },
      "text/plain": [
       "  0%|          | 0/320 [00:00<?, ?it/s]"
      ]
     },
     "metadata": {},
     "output_type": "display_data"
    },
    {
     "name": "stdout",
     "output_type": "stream",
     "text": [
      "| Epoch: 137 | Train Loss: 1.295 | Train Acc: 75.00% | Val. Loss: 1.494 | Val. Acc: 55.00% | Val. Precision: 49.948 | Val. Recall: 55.000 | Val. F1-score: 49.690 |\n"
     ]
    },
    {
     "data": {
      "application/vnd.jupyter.widget-view+json": {
       "model_id": "333eb7238e5c46f38bbe65203d09f10d",
       "version_major": 2,
       "version_minor": 0
      },
      "text/plain": [
       "  0%|          | 0/320 [00:00<?, ?it/s]"
      ]
     },
     "metadata": {},
     "output_type": "display_data"
    },
    {
     "name": "stdout",
     "output_type": "stream",
     "text": [
      "| Epoch: 138 | Train Loss: 1.291 | Train Acc: 75.23% | Val. Loss: 1.499 | Val. Acc: 54.37% | Val. Precision: 49.740 | Val. Recall: 54.375 | Val. F1-score: 49.211 |\n"
     ]
    },
    {
     "data": {
      "application/vnd.jupyter.widget-view+json": {
       "model_id": "bed805e67f5b4251a36240a993f10af6",
       "version_major": 2,
       "version_minor": 0
      },
      "text/plain": [
       "  0%|          | 0/320 [00:00<?, ?it/s]"
      ]
     },
     "metadata": {},
     "output_type": "display_data"
    },
    {
     "name": "stdout",
     "output_type": "stream",
     "text": [
      "| Epoch: 139 | Train Loss: 1.294 | Train Acc: 75.00% | Val. Loss: 1.500 | Val. Acc: 54.37% | Val. Precision: 48.177 | Val. Recall: 54.375 | Val. F1-score: 48.336 |\n"
     ]
    },
    {
     "data": {
      "application/vnd.jupyter.widget-view+json": {
       "model_id": "6cefc0bf46dc4b188e505bda405664ac",
       "version_major": 2,
       "version_minor": 0
      },
      "text/plain": [
       "  0%|          | 0/320 [00:00<?, ?it/s]"
      ]
     },
     "metadata": {},
     "output_type": "display_data"
    },
    {
     "name": "stdout",
     "output_type": "stream",
     "text": [
      "| Epoch: 140 | Train Loss: 1.312 | Train Acc: 73.12% | Val. Loss: 1.491 | Val. Acc: 55.62% | Val. Precision: 50.677 | Val. Recall: 55.625 | Val. F1-score: 50.274 |\n"
     ]
    },
    {
     "data": {
      "application/vnd.jupyter.widget-view+json": {
       "model_id": "beec01aaaf5147ee9aca76a96c40f8cc",
       "version_major": 2,
       "version_minor": 0
      },
      "text/plain": [
       "  0%|          | 0/320 [00:00<?, ?it/s]"
      ]
     },
     "metadata": {},
     "output_type": "display_data"
    },
    {
     "name": "stdout",
     "output_type": "stream",
     "text": [
      "| Epoch: 141 | Train Loss: 1.303 | Train Acc: 74.38% | Val. Loss: 1.496 | Val. Acc: 54.37% | Val. Precision: 48.333 | Val. Recall: 54.375 | Val. F1-score: 48.256 |\n"
     ]
    },
    {
     "data": {
      "application/vnd.jupyter.widget-view+json": {
       "model_id": "202fe4b4f2e249a6b791c462e3f35bff",
       "version_major": 2,
       "version_minor": 0
      },
      "text/plain": [
       "  0%|          | 0/320 [00:00<?, ?it/s]"
      ]
     },
     "metadata": {},
     "output_type": "display_data"
    },
    {
     "name": "stdout",
     "output_type": "stream",
     "text": [
      "| Epoch: 142 | Train Loss: 1.294 | Train Acc: 75.00% | Val. Loss: 1.502 | Val. Acc: 53.75% | Val. Precision: 48.958 | Val. Recall: 53.750 | Val. F1-score: 48.193 |\n"
     ]
    },
    {
     "data": {
      "application/vnd.jupyter.widget-view+json": {
       "model_id": "945df0c3056147d698ac3b68cfdcf822",
       "version_major": 2,
       "version_minor": 0
      },
      "text/plain": [
       "  0%|          | 0/320 [00:00<?, ?it/s]"
      ]
     },
     "metadata": {},
     "output_type": "display_data"
    },
    {
     "name": "stdout",
     "output_type": "stream",
     "text": [
      "| Epoch: 143 | Train Loss: 1.288 | Train Acc: 75.55% | Val. Loss: 1.517 | Val. Acc: 52.50% | Val. Precision: 47.292 | Val. Recall: 52.500 | Val. F1-score: 47.089 |\n"
     ]
    },
    {
     "data": {
      "application/vnd.jupyter.widget-view+json": {
       "model_id": "85d6819e87ae412b92a9bcd42b531f19",
       "version_major": 2,
       "version_minor": 0
      },
      "text/plain": [
       "  0%|          | 0/320 [00:00<?, ?it/s]"
      ]
     },
     "metadata": {},
     "output_type": "display_data"
    },
    {
     "name": "stdout",
     "output_type": "stream",
     "text": [
      "| Epoch: 144 | Train Loss: 1.298 | Train Acc: 74.61% | Val. Loss: 1.509 | Val. Acc: 53.75% | Val. Precision: 47.083 | Val. Recall: 53.750 | Val. F1-score: 47.548 |\n"
     ]
    },
    {
     "data": {
      "application/vnd.jupyter.widget-view+json": {
       "model_id": "721b6b683b314acd8ade1120b7b0b73e",
       "version_major": 2,
       "version_minor": 0
      },
      "text/plain": [
       "  0%|          | 0/320 [00:00<?, ?it/s]"
      ]
     },
     "metadata": {},
     "output_type": "display_data"
    },
    {
     "name": "stdout",
     "output_type": "stream",
     "text": [
      "| Epoch: 145 | Train Loss: 1.290 | Train Acc: 75.39% | Val. Loss: 1.485 | Val. Acc: 55.62% | Val. Precision: 50.312 | Val. Recall: 55.625 | Val. F1-score: 49.881 |\n"
     ]
    },
    {
     "data": {
      "application/vnd.jupyter.widget-view+json": {
       "model_id": "6bdfb0591c604ee28b533f64dd5defcf",
       "version_major": 2,
       "version_minor": 0
      },
      "text/plain": [
       "  0%|          | 0/320 [00:00<?, ?it/s]"
      ]
     },
     "metadata": {},
     "output_type": "display_data"
    },
    {
     "name": "stdout",
     "output_type": "stream",
     "text": [
      "| Epoch: 146 | Train Loss: 1.287 | Train Acc: 75.62% | Val. Loss: 1.490 | Val. Acc: 55.62% | Val. Precision: 50.781 | Val. Recall: 55.625 | Val. F1-score: 50.274 |\n"
     ]
    },
    {
     "data": {
      "application/vnd.jupyter.widget-view+json": {
       "model_id": "b980650a448246d28f73ea1b8eda9b97",
       "version_major": 2,
       "version_minor": 0
      },
      "text/plain": [
       "  0%|          | 0/320 [00:00<?, ?it/s]"
      ]
     },
     "metadata": {},
     "output_type": "display_data"
    },
    {
     "name": "stdout",
     "output_type": "stream",
     "text": [
      "| Epoch: 147 | Train Loss: 1.287 | Train Acc: 75.62% | Val. Loss: 1.502 | Val. Acc: 53.75% | Val. Precision: 48.021 | Val. Recall: 53.750 | Val. F1-score: 47.839 |\n"
     ]
    },
    {
     "data": {
      "application/vnd.jupyter.widget-view+json": {
       "model_id": "daa1759c56ae463eb13c39371c9fd3bf",
       "version_major": 2,
       "version_minor": 0
      },
      "text/plain": [
       "  0%|          | 0/320 [00:00<?, ?it/s]"
      ]
     },
     "metadata": {},
     "output_type": "display_data"
    },
    {
     "name": "stdout",
     "output_type": "stream",
     "text": [
      "| Epoch: 148 | Train Loss: 1.287 | Train Acc: 75.62% | Val. Loss: 1.494 | Val. Acc: 54.37% | Val. Precision: 49.792 | Val. Recall: 54.375 | Val. F1-score: 49.048 |\n"
     ]
    },
    {
     "data": {
      "application/vnd.jupyter.widget-view+json": {
       "model_id": "4cb65461ce924f319e2846b47d81897e",
       "version_major": 2,
       "version_minor": 0
      },
      "text/plain": [
       "  0%|          | 0/320 [00:00<?, ?it/s]"
      ]
     },
     "metadata": {},
     "output_type": "display_data"
    },
    {
     "name": "stdout",
     "output_type": "stream",
     "text": [
      "| Epoch: 149 | Train Loss: 1.287 | Train Acc: 75.62% | Val. Loss: 1.491 | Val. Acc: 55.62% | Val. Precision: 50.521 | Val. Recall: 55.625 | Val. F1-score: 50.131 |\n"
     ]
    },
    {
     "data": {
      "application/vnd.jupyter.widget-view+json": {
       "model_id": "9f847c5471d24e2aa3749236793d2bac",
       "version_major": 2,
       "version_minor": 0
      },
      "text/plain": [
       "  0%|          | 0/320 [00:00<?, ?it/s]"
      ]
     },
     "metadata": {},
     "output_type": "display_data"
    },
    {
     "name": "stdout",
     "output_type": "stream",
     "text": [
      "| Epoch: 150 | Train Loss: 1.294 | Train Acc: 75.00% | Val. Loss: 1.501 | Val. Acc: 53.75% | Val. Precision: 48.021 | Val. Recall: 53.750 | Val. F1-score: 47.839 |\n"
     ]
    },
    {
     "data": {
      "application/vnd.jupyter.widget-view+json": {
       "model_id": "895a9a9548f94fe49d335c188e847b09",
       "version_major": 2,
       "version_minor": 0
      },
      "text/plain": [
       "  0%|          | 0/320 [00:00<?, ?it/s]"
      ]
     },
     "metadata": {},
     "output_type": "display_data"
    },
    {
     "name": "stdout",
     "output_type": "stream",
     "text": [
      "| Epoch: 151 | Train Loss: 1.300 | Train Acc: 74.45% | Val. Loss: 1.501 | Val. Acc: 54.37% | Val. Precision: 49.531 | Val. Recall: 54.375 | Val. F1-score: 49.336 |\n"
     ]
    },
    {
     "data": {
      "application/vnd.jupyter.widget-view+json": {
       "model_id": "b08adfe84a6d49598916f2d378231c6e",
       "version_major": 2,
       "version_minor": 0
      },
      "text/plain": [
       "  0%|          | 0/320 [00:00<?, ?it/s]"
      ]
     },
     "metadata": {},
     "output_type": "display_data"
    },
    {
     "name": "stdout",
     "output_type": "stream",
     "text": [
      "| Epoch: 152 | Train Loss: 1.315 | Train Acc: 72.89% | Val. Loss: 1.491 | Val. Acc: 54.37% | Val. Precision: 49.375 | Val. Recall: 54.375 | Val. F1-score: 49.274 |\n"
     ]
    },
    {
     "data": {
      "application/vnd.jupyter.widget-view+json": {
       "model_id": "7827ad7926344613851f19f36e078721",
       "version_major": 2,
       "version_minor": 0
      },
      "text/plain": [
       "  0%|          | 0/320 [00:00<?, ?it/s]"
      ]
     },
     "metadata": {},
     "output_type": "display_data"
    },
    {
     "name": "stdout",
     "output_type": "stream",
     "text": [
      "| Epoch: 153 | Train Loss: 1.315 | Train Acc: 72.97% | Val. Loss: 1.491 | Val. Acc: 55.00% | Val. Precision: 50.000 | Val. Recall: 55.000 | Val. F1-score: 49.548 |\n"
     ]
    },
    {
     "data": {
      "application/vnd.jupyter.widget-view+json": {
       "model_id": "03999a33bfc144249f4d029dddfaea8f",
       "version_major": 2,
       "version_minor": 0
      },
      "text/plain": [
       "  0%|          | 0/320 [00:00<?, ?it/s]"
      ]
     },
     "metadata": {},
     "output_type": "display_data"
    },
    {
     "name": "stdout",
     "output_type": "stream",
     "text": [
      "| Epoch: 154 | Train Loss: 1.301 | Train Acc: 74.22% | Val. Loss: 1.506 | Val. Acc: 53.75% | Val. Precision: 48.281 | Val. Recall: 53.750 | Val. F1-score: 48.274 |\n"
     ]
    },
    {
     "data": {
      "application/vnd.jupyter.widget-view+json": {
       "model_id": "f7594bba5eb941bdb1f807d1c58dc705",
       "version_major": 2,
       "version_minor": 0
      },
      "text/plain": [
       "  0%|          | 0/320 [00:00<?, ?it/s]"
      ]
     },
     "metadata": {},
     "output_type": "display_data"
    },
    {
     "name": "stdout",
     "output_type": "stream",
     "text": [
      "| Epoch: 155 | Train Loss: 1.293 | Train Acc: 75.00% | Val. Loss: 1.494 | Val. Acc: 54.37% | Val. Precision: 50.156 | Val. Recall: 54.375 | Val. F1-score: 49.440 |\n"
     ]
    },
    {
     "data": {
      "application/vnd.jupyter.widget-view+json": {
       "model_id": "f630b95e5a7e406a8659e0f9b6e516ca",
       "version_major": 2,
       "version_minor": 0
      },
      "text/plain": [
       "  0%|          | 0/320 [00:00<?, ?it/s]"
      ]
     },
     "metadata": {},
     "output_type": "display_data"
    },
    {
     "name": "stdout",
     "output_type": "stream",
     "text": [
      "| Epoch: 156 | Train Loss: 1.295 | Train Acc: 74.92% | Val. Loss: 1.492 | Val. Acc: 55.00% | Val. Precision: 50.260 | Val. Recall: 55.000 | Val. F1-score: 49.690 |\n"
     ]
    },
    {
     "data": {
      "application/vnd.jupyter.widget-view+json": {
       "model_id": "814d1aa7dd354da2bbb716ad1e4858a1",
       "version_major": 2,
       "version_minor": 0
      },
      "text/plain": [
       "  0%|          | 0/320 [00:00<?, ?it/s]"
      ]
     },
     "metadata": {},
     "output_type": "display_data"
    },
    {
     "name": "stdout",
     "output_type": "stream",
     "text": [
      "| Epoch: 157 | Train Loss: 1.291 | Train Acc: 75.23% | Val. Loss: 1.494 | Val. Acc: 55.00% | Val. Precision: 50.260 | Val. Recall: 55.000 | Val. F1-score: 49.899 |\n"
     ]
    },
    {
     "data": {
      "application/vnd.jupyter.widget-view+json": {
       "model_id": "2caaa78a9df24f06924006b3da9e6e61",
       "version_major": 2,
       "version_minor": 0
      },
      "text/plain": [
       "  0%|          | 0/320 [00:00<?, ?it/s]"
      ]
     },
     "metadata": {},
     "output_type": "display_data"
    },
    {
     "name": "stdout",
     "output_type": "stream",
     "text": [
      "| Epoch: 158 | Train Loss: 1.287 | Train Acc: 75.78% | Val. Loss: 1.490 | Val. Acc: 55.62% | Val. Precision: 50.885 | Val. Recall: 55.625 | Val. F1-score: 50.315 |\n"
     ]
    },
    {
     "data": {
      "application/vnd.jupyter.widget-view+json": {
       "model_id": "e2ec3359a5f24220b5111fcfafb77556",
       "version_major": 2,
       "version_minor": 0
      },
      "text/plain": [
       "  0%|          | 0/320 [00:00<?, ?it/s]"
      ]
     },
     "metadata": {},
     "output_type": "display_data"
    },
    {
     "name": "stdout",
     "output_type": "stream",
     "text": [
      "| Epoch: 159 | Train Loss: 1.289 | Train Acc: 75.55% | Val. Loss: 1.493 | Val. Acc: 55.00% | Val. Precision: 50.260 | Val. Recall: 55.000 | Val. F1-score: 49.899 |\n"
     ]
    },
    {
     "data": {
      "application/vnd.jupyter.widget-view+json": {
       "model_id": "101e3064948f448d981af942cdb090be",
       "version_major": 2,
       "version_minor": 0
      },
      "text/plain": [
       "  0%|          | 0/320 [00:00<?, ?it/s]"
      ]
     },
     "metadata": {},
     "output_type": "display_data"
    },
    {
     "name": "stdout",
     "output_type": "stream",
     "text": [
      "| Epoch: 160 | Train Loss: 1.287 | Train Acc: 75.70% | Val. Loss: 1.491 | Val. Acc: 55.62% | Val. Precision: 51.094 | Val. Recall: 55.625 | Val. F1-score: 50.440 |\n"
     ]
    },
    {
     "data": {
      "application/vnd.jupyter.widget-view+json": {
       "model_id": "d39c884bb32245aab9fd7a1626846c36",
       "version_major": 2,
       "version_minor": 0
      },
      "text/plain": [
       "  0%|          | 0/320 [00:00<?, ?it/s]"
      ]
     },
     "metadata": {},
     "output_type": "display_data"
    },
    {
     "name": "stdout",
     "output_type": "stream",
     "text": [
      "| Epoch: 161 | Train Loss: 1.286 | Train Acc: 75.70% | Val. Loss: 1.490 | Val. Acc: 55.62% | Val. Precision: 50.208 | Val. Recall: 55.625 | Val. F1-score: 49.923 |\n"
     ]
    },
    {
     "data": {
      "application/vnd.jupyter.widget-view+json": {
       "model_id": "d2d3a053b37949e8a20ebb7205086871",
       "version_major": 2,
       "version_minor": 0
      },
      "text/plain": [
       "  0%|          | 0/320 [00:00<?, ?it/s]"
      ]
     },
     "metadata": {},
     "output_type": "display_data"
    },
    {
     "name": "stdout",
     "output_type": "stream",
     "text": [
      "| Epoch: 162 | Train Loss: 1.286 | Train Acc: 75.70% | Val. Loss: 1.492 | Val. Acc: 55.62% | Val. Precision: 50.208 | Val. Recall: 55.625 | Val. F1-score: 49.923 |\n"
     ]
    },
    {
     "data": {
      "application/vnd.jupyter.widget-view+json": {
       "model_id": "187ee6c7fb114685842c27b55310ee09",
       "version_major": 2,
       "version_minor": 0
      },
      "text/plain": [
       "  0%|          | 0/320 [00:00<?, ?it/s]"
      ]
     },
     "metadata": {},
     "output_type": "display_data"
    },
    {
     "name": "stdout",
     "output_type": "stream",
     "text": [
      "| Epoch: 163 | Train Loss: 1.286 | Train Acc: 75.70% | Val. Loss: 1.491 | Val. Acc: 55.00% | Val. Precision: 49.948 | Val. Recall: 55.000 | Val. F1-score: 49.690 |\n"
     ]
    },
    {
     "data": {
      "application/vnd.jupyter.widget-view+json": {
       "model_id": "5a6648273c7941b58db3ba7b8022c9f2",
       "version_major": 2,
       "version_minor": 0
      },
      "text/plain": [
       "  0%|          | 0/320 [00:00<?, ?it/s]"
      ]
     },
     "metadata": {},
     "output_type": "display_data"
    },
    {
     "name": "stdout",
     "output_type": "stream",
     "text": [
      "| Epoch: 164 | Train Loss: 1.307 | Train Acc: 73.67% | Val. Loss: 1.520 | Val. Acc: 51.88% | Val. Precision: 48.385 | Val. Recall: 51.875 | Val. F1-score: 46.690 |\n"
     ]
    },
    {
     "data": {
      "application/vnd.jupyter.widget-view+json": {
       "model_id": "2b48dac55b214746beb593983b4f7fe4",
       "version_major": 2,
       "version_minor": 0
      },
      "text/plain": [
       "  0%|          | 0/320 [00:00<?, ?it/s]"
      ]
     },
     "metadata": {},
     "output_type": "display_data"
    },
    {
     "name": "stdout",
     "output_type": "stream",
     "text": [
      "| Epoch: 165 | Train Loss: 1.338 | Train Acc: 70.55% | Val. Loss: 1.522 | Val. Acc: 51.25% | Val. Precision: 47.344 | Val. Recall: 51.250 | Val. F1-score: 46.399 |\n"
     ]
    },
    {
     "data": {
      "application/vnd.jupyter.widget-view+json": {
       "model_id": "55e7ba2f8d9647a89083168ba4a47461",
       "version_major": 2,
       "version_minor": 0
      },
      "text/plain": [
       "  0%|          | 0/320 [00:00<?, ?it/s]"
      ]
     },
     "metadata": {},
     "output_type": "display_data"
    },
    {
     "name": "stdout",
     "output_type": "stream",
     "text": [
      "| Epoch: 166 | Train Loss: 1.313 | Train Acc: 73.36% | Val. Loss: 1.492 | Val. Acc: 54.37% | Val. Precision: 50.781 | Val. Recall: 54.375 | Val. F1-score: 49.524 |\n"
     ]
    },
    {
     "data": {
      "application/vnd.jupyter.widget-view+json": {
       "model_id": "38658942262846e6a0fa42d7b38f5505",
       "version_major": 2,
       "version_minor": 0
      },
      "text/plain": [
       "  0%|          | 0/320 [00:00<?, ?it/s]"
      ]
     },
     "metadata": {},
     "output_type": "display_data"
    },
    {
     "name": "stdout",
     "output_type": "stream",
     "text": [
      "| Epoch: 167 | Train Loss: 1.300 | Train Acc: 74.38% | Val. Loss: 1.499 | Val. Acc: 55.00% | Val. Precision: 49.844 | Val. Recall: 55.000 | Val. F1-score: 49.545 |\n"
     ]
    },
    {
     "data": {
      "application/vnd.jupyter.widget-view+json": {
       "model_id": "aebee8e069da4b2896e8e91cd5fbd794",
       "version_major": 2,
       "version_minor": 0
      },
      "text/plain": [
       "  0%|          | 0/320 [00:00<?, ?it/s]"
      ]
     },
     "metadata": {},
     "output_type": "display_data"
    },
    {
     "name": "stdout",
     "output_type": "stream",
     "text": [
      "| Epoch: 168 | Train Loss: 1.298 | Train Acc: 74.53% | Val. Loss: 1.494 | Val. Acc: 55.00% | Val. Precision: 48.594 | Val. Recall: 55.000 | Val. F1-score: 49.274 |\n"
     ]
    },
    {
     "data": {
      "application/vnd.jupyter.widget-view+json": {
       "model_id": "7bb95224f4bb497e99f5e1ee8c11d39b",
       "version_major": 2,
       "version_minor": 0
      },
      "text/plain": [
       "  0%|          | 0/320 [00:00<?, ?it/s]"
      ]
     },
     "metadata": {},
     "output_type": "display_data"
    },
    {
     "name": "stdout",
     "output_type": "stream",
     "text": [
      "| Epoch: 169 | Train Loss: 1.292 | Train Acc: 75.16% | Val. Loss: 1.496 | Val. Acc: 55.00% | Val. Precision: 48.750 | Val. Recall: 55.000 | Val. F1-score: 48.923 |\n"
     ]
    },
    {
     "data": {
      "application/vnd.jupyter.widget-view+json": {
       "model_id": "dc086e31f97441b797ae1a01449a4e27",
       "version_major": 2,
       "version_minor": 0
      },
      "text/plain": [
       "  0%|          | 0/320 [00:00<?, ?it/s]"
      ]
     },
     "metadata": {},
     "output_type": "display_data"
    },
    {
     "name": "stdout",
     "output_type": "stream",
     "text": [
      "| Epoch: 170 | Train Loss: 1.288 | Train Acc: 75.62% | Val. Loss: 1.490 | Val. Acc: 55.62% | Val. Precision: 50.781 | Val. Recall: 55.625 | Val. F1-score: 50.274 |\n"
     ]
    },
    {
     "data": {
      "application/vnd.jupyter.widget-view+json": {
       "model_id": "dfac55aecc3641228d42969ad2aa1027",
       "version_major": 2,
       "version_minor": 0
      },
      "text/plain": [
       "  0%|          | 0/320 [00:00<?, ?it/s]"
      ]
     },
     "metadata": {},
     "output_type": "display_data"
    },
    {
     "name": "stdout",
     "output_type": "stream",
     "text": [
      "| Epoch: 171 | Train Loss: 1.286 | Train Acc: 75.70% | Val. Loss: 1.501 | Val. Acc: 53.75% | Val. Precision: 47.396 | Val. Recall: 53.750 | Val. F1-score: 47.860 |\n"
     ]
    },
    {
     "data": {
      "application/vnd.jupyter.widget-view+json": {
       "model_id": "2926f44715ba4a24873f8c45c680dfc4",
       "version_major": 2,
       "version_minor": 0
      },
      "text/plain": [
       "  0%|          | 0/320 [00:00<?, ?it/s]"
      ]
     },
     "metadata": {},
     "output_type": "display_data"
    },
    {
     "name": "stdout",
     "output_type": "stream",
     "text": [
      "| Epoch: 172 | Train Loss: 1.288 | Train Acc: 75.55% | Val. Loss: 1.497 | Val. Acc: 54.37% | Val. Precision: 48.229 | Val. Recall: 54.375 | Val. F1-score: 48.381 |\n"
     ]
    },
    {
     "data": {
      "application/vnd.jupyter.widget-view+json": {
       "model_id": "adbe7f842aeb41e1bbf4198fa3e8f9c7",
       "version_major": 2,
       "version_minor": 0
      },
      "text/plain": [
       "  0%|          | 0/320 [00:00<?, ?it/s]"
      ]
     },
     "metadata": {},
     "output_type": "display_data"
    },
    {
     "name": "stdout",
     "output_type": "stream",
     "text": [
      "| Epoch: 173 | Train Loss: 1.288 | Train Acc: 75.55% | Val. Loss: 1.489 | Val. Acc: 55.62% | Val. Precision: 49.427 | Val. Recall: 55.625 | Val. F1-score: 49.795 |\n"
     ]
    },
    {
     "data": {
      "application/vnd.jupyter.widget-view+json": {
       "model_id": "ce3acecdc8c947ee967fffac3c95bd60",
       "version_major": 2,
       "version_minor": 0
      },
      "text/plain": [
       "  0%|          | 0/320 [00:00<?, ?it/s]"
      ]
     },
     "metadata": {},
     "output_type": "display_data"
    },
    {
     "name": "stdout",
     "output_type": "stream",
     "text": [
      "| Epoch: 174 | Train Loss: 1.286 | Train Acc: 75.70% | Val. Loss: 1.486 | Val. Acc: 56.25% | Val. Precision: 50.885 | Val. Recall: 56.250 | Val. F1-score: 50.795 |\n"
     ]
    },
    {
     "data": {
      "application/vnd.jupyter.widget-view+json": {
       "model_id": "79ff67a8537c413d818e2100e80f2e62",
       "version_major": 2,
       "version_minor": 0
      },
      "text/plain": [
       "  0%|          | 0/320 [00:00<?, ?it/s]"
      ]
     },
     "metadata": {},
     "output_type": "display_data"
    },
    {
     "name": "stdout",
     "output_type": "stream",
     "text": [
      "| Epoch: 175 | Train Loss: 1.287 | Train Acc: 75.62% | Val. Loss: 1.499 | Val. Acc: 54.37% | Val. Precision: 47.500 | Val. Recall: 54.375 | Val. F1-score: 48.381 |\n"
     ]
    },
    {
     "data": {
      "application/vnd.jupyter.widget-view+json": {
       "model_id": "e02ad4159b544a68b3f0583efc482eb8",
       "version_major": 2,
       "version_minor": 0
      },
      "text/plain": [
       "  0%|          | 0/320 [00:00<?, ?it/s]"
      ]
     },
     "metadata": {},
     "output_type": "display_data"
    },
    {
     "name": "stdout",
     "output_type": "stream",
     "text": [
      "| Epoch: 176 | Train Loss: 1.295 | Train Acc: 74.69% | Val. Loss: 1.491 | Val. Acc: 55.62% | Val. Precision: 49.427 | Val. Recall: 55.625 | Val. F1-score: 49.795 |\n"
     ]
    },
    {
     "data": {
      "application/vnd.jupyter.widget-view+json": {
       "model_id": "6a487c5845a9465e9065545e9f8c7133",
       "version_major": 2,
       "version_minor": 0
      },
      "text/plain": [
       "  0%|          | 0/320 [00:00<?, ?it/s]"
      ]
     },
     "metadata": {},
     "output_type": "display_data"
    },
    {
     "name": "stdout",
     "output_type": "stream",
     "text": [
      "| Epoch: 177 | Train Loss: 1.291 | Train Acc: 75.31% | Val. Loss: 1.496 | Val. Acc: 54.37% | Val. Precision: 49.948 | Val. Recall: 54.375 | Val. F1-score: 49.190 |\n"
     ]
    },
    {
     "data": {
      "application/vnd.jupyter.widget-view+json": {
       "model_id": "b5c96b4aeb334d9399c5e6dae96d043b",
       "version_major": 2,
       "version_minor": 0
      },
      "text/plain": [
       "  0%|          | 0/320 [00:00<?, ?it/s]"
      ]
     },
     "metadata": {},
     "output_type": "display_data"
    },
    {
     "name": "stdout",
     "output_type": "stream",
     "text": [
      "| Epoch: 178 | Train Loss: 1.286 | Train Acc: 75.78% | Val. Loss: 1.491 | Val. Acc: 55.00% | Val. Precision: 49.323 | Val. Recall: 55.000 | Val. F1-score: 49.274 |\n"
     ]
    },
    {
     "data": {
      "application/vnd.jupyter.widget-view+json": {
       "model_id": "b8b7b2e7c54846cb93adc38594c443d2",
       "version_major": 2,
       "version_minor": 0
      },
      "text/plain": [
       "  0%|          | 0/320 [00:00<?, ?it/s]"
      ]
     },
     "metadata": {},
     "output_type": "display_data"
    },
    {
     "name": "stdout",
     "output_type": "stream",
     "text": [
      "| Epoch: 179 | Train Loss: 1.290 | Train Acc: 75.31% | Val. Loss: 1.507 | Val. Acc: 53.12% | Val. Precision: 47.760 | Val. Recall: 53.125 | Val. F1-score: 47.610 |\n"
     ]
    },
    {
     "data": {
      "application/vnd.jupyter.widget-view+json": {
       "model_id": "ba75b0d199a54a7898b22877e13c8cff",
       "version_major": 2,
       "version_minor": 0
      },
      "text/plain": [
       "  0%|          | 0/320 [00:00<?, ?it/s]"
      ]
     },
     "metadata": {},
     "output_type": "display_data"
    },
    {
     "name": "stdout",
     "output_type": "stream",
     "text": [
      "| Epoch: 180 | Train Loss: 1.323 | Train Acc: 72.19% | Val. Loss: 1.535 | Val. Acc: 50.62% | Val. Precision: 46.354 | Val. Recall: 50.625 | Val. F1-score: 45.542 |\n"
     ]
    },
    {
     "data": {
      "application/vnd.jupyter.widget-view+json": {
       "model_id": "a80420ddb89249d08cde7db8870985fc",
       "version_major": 2,
       "version_minor": 0
      },
      "text/plain": [
       "  0%|          | 0/320 [00:00<?, ?it/s]"
      ]
     },
     "metadata": {},
     "output_type": "display_data"
    },
    {
     "name": "stdout",
     "output_type": "stream",
     "text": [
      "| Epoch: 181 | Train Loss: 1.308 | Train Acc: 73.75% | Val. Loss: 1.494 | Val. Acc: 55.00% | Val. Precision: 51.302 | Val. Recall: 55.000 | Val. F1-score: 50.128 |\n"
     ]
    },
    {
     "data": {
      "application/vnd.jupyter.widget-view+json": {
       "model_id": "2e69ceec09324d82a6c34e3a78b3737d",
       "version_major": 2,
       "version_minor": 0
      },
      "text/plain": [
       "  0%|          | 0/320 [00:00<?, ?it/s]"
      ]
     },
     "metadata": {},
     "output_type": "display_data"
    },
    {
     "name": "stdout",
     "output_type": "stream",
     "text": [
      "| Epoch: 182 | Train Loss: 1.297 | Train Acc: 74.84% | Val. Loss: 1.505 | Val. Acc: 53.75% | Val. Precision: 48.906 | Val. Recall: 53.750 | Val. F1-score: 48.357 |\n"
     ]
    },
    {
     "data": {
      "application/vnd.jupyter.widget-view+json": {
       "model_id": "f9362d77ba5545548c225f6f32009d0a",
       "version_major": 2,
       "version_minor": 0
      },
      "text/plain": [
       "  0%|          | 0/320 [00:00<?, ?it/s]"
      ]
     },
     "metadata": {},
     "output_type": "display_data"
    },
    {
     "name": "stdout",
     "output_type": "stream",
     "text": [
      "| Epoch: 183 | Train Loss: 1.292 | Train Acc: 75.23% | Val. Loss: 1.492 | Val. Acc: 55.00% | Val. Precision: 49.635 | Val. Recall: 55.000 | Val. F1-score: 49.503 |\n"
     ]
    },
    {
     "data": {
      "application/vnd.jupyter.widget-view+json": {
       "model_id": "4e34727dd3f44b4f8cbbad211d253a0e",
       "version_major": 2,
       "version_minor": 0
      },
      "text/plain": [
       "  0%|          | 0/320 [00:00<?, ?it/s]"
      ]
     },
     "metadata": {},
     "output_type": "display_data"
    },
    {
     "name": "stdout",
     "output_type": "stream",
     "text": [
      "| Epoch: 184 | Train Loss: 1.290 | Train Acc: 75.47% | Val. Loss: 1.503 | Val. Acc: 53.12% | Val. Precision: 46.458 | Val. Recall: 53.125 | Val. F1-score: 46.985 |\n"
     ]
    },
    {
     "data": {
      "application/vnd.jupyter.widget-view+json": {
       "model_id": "5f0d606697df4f96beb067bad76323ef",
       "version_major": 2,
       "version_minor": 0
      },
      "text/plain": [
       "  0%|          | 0/320 [00:00<?, ?it/s]"
      ]
     },
     "metadata": {},
     "output_type": "display_data"
    },
    {
     "name": "stdout",
     "output_type": "stream",
     "text": [
      "| Epoch: 185 | Train Loss: 1.290 | Train Acc: 75.31% | Val. Loss: 1.477 | Val. Acc: 56.88% | Val. Precision: 51.406 | Val. Recall: 56.875 | Val. F1-score: 51.336 |\n"
     ]
    },
    {
     "data": {
      "application/vnd.jupyter.widget-view+json": {
       "model_id": "74f1e215af774988bc4ca786d1249a86",
       "version_major": 2,
       "version_minor": 0
      },
      "text/plain": [
       "  0%|          | 0/320 [00:00<?, ?it/s]"
      ]
     },
     "metadata": {},
     "output_type": "display_data"
    },
    {
     "name": "stdout",
     "output_type": "stream",
     "text": [
      "| Epoch: 186 | Train Loss: 1.287 | Train Acc: 75.70% | Val. Loss: 1.483 | Val. Acc: 56.25% | Val. Precision: 50.104 | Val. Recall: 56.250 | Val. F1-score: 50.318 |\n"
     ]
    },
    {
     "data": {
      "application/vnd.jupyter.widget-view+json": {
       "model_id": "0c853c09167c415cbb29a0bd4592c377",
       "version_major": 2,
       "version_minor": 0
      },
      "text/plain": [
       "  0%|          | 0/320 [00:00<?, ?it/s]"
      ]
     },
     "metadata": {},
     "output_type": "display_data"
    },
    {
     "name": "stdout",
     "output_type": "stream",
     "text": [
      "| Epoch: 187 | Train Loss: 1.285 | Train Acc: 75.86% | Val. Loss: 1.479 | Val. Acc: 56.88% | Val. Precision: 51.198 | Val. Recall: 56.875 | Val. F1-score: 51.211 |\n"
     ]
    },
    {
     "data": {
      "application/vnd.jupyter.widget-view+json": {
       "model_id": "c833cc58ce6c465e8e56e54c3738eed3",
       "version_major": 2,
       "version_minor": 0
      },
      "text/plain": [
       "  0%|          | 0/320 [00:00<?, ?it/s]"
      ]
     },
     "metadata": {},
     "output_type": "display_data"
    },
    {
     "name": "stdout",
     "output_type": "stream",
     "text": [
      "| Epoch: 188 | Train Loss: 1.285 | Train Acc: 75.86% | Val. Loss: 1.491 | Val. Acc: 55.00% | Val. Precision: 48.646 | Val. Recall: 55.000 | Val. F1-score: 48.985 |\n"
     ]
    },
    {
     "data": {
      "application/vnd.jupyter.widget-view+json": {
       "model_id": "d3bc058cbf7d4890b9ad8ef4aced4cb5",
       "version_major": 2,
       "version_minor": 0
      },
      "text/plain": [
       "  0%|          | 0/320 [00:00<?, ?it/s]"
      ]
     },
     "metadata": {},
     "output_type": "display_data"
    },
    {
     "name": "stdout",
     "output_type": "stream",
     "text": [
      "| Epoch: 189 | Train Loss: 1.287 | Train Acc: 75.78% | Val. Loss: 1.499 | Val. Acc: 54.37% | Val. Precision: 49.115 | Val. Recall: 54.375 | Val. F1-score: 48.732 |\n"
     ]
    },
    {
     "data": {
      "application/vnd.jupyter.widget-view+json": {
       "model_id": "2002cc071a5a44ddbcabd5ba41df55bb",
       "version_major": 2,
       "version_minor": 0
      },
      "text/plain": [
       "  0%|          | 0/320 [00:00<?, ?it/s]"
      ]
     },
     "metadata": {},
     "output_type": "display_data"
    },
    {
     "name": "stdout",
     "output_type": "stream",
     "text": [
      "| Epoch: 190 | Train Loss: 1.288 | Train Acc: 75.62% | Val. Loss: 1.490 | Val. Acc: 55.00% | Val. Precision: 49.635 | Val. Recall: 55.000 | Val. F1-score: 49.711 |\n"
     ]
    },
    {
     "data": {
      "application/vnd.jupyter.widget-view+json": {
       "model_id": "04a4a53f3f5145ac9fe4cc61afeca853",
       "version_major": 2,
       "version_minor": 0
      },
      "text/plain": [
       "  0%|          | 0/320 [00:00<?, ?it/s]"
      ]
     },
     "metadata": {},
     "output_type": "display_data"
    },
    {
     "name": "stdout",
     "output_type": "stream",
     "text": [
      "| Epoch: 191 | Train Loss: 1.288 | Train Acc: 75.55% | Val. Loss: 1.490 | Val. Acc: 55.62% | Val. Precision: 49.792 | Val. Recall: 55.625 | Val. F1-score: 49.902 |\n"
     ]
    },
    {
     "data": {
      "application/vnd.jupyter.widget-view+json": {
       "model_id": "e8660dbdb8744535bcfb3b079ff7b727",
       "version_major": 2,
       "version_minor": 0
      },
      "text/plain": [
       "  0%|          | 0/320 [00:00<?, ?it/s]"
      ]
     },
     "metadata": {},
     "output_type": "display_data"
    },
    {
     "name": "stdout",
     "output_type": "stream",
     "text": [
      "| Epoch: 192 | Train Loss: 1.289 | Train Acc: 75.31% | Val. Loss: 1.493 | Val. Acc: 54.37% | Val. Precision: 47.083 | Val. Recall: 54.375 | Val. F1-score: 48.131 |\n"
     ]
    },
    {
     "data": {
      "application/vnd.jupyter.widget-view+json": {
       "model_id": "5ba21437d1f74cc79a8f90a93aaef8be",
       "version_major": 2,
       "version_minor": 0
      },
      "text/plain": [
       "  0%|          | 0/320 [00:00<?, ?it/s]"
      ]
     },
     "metadata": {},
     "output_type": "display_data"
    },
    {
     "name": "stdout",
     "output_type": "stream",
     "text": [
      "| Epoch: 193 | Train Loss: 1.292 | Train Acc: 75.23% | Val. Loss: 1.511 | Val. Acc: 52.50% | Val. Precision: 46.198 | Val. Recall: 52.500 | Val. F1-score: 46.464 |\n"
     ]
    },
    {
     "data": {
      "application/vnd.jupyter.widget-view+json": {
       "model_id": "8d3d603c03544a69a1ca7ee37e0227bd",
       "version_major": 2,
       "version_minor": 0
      },
      "text/plain": [
       "  0%|          | 0/320 [00:00<?, ?it/s]"
      ]
     },
     "metadata": {},
     "output_type": "display_data"
    },
    {
     "name": "stdout",
     "output_type": "stream",
     "text": [
      "| Epoch: 194 | Train Loss: 1.290 | Train Acc: 75.39% | Val. Loss: 1.490 | Val. Acc: 55.62% | Val. Precision: 49.844 | Val. Recall: 55.625 | Val. F1-score: 49.878 |\n"
     ]
    },
    {
     "data": {
      "application/vnd.jupyter.widget-view+json": {
       "model_id": "7ce175d93dc24393bc9584d72573df46",
       "version_major": 2,
       "version_minor": 0
      },
      "text/plain": [
       "  0%|          | 0/320 [00:00<?, ?it/s]"
      ]
     },
     "metadata": {},
     "output_type": "display_data"
    },
    {
     "name": "stdout",
     "output_type": "stream",
     "text": [
      "| Epoch: 195 | Train Loss: 1.284 | Train Acc: 75.94% | Val. Loss: 1.480 | Val. Acc: 56.88% | Val. Precision: 51.198 | Val. Recall: 56.875 | Val. F1-score: 51.211 |\n"
     ]
    },
    {
     "data": {
      "application/vnd.jupyter.widget-view+json": {
       "model_id": "78afc7b7c1fc46cd8c82fc73261d7e45",
       "version_major": 2,
       "version_minor": 0
      },
      "text/plain": [
       "  0%|          | 0/320 [00:00<?, ?it/s]"
      ]
     },
     "metadata": {},
     "output_type": "display_data"
    },
    {
     "name": "stdout",
     "output_type": "stream",
     "text": [
      "| Epoch: 196 | Train Loss: 1.281 | Train Acc: 76.33% | Val. Loss: 1.492 | Val. Acc: 55.00% | Val. Precision: 48.594 | Val. Recall: 55.000 | Val. F1-score: 49.107 |\n"
     ]
    },
    {
     "data": {
      "application/vnd.jupyter.widget-view+json": {
       "model_id": "1f43c99073ec4ce7a12f7a6e0b626e40",
       "version_major": 2,
       "version_minor": 0
      },
      "text/plain": [
       "  0%|          | 0/320 [00:00<?, ?it/s]"
      ]
     },
     "metadata": {},
     "output_type": "display_data"
    },
    {
     "name": "stdout",
     "output_type": "stream",
     "text": [
      "| Epoch: 197 | Train Loss: 1.284 | Train Acc: 76.02% | Val. Loss: 1.482 | Val. Acc: 56.25% | Val. Precision: 51.094 | Val. Recall: 56.250 | Val. F1-score: 50.690 |\n"
     ]
    },
    {
     "data": {
      "application/vnd.jupyter.widget-view+json": {
       "model_id": "8de4d04095344ed3ade31aee8a392317",
       "version_major": 2,
       "version_minor": 0
      },
      "text/plain": [
       "  0%|          | 0/320 [00:00<?, ?it/s]"
      ]
     },
     "metadata": {},
     "output_type": "display_data"
    },
    {
     "name": "stdout",
     "output_type": "stream",
     "text": [
      "| Epoch: 198 | Train Loss: 1.283 | Train Acc: 76.09% | Val. Loss: 1.483 | Val. Acc: 55.62% | Val. Precision: 48.750 | Val. Recall: 55.625 | Val. F1-score: 49.732 |\n"
     ]
    },
    {
     "data": {
      "application/vnd.jupyter.widget-view+json": {
       "model_id": "099e6b14005149a0bb564cd58be22472",
       "version_major": 2,
       "version_minor": 0
      },
      "text/plain": [
       "  0%|          | 0/320 [00:00<?, ?it/s]"
      ]
     },
     "metadata": {},
     "output_type": "display_data"
    },
    {
     "name": "stdout",
     "output_type": "stream",
     "text": [
      "| Epoch: 199 | Train Loss: 1.292 | Train Acc: 75.16% | Val. Loss: 1.496 | Val. Acc: 55.00% | Val. Precision: 49.219 | Val. Recall: 55.000 | Val. F1-score: 48.735 |\n"
     ]
    },
    {
     "data": {
      "application/vnd.jupyter.widget-view+json": {
       "model_id": "e2179404c60f490a8ac17394c37e82ef",
       "version_major": 2,
       "version_minor": 0
      },
      "text/plain": [
       "  0%|          | 0/320 [00:00<?, ?it/s]"
      ]
     },
     "metadata": {},
     "output_type": "display_data"
    },
    {
     "name": "stdout",
     "output_type": "stream",
     "text": [
      "| Epoch: 200 | Train Loss: 1.292 | Train Acc: 75.47% | Val. Loss: 1.500 | Val. Acc: 54.37% | Val. Precision: 47.083 | Val. Recall: 54.375 | Val. F1-score: 47.798 |\n"
     ]
    },
    {
     "data": {
      "application/vnd.jupyter.widget-view+json": {
       "model_id": "81d0697ecac5460ebe02416bc2d1903c",
       "version_major": 2,
       "version_minor": 0
      },
      "text/plain": [
       "  0%|          | 0/320 [00:00<?, ?it/s]"
      ]
     },
     "metadata": {},
     "output_type": "display_data"
    },
    {
     "name": "stdout",
     "output_type": "stream",
     "text": [
      "| Epoch: 201 | Train Loss: 1.282 | Train Acc: 76.09% | Val. Loss: 1.494 | Val. Acc: 55.00% | Val. Precision: 47.865 | Val. Recall: 55.000 | Val. F1-score: 48.753 |\n"
     ]
    },
    {
     "data": {
      "application/vnd.jupyter.widget-view+json": {
       "model_id": "25605dd9457e431494cf058b79138024",
       "version_major": 2,
       "version_minor": 0
      },
      "text/plain": [
       "  0%|          | 0/320 [00:00<?, ?it/s]"
      ]
     },
     "metadata": {},
     "output_type": "display_data"
    },
    {
     "name": "stdout",
     "output_type": "stream",
     "text": [
      "| Epoch: 202 | Train Loss: 1.283 | Train Acc: 76.17% | Val. Loss: 1.496 | Val. Acc: 54.37% | Val. Precision: 48.281 | Val. Recall: 54.375 | Val. F1-score: 48.565 |\n"
     ]
    },
    {
     "data": {
      "application/vnd.jupyter.widget-view+json": {
       "model_id": "28057f6fb58146f0b2c39b6d856f301e",
       "version_major": 2,
       "version_minor": 0
      },
      "text/plain": [
       "  0%|          | 0/320 [00:00<?, ?it/s]"
      ]
     },
     "metadata": {},
     "output_type": "display_data"
    },
    {
     "name": "stdout",
     "output_type": "stream",
     "text": [
      "| Epoch: 203 | Train Loss: 1.279 | Train Acc: 76.48% | Val. Loss: 1.486 | Val. Acc: 56.25% | Val. Precision: 51.094 | Val. Recall: 56.250 | Val. F1-score: 50.690 |\n"
     ]
    },
    {
     "data": {
      "application/vnd.jupyter.widget-view+json": {
       "model_id": "085c07fd3c7d4d6785dd059d45e9fe79",
       "version_major": 2,
       "version_minor": 0
      },
      "text/plain": [
       "  0%|          | 0/320 [00:00<?, ?it/s]"
      ]
     },
     "metadata": {},
     "output_type": "display_data"
    },
    {
     "name": "stdout",
     "output_type": "stream",
     "text": [
      "| Epoch: 204 | Train Loss: 1.279 | Train Acc: 76.48% | Val. Loss: 1.491 | Val. Acc: 54.37% | Val. Precision: 48.646 | Val. Recall: 54.375 | Val. F1-score: 48.735 |\n"
     ]
    },
    {
     "data": {
      "application/vnd.jupyter.widget-view+json": {
       "model_id": "8cd4b2f7495d444ea735807eb24426c9",
       "version_major": 2,
       "version_minor": 0
      },
      "text/plain": [
       "  0%|          | 0/320 [00:00<?, ?it/s]"
      ]
     },
     "metadata": {},
     "output_type": "display_data"
    },
    {
     "name": "stdout",
     "output_type": "stream",
     "text": [
      "| Epoch: 205 | Train Loss: 1.288 | Train Acc: 75.55% | Val. Loss: 1.494 | Val. Acc: 55.00% | Val. Precision: 49.167 | Val. Recall: 55.000 | Val. F1-score: 49.006 |\n"
     ]
    },
    {
     "data": {
      "application/vnd.jupyter.widget-view+json": {
       "model_id": "a9073718847b465d9b3f657e7007f804",
       "version_major": 2,
       "version_minor": 0
      },
      "text/plain": [
       "  0%|          | 0/320 [00:00<?, ?it/s]"
      ]
     },
     "metadata": {},
     "output_type": "display_data"
    },
    {
     "name": "stdout",
     "output_type": "stream",
     "text": [
      "| Epoch: 206 | Train Loss: 1.283 | Train Acc: 76.17% | Val. Loss: 1.494 | Val. Acc: 55.62% | Val. Precision: 49.687 | Val. Recall: 55.625 | Val. F1-score: 49.589 |\n"
     ]
    },
    {
     "data": {
      "application/vnd.jupyter.widget-view+json": {
       "model_id": "7ca3d45668ac406f97d66fddc4672513",
       "version_major": 2,
       "version_minor": 0
      },
      "text/plain": [
       "  0%|          | 0/320 [00:00<?, ?it/s]"
      ]
     },
     "metadata": {},
     "output_type": "display_data"
    },
    {
     "name": "stdout",
     "output_type": "stream",
     "text": [
      "| Epoch: 207 | Train Loss: 1.279 | Train Acc: 76.48% | Val. Loss: 1.496 | Val. Acc: 55.00% | Val. Precision: 48.229 | Val. Recall: 55.000 | Val. F1-score: 48.860 |\n"
     ]
    },
    {
     "data": {
      "application/vnd.jupyter.widget-view+json": {
       "model_id": "0f27dd3934534b3e814a09c23237faa5",
       "version_major": 2,
       "version_minor": 0
      },
      "text/plain": [
       "  0%|          | 0/320 [00:00<?, ?it/s]"
      ]
     },
     "metadata": {},
     "output_type": "display_data"
    },
    {
     "name": "stdout",
     "output_type": "stream",
     "text": [
      "| Epoch: 208 | Train Loss: 1.278 | Train Acc: 76.56% | Val. Loss: 1.498 | Val. Acc: 54.37% | Val. Precision: 48.646 | Val. Recall: 54.375 | Val. F1-score: 48.735 |\n"
     ]
    },
    {
     "data": {
      "application/vnd.jupyter.widget-view+json": {
       "model_id": "90895f1209074ca3a8ca0dccf9291844",
       "version_major": 2,
       "version_minor": 0
      },
      "text/plain": [
       "  0%|          | 0/320 [00:00<?, ?it/s]"
      ]
     },
     "metadata": {},
     "output_type": "display_data"
    },
    {
     "name": "stdout",
     "output_type": "stream",
     "text": [
      "| Epoch: 209 | Train Loss: 1.283 | Train Acc: 76.09% | Val. Loss: 1.497 | Val. Acc: 55.00% | Val. Precision: 48.698 | Val. Recall: 55.000 | Val. F1-score: 48.902 |\n"
     ]
    },
    {
     "data": {
      "application/vnd.jupyter.widget-view+json": {
       "model_id": "737aa3838b9b424780783236ceb4ef4f",
       "version_major": 2,
       "version_minor": 0
      },
      "text/plain": [
       "  0%|          | 0/320 [00:00<?, ?it/s]"
      ]
     },
     "metadata": {},
     "output_type": "display_data"
    },
    {
     "name": "stdout",
     "output_type": "stream",
     "text": [
      "| Epoch: 210 | Train Loss: 1.286 | Train Acc: 75.86% | Val. Loss: 1.493 | Val. Acc: 55.62% | Val. Precision: 49.896 | Val. Recall: 55.625 | Val. F1-score: 49.714 |\n"
     ]
    },
    {
     "data": {
      "application/vnd.jupyter.widget-view+json": {
       "model_id": "02e028d83d054458b190035785941f03",
       "version_major": 2,
       "version_minor": 0
      },
      "text/plain": [
       "  0%|          | 0/320 [00:00<?, ?it/s]"
      ]
     },
     "metadata": {},
     "output_type": "display_data"
    },
    {
     "name": "stdout",
     "output_type": "stream",
     "text": [
      "| Epoch: 211 | Train Loss: 1.286 | Train Acc: 75.94% | Val. Loss: 1.492 | Val. Acc: 55.00% | Val. Precision: 47.448 | Val. Recall: 55.000 | Val. F1-score: 48.443 |\n"
     ]
    },
    {
     "data": {
      "application/vnd.jupyter.widget-view+json": {
       "model_id": "d8b7d150bd174cde8f4e66ad3f65045f",
       "version_major": 2,
       "version_minor": 0
      },
      "text/plain": [
       "  0%|          | 0/320 [00:00<?, ?it/s]"
      ]
     },
     "metadata": {},
     "output_type": "display_data"
    },
    {
     "name": "stdout",
     "output_type": "stream",
     "text": [
      "| Epoch: 212 | Train Loss: 1.300 | Train Acc: 74.30% | Val. Loss: 1.496 | Val. Acc: 54.37% | Val. Precision: 50.885 | Val. Recall: 54.375 | Val. F1-score: 49.812 |\n"
     ]
    },
    {
     "data": {
      "application/vnd.jupyter.widget-view+json": {
       "model_id": "c5ca852aa97e45a288d44a0ea57f3e93",
       "version_major": 2,
       "version_minor": 0
      },
      "text/plain": [
       "  0%|          | 0/320 [00:00<?, ?it/s]"
      ]
     },
     "metadata": {},
     "output_type": "display_data"
    },
    {
     "name": "stdout",
     "output_type": "stream",
     "text": [
      "| Epoch: 213 | Train Loss: 1.284 | Train Acc: 76.02% | Val. Loss: 1.482 | Val. Acc: 56.88% | Val. Precision: 50.625 | Val. Recall: 56.875 | Val. F1-score: 50.860 |\n"
     ]
    },
    {
     "data": {
      "application/vnd.jupyter.widget-view+json": {
       "model_id": "d6b452c6d08241b28267cfa3c8259dc5",
       "version_major": 2,
       "version_minor": 0
      },
      "text/plain": [
       "  0%|          | 0/320 [00:00<?, ?it/s]"
      ]
     },
     "metadata": {},
     "output_type": "display_data"
    },
    {
     "name": "stdout",
     "output_type": "stream",
     "text": [
      "| Epoch: 214 | Train Loss: 1.286 | Train Acc: 75.78% | Val. Loss: 1.497 | Val. Acc: 54.37% | Val. Precision: 48.698 | Val. Recall: 54.375 | Val. F1-score: 49.045 |\n"
     ]
    },
    {
     "data": {
      "application/vnd.jupyter.widget-view+json": {
       "model_id": "497b1677b3fd40f69c1de9e545c9478d",
       "version_major": 2,
       "version_minor": 0
      },
      "text/plain": [
       "  0%|          | 0/320 [00:00<?, ?it/s]"
      ]
     },
     "metadata": {},
     "output_type": "display_data"
    },
    {
     "name": "stdout",
     "output_type": "stream",
     "text": [
      "| Epoch: 215 | Train Loss: 1.282 | Train Acc: 76.17% | Val. Loss: 1.492 | Val. Acc: 55.00% | Val. Precision: 50.677 | Val. Recall: 55.000 | Val. F1-score: 50.003 |\n"
     ]
    },
    {
     "data": {
      "application/vnd.jupyter.widget-view+json": {
       "model_id": "88a94a9e481046fab2f332adba4fd063",
       "version_major": 2,
       "version_minor": 0
      },
      "text/plain": [
       "  0%|          | 0/320 [00:00<?, ?it/s]"
      ]
     },
     "metadata": {},
     "output_type": "display_data"
    },
    {
     "name": "stdout",
     "output_type": "stream",
     "text": [
      "| Epoch: 216 | Train Loss: 1.277 | Train Acc: 76.72% | Val. Loss: 1.491 | Val. Acc: 55.00% | Val. Precision: 49.375 | Val. Recall: 55.000 | Val. F1-score: 49.131 |\n"
     ]
    },
    {
     "data": {
      "application/vnd.jupyter.widget-view+json": {
       "model_id": "7df3a3596be54f96ab1c6475d12085e1",
       "version_major": 2,
       "version_minor": 0
      },
      "text/plain": [
       "  0%|          | 0/320 [00:00<?, ?it/s]"
      ]
     },
     "metadata": {},
     "output_type": "display_data"
    },
    {
     "name": "stdout",
     "output_type": "stream",
     "text": [
      "| Epoch: 217 | Train Loss: 1.280 | Train Acc: 76.41% | Val. Loss: 1.483 | Val. Acc: 56.25% | Val. Precision: 50.990 | Val. Recall: 56.250 | Val. F1-score: 50.878 |\n"
     ]
    },
    {
     "data": {
      "application/vnd.jupyter.widget-view+json": {
       "model_id": "30e460832cde47fb83a08d27a449b689",
       "version_major": 2,
       "version_minor": 0
      },
      "text/plain": [
       "  0%|          | 0/320 [00:00<?, ?it/s]"
      ]
     },
     "metadata": {},
     "output_type": "display_data"
    },
    {
     "name": "stdout",
     "output_type": "stream",
     "text": [
      "| Epoch: 218 | Train Loss: 1.277 | Train Acc: 76.64% | Val. Loss: 1.491 | Val. Acc: 54.37% | Val. Precision: 47.917 | Val. Recall: 54.375 | Val. F1-score: 48.402 |\n"
     ]
    },
    {
     "data": {
      "application/vnd.jupyter.widget-view+json": {
       "model_id": "1221c1da65ae439a9ce3f9e9bc6e5811",
       "version_major": 2,
       "version_minor": 0
      },
      "text/plain": [
       "  0%|          | 0/320 [00:00<?, ?it/s]"
      ]
     },
     "metadata": {},
     "output_type": "display_data"
    },
    {
     "name": "stdout",
     "output_type": "stream",
     "text": [
      "| Epoch: 219 | Train Loss: 1.277 | Train Acc: 76.64% | Val. Loss: 1.493 | Val. Acc: 55.00% | Val. Precision: 49.062 | Val. Recall: 55.000 | Val. F1-score: 49.193 |\n"
     ]
    },
    {
     "data": {
      "application/vnd.jupyter.widget-view+json": {
       "model_id": "51365a52c3a24383aa6ef039f8bbf4ab",
       "version_major": 2,
       "version_minor": 0
      },
      "text/plain": [
       "  0%|          | 0/320 [00:00<?, ?it/s]"
      ]
     },
     "metadata": {},
     "output_type": "display_data"
    },
    {
     "name": "stdout",
     "output_type": "stream",
     "text": [
      "| Epoch: 220 | Train Loss: 1.277 | Train Acc: 76.64% | Val. Loss: 1.497 | Val. Acc: 54.37% | Val. Precision: 47.604 | Val. Recall: 54.375 | Val. F1-score: 48.193 |\n"
     ]
    },
    {
     "data": {
      "application/vnd.jupyter.widget-view+json": {
       "model_id": "ca3a7db0e2394cdab8811c93665d1bb2",
       "version_major": 2,
       "version_minor": 0
      },
      "text/plain": [
       "  0%|          | 0/320 [00:00<?, ?it/s]"
      ]
     },
     "metadata": {},
     "output_type": "display_data"
    },
    {
     "name": "stdout",
     "output_type": "stream",
     "text": [
      "| Epoch: 221 | Train Loss: 1.277 | Train Acc: 76.64% | Val. Loss: 1.496 | Val. Acc: 54.37% | Val. Precision: 48.177 | Val. Recall: 54.375 | Val. F1-score: 48.711 |\n"
     ]
    },
    {
     "data": {
      "application/vnd.jupyter.widget-view+json": {
       "model_id": "581497fe900a413f9c3fef963685a6c8",
       "version_major": 2,
       "version_minor": 0
      },
      "text/plain": [
       "  0%|          | 0/320 [00:00<?, ?it/s]"
      ]
     },
     "metadata": {},
     "output_type": "display_data"
    },
    {
     "name": "stdout",
     "output_type": "stream",
     "text": [
      "| Epoch: 222 | Train Loss: 1.277 | Train Acc: 76.64% | Val. Loss: 1.493 | Val. Acc: 55.00% | Val. Precision: 48.698 | Val. Recall: 55.000 | Val. F1-score: 49.295 |\n"
     ]
    },
    {
     "data": {
      "application/vnd.jupyter.widget-view+json": {
       "model_id": "8611a14998e6431f9d0c27dcf8944dec",
       "version_major": 2,
       "version_minor": 0
      },
      "text/plain": [
       "  0%|          | 0/320 [00:00<?, ?it/s]"
      ]
     },
     "metadata": {},
     "output_type": "display_data"
    },
    {
     "name": "stdout",
     "output_type": "stream",
     "text": [
      "| Epoch: 223 | Train Loss: 1.277 | Train Acc: 76.64% | Val. Loss: 1.487 | Val. Acc: 55.62% | Val. Precision: 50.469 | Val. Recall: 55.625 | Val. F1-score: 50.232 |\n"
     ]
    },
    {
     "data": {
      "application/vnd.jupyter.widget-view+json": {
       "model_id": "d3346d773543485c8175cc13f144f943",
       "version_major": 2,
       "version_minor": 0
      },
      "text/plain": [
       "  0%|          | 0/320 [00:00<?, ?it/s]"
      ]
     },
     "metadata": {},
     "output_type": "display_data"
    },
    {
     "name": "stdout",
     "output_type": "stream",
     "text": [
      "| Epoch: 224 | Train Loss: 1.277 | Train Acc: 76.64% | Val. Loss: 1.486 | Val. Acc: 55.62% | Val. Precision: 50.156 | Val. Recall: 55.625 | Val. F1-score: 50.086 |\n"
     ]
    },
    {
     "data": {
      "application/vnd.jupyter.widget-view+json": {
       "model_id": "9c9a798cdd394310993f93abaf5802ad",
       "version_major": 2,
       "version_minor": 0
      },
      "text/plain": [
       "  0%|          | 0/320 [00:00<?, ?it/s]"
      ]
     },
     "metadata": {},
     "output_type": "display_data"
    },
    {
     "name": "stdout",
     "output_type": "stream",
     "text": [
      "| Epoch: 225 | Train Loss: 1.278 | Train Acc: 76.56% | Val. Loss: 1.494 | Val. Acc: 55.62% | Val. Precision: 49.531 | Val. Recall: 55.625 | Val. F1-score: 49.607 |\n"
     ]
    },
    {
     "data": {
      "application/vnd.jupyter.widget-view+json": {
       "model_id": "b385dbc7890d4e188e696de7b9191127",
       "version_major": 2,
       "version_minor": 0
      },
      "text/plain": [
       "  0%|          | 0/320 [00:00<?, ?it/s]"
      ]
     },
     "metadata": {},
     "output_type": "display_data"
    },
    {
     "name": "stdout",
     "output_type": "stream",
     "text": [
      "| Epoch: 226 | Train Loss: 1.278 | Train Acc: 76.56% | Val. Loss: 1.501 | Val. Acc: 53.75% | Val. Precision: 48.229 | Val. Recall: 53.750 | Val. F1-score: 48.193 |\n"
     ]
    },
    {
     "data": {
      "application/vnd.jupyter.widget-view+json": {
       "model_id": "73acd4eb35ec49a08293e41872a1ec29",
       "version_major": 2,
       "version_minor": 0
      },
      "text/plain": [
       "  0%|          | 0/320 [00:00<?, ?it/s]"
      ]
     },
     "metadata": {},
     "output_type": "display_data"
    },
    {
     "name": "stdout",
     "output_type": "stream",
     "text": [
      "| Epoch: 227 | Train Loss: 1.285 | Train Acc: 75.86% | Val. Loss: 1.493 | Val. Acc: 54.37% | Val. Precision: 48.333 | Val. Recall: 54.375 | Val. F1-score: 48.652 |\n"
     ]
    },
    {
     "data": {
      "application/vnd.jupyter.widget-view+json": {
       "model_id": "b04c6dcea0414b71a9c6d53b69a62062",
       "version_major": 2,
       "version_minor": 0
      },
      "text/plain": [
       "  0%|          | 0/320 [00:00<?, ?it/s]"
      ]
     },
     "metadata": {},
     "output_type": "display_data"
    },
    {
     "name": "stdout",
     "output_type": "stream",
     "text": [
      "| Epoch: 228 | Train Loss: 1.298 | Train Acc: 74.69% | Val. Loss: 1.487 | Val. Acc: 56.25% | Val. Precision: 50.781 | Val. Recall: 56.250 | Val. F1-score: 50.690 |\n"
     ]
    },
    {
     "data": {
      "application/vnd.jupyter.widget-view+json": {
       "model_id": "c71ae4d2632d4da2bb2d6d645f7429f1",
       "version_major": 2,
       "version_minor": 0
      },
      "text/plain": [
       "  0%|          | 0/320 [00:00<?, ?it/s]"
      ]
     },
     "metadata": {},
     "output_type": "display_data"
    },
    {
     "name": "stdout",
     "output_type": "stream",
     "text": [
      "| Epoch: 229 | Train Loss: 1.297 | Train Acc: 74.69% | Val. Loss: 1.487 | Val. Acc: 55.62% | Val. Precision: 50.469 | Val. Recall: 55.625 | Val. F1-score: 50.232 |\n"
     ]
    },
    {
     "data": {
      "application/vnd.jupyter.widget-view+json": {
       "model_id": "226c854430094e4cbbd39af422c3e8b1",
       "version_major": 2,
       "version_minor": 0
      },
      "text/plain": [
       "  0%|          | 0/320 [00:00<?, ?it/s]"
      ]
     },
     "metadata": {},
     "output_type": "display_data"
    },
    {
     "name": "stdout",
     "output_type": "stream",
     "text": [
      "| Epoch: 230 | Train Loss: 1.290 | Train Acc: 75.47% | Val. Loss: 1.507 | Val. Acc: 53.75% | Val. Precision: 48.437 | Val. Recall: 53.750 | Val. F1-score: 47.899 |\n"
     ]
    },
    {
     "data": {
      "application/vnd.jupyter.widget-view+json": {
       "model_id": "73f3cd6ed9ca413ea12c69468d72516a",
       "version_major": 2,
       "version_minor": 0
      },
      "text/plain": [
       "  0%|          | 0/320 [00:00<?, ?it/s]"
      ]
     },
     "metadata": {},
     "output_type": "display_data"
    },
    {
     "name": "stdout",
     "output_type": "stream",
     "text": [
      "| Epoch: 231 | Train Loss: 1.282 | Train Acc: 76.25% | Val. Loss: 1.502 | Val. Acc: 53.75% | Val. Precision: 47.604 | Val. Recall: 53.750 | Val. F1-score: 47.360 |\n"
     ]
    },
    {
     "data": {
      "application/vnd.jupyter.widget-view+json": {
       "model_id": "2f3d5a03e84d4477b5c621ac11fcb02c",
       "version_major": 2,
       "version_minor": 0
      },
      "text/plain": [
       "  0%|          | 0/320 [00:00<?, ?it/s]"
      ]
     },
     "metadata": {},
     "output_type": "display_data"
    },
    {
     "name": "stdout",
     "output_type": "stream",
     "text": [
      "| Epoch: 232 | Train Loss: 1.279 | Train Acc: 76.56% | Val. Loss: 1.497 | Val. Acc: 55.00% | Val. Precision: 49.010 | Val. Recall: 55.000 | Val. F1-score: 49.295 |\n"
     ]
    },
    {
     "data": {
      "application/vnd.jupyter.widget-view+json": {
       "model_id": "ea0602a372ba4549aa4d27cde4192c7e",
       "version_major": 2,
       "version_minor": 0
      },
      "text/plain": [
       "  0%|          | 0/320 [00:00<?, ?it/s]"
      ]
     },
     "metadata": {},
     "output_type": "display_data"
    },
    {
     "name": "stdout",
     "output_type": "stream",
     "text": [
      "| Epoch: 233 | Train Loss: 1.284 | Train Acc: 75.94% | Val. Loss: 1.488 | Val. Acc: 55.00% | Val. Precision: 49.844 | Val. Recall: 55.000 | Val. F1-score: 49.628 |\n"
     ]
    },
    {
     "data": {
      "application/vnd.jupyter.widget-view+json": {
       "model_id": "7b07517ecd8c4c4b9b9c9d36db446156",
       "version_major": 2,
       "version_minor": 0
      },
      "text/plain": [
       "  0%|          | 0/320 [00:00<?, ?it/s]"
      ]
     },
     "metadata": {},
     "output_type": "display_data"
    },
    {
     "name": "stdout",
     "output_type": "stream",
     "text": [
      "| Epoch: 234 | Train Loss: 1.279 | Train Acc: 76.56% | Val. Loss: 1.504 | Val. Acc: 53.12% | Val. Precision: 47.240 | Val. Recall: 53.125 | Val. F1-score: 47.548 |\n"
     ]
    },
    {
     "data": {
      "application/vnd.jupyter.widget-view+json": {
       "model_id": "76aef30531204c21b1f1f6f3ebf8e9cd",
       "version_major": 2,
       "version_minor": 0
      },
      "text/plain": [
       "  0%|          | 0/320 [00:00<?, ?it/s]"
      ]
     },
     "metadata": {},
     "output_type": "display_data"
    },
    {
     "name": "stdout",
     "output_type": "stream",
     "text": [
      "| Epoch: 235 | Train Loss: 1.277 | Train Acc: 76.64% | Val. Loss: 1.486 | Val. Acc: 55.62% | Val. Precision: 50.781 | Val. Recall: 55.625 | Val. F1-score: 50.274 |\n"
     ]
    },
    {
     "data": {
      "application/vnd.jupyter.widget-view+json": {
       "model_id": "61bd04cbe5104a39ad555b2a43dcd728",
       "version_major": 2,
       "version_minor": 0
      },
      "text/plain": [
       "  0%|          | 0/320 [00:00<?, ?it/s]"
      ]
     },
     "metadata": {},
     "output_type": "display_data"
    },
    {
     "name": "stdout",
     "output_type": "stream",
     "text": [
      "| Epoch: 236 | Train Loss: 1.276 | Train Acc: 76.72% | Val. Loss: 1.486 | Val. Acc: 56.25% | Val. Precision: 51.302 | Val. Recall: 56.250 | Val. F1-score: 50.815 |\n"
     ]
    },
    {
     "data": {
      "application/vnd.jupyter.widget-view+json": {
       "model_id": "312a8c9cd12348109c174099964e4c73",
       "version_major": 2,
       "version_minor": 0
      },
      "text/plain": [
       "  0%|          | 0/320 [00:00<?, ?it/s]"
      ]
     },
     "metadata": {},
     "output_type": "display_data"
    },
    {
     "name": "stdout",
     "output_type": "stream",
     "text": [
      "| Epoch: 237 | Train Loss: 1.276 | Train Acc: 76.72% | Val. Loss: 1.494 | Val. Acc: 55.00% | Val. Precision: 49.375 | Val. Recall: 55.000 | Val. F1-score: 49.131 |\n"
     ]
    },
    {
     "data": {
      "application/vnd.jupyter.widget-view+json": {
       "model_id": "1d45ab7fba8b4365915430a95c94eacd",
       "version_major": 2,
       "version_minor": 0
      },
      "text/plain": [
       "  0%|          | 0/320 [00:00<?, ?it/s]"
      ]
     },
     "metadata": {},
     "output_type": "display_data"
    },
    {
     "name": "stdout",
     "output_type": "stream",
     "text": [
      "| Epoch: 238 | Train Loss: 1.276 | Train Acc: 76.72% | Val. Loss: 1.495 | Val. Acc: 55.00% | Val. Precision: 48.750 | Val. Recall: 55.000 | Val. F1-score: 48.923 |\n"
     ]
    },
    {
     "data": {
      "application/vnd.jupyter.widget-view+json": {
       "model_id": "98e010e17a5a43b0b9c763e6aef0a031",
       "version_major": 2,
       "version_minor": 0
      },
      "text/plain": [
       "  0%|          | 0/320 [00:00<?, ?it/s]"
      ]
     },
     "metadata": {},
     "output_type": "display_data"
    },
    {
     "name": "stdout",
     "output_type": "stream",
     "text": [
      "| Epoch: 239 | Train Loss: 1.276 | Train Acc: 76.72% | Val. Loss: 1.492 | Val. Acc: 55.00% | Val. Precision: 49.635 | Val. Recall: 55.000 | Val. F1-score: 49.711 |\n"
     ]
    },
    {
     "data": {
      "application/vnd.jupyter.widget-view+json": {
       "model_id": "7280d8377a9d405a84784ca79995c7c6",
       "version_major": 2,
       "version_minor": 0
      },
      "text/plain": [
       "  0%|          | 0/320 [00:00<?, ?it/s]"
      ]
     },
     "metadata": {},
     "output_type": "display_data"
    },
    {
     "name": "stdout",
     "output_type": "stream",
     "text": [
      "| Epoch: 240 | Train Loss: 1.276 | Train Acc: 76.72% | Val. Loss: 1.489 | Val. Acc: 56.25% | Val. Precision: 51.302 | Val. Recall: 56.250 | Val. F1-score: 50.815 |\n"
     ]
    },
    {
     "data": {
      "application/vnd.jupyter.widget-view+json": {
       "model_id": "801d6b7a7b664ea2b4812fdc8e651d5d",
       "version_major": 2,
       "version_minor": 0
      },
      "text/plain": [
       "  0%|          | 0/320 [00:00<?, ?it/s]"
      ]
     },
     "metadata": {},
     "output_type": "display_data"
    },
    {
     "name": "stdout",
     "output_type": "stream",
     "text": [
      "| Epoch: 241 | Train Loss: 1.276 | Train Acc: 76.72% | Val. Loss: 1.490 | Val. Acc: 55.62% | Val. Precision: 49.479 | Val. Recall: 55.625 | Val. F1-score: 49.923 |\n"
     ]
    },
    {
     "data": {
      "application/vnd.jupyter.widget-view+json": {
       "model_id": "416f0c1875d6448dbdcb70e617ec334e",
       "version_major": 2,
       "version_minor": 0
      },
      "text/plain": [
       "  0%|          | 0/320 [00:00<?, ?it/s]"
      ]
     },
     "metadata": {},
     "output_type": "display_data"
    },
    {
     "name": "stdout",
     "output_type": "stream",
     "text": [
      "| Epoch: 242 | Train Loss: 1.286 | Train Acc: 75.78% | Val. Loss: 1.502 | Val. Acc: 54.37% | Val. Precision: 48.385 | Val. Recall: 54.375 | Val. F1-score: 48.548 |\n"
     ]
    },
    {
     "data": {
      "application/vnd.jupyter.widget-view+json": {
       "model_id": "f74c97f31a564736b05aa5c088907489",
       "version_major": 2,
       "version_minor": 0
      },
      "text/plain": [
       "  0%|          | 0/320 [00:00<?, ?it/s]"
      ]
     },
     "metadata": {},
     "output_type": "display_data"
    },
    {
     "name": "stdout",
     "output_type": "stream",
     "text": [
      "| Epoch: 243 | Train Loss: 1.288 | Train Acc: 75.70% | Val. Loss: 1.491 | Val. Acc: 55.62% | Val. Precision: 52.760 | Val. Recall: 55.625 | Val. F1-score: 51.190 |\n"
     ]
    },
    {
     "data": {
      "application/vnd.jupyter.widget-view+json": {
       "model_id": "a6360e9f5f224384bbcf0285c90125f8",
       "version_major": 2,
       "version_minor": 0
      },
      "text/plain": [
       "  0%|          | 0/320 [00:00<?, ?it/s]"
      ]
     },
     "metadata": {},
     "output_type": "display_data"
    },
    {
     "name": "stdout",
     "output_type": "stream",
     "text": [
      "| Epoch: 244 | Train Loss: 1.289 | Train Acc: 75.47% | Val. Loss: 1.510 | Val. Acc: 53.12% | Val. Precision: 46.719 | Val. Recall: 53.125 | Val. F1-score: 47.006 |\n"
     ]
    },
    {
     "data": {
      "application/vnd.jupyter.widget-view+json": {
       "model_id": "540e427595104a38bcb4ace6a92be9d6",
       "version_major": 2,
       "version_minor": 0
      },
      "text/plain": [
       "  0%|          | 0/320 [00:00<?, ?it/s]"
      ]
     },
     "metadata": {},
     "output_type": "display_data"
    },
    {
     "name": "stdout",
     "output_type": "stream",
     "text": [
      "| Epoch: 245 | Train Loss: 1.284 | Train Acc: 76.09% | Val. Loss: 1.498 | Val. Acc: 54.37% | Val. Precision: 48.125 | Val. Recall: 54.375 | Val. F1-score: 48.089 |\n"
     ]
    },
    {
     "data": {
      "application/vnd.jupyter.widget-view+json": {
       "model_id": "68b9ffb16d3b4818a815fa60d60dc486",
       "version_major": 2,
       "version_minor": 0
      },
      "text/plain": [
       "  0%|          | 0/320 [00:00<?, ?it/s]"
      ]
     },
     "metadata": {},
     "output_type": "display_data"
    },
    {
     "name": "stdout",
     "output_type": "stream",
     "text": [
      "| Epoch: 246 | Train Loss: 1.276 | Train Acc: 76.80% | Val. Loss: 1.490 | Val. Acc: 55.62% | Val. Precision: 50.885 | Val. Recall: 55.625 | Val. F1-score: 50.149 |\n"
     ]
    },
    {
     "data": {
      "application/vnd.jupyter.widget-view+json": {
       "model_id": "b555ac80177d4ee6aacbbf58a7c7a1ac",
       "version_major": 2,
       "version_minor": 0
      },
      "text/plain": [
       "  0%|          | 0/320 [00:00<?, ?it/s]"
      ]
     },
     "metadata": {},
     "output_type": "display_data"
    },
    {
     "name": "stdout",
     "output_type": "stream",
     "text": [
      "| Epoch: 247 | Train Loss: 1.278 | Train Acc: 76.56% | Val. Loss: 1.497 | Val. Acc: 54.37% | Val. Precision: 48.958 | Val. Recall: 54.375 | Val. F1-score: 48.464 |\n"
     ]
    },
    {
     "data": {
      "application/vnd.jupyter.widget-view+json": {
       "model_id": "c7bedf54602146418881c667ed2b3282",
       "version_major": 2,
       "version_minor": 0
      },
      "text/plain": [
       "  0%|          | 0/320 [00:00<?, ?it/s]"
      ]
     },
     "metadata": {},
     "output_type": "display_data"
    },
    {
     "name": "stdout",
     "output_type": "stream",
     "text": [
      "| Epoch: 248 | Train Loss: 1.276 | Train Acc: 76.72% | Val. Loss: 1.492 | Val. Acc: 55.00% | Val. Precision: 49.792 | Val. Recall: 55.000 | Val. F1-score: 49.256 |\n"
     ]
    },
    {
     "data": {
      "application/vnd.jupyter.widget-view+json": {
       "model_id": "9581c2f1149842248d92df5253f112c2",
       "version_major": 2,
       "version_minor": 0
      },
      "text/plain": [
       "  0%|          | 0/320 [00:00<?, ?it/s]"
      ]
     },
     "metadata": {},
     "output_type": "display_data"
    },
    {
     "name": "stdout",
     "output_type": "stream",
     "text": [
      "| Epoch: 249 | Train Loss: 1.276 | Train Acc: 76.72% | Val. Loss: 1.494 | Val. Acc: 55.00% | Val. Precision: 50.052 | Val. Recall: 55.000 | Val. F1-score: 49.565 |\n"
     ]
    },
    {
     "data": {
      "application/vnd.jupyter.widget-view+json": {
       "model_id": "80c9542bdce042a2ad93cc14dc572bd7",
       "version_major": 2,
       "version_minor": 0
      },
      "text/plain": [
       "  0%|          | 0/320 [00:00<?, ?it/s]"
      ]
     },
     "metadata": {},
     "output_type": "display_data"
    },
    {
     "name": "stdout",
     "output_type": "stream",
     "text": [
      "| Epoch: 250 | Train Loss: 1.276 | Train Acc: 76.72% | Val. Loss: 1.493 | Val. Acc: 54.37% | Val. Precision: 49.219 | Val. Recall: 54.375 | Val. F1-score: 49.045 |\n"
     ]
    },
    {
     "data": {
      "application/vnd.jupyter.widget-view+json": {
       "model_id": "a183c44821f7439aad4b6adfeec85b90",
       "version_major": 2,
       "version_minor": 0
      },
      "text/plain": [
       "  0%|          | 0/320 [00:00<?, ?it/s]"
      ]
     },
     "metadata": {},
     "output_type": "display_data"
    },
    {
     "name": "stdout",
     "output_type": "stream",
     "text": [
      "| Epoch: 251 | Train Loss: 1.280 | Train Acc: 76.41% | Val. Loss: 1.486 | Val. Acc: 55.62% | Val. Precision: 50.885 | Val. Recall: 55.625 | Val. F1-score: 50.149 |\n"
     ]
    },
    {
     "data": {
      "application/vnd.jupyter.widget-view+json": {
       "model_id": "a11ef113691e42aebaa92d01ae3dd728",
       "version_major": 2,
       "version_minor": 0
      },
      "text/plain": [
       "  0%|          | 0/320 [00:00<?, ?it/s]"
      ]
     },
     "metadata": {},
     "output_type": "display_data"
    },
    {
     "name": "stdout",
     "output_type": "stream",
     "text": [
      "| Epoch: 252 | Train Loss: 1.283 | Train Acc: 76.09% | Val. Loss: 1.494 | Val. Acc: 54.37% | Val. Precision: 48.542 | Val. Recall: 54.375 | Val. F1-score: 48.774 |\n"
     ]
    },
    {
     "data": {
      "application/vnd.jupyter.widget-view+json": {
       "model_id": "520152961d554bd9aaa6bdc48b372b98",
       "version_major": 2,
       "version_minor": 0
      },
      "text/plain": [
       "  0%|          | 0/320 [00:00<?, ?it/s]"
      ]
     },
     "metadata": {},
     "output_type": "display_data"
    },
    {
     "name": "stdout",
     "output_type": "stream",
     "text": [
      "| Epoch: 253 | Train Loss: 1.278 | Train Acc: 76.56% | Val. Loss: 1.505 | Val. Acc: 55.00% | Val. Precision: 50.521 | Val. Recall: 55.000 | Val. F1-score: 49.982 |\n"
     ]
    },
    {
     "data": {
      "application/vnd.jupyter.widget-view+json": {
       "model_id": "b7a7f4ee3f3d4d6b8771a6c471f4902b",
       "version_major": 2,
       "version_minor": 0
      },
      "text/plain": [
       "  0%|          | 0/320 [00:00<?, ?it/s]"
      ]
     },
     "metadata": {},
     "output_type": "display_data"
    },
    {
     "name": "stdout",
     "output_type": "stream",
     "text": [
      "| Epoch: 254 | Train Loss: 1.285 | Train Acc: 76.02% | Val. Loss: 1.515 | Val. Acc: 53.12% | Val. Precision: 47.135 | Val. Recall: 53.125 | Val. F1-score: 47.607 |\n"
     ]
    },
    {
     "data": {
      "application/vnd.jupyter.widget-view+json": {
       "model_id": "81529023f0fc488a8bac6a9604fca1a6",
       "version_major": 2,
       "version_minor": 0
      },
      "text/plain": [
       "  0%|          | 0/320 [00:00<?, ?it/s]"
      ]
     },
     "metadata": {},
     "output_type": "display_data"
    },
    {
     "name": "stdout",
     "output_type": "stream",
     "text": [
      "| Epoch: 255 | Train Loss: 1.289 | Train Acc: 75.47% | Val. Loss: 1.496 | Val. Acc: 55.00% | Val. Precision: 49.531 | Val. Recall: 55.000 | Val. F1-score: 49.461 |\n"
     ]
    },
    {
     "data": {
      "application/vnd.jupyter.widget-view+json": {
       "model_id": "34a8a73528584f2f8b3cd5659a7d50ca",
       "version_major": 2,
       "version_minor": 0
      },
      "text/plain": [
       "  0%|          | 0/320 [00:00<?, ?it/s]"
      ]
     },
     "metadata": {},
     "output_type": "display_data"
    },
    {
     "name": "stdout",
     "output_type": "stream",
     "text": [
      "| Epoch: 256 | Train Loss: 1.286 | Train Acc: 75.86% | Val. Loss: 1.473 | Val. Acc: 56.88% | Val. Precision: 52.344 | Val. Recall: 56.875 | Val. F1-score: 51.795 |\n"
     ]
    },
    {
     "data": {
      "application/vnd.jupyter.widget-view+json": {
       "model_id": "56fd9b64afd14d85abc142cb9f6c9f16",
       "version_major": 2,
       "version_minor": 0
      },
      "text/plain": [
       "  0%|          | 0/320 [00:00<?, ?it/s]"
      ]
     },
     "metadata": {},
     "output_type": "display_data"
    },
    {
     "name": "stdout",
     "output_type": "stream",
     "text": [
      "| Epoch: 257 | Train Loss: 1.283 | Train Acc: 76.09% | Val. Loss: 1.484 | Val. Acc: 56.25% | Val. Precision: 50.208 | Val. Recall: 56.250 | Val. F1-score: 50.485 |\n"
     ]
    },
    {
     "data": {
      "application/vnd.jupyter.widget-view+json": {
       "model_id": "68cb64829e5d4d17b4e172d9f91ce685",
       "version_major": 2,
       "version_minor": 0
      },
      "text/plain": [
       "  0%|          | 0/320 [00:00<?, ?it/s]"
      ]
     },
     "metadata": {},
     "output_type": "display_data"
    },
    {
     "name": "stdout",
     "output_type": "stream",
     "text": [
      "| Epoch: 258 | Train Loss: 1.280 | Train Acc: 76.41% | Val. Loss: 1.491 | Val. Acc: 55.00% | Val. Precision: 49.062 | Val. Recall: 55.000 | Val. F1-score: 49.193 |\n"
     ]
    },
    {
     "data": {
      "application/vnd.jupyter.widget-view+json": {
       "model_id": "2eb5eafdf6174135b1f69f3e0226d891",
       "version_major": 2,
       "version_minor": 0
      },
      "text/plain": [
       "  0%|          | 0/320 [00:00<?, ?it/s]"
      ]
     },
     "metadata": {},
     "output_type": "display_data"
    },
    {
     "name": "stdout",
     "output_type": "stream",
     "text": [
      "| Epoch: 259 | Train Loss: 1.279 | Train Acc: 76.41% | Val. Loss: 1.489 | Val. Acc: 55.62% | Val. Precision: 50.469 | Val. Recall: 55.625 | Val. F1-score: 50.232 |\n"
     ]
    },
    {
     "data": {
      "application/vnd.jupyter.widget-view+json": {
       "model_id": "c12e0dbfef564d6bb9261df1443be116",
       "version_major": 2,
       "version_minor": 0
      },
      "text/plain": [
       "  0%|          | 0/320 [00:00<?, ?it/s]"
      ]
     },
     "metadata": {},
     "output_type": "display_data"
    },
    {
     "name": "stdout",
     "output_type": "stream",
     "text": [
      "| Epoch: 260 | Train Loss: 1.276 | Train Acc: 76.72% | Val. Loss: 1.495 | Val. Acc: 55.00% | Val. Precision: 49.375 | Val. Recall: 55.000 | Val. F1-score: 49.131 |\n"
     ]
    },
    {
     "data": {
      "application/vnd.jupyter.widget-view+json": {
       "model_id": "9caae22d87d14e399ea395b3289ff2d9",
       "version_major": 2,
       "version_minor": 0
      },
      "text/plain": [
       "  0%|          | 0/320 [00:00<?, ?it/s]"
      ]
     },
     "metadata": {},
     "output_type": "display_data"
    },
    {
     "name": "stdout",
     "output_type": "stream",
     "text": [
      "| Epoch: 261 | Train Loss: 1.275 | Train Acc: 76.80% | Val. Loss: 1.490 | Val. Acc: 55.00% | Val. Precision: 49.687 | Val. Recall: 55.000 | Val. F1-score: 49.339 |\n"
     ]
    },
    {
     "data": {
      "application/vnd.jupyter.widget-view+json": {
       "model_id": "c47b61b9d2a24aa1850ee4a4f4dd5208",
       "version_major": 2,
       "version_minor": 0
      },
      "text/plain": [
       "  0%|          | 0/320 [00:00<?, ?it/s]"
      ]
     },
     "metadata": {},
     "output_type": "display_data"
    },
    {
     "name": "stdout",
     "output_type": "stream",
     "text": [
      "| Epoch: 262 | Train Loss: 1.275 | Train Acc: 76.80% | Val. Loss: 1.496 | Val. Acc: 55.00% | Val. Precision: 49.375 | Val. Recall: 55.000 | Val. F1-score: 49.131 |\n"
     ]
    },
    {
     "data": {
      "application/vnd.jupyter.widget-view+json": {
       "model_id": "05c3862b28c94f868ad450a4e304558a",
       "version_major": 2,
       "version_minor": 0
      },
      "text/plain": [
       "  0%|          | 0/320 [00:00<?, ?it/s]"
      ]
     },
     "metadata": {},
     "output_type": "display_data"
    },
    {
     "name": "stdout",
     "output_type": "stream",
     "text": [
      "| Epoch: 263 | Train Loss: 1.275 | Train Acc: 76.80% | Val. Loss: 1.503 | Val. Acc: 53.75% | Val. Precision: 47.083 | Val. Recall: 53.750 | Val. F1-score: 47.548 |\n"
     ]
    },
    {
     "data": {
      "application/vnd.jupyter.widget-view+json": {
       "model_id": "e8981ed1af694c5a82c4a81fc10fc5ab",
       "version_major": 2,
       "version_minor": 0
      },
      "text/plain": [
       "  0%|          | 0/320 [00:00<?, ?it/s]"
      ]
     },
     "metadata": {},
     "output_type": "display_data"
    },
    {
     "name": "stdout",
     "output_type": "stream",
     "text": [
      "| Epoch: 264 | Train Loss: 1.275 | Train Acc: 76.80% | Val. Loss: 1.497 | Val. Acc: 54.37% | Val. Precision: 47.917 | Val. Recall: 54.375 | Val. F1-score: 48.131 |\n"
     ]
    },
    {
     "data": {
      "application/vnd.jupyter.widget-view+json": {
       "model_id": "00c24da5824d409dbdebdfdc660938fd",
       "version_major": 2,
       "version_minor": 0
      },
      "text/plain": [
       "  0%|          | 0/320 [00:00<?, ?it/s]"
      ]
     },
     "metadata": {},
     "output_type": "display_data"
    },
    {
     "name": "stdout",
     "output_type": "stream",
     "text": [
      "| Epoch: 265 | Train Loss: 1.275 | Train Acc: 76.80% | Val. Loss: 1.497 | Val. Acc: 55.00% | Val. Precision: 49.375 | Val. Recall: 55.000 | Val. F1-score: 49.131 |\n"
     ]
    },
    {
     "data": {
      "application/vnd.jupyter.widget-view+json": {
       "model_id": "4c5cd04999104404a91b0fb5d9cede79",
       "version_major": 2,
       "version_minor": 0
      },
      "text/plain": [
       "  0%|          | 0/320 [00:00<?, ?it/s]"
      ]
     },
     "metadata": {},
     "output_type": "display_data"
    },
    {
     "name": "stdout",
     "output_type": "stream",
     "text": [
      "| Epoch: 266 | Train Loss: 1.275 | Train Acc: 76.80% | Val. Loss: 1.499 | Val. Acc: 54.37% | Val. Precision: 48.646 | Val. Recall: 54.375 | Val. F1-score: 48.735 |\n"
     ]
    },
    {
     "data": {
      "application/vnd.jupyter.widget-view+json": {
       "model_id": "e9d53010f1c14e22b98654a52439ca00",
       "version_major": 2,
       "version_minor": 0
      },
      "text/plain": [
       "  0%|          | 0/320 [00:00<?, ?it/s]"
      ]
     },
     "metadata": {},
     "output_type": "display_data"
    },
    {
     "name": "stdout",
     "output_type": "stream",
     "text": [
      "| Epoch: 267 | Train Loss: 1.278 | Train Acc: 76.56% | Val. Loss: 1.487 | Val. Acc: 55.00% | Val. Precision: 52.344 | Val. Recall: 55.000 | Val. F1-score: 50.295 |\n"
     ]
    },
    {
     "data": {
      "application/vnd.jupyter.widget-view+json": {
       "model_id": "946765acffc04e0484e841c7479eb456",
       "version_major": 2,
       "version_minor": 0
      },
      "text/plain": [
       "  0%|          | 0/320 [00:00<?, ?it/s]"
      ]
     },
     "metadata": {},
     "output_type": "display_data"
    },
    {
     "name": "stdout",
     "output_type": "stream",
     "text": [
      "| Epoch: 268 | Train Loss: 1.293 | Train Acc: 75.16% | Val. Loss: 1.490 | Val. Acc: 55.00% | Val. Precision: 50.208 | Val. Recall: 55.000 | Val. F1-score: 49.506 |\n"
     ]
    },
    {
     "data": {
      "application/vnd.jupyter.widget-view+json": {
       "model_id": "ca8498a8c4e14b5bba8a92397fb3f5d6",
       "version_major": 2,
       "version_minor": 0
      },
      "text/plain": [
       "  0%|          | 0/320 [00:00<?, ?it/s]"
      ]
     },
     "metadata": {},
     "output_type": "display_data"
    },
    {
     "name": "stdout",
     "output_type": "stream",
     "text": [
      "| Epoch: 269 | Train Loss: 1.292 | Train Acc: 75.08% | Val. Loss: 1.481 | Val. Acc: 56.88% | Val. Precision: 51.250 | Val. Recall: 56.875 | Val. F1-score: 51.277 |\n"
     ]
    },
    {
     "data": {
      "application/vnd.jupyter.widget-view+json": {
       "model_id": "435ca1acb5844784823df97bd22a908b",
       "version_major": 2,
       "version_minor": 0
      },
      "text/plain": [
       "  0%|          | 0/320 [00:00<?, ?it/s]"
      ]
     },
     "metadata": {},
     "output_type": "display_data"
    },
    {
     "name": "stdout",
     "output_type": "stream",
     "text": [
      "| Epoch: 270 | Train Loss: 1.286 | Train Acc: 75.94% | Val. Loss: 1.470 | Val. Acc: 56.88% | Val. Precision: 51.354 | Val. Recall: 56.875 | Val. F1-score: 51.527 |\n"
     ]
    },
    {
     "data": {
      "application/vnd.jupyter.widget-view+json": {
       "model_id": "920ab6824cd74f6abaf372b010e17f49",
       "version_major": 2,
       "version_minor": 0
      },
      "text/plain": [
       "  0%|          | 0/320 [00:00<?, ?it/s]"
      ]
     },
     "metadata": {},
     "output_type": "display_data"
    },
    {
     "name": "stdout",
     "output_type": "stream",
     "text": [
      "| Epoch: 271 | Train Loss: 1.279 | Train Acc: 76.48% | Val. Loss: 1.478 | Val. Acc: 55.62% | Val. Precision: 51.719 | Val. Recall: 55.625 | Val. F1-score: 50.586 |\n"
     ]
    },
    {
     "data": {
      "application/vnd.jupyter.widget-view+json": {
       "model_id": "8256cbcc7bab47f6969bb898d8a2ea52",
       "version_major": 2,
       "version_minor": 0
      },
      "text/plain": [
       "  0%|          | 0/320 [00:00<?, ?it/s]"
      ]
     },
     "metadata": {},
     "output_type": "display_data"
    },
    {
     "name": "stdout",
     "output_type": "stream",
     "text": [
      "| Epoch: 272 | Train Loss: 1.279 | Train Acc: 76.25% | Val. Loss: 1.497 | Val. Acc: 54.37% | Val. Precision: 49.531 | Val. Recall: 54.375 | Val. F1-score: 48.982 |\n"
     ]
    },
    {
     "data": {
      "application/vnd.jupyter.widget-view+json": {
       "model_id": "bceafb08e3b14719912a56d3e7903ce4",
       "version_major": 2,
       "version_minor": 0
      },
      "text/plain": [
       "  0%|          | 0/320 [00:00<?, ?it/s]"
      ]
     },
     "metadata": {},
     "output_type": "display_data"
    },
    {
     "name": "stdout",
     "output_type": "stream",
     "text": [
      "| Epoch: 273 | Train Loss: 1.277 | Train Acc: 76.64% | Val. Loss: 1.480 | Val. Acc: 56.25% | Val. Precision: 51.302 | Val. Recall: 56.250 | Val. F1-score: 50.815 |\n"
     ]
    },
    {
     "data": {
      "application/vnd.jupyter.widget-view+json": {
       "model_id": "594138390da144c696e5e3a44362129c",
       "version_major": 2,
       "version_minor": 0
      },
      "text/plain": [
       "  0%|          | 0/320 [00:00<?, ?it/s]"
      ]
     },
     "metadata": {},
     "output_type": "display_data"
    },
    {
     "name": "stdout",
     "output_type": "stream",
     "text": [
      "| Epoch: 274 | Train Loss: 1.275 | Train Acc: 76.80% | Val. Loss: 1.485 | Val. Acc: 56.25% | Val. Precision: 51.146 | Val. Recall: 56.250 | Val. F1-score: 50.756 |\n"
     ]
    },
    {
     "data": {
      "application/vnd.jupyter.widget-view+json": {
       "model_id": "bd7e344a114443258ce01329a7c420b8",
       "version_major": 2,
       "version_minor": 0
      },
      "text/plain": [
       "  0%|          | 0/320 [00:00<?, ?it/s]"
      ]
     },
     "metadata": {},
     "output_type": "display_data"
    },
    {
     "name": "stdout",
     "output_type": "stream",
     "text": [
      "| Epoch: 275 | Train Loss: 1.279 | Train Acc: 76.41% | Val. Loss: 1.487 | Val. Acc: 55.62% | Val. Precision: 50.521 | Val. Recall: 55.625 | Val. F1-score: 50.360 |\n"
     ]
    },
    {
     "data": {
      "application/vnd.jupyter.widget-view+json": {
       "model_id": "70a1b4e8004248249a734a1f5002d48f",
       "version_major": 2,
       "version_minor": 0
      },
      "text/plain": [
       "  0%|          | 0/320 [00:00<?, ?it/s]"
      ]
     },
     "metadata": {},
     "output_type": "display_data"
    },
    {
     "name": "stdout",
     "output_type": "stream",
     "text": [
      "| Epoch: 276 | Train Loss: 1.275 | Train Acc: 76.80% | Val. Loss: 1.487 | Val. Acc: 56.25% | Val. Precision: 51.354 | Val. Recall: 56.250 | Val. F1-score: 50.881 |\n"
     ]
    },
    {
     "data": {
      "application/vnd.jupyter.widget-view+json": {
       "model_id": "de54de93faef4173acf9df259d048b3c",
       "version_major": 2,
       "version_minor": 0
      },
      "text/plain": [
       "  0%|          | 0/320 [00:00<?, ?it/s]"
      ]
     },
     "metadata": {},
     "output_type": "display_data"
    },
    {
     "name": "stdout",
     "output_type": "stream",
     "text": [
      "| Epoch: 277 | Train Loss: 1.275 | Train Acc: 76.80% | Val. Loss: 1.485 | Val. Acc: 55.62% | Val. Precision: 50.208 | Val. Recall: 55.625 | Val. F1-score: 49.923 |\n"
     ]
    },
    {
     "data": {
      "application/vnd.jupyter.widget-view+json": {
       "model_id": "12beb04e74bb485297faf40d587a4d7e",
       "version_major": 2,
       "version_minor": 0
      },
      "text/plain": [
       "  0%|          | 0/320 [00:00<?, ?it/s]"
      ]
     },
     "metadata": {},
     "output_type": "display_data"
    },
    {
     "name": "stdout",
     "output_type": "stream",
     "text": [
      "| Epoch: 278 | Train Loss: 1.290 | Train Acc: 75.55% | Val. Loss: 1.490 | Val. Acc: 56.25% | Val. Precision: 49.948 | Val. Recall: 56.250 | Val. F1-score: 50.131 |\n"
     ]
    },
    {
     "data": {
      "application/vnd.jupyter.widget-view+json": {
       "model_id": "93db25db556b474cbaa16ad73c692334",
       "version_major": 2,
       "version_minor": 0
      },
      "text/plain": [
       "  0%|          | 0/320 [00:00<?, ?it/s]"
      ]
     },
     "metadata": {},
     "output_type": "display_data"
    },
    {
     "name": "stdout",
     "output_type": "stream",
     "text": [
      "| Epoch: 279 | Train Loss: 1.290 | Train Acc: 75.55% | Val. Loss: 1.503 | Val. Acc: 54.37% | Val. Precision: 48.906 | Val. Recall: 54.375 | Val. F1-score: 49.003 |\n"
     ]
    },
    {
     "data": {
      "application/vnd.jupyter.widget-view+json": {
       "model_id": "e027d16e05ef492b98f4214e95151949",
       "version_major": 2,
       "version_minor": 0
      },
      "text/plain": [
       "  0%|          | 0/320 [00:00<?, ?it/s]"
      ]
     },
     "metadata": {},
     "output_type": "display_data"
    },
    {
     "name": "stdout",
     "output_type": "stream",
     "text": [
      "| Epoch: 280 | Train Loss: 1.286 | Train Acc: 75.78% | Val. Loss: 1.496 | Val. Acc: 53.75% | Val. Precision: 47.083 | Val. Recall: 53.750 | Val. F1-score: 47.818 |\n"
     ]
    },
    {
     "data": {
      "application/vnd.jupyter.widget-view+json": {
       "model_id": "14f86c3943484169bf8673979e76e4ff",
       "version_major": 2,
       "version_minor": 0
      },
      "text/plain": [
       "  0%|          | 0/320 [00:00<?, ?it/s]"
      ]
     },
     "metadata": {},
     "output_type": "display_data"
    },
    {
     "name": "stdout",
     "output_type": "stream",
     "text": [
      "| Epoch: 281 | Train Loss: 1.278 | Train Acc: 76.64% | Val. Loss: 1.478 | Val. Acc: 56.88% | Val. Precision: 51.406 | Val. Recall: 56.875 | Val. F1-score: 51.545 |\n"
     ]
    },
    {
     "data": {
      "application/vnd.jupyter.widget-view+json": {
       "model_id": "401010342ebc413ea94d1965ecc8bde5",
       "version_major": 2,
       "version_minor": 0
      },
      "text/plain": [
       "  0%|          | 0/320 [00:00<?, ?it/s]"
      ]
     },
     "metadata": {},
     "output_type": "display_data"
    },
    {
     "name": "stdout",
     "output_type": "stream",
     "text": [
      "| Epoch: 282 | Train Loss: 1.281 | Train Acc: 76.41% | Val. Loss: 1.489 | Val. Acc: 55.00% | Val. Precision: 48.281 | Val. Recall: 55.000 | Val. F1-score: 49.232 |\n"
     ]
    },
    {
     "data": {
      "application/vnd.jupyter.widget-view+json": {
       "model_id": "67e7c6dd79a440d29d938f9a5d812792",
       "version_major": 2,
       "version_minor": 0
      },
      "text/plain": [
       "  0%|          | 0/320 [00:00<?, ?it/s]"
      ]
     },
     "metadata": {},
     "output_type": "display_data"
    },
    {
     "name": "stdout",
     "output_type": "stream",
     "text": [
      "| Epoch: 283 | Train Loss: 1.279 | Train Acc: 76.48% | Val. Loss: 1.504 | Val. Acc: 53.75% | Val. Precision: 47.760 | Val. Recall: 53.750 | Val. F1-score: 48.045 |\n"
     ]
    },
    {
     "data": {
      "application/vnd.jupyter.widget-view+json": {
       "model_id": "eb63d06b1fa14ab199559ccf830fee84",
       "version_major": 2,
       "version_minor": 0
      },
      "text/plain": [
       "  0%|          | 0/320 [00:00<?, ?it/s]"
      ]
     },
     "metadata": {},
     "output_type": "display_data"
    },
    {
     "name": "stdout",
     "output_type": "stream",
     "text": [
      "| Epoch: 284 | Train Loss: 1.275 | Train Acc: 76.80% | Val. Loss: 1.496 | Val. Acc: 53.75% | Val. Precision: 47.083 | Val. Recall: 53.750 | Val. F1-score: 47.818 |\n"
     ]
    },
    {
     "data": {
      "application/vnd.jupyter.widget-view+json": {
       "model_id": "9e757e2ebc6540a498d5a55f1085dab6",
       "version_major": 2,
       "version_minor": 0
      },
      "text/plain": [
       "  0%|          | 0/320 [00:00<?, ?it/s]"
      ]
     },
     "metadata": {},
     "output_type": "display_data"
    },
    {
     "name": "stdout",
     "output_type": "stream",
     "text": [
      "| Epoch: 285 | Train Loss: 1.275 | Train Acc: 76.80% | Val. Loss: 1.495 | Val. Acc: 53.75% | Val. Precision: 47.083 | Val. Recall: 53.750 | Val. F1-score: 47.818 |\n"
     ]
    },
    {
     "data": {
      "application/vnd.jupyter.widget-view+json": {
       "model_id": "168c80d9c1d54578b8a6611bcae38e77",
       "version_major": 2,
       "version_minor": 0
      },
      "text/plain": [
       "  0%|          | 0/320 [00:00<?, ?it/s]"
      ]
     },
     "metadata": {},
     "output_type": "display_data"
    },
    {
     "name": "stdout",
     "output_type": "stream",
     "text": [
      "| Epoch: 286 | Train Loss: 1.275 | Train Acc: 76.80% | Val. Loss: 1.488 | Val. Acc: 55.62% | Val. Precision: 50.781 | Val. Recall: 55.625 | Val. F1-score: 50.440 |\n"
     ]
    },
    {
     "data": {
      "application/vnd.jupyter.widget-view+json": {
       "model_id": "b0e5891b32fb41e49ff5ffdb229615a0",
       "version_major": 2,
       "version_minor": 0
      },
      "text/plain": [
       "  0%|          | 0/320 [00:00<?, ?it/s]"
      ]
     },
     "metadata": {},
     "output_type": "display_data"
    },
    {
     "name": "stdout",
     "output_type": "stream",
     "text": [
      "| Epoch: 287 | Train Loss: 1.278 | Train Acc: 76.56% | Val. Loss: 1.499 | Val. Acc: 54.37% | Val. Precision: 47.188 | Val. Recall: 54.375 | Val. F1-score: 48.068 |\n"
     ]
    },
    {
     "data": {
      "application/vnd.jupyter.widget-view+json": {
       "model_id": "75e015d8c8af4ec6b25aff9364be07ab",
       "version_major": 2,
       "version_minor": 0
      },
      "text/plain": [
       "  0%|          | 0/320 [00:00<?, ?it/s]"
      ]
     },
     "metadata": {},
     "output_type": "display_data"
    },
    {
     "name": "stdout",
     "output_type": "stream",
     "text": [
      "| Epoch: 288 | Train Loss: 1.279 | Train Acc: 76.48% | Val. Loss: 1.492 | Val. Acc: 55.00% | Val. Precision: 49.010 | Val. Recall: 55.000 | Val. F1-score: 49.232 |\n"
     ]
    },
    {
     "data": {
      "application/vnd.jupyter.widget-view+json": {
       "model_id": "b407c8f1f7954959911dfb863051286f",
       "version_major": 2,
       "version_minor": 0
      },
      "text/plain": [
       "  0%|          | 0/320 [00:00<?, ?it/s]"
      ]
     },
     "metadata": {},
     "output_type": "display_data"
    },
    {
     "name": "stdout",
     "output_type": "stream",
     "text": [
      "| Epoch: 289 | Train Loss: 1.284 | Train Acc: 76.02% | Val. Loss: 1.502 | Val. Acc: 54.37% | Val. Precision: 50.000 | Val. Recall: 54.375 | Val. F1-score: 48.711 |\n"
     ]
    },
    {
     "data": {
      "application/vnd.jupyter.widget-view+json": {
       "model_id": "c3f4f18a79a14fe2aa1d2fd3603d58ab",
       "version_major": 2,
       "version_minor": 0
      },
      "text/plain": [
       "  0%|          | 0/320 [00:00<?, ?it/s]"
      ]
     },
     "metadata": {},
     "output_type": "display_data"
    },
    {
     "name": "stdout",
     "output_type": "stream",
     "text": [
      "| Epoch: 290 | Train Loss: 1.283 | Train Acc: 76.17% | Val. Loss: 1.500 | Val. Acc: 53.75% | Val. Precision: 49.427 | Val. Recall: 53.750 | Val. F1-score: 48.690 |\n"
     ]
    },
    {
     "data": {
      "application/vnd.jupyter.widget-view+json": {
       "model_id": "8280be299a5149529f8c2d7c3184d068",
       "version_major": 2,
       "version_minor": 0
      },
      "text/plain": [
       "  0%|          | 0/320 [00:00<?, ?it/s]"
      ]
     },
     "metadata": {},
     "output_type": "display_data"
    },
    {
     "name": "stdout",
     "output_type": "stream",
     "text": [
      "| Epoch: 291 | Train Loss: 1.275 | Train Acc: 76.88% | Val. Loss: 1.489 | Val. Acc: 55.00% | Val. Precision: 48.854 | Val. Recall: 55.000 | Val. F1-score: 49.232 |\n"
     ]
    },
    {
     "data": {
      "application/vnd.jupyter.widget-view+json": {
       "model_id": "f8a3240c8395407bac0088295905ec7e",
       "version_major": 2,
       "version_minor": 0
      },
      "text/plain": [
       "  0%|          | 0/320 [00:00<?, ?it/s]"
      ]
     },
     "metadata": {},
     "output_type": "display_data"
    },
    {
     "name": "stdout",
     "output_type": "stream",
     "text": [
      "| Epoch: 292 | Train Loss: 1.273 | Train Acc: 77.03% | Val. Loss: 1.487 | Val. Acc: 55.62% | Val. Precision: 49.948 | Val. Recall: 55.625 | Val. F1-score: 50.333 |\n"
     ]
    },
    {
     "data": {
      "application/vnd.jupyter.widget-view+json": {
       "model_id": "471d4f0497684d8b8e09786174c215a7",
       "version_major": 2,
       "version_minor": 0
      },
      "text/plain": [
       "  0%|          | 0/320 [00:00<?, ?it/s]"
      ]
     },
     "metadata": {},
     "output_type": "display_data"
    },
    {
     "name": "stdout",
     "output_type": "stream",
     "text": [
      "| Epoch: 293 | Train Loss: 1.272 | Train Acc: 77.11% | Val. Loss: 1.487 | Val. Acc: 55.62% | Val. Precision: 49.167 | Val. Recall: 55.625 | Val. F1-score: 49.815 |\n"
     ]
    },
    {
     "data": {
      "application/vnd.jupyter.widget-view+json": {
       "model_id": "52c31b2183f446e698093ff6eccffda7",
       "version_major": 2,
       "version_minor": 0
      },
      "text/plain": [
       "  0%|          | 0/320 [00:00<?, ?it/s]"
      ]
     },
     "metadata": {},
     "output_type": "display_data"
    },
    {
     "name": "stdout",
     "output_type": "stream",
     "text": [
      "| Epoch: 294 | Train Loss: 1.272 | Train Acc: 77.11% | Val. Loss: 1.484 | Val. Acc: 55.62% | Val. Precision: 49.948 | Val. Recall: 55.625 | Val. F1-score: 50.333 |\n"
     ]
    },
    {
     "data": {
      "application/vnd.jupyter.widget-view+json": {
       "model_id": "fec50592146442be803a5db365162a07",
       "version_major": 2,
       "version_minor": 0
      },
      "text/plain": [
       "  0%|          | 0/320 [00:00<?, ?it/s]"
      ]
     },
     "metadata": {},
     "output_type": "display_data"
    },
    {
     "name": "stdout",
     "output_type": "stream",
     "text": [
      "| Epoch: 295 | Train Loss: 1.272 | Train Acc: 77.11% | Val. Loss: 1.481 | Val. Acc: 56.25% | Val. Precision: 50.781 | Val. Recall: 56.250 | Val. F1-score: 50.917 |\n"
     ]
    },
    {
     "data": {
      "application/vnd.jupyter.widget-view+json": {
       "model_id": "3b9dcd2ec0ae46d6bf8c1977ddde2f2a",
       "version_major": 2,
       "version_minor": 0
      },
      "text/plain": [
       "  0%|          | 0/320 [00:00<?, ?it/s]"
      ]
     },
     "metadata": {},
     "output_type": "display_data"
    },
    {
     "name": "stdout",
     "output_type": "stream",
     "text": [
      "| Epoch: 296 | Train Loss: 1.272 | Train Acc: 77.11% | Val. Loss: 1.489 | Val. Acc: 55.62% | Val. Precision: 49.375 | Val. Recall: 55.625 | Val. F1-score: 49.815 |\n"
     ]
    },
    {
     "data": {
      "application/vnd.jupyter.widget-view+json": {
       "model_id": "79fab96a0a3144c68284382c9c008b42",
       "version_major": 2,
       "version_minor": 0
      },
      "text/plain": [
       "  0%|          | 0/320 [00:00<?, ?it/s]"
      ]
     },
     "metadata": {},
     "output_type": "display_data"
    },
    {
     "name": "stdout",
     "output_type": "stream",
     "text": [
      "| Epoch: 297 | Train Loss: 1.272 | Train Acc: 77.11% | Val. Loss: 1.487 | Val. Acc: 55.00% | Val. Precision: 48.854 | Val. Recall: 55.000 | Val. F1-score: 49.232 |\n"
     ]
    },
    {
     "data": {
      "application/vnd.jupyter.widget-view+json": {
       "model_id": "2ae37bdf494f41508eb8c215e293721e",
       "version_major": 2,
       "version_minor": 0
      },
      "text/plain": [
       "  0%|          | 0/320 [00:00<?, ?it/s]"
      ]
     },
     "metadata": {},
     "output_type": "display_data"
    },
    {
     "name": "stdout",
     "output_type": "stream",
     "text": [
      "| Epoch: 298 | Train Loss: 1.272 | Train Acc: 77.11% | Val. Loss: 1.477 | Val. Acc: 56.88% | Val. Precision: 51.406 | Val. Recall: 56.875 | Val. F1-score: 51.542 |\n"
     ]
    },
    {
     "data": {
      "application/vnd.jupyter.widget-view+json": {
       "model_id": "ce41c94a527b4630b73e5e569ece2071",
       "version_major": 2,
       "version_minor": 0
      },
      "text/plain": [
       "  0%|          | 0/320 [00:00<?, ?it/s]"
      ]
     },
     "metadata": {},
     "output_type": "display_data"
    },
    {
     "name": "stdout",
     "output_type": "stream",
     "text": [
      "| Epoch: 299 | Train Loss: 1.287 | Train Acc: 75.78% | Val. Loss: 1.487 | Val. Acc: 55.62% | Val. Precision: 49.010 | Val. Recall: 55.625 | Val. F1-score: 49.815 |\n"
     ]
    },
    {
     "data": {
      "application/vnd.jupyter.widget-view+json": {
       "model_id": "4e6e690e9112452d8fe96c9897197708",
       "version_major": 2,
       "version_minor": 0
      },
      "text/plain": [
       "  0%|          | 0/320 [00:00<?, ?it/s]"
      ]
     },
     "metadata": {},
     "output_type": "display_data"
    },
    {
     "name": "stdout",
     "output_type": "stream",
     "text": [
      "| Epoch: 300 | Train Loss: 1.291 | Train Acc: 75.47% | Val. Loss: 1.479 | Val. Acc: 56.88% | Val. Precision: 52.969 | Val. Recall: 56.875 | Val. F1-score: 52.021 |\n"
     ]
    },
    {
     "data": {
      "application/vnd.jupyter.widget-view+json": {
       "model_id": "6ecd6f04fd4c49ada12ad9c2d5dd6d12",
       "version_major": 2,
       "version_minor": 0
      },
      "text/plain": [
       "  0%|          | 0/320 [00:00<?, ?it/s]"
      ]
     },
     "metadata": {},
     "output_type": "display_data"
    },
    {
     "name": "stdout",
     "output_type": "stream",
     "text": [
      "| Epoch: 301 | Train Loss: 1.293 | Train Acc: 75.16% | Val. Loss: 1.494 | Val. Acc: 54.37% | Val. Precision: 48.073 | Val. Recall: 54.375 | Val. F1-score: 48.045 |\n"
     ]
    },
    {
     "data": {
      "application/vnd.jupyter.widget-view+json": {
       "model_id": "4fc246fef8a84f0b9575c9344a17174c",
       "version_major": 2,
       "version_minor": 0
      },
      "text/plain": [
       "  0%|          | 0/320 [00:00<?, ?it/s]"
      ]
     },
     "metadata": {},
     "output_type": "display_data"
    },
    {
     "name": "stdout",
     "output_type": "stream",
     "text": [
      "| Epoch: 302 | Train Loss: 1.280 | Train Acc: 76.41% | Val. Loss: 1.483 | Val. Acc: 55.62% | Val. Precision: 50.208 | Val. Recall: 55.625 | Val. F1-score: 50.149 |\n"
     ]
    },
    {
     "data": {
      "application/vnd.jupyter.widget-view+json": {
       "model_id": "820694dd31d64465b6518fe3807d1fae",
       "version_major": 2,
       "version_minor": 0
      },
      "text/plain": [
       "  0%|          | 0/320 [00:00<?, ?it/s]"
      ]
     },
     "metadata": {},
     "output_type": "display_data"
    },
    {
     "name": "stdout",
     "output_type": "stream",
     "text": [
      "| Epoch: 303 | Train Loss: 1.273 | Train Acc: 77.03% | Val. Loss: 1.479 | Val. Acc: 56.88% | Val. Precision: 50.365 | Val. Recall: 56.875 | Val. F1-score: 51.104 |\n"
     ]
    },
    {
     "data": {
      "application/vnd.jupyter.widget-view+json": {
       "model_id": "0c8088c774e64f66a9a740c812a725a2",
       "version_major": 2,
       "version_minor": 0
      },
      "text/plain": [
       "  0%|          | 0/320 [00:00<?, ?it/s]"
      ]
     },
     "metadata": {},
     "output_type": "display_data"
    },
    {
     "name": "stdout",
     "output_type": "stream",
     "text": [
      "| Epoch: 304 | Train Loss: 1.274 | Train Acc: 76.95% | Val. Loss: 1.481 | Val. Acc: 56.88% | Val. Precision: 50.365 | Val. Recall: 56.875 | Val. F1-score: 51.104 |\n"
     ]
    },
    {
     "data": {
      "application/vnd.jupyter.widget-view+json": {
       "model_id": "dd016236922d4b05abfbc51b2eb5c645",
       "version_major": 2,
       "version_minor": 0
      },
      "text/plain": [
       "  0%|          | 0/320 [00:00<?, ?it/s]"
      ]
     },
     "metadata": {},
     "output_type": "display_data"
    },
    {
     "name": "stdout",
     "output_type": "stream",
     "text": [
      "| Epoch: 305 | Train Loss: 1.278 | Train Acc: 76.64% | Val. Loss: 1.486 | Val. Acc: 55.62% | Val. Precision: 49.740 | Val. Recall: 55.625 | Val. F1-score: 50.104 |\n"
     ]
    },
    {
     "data": {
      "application/vnd.jupyter.widget-view+json": {
       "model_id": "eedd8a74a8c442249f13262f7f7725ce",
       "version_major": 2,
       "version_minor": 0
      },
      "text/plain": [
       "  0%|          | 0/320 [00:00<?, ?it/s]"
      ]
     },
     "metadata": {},
     "output_type": "display_data"
    },
    {
     "name": "stdout",
     "output_type": "stream",
     "text": [
      "| Epoch: 306 | Train Loss: 1.273 | Train Acc: 77.03% | Val. Loss: 1.486 | Val. Acc: 56.25% | Val. Precision: 49.479 | Val. Recall: 56.250 | Val. F1-score: 50.336 |\n"
     ]
    },
    {
     "data": {
      "application/vnd.jupyter.widget-view+json": {
       "model_id": "9129fac4327d4b0e824f3d2bcd2f56fc",
       "version_major": 2,
       "version_minor": 0
      },
      "text/plain": [
       "  0%|          | 0/320 [00:00<?, ?it/s]"
      ]
     },
     "metadata": {},
     "output_type": "display_data"
    },
    {
     "name": "stdout",
     "output_type": "stream",
     "text": [
      "| Epoch: 307 | Train Loss: 1.272 | Train Acc: 77.11% | Val. Loss: 1.487 | Val. Acc: 56.25% | Val. Precision: 49.740 | Val. Recall: 56.250 | Val. F1-score: 50.646 |\n"
     ]
    },
    {
     "data": {
      "application/vnd.jupyter.widget-view+json": {
       "model_id": "10b92a2a4ab241b3b278a0db3e132a07",
       "version_major": 2,
       "version_minor": 0
      },
      "text/plain": [
       "  0%|          | 0/320 [00:00<?, ?it/s]"
      ]
     },
     "metadata": {},
     "output_type": "display_data"
    },
    {
     "name": "stdout",
     "output_type": "stream",
     "text": [
      "| Epoch: 308 | Train Loss: 1.272 | Train Acc: 77.11% | Val. Loss: 1.486 | Val. Acc: 55.62% | Val. Precision: 49.427 | Val. Recall: 55.625 | Val. F1-score: 50.062 |\n"
     ]
    },
    {
     "data": {
      "application/vnd.jupyter.widget-view+json": {
       "model_id": "62ab320c56ed4f84bb608411c6a17527",
       "version_major": 2,
       "version_minor": 0
      },
      "text/plain": [
       "  0%|          | 0/320 [00:00<?, ?it/s]"
      ]
     },
     "metadata": {},
     "output_type": "display_data"
    },
    {
     "name": "stdout",
     "output_type": "stream",
     "text": [
      "| Epoch: 309 | Train Loss: 1.272 | Train Acc: 77.11% | Val. Loss: 1.490 | Val. Acc: 55.62% | Val. Precision: 48.958 | Val. Recall: 55.625 | Val. F1-score: 49.795 |\n"
     ]
    },
    {
     "data": {
      "application/vnd.jupyter.widget-view+json": {
       "model_id": "35b7760a97334396b37a3406b0a37ba3",
       "version_major": 2,
       "version_minor": 0
      },
      "text/plain": [
       "  0%|          | 0/320 [00:00<?, ?it/s]"
      ]
     },
     "metadata": {},
     "output_type": "display_data"
    },
    {
     "name": "stdout",
     "output_type": "stream",
     "text": [
      "| Epoch: 310 | Train Loss: 1.272 | Train Acc: 77.11% | Val. Loss: 1.487 | Val. Acc: 56.25% | Val. Precision: 49.740 | Val. Recall: 56.250 | Val. F1-score: 50.646 |\n"
     ]
    },
    {
     "data": {
      "application/vnd.jupyter.widget-view+json": {
       "model_id": "e4faceaf7f7b437e84e33215d734580c",
       "version_major": 2,
       "version_minor": 0
      },
      "text/plain": [
       "  0%|          | 0/320 [00:00<?, ?it/s]"
      ]
     },
     "metadata": {},
     "output_type": "display_data"
    },
    {
     "name": "stdout",
     "output_type": "stream",
     "text": [
      "| Epoch: 311 | Train Loss: 1.272 | Train Acc: 77.11% | Val. Loss: 1.485 | Val. Acc: 56.25% | Val. Precision: 49.479 | Val. Recall: 56.250 | Val. F1-score: 50.336 |\n"
     ]
    },
    {
     "data": {
      "application/vnd.jupyter.widget-view+json": {
       "model_id": "9ecf8c80bb3e43a5ac0695cfd79a79c1",
       "version_major": 2,
       "version_minor": 0
      },
      "text/plain": [
       "  0%|          | 0/320 [00:00<?, ?it/s]"
      ]
     },
     "metadata": {},
     "output_type": "display_data"
    },
    {
     "name": "stdout",
     "output_type": "stream",
     "text": [
      "| Epoch: 312 | Train Loss: 1.272 | Train Acc: 77.11% | Val. Loss: 1.488 | Val. Acc: 55.00% | Val. Precision: 48.125 | Val. Recall: 55.000 | Val. F1-score: 49.211 |\n"
     ]
    },
    {
     "data": {
      "application/vnd.jupyter.widget-view+json": {
       "model_id": "601b7db13f5441ccbb6068d6d0232b2c",
       "version_major": 2,
       "version_minor": 0
      },
      "text/plain": [
       "  0%|          | 0/320 [00:00<?, ?it/s]"
      ]
     },
     "metadata": {},
     "output_type": "display_data"
    },
    {
     "name": "stdout",
     "output_type": "stream",
     "text": [
      "| Epoch: 313 | Train Loss: 1.273 | Train Acc: 77.03% | Val. Loss: 1.482 | Val. Acc: 56.25% | Val. Precision: 49.792 | Val. Recall: 56.250 | Val. F1-score: 50.545 |\n"
     ]
    },
    {
     "data": {
      "application/vnd.jupyter.widget-view+json": {
       "model_id": "3772c21acdf44707a169a80a33123253",
       "version_major": 2,
       "version_minor": 0
      },
      "text/plain": [
       "  0%|          | 0/320 [00:00<?, ?it/s]"
      ]
     },
     "metadata": {},
     "output_type": "display_data"
    },
    {
     "name": "stdout",
     "output_type": "stream",
     "text": [
      "| Epoch: 314 | Train Loss: 1.274 | Train Acc: 76.88% | Val. Loss: 1.513 | Val. Acc: 52.50% | Val. Precision: 51.198 | Val. Recall: 52.500 | Val. F1-score: 48.500 |\n"
     ]
    },
    {
     "data": {
      "application/vnd.jupyter.widget-view+json": {
       "model_id": "b5bd521616d8451eb549d9e63d0485ea",
       "version_major": 2,
       "version_minor": 0
      },
      "text/plain": [
       "  0%|          | 0/320 [00:00<?, ?it/s]"
      ]
     },
     "metadata": {},
     "output_type": "display_data"
    },
    {
     "name": "stdout",
     "output_type": "stream",
     "text": [
      "| Epoch: 315 | Train Loss: 1.292 | Train Acc: 75.31% | Val. Loss: 1.502 | Val. Acc: 53.12% | Val. Precision: 47.188 | Val. Recall: 53.125 | Val. F1-score: 47.128 |\n"
     ]
    },
    {
     "data": {
      "application/vnd.jupyter.widget-view+json": {
       "model_id": "b2e09c7139c045ab926fc89a06a8f722",
       "version_major": 2,
       "version_minor": 0
      },
      "text/plain": [
       "  0%|          | 0/320 [00:00<?, ?it/s]"
      ]
     },
     "metadata": {},
     "output_type": "display_data"
    },
    {
     "name": "stdout",
     "output_type": "stream",
     "text": [
      "| Epoch: 316 | Train Loss: 1.288 | Train Acc: 75.70% | Val. Loss: 1.497 | Val. Acc: 55.00% | Val. Precision: 48.437 | Val. Recall: 55.000 | Val. F1-score: 48.667 |\n"
     ]
    },
    {
     "data": {
      "application/vnd.jupyter.widget-view+json": {
       "model_id": "77bfea28ff634c1c83c19c7c4256cd80",
       "version_major": 2,
       "version_minor": 0
      },
      "text/plain": [
       "  0%|          | 0/320 [00:00<?, ?it/s]"
      ]
     },
     "metadata": {},
     "output_type": "display_data"
    },
    {
     "name": "stdout",
     "output_type": "stream",
     "text": [
      "| Epoch: 317 | Train Loss: 1.294 | Train Acc: 74.92% | Val. Loss: 1.488 | Val. Acc: 55.62% | Val. Precision: 49.115 | Val. Recall: 55.625 | Val. F1-score: 49.732 |\n"
     ]
    },
    {
     "data": {
      "application/vnd.jupyter.widget-view+json": {
       "model_id": "9f23aa4574de48fd8159d532979cb531",
       "version_major": 2,
       "version_minor": 0
      },
      "text/plain": [
       "  0%|          | 0/320 [00:00<?, ?it/s]"
      ]
     },
     "metadata": {},
     "output_type": "display_data"
    },
    {
     "name": "stdout",
     "output_type": "stream",
     "text": [
      "| Epoch: 318 | Train Loss: 1.280 | Train Acc: 76.33% | Val. Loss: 1.489 | Val. Acc: 56.25% | Val. Precision: 50.260 | Val. Recall: 56.250 | Val. F1-score: 50.812 |\n"
     ]
    },
    {
     "data": {
      "application/vnd.jupyter.widget-view+json": {
       "model_id": "2ee26b4e35e845deb8a3224f1c7ec29c",
       "version_major": 2,
       "version_minor": 0
      },
      "text/plain": [
       "  0%|          | 0/320 [00:00<?, ?it/s]"
      ]
     },
     "metadata": {},
     "output_type": "display_data"
    },
    {
     "name": "stdout",
     "output_type": "stream",
     "text": [
      "| Epoch: 319 | Train Loss: 1.273 | Train Acc: 77.03% | Val. Loss: 1.484 | Val. Acc: 55.62% | Val. Precision: 48.333 | Val. Recall: 55.625 | Val. F1-score: 49.693 |\n"
     ]
    },
    {
     "data": {
      "application/vnd.jupyter.widget-view+json": {
       "model_id": "d297a3597c58438887acbc5447a22621",
       "version_major": 2,
       "version_minor": 0
      },
      "text/plain": [
       "  0%|          | 0/320 [00:00<?, ?it/s]"
      ]
     },
     "metadata": {},
     "output_type": "display_data"
    },
    {
     "name": "stdout",
     "output_type": "stream",
     "text": [
      "| Epoch: 320 | Train Loss: 1.277 | Train Acc: 76.80% | Val. Loss: 1.488 | Val. Acc: 55.00% | Val. Precision: 49.271 | Val. Recall: 55.000 | Val. F1-score: 49.545 |\n"
     ]
    },
    {
     "data": {
      "application/vnd.jupyter.widget-view+json": {
       "model_id": "1f1ff1241e284551a673d86b9d6858d2",
       "version_major": 2,
       "version_minor": 0
      },
      "text/plain": [
       "  0%|          | 0/320 [00:00<?, ?it/s]"
      ]
     },
     "metadata": {},
     "output_type": "display_data"
    },
    {
     "name": "stdout",
     "output_type": "stream",
     "text": [
      "| Epoch: 321 | Train Loss: 1.273 | Train Acc: 77.11% | Val. Loss: 1.486 | Val. Acc: 55.62% | Val. Precision: 50.417 | Val. Recall: 55.625 | Val. F1-score: 50.232 |\n"
     ]
    },
    {
     "data": {
      "application/vnd.jupyter.widget-view+json": {
       "model_id": "bf6a7b7be9934fbe8658965997be9913",
       "version_major": 2,
       "version_minor": 0
      },
      "text/plain": [
       "  0%|          | 0/320 [00:00<?, ?it/s]"
      ]
     },
     "metadata": {},
     "output_type": "display_data"
    },
    {
     "name": "stdout",
     "output_type": "stream",
     "text": [
      "| Epoch: 322 | Train Loss: 1.272 | Train Acc: 77.11% | Val. Loss: 1.482 | Val. Acc: 56.25% | Val. Precision: 50.104 | Val. Recall: 56.250 | Val. F1-score: 50.586 |\n"
     ]
    },
    {
     "data": {
      "application/vnd.jupyter.widget-view+json": {
       "model_id": "bf9bd9e1cc5f4b7e87295b9a47787f6b",
       "version_major": 2,
       "version_minor": 0
      },
      "text/plain": [
       "  0%|          | 0/320 [00:00<?, ?it/s]"
      ]
     },
     "metadata": {},
     "output_type": "display_data"
    },
    {
     "name": "stdout",
     "output_type": "stream",
     "text": [
      "| Epoch: 323 | Train Loss: 1.271 | Train Acc: 77.19% | Val. Loss: 1.487 | Val. Acc: 55.62% | Val. Precision: 49.271 | Val. Recall: 55.625 | Val. F1-score: 49.795 |\n"
     ]
    },
    {
     "data": {
      "application/vnd.jupyter.widget-view+json": {
       "model_id": "dbf27ca01e43437aabc903464e08f9e1",
       "version_major": 2,
       "version_minor": 0
      },
      "text/plain": [
       "  0%|          | 0/320 [00:00<?, ?it/s]"
      ]
     },
     "metadata": {},
     "output_type": "display_data"
    },
    {
     "name": "stdout",
     "output_type": "stream",
     "text": [
      "| Epoch: 324 | Train Loss: 1.271 | Train Acc: 77.19% | Val. Loss: 1.484 | Val. Acc: 56.25% | Val. Precision: 50.417 | Val. Recall: 56.250 | Val. F1-score: 50.795 |\n"
     ]
    },
    {
     "data": {
      "application/vnd.jupyter.widget-view+json": {
       "model_id": "3eca4d58c1dd4453a9fb470005334fc0",
       "version_major": 2,
       "version_minor": 0
      },
      "text/plain": [
       "  0%|          | 0/320 [00:00<?, ?it/s]"
      ]
     },
     "metadata": {},
     "output_type": "display_data"
    },
    {
     "name": "stdout",
     "output_type": "stream",
     "text": [
      "| Epoch: 325 | Train Loss: 1.271 | Train Acc: 77.19% | Val. Loss: 1.483 | Val. Acc: 55.62% | Val. Precision: 49.583 | Val. Recall: 55.625 | Val. F1-score: 50.003 |\n"
     ]
    },
    {
     "data": {
      "application/vnd.jupyter.widget-view+json": {
       "model_id": "ccb8fb3de72444adb0c6e5d0cb9fa86e",
       "version_major": 2,
       "version_minor": 0
      },
      "text/plain": [
       "  0%|          | 0/320 [00:00<?, ?it/s]"
      ]
     },
     "metadata": {},
     "output_type": "display_data"
    },
    {
     "name": "stdout",
     "output_type": "stream",
     "text": [
      "| Epoch: 326 | Train Loss: 1.271 | Train Acc: 77.19% | Val. Loss: 1.487 | Val. Acc: 55.00% | Val. Precision: 48.958 | Val. Recall: 55.000 | Val. F1-score: 49.586 |\n"
     ]
    },
    {
     "data": {
      "application/vnd.jupyter.widget-view+json": {
       "model_id": "2383e62ad7ff4f42b28b8754493780e6",
       "version_major": 2,
       "version_minor": 0
      },
      "text/plain": [
       "  0%|          | 0/320 [00:00<?, ?it/s]"
      ]
     },
     "metadata": {},
     "output_type": "display_data"
    },
    {
     "name": "stdout",
     "output_type": "stream",
     "text": [
      "| Epoch: 327 | Train Loss: 1.271 | Train Acc: 77.19% | Val. Loss: 1.499 | Val. Acc: 53.75% | Val. Precision: 46.562 | Val. Recall: 53.750 | Val. F1-score: 47.545 |\n"
     ]
    },
    {
     "data": {
      "application/vnd.jupyter.widget-view+json": {
       "model_id": "0a4b296d0a5145d299180b72d73b12fd",
       "version_major": 2,
       "version_minor": 0
      },
      "text/plain": [
       "  0%|          | 0/320 [00:00<?, ?it/s]"
      ]
     },
     "metadata": {},
     "output_type": "display_data"
    },
    {
     "name": "stdout",
     "output_type": "stream",
     "text": [
      "| Epoch: 328 | Train Loss: 1.276 | Train Acc: 76.80% | Val. Loss: 1.495 | Val. Acc: 54.37% | Val. Precision: 47.031 | Val. Recall: 54.375 | Val. F1-score: 48.045 |\n"
     ]
    },
    {
     "data": {
      "application/vnd.jupyter.widget-view+json": {
       "model_id": "b544cffff41b451cbb97273faa97baed",
       "version_major": 2,
       "version_minor": 0
      },
      "text/plain": [
       "  0%|          | 0/320 [00:00<?, ?it/s]"
      ]
     },
     "metadata": {},
     "output_type": "display_data"
    },
    {
     "name": "stdout",
     "output_type": "stream",
     "text": [
      "| Epoch: 329 | Train Loss: 1.295 | Train Acc: 74.92% | Val. Loss: 1.502 | Val. Acc: 53.12% | Val. Precision: 44.583 | Val. Recall: 53.125 | Val. F1-score: 46.440 |\n"
     ]
    },
    {
     "data": {
      "application/vnd.jupyter.widget-view+json": {
       "model_id": "bbb9f7e1cd044dccb23d33804b155858",
       "version_major": 2,
       "version_minor": 0
      },
      "text/plain": [
       "  0%|          | 0/320 [00:00<?, ?it/s]"
      ]
     },
     "metadata": {},
     "output_type": "display_data"
    },
    {
     "name": "stdout",
     "output_type": "stream",
     "text": [
      "| Epoch: 330 | Train Loss: 1.281 | Train Acc: 76.09% | Val. Loss: 1.502 | Val. Acc: 54.37% | Val. Precision: 47.500 | Val. Recall: 54.375 | Val. F1-score: 48.277 |\n"
     ]
    },
    {
     "data": {
      "application/vnd.jupyter.widget-view+json": {
       "model_id": "d82c25fe39ab4bb6976e1172d9f08a05",
       "version_major": 2,
       "version_minor": 0
      },
      "text/plain": [
       "  0%|          | 0/320 [00:00<?, ?it/s]"
      ]
     },
     "metadata": {},
     "output_type": "display_data"
    },
    {
     "name": "stdout",
     "output_type": "stream",
     "text": [
      "| Epoch: 331 | Train Loss: 1.274 | Train Acc: 76.95% | Val. Loss: 1.497 | Val. Acc: 54.37% | Val. Precision: 47.500 | Val. Recall: 54.375 | Val. F1-score: 48.545 |\n"
     ]
    },
    {
     "data": {
      "application/vnd.jupyter.widget-view+json": {
       "model_id": "0127265d790941e086e8644cad7a256b",
       "version_major": 2,
       "version_minor": 0
      },
      "text/plain": [
       "  0%|          | 0/320 [00:00<?, ?it/s]"
      ]
     },
     "metadata": {},
     "output_type": "display_data"
    },
    {
     "name": "stdout",
     "output_type": "stream",
     "text": [
      "| Epoch: 332 | Train Loss: 1.272 | Train Acc: 77.11% | Val. Loss: 1.494 | Val. Acc: 55.62% | Val. Precision: 49.167 | Val. Recall: 55.625 | Val. F1-score: 49.920 |\n"
     ]
    },
    {
     "data": {
      "application/vnd.jupyter.widget-view+json": {
       "model_id": "dae4579ee26e4f698e7dae26ffa80508",
       "version_major": 2,
       "version_minor": 0
      },
      "text/plain": [
       "  0%|          | 0/320 [00:00<?, ?it/s]"
      ]
     },
     "metadata": {},
     "output_type": "display_data"
    },
    {
     "name": "stdout",
     "output_type": "stream",
     "text": [
      "| Epoch: 333 | Train Loss: 1.271 | Train Acc: 77.19% | Val. Loss: 1.505 | Val. Acc: 53.75% | Val. Precision: 46.875 | Val. Recall: 53.750 | Val. F1-score: 47.652 |\n"
     ]
    },
    {
     "data": {
      "application/vnd.jupyter.widget-view+json": {
       "model_id": "6d3ec6f649014f65ba3763adea608988",
       "version_major": 2,
       "version_minor": 0
      },
      "text/plain": [
       "  0%|          | 0/320 [00:00<?, ?it/s]"
      ]
     },
     "metadata": {},
     "output_type": "display_data"
    },
    {
     "name": "stdout",
     "output_type": "stream",
     "text": [
      "| Epoch: 334 | Train Loss: 1.276 | Train Acc: 76.80% | Val. Loss: 1.500 | Val. Acc: 54.37% | Val. Precision: 49.115 | Val. Recall: 54.375 | Val. F1-score: 49.292 |\n"
     ]
    },
    {
     "data": {
      "application/vnd.jupyter.widget-view+json": {
       "model_id": "e65219d67f2d414797c4a3689496112e",
       "version_major": 2,
       "version_minor": 0
      },
      "text/plain": [
       "  0%|          | 0/320 [00:00<?, ?it/s]"
      ]
     },
     "metadata": {},
     "output_type": "display_data"
    },
    {
     "name": "stdout",
     "output_type": "stream",
     "text": [
      "| Epoch: 335 | Train Loss: 1.273 | Train Acc: 76.95% | Val. Loss: 1.490 | Val. Acc: 55.62% | Val. Precision: 49.219 | Val. Recall: 55.625 | Val. F1-score: 50.333 |\n"
     ]
    },
    {
     "data": {
      "application/vnd.jupyter.widget-view+json": {
       "model_id": "eafb84f53a174cebaa0851dde2085fbb",
       "version_major": 2,
       "version_minor": 0
      },
      "text/plain": [
       "  0%|          | 0/320 [00:00<?, ?it/s]"
      ]
     },
     "metadata": {},
     "output_type": "display_data"
    },
    {
     "name": "stdout",
     "output_type": "stream",
     "text": [
      "| Epoch: 336 | Train Loss: 1.270 | Train Acc: 77.27% | Val. Loss: 1.494 | Val. Acc: 54.37% | Val. Precision: 48.281 | Val. Recall: 54.375 | Val. F1-score: 49.125 |\n"
     ]
    },
    {
     "data": {
      "application/vnd.jupyter.widget-view+json": {
       "model_id": "0eb4d778a2634384a7d66c08f490e2ae",
       "version_major": 2,
       "version_minor": 0
      },
      "text/plain": [
       "  0%|          | 0/320 [00:00<?, ?it/s]"
      ]
     },
     "metadata": {},
     "output_type": "display_data"
    },
    {
     "name": "stdout",
     "output_type": "stream",
     "text": [
      "| Epoch: 337 | Train Loss: 1.273 | Train Acc: 77.03% | Val. Loss: 1.491 | Val. Acc: 55.00% | Val. Precision: 49.219 | Val. Recall: 55.000 | Val. F1-score: 49.750 |\n"
     ]
    },
    {
     "data": {
      "application/vnd.jupyter.widget-view+json": {
       "model_id": "19fead5a2bfe42babbae18cdb2e3705d",
       "version_major": 2,
       "version_minor": 0
      },
      "text/plain": [
       "  0%|          | 0/320 [00:00<?, ?it/s]"
      ]
     },
     "metadata": {},
     "output_type": "display_data"
    },
    {
     "name": "stdout",
     "output_type": "stream",
     "text": [
      "| Epoch: 338 | Train Loss: 1.279 | Train Acc: 76.41% | Val. Loss: 1.518 | Val. Acc: 52.50% | Val. Precision: 48.073 | Val. Recall: 52.500 | Val. F1-score: 47.464 |\n"
     ]
    },
    {
     "data": {
      "application/vnd.jupyter.widget-view+json": {
       "model_id": "161f76671cbd4f8eb7b54622976a0a16",
       "version_major": 2,
       "version_minor": 0
      },
      "text/plain": [
       "  0%|          | 0/320 [00:00<?, ?it/s]"
      ]
     },
     "metadata": {},
     "output_type": "display_data"
    },
    {
     "name": "stdout",
     "output_type": "stream",
     "text": [
      "| Epoch: 339 | Train Loss: 1.290 | Train Acc: 75.31% | Val. Loss: 1.503 | Val. Acc: 53.75% | Val. Precision: 46.979 | Val. Recall: 53.750 | Val. F1-score: 47.732 |\n"
     ]
    },
    {
     "data": {
      "application/vnd.jupyter.widget-view+json": {
       "model_id": "7193691b3b184fd9ae63cd7a405c3992",
       "version_major": 2,
       "version_minor": 0
      },
      "text/plain": [
       "  0%|          | 0/320 [00:00<?, ?it/s]"
      ]
     },
     "metadata": {},
     "output_type": "display_data"
    },
    {
     "name": "stdout",
     "output_type": "stream",
     "text": [
      "| Epoch: 340 | Train Loss: 1.280 | Train Acc: 76.33% | Val. Loss: 1.507 | Val. Acc: 53.75% | Val. Precision: 46.250 | Val. Recall: 53.750 | Val. F1-score: 47.440 |\n"
     ]
    },
    {
     "data": {
      "application/vnd.jupyter.widget-view+json": {
       "model_id": "0a086a6e59224359a8cc30b61956a80d",
       "version_major": 2,
       "version_minor": 0
      },
      "text/plain": [
       "  0%|          | 0/320 [00:00<?, ?it/s]"
      ]
     },
     "metadata": {},
     "output_type": "display_data"
    },
    {
     "name": "stdout",
     "output_type": "stream",
     "text": [
      "| Epoch: 341 | Train Loss: 1.274 | Train Acc: 77.03% | Val. Loss: 1.499 | Val. Acc: 54.37% | Val. Precision: 47.708 | Val. Recall: 54.375 | Val. F1-score: 48.503 |\n"
     ]
    },
    {
     "data": {
      "application/vnd.jupyter.widget-view+json": {
       "model_id": "8d0db2e0efcb40f8afef773d8e662e5c",
       "version_major": 2,
       "version_minor": 0
      },
      "text/plain": [
       "  0%|          | 0/320 [00:00<?, ?it/s]"
      ]
     },
     "metadata": {},
     "output_type": "display_data"
    },
    {
     "name": "stdout",
     "output_type": "stream",
     "text": [
      "| Epoch: 342 | Train Loss: 1.276 | Train Acc: 76.64% | Val. Loss: 1.494 | Val. Acc: 54.37% | Val. Precision: 47.292 | Val. Recall: 54.375 | Val. F1-score: 48.649 |\n"
     ]
    },
    {
     "data": {
      "application/vnd.jupyter.widget-view+json": {
       "model_id": "4734960529e049ae9427c1fe10edc1b0",
       "version_major": 2,
       "version_minor": 0
      },
      "text/plain": [
       "  0%|          | 0/320 [00:00<?, ?it/s]"
      ]
     },
     "metadata": {},
     "output_type": "display_data"
    },
    {
     "name": "stdout",
     "output_type": "stream",
     "text": [
      "| Epoch: 343 | Train Loss: 1.270 | Train Acc: 77.42% | Val. Loss: 1.493 | Val. Acc: 54.37% | Val. Precision: 49.531 | Val. Recall: 54.375 | Val. F1-score: 49.586 |\n"
     ]
    },
    {
     "data": {
      "application/vnd.jupyter.widget-view+json": {
       "model_id": "6c1a1fa3614143ac9bebacd183b1b80e",
       "version_major": 2,
       "version_minor": 0
      },
      "text/plain": [
       "  0%|          | 0/320 [00:00<?, ?it/s]"
      ]
     },
     "metadata": {},
     "output_type": "display_data"
    },
    {
     "name": "stdout",
     "output_type": "stream",
     "text": [
      "| Epoch: 344 | Train Loss: 1.268 | Train Acc: 77.50% | Val. Loss: 1.488 | Val. Acc: 55.62% | Val. Precision: 50.990 | Val. Recall: 55.625 | Val. F1-score: 50.774 |\n"
     ]
    },
    {
     "data": {
      "application/vnd.jupyter.widget-view+json": {
       "model_id": "59c09b85acfe48299ecc94843db4d917",
       "version_major": 2,
       "version_minor": 0
      },
      "text/plain": [
       "  0%|          | 0/320 [00:00<?, ?it/s]"
      ]
     },
     "metadata": {},
     "output_type": "display_data"
    },
    {
     "name": "stdout",
     "output_type": "stream",
     "text": [
      "| Epoch: 345 | Train Loss: 1.271 | Train Acc: 77.11% | Val. Loss: 1.486 | Val. Acc: 55.62% | Val. Precision: 50.990 | Val. Recall: 55.625 | Val. F1-score: 50.774 |\n"
     ]
    },
    {
     "data": {
      "application/vnd.jupyter.widget-view+json": {
       "model_id": "4288fb46720d41e3a97071e57394251b",
       "version_major": 2,
       "version_minor": 0
      },
      "text/plain": [
       "  0%|          | 0/320 [00:00<?, ?it/s]"
      ]
     },
     "metadata": {},
     "output_type": "display_data"
    },
    {
     "name": "stdout",
     "output_type": "stream",
     "text": [
      "| Epoch: 346 | Train Loss: 1.272 | Train Acc: 77.27% | Val. Loss: 1.490 | Val. Acc: 55.62% | Val. Precision: 50.990 | Val. Recall: 55.625 | Val. F1-score: 50.774 |\n"
     ]
    },
    {
     "data": {
      "application/vnd.jupyter.widget-view+json": {
       "model_id": "c20b325ee5e341248bc90ed69f6f9617",
       "version_major": 2,
       "version_minor": 0
      },
      "text/plain": [
       "  0%|          | 0/320 [00:00<?, ?it/s]"
      ]
     },
     "metadata": {},
     "output_type": "display_data"
    },
    {
     "name": "stdout",
     "output_type": "stream",
     "text": [
      "| Epoch: 347 | Train Loss: 1.272 | Train Acc: 77.11% | Val. Loss: 1.499 | Val. Acc: 53.75% | Val. Precision: 50.469 | Val. Recall: 53.750 | Val. F1-score: 49.583 |\n"
     ]
    },
    {
     "data": {
      "application/vnd.jupyter.widget-view+json": {
       "model_id": "4c39dc9d45f74e0982d10be5f5917ecc",
       "version_major": 2,
       "version_minor": 0
      },
      "text/plain": [
       "  0%|          | 0/320 [00:00<?, ?it/s]"
      ]
     },
     "metadata": {},
     "output_type": "display_data"
    },
    {
     "name": "stdout",
     "output_type": "stream",
     "text": [
      "| Epoch: 348 | Train Loss: 1.274 | Train Acc: 76.95% | Val. Loss: 1.498 | Val. Acc: 53.12% | Val. Precision: 46.354 | Val. Recall: 53.125 | Val. F1-score: 47.378 |\n"
     ]
    },
    {
     "data": {
      "application/vnd.jupyter.widget-view+json": {
       "model_id": "a07c64093fab4af48cecfc2cca96775a",
       "version_major": 2,
       "version_minor": 0
      },
      "text/plain": [
       "  0%|          | 0/320 [00:00<?, ?it/s]"
      ]
     },
     "metadata": {},
     "output_type": "display_data"
    },
    {
     "name": "stdout",
     "output_type": "stream",
     "text": [
      "| Epoch: 349 | Train Loss: 1.272 | Train Acc: 77.27% | Val. Loss: 1.495 | Val. Acc: 54.37% | Val. Precision: 48.958 | Val. Recall: 54.375 | Val. F1-score: 49.107 |\n"
     ]
    },
    {
     "data": {
      "application/vnd.jupyter.widget-view+json": {
       "model_id": "66409803c0c44918a3b291440275d216",
       "version_major": 2,
       "version_minor": 0
      },
      "text/plain": [
       "  0%|          | 0/320 [00:00<?, ?it/s]"
      ]
     },
     "metadata": {},
     "output_type": "display_data"
    },
    {
     "name": "stdout",
     "output_type": "stream",
     "text": [
      "| Epoch: 350 | Train Loss: 1.269 | Train Acc: 77.50% | Val. Loss: 1.488 | Val. Acc: 55.62% | Val. Precision: 49.375 | Val. Recall: 55.625 | Val. F1-score: 49.815 |\n"
     ]
    },
    {
     "data": {
      "application/vnd.jupyter.widget-view+json": {
       "model_id": "2ff20b40b9b9406b8efc55ccaf7e3b4d",
       "version_major": 2,
       "version_minor": 0
      },
      "text/plain": [
       "  0%|          | 0/320 [00:00<?, ?it/s]"
      ]
     },
     "metadata": {},
     "output_type": "display_data"
    },
    {
     "name": "stdout",
     "output_type": "stream",
     "text": [
      "| Epoch: 351 | Train Loss: 1.268 | Train Acc: 77.58% | Val. Loss: 1.497 | Val. Acc: 54.37% | Val. Precision: 48.333 | Val. Recall: 54.375 | Val. F1-score: 48.482 |\n"
     ]
    },
    {
     "data": {
      "application/vnd.jupyter.widget-view+json": {
       "model_id": "3a53dd812e584338aea46ff26395c5de",
       "version_major": 2,
       "version_minor": 0
      },
      "text/plain": [
       "  0%|          | 0/320 [00:00<?, ?it/s]"
      ]
     },
     "metadata": {},
     "output_type": "display_data"
    },
    {
     "name": "stdout",
     "output_type": "stream",
     "text": [
      "| Epoch: 352 | Train Loss: 1.267 | Train Acc: 77.66% | Val. Loss: 1.487 | Val. Acc: 55.62% | Val. Precision: 50.312 | Val. Recall: 55.625 | Val. F1-score: 50.440 |\n"
     ]
    },
    {
     "data": {
      "application/vnd.jupyter.widget-view+json": {
       "model_id": "de1dab95770643069cd671c8097594a5",
       "version_major": 2,
       "version_minor": 0
      },
      "text/plain": [
       "  0%|          | 0/320 [00:00<?, ?it/s]"
      ]
     },
     "metadata": {},
     "output_type": "display_data"
    },
    {
     "name": "stdout",
     "output_type": "stream",
     "text": [
      "| Epoch: 353 | Train Loss: 1.267 | Train Acc: 77.66% | Val. Loss: 1.488 | Val. Acc: 55.62% | Val. Precision: 50.573 | Val. Recall: 55.625 | Val. F1-score: 50.542 |\n"
     ]
    },
    {
     "data": {
      "application/vnd.jupyter.widget-view+json": {
       "model_id": "a6cdd9b3d3b64b338bb4d14694d0ee7b",
       "version_major": 2,
       "version_minor": 0
      },
      "text/plain": [
       "  0%|          | 0/320 [00:00<?, ?it/s]"
      ]
     },
     "metadata": {},
     "output_type": "display_data"
    },
    {
     "name": "stdout",
     "output_type": "stream",
     "text": [
      "| Epoch: 354 | Train Loss: 1.269 | Train Acc: 77.50% | Val. Loss: 1.502 | Val. Acc: 53.75% | Val. Precision: 48.385 | Val. Recall: 53.750 | Val. F1-score: 48.604 |\n"
     ]
    },
    {
     "data": {
      "application/vnd.jupyter.widget-view+json": {
       "model_id": "51ec2b3228e440bcbcd6ea3ce3799815",
       "version_major": 2,
       "version_minor": 0
      },
      "text/plain": [
       "  0%|          | 0/320 [00:00<?, ?it/s]"
      ]
     },
     "metadata": {},
     "output_type": "display_data"
    },
    {
     "name": "stdout",
     "output_type": "stream",
     "text": [
      "| Epoch: 355 | Train Loss: 1.291 | Train Acc: 75.16% | Val. Loss: 1.495 | Val. Acc: 54.37% | Val. Precision: 48.333 | Val. Recall: 54.375 | Val. F1-score: 49.232 |\n"
     ]
    },
    {
     "data": {
      "application/vnd.jupyter.widget-view+json": {
       "model_id": "ecdf5108f1f9495a9d30c5046b4c737d",
       "version_major": 2,
       "version_minor": 0
      },
      "text/plain": [
       "  0%|          | 0/320 [00:00<?, ?it/s]"
      ]
     },
     "metadata": {},
     "output_type": "display_data"
    },
    {
     "name": "stdout",
     "output_type": "stream",
     "text": [
      "| Epoch: 356 | Train Loss: 1.275 | Train Acc: 76.80% | Val. Loss: 1.494 | Val. Acc: 54.37% | Val. Precision: 49.062 | Val. Recall: 54.375 | Val. F1-score: 49.024 |\n"
     ]
    },
    {
     "data": {
      "application/vnd.jupyter.widget-view+json": {
       "model_id": "2234e92c387c4fa8ba625de8ccb48e30",
       "version_major": 2,
       "version_minor": 0
      },
      "text/plain": [
       "  0%|          | 0/320 [00:00<?, ?it/s]"
      ]
     },
     "metadata": {},
     "output_type": "display_data"
    },
    {
     "name": "stdout",
     "output_type": "stream",
     "text": [
      "| Epoch: 357 | Train Loss: 1.274 | Train Acc: 77.11% | Val. Loss: 1.511 | Val. Acc: 53.75% | Val. Precision: 45.885 | Val. Recall: 53.750 | Val. F1-score: 47.149 |\n"
     ]
    },
    {
     "data": {
      "application/vnd.jupyter.widget-view+json": {
       "model_id": "18f368aa14c34eea8d03072842f825d2",
       "version_major": 2,
       "version_minor": 0
      },
      "text/plain": [
       "  0%|          | 0/320 [00:00<?, ?it/s]"
      ]
     },
     "metadata": {},
     "output_type": "display_data"
    },
    {
     "name": "stdout",
     "output_type": "stream",
     "text": [
      "| Epoch: 358 | Train Loss: 1.276 | Train Acc: 76.80% | Val. Loss: 1.500 | Val. Acc: 54.37% | Val. Precision: 50.260 | Val. Recall: 54.375 | Val. F1-score: 49.420 |\n"
     ]
    },
    {
     "data": {
      "application/vnd.jupyter.widget-view+json": {
       "model_id": "56605f7eba3e4f35bfd21842c01ff092",
       "version_major": 2,
       "version_minor": 0
      },
      "text/plain": [
       "  0%|          | 0/320 [00:00<?, ?it/s]"
      ]
     },
     "metadata": {},
     "output_type": "display_data"
    },
    {
     "name": "stdout",
     "output_type": "stream",
     "text": [
      "| Epoch: 359 | Train Loss: 1.273 | Train Acc: 77.11% | Val. Loss: 1.485 | Val. Acc: 55.62% | Val. Precision: 48.958 | Val. Recall: 55.625 | Val. F1-score: 49.961 |\n"
     ]
    },
    {
     "data": {
      "application/vnd.jupyter.widget-view+json": {
       "model_id": "c3fc483debb5440c81ee4472c0feffc2",
       "version_major": 2,
       "version_minor": 0
      },
      "text/plain": [
       "  0%|          | 0/320 [00:00<?, ?it/s]"
      ]
     },
     "metadata": {},
     "output_type": "display_data"
    },
    {
     "name": "stdout",
     "output_type": "stream",
     "text": [
      "| Epoch: 360 | Train Loss: 1.271 | Train Acc: 77.34% | Val. Loss: 1.489 | Val. Acc: 56.25% | Val. Precision: 52.656 | Val. Recall: 56.250 | Val. F1-score: 51.521 |\n"
     ]
    },
    {
     "data": {
      "application/vnd.jupyter.widget-view+json": {
       "model_id": "665be5128fdd405dadb2270affeb76da",
       "version_major": 2,
       "version_minor": 0
      },
      "text/plain": [
       "  0%|          | 0/320 [00:00<?, ?it/s]"
      ]
     },
     "metadata": {},
     "output_type": "display_data"
    },
    {
     "name": "stdout",
     "output_type": "stream",
     "text": [
      "| Epoch: 361 | Train Loss: 1.271 | Train Acc: 77.27% | Val. Loss: 1.486 | Val. Acc: 54.37% | Val. Precision: 47.812 | Val. Recall: 54.375 | Val. F1-score: 48.086 |\n"
     ]
    },
    {
     "data": {
      "application/vnd.jupyter.widget-view+json": {
       "model_id": "937e7d748cc04d58b421c3b982e58a65",
       "version_major": 2,
       "version_minor": 0
      },
      "text/plain": [
       "  0%|          | 0/320 [00:00<?, ?it/s]"
      ]
     },
     "metadata": {},
     "output_type": "display_data"
    },
    {
     "name": "stdout",
     "output_type": "stream",
     "text": [
      "| Epoch: 362 | Train Loss: 1.287 | Train Acc: 75.94% | Val. Loss: 1.473 | Val. Acc: 56.88% | Val. Precision: 50.833 | Val. Recall: 56.875 | Val. F1-score: 51.173 |\n"
     ]
    },
    {
     "data": {
      "application/vnd.jupyter.widget-view+json": {
       "model_id": "3ee94bc21cbb45b188763892176700a8",
       "version_major": 2,
       "version_minor": 0
      },
      "text/plain": [
       "  0%|          | 0/320 [00:00<?, ?it/s]"
      ]
     },
     "metadata": {},
     "output_type": "display_data"
    },
    {
     "name": "stdout",
     "output_type": "stream",
     "text": [
      "| Epoch: 363 | Train Loss: 1.275 | Train Acc: 76.95% | Val. Loss: 1.491 | Val. Acc: 55.00% | Val. Precision: 47.917 | Val. Recall: 55.000 | Val. F1-score: 48.815 |\n"
     ]
    },
    {
     "data": {
      "application/vnd.jupyter.widget-view+json": {
       "model_id": "efd73e0f1be0485b89a4cf24456fbed1",
       "version_major": 2,
       "version_minor": 0
      },
      "text/plain": [
       "  0%|          | 0/320 [00:00<?, ?it/s]"
      ]
     },
     "metadata": {},
     "output_type": "display_data"
    },
    {
     "name": "stdout",
     "output_type": "stream",
     "text": [
      "| Epoch: 364 | Train Loss: 1.272 | Train Acc: 77.11% | Val. Loss: 1.476 | Val. Acc: 57.50% | Val. Precision: 53.177 | Val. Recall: 57.500 | Val. F1-score: 52.542 |\n"
     ]
    },
    {
     "data": {
      "application/vnd.jupyter.widget-view+json": {
       "model_id": "fbc6544942954d9dba9471ee9ac40356",
       "version_major": 2,
       "version_minor": 0
      },
      "text/plain": [
       "  0%|          | 0/320 [00:00<?, ?it/s]"
      ]
     },
     "metadata": {},
     "output_type": "display_data"
    },
    {
     "name": "stdout",
     "output_type": "stream",
     "text": [
      "| Epoch: 365 | Train Loss: 1.272 | Train Acc: 77.11% | Val. Loss: 1.482 | Val. Acc: 55.62% | Val. Precision: 49.375 | Val. Recall: 55.625 | Val. F1-score: 49.815 |\n"
     ]
    },
    {
     "data": {
      "application/vnd.jupyter.widget-view+json": {
       "model_id": "4fbe0f3ffa81451bbc044e1cfd7342ba",
       "version_major": 2,
       "version_minor": 0
      },
      "text/plain": [
       "  0%|          | 0/320 [00:00<?, ?it/s]"
      ]
     },
     "metadata": {},
     "output_type": "display_data"
    },
    {
     "name": "stdout",
     "output_type": "stream",
     "text": [
      "| Epoch: 366 | Train Loss: 1.271 | Train Acc: 77.19% | Val. Loss: 1.478 | Val. Acc: 56.88% | Val. Precision: 51.719 | Val. Recall: 56.875 | Val. F1-score: 51.542 |\n"
     ]
    },
    {
     "data": {
      "application/vnd.jupyter.widget-view+json": {
       "model_id": "2ca0fe3e49604832aeb8fa4ca8e3dd49",
       "version_major": 2,
       "version_minor": 0
      },
      "text/plain": [
       "  0%|          | 0/320 [00:00<?, ?it/s]"
      ]
     },
     "metadata": {},
     "output_type": "display_data"
    },
    {
     "name": "stdout",
     "output_type": "stream",
     "text": [
      "| Epoch: 367 | Train Loss: 1.276 | Train Acc: 76.72% | Val. Loss: 1.498 | Val. Acc: 55.00% | Val. Precision: 48.542 | Val. Recall: 55.000 | Val. F1-score: 49.024 |\n"
     ]
    },
    {
     "data": {
      "application/vnd.jupyter.widget-view+json": {
       "model_id": "6b360fe52ebe4c899cf1d7ae52479875",
       "version_major": 2,
       "version_minor": 0
      },
      "text/plain": [
       "  0%|          | 0/320 [00:00<?, ?it/s]"
      ]
     },
     "metadata": {},
     "output_type": "display_data"
    },
    {
     "name": "stdout",
     "output_type": "stream",
     "text": [
      "| Epoch: 368 | Train Loss: 1.287 | Train Acc: 75.78% | Val. Loss: 1.488 | Val. Acc: 55.00% | Val. Precision: 50.052 | Val. Recall: 55.000 | Val. F1-score: 50.000 |\n"
     ]
    },
    {
     "data": {
      "application/vnd.jupyter.widget-view+json": {
       "model_id": "c1acebb0b68d4d9b83105b6c0bd0602a",
       "version_major": 2,
       "version_minor": 0
      },
      "text/plain": [
       "  0%|          | 0/320 [00:00<?, ?it/s]"
      ]
     },
     "metadata": {},
     "output_type": "display_data"
    },
    {
     "name": "stdout",
     "output_type": "stream",
     "text": [
      "| Epoch: 369 | Train Loss: 1.289 | Train Acc: 75.55% | Val. Loss: 1.450 | Val. Acc: 58.75% | Val. Precision: 56.875 | Val. Recall: 58.750 | Val. F1-score: 54.771 |\n"
     ]
    },
    {
     "data": {
      "application/vnd.jupyter.widget-view+json": {
       "model_id": "de2dbc8b98e043e09eb6198bb9bed769",
       "version_major": 2,
       "version_minor": 0
      },
      "text/plain": [
       "  0%|          | 0/320 [00:00<?, ?it/s]"
      ]
     },
     "metadata": {},
     "output_type": "display_data"
    },
    {
     "name": "stdout",
     "output_type": "stream",
     "text": [
      "| Epoch: 370 | Train Loss: 1.279 | Train Acc: 76.48% | Val. Loss: 1.496 | Val. Acc: 53.75% | Val. Precision: 50.573 | Val. Recall: 53.750 | Val. F1-score: 49.417 |\n"
     ]
    },
    {
     "data": {
      "application/vnd.jupyter.widget-view+json": {
       "model_id": "9e34668ef7a84bc79635586c1fe1ad24",
       "version_major": 2,
       "version_minor": 0
      },
      "text/plain": [
       "  0%|          | 0/320 [00:00<?, ?it/s]"
      ]
     },
     "metadata": {},
     "output_type": "display_data"
    },
    {
     "name": "stdout",
     "output_type": "stream",
     "text": [
      "| Epoch: 371 | Train Loss: 1.267 | Train Acc: 77.50% | Val. Loss: 1.468 | Val. Acc: 57.50% | Val. Precision: 53.021 | Val. Recall: 57.500 | Val. F1-score: 52.503 |\n"
     ]
    },
    {
     "data": {
      "application/vnd.jupyter.widget-view+json": {
       "model_id": "b723cf83fb2f4b8d9629dcd10c6e3374",
       "version_major": 2,
       "version_minor": 0
      },
      "text/plain": [
       "  0%|          | 0/320 [00:00<?, ?it/s]"
      ]
     },
     "metadata": {},
     "output_type": "display_data"
    },
    {
     "name": "stdout",
     "output_type": "stream",
     "text": [
      "| Epoch: 372 | Train Loss: 1.268 | Train Acc: 77.50% | Val. Loss: 1.489 | Val. Acc: 55.62% | Val. Precision: 50.625 | Val. Recall: 55.625 | Val. F1-score: 50.399 |\n"
     ]
    },
    {
     "data": {
      "application/vnd.jupyter.widget-view+json": {
       "model_id": "9649ed8aa845415ba119fbaf04369006",
       "version_major": 2,
       "version_minor": 0
      },
      "text/plain": [
       "  0%|          | 0/320 [00:00<?, ?it/s]"
      ]
     },
     "metadata": {},
     "output_type": "display_data"
    },
    {
     "name": "stdout",
     "output_type": "stream",
     "text": [
      "| Epoch: 373 | Train Loss: 1.265 | Train Acc: 77.89% | Val. Loss: 1.474 | Val. Acc: 56.88% | Val. Precision: 52.969 | Val. Recall: 56.875 | Val. F1-score: 52.229 |\n"
     ]
    },
    {
     "data": {
      "application/vnd.jupyter.widget-view+json": {
       "model_id": "03441b373f6b4cdf87aff35e6bbe7323",
       "version_major": 2,
       "version_minor": 0
      },
      "text/plain": [
       "  0%|          | 0/320 [00:00<?, ?it/s]"
      ]
     },
     "metadata": {},
     "output_type": "display_data"
    },
    {
     "name": "stdout",
     "output_type": "stream",
     "text": [
      "| Epoch: 374 | Train Loss: 1.265 | Train Acc: 77.81% | Val. Loss: 1.470 | Val. Acc: 56.88% | Val. Precision: 52.760 | Val. Recall: 56.875 | Val. F1-score: 51.896 |\n"
     ]
    },
    {
     "data": {
      "application/vnd.jupyter.widget-view+json": {
       "model_id": "740d72b7efed4473b9afdab62079c6a7",
       "version_major": 2,
       "version_minor": 0
      },
      "text/plain": [
       "  0%|          | 0/320 [00:00<?, ?it/s]"
      ]
     },
     "metadata": {},
     "output_type": "display_data"
    },
    {
     "name": "stdout",
     "output_type": "stream",
     "text": [
      "| Epoch: 375 | Train Loss: 1.267 | Train Acc: 77.73% | Val. Loss: 1.479 | Val. Acc: 56.25% | Val. Precision: 52.187 | Val. Recall: 56.250 | Val. F1-score: 51.479 |\n"
     ]
    },
    {
     "data": {
      "application/vnd.jupyter.widget-view+json": {
       "model_id": "c5aa8b481fb7444f94249f4322c451af",
       "version_major": 2,
       "version_minor": 0
      },
      "text/plain": [
       "  0%|          | 0/320 [00:00<?, ?it/s]"
      ]
     },
     "metadata": {},
     "output_type": "display_data"
    },
    {
     "name": "stdout",
     "output_type": "stream",
     "text": [
      "| Epoch: 376 | Train Loss: 1.264 | Train Acc: 77.89% | Val. Loss: 1.481 | Val. Acc: 55.62% | Val. Precision: 51.510 | Val. Recall: 55.625 | Val. F1-score: 50.812 |\n"
     ]
    },
    {
     "data": {
      "application/vnd.jupyter.widget-view+json": {
       "model_id": "b193705d2522479bbc58555698f84977",
       "version_major": 2,
       "version_minor": 0
      },
      "text/plain": [
       "  0%|          | 0/320 [00:00<?, ?it/s]"
      ]
     },
     "metadata": {},
     "output_type": "display_data"
    },
    {
     "name": "stdout",
     "output_type": "stream",
     "text": [
      "| Epoch: 377 | Train Loss: 1.262 | Train Acc: 78.12% | Val. Loss: 1.520 | Val. Acc: 51.88% | Val. Precision: 47.760 | Val. Recall: 51.875 | Val. F1-score: 47.000 |\n"
     ]
    },
    {
     "data": {
      "application/vnd.jupyter.widget-view+json": {
       "model_id": "b287286cf7d44f569b4bf7f7f8c87d1c",
       "version_major": 2,
       "version_minor": 0
      },
      "text/plain": [
       "  0%|          | 0/320 [00:00<?, ?it/s]"
      ]
     },
     "metadata": {},
     "output_type": "display_data"
    },
    {
     "name": "stdout",
     "output_type": "stream",
     "text": [
      "| Epoch: 378 | Train Loss: 1.262 | Train Acc: 78.20% | Val. Loss: 1.474 | Val. Acc: 56.88% | Val. Precision: 52.604 | Val. Recall: 56.875 | Val. F1-score: 51.982 |\n"
     ]
    },
    {
     "data": {
      "application/vnd.jupyter.widget-view+json": {
       "model_id": "1b999c4fb6e74c59aa9c82c9524d79d1",
       "version_major": 2,
       "version_minor": 0
      },
      "text/plain": [
       "  0%|          | 0/320 [00:00<?, ?it/s]"
      ]
     },
     "metadata": {},
     "output_type": "display_data"
    },
    {
     "name": "stdout",
     "output_type": "stream",
     "text": [
      "| Epoch: 379 | Train Loss: 1.257 | Train Acc: 78.83% | Val. Loss: 1.472 | Val. Acc: 56.88% | Val. Precision: 51.146 | Val. Recall: 56.875 | Val. F1-score: 51.482 |\n"
     ]
    },
    {
     "data": {
      "application/vnd.jupyter.widget-view+json": {
       "model_id": "33947c9047c4433ca87cebcad6ca9b76",
       "version_major": 2,
       "version_minor": 0
      },
      "text/plain": [
       "  0%|          | 0/320 [00:00<?, ?it/s]"
      ]
     },
     "metadata": {},
     "output_type": "display_data"
    },
    {
     "name": "stdout",
     "output_type": "stream",
     "text": [
      "| Epoch: 380 | Train Loss: 1.252 | Train Acc: 79.14% | Val. Loss: 1.462 | Val. Acc: 58.13% | Val. Precision: 53.333 | Val. Recall: 58.125 | Val. F1-score: 53.357 |\n"
     ]
    },
    {
     "data": {
      "application/vnd.jupyter.widget-view+json": {
       "model_id": "2cceb2769e624786a50349983036a72c",
       "version_major": 2,
       "version_minor": 0
      },
      "text/plain": [
       "  0%|          | 0/320 [00:00<?, ?it/s]"
      ]
     },
     "metadata": {},
     "output_type": "display_data"
    },
    {
     "name": "stdout",
     "output_type": "stream",
     "text": [
      "| Epoch: 381 | Train Loss: 1.255 | Train Acc: 78.91% | Val. Loss: 1.458 | Val. Acc: 58.75% | Val. Precision: 55.104 | Val. Recall: 58.750 | Val. F1-score: 54.065 |\n"
     ]
    },
    {
     "data": {
      "application/vnd.jupyter.widget-view+json": {
       "model_id": "4a7d2c0953184910bd992c084ac68d59",
       "version_major": 2,
       "version_minor": 0
      },
      "text/plain": [
       "  0%|          | 0/320 [00:00<?, ?it/s]"
      ]
     },
     "metadata": {},
     "output_type": "display_data"
    },
    {
     "name": "stdout",
     "output_type": "stream",
     "text": [
      "| Epoch: 382 | Train Loss: 1.253 | Train Acc: 78.98% | Val. Loss: 1.471 | Val. Acc: 57.50% | Val. Precision: 52.708 | Val. Recall: 57.500 | Val. F1-score: 52.670 |\n"
     ]
    },
    {
     "data": {
      "application/vnd.jupyter.widget-view+json": {
       "model_id": "016d615183434c538803691d64178b33",
       "version_major": 2,
       "version_minor": 0
      },
      "text/plain": [
       "  0%|          | 0/320 [00:00<?, ?it/s]"
      ]
     },
     "metadata": {},
     "output_type": "display_data"
    },
    {
     "name": "stdout",
     "output_type": "stream",
     "text": [
      "| Epoch: 383 | Train Loss: 1.260 | Train Acc: 78.28% | Val. Loss: 1.449 | Val. Acc: 59.38% | Val. Precision: 58.125 | Val. Recall: 59.375 | Val. F1-score: 55.792 |\n"
     ]
    },
    {
     "data": {
      "application/vnd.jupyter.widget-view+json": {
       "model_id": "f05e3fffcc6f4f8896a7ef84920130eb",
       "version_major": 2,
       "version_minor": 0
      },
      "text/plain": [
       "  0%|          | 0/320 [00:00<?, ?it/s]"
      ]
     },
     "metadata": {},
     "output_type": "display_data"
    },
    {
     "name": "stdout",
     "output_type": "stream",
     "text": [
      "| Epoch: 384 | Train Loss: 1.260 | Train Acc: 78.52% | Val. Loss: 1.450 | Val. Acc: 59.38% | Val. Precision: 55.729 | Val. Recall: 59.375 | Val. F1-score: 54.667 |\n"
     ]
    },
    {
     "data": {
      "application/vnd.jupyter.widget-view+json": {
       "model_id": "4bc2c57e376c48c6bc515c3b2d61343d",
       "version_major": 2,
       "version_minor": 0
      },
      "text/plain": [
       "  0%|          | 0/320 [00:00<?, ?it/s]"
      ]
     },
     "metadata": {},
     "output_type": "display_data"
    },
    {
     "name": "stdout",
     "output_type": "stream",
     "text": [
      "| Epoch: 385 | Train Loss: 1.261 | Train Acc: 78.28% | Val. Loss: 1.458 | Val. Acc: 57.50% | Val. Precision: 55.417 | Val. Recall: 57.500 | Val. F1-score: 53.292 |\n"
     ]
    },
    {
     "data": {
      "application/vnd.jupyter.widget-view+json": {
       "model_id": "bbde3ed78efd4a26a1d0523f79e4b833",
       "version_major": 2,
       "version_minor": 0
      },
      "text/plain": [
       "  0%|          | 0/320 [00:00<?, ?it/s]"
      ]
     },
     "metadata": {},
     "output_type": "display_data"
    },
    {
     "name": "stdout",
     "output_type": "stream",
     "text": [
      "| Epoch: 386 | Train Loss: 1.263 | Train Acc: 78.12% | Val. Loss: 1.476 | Val. Acc: 56.88% | Val. Precision: 53.646 | Val. Recall: 56.875 | Val. F1-score: 52.065 |\n"
     ]
    },
    {
     "data": {
      "application/vnd.jupyter.widget-view+json": {
       "model_id": "ff61635397fe4c979bfdb1bf5dee74bc",
       "version_major": 2,
       "version_minor": 0
      },
      "text/plain": [
       "  0%|          | 0/320 [00:00<?, ?it/s]"
      ]
     },
     "metadata": {},
     "output_type": "display_data"
    },
    {
     "name": "stdout",
     "output_type": "stream",
     "text": [
      "| Epoch: 387 | Train Loss: 1.256 | Train Acc: 78.83% | Val. Loss: 1.468 | Val. Acc: 58.13% | Val. Precision: 54.271 | Val. Recall: 58.125 | Val. F1-score: 53.253 |\n"
     ]
    },
    {
     "data": {
      "application/vnd.jupyter.widget-view+json": {
       "model_id": "52940abdfa384a01bdfb8916969c5702",
       "version_major": 2,
       "version_minor": 0
      },
      "text/plain": [
       "  0%|          | 0/320 [00:00<?, ?it/s]"
      ]
     },
     "metadata": {},
     "output_type": "display_data"
    },
    {
     "name": "stdout",
     "output_type": "stream",
     "text": [
      "| Epoch: 388 | Train Loss: 1.254 | Train Acc: 78.98% | Val. Loss: 1.465 | Val. Acc: 57.50% | Val. Precision: 54.115 | Val. Recall: 57.500 | Val. F1-score: 52.628 |\n"
     ]
    },
    {
     "data": {
      "application/vnd.jupyter.widget-view+json": {
       "model_id": "09d0490ed4f7478c9ca4846d7c128567",
       "version_major": 2,
       "version_minor": 0
      },
      "text/plain": [
       "  0%|          | 0/320 [00:00<?, ?it/s]"
      ]
     },
     "metadata": {},
     "output_type": "display_data"
    },
    {
     "name": "stdout",
     "output_type": "stream",
     "text": [
      "| Epoch: 389 | Train Loss: 1.254 | Train Acc: 78.98% | Val. Loss: 1.473 | Val. Acc: 56.88% | Val. Precision: 54.115 | Val. Recall: 56.875 | Val. F1-score: 52.167 |\n"
     ]
    },
    {
     "data": {
      "application/vnd.jupyter.widget-view+json": {
       "model_id": "670401a498a94eae972648f18cba7aae",
       "version_major": 2,
       "version_minor": 0
      },
      "text/plain": [
       "  0%|          | 0/320 [00:00<?, ?it/s]"
      ]
     },
     "metadata": {},
     "output_type": "display_data"
    },
    {
     "name": "stdout",
     "output_type": "stream",
     "text": [
      "| Epoch: 390 | Train Loss: 1.252 | Train Acc: 79.22% | Val. Loss: 1.467 | Val. Acc: 55.62% | Val. Precision: 52.448 | Val. Recall: 55.625 | Val. F1-score: 51.062 |\n"
     ]
    },
    {
     "data": {
      "application/vnd.jupyter.widget-view+json": {
       "model_id": "6fdc5cb35b3840019d29a1615aff41bf",
       "version_major": 2,
       "version_minor": 0
      },
      "text/plain": [
       "  0%|          | 0/320 [00:00<?, ?it/s]"
      ]
     },
     "metadata": {},
     "output_type": "display_data"
    },
    {
     "name": "stdout",
     "output_type": "stream",
     "text": [
      "| Epoch: 391 | Train Loss: 1.256 | Train Acc: 78.91% | Val. Loss: 1.467 | Val. Acc: 56.25% | Val. Precision: 53.281 | Val. Recall: 56.250 | Val. F1-score: 51.583 |\n"
     ]
    },
    {
     "data": {
      "application/vnd.jupyter.widget-view+json": {
       "model_id": "a699c66ed87245108016e3eb389374e8",
       "version_major": 2,
       "version_minor": 0
      },
      "text/plain": [
       "  0%|          | 0/320 [00:00<?, ?it/s]"
      ]
     },
     "metadata": {},
     "output_type": "display_data"
    },
    {
     "name": "stdout",
     "output_type": "stream",
     "text": [
      "| Epoch: 392 | Train Loss: 1.253 | Train Acc: 79.06% | Val. Loss: 1.454 | Val. Acc: 59.38% | Val. Precision: 56.250 | Val. Recall: 59.375 | Val. F1-score: 54.417 |\n"
     ]
    },
    {
     "data": {
      "application/vnd.jupyter.widget-view+json": {
       "model_id": "5665f92cf8ae4ceb9f2994edba035c40",
       "version_major": 2,
       "version_minor": 0
      },
      "text/plain": [
       "  0%|          | 0/320 [00:00<?, ?it/s]"
      ]
     },
     "metadata": {},
     "output_type": "display_data"
    },
    {
     "name": "stdout",
     "output_type": "stream",
     "text": [
      "| Epoch: 393 | Train Loss: 1.254 | Train Acc: 79.06% | Val. Loss: 1.451 | Val. Acc: 59.38% | Val. Precision: 56.563 | Val. Recall: 59.375 | Val. F1-score: 55.042 |\n"
     ]
    },
    {
     "data": {
      "application/vnd.jupyter.widget-view+json": {
       "model_id": "33306187a2b547d3abc80ccc9ce8e000",
       "version_major": 2,
       "version_minor": 0
      },
      "text/plain": [
       "  0%|          | 0/320 [00:00<?, ?it/s]"
      ]
     },
     "metadata": {},
     "output_type": "display_data"
    },
    {
     "name": "stdout",
     "output_type": "stream",
     "text": [
      "| Epoch: 394 | Train Loss: 1.257 | Train Acc: 78.59% | Val. Loss: 1.455 | Val. Acc: 58.75% | Val. Precision: 54.375 | Val. Recall: 58.750 | Val. F1-score: 53.437 |\n"
     ]
    },
    {
     "data": {
      "application/vnd.jupyter.widget-view+json": {
       "model_id": "7c2e40d756fa4321bc73fb9bf9fedfa4",
       "version_major": 2,
       "version_minor": 0
      },
      "text/plain": [
       "  0%|          | 0/320 [00:00<?, ?it/s]"
      ]
     },
     "metadata": {},
     "output_type": "display_data"
    },
    {
     "name": "stdout",
     "output_type": "stream",
     "text": [
      "| Epoch: 395 | Train Loss: 1.247 | Train Acc: 79.61% | Val. Loss: 1.464 | Val. Acc: 57.50% | Val. Precision: 52.812 | Val. Recall: 57.500 | Val. F1-score: 52.378 |\n"
     ]
    },
    {
     "data": {
      "application/vnd.jupyter.widget-view+json": {
       "model_id": "b1b10d71e7944faf837fbea2eb270d6c",
       "version_major": 2,
       "version_minor": 0
      },
      "text/plain": [
       "  0%|          | 0/320 [00:00<?, ?it/s]"
      ]
     },
     "metadata": {},
     "output_type": "display_data"
    },
    {
     "name": "stdout",
     "output_type": "stream",
     "text": [
      "| Epoch: 396 | Train Loss: 1.243 | Train Acc: 80.00% | Val. Loss: 1.460 | Val. Acc: 58.13% | Val. Precision: 53.281 | Val. Recall: 58.125 | Val. F1-score: 53.000 |\n"
     ]
    },
    {
     "data": {
      "application/vnd.jupyter.widget-view+json": {
       "model_id": "68b542be007a4ec9bcff52dd98fde165",
       "version_major": 2,
       "version_minor": 0
      },
      "text/plain": [
       "  0%|          | 0/320 [00:00<?, ?it/s]"
      ]
     },
     "metadata": {},
     "output_type": "display_data"
    },
    {
     "name": "stdout",
     "output_type": "stream",
     "text": [
      "| Epoch: 397 | Train Loss: 1.246 | Train Acc: 79.92% | Val. Loss: 1.460 | Val. Acc: 58.13% | Val. Precision: 53.281 | Val. Recall: 58.125 | Val. F1-score: 53.000 |\n"
     ]
    },
    {
     "data": {
      "application/vnd.jupyter.widget-view+json": {
       "model_id": "508205443f29441386caaab8ef8d32c9",
       "version_major": 2,
       "version_minor": 0
      },
      "text/plain": [
       "  0%|          | 0/320 [00:00<?, ?it/s]"
      ]
     },
     "metadata": {},
     "output_type": "display_data"
    },
    {
     "name": "stdout",
     "output_type": "stream",
     "text": [
      "| Epoch: 398 | Train Loss: 1.240 | Train Acc: 80.31% | Val. Loss: 1.444 | Val. Acc: 60.00% | Val. Precision: 54.792 | Val. Recall: 60.000 | Val. F1-score: 54.896 |\n"
     ]
    },
    {
     "data": {
      "application/vnd.jupyter.widget-view+json": {
       "model_id": "345c84fc034c48988e5853e2278724ac",
       "version_major": 2,
       "version_minor": 0
      },
      "text/plain": [
       "  0%|          | 0/320 [00:00<?, ?it/s]"
      ]
     },
     "metadata": {},
     "output_type": "display_data"
    },
    {
     "name": "stdout",
     "output_type": "stream",
     "text": [
      "| Epoch: 399 | Train Loss: 1.242 | Train Acc: 80.16% | Val. Loss: 1.448 | Val. Acc: 60.00% | Val. Precision: 55.729 | Val. Recall: 60.000 | Val. F1-score: 55.083 |\n"
     ]
    },
    {
     "data": {
      "application/vnd.jupyter.widget-view+json": {
       "model_id": "a6aca438ab3342caa95699b43f4f7820",
       "version_major": 2,
       "version_minor": 0
      },
      "text/plain": [
       "  0%|          | 0/320 [00:00<?, ?it/s]"
      ]
     },
     "metadata": {},
     "output_type": "display_data"
    },
    {
     "name": "stdout",
     "output_type": "stream",
     "text": [
      "| Epoch: 400 | Train Loss: 1.241 | Train Acc: 80.31% | Val. Loss: 1.471 | Val. Acc: 57.50% | Val. Precision: 53.333 | Val. Recall: 57.500 | Val. F1-score: 52.149 |\n"
     ]
    },
    {
     "data": {
      "application/vnd.jupyter.widget-view+json": {
       "model_id": "c2f8be2d645541228f3b517e95215b50",
       "version_major": 2,
       "version_minor": 0
      },
      "text/plain": [
       "  0%|          | 0/320 [00:00<?, ?it/s]"
      ]
     },
     "metadata": {},
     "output_type": "display_data"
    },
    {
     "name": "stdout",
     "output_type": "stream",
     "text": [
      "| Epoch: 401 | Train Loss: 1.246 | Train Acc: 79.92% | Val. Loss: 1.470 | Val. Acc: 57.50% | Val. Precision: 53.698 | Val. Recall: 57.500 | Val. F1-score: 52.271 |\n"
     ]
    },
    {
     "data": {
      "application/vnd.jupyter.widget-view+json": {
       "model_id": "a5e5d314316d407eacbbff930788fbb9",
       "version_major": 2,
       "version_minor": 0
      },
      "text/plain": [
       "  0%|          | 0/320 [00:00<?, ?it/s]"
      ]
     },
     "metadata": {},
     "output_type": "display_data"
    },
    {
     "name": "stdout",
     "output_type": "stream",
     "text": [
      "| Epoch: 402 | Train Loss: 1.245 | Train Acc: 79.92% | Val. Loss: 1.451 | Val. Acc: 58.75% | Val. Precision: 54.479 | Val. Recall: 58.750 | Val. F1-score: 53.482 |\n"
     ]
    },
    {
     "data": {
      "application/vnd.jupyter.widget-view+json": {
       "model_id": "cc3c91965fa649a9b4f58432f87e7380",
       "version_major": 2,
       "version_minor": 0
      },
      "text/plain": [
       "  0%|          | 0/320 [00:00<?, ?it/s]"
      ]
     },
     "metadata": {},
     "output_type": "display_data"
    },
    {
     "name": "stdout",
     "output_type": "stream",
     "text": [
      "| Epoch: 403 | Train Loss: 1.243 | Train Acc: 80.23% | Val. Loss: 1.454 | Val. Acc: 58.13% | Val. Precision: 54.375 | Val. Recall: 58.125 | Val. F1-score: 53.229 |\n"
     ]
    },
    {
     "data": {
      "application/vnd.jupyter.widget-view+json": {
       "model_id": "a6aed3d3c8ce4e61bb75e064d363bd19",
       "version_major": 2,
       "version_minor": 0
      },
      "text/plain": [
       "  0%|          | 0/320 [00:00<?, ?it/s]"
      ]
     },
     "metadata": {},
     "output_type": "display_data"
    },
    {
     "name": "stdout",
     "output_type": "stream",
     "text": [
      "| Epoch: 404 | Train Loss: 1.242 | Train Acc: 80.31% | Val. Loss: 1.452 | Val. Acc: 58.75% | Val. Precision: 53.958 | Val. Recall: 58.750 | Val. F1-score: 53.896 |\n"
     ]
    },
    {
     "data": {
      "application/vnd.jupyter.widget-view+json": {
       "model_id": "35e22b941a814063b2d3328c46416887",
       "version_major": 2,
       "version_minor": 0
      },
      "text/plain": [
       "  0%|          | 0/320 [00:00<?, ?it/s]"
      ]
     },
     "metadata": {},
     "output_type": "display_data"
    },
    {
     "name": "stdout",
     "output_type": "stream",
     "text": [
      "| Epoch: 405 | Train Loss: 1.247 | Train Acc: 80.08% | Val. Loss: 1.479 | Val. Acc: 56.88% | Val. Precision: 53.437 | Val. Recall: 56.875 | Val. F1-score: 51.982 |\n"
     ]
    },
    {
     "data": {
      "application/vnd.jupyter.widget-view+json": {
       "model_id": "f0e4074a29f34a19bfe9752889b6ed91",
       "version_major": 2,
       "version_minor": 0
      },
      "text/plain": [
       "  0%|          | 0/320 [00:00<?, ?it/s]"
      ]
     },
     "metadata": {},
     "output_type": "display_data"
    },
    {
     "name": "stdout",
     "output_type": "stream",
     "text": [
      "| Epoch: 406 | Train Loss: 1.255 | Train Acc: 78.83% | Val. Loss: 1.475 | Val. Acc: 56.88% | Val. Precision: 53.906 | Val. Recall: 56.875 | Val. F1-score: 53.310 |\n"
     ]
    },
    {
     "data": {
      "application/vnd.jupyter.widget-view+json": {
       "model_id": "a6cf40e5bd074640a47ad12de1d13f52",
       "version_major": 2,
       "version_minor": 0
      },
      "text/plain": [
       "  0%|          | 0/320 [00:00<?, ?it/s]"
      ]
     },
     "metadata": {},
     "output_type": "display_data"
    },
    {
     "name": "stdout",
     "output_type": "stream",
     "text": [
      "| Epoch: 407 | Train Loss: 1.256 | Train Acc: 78.75% | Val. Loss: 1.454 | Val. Acc: 60.00% | Val. Precision: 54.427 | Val. Recall: 60.000 | Val. F1-score: 54.461 |\n"
     ]
    },
    {
     "data": {
      "application/vnd.jupyter.widget-view+json": {
       "model_id": "8ac2ab2dcda64a6c9be5a3e84091a699",
       "version_major": 2,
       "version_minor": 0
      },
      "text/plain": [
       "  0%|          | 0/320 [00:00<?, ?it/s]"
      ]
     },
     "metadata": {},
     "output_type": "display_data"
    },
    {
     "name": "stdout",
     "output_type": "stream",
     "text": [
      "| Epoch: 408 | Train Loss: 1.239 | Train Acc: 80.55% | Val. Loss: 1.460 | Val. Acc: 57.50% | Val. Precision: 52.500 | Val. Recall: 57.500 | Val. F1-score: 52.378 |\n"
     ]
    },
    {
     "data": {
      "application/vnd.jupyter.widget-view+json": {
       "model_id": "1904fc97a97e460ab7f7e711a5412beb",
       "version_major": 2,
       "version_minor": 0
      },
      "text/plain": [
       "  0%|          | 0/320 [00:00<?, ?it/s]"
      ]
     },
     "metadata": {},
     "output_type": "display_data"
    },
    {
     "name": "stdout",
     "output_type": "stream",
     "text": [
      "| Epoch: 409 | Train Loss: 1.245 | Train Acc: 79.77% | Val. Loss: 1.427 | Val. Acc: 61.88% | Val. Precision: 57.552 | Val. Recall: 61.875 | Val. F1-score: 56.753 |\n"
     ]
    },
    {
     "data": {
      "application/vnd.jupyter.widget-view+json": {
       "model_id": "48d408f152a743eb9fd3c749500bd77c",
       "version_major": 2,
       "version_minor": 0
      },
      "text/plain": [
       "  0%|          | 0/320 [00:00<?, ?it/s]"
      ]
     },
     "metadata": {},
     "output_type": "display_data"
    },
    {
     "name": "stdout",
     "output_type": "stream",
     "text": [
      "| Epoch: 410 | Train Loss: 1.248 | Train Acc: 79.30% | Val. Loss: 1.443 | Val. Acc: 59.38% | Val. Precision: 53.333 | Val. Recall: 59.375 | Val. F1-score: 53.524 |\n"
     ]
    },
    {
     "data": {
      "application/vnd.jupyter.widget-view+json": {
       "model_id": "f4224463aac64300981b3eb906d425d3",
       "version_major": 2,
       "version_minor": 0
      },
      "text/plain": [
       "  0%|          | 0/320 [00:00<?, ?it/s]"
      ]
     },
     "metadata": {},
     "output_type": "display_data"
    },
    {
     "name": "stdout",
     "output_type": "stream",
     "text": [
      "| Epoch: 411 | Train Loss: 1.249 | Train Acc: 79.30% | Val. Loss: 1.461 | Val. Acc: 56.88% | Val. Precision: 50.781 | Val. Recall: 56.875 | Val. F1-score: 51.021 |\n"
     ]
    },
    {
     "data": {
      "application/vnd.jupyter.widget-view+json": {
       "model_id": "87ef9a229f894dfaa7a7f4d582ba182e",
       "version_major": 2,
       "version_minor": 0
      },
      "text/plain": [
       "  0%|          | 0/320 [00:00<?, ?it/s]"
      ]
     },
     "metadata": {},
     "output_type": "display_data"
    },
    {
     "name": "stdout",
     "output_type": "stream",
     "text": [
      "| Epoch: 412 | Train Loss: 1.245 | Train Acc: 80.00% | Val. Loss: 1.461 | Val. Acc: 58.13% | Val. Precision: 52.396 | Val. Recall: 58.125 | Val. F1-score: 52.274 |\n"
     ]
    },
    {
     "data": {
      "application/vnd.jupyter.widget-view+json": {
       "model_id": "a547999c4b2f4844a511994af1146e93",
       "version_major": 2,
       "version_minor": 0
      },
      "text/plain": [
       "  0%|          | 0/320 [00:00<?, ?it/s]"
      ]
     },
     "metadata": {},
     "output_type": "display_data"
    },
    {
     "name": "stdout",
     "output_type": "stream",
     "text": [
      "| Epoch: 413 | Train Loss: 1.238 | Train Acc: 80.55% | Val. Loss: 1.445 | Val. Acc: 60.00% | Val. Precision: 55.104 | Val. Recall: 60.000 | Val. F1-score: 54.732 |\n"
     ]
    },
    {
     "data": {
      "application/vnd.jupyter.widget-view+json": {
       "model_id": "5691a1c277574d4c8129f20083c627f7",
       "version_major": 2,
       "version_minor": 0
      },
      "text/plain": [
       "  0%|          | 0/320 [00:00<?, ?it/s]"
      ]
     },
     "metadata": {},
     "output_type": "display_data"
    },
    {
     "name": "stdout",
     "output_type": "stream",
     "text": [
      "| Epoch: 414 | Train Loss: 1.240 | Train Acc: 80.31% | Val. Loss: 1.464 | Val. Acc: 57.50% | Val. Precision: 52.031 | Val. Recall: 57.500 | Val. F1-score: 52.086 |\n"
     ]
    },
    {
     "data": {
      "application/vnd.jupyter.widget-view+json": {
       "model_id": "69cecefca24d4694985a1d7a13decbf1",
       "version_major": 2,
       "version_minor": 0
      },
      "text/plain": [
       "  0%|          | 0/320 [00:00<?, ?it/s]"
      ]
     },
     "metadata": {},
     "output_type": "display_data"
    },
    {
     "name": "stdout",
     "output_type": "stream",
     "text": [
      "| Epoch: 415 | Train Loss: 1.244 | Train Acc: 80.23% | Val. Loss: 1.460 | Val. Acc: 58.13% | Val. Precision: 53.958 | Val. Recall: 58.125 | Val. F1-score: 53.524 |\n"
     ]
    },
    {
     "data": {
      "application/vnd.jupyter.widget-view+json": {
       "model_id": "988b6bcee6e54026971ab5b479146767",
       "version_major": 2,
       "version_minor": 0
      },
      "text/plain": [
       "  0%|          | 0/320 [00:00<?, ?it/s]"
      ]
     },
     "metadata": {},
     "output_type": "display_data"
    },
    {
     "name": "stdout",
     "output_type": "stream",
     "text": [
      "| Epoch: 416 | Train Loss: 1.240 | Train Acc: 80.39% | Val. Loss: 1.440 | Val. Acc: 60.62% | Val. Precision: 56.458 | Val. Recall: 60.625 | Val. F1-score: 55.586 |\n"
     ]
    },
    {
     "data": {
      "application/vnd.jupyter.widget-view+json": {
       "model_id": "77eced86806b4923994474b19e18b4b7",
       "version_major": 2,
       "version_minor": 0
      },
      "text/plain": [
       "  0%|          | 0/320 [00:00<?, ?it/s]"
      ]
     },
     "metadata": {},
     "output_type": "display_data"
    },
    {
     "name": "stdout",
     "output_type": "stream",
     "text": [
      "| Epoch: 417 | Train Loss: 1.235 | Train Acc: 81.02% | Val. Loss: 1.439 | Val. Acc: 60.00% | Val. Precision: 55.625 | Val. Recall: 60.000 | Val. F1-score: 55.107 |\n"
     ]
    },
    {
     "data": {
      "application/vnd.jupyter.widget-view+json": {
       "model_id": "08728e542455444184bc66be0369028b",
       "version_major": 2,
       "version_minor": 0
      },
      "text/plain": [
       "  0%|          | 0/320 [00:00<?, ?it/s]"
      ]
     },
     "metadata": {},
     "output_type": "display_data"
    },
    {
     "name": "stdout",
     "output_type": "stream",
     "text": [
      "| Epoch: 418 | Train Loss: 1.231 | Train Acc: 81.17% | Val. Loss: 1.446 | Val. Acc: 59.38% | Val. Precision: 55.365 | Val. Recall: 59.375 | Val. F1-score: 54.667 |\n"
     ]
    },
    {
     "data": {
      "application/vnd.jupyter.widget-view+json": {
       "model_id": "75f7f6bc5f6e484c87b38578a7dc2911",
       "version_major": 2,
       "version_minor": 0
      },
      "text/plain": [
       "  0%|          | 0/320 [00:00<?, ?it/s]"
      ]
     },
     "metadata": {},
     "output_type": "display_data"
    },
    {
     "name": "stdout",
     "output_type": "stream",
     "text": [
      "| Epoch: 419 | Train Loss: 1.225 | Train Acc: 81.88% | Val. Loss: 1.449 | Val. Acc: 58.75% | Val. Precision: 54.740 | Val. Recall: 58.750 | Val. F1-score: 54.042 |\n"
     ]
    },
    {
     "data": {
      "application/vnd.jupyter.widget-view+json": {
       "model_id": "88adb7a1dab04ba5b71bc4f4d010d805",
       "version_major": 2,
       "version_minor": 0
      },
      "text/plain": [
       "  0%|          | 0/320 [00:00<?, ?it/s]"
      ]
     },
     "metadata": {},
     "output_type": "display_data"
    },
    {
     "name": "stdout",
     "output_type": "stream",
     "text": [
      "| Epoch: 420 | Train Loss: 1.226 | Train Acc: 81.88% | Val. Loss: 1.449 | Val. Acc: 58.75% | Val. Precision: 53.594 | Val. Recall: 58.750 | Val. F1-score: 53.336 |\n"
     ]
    },
    {
     "data": {
      "application/vnd.jupyter.widget-view+json": {
       "model_id": "7a5f49b68a1d452593252a9f12caaad2",
       "version_major": 2,
       "version_minor": 0
      },
      "text/plain": [
       "  0%|          | 0/320 [00:00<?, ?it/s]"
      ]
     },
     "metadata": {},
     "output_type": "display_data"
    },
    {
     "name": "stdout",
     "output_type": "stream",
     "text": [
      "| Epoch: 421 | Train Loss: 1.246 | Train Acc: 79.84% | Val. Loss: 1.451 | Val. Acc: 58.75% | Val. Precision: 55.000 | Val. Recall: 58.750 | Val. F1-score: 54.104 |\n"
     ]
    },
    {
     "data": {
      "application/vnd.jupyter.widget-view+json": {
       "model_id": "62f44d3e97794155985a5dbabc24b0ea",
       "version_major": 2,
       "version_minor": 0
      },
      "text/plain": [
       "  0%|          | 0/320 [00:00<?, ?it/s]"
      ]
     },
     "metadata": {},
     "output_type": "display_data"
    },
    {
     "name": "stdout",
     "output_type": "stream",
     "text": [
      "| Epoch: 422 | Train Loss: 1.241 | Train Acc: 80.39% | Val. Loss: 1.456 | Val. Acc: 58.75% | Val. Precision: 53.333 | Val. Recall: 58.750 | Val. F1-score: 53.149 |\n"
     ]
    },
    {
     "data": {
      "application/vnd.jupyter.widget-view+json": {
       "model_id": "68f168733e564c1bbb0dd040a6019366",
       "version_major": 2,
       "version_minor": 0
      },
      "text/plain": [
       "  0%|          | 0/320 [00:00<?, ?it/s]"
      ]
     },
     "metadata": {},
     "output_type": "display_data"
    },
    {
     "name": "stdout",
     "output_type": "stream",
     "text": [
      "| Epoch: 423 | Train Loss: 1.230 | Train Acc: 81.33% | Val. Loss: 1.438 | Val. Acc: 60.00% | Val. Precision: 55.260 | Val. Recall: 60.000 | Val. F1-score: 55.333 |\n"
     ]
    },
    {
     "data": {
      "application/vnd.jupyter.widget-view+json": {
       "model_id": "4f5fb1f168a44f47997961440f3c97cd",
       "version_major": 2,
       "version_minor": 0
      },
      "text/plain": [
       "  0%|          | 0/320 [00:00<?, ?it/s]"
      ]
     },
     "metadata": {},
     "output_type": "display_data"
    },
    {
     "name": "stdout",
     "output_type": "stream",
     "text": [
      "| Epoch: 424 | Train Loss: 1.228 | Train Acc: 81.48% | Val. Loss: 1.438 | Val. Acc: 59.38% | Val. Precision: 55.990 | Val. Recall: 59.375 | Val. F1-score: 55.437 |\n"
     ]
    },
    {
     "data": {
      "application/vnd.jupyter.widget-view+json": {
       "model_id": "fc60a24ed2f34e179c645c56f79953f7",
       "version_major": 2,
       "version_minor": 0
      },
      "text/plain": [
       "  0%|          | 0/320 [00:00<?, ?it/s]"
      ]
     },
     "metadata": {},
     "output_type": "display_data"
    },
    {
     "name": "stdout",
     "output_type": "stream",
     "text": [
      "| Epoch: 425 | Train Loss: 1.230 | Train Acc: 81.48% | Val. Loss: 1.441 | Val. Acc: 60.00% | Val. Precision: 55.521 | Val. Recall: 60.000 | Val. F1-score: 55.295 |\n"
     ]
    },
    {
     "data": {
      "application/vnd.jupyter.widget-view+json": {
       "model_id": "7d562b18ec904b268d2dfc3f73fa2c09",
       "version_major": 2,
       "version_minor": 0
      },
      "text/plain": [
       "  0%|          | 0/320 [00:00<?, ?it/s]"
      ]
     },
     "metadata": {},
     "output_type": "display_data"
    },
    {
     "name": "stdout",
     "output_type": "stream",
     "text": [
      "| Epoch: 426 | Train Loss: 1.228 | Train Acc: 81.56% | Val. Loss: 1.444 | Val. Acc: 59.38% | Val. Precision: 54.688 | Val. Recall: 59.375 | Val. F1-score: 54.670 |\n"
     ]
    },
    {
     "data": {
      "application/vnd.jupyter.widget-view+json": {
       "model_id": "17602e5c2a6e4d38a05fef78948b3f0f",
       "version_major": 2,
       "version_minor": 0
      },
      "text/plain": [
       "  0%|          | 0/320 [00:00<?, ?it/s]"
      ]
     },
     "metadata": {},
     "output_type": "display_data"
    },
    {
     "name": "stdout",
     "output_type": "stream",
     "text": [
      "| Epoch: 427 | Train Loss: 1.225 | Train Acc: 81.95% | Val. Loss: 1.436 | Val. Acc: 60.00% | Val. Precision: 55.104 | Val. Recall: 60.000 | Val. F1-score: 55.003 |\n"
     ]
    },
    {
     "data": {
      "application/vnd.jupyter.widget-view+json": {
       "model_id": "ab07c67448224a6e9d1830369d28c7ab",
       "version_major": 2,
       "version_minor": 0
      },
      "text/plain": [
       "  0%|          | 0/320 [00:00<?, ?it/s]"
      ]
     },
     "metadata": {},
     "output_type": "display_data"
    },
    {
     "name": "stdout",
     "output_type": "stream",
     "text": [
      "| Epoch: 428 | Train Loss: 1.223 | Train Acc: 82.19% | Val. Loss: 1.443 | Val. Acc: 59.38% | Val. Precision: 55.573 | Val. Recall: 59.375 | Val. F1-score: 55.170 |\n"
     ]
    },
    {
     "data": {
      "application/vnd.jupyter.widget-view+json": {
       "model_id": "bda4b366992848d6867bc38359729ac0",
       "version_major": 2,
       "version_minor": 0
      },
      "text/plain": [
       "  0%|          | 0/320 [00:00<?, ?it/s]"
      ]
     },
     "metadata": {},
     "output_type": "display_data"
    },
    {
     "name": "stdout",
     "output_type": "stream",
     "text": [
      "| Epoch: 429 | Train Loss: 1.224 | Train Acc: 82.03% | Val. Loss: 1.446 | Val. Acc: 60.00% | Val. Precision: 54.896 | Val. Recall: 60.000 | Val. F1-score: 54.836 |\n"
     ]
    },
    {
     "data": {
      "application/vnd.jupyter.widget-view+json": {
       "model_id": "5a1489692f46470eb3f04880e6f8fe96",
       "version_major": 2,
       "version_minor": 0
      },
      "text/plain": [
       "  0%|          | 0/320 [00:00<?, ?it/s]"
      ]
     },
     "metadata": {},
     "output_type": "display_data"
    },
    {
     "name": "stdout",
     "output_type": "stream",
     "text": [
      "| Epoch: 430 | Train Loss: 1.226 | Train Acc: 81.88% | Val. Loss: 1.468 | Val. Acc: 57.50% | Val. Precision: 54.167 | Val. Recall: 57.500 | Val. F1-score: 52.961 |\n"
     ]
    },
    {
     "data": {
      "application/vnd.jupyter.widget-view+json": {
       "model_id": "4512d03ac2074d10aa516213de652614",
       "version_major": 2,
       "version_minor": 0
      },
      "text/plain": [
       "  0%|          | 0/320 [00:00<?, ?it/s]"
      ]
     },
     "metadata": {},
     "output_type": "display_data"
    },
    {
     "name": "stdout",
     "output_type": "stream",
     "text": [
      "| Epoch: 431 | Train Loss: 1.231 | Train Acc: 81.25% | Val. Loss: 1.437 | Val. Acc: 61.25% | Val. Precision: 56.458 | Val. Recall: 61.250 | Val. F1-score: 56.542 |\n"
     ]
    },
    {
     "data": {
      "application/vnd.jupyter.widget-view+json": {
       "model_id": "00513eaec77948b39d405e0f27003686",
       "version_major": 2,
       "version_minor": 0
      },
      "text/plain": [
       "  0%|          | 0/320 [00:00<?, ?it/s]"
      ]
     },
     "metadata": {},
     "output_type": "display_data"
    },
    {
     "name": "stdout",
     "output_type": "stream",
     "text": [
      "| Epoch: 432 | Train Loss: 1.231 | Train Acc: 81.25% | Val. Loss: 1.435 | Val. Acc: 61.25% | Val. Precision: 56.719 | Val. Recall: 61.250 | Val. F1-score: 56.024 |\n"
     ]
    },
    {
     "data": {
      "application/vnd.jupyter.widget-view+json": {
       "model_id": "75e2d17392114a198a0011a6122019fa",
       "version_major": 2,
       "version_minor": 0
      },
      "text/plain": [
       "  0%|          | 0/320 [00:00<?, ?it/s]"
      ]
     },
     "metadata": {},
     "output_type": "display_data"
    },
    {
     "name": "stdout",
     "output_type": "stream",
     "text": [
      "| Epoch: 433 | Train Loss: 1.240 | Train Acc: 80.23% | Val. Loss: 1.455 | Val. Acc: 58.75% | Val. Precision: 55.104 | Val. Recall: 58.750 | Val. F1-score: 54.149 |\n"
     ]
    },
    {
     "data": {
      "application/vnd.jupyter.widget-view+json": {
       "model_id": "1a34ddd8661e4aefab9525fb6f458d8c",
       "version_major": 2,
       "version_minor": 0
      },
      "text/plain": [
       "  0%|          | 0/320 [00:00<?, ?it/s]"
      ]
     },
     "metadata": {},
     "output_type": "display_data"
    },
    {
     "name": "stdout",
     "output_type": "stream",
     "text": [
      "| Epoch: 434 | Train Loss: 1.233 | Train Acc: 81.33% | Val. Loss: 1.435 | Val. Acc: 60.00% | Val. Precision: 56.198 | Val. Recall: 60.000 | Val. F1-score: 55.458 |\n"
     ]
    },
    {
     "data": {
      "application/vnd.jupyter.widget-view+json": {
       "model_id": "9ddd6846936246599c891017eb2bcf45",
       "version_major": 2,
       "version_minor": 0
      },
      "text/plain": [
       "  0%|          | 0/320 [00:00<?, ?it/s]"
      ]
     },
     "metadata": {},
     "output_type": "display_data"
    },
    {
     "name": "stdout",
     "output_type": "stream",
     "text": [
      "| Epoch: 435 | Train Loss: 1.239 | Train Acc: 80.70% | Val. Loss: 1.446 | Val. Acc: 58.75% | Val. Precision: 56.042 | Val. Recall: 58.750 | Val. F1-score: 54.253 |\n"
     ]
    },
    {
     "data": {
      "application/vnd.jupyter.widget-view+json": {
       "model_id": "726388d0689b426b8244e28c41e70809",
       "version_major": 2,
       "version_minor": 0
      },
      "text/plain": [
       "  0%|          | 0/320 [00:00<?, ?it/s]"
      ]
     },
     "metadata": {},
     "output_type": "display_data"
    },
    {
     "name": "stdout",
     "output_type": "stream",
     "text": [
      "| Epoch: 436 | Train Loss: 1.228 | Train Acc: 81.72% | Val. Loss: 1.439 | Val. Acc: 60.00% | Val. Precision: 55.312 | Val. Recall: 60.000 | Val. F1-score: 54.899 |\n"
     ]
    },
    {
     "data": {
      "application/vnd.jupyter.widget-view+json": {
       "model_id": "e34919951b8b4cd4b9cc130245611219",
       "version_major": 2,
       "version_minor": 0
      },
      "text/plain": [
       "  0%|          | 0/320 [00:00<?, ?it/s]"
      ]
     },
     "metadata": {},
     "output_type": "display_data"
    },
    {
     "name": "stdout",
     "output_type": "stream",
     "text": [
      "| Epoch: 437 | Train Loss: 1.218 | Train Acc: 82.66% | Val. Loss: 1.413 | Val. Acc: 63.12% | Val. Precision: 58.125 | Val. Recall: 63.125 | Val. F1-score: 58.065 |\n"
     ]
    },
    {
     "data": {
      "application/vnd.jupyter.widget-view+json": {
       "model_id": "5d6539e9a46242c5967fb1302c39e809",
       "version_major": 2,
       "version_minor": 0
      },
      "text/plain": [
       "  0%|          | 0/320 [00:00<?, ?it/s]"
      ]
     },
     "metadata": {},
     "output_type": "display_data"
    },
    {
     "name": "stdout",
     "output_type": "stream",
     "text": [
      "| Epoch: 438 | Train Loss: 1.219 | Train Acc: 82.50% | Val. Loss: 1.435 | Val. Acc: 60.00% | Val. Precision: 54.271 | Val. Recall: 60.000 | Val. F1-score: 54.628 |\n"
     ]
    },
    {
     "data": {
      "application/vnd.jupyter.widget-view+json": {
       "model_id": "e684f28456754fbea872ee7a50cbb450",
       "version_major": 2,
       "version_minor": 0
      },
      "text/plain": [
       "  0%|          | 0/320 [00:00<?, ?it/s]"
      ]
     },
     "metadata": {},
     "output_type": "display_data"
    },
    {
     "name": "stdout",
     "output_type": "stream",
     "text": [
      "| Epoch: 439 | Train Loss: 1.227 | Train Acc: 81.64% | Val. Loss: 1.413 | Val. Acc: 62.50% | Val. Precision: 58.750 | Val. Recall: 62.500 | Val. F1-score: 57.836 |\n"
     ]
    },
    {
     "data": {
      "application/vnd.jupyter.widget-view+json": {
       "model_id": "83b25069c88b4b549bced61b0c80f76b",
       "version_major": 2,
       "version_minor": 0
      },
      "text/plain": [
       "  0%|          | 0/320 [00:00<?, ?it/s]"
      ]
     },
     "metadata": {},
     "output_type": "display_data"
    },
    {
     "name": "stdout",
     "output_type": "stream",
     "text": [
      "| Epoch: 440 | Train Loss: 1.224 | Train Acc: 82.19% | Val. Loss: 1.440 | Val. Acc: 59.38% | Val. Precision: 54.896 | Val. Recall: 59.375 | Val. F1-score: 54.190 |\n"
     ]
    },
    {
     "data": {
      "application/vnd.jupyter.widget-view+json": {
       "model_id": "3b48a1fbb7dc40f38798066a5955dcae",
       "version_major": 2,
       "version_minor": 0
      },
      "text/plain": [
       "  0%|          | 0/320 [00:00<?, ?it/s]"
      ]
     },
     "metadata": {},
     "output_type": "display_data"
    },
    {
     "name": "stdout",
     "output_type": "stream",
     "text": [
      "| Epoch: 441 | Train Loss: 1.217 | Train Acc: 82.73% | Val. Loss: 1.423 | Val. Acc: 61.25% | Val. Precision: 56.563 | Val. Recall: 61.250 | Val. F1-score: 56.357 |\n"
     ]
    },
    {
     "data": {
      "application/vnd.jupyter.widget-view+json": {
       "model_id": "91c4cd8e3c0d400ea0b6b6c4929fc743",
       "version_major": 2,
       "version_minor": 0
      },
      "text/plain": [
       "  0%|          | 0/320 [00:00<?, ?it/s]"
      ]
     },
     "metadata": {},
     "output_type": "display_data"
    },
    {
     "name": "stdout",
     "output_type": "stream",
     "text": [
      "| Epoch: 442 | Train Loss: 1.219 | Train Acc: 82.50% | Val. Loss: 1.406 | Val. Acc: 64.38% | Val. Precision: 59.531 | Val. Recall: 64.375 | Val. F1-score: 59.628 |\n"
     ]
    },
    {
     "data": {
      "application/vnd.jupyter.widget-view+json": {
       "model_id": "1f905c86ac81423f8588dbc178e20b2f",
       "version_major": 2,
       "version_minor": 0
      },
      "text/plain": [
       "  0%|          | 0/320 [00:00<?, ?it/s]"
      ]
     },
     "metadata": {},
     "output_type": "display_data"
    },
    {
     "name": "stdout",
     "output_type": "stream",
     "text": [
      "| Epoch: 443 | Train Loss: 1.218 | Train Acc: 82.58% | Val. Loss: 1.420 | Val. Acc: 63.12% | Val. Precision: 58.646 | Val. Recall: 63.125 | Val. F1-score: 58.399 |\n"
     ]
    },
    {
     "data": {
      "application/vnd.jupyter.widget-view+json": {
       "model_id": "f9252ea26222410db7ab49e4650d01a1",
       "version_major": 2,
       "version_minor": 0
      },
      "text/plain": [
       "  0%|          | 0/320 [00:00<?, ?it/s]"
      ]
     },
     "metadata": {},
     "output_type": "display_data"
    },
    {
     "name": "stdout",
     "output_type": "stream",
     "text": [
      "| Epoch: 444 | Train Loss: 1.212 | Train Acc: 83.20% | Val. Loss: 1.424 | Val. Acc: 62.50% | Val. Precision: 58.177 | Val. Recall: 62.500 | Val. F1-score: 57.878 |\n"
     ]
    },
    {
     "data": {
      "application/vnd.jupyter.widget-view+json": {
       "model_id": "fd77c4a867f4473baad83ac55474c953",
       "version_major": 2,
       "version_minor": 0
      },
      "text/plain": [
       "  0%|          | 0/320 [00:00<?, ?it/s]"
      ]
     },
     "metadata": {},
     "output_type": "display_data"
    },
    {
     "name": "stdout",
     "output_type": "stream",
     "text": [
      "| Epoch: 445 | Train Loss: 1.215 | Train Acc: 82.97% | Val. Loss: 1.444 | Val. Acc: 58.75% | Val. Precision: 52.812 | Val. Recall: 58.750 | Val. F1-score: 53.211 |\n"
     ]
    },
    {
     "data": {
      "application/vnd.jupyter.widget-view+json": {
       "model_id": "b6143bb1d3574e41b6a78c408cd80d85",
       "version_major": 2,
       "version_minor": 0
      },
      "text/plain": [
       "  0%|          | 0/320 [00:00<?, ?it/s]"
      ]
     },
     "metadata": {},
     "output_type": "display_data"
    },
    {
     "name": "stdout",
     "output_type": "stream",
     "text": [
      "| Epoch: 446 | Train Loss: 1.214 | Train Acc: 83.05% | Val. Loss: 1.431 | Val. Acc: 61.25% | Val. Precision: 56.146 | Val. Recall: 61.250 | Val. F1-score: 56.024 |\n"
     ]
    },
    {
     "data": {
      "application/vnd.jupyter.widget-view+json": {
       "model_id": "7334200334d34167bd6b97eef4690851",
       "version_major": 2,
       "version_minor": 0
      },
      "text/plain": [
       "  0%|          | 0/320 [00:00<?, ?it/s]"
      ]
     },
     "metadata": {},
     "output_type": "display_data"
    },
    {
     "name": "stdout",
     "output_type": "stream",
     "text": [
      "| Epoch: 447 | Train Loss: 1.213 | Train Acc: 82.97% | Val. Loss: 1.456 | Val. Acc: 57.50% | Val. Precision: 53.750 | Val. Recall: 57.500 | Val. F1-score: 52.649 |\n"
     ]
    },
    {
     "data": {
      "application/vnd.jupyter.widget-view+json": {
       "model_id": "7486e14d492440c090317f8101c8eced",
       "version_major": 2,
       "version_minor": 0
      },
      "text/plain": [
       "  0%|          | 0/320 [00:00<?, ?it/s]"
      ]
     },
     "metadata": {},
     "output_type": "display_data"
    },
    {
     "name": "stdout",
     "output_type": "stream",
     "text": [
      "| Epoch: 448 | Train Loss: 1.223 | Train Acc: 82.03% | Val. Loss: 1.425 | Val. Acc: 61.25% | Val. Precision: 57.396 | Val. Recall: 61.250 | Val. F1-score: 56.670 |\n"
     ]
    },
    {
     "data": {
      "application/vnd.jupyter.widget-view+json": {
       "model_id": "d3f1dfffa92647cfae717eb3740636b9",
       "version_major": 2,
       "version_minor": 0
      },
      "text/plain": [
       "  0%|          | 0/320 [00:00<?, ?it/s]"
      ]
     },
     "metadata": {},
     "output_type": "display_data"
    },
    {
     "name": "stdout",
     "output_type": "stream",
     "text": [
      "| Epoch: 449 | Train Loss: 1.218 | Train Acc: 82.73% | Val. Loss: 1.441 | Val. Acc: 59.38% | Val. Precision: 54.896 | Val. Recall: 59.375 | Val. F1-score: 54.503 |\n"
     ]
    },
    {
     "data": {
      "application/vnd.jupyter.widget-view+json": {
       "model_id": "2e11d3a1034845a99f15e87a755e3433",
       "version_major": 2,
       "version_minor": 0
      },
      "text/plain": [
       "  0%|          | 0/320 [00:00<?, ?it/s]"
      ]
     },
     "metadata": {},
     "output_type": "display_data"
    },
    {
     "name": "stdout",
     "output_type": "stream",
     "text": [
      "| Epoch: 450 | Train Loss: 1.243 | Train Acc: 80.39% | Val. Loss: 1.426 | Val. Acc: 61.88% | Val. Precision: 57.812 | Val. Recall: 61.875 | Val. F1-score: 56.961 |\n"
     ]
    },
    {
     "data": {
      "application/vnd.jupyter.widget-view+json": {
       "model_id": "67b293e496b84e4e9047053053f55eaa",
       "version_major": 2,
       "version_minor": 0
      },
      "text/plain": [
       "  0%|          | 0/320 [00:00<?, ?it/s]"
      ]
     },
     "metadata": {},
     "output_type": "display_data"
    },
    {
     "name": "stdout",
     "output_type": "stream",
     "text": [
      "| Epoch: 451 | Train Loss: 1.230 | Train Acc: 81.56% | Val. Loss: 1.431 | Val. Acc: 60.62% | Val. Precision: 55.521 | Val. Recall: 60.625 | Val. F1-score: 55.464 |\n"
     ]
    },
    {
     "data": {
      "application/vnd.jupyter.widget-view+json": {
       "model_id": "9ee5dec0ee7d4830880c2b45e2437c64",
       "version_major": 2,
       "version_minor": 0
      },
      "text/plain": [
       "  0%|          | 0/320 [00:00<?, ?it/s]"
      ]
     },
     "metadata": {},
     "output_type": "display_data"
    },
    {
     "name": "stdout",
     "output_type": "stream",
     "text": [
      "| Epoch: 452 | Train Loss: 1.236 | Train Acc: 80.70% | Val. Loss: 1.421 | Val. Acc: 62.50% | Val. Precision: 57.604 | Val. Recall: 62.500 | Val. F1-score: 57.673 |\n"
     ]
    },
    {
     "data": {
      "application/vnd.jupyter.widget-view+json": {
       "model_id": "800ae17dbd084eb3b19532f04f2539ba",
       "version_major": 2,
       "version_minor": 0
      },
      "text/plain": [
       "  0%|          | 0/320 [00:00<?, ?it/s]"
      ]
     },
     "metadata": {},
     "output_type": "display_data"
    },
    {
     "name": "stdout",
     "output_type": "stream",
     "text": [
      "| Epoch: 453 | Train Loss: 1.231 | Train Acc: 81.25% | Val. Loss: 1.448 | Val. Acc: 59.38% | Val. Precision: 57.292 | Val. Recall: 59.375 | Val. F1-score: 55.729 |\n"
     ]
    },
    {
     "data": {
      "application/vnd.jupyter.widget-view+json": {
       "model_id": "de601b61a00c48bca21417feab99ea88",
       "version_major": 2,
       "version_minor": 0
      },
      "text/plain": [
       "  0%|          | 0/320 [00:00<?, ?it/s]"
      ]
     },
     "metadata": {},
     "output_type": "display_data"
    },
    {
     "name": "stdout",
     "output_type": "stream",
     "text": [
      "| Epoch: 454 | Train Loss: 1.239 | Train Acc: 80.55% | Val. Loss: 1.450 | Val. Acc: 59.38% | Val. Precision: 54.531 | Val. Recall: 59.375 | Val. F1-score: 54.211 |\n"
     ]
    },
    {
     "data": {
      "application/vnd.jupyter.widget-view+json": {
       "model_id": "3a7e3d35a6c445c28783996a7a59a498",
       "version_major": 2,
       "version_minor": 0
      },
      "text/plain": [
       "  0%|          | 0/320 [00:00<?, ?it/s]"
      ]
     },
     "metadata": {},
     "output_type": "display_data"
    },
    {
     "name": "stdout",
     "output_type": "stream",
     "text": [
      "| Epoch: 455 | Train Loss: 1.225 | Train Acc: 81.95% | Val. Loss: 1.429 | Val. Acc: 61.25% | Val. Precision: 57.031 | Val. Recall: 61.250 | Val. F1-score: 56.670 |\n"
     ]
    },
    {
     "data": {
      "application/vnd.jupyter.widget-view+json": {
       "model_id": "944b4cc6bbc64f5cb24f88f6f72887d0",
       "version_major": 2,
       "version_minor": 0
      },
      "text/plain": [
       "  0%|          | 0/320 [00:00<?, ?it/s]"
      ]
     },
     "metadata": {},
     "output_type": "display_data"
    },
    {
     "name": "stdout",
     "output_type": "stream",
     "text": [
      "| Epoch: 456 | Train Loss: 1.217 | Train Acc: 82.81% | Val. Loss: 1.449 | Val. Acc: 59.38% | Val. Precision: 55.521 | Val. Recall: 59.375 | Val. F1-score: 54.649 |\n"
     ]
    },
    {
     "data": {
      "application/vnd.jupyter.widget-view+json": {
       "model_id": "7427319dc4cf4e6a876801e48536d9b4",
       "version_major": 2,
       "version_minor": 0
      },
      "text/plain": [
       "  0%|          | 0/320 [00:00<?, ?it/s]"
      ]
     },
     "metadata": {},
     "output_type": "display_data"
    },
    {
     "name": "stdout",
     "output_type": "stream",
     "text": [
      "| Epoch: 457 | Train Loss: 1.214 | Train Acc: 82.97% | Val. Loss: 1.436 | Val. Acc: 60.00% | Val. Precision: 55.000 | Val. Recall: 60.000 | Val. F1-score: 54.732 |\n"
     ]
    },
    {
     "data": {
      "application/vnd.jupyter.widget-view+json": {
       "model_id": "6e35119bcc6440b8993b83b40d268218",
       "version_major": 2,
       "version_minor": 0
      },
      "text/plain": [
       "  0%|          | 0/320 [00:00<?, ?it/s]"
      ]
     },
     "metadata": {},
     "output_type": "display_data"
    },
    {
     "name": "stdout",
     "output_type": "stream",
     "text": [
      "| Epoch: 458 | Train Loss: 1.211 | Train Acc: 83.36% | Val. Loss: 1.418 | Val. Acc: 62.50% | Val. Precision: 58.385 | Val. Recall: 62.500 | Val. F1-score: 57.750 |\n"
     ]
    },
    {
     "data": {
      "application/vnd.jupyter.widget-view+json": {
       "model_id": "bead073aab764f499b411e7a89d19413",
       "version_major": 2,
       "version_minor": 0
      },
      "text/plain": [
       "  0%|          | 0/320 [00:00<?, ?it/s]"
      ]
     },
     "metadata": {},
     "output_type": "display_data"
    },
    {
     "name": "stdout",
     "output_type": "stream",
     "text": [
      "| Epoch: 459 | Train Loss: 1.213 | Train Acc: 83.05% | Val. Loss: 1.405 | Val. Acc: 65.00% | Val. Precision: 60.990 | Val. Recall: 65.000 | Val. F1-score: 60.708 |\n"
     ]
    },
    {
     "data": {
      "application/vnd.jupyter.widget-view+json": {
       "model_id": "f7bb6ab0843f4dc399477a0b2d2ecc1a",
       "version_major": 2,
       "version_minor": 0
      },
      "text/plain": [
       "  0%|          | 0/320 [00:00<?, ?it/s]"
      ]
     },
     "metadata": {},
     "output_type": "display_data"
    },
    {
     "name": "stdout",
     "output_type": "stream",
     "text": [
      "| Epoch: 460 | Train Loss: 1.215 | Train Acc: 82.81% | Val. Loss: 1.433 | Val. Acc: 61.25% | Val. Precision: 56.771 | Val. Recall: 61.250 | Val. F1-score: 56.336 |\n"
     ]
    },
    {
     "data": {
      "application/vnd.jupyter.widget-view+json": {
       "model_id": "e2094bc54cc14f4cb12c4270ba72f3a5",
       "version_major": 2,
       "version_minor": 0
      },
      "text/plain": [
       "  0%|          | 0/320 [00:00<?, ?it/s]"
      ]
     },
     "metadata": {},
     "output_type": "display_data"
    },
    {
     "name": "stdout",
     "output_type": "stream",
     "text": [
      "| Epoch: 461 | Train Loss: 1.216 | Train Acc: 82.89% | Val. Loss: 1.428 | Val. Acc: 61.25% | Val. Precision: 58.073 | Val. Recall: 61.250 | Val. F1-score: 56.753 |\n"
     ]
    },
    {
     "data": {
      "application/vnd.jupyter.widget-view+json": {
       "model_id": "8cbd144e321d4be3affe8b83a7e133a2",
       "version_major": 2,
       "version_minor": 0
      },
      "text/plain": [
       "  0%|          | 0/320 [00:00<?, ?it/s]"
      ]
     },
     "metadata": {},
     "output_type": "display_data"
    },
    {
     "name": "stdout",
     "output_type": "stream",
     "text": [
      "| Epoch: 462 | Train Loss: 1.219 | Train Acc: 82.50% | Val. Loss: 1.448 | Val. Acc: 58.75% | Val. Precision: 55.937 | Val. Recall: 58.750 | Val. F1-score: 54.104 |\n"
     ]
    },
    {
     "data": {
      "application/vnd.jupyter.widget-view+json": {
       "model_id": "b0da7acac85841da95f6c5ea58d9ff84",
       "version_major": 2,
       "version_minor": 0
      },
      "text/plain": [
       "  0%|          | 0/320 [00:00<?, ?it/s]"
      ]
     },
     "metadata": {},
     "output_type": "display_data"
    },
    {
     "name": "stdout",
     "output_type": "stream",
     "text": [
      "| Epoch: 463 | Train Loss: 1.232 | Train Acc: 81.25% | Val. Loss: 1.430 | Val. Acc: 61.25% | Val. Precision: 57.292 | Val. Recall: 61.250 | Val. F1-score: 56.607 |\n"
     ]
    },
    {
     "data": {
      "application/vnd.jupyter.widget-view+json": {
       "model_id": "8e7b4d726ef642ccaf8464b1faf074ba",
       "version_major": 2,
       "version_minor": 0
      },
      "text/plain": [
       "  0%|          | 0/320 [00:00<?, ?it/s]"
      ]
     },
     "metadata": {},
     "output_type": "display_data"
    },
    {
     "name": "stdout",
     "output_type": "stream",
     "text": [
      "| Epoch: 464 | Train Loss: 1.222 | Train Acc: 82.27% | Val. Loss: 1.457 | Val. Acc: 58.13% | Val. Precision: 54.375 | Val. Recall: 58.125 | Val. F1-score: 53.497 |\n"
     ]
    },
    {
     "data": {
      "application/vnd.jupyter.widget-view+json": {
       "model_id": "068e27a8ce3e4873aeaf5634e54d5a5e",
       "version_major": 2,
       "version_minor": 0
      },
      "text/plain": [
       "  0%|          | 0/320 [00:00<?, ?it/s]"
      ]
     },
     "metadata": {},
     "output_type": "display_data"
    },
    {
     "name": "stdout",
     "output_type": "stream",
     "text": [
      "| Epoch: 465 | Train Loss: 1.216 | Train Acc: 82.73% | Val. Loss: 1.427 | Val. Acc: 61.88% | Val. Precision: 57.031 | Val. Recall: 61.875 | Val. F1-score: 56.857 |\n"
     ]
    },
    {
     "data": {
      "application/vnd.jupyter.widget-view+json": {
       "model_id": "f428af4ab3fc4b27b01567a6c1282cd8",
       "version_major": 2,
       "version_minor": 0
      },
      "text/plain": [
       "  0%|          | 0/320 [00:00<?, ?it/s]"
      ]
     },
     "metadata": {},
     "output_type": "display_data"
    },
    {
     "name": "stdout",
     "output_type": "stream",
     "text": [
      "| Epoch: 466 | Train Loss: 1.211 | Train Acc: 83.28% | Val. Loss: 1.434 | Val. Acc: 61.25% | Val. Precision: 56.719 | Val. Recall: 61.250 | Val. F1-score: 56.295 |\n"
     ]
    },
    {
     "data": {
      "application/vnd.jupyter.widget-view+json": {
       "model_id": "aa539ff49b7245099bb4172b75f37881",
       "version_major": 2,
       "version_minor": 0
      },
      "text/plain": [
       "  0%|          | 0/320 [00:00<?, ?it/s]"
      ]
     },
     "metadata": {},
     "output_type": "display_data"
    },
    {
     "name": "stdout",
     "output_type": "stream",
     "text": [
      "| Epoch: 467 | Train Loss: 1.210 | Train Acc: 83.36% | Val. Loss: 1.433 | Val. Acc: 60.62% | Val. Precision: 56.198 | Val. Recall: 60.625 | Val. F1-score: 55.753 |\n"
     ]
    },
    {
     "data": {
      "application/vnd.jupyter.widget-view+json": {
       "model_id": "3b10d8725f154368b81e615486a53971",
       "version_major": 2,
       "version_minor": 0
      },
      "text/plain": [
       "  0%|          | 0/320 [00:00<?, ?it/s]"
      ]
     },
     "metadata": {},
     "output_type": "display_data"
    },
    {
     "name": "stdout",
     "output_type": "stream",
     "text": [
      "| Epoch: 468 | Train Loss: 1.209 | Train Acc: 83.36% | Val. Loss: 1.434 | Val. Acc: 60.62% | Val. Precision: 55.781 | Val. Recall: 60.625 | Val. F1-score: 55.461 |\n"
     ]
    },
    {
     "data": {
      "application/vnd.jupyter.widget-view+json": {
       "model_id": "bb275643aa8a475f8cbf387df26b713b",
       "version_major": 2,
       "version_minor": 0
      },
      "text/plain": [
       "  0%|          | 0/320 [00:00<?, ?it/s]"
      ]
     },
     "metadata": {},
     "output_type": "display_data"
    },
    {
     "name": "stdout",
     "output_type": "stream",
     "text": [
      "| Epoch: 469 | Train Loss: 1.209 | Train Acc: 83.36% | Val. Loss: 1.434 | Val. Acc: 60.62% | Val. Precision: 56.198 | Val. Recall: 60.625 | Val. F1-score: 55.753 |\n"
     ]
    },
    {
     "data": {
      "application/vnd.jupyter.widget-view+json": {
       "model_id": "bf6e99d5bb30416d905b174268d549dc",
       "version_major": 2,
       "version_minor": 0
      },
      "text/plain": [
       "  0%|          | 0/320 [00:00<?, ?it/s]"
      ]
     },
     "metadata": {},
     "output_type": "display_data"
    },
    {
     "name": "stdout",
     "output_type": "stream",
     "text": [
      "| Epoch: 470 | Train Loss: 1.218 | Train Acc: 82.73% | Val. Loss: 1.444 | Val. Acc: 60.00% | Val. Precision: 56.094 | Val. Recall: 60.000 | Val. F1-score: 55.295 |\n"
     ]
    },
    {
     "data": {
      "application/vnd.jupyter.widget-view+json": {
       "model_id": "65ec0d3cb9984f939a7d0791dbe8cf20",
       "version_major": 2,
       "version_minor": 0
      },
      "text/plain": [
       "  0%|          | 0/320 [00:00<?, ?it/s]"
      ]
     },
     "metadata": {},
     "output_type": "display_data"
    },
    {
     "name": "stdout",
     "output_type": "stream",
     "text": [
      "| Epoch: 471 | Train Loss: 1.216 | Train Acc: 82.89% | Val. Loss: 1.449 | Val. Acc: 58.75% | Val. Precision: 55.781 | Val. Recall: 58.750 | Val. F1-score: 54.768 |\n"
     ]
    },
    {
     "data": {
      "application/vnd.jupyter.widget-view+json": {
       "model_id": "e6cc336dce84452db424ae4245ff5845",
       "version_major": 2,
       "version_minor": 0
      },
      "text/plain": [
       "  0%|          | 0/320 [00:00<?, ?it/s]"
      ]
     },
     "metadata": {},
     "output_type": "display_data"
    },
    {
     "name": "stdout",
     "output_type": "stream",
     "text": [
      "| Epoch: 472 | Train Loss: 1.228 | Train Acc: 81.80% | Val. Loss: 1.434 | Val. Acc: 60.62% | Val. Precision: 55.990 | Val. Recall: 60.625 | Val. F1-score: 55.818 |\n"
     ]
    },
    {
     "data": {
      "application/vnd.jupyter.widget-view+json": {
       "model_id": "bbba20da00d94f5ca86743fce2f6343c",
       "version_major": 2,
       "version_minor": 0
      },
      "text/plain": [
       "  0%|          | 0/320 [00:00<?, ?it/s]"
      ]
     },
     "metadata": {},
     "output_type": "display_data"
    },
    {
     "name": "stdout",
     "output_type": "stream",
     "text": [
      "| Epoch: 473 | Train Loss: 1.217 | Train Acc: 82.73% | Val. Loss: 1.444 | Val. Acc: 60.00% | Val. Precision: 54.062 | Val. Recall: 60.000 | Val. F1-score: 54.545 |\n"
     ]
    },
    {
     "data": {
      "application/vnd.jupyter.widget-view+json": {
       "model_id": "698b29c993cb4e79a5f637e0b9160bd6",
       "version_major": 2,
       "version_minor": 0
      },
      "text/plain": [
       "  0%|          | 0/320 [00:00<?, ?it/s]"
      ]
     },
     "metadata": {},
     "output_type": "display_data"
    },
    {
     "name": "stdout",
     "output_type": "stream",
     "text": [
      "| Epoch: 474 | Train Loss: 1.216 | Train Acc: 82.97% | Val. Loss: 1.456 | Val. Acc: 58.75% | Val. Precision: 54.635 | Val. Recall: 58.750 | Val. F1-score: 53.652 |\n"
     ]
    },
    {
     "data": {
      "application/vnd.jupyter.widget-view+json": {
       "model_id": "0183d399913f4622a45d896eb8fb3d71",
       "version_major": 2,
       "version_minor": 0
      },
      "text/plain": [
       "  0%|          | 0/320 [00:00<?, ?it/s]"
      ]
     },
     "metadata": {},
     "output_type": "display_data"
    },
    {
     "name": "stdout",
     "output_type": "stream",
     "text": [
      "| Epoch: 475 | Train Loss: 1.215 | Train Acc: 82.89% | Val. Loss: 1.448 | Val. Acc: 59.38% | Val. Precision: 53.698 | Val. Recall: 59.375 | Val. F1-score: 54.065 |\n"
     ]
    },
    {
     "data": {
      "application/vnd.jupyter.widget-view+json": {
       "model_id": "774f20df4b854c78b5bd0fc1574c6bdb",
       "version_major": 2,
       "version_minor": 0
      },
      "text/plain": [
       "  0%|          | 0/320 [00:00<?, ?it/s]"
      ]
     },
     "metadata": {},
     "output_type": "display_data"
    },
    {
     "name": "stdout",
     "output_type": "stream",
     "text": [
      "| Epoch: 476 | Train Loss: 1.212 | Train Acc: 83.20% | Val. Loss: 1.435 | Val. Acc: 60.62% | Val. Precision: 56.042 | Val. Recall: 60.625 | Val. F1-score: 55.878 |\n"
     ]
    },
    {
     "data": {
      "application/vnd.jupyter.widget-view+json": {
       "model_id": "72371b9c39104bda89aea3b196900ed1",
       "version_major": 2,
       "version_minor": 0
      },
      "text/plain": [
       "  0%|          | 0/320 [00:00<?, ?it/s]"
      ]
     },
     "metadata": {},
     "output_type": "display_data"
    },
    {
     "name": "stdout",
     "output_type": "stream",
     "text": [
      "| Epoch: 477 | Train Loss: 1.216 | Train Acc: 82.81% | Val. Loss: 1.428 | Val. Acc: 61.88% | Val. Precision: 56.510 | Val. Recall: 61.875 | Val. F1-score: 56.545 |\n"
     ]
    },
    {
     "data": {
      "application/vnd.jupyter.widget-view+json": {
       "model_id": "d77081d72b0b4a4ca69eb094da7cf2ae",
       "version_major": 2,
       "version_minor": 0
      },
      "text/plain": [
       "  0%|          | 0/320 [00:00<?, ?it/s]"
      ]
     },
     "metadata": {},
     "output_type": "display_data"
    },
    {
     "name": "stdout",
     "output_type": "stream",
     "text": [
      "| Epoch: 478 | Train Loss: 1.234 | Train Acc: 81.02% | Val. Loss: 1.445 | Val. Acc: 60.00% | Val. Precision: 54.115 | Val. Recall: 60.000 | Val. F1-score: 54.607 |\n"
     ]
    },
    {
     "data": {
      "application/vnd.jupyter.widget-view+json": {
       "model_id": "bffe9132c8734af5b1a5e152376b6d93",
       "version_major": 2,
       "version_minor": 0
      },
      "text/plain": [
       "  0%|          | 0/320 [00:00<?, ?it/s]"
      ]
     },
     "metadata": {},
     "output_type": "display_data"
    },
    {
     "name": "stdout",
     "output_type": "stream",
     "text": [
      "| Epoch: 479 | Train Loss: 1.219 | Train Acc: 82.34% | Val. Loss: 1.447 | Val. Acc: 58.75% | Val. Precision: 54.740 | Val. Recall: 58.750 | Val. F1-score: 54.357 |\n"
     ]
    },
    {
     "data": {
      "application/vnd.jupyter.widget-view+json": {
       "model_id": "30a0e87e3df643b1ac0b1dc6806b48ec",
       "version_major": 2,
       "version_minor": 0
      },
      "text/plain": [
       "  0%|          | 0/320 [00:00<?, ?it/s]"
      ]
     },
     "metadata": {},
     "output_type": "display_data"
    },
    {
     "name": "stdout",
     "output_type": "stream",
     "text": [
      "| Epoch: 480 | Train Loss: 1.222 | Train Acc: 82.27% | Val. Loss: 1.422 | Val. Acc: 62.50% | Val. Precision: 56.406 | Val. Recall: 62.500 | Val. F1-score: 57.045 |\n"
     ]
    },
    {
     "data": {
      "application/vnd.jupyter.widget-view+json": {
       "model_id": "f73958851c354afaa95fa0b661a81036",
       "version_major": 2,
       "version_minor": 0
      },
      "text/plain": [
       "  0%|          | 0/320 [00:00<?, ?it/s]"
      ]
     },
     "metadata": {},
     "output_type": "display_data"
    },
    {
     "name": "stdout",
     "output_type": "stream",
     "text": [
      "| Epoch: 481 | Train Loss: 1.213 | Train Acc: 83.05% | Val. Loss: 1.419 | Val. Acc: 62.50% | Val. Precision: 57.344 | Val. Recall: 62.500 | Val. F1-score: 57.545 |\n"
     ]
    },
    {
     "data": {
      "application/vnd.jupyter.widget-view+json": {
       "model_id": "5231956264174dd0a60f85849ee3f2be",
       "version_major": 2,
       "version_minor": 0
      },
      "text/plain": [
       "  0%|          | 0/320 [00:00<?, ?it/s]"
      ]
     },
     "metadata": {},
     "output_type": "display_data"
    },
    {
     "name": "stdout",
     "output_type": "stream",
     "text": [
      "| Epoch: 482 | Train Loss: 1.217 | Train Acc: 82.58% | Val. Loss: 1.438 | Val. Acc: 60.62% | Val. Precision: 55.781 | Val. Recall: 60.625 | Val. F1-score: 55.836 |\n"
     ]
    },
    {
     "data": {
      "application/vnd.jupyter.widget-view+json": {
       "model_id": "519b29c27598497fbf10fe80a326e168",
       "version_major": 2,
       "version_minor": 0
      },
      "text/plain": [
       "  0%|          | 0/320 [00:00<?, ?it/s]"
      ]
     },
     "metadata": {},
     "output_type": "display_data"
    },
    {
     "name": "stdout",
     "output_type": "stream",
     "text": [
      "| Epoch: 483 | Train Loss: 1.212 | Train Acc: 83.12% | Val. Loss: 1.445 | Val. Acc: 59.38% | Val. Precision: 54.010 | Val. Recall: 59.375 | Val. F1-score: 54.003 |\n"
     ]
    },
    {
     "data": {
      "application/vnd.jupyter.widget-view+json": {
       "model_id": "7f6ffe7e6ce84d0e8d707568a5898c04",
       "version_major": 2,
       "version_minor": 0
      },
      "text/plain": [
       "  0%|          | 0/320 [00:00<?, ?it/s]"
      ]
     },
     "metadata": {},
     "output_type": "display_data"
    },
    {
     "name": "stdout",
     "output_type": "stream",
     "text": [
      "| Epoch: 484 | Train Loss: 1.209 | Train Acc: 83.52% | Val. Loss: 1.443 | Val. Acc: 60.00% | Val. Precision: 55.781 | Val. Recall: 60.000 | Val. F1-score: 55.149 |\n"
     ]
    },
    {
     "data": {
      "application/vnd.jupyter.widget-view+json": {
       "model_id": "bee207ac32ae444d9e84e27073214f06",
       "version_major": 2,
       "version_minor": 0
      },
      "text/plain": [
       "  0%|          | 0/320 [00:00<?, ?it/s]"
      ]
     },
     "metadata": {},
     "output_type": "display_data"
    },
    {
     "name": "stdout",
     "output_type": "stream",
     "text": [
      "| Epoch: 485 | Train Loss: 1.208 | Train Acc: 83.52% | Val. Loss: 1.451 | Val. Acc: 58.75% | Val. Precision: 54.323 | Val. Recall: 58.750 | Val. F1-score: 53.774 |\n"
     ]
    },
    {
     "data": {
      "application/vnd.jupyter.widget-view+json": {
       "model_id": "c236affa932d45839b099c5cbc6a709e",
       "version_major": 2,
       "version_minor": 0
      },
      "text/plain": [
       "  0%|          | 0/320 [00:00<?, ?it/s]"
      ]
     },
     "metadata": {},
     "output_type": "display_data"
    },
    {
     "name": "stdout",
     "output_type": "stream",
     "text": [
      "| Epoch: 486 | Train Loss: 1.209 | Train Acc: 83.44% | Val. Loss: 1.455 | Val. Acc: 58.13% | Val. Precision: 54.323 | Val. Recall: 58.125 | Val. F1-score: 53.357 |\n"
     ]
    },
    {
     "data": {
      "application/vnd.jupyter.widget-view+json": {
       "model_id": "309a5b1941b5426ebf1e12dd09ea64e0",
       "version_major": 2,
       "version_minor": 0
      },
      "text/plain": [
       "  0%|          | 0/320 [00:00<?, ?it/s]"
      ]
     },
     "metadata": {},
     "output_type": "display_data"
    },
    {
     "name": "stdout",
     "output_type": "stream",
     "text": [
      "| Epoch: 487 | Train Loss: 1.206 | Train Acc: 83.67% | Val. Loss: 1.450 | Val. Acc: 60.00% | Val. Precision: 55.469 | Val. Recall: 60.000 | Val. F1-score: 54.899 |\n"
     ]
    },
    {
     "data": {
      "application/vnd.jupyter.widget-view+json": {
       "model_id": "c230686d57494579a14f8ea8688afc31",
       "version_major": 2,
       "version_minor": 0
      },
      "text/plain": [
       "  0%|          | 0/320 [00:00<?, ?it/s]"
      ]
     },
     "metadata": {},
     "output_type": "display_data"
    },
    {
     "name": "stdout",
     "output_type": "stream",
     "text": [
      "| Epoch: 488 | Train Loss: 1.206 | Train Acc: 83.67% | Val. Loss: 1.446 | Val. Acc: 59.38% | Val. Precision: 54.740 | Val. Recall: 59.375 | Val. F1-score: 54.274 |\n"
     ]
    },
    {
     "data": {
      "application/vnd.jupyter.widget-view+json": {
       "model_id": "5872a375d28a4315a58b476977b681de",
       "version_major": 2,
       "version_minor": 0
      },
      "text/plain": [
       "  0%|          | 0/320 [00:00<?, ?it/s]"
      ]
     },
     "metadata": {},
     "output_type": "display_data"
    },
    {
     "name": "stdout",
     "output_type": "stream",
     "text": [
      "| Epoch: 489 | Train Loss: 1.206 | Train Acc: 83.67% | Val. Loss: 1.450 | Val. Acc: 59.38% | Val. Precision: 54.635 | Val. Recall: 59.375 | Val. F1-score: 54.420 |\n"
     ]
    },
    {
     "data": {
      "application/vnd.jupyter.widget-view+json": {
       "model_id": "bca476b49ea94748965eac79f5d46198",
       "version_major": 2,
       "version_minor": 0
      },
      "text/plain": [
       "  0%|          | 0/320 [00:00<?, ?it/s]"
      ]
     },
     "metadata": {},
     "output_type": "display_data"
    },
    {
     "name": "stdout",
     "output_type": "stream",
     "text": [
      "| Epoch: 490 | Train Loss: 1.209 | Train Acc: 83.44% | Val. Loss: 1.435 | Val. Acc: 60.00% | Val. Precision: 56.302 | Val. Recall: 60.000 | Val. F1-score: 55.524 |\n"
     ]
    },
    {
     "data": {
      "application/vnd.jupyter.widget-view+json": {
       "model_id": "1bb594dce946419fa75b5821b568e2fa",
       "version_major": 2,
       "version_minor": 0
      },
      "text/plain": [
       "  0%|          | 0/320 [00:00<?, ?it/s]"
      ]
     },
     "metadata": {},
     "output_type": "display_data"
    },
    {
     "name": "stdout",
     "output_type": "stream",
     "text": [
      "| Epoch: 491 | Train Loss: 1.238 | Train Acc: 80.70% | Val. Loss: 1.473 | Val. Acc: 56.88% | Val. Precision: 53.542 | Val. Recall: 56.875 | Val. F1-score: 52.295 |\n"
     ]
    },
    {
     "data": {
      "application/vnd.jupyter.widget-view+json": {
       "model_id": "e0d3e74d543f4b0aa5671682b0ae1885",
       "version_major": 2,
       "version_minor": 0
      },
      "text/plain": [
       "  0%|          | 0/320 [00:00<?, ?it/s]"
      ]
     },
     "metadata": {},
     "output_type": "display_data"
    },
    {
     "name": "stdout",
     "output_type": "stream",
     "text": [
      "| Epoch: 492 | Train Loss: 1.232 | Train Acc: 81.33% | Val. Loss: 1.454 | Val. Acc: 58.75% | Val. Precision: 56.250 | Val. Recall: 58.750 | Val. F1-score: 54.479 |\n"
     ]
    },
    {
     "data": {
      "application/vnd.jupyter.widget-view+json": {
       "model_id": "ad7339ddd5464cbfa089b92c8ae3c996",
       "version_major": 2,
       "version_minor": 0
      },
      "text/plain": [
       "  0%|          | 0/320 [00:00<?, ?it/s]"
      ]
     },
     "metadata": {},
     "output_type": "display_data"
    },
    {
     "name": "stdout",
     "output_type": "stream",
     "text": [
      "| Epoch: 493 | Train Loss: 1.214 | Train Acc: 83.05% | Val. Loss: 1.463 | Val. Acc: 58.13% | Val. Precision: 54.167 | Val. Recall: 58.125 | Val. F1-score: 53.104 |\n"
     ]
    },
    {
     "data": {
      "application/vnd.jupyter.widget-view+json": {
       "model_id": "4fa24f42872843bb9663ad84c10850b6",
       "version_major": 2,
       "version_minor": 0
      },
      "text/plain": [
       "  0%|          | 0/320 [00:00<?, ?it/s]"
      ]
     },
     "metadata": {},
     "output_type": "display_data"
    },
    {
     "name": "stdout",
     "output_type": "stream",
     "text": [
      "| Epoch: 494 | Train Loss: 1.211 | Train Acc: 83.20% | Val. Loss: 1.451 | Val. Acc: 58.75% | Val. Precision: 54.688 | Val. Recall: 58.750 | Val. F1-score: 54.167 |\n"
     ]
    },
    {
     "data": {
      "application/vnd.jupyter.widget-view+json": {
       "model_id": "255fe6bdf24d48e7a0f1c150b5696513",
       "version_major": 2,
       "version_minor": 0
      },
      "text/plain": [
       "  0%|          | 0/320 [00:00<?, ?it/s]"
      ]
     },
     "metadata": {},
     "output_type": "display_data"
    },
    {
     "name": "stdout",
     "output_type": "stream",
     "text": [
      "| Epoch: 495 | Train Loss: 1.212 | Train Acc: 83.20% | Val. Loss: 1.460 | Val. Acc: 57.50% | Val. Precision: 52.812 | Val. Recall: 57.500 | Val. F1-score: 52.417 |\n"
     ]
    },
    {
     "data": {
      "application/vnd.jupyter.widget-view+json": {
       "model_id": "6a7b183b315b4e6f9fb96813921066f5",
       "version_major": 2,
       "version_minor": 0
      },
      "text/plain": [
       "  0%|          | 0/320 [00:00<?, ?it/s]"
      ]
     },
     "metadata": {},
     "output_type": "display_data"
    },
    {
     "name": "stdout",
     "output_type": "stream",
     "text": [
      "| Epoch: 496 | Train Loss: 1.211 | Train Acc: 83.20% | Val. Loss: 1.448 | Val. Acc: 58.75% | Val. Precision: 54.688 | Val. Recall: 58.750 | Val. F1-score: 53.646 |\n"
     ]
    },
    {
     "data": {
      "application/vnd.jupyter.widget-view+json": {
       "model_id": "518a658d97f5435b9f5a89c59bedd7cb",
       "version_major": 2,
       "version_minor": 0
      },
      "text/plain": [
       "  0%|          | 0/320 [00:00<?, ?it/s]"
      ]
     },
     "metadata": {},
     "output_type": "display_data"
    },
    {
     "name": "stdout",
     "output_type": "stream",
     "text": [
      "| Epoch: 497 | Train Loss: 1.208 | Train Acc: 83.52% | Val. Loss: 1.446 | Val. Acc: 59.38% | Val. Precision: 54.271 | Val. Recall: 59.375 | Val. F1-score: 54.208 |\n"
     ]
    },
    {
     "data": {
      "application/vnd.jupyter.widget-view+json": {
       "model_id": "3701a516d2ad4f3f8e55926a0b92421e",
       "version_major": 2,
       "version_minor": 0
      },
      "text/plain": [
       "  0%|          | 0/320 [00:00<?, ?it/s]"
      ]
     },
     "metadata": {},
     "output_type": "display_data"
    },
    {
     "name": "stdout",
     "output_type": "stream",
     "text": [
      "| Epoch: 498 | Train Loss: 1.208 | Train Acc: 83.52% | Val. Loss: 1.439 | Val. Acc: 61.25% | Val. Precision: 57.552 | Val. Recall: 61.250 | Val. F1-score: 56.747 |\n"
     ]
    },
    {
     "data": {
      "application/vnd.jupyter.widget-view+json": {
       "model_id": "8345b57960a94158b04b44a118c517ff",
       "version_major": 2,
       "version_minor": 0
      },
      "text/plain": [
       "  0%|          | 0/320 [00:00<?, ?it/s]"
      ]
     },
     "metadata": {},
     "output_type": "display_data"
    },
    {
     "name": "stdout",
     "output_type": "stream",
     "text": [
      "| Epoch: 499 | Train Loss: 1.209 | Train Acc: 83.36% | Val. Loss: 1.445 | Val. Acc: 59.38% | Val. Precision: 55.000 | Val. Recall: 59.375 | Val. F1-score: 54.708 |\n"
     ]
    },
    {
     "data": {
      "application/vnd.jupyter.widget-view+json": {
       "model_id": "2f49411159da48e4b1a62283bbd4d0ac",
       "version_major": 2,
       "version_minor": 0
      },
      "text/plain": [
       "  0%|          | 0/320 [00:00<?, ?it/s]"
      ]
     },
     "metadata": {},
     "output_type": "display_data"
    },
    {
     "name": "stdout",
     "output_type": "stream",
     "text": [
      "| Epoch: 500 | Train Loss: 1.211 | Train Acc: 83.20% | Val. Loss: 1.447 | Val. Acc: 60.00% | Val. Precision: 57.135 | Val. Recall: 60.000 | Val. F1-score: 56.164 |\n"
     ]
    }
   ],
   "source": [
    "# Let's train our model\n",
    "                   # ENHANCEMENT 2\n",
    "for epoch in range(500):\n",
    "    train_loss, train_acc = train(winemodel, train_dataloader, optimizer, criterion)\n",
    "    # ENHANCEMENT 1\n",
    "    valid_loss, valid_acc, valid_precision, valid_recall, valid_f1  = evaluate(winemodel, val_dataloader, criterion)\n",
    "\n",
    "    print(f'| Epoch: {epoch+1:02} | Train Loss: {train_loss:.3f} | Train Acc: {train_acc*100:.2f}% | Val. Loss: {valid_loss:.3f} | Val. Acc: {valid_acc*100:.2f}% | Val. Precision: {valid_precision *100:.3f} | Val. Recall: {valid_recall*100:.3f} | Val. F1-score: {valid_f1*100:.3f} |')"
   ]
  },
  {
   "cell_type": "markdown",
   "metadata": {
    "id": "sN4r268sqghf"
   },
   "source": [
    "# Lab Enhancements\n",
    "* These tasks are additional enhancements with less guidance.\n",
    "* Report results means give us the accuracy, precision, recall and F1-score.\n"
   ]
  },
  {
   "cell_type": "markdown",
   "metadata": {
    "id": "lTeTTU12l_e8"
   },
   "source": [
    "## Enhancement 1: The current code does not actually evaluate the model on the test set, but it only evaluates it on the val set. When you write papers, you would ideally split the dataset into train, val and test. Train and val are both used in training, and the model trained on the training data, and  evaluated on the val data. So why do we need test split? We report our results on the test split in papers. Also, we do cross-validation on the train/val split (covered in later labs).\n",
    "\n",
    "## Report the results of the model on the test split. (Hint: It would be exactly like the evaluation on the val dataset, except it would be done on the test dataset.)"
   ]
  },
  {
   "cell_type": "code",
   "execution_count": 47,
   "metadata": {
    "id": "mvThtvybtAyC"
   },
   "outputs": [
    {
     "name": "stdout",
     "output_type": "stream",
     "text": [
      "| Test. Loss: 1.375 | Test. Acc: 66.88% | Test. Precision: 0.648 | Test. Recall: 0.669 | Test. F1-score: 0.633 |\n"
     ]
    }
   ],
   "source": [
    "test_loss, test_acc, test_prec, test_rec, test_f1 = evaluate(winemodel, test_dataloader, criterion)\n",
    "\n",
    "print(f'| Test. Loss: {test_loss:.3f} | Test. Acc: {test_acc*100:.2f}% | Test. Precision: {test_prec:.3f} | Test. Recall: {test_rec:.3f} | Test. F1-score: {test_f1:.3f} |')"
   ]
  },
  {
   "cell_type": "markdown",
   "metadata": {
    "id": "TtPZiqkAqX88"
   },
   "source": [
    "## Enhancement 2: Increase the number of epochs (and maybe the learning rate). Does the accuracy on the test set increase? Is there a significant difference between the test accuracy and the train accuracy? If yes, why?"
   ]
  },
  {
   "cell_type": "markdown",
   "metadata": {
    "id": "7Qb9PdtvpGpO"
   },
   "source": [
    "## Enhancement 3: Increase the depth of your model (add more layers). Report the parts of the model definition you had to update. Report results."
   ]
  },
  {
   "cell_type": "markdown",
   "metadata": {
    "id": "hH1YvNbbpMWh"
   },
   "source": [
    "## Enhancement 4: Increase the width of your model's layers. Report the parts of the model definition you had to update. Report results."
   ]
  },
  {
   "cell_type": "markdown",
   "metadata": {
    "id": "2RryO5TdpZ_m"
   },
   "source": [
    "## Enhancement 5: Choose a new dataset from the list below. Search the Internet and download your chosen dataset (many of them could be available on kaggle). Adapt your model to your dataset. Train your model and record your results.\n",
    "\n",
    "   * cancer_dataset          - Breast cancer dataset.\n",
    "   * crab_dataset            - Crab gender dataset.\n",
    "   * glass_dataset           - Glass chemical dataset.\n",
    "   * iris_dataset            - Iris flower dataset.\n",
    "   * ovarian_dataset         - Ovarian cancer dataset.\n",
    "   * thyroid_dataset         - Thyroid function dataset."
   ]
  }
 ],
 "metadata": {
  "colab": {
   "provenance": []
  },
  "hide_input": false,
  "kernelspec": {
   "display_name": "Python 3 (ipykernel)",
   "language": "python",
   "name": "python3"
  },
  "language_info": {
   "codemirror_mode": {
    "name": "ipython",
    "version": 3
   },
   "file_extension": ".py",
   "mimetype": "text/x-python",
   "name": "python",
   "nbconvert_exporter": "python",
   "pygments_lexer": "ipython3",
   "version": "3.9.12"
  }
 },
 "nbformat": 4,
 "nbformat_minor": 1
}
