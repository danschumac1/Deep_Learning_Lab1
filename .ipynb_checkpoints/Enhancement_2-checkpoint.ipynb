{
 "cells": [
  {
   "cell_type": "markdown",
   "metadata": {
    "id": "CoCJY_nPAMOf"
   },
   "source": [
    "## Imports"
   ]
  },
  {
   "cell_type": "code",
   "execution_count": 1,
   "metadata": {
    "id": "ug19bzmJAAt5"
   },
   "outputs": [],
   "source": [
    "import pandas as pd\n",
    "import torch\n",
    "import torch.nn as nn\n",
    "import torch.nn.functional as F\n",
    "from torch.optim import AdamW\n",
    "from torch.utils.data import Dataset, DataLoader\n",
    "from tqdm.notebook import tqdm\n",
    "\n",
    "\n",
    "from sklearn.metrics import (\n",
    "    accuracy_score,\n",
    "    # ENHANCEMENT 1\n",
    "    precision_score,\n",
    "    recall_score,\n",
    "    f1_score\n",
    ")"
   ]
  },
  {
   "cell_type": "markdown",
   "metadata": {
    "id": "g2ZA_xBjAQlY"
   },
   "source": [
    "## Dataset"
   ]
  },
  {
   "cell_type": "code",
   "execution_count": 20,
   "metadata": {
    "id": "_wI27iYZATct"
   },
   "outputs": [],
   "source": [
    "data_df = pd.read_csv('./data/winequality-red.csv')"
   ]
  },
  {
   "cell_type": "code",
   "execution_count": 21,
   "metadata": {
    "colab": {
     "base_uri": "https://localhost:8080/",
     "height": 204
    },
    "id": "7V3cR9csAe9R",
    "outputId": "fdc6cbfa-5ac8-4f64-ef49-9e754f6cc667"
   },
   "outputs": [
    {
     "data": {
      "text/html": [
       "<div>\n",
       "<style scoped>\n",
       "    .dataframe tbody tr th:only-of-type {\n",
       "        vertical-align: middle;\n",
       "    }\n",
       "\n",
       "    .dataframe tbody tr th {\n",
       "        vertical-align: top;\n",
       "    }\n",
       "\n",
       "    .dataframe thead th {\n",
       "        text-align: right;\n",
       "    }\n",
       "</style>\n",
       "<table border=\"1\" class=\"dataframe\">\n",
       "  <thead>\n",
       "    <tr style=\"text-align: right;\">\n",
       "      <th></th>\n",
       "      <th>fixed acidity</th>\n",
       "      <th>volatile acidity</th>\n",
       "      <th>citric acid</th>\n",
       "      <th>residual sugar</th>\n",
       "      <th>chlorides</th>\n",
       "      <th>free sulfur dioxide</th>\n",
       "      <th>total sulfur dioxide</th>\n",
       "      <th>density</th>\n",
       "      <th>pH</th>\n",
       "      <th>sulphates</th>\n",
       "      <th>alcohol</th>\n",
       "      <th>quality</th>\n",
       "    </tr>\n",
       "  </thead>\n",
       "  <tbody>\n",
       "    <tr>\n",
       "      <th>0</th>\n",
       "      <td>7.4</td>\n",
       "      <td>0.70</td>\n",
       "      <td>0.00</td>\n",
       "      <td>1.9</td>\n",
       "      <td>0.076</td>\n",
       "      <td>11.0</td>\n",
       "      <td>34.0</td>\n",
       "      <td>0.9978</td>\n",
       "      <td>3.51</td>\n",
       "      <td>0.56</td>\n",
       "      <td>9.4</td>\n",
       "      <td>5</td>\n",
       "    </tr>\n",
       "    <tr>\n",
       "      <th>1</th>\n",
       "      <td>7.8</td>\n",
       "      <td>0.88</td>\n",
       "      <td>0.00</td>\n",
       "      <td>2.6</td>\n",
       "      <td>0.098</td>\n",
       "      <td>25.0</td>\n",
       "      <td>67.0</td>\n",
       "      <td>0.9968</td>\n",
       "      <td>3.20</td>\n",
       "      <td>0.68</td>\n",
       "      <td>9.8</td>\n",
       "      <td>5</td>\n",
       "    </tr>\n",
       "    <tr>\n",
       "      <th>2</th>\n",
       "      <td>7.8</td>\n",
       "      <td>0.76</td>\n",
       "      <td>0.04</td>\n",
       "      <td>2.3</td>\n",
       "      <td>0.092</td>\n",
       "      <td>15.0</td>\n",
       "      <td>54.0</td>\n",
       "      <td>0.9970</td>\n",
       "      <td>3.26</td>\n",
       "      <td>0.65</td>\n",
       "      <td>9.8</td>\n",
       "      <td>5</td>\n",
       "    </tr>\n",
       "    <tr>\n",
       "      <th>3</th>\n",
       "      <td>11.2</td>\n",
       "      <td>0.28</td>\n",
       "      <td>0.56</td>\n",
       "      <td>1.9</td>\n",
       "      <td>0.075</td>\n",
       "      <td>17.0</td>\n",
       "      <td>60.0</td>\n",
       "      <td>0.9980</td>\n",
       "      <td>3.16</td>\n",
       "      <td>0.58</td>\n",
       "      <td>9.8</td>\n",
       "      <td>6</td>\n",
       "    </tr>\n",
       "    <tr>\n",
       "      <th>4</th>\n",
       "      <td>7.4</td>\n",
       "      <td>0.70</td>\n",
       "      <td>0.00</td>\n",
       "      <td>1.9</td>\n",
       "      <td>0.076</td>\n",
       "      <td>11.0</td>\n",
       "      <td>34.0</td>\n",
       "      <td>0.9978</td>\n",
       "      <td>3.51</td>\n",
       "      <td>0.56</td>\n",
       "      <td>9.4</td>\n",
       "      <td>5</td>\n",
       "    </tr>\n",
       "  </tbody>\n",
       "</table>\n",
       "</div>"
      ],
      "text/plain": [
       "   fixed acidity  volatile acidity  citric acid  residual sugar  chlorides  \\\n",
       "0            7.4              0.70         0.00             1.9      0.076   \n",
       "1            7.8              0.88         0.00             2.6      0.098   \n",
       "2            7.8              0.76         0.04             2.3      0.092   \n",
       "3           11.2              0.28         0.56             1.9      0.075   \n",
       "4            7.4              0.70         0.00             1.9      0.076   \n",
       "\n",
       "   free sulfur dioxide  total sulfur dioxide  density    pH  sulphates  \\\n",
       "0                 11.0                  34.0   0.9978  3.51       0.56   \n",
       "1                 25.0                  67.0   0.9968  3.20       0.68   \n",
       "2                 15.0                  54.0   0.9970  3.26       0.65   \n",
       "3                 17.0                  60.0   0.9980  3.16       0.58   \n",
       "4                 11.0                  34.0   0.9978  3.51       0.56   \n",
       "\n",
       "   alcohol  quality  \n",
       "0      9.4        5  \n",
       "1      9.8        5  \n",
       "2      9.8        5  \n",
       "3      9.8        6  \n",
       "4      9.4        5  "
      ]
     },
     "execution_count": 21,
     "metadata": {},
     "output_type": "execute_result"
    }
   ],
   "source": [
    "data_df.head()"
   ]
  },
  {
   "cell_type": "code",
   "execution_count": 22,
   "metadata": {
    "colab": {
     "base_uri": "https://localhost:8080/"
    },
    "id": "QH-m4kr6Dk8Z",
    "outputId": "ab5fb65e-4c18-424a-a13d-94e42c321b6a"
   },
   "outputs": [
    {
     "data": {
      "text/plain": [
       "11"
      ]
     },
     "execution_count": 22,
     "metadata": {},
     "output_type": "execute_result"
    }
   ],
   "source": [
    "# how many features?\n",
    "len(data_df.columns) - 1"
   ]
  },
  {
   "cell_type": "code",
   "execution_count": 23,
   "metadata": {
    "colab": {
     "base_uri": "https://localhost:8080/"
    },
    "id": "uvAZ_osUDvgA",
    "outputId": "4b01868e-0292-4560-c3a0-3192a43f48bf"
   },
   "outputs": [
    {
     "data": {
      "text/plain": [
       "array([5, 6, 7, 4, 8, 3], dtype=int64)"
      ]
     },
     "execution_count": 23,
     "metadata": {},
     "output_type": "execute_result"
    }
   ],
   "source": [
    "# how many labels? If yours is a binary classification task, then you'll have 2 labels.\n",
    "data_df.quality.unique()"
   ]
  },
  {
   "cell_type": "code",
   "execution_count": 24,
   "metadata": {
    "id": "0nSKpV6FZFaN"
   },
   "outputs": [],
   "source": [
    "# convert these quaity measures to labels (0 to 5)\n",
    "def get_label(quality):\n",
    "    if quality == 3:\n",
    "        return 0\n",
    "    elif quality == 4:\n",
    "        return 1\n",
    "    elif quality == 5:\n",
    "        return 2\n",
    "    elif quality == 6:\n",
    "        return 3\n",
    "    elif quality == 7:\n",
    "        return 4\n",
    "    else:\n",
    "        return 5\n",
    "\n",
    "labels = data_df['quality'].apply(get_label)\n",
    "\n",
    "# normalize data\n",
    "data_df = (data_df - data_df.mean()) / data_df.std()\n",
    "data_df['label'] = labels"
   ]
  },
  {
   "cell_type": "code",
   "execution_count": 25,
   "metadata": {
    "colab": {
     "base_uri": "https://localhost:8080/",
     "height": 204
    },
    "id": "DX2cZiS2gs5f",
    "outputId": "e8ef29c9-9a82-4468-8091-30e623126953"
   },
   "outputs": [
    {
     "data": {
      "text/html": [
       "<div>\n",
       "<style scoped>\n",
       "    .dataframe tbody tr th:only-of-type {\n",
       "        vertical-align: middle;\n",
       "    }\n",
       "\n",
       "    .dataframe tbody tr th {\n",
       "        vertical-align: top;\n",
       "    }\n",
       "\n",
       "    .dataframe thead th {\n",
       "        text-align: right;\n",
       "    }\n",
       "</style>\n",
       "<table border=\"1\" class=\"dataframe\">\n",
       "  <thead>\n",
       "    <tr style=\"text-align: right;\">\n",
       "      <th></th>\n",
       "      <th>fixed acidity</th>\n",
       "      <th>volatile acidity</th>\n",
       "      <th>citric acid</th>\n",
       "      <th>residual sugar</th>\n",
       "      <th>chlorides</th>\n",
       "      <th>free sulfur dioxide</th>\n",
       "      <th>total sulfur dioxide</th>\n",
       "      <th>density</th>\n",
       "      <th>pH</th>\n",
       "      <th>sulphates</th>\n",
       "      <th>alcohol</th>\n",
       "      <th>quality</th>\n",
       "      <th>label</th>\n",
       "    </tr>\n",
       "  </thead>\n",
       "  <tbody>\n",
       "    <tr>\n",
       "      <th>0</th>\n",
       "      <td>-0.528194</td>\n",
       "      <td>0.961576</td>\n",
       "      <td>-1.391037</td>\n",
       "      <td>-0.453077</td>\n",
       "      <td>-0.243630</td>\n",
       "      <td>-0.466047</td>\n",
       "      <td>-0.379014</td>\n",
       "      <td>0.558100</td>\n",
       "      <td>1.288240</td>\n",
       "      <td>-0.579025</td>\n",
       "      <td>-0.959946</td>\n",
       "      <td>-0.787576</td>\n",
       "      <td>2</td>\n",
       "    </tr>\n",
       "    <tr>\n",
       "      <th>1</th>\n",
       "      <td>-0.298454</td>\n",
       "      <td>1.966827</td>\n",
       "      <td>-1.391037</td>\n",
       "      <td>0.043403</td>\n",
       "      <td>0.223805</td>\n",
       "      <td>0.872365</td>\n",
       "      <td>0.624168</td>\n",
       "      <td>0.028252</td>\n",
       "      <td>-0.719708</td>\n",
       "      <td>0.128910</td>\n",
       "      <td>-0.584594</td>\n",
       "      <td>-0.787576</td>\n",
       "      <td>2</td>\n",
       "    </tr>\n",
       "    <tr>\n",
       "      <th>2</th>\n",
       "      <td>-0.298454</td>\n",
       "      <td>1.296660</td>\n",
       "      <td>-1.185699</td>\n",
       "      <td>-0.169374</td>\n",
       "      <td>0.096323</td>\n",
       "      <td>-0.083643</td>\n",
       "      <td>0.228975</td>\n",
       "      <td>0.134222</td>\n",
       "      <td>-0.331073</td>\n",
       "      <td>-0.048074</td>\n",
       "      <td>-0.584594</td>\n",
       "      <td>-0.787576</td>\n",
       "      <td>2</td>\n",
       "    </tr>\n",
       "    <tr>\n",
       "      <th>3</th>\n",
       "      <td>1.654339</td>\n",
       "      <td>-1.384011</td>\n",
       "      <td>1.483689</td>\n",
       "      <td>-0.453077</td>\n",
       "      <td>-0.264878</td>\n",
       "      <td>0.107558</td>\n",
       "      <td>0.411372</td>\n",
       "      <td>0.664069</td>\n",
       "      <td>-0.978798</td>\n",
       "      <td>-0.461036</td>\n",
       "      <td>-0.584594</td>\n",
       "      <td>0.450707</td>\n",
       "      <td>3</td>\n",
       "    </tr>\n",
       "    <tr>\n",
       "      <th>4</th>\n",
       "      <td>-0.528194</td>\n",
       "      <td>0.961576</td>\n",
       "      <td>-1.391037</td>\n",
       "      <td>-0.453077</td>\n",
       "      <td>-0.243630</td>\n",
       "      <td>-0.466047</td>\n",
       "      <td>-0.379014</td>\n",
       "      <td>0.558100</td>\n",
       "      <td>1.288240</td>\n",
       "      <td>-0.579025</td>\n",
       "      <td>-0.959946</td>\n",
       "      <td>-0.787576</td>\n",
       "      <td>2</td>\n",
       "    </tr>\n",
       "  </tbody>\n",
       "</table>\n",
       "</div>"
      ],
      "text/plain": [
       "   fixed acidity  volatile acidity  citric acid  residual sugar  chlorides  \\\n",
       "0      -0.528194          0.961576    -1.391037       -0.453077  -0.243630   \n",
       "1      -0.298454          1.966827    -1.391037        0.043403   0.223805   \n",
       "2      -0.298454          1.296660    -1.185699       -0.169374   0.096323   \n",
       "3       1.654339         -1.384011     1.483689       -0.453077  -0.264878   \n",
       "4      -0.528194          0.961576    -1.391037       -0.453077  -0.243630   \n",
       "\n",
       "   free sulfur dioxide  total sulfur dioxide   density        pH  sulphates  \\\n",
       "0            -0.466047             -0.379014  0.558100  1.288240  -0.579025   \n",
       "1             0.872365              0.624168  0.028252 -0.719708   0.128910   \n",
       "2            -0.083643              0.228975  0.134222 -0.331073  -0.048074   \n",
       "3             0.107558              0.411372  0.664069 -0.978798  -0.461036   \n",
       "4            -0.466047             -0.379014  0.558100  1.288240  -0.579025   \n",
       "\n",
       "    alcohol   quality  label  \n",
       "0 -0.959946 -0.787576      2  \n",
       "1 -0.584594 -0.787576      2  \n",
       "2 -0.584594 -0.787576      2  \n",
       "3 -0.584594  0.450707      3  \n",
       "4 -0.959946 -0.787576      2  "
      ]
     },
     "execution_count": 25,
     "metadata": {},
     "output_type": "execute_result"
    }
   ],
   "source": [
    "data_df.head()"
   ]
  },
  {
   "cell_type": "code",
   "execution_count": 26,
   "metadata": {
    "colab": {
     "base_uri": "https://localhost:8080/",
     "height": 297
    },
    "id": "rLSIw4GJAjIF",
    "outputId": "5c24977f-d49a-4bfa-9702-3d34894834a2"
   },
   "outputs": [
    {
     "data": {
      "text/html": [
       "<div>\n",
       "<style scoped>\n",
       "    .dataframe tbody tr th:only-of-type {\n",
       "        vertical-align: middle;\n",
       "    }\n",
       "\n",
       "    .dataframe tbody tr th {\n",
       "        vertical-align: top;\n",
       "    }\n",
       "\n",
       "    .dataframe thead th {\n",
       "        text-align: right;\n",
       "    }\n",
       "</style>\n",
       "<table border=\"1\" class=\"dataframe\">\n",
       "  <thead>\n",
       "    <tr style=\"text-align: right;\">\n",
       "      <th></th>\n",
       "      <th>fixed acidity</th>\n",
       "      <th>volatile acidity</th>\n",
       "      <th>citric acid</th>\n",
       "      <th>residual sugar</th>\n",
       "      <th>chlorides</th>\n",
       "      <th>free sulfur dioxide</th>\n",
       "      <th>total sulfur dioxide</th>\n",
       "      <th>density</th>\n",
       "      <th>pH</th>\n",
       "      <th>sulphates</th>\n",
       "      <th>alcohol</th>\n",
       "      <th>quality</th>\n",
       "      <th>label</th>\n",
       "    </tr>\n",
       "  </thead>\n",
       "  <tbody>\n",
       "    <tr>\n",
       "      <th>count</th>\n",
       "      <td>1.599000e+03</td>\n",
       "      <td>1.599000e+03</td>\n",
       "      <td>1.599000e+03</td>\n",
       "      <td>1.599000e+03</td>\n",
       "      <td>1.599000e+03</td>\n",
       "      <td>1.599000e+03</td>\n",
       "      <td>1.599000e+03</td>\n",
       "      <td>1.599000e+03</td>\n",
       "      <td>1.599000e+03</td>\n",
       "      <td>1.599000e+03</td>\n",
       "      <td>1.599000e+03</td>\n",
       "      <td>1.599000e+03</td>\n",
       "      <td>1599.000000</td>\n",
       "    </tr>\n",
       "    <tr>\n",
       "      <th>mean</th>\n",
       "      <td>-1.570643e-14</td>\n",
       "      <td>-1.590973e-15</td>\n",
       "      <td>6.045057e-15</td>\n",
       "      <td>-1.344696e-15</td>\n",
       "      <td>4.924731e-15</td>\n",
       "      <td>-7.724347e-17</td>\n",
       "      <td>1.619856e-16</td>\n",
       "      <td>4.946064e-13</td>\n",
       "      <td>-5.937923e-15</td>\n",
       "      <td>-2.175036e-15</td>\n",
       "      <td>2.580411e-14</td>\n",
       "      <td>1.081756e-15</td>\n",
       "      <td>2.636023</td>\n",
       "    </tr>\n",
       "    <tr>\n",
       "      <th>std</th>\n",
       "      <td>1.000000e+00</td>\n",
       "      <td>1.000000e+00</td>\n",
       "      <td>1.000000e+00</td>\n",
       "      <td>1.000000e+00</td>\n",
       "      <td>1.000000e+00</td>\n",
       "      <td>1.000000e+00</td>\n",
       "      <td>1.000000e+00</td>\n",
       "      <td>1.000000e+00</td>\n",
       "      <td>1.000000e+00</td>\n",
       "      <td>1.000000e+00</td>\n",
       "      <td>1.000000e+00</td>\n",
       "      <td>1.000000e+00</td>\n",
       "      <td>0.807569</td>\n",
       "    </tr>\n",
       "    <tr>\n",
       "      <th>min</th>\n",
       "      <td>-2.136377e+00</td>\n",
       "      <td>-2.277567e+00</td>\n",
       "      <td>-1.391037e+00</td>\n",
       "      <td>-1.162333e+00</td>\n",
       "      <td>-1.603443e+00</td>\n",
       "      <td>-1.422055e+00</td>\n",
       "      <td>-1.230199e+00</td>\n",
       "      <td>-3.537625e+00</td>\n",
       "      <td>-3.699244e+00</td>\n",
       "      <td>-1.935902e+00</td>\n",
       "      <td>-1.898325e+00</td>\n",
       "      <td>-3.264143e+00</td>\n",
       "      <td>0.000000</td>\n",
       "    </tr>\n",
       "    <tr>\n",
       "      <th>25%</th>\n",
       "      <td>-7.004996e-01</td>\n",
       "      <td>-7.696903e-01</td>\n",
       "      <td>-9.290275e-01</td>\n",
       "      <td>-4.530767e-01</td>\n",
       "      <td>-3.711129e-01</td>\n",
       "      <td>-8.484502e-01</td>\n",
       "      <td>-7.438076e-01</td>\n",
       "      <td>-6.075656e-01</td>\n",
       "      <td>-6.549356e-01</td>\n",
       "      <td>-6.380200e-01</td>\n",
       "      <td>-8.661079e-01</td>\n",
       "      <td>-7.875763e-01</td>\n",
       "      <td>2.000000</td>\n",
       "    </tr>\n",
       "    <tr>\n",
       "      <th>50%</th>\n",
       "      <td>-2.410190e-01</td>\n",
       "      <td>-4.367545e-02</td>\n",
       "      <td>-5.634264e-02</td>\n",
       "      <td>-2.402999e-01</td>\n",
       "      <td>-1.798892e-01</td>\n",
       "      <td>-1.792441e-01</td>\n",
       "      <td>-2.574163e-01</td>\n",
       "      <td>1.759533e-03</td>\n",
       "      <td>-7.210449e-03</td>\n",
       "      <td>-2.250577e-01</td>\n",
       "      <td>-2.092427e-01</td>\n",
       "      <td>4.507074e-01</td>\n",
       "      <td>3.000000</td>\n",
       "    </tr>\n",
       "    <tr>\n",
       "      <th>75%</th>\n",
       "      <td>5.056370e-01</td>\n",
       "      <td>6.264921e-01</td>\n",
       "      <td>7.650078e-01</td>\n",
       "      <td>4.340257e-02</td>\n",
       "      <td>5.382858e-02</td>\n",
       "      <td>4.899619e-01</td>\n",
       "      <td>4.721707e-01</td>\n",
       "      <td>5.766445e-01</td>\n",
       "      <td>5.757422e-01</td>\n",
       "      <td>4.238832e-01</td>\n",
       "      <td>6.352984e-01</td>\n",
       "      <td>4.507074e-01</td>\n",
       "      <td>3.000000</td>\n",
       "    </tr>\n",
       "    <tr>\n",
       "      <th>max</th>\n",
       "      <td>4.353787e+00</td>\n",
       "      <td>5.876138e+00</td>\n",
       "      <td>3.742403e+00</td>\n",
       "      <td>9.192806e+00</td>\n",
       "      <td>1.112355e+01</td>\n",
       "      <td>5.365606e+00</td>\n",
       "      <td>7.372847e+00</td>\n",
       "      <td>3.678904e+00</td>\n",
       "      <td>4.526866e+00</td>\n",
       "      <td>7.916200e+00</td>\n",
       "      <td>4.201138e+00</td>\n",
       "      <td>2.927275e+00</td>\n",
       "      <td>5.000000</td>\n",
       "    </tr>\n",
       "  </tbody>\n",
       "</table>\n",
       "</div>"
      ],
      "text/plain": [
       "       fixed acidity  volatile acidity   citric acid  residual sugar  \\\n",
       "count   1.599000e+03      1.599000e+03  1.599000e+03    1.599000e+03   \n",
       "mean   -1.570643e-14     -1.590973e-15  6.045057e-15   -1.344696e-15   \n",
       "std     1.000000e+00      1.000000e+00  1.000000e+00    1.000000e+00   \n",
       "min    -2.136377e+00     -2.277567e+00 -1.391037e+00   -1.162333e+00   \n",
       "25%    -7.004996e-01     -7.696903e-01 -9.290275e-01   -4.530767e-01   \n",
       "50%    -2.410190e-01     -4.367545e-02 -5.634264e-02   -2.402999e-01   \n",
       "75%     5.056370e-01      6.264921e-01  7.650078e-01    4.340257e-02   \n",
       "max     4.353787e+00      5.876138e+00  3.742403e+00    9.192806e+00   \n",
       "\n",
       "          chlorides  free sulfur dioxide  total sulfur dioxide       density  \\\n",
       "count  1.599000e+03         1.599000e+03          1.599000e+03  1.599000e+03   \n",
       "mean   4.924731e-15        -7.724347e-17          1.619856e-16  4.946064e-13   \n",
       "std    1.000000e+00         1.000000e+00          1.000000e+00  1.000000e+00   \n",
       "min   -1.603443e+00        -1.422055e+00         -1.230199e+00 -3.537625e+00   \n",
       "25%   -3.711129e-01        -8.484502e-01         -7.438076e-01 -6.075656e-01   \n",
       "50%   -1.798892e-01        -1.792441e-01         -2.574163e-01  1.759533e-03   \n",
       "75%    5.382858e-02         4.899619e-01          4.721707e-01  5.766445e-01   \n",
       "max    1.112355e+01         5.365606e+00          7.372847e+00  3.678904e+00   \n",
       "\n",
       "                 pH     sulphates       alcohol       quality        label  \n",
       "count  1.599000e+03  1.599000e+03  1.599000e+03  1.599000e+03  1599.000000  \n",
       "mean  -5.937923e-15 -2.175036e-15  2.580411e-14  1.081756e-15     2.636023  \n",
       "std    1.000000e+00  1.000000e+00  1.000000e+00  1.000000e+00     0.807569  \n",
       "min   -3.699244e+00 -1.935902e+00 -1.898325e+00 -3.264143e+00     0.000000  \n",
       "25%   -6.549356e-01 -6.380200e-01 -8.661079e-01 -7.875763e-01     2.000000  \n",
       "50%   -7.210449e-03 -2.250577e-01 -2.092427e-01  4.507074e-01     3.000000  \n",
       "75%    5.757422e-01  4.238832e-01  6.352984e-01  4.507074e-01     3.000000  \n",
       "max    4.526866e+00  7.916200e+00  4.201138e+00  2.927275e+00     5.000000  "
      ]
     },
     "execution_count": 26,
     "metadata": {},
     "output_type": "execute_result"
    }
   ],
   "source": [
    "# sumamry statistics of the data\n",
    "data_df.describe()"
   ]
  },
  {
   "cell_type": "markdown",
   "metadata": {
    "id": "d0HMGVIQAwgL"
   },
   "source": [
    "## Load this dataset for training a neural network"
   ]
  },
  {
   "cell_type": "code",
   "execution_count": 35,
   "metadata": {
    "id": "a9hxNj99A23V"
   },
   "outputs": [],
   "source": [
    "# The dataset class\n",
    "class WineDataset(Dataset):\n",
    "\n",
    "    def __init__(self, data_df):\n",
    "        self.data_df = data_df\n",
    "        self.features = []\n",
    "        self.labels = []\n",
    "        for _, i in data_df.iterrows():\n",
    "            self.features.append([i['fixed acidity'], i['volatile acidity'], i['citric acid'], i['residual sugar'], i['chlorides'], i['free sulfur dioxide'], i['total sulfur dioxide'], i['density'], i['pH'], i['sulphates'], i['alcohol']])\n",
    "            self.labels.append(i['label'])\n",
    "\n",
    "    def __len__(self):\n",
    "        return len(self.data_df)\n",
    "\n",
    "    def __getitem__(self, idx):\n",
    "        if torch.is_tensor(idx):\n",
    "            idx = idx.tolist()\n",
    "\n",
    "        features = self.features[idx]\n",
    "        features = torch.FloatTensor(features)\n",
    "\n",
    "        labels = torch.tensor(int(self.labels[idx]), dtype = torch.long)\n",
    "\n",
    "        return {'labels': labels, 'features': features}\n",
    "\n",
    "wine_dataset = WineDataset(data_df)\n",
    "train_dataset, val_dataset, test_dataset = torch.utils.data.random_split(wine_dataset, [0.8, 0.1, 0.1])\n",
    "\n",
    "# The dataloader\n",
    "train_dataloader = DataLoader(train_dataset, batch_size = 4, shuffle = True, num_workers = 0)\n",
    "val_dataloader = DataLoader(val_dataset, batch_size = 4, shuffle = False, num_workers = 0)\n",
    "test_dataloader = DataLoader(test_dataset, batch_size = 4, shuffle = False, num_workers = 0)"
   ]
  },
  {
   "cell_type": "code",
   "execution_count": 36,
   "metadata": {
    "colab": {
     "base_uri": "https://localhost:8080/"
    },
    "id": "T7paaLBxKIKV",
    "outputId": "4de080df-4b1b-4aa0-833e-1be241c51599"
   },
   "outputs": [
    {
     "name": "stdout",
     "output_type": "stream",
     "text": [
      "{'labels': tensor(2), 'features': tensor([-0.5282,  0.9616, -1.3910, -0.4531, -0.2436, -0.4660, -0.3790,  0.5581,\n",
      "         1.2882, -0.5790, -0.9599])}\n"
     ]
    }
   ],
   "source": [
    "# peak into the dataset\n",
    "for i in wine_dataset:\n",
    "    print(i)\n",
    "    break"
   ]
  },
  {
   "cell_type": "markdown",
   "metadata": {
    "id": "wfUddVfdDRpy"
   },
   "source": [
    "## Neural Network"
   ]
  },
  {
   "cell_type": "code",
   "execution_count": 37,
   "metadata": {
    "id": "h3SKAUaHGsE7"
   },
   "outputs": [],
   "source": [
    "# change the device to gpu if available\n",
    "device = torch.device('cuda' if torch.cuda.is_available() else 'cpu')"
   ]
  },
  {
   "cell_type": "code",
   "execution_count": 38,
   "metadata": {
    "id": "xq1Z_rukDTz-"
   },
   "outputs": [],
   "source": [
    "class WineModel(torch.nn.Module):\n",
    "\n",
    "    def __init__(self):\n",
    "        super(WineModel, self).__init__()\n",
    "\n",
    "        self.linear1 = torch.nn.Linear(11, 200)\n",
    "        self.activation = torch.nn.ReLU()\n",
    "        self.linear2 = torch.nn.Linear(200, 6)\n",
    "        self.softmax = torch.nn.Softmax(dim =1)\n",
    "\n",
    "    def forward(self, x):\n",
    "        x = self.linear1(x)\n",
    "        x = self.activation(x)\n",
    "        x = self.linear2(x)\n",
    "        x = self.softmax(x)\n",
    "        return x\n",
    "\n",
    "winemodel = WineModel().to(device)"
   ]
  },
  {
   "cell_type": "markdown",
   "metadata": {
    "id": "4qb3GgFzEr5S"
   },
   "source": [
    "## Training"
   ]
  },
  {
   "cell_type": "code",
   "execution_count": 43,
   "metadata": {
    "id": "8_mWSPkrEtcY"
   },
   "outputs": [],
   "source": [
    "# Define and the loss function and optimizer\n",
    "criterion = nn.CrossEntropyLoss().to(device)\n",
    "                                            # ENHANCEMENT 2\n",
    "optimizer = AdamW(winemodel.parameters(), lr = 1e-1)"
   ]
  },
  {
   "cell_type": "code",
   "execution_count": 44,
   "metadata": {
    "id": "AS13PO4tJGnm"
   },
   "outputs": [],
   "source": [
    "# Lets define the training steps\n",
    "\n",
    "def accuracy(preds, labels):\n",
    "    preds = torch.argmax(preds, dim=1).flatten()\n",
    "    labels = labels.flatten()\n",
    "    return torch.sum(preds == labels) / len(labels)\n",
    "\n",
    "def train(model, data_loader, optimizer, criterion):\n",
    "    epoch_loss = 0\n",
    "    epoch_acc = 0\n",
    "\n",
    "    model.train()\n",
    "    for d in tqdm(data_loader):\n",
    "        inputs = d['features'].to(device)\n",
    "        labels = d['labels'].to(device)\n",
    "        outputs = winemodel(inputs)\n",
    "\n",
    "        _, preds = torch.max(outputs, dim=1)\n",
    "        loss = criterion(outputs, labels)\n",
    "        acc = accuracy(outputs, labels)\n",
    "\n",
    "        loss.backward()\n",
    "        optimizer.step()\n",
    "        optimizer.zero_grad()\n",
    "\n",
    "        epoch_loss += loss.item()\n",
    "        epoch_acc += acc.item()\n",
    "\n",
    "    return epoch_loss / len(data_loader), epoch_acc / len(data_loader)\n",
    "\n",
    "# Lets define the testing steps\n",
    "def evaluate(model, data_loader, criterion):\n",
    "    epoch_loss = 0\n",
    "    epoch_acc = 0\n",
    "    # ENHANCEMENT 1\n",
    "    epoch_precision = 0\n",
    "    epoch_recall = 0\n",
    "    epoch_f1 = 0\n",
    "\n",
    "    model.eval()\n",
    "    with torch.no_grad():\n",
    "        for d in data_loader:\n",
    "            inputs = d['features'].to(device)\n",
    "            labels = d['labels'].to(device)\n",
    "            outputs = winemodel(inputs)\n",
    "\n",
    "            _, preds = torch.max(outputs, dim=1)\n",
    "            loss = criterion(outputs, labels)\n",
    "            acc = accuracy(outputs, labels)\n",
    "            epoch_loss += loss.item()\n",
    "            epoch_acc += acc.item()\n",
    "            \n",
    "            # ENHANCEMENT 1\n",
    "            precision = precision_score(labels.cpu(), preds.cpu(), average='weighted', zero_division=0)\n",
    "            recall = recall_score(labels.cpu(), preds.cpu(), average='weighted',zero_division=0)\n",
    "            f1 = f1_score(labels.cpu(), preds.cpu(), average='weighted',zero_division=0)\n",
    "            epoch_precision += precision\n",
    "            epoch_recall += recall\n",
    "            epoch_f1 += f1\n",
    "            \n",
    "    num_batches = len(data_loader)\n",
    "    return (\n",
    "        epoch_loss / num_batches,\n",
    "        epoch_acc / num_batches,\n",
    "        \n",
    "        # ENHANCEMENT 1\n",
    "        epoch_precision / num_batches, \n",
    "        epoch_recall / num_batches,\n",
    "        epoch_f1 / num_batches\n",
    "    )\n",
    "\n"
   ]
  },
  {
   "cell_type": "code",
   "execution_count": 45,
   "metadata": {
    "id": "algZYvjGQYS3",
    "scrolled": true
   },
   "outputs": [
    {
     "data": {
      "application/vnd.jupyter.widget-view+json": {
       "model_id": "d0e878a7b4da45be847aef53e0c4c09a",
       "version_major": 2,
       "version_minor": 0
      },
      "text/plain": [
       "  0%|          | 0/320 [00:00<?, ?it/s]"
      ]
     },
     "metadata": {},
     "output_type": "display_data"
    },
    {
     "name": "stdout",
     "output_type": "stream",
     "text": [
      "| Epoch: 01 | Train Loss: 1.627 | Train Acc: 41.56% | Val. Loss: 1.562 | Val. Acc: 48.12% | Val. Precision: 31.667 | Val. Recall: 48.125 | Val. F1-score: 36.693 |\n"
     ]
    },
    {
     "data": {
      "application/vnd.jupyter.widget-view+json": {
       "model_id": "2893d2d905454c69ba15af570380099b",
       "version_major": 2,
       "version_minor": 0
      },
      "text/plain": [
       "  0%|          | 0/320 [00:00<?, ?it/s]"
      ]
     },
     "metadata": {},
     "output_type": "display_data"
    },
    {
     "name": "stdout",
     "output_type": "stream",
     "text": [
      "| Epoch: 02 | Train Loss: 1.629 | Train Acc: 41.48% | Val. Loss: 1.575 | Val. Acc: 46.88% | Val. Precision: 28.906 | Val. Recall: 46.875 | Val. F1-score: 34.798 |\n"
     ]
    },
    {
     "data": {
      "application/vnd.jupyter.widget-view+json": {
       "model_id": "6613b4f420c84e8482f03a7557eb9b96",
       "version_major": 2,
       "version_minor": 0
      },
      "text/plain": [
       "  0%|          | 0/320 [00:00<?, ?it/s]"
      ]
     },
     "metadata": {},
     "output_type": "display_data"
    },
    {
     "name": "stdout",
     "output_type": "stream",
     "text": [
      "| Epoch: 03 | Train Loss: 1.629 | Train Acc: 41.48% | Val. Loss: 1.575 | Val. Acc: 46.88% | Val. Precision: 28.906 | Val. Recall: 46.875 | Val. F1-score: 34.798 |\n"
     ]
    },
    {
     "data": {
      "application/vnd.jupyter.widget-view+json": {
       "model_id": "4a9c749476cf49afad10a84f70125a5e",
       "version_major": 2,
       "version_minor": 0
      },
      "text/plain": [
       "  0%|          | 0/320 [00:00<?, ?it/s]"
      ]
     },
     "metadata": {},
     "output_type": "display_data"
    },
    {
     "name": "stdout",
     "output_type": "stream",
     "text": [
      "| Epoch: 04 | Train Loss: 1.701 | Train Acc: 34.22% | Val. Loss: 1.818 | Val. Acc: 22.50% | Val. Precision: 24.167 | Val. Recall: 22.500 | Val. F1-score: 21.786 |\n"
     ]
    },
    {
     "data": {
      "application/vnd.jupyter.widget-view+json": {
       "model_id": "371624fb1c4e41dfb62a93aea1531732",
       "version_major": 2,
       "version_minor": 0
      },
      "text/plain": [
       "  0%|          | 0/320 [00:00<?, ?it/s]"
      ]
     },
     "metadata": {},
     "output_type": "display_data"
    },
    {
     "name": "stdout",
     "output_type": "stream",
     "text": [
      "| Epoch: 05 | Train Loss: 1.718 | Train Acc: 32.50% | Val. Loss: 1.575 | Val. Acc: 46.88% | Val. Precision: 28.906 | Val. Recall: 46.875 | Val. F1-score: 34.798 |\n"
     ]
    },
    {
     "data": {
      "application/vnd.jupyter.widget-view+json": {
       "model_id": "59ab13448b1d4b22a5bdac5617eae4e2",
       "version_major": 2,
       "version_minor": 0
      },
      "text/plain": [
       "  0%|          | 0/320 [00:00<?, ?it/s]"
      ]
     },
     "metadata": {},
     "output_type": "display_data"
    },
    {
     "name": "stdout",
     "output_type": "stream",
     "text": [
      "| Epoch: 06 | Train Loss: 1.629 | Train Acc: 41.48% | Val. Loss: 1.575 | Val. Acc: 46.88% | Val. Precision: 28.906 | Val. Recall: 46.875 | Val. F1-score: 34.798 |\n"
     ]
    },
    {
     "data": {
      "application/vnd.jupyter.widget-view+json": {
       "model_id": "5b76e9ecb0af4e30b6d0b8aa71d164b7",
       "version_major": 2,
       "version_minor": 0
      },
      "text/plain": [
       "  0%|          | 0/320 [00:00<?, ?it/s]"
      ]
     },
     "metadata": {},
     "output_type": "display_data"
    },
    {
     "name": "stdout",
     "output_type": "stream",
     "text": [
      "| Epoch: 07 | Train Loss: 1.629 | Train Acc: 41.48% | Val. Loss: 1.575 | Val. Acc: 46.88% | Val. Precision: 28.906 | Val. Recall: 46.875 | Val. F1-score: 34.798 |\n"
     ]
    },
    {
     "data": {
      "application/vnd.jupyter.widget-view+json": {
       "model_id": "31be50c2d0c04288ac9ce22391efd863",
       "version_major": 2,
       "version_minor": 0
      },
      "text/plain": [
       "  0%|          | 0/320 [00:00<?, ?it/s]"
      ]
     },
     "metadata": {},
     "output_type": "display_data"
    },
    {
     "name": "stdout",
     "output_type": "stream",
     "text": [
      "| Epoch: 08 | Train Loss: 1.629 | Train Acc: 41.48% | Val. Loss: 1.575 | Val. Acc: 46.88% | Val. Precision: 28.906 | Val. Recall: 46.875 | Val. F1-score: 34.798 |\n"
     ]
    },
    {
     "data": {
      "application/vnd.jupyter.widget-view+json": {
       "model_id": "749cda7182494e3086c5747da3cc384d",
       "version_major": 2,
       "version_minor": 0
      },
      "text/plain": [
       "  0%|          | 0/320 [00:00<?, ?it/s]"
      ]
     },
     "metadata": {},
     "output_type": "display_data"
    },
    {
     "name": "stdout",
     "output_type": "stream",
     "text": [
      "| Epoch: 09 | Train Loss: 1.629 | Train Acc: 41.48% | Val. Loss: 1.575 | Val. Acc: 46.88% | Val. Precision: 28.906 | Val. Recall: 46.875 | Val. F1-score: 34.798 |\n"
     ]
    },
    {
     "data": {
      "application/vnd.jupyter.widget-view+json": {
       "model_id": "2e5b5f16a4ae4219a75ce46ffa20eb6f",
       "version_major": 2,
       "version_minor": 0
      },
      "text/plain": [
       "  0%|          | 0/320 [00:00<?, ?it/s]"
      ]
     },
     "metadata": {},
     "output_type": "display_data"
    },
    {
     "name": "stdout",
     "output_type": "stream",
     "text": [
      "| Epoch: 10 | Train Loss: 1.654 | Train Acc: 38.98% | Val. Loss: 1.650 | Val. Acc: 39.38% | Val. Precision: 21.719 | Val. Recall: 39.375 | Val. F1-score: 27.060 |\n"
     ]
    },
    {
     "data": {
      "application/vnd.jupyter.widget-view+json": {
       "model_id": "e1ed654a83bf46608822958e93dd2c25",
       "version_major": 2,
       "version_minor": 0
      },
      "text/plain": [
       "  0%|          | 0/320 [00:00<?, ?it/s]"
      ]
     },
     "metadata": {},
     "output_type": "display_data"
    },
    {
     "name": "stdout",
     "output_type": "stream",
     "text": [
      "| Epoch: 11 | Train Loss: 1.641 | Train Acc: 40.23% | Val. Loss: 1.650 | Val. Acc: 39.38% | Val. Precision: 21.719 | Val. Recall: 39.375 | Val. F1-score: 27.060 |\n"
     ]
    },
    {
     "data": {
      "application/vnd.jupyter.widget-view+json": {
       "model_id": "d0152b627fde404fa089e224240d2d9e",
       "version_major": 2,
       "version_minor": 0
      },
      "text/plain": [
       "  0%|          | 0/320 [00:00<?, ?it/s]"
      ]
     },
     "metadata": {},
     "output_type": "display_data"
    },
    {
     "name": "stdout",
     "output_type": "stream",
     "text": [
      "| Epoch: 12 | Train Loss: 1.641 | Train Acc: 40.23% | Val. Loss: 1.650 | Val. Acc: 39.38% | Val. Precision: 21.719 | Val. Recall: 39.375 | Val. F1-score: 27.060 |\n"
     ]
    },
    {
     "data": {
      "application/vnd.jupyter.widget-view+json": {
       "model_id": "ae5f79bba94a40748d475d9b076b7591",
       "version_major": 2,
       "version_minor": 0
      },
      "text/plain": [
       "  0%|          | 0/320 [00:00<?, ?it/s]"
      ]
     },
     "metadata": {},
     "output_type": "display_data"
    },
    {
     "name": "stdout",
     "output_type": "stream",
     "text": [
      "| Epoch: 13 | Train Loss: 1.641 | Train Acc: 40.23% | Val. Loss: 1.650 | Val. Acc: 39.38% | Val. Precision: 21.719 | Val. Recall: 39.375 | Val. F1-score: 27.060 |\n"
     ]
    },
    {
     "data": {
      "application/vnd.jupyter.widget-view+json": {
       "model_id": "7725877a15834d4b9549973e5d22ea76",
       "version_major": 2,
       "version_minor": 0
      },
      "text/plain": [
       "  0%|          | 0/320 [00:00<?, ?it/s]"
      ]
     },
     "metadata": {},
     "output_type": "display_data"
    },
    {
     "name": "stdout",
     "output_type": "stream",
     "text": [
      "| Epoch: 14 | Train Loss: 1.642 | Train Acc: 40.16% | Val. Loss: 1.650 | Val. Acc: 39.38% | Val. Precision: 21.719 | Val. Recall: 39.375 | Val. F1-score: 27.060 |\n"
     ]
    },
    {
     "data": {
      "application/vnd.jupyter.widget-view+json": {
       "model_id": "7ca9dce069ac46da8316338c4bf4d6bc",
       "version_major": 2,
       "version_minor": 0
      },
      "text/plain": [
       "  0%|          | 0/320 [00:00<?, ?it/s]"
      ]
     },
     "metadata": {},
     "output_type": "display_data"
    },
    {
     "name": "stdout",
     "output_type": "stream",
     "text": [
      "| Epoch: 15 | Train Loss: 1.641 | Train Acc: 40.23% | Val. Loss: 1.650 | Val. Acc: 39.38% | Val. Precision: 21.719 | Val. Recall: 39.375 | Val. F1-score: 27.060 |\n"
     ]
    },
    {
     "data": {
      "application/vnd.jupyter.widget-view+json": {
       "model_id": "6b9e82b717294435abad7e922bf85c47",
       "version_major": 2,
       "version_minor": 0
      },
      "text/plain": [
       "  0%|          | 0/320 [00:00<?, ?it/s]"
      ]
     },
     "metadata": {},
     "output_type": "display_data"
    },
    {
     "name": "stdout",
     "output_type": "stream",
     "text": [
      "| Epoch: 16 | Train Loss: 1.653 | Train Acc: 39.06% | Val. Loss: 1.781 | Val. Acc: 26.25% | Val. Precision: 20.937 | Val. Recall: 26.250 | Val. F1-score: 21.089 |\n"
     ]
    },
    {
     "data": {
      "application/vnd.jupyter.widget-view+json": {
       "model_id": "25bee1865a1f40e08f96efb4433fb99c",
       "version_major": 2,
       "version_minor": 0
      },
      "text/plain": [
       "  0%|          | 0/320 [00:00<?, ?it/s]"
      ]
     },
     "metadata": {},
     "output_type": "display_data"
    },
    {
     "name": "stdout",
     "output_type": "stream",
     "text": [
      "| Epoch: 17 | Train Loss: 1.892 | Train Acc: 15.16% | Val. Loss: 1.969 | Val. Acc: 7.50% | Val. Precision: 3.438 | Val. Recall: 7.500 | Val. F1-score: 4.458 |\n"
     ]
    },
    {
     "data": {
      "application/vnd.jupyter.widget-view+json": {
       "model_id": "ef69497bc30a4fd78e4ae36466d8960c",
       "version_major": 2,
       "version_minor": 0
      },
      "text/plain": [
       "  0%|          | 0/320 [00:00<?, ?it/s]"
      ]
     },
     "metadata": {},
     "output_type": "display_data"
    },
    {
     "name": "stdout",
     "output_type": "stream",
     "text": [
      "| Epoch: 18 | Train Loss: 1.940 | Train Acc: 10.31% | Val. Loss: 1.969 | Val. Acc: 7.50% | Val. Precision: 3.542 | Val. Recall: 7.500 | Val. F1-score: 4.563 |\n"
     ]
    },
    {
     "data": {
      "application/vnd.jupyter.widget-view+json": {
       "model_id": "677c884bba1a466b8ce38b86f7d2e71b",
       "version_major": 2,
       "version_minor": 0
      },
      "text/plain": [
       "  0%|          | 0/320 [00:00<?, ?it/s]"
      ]
     },
     "metadata": {},
     "output_type": "display_data"
    },
    {
     "name": "stdout",
     "output_type": "stream",
     "text": [
      "| Epoch: 19 | Train Loss: 1.939 | Train Acc: 10.47% | Val. Loss: 1.969 | Val. Acc: 7.50% | Val. Precision: 3.542 | Val. Recall: 7.500 | Val. F1-score: 4.563 |\n"
     ]
    },
    {
     "data": {
      "application/vnd.jupyter.widget-view+json": {
       "model_id": "191f9ac5658f4753b29d757eef5ceb14",
       "version_major": 2,
       "version_minor": 0
      },
      "text/plain": [
       "  0%|          | 0/320 [00:00<?, ?it/s]"
      ]
     },
     "metadata": {},
     "output_type": "display_data"
    },
    {
     "name": "stdout",
     "output_type": "stream",
     "text": [
      "| Epoch: 20 | Train Loss: 2.001 | Train Acc: 4.22% | Val. Loss: 2.000 | Val. Acc: 4.38% | Val. Precision: 1.094 | Val. Recall: 4.375 | Val. F1-score: 1.750 |\n"
     ]
    },
    {
     "data": {
      "application/vnd.jupyter.widget-view+json": {
       "model_id": "f0075e4a887242189a5b857f362bc965",
       "version_major": 2,
       "version_minor": 0
      },
      "text/plain": [
       "  0%|          | 0/320 [00:00<?, ?it/s]"
      ]
     },
     "metadata": {},
     "output_type": "display_data"
    },
    {
     "name": "stdout",
     "output_type": "stream",
     "text": [
      "| Epoch: 21 | Train Loss: 2.009 | Train Acc: 3.44% | Val. Loss: 2.000 | Val. Acc: 4.38% | Val. Precision: 1.094 | Val. Recall: 4.375 | Val. F1-score: 1.750 |\n"
     ]
    },
    {
     "data": {
      "application/vnd.jupyter.widget-view+json": {
       "model_id": "bf63ad5952184f75a7cef57decc5423e",
       "version_major": 2,
       "version_minor": 0
      },
      "text/plain": [
       "  0%|          | 0/320 [00:00<?, ?it/s]"
      ]
     },
     "metadata": {},
     "output_type": "display_data"
    },
    {
     "name": "stdout",
     "output_type": "stream",
     "text": [
      "| Epoch: 22 | Train Loss: 2.009 | Train Acc: 3.44% | Val. Loss: 2.000 | Val. Acc: 4.38% | Val. Precision: 1.094 | Val. Recall: 4.375 | Val. F1-score: 1.750 |\n"
     ]
    },
    {
     "data": {
      "application/vnd.jupyter.widget-view+json": {
       "model_id": "36a05e68fc9f442c8f8664f8c0cbfb4b",
       "version_major": 2,
       "version_minor": 0
      },
      "text/plain": [
       "  0%|          | 0/320 [00:00<?, ?it/s]"
      ]
     },
     "metadata": {},
     "output_type": "display_data"
    },
    {
     "name": "stdout",
     "output_type": "stream",
     "text": [
      "| Epoch: 23 | Train Loss: 2.009 | Train Acc: 3.44% | Val. Loss: 1.993 | Val. Acc: 5.00% | Val. Precision: 1.823 | Val. Recall: 5.000 | Val. F1-score: 2.625 |\n"
     ]
    },
    {
     "data": {
      "application/vnd.jupyter.widget-view+json": {
       "model_id": "9e85946ecf2143cbab2878482c20393f",
       "version_major": 2,
       "version_minor": 0
      },
      "text/plain": [
       "  0%|          | 0/320 [00:00<?, ?it/s]"
      ]
     },
     "metadata": {},
     "output_type": "display_data"
    },
    {
     "name": "stdout",
     "output_type": "stream",
     "text": [
      "| Epoch: 24 | Train Loss: 1.945 | Train Acc: 9.84% | Val. Loss: 1.869 | Val. Acc: 17.50% | Val. Precision: 24.115 | Val. Recall: 17.500 | Val. F1-score: 18.586 |\n"
     ]
    },
    {
     "data": {
      "application/vnd.jupyter.widget-view+json": {
       "model_id": "4315ebdb30554e55b92878a5c4e1834f",
       "version_major": 2,
       "version_minor": 0
      },
      "text/plain": [
       "  0%|          | 0/320 [00:00<?, ?it/s]"
      ]
     },
     "metadata": {},
     "output_type": "display_data"
    },
    {
     "name": "stdout",
     "output_type": "stream",
     "text": [
      "| Epoch: 25 | Train Loss: 1.792 | Train Acc: 25.16% | Val. Loss: 1.650 | Val. Acc: 39.38% | Val. Precision: 21.719 | Val. Recall: 39.375 | Val. F1-score: 27.060 |\n"
     ]
    },
    {
     "data": {
      "application/vnd.jupyter.widget-view+json": {
       "model_id": "f768ae41393b444594eb12c6ee4f93ff",
       "version_major": 2,
       "version_minor": 0
      },
      "text/plain": [
       "  0%|          | 0/320 [00:00<?, ?it/s]"
      ]
     },
     "metadata": {},
     "output_type": "display_data"
    },
    {
     "name": "stdout",
     "output_type": "stream",
     "text": [
      "| Epoch: 26 | Train Loss: 1.641 | Train Acc: 40.23% | Val. Loss: 1.650 | Val. Acc: 39.38% | Val. Precision: 21.719 | Val. Recall: 39.375 | Val. F1-score: 27.060 |\n"
     ]
    },
    {
     "data": {
      "application/vnd.jupyter.widget-view+json": {
       "model_id": "c2eea87b6b0a47ccac35eb98176fbf65",
       "version_major": 2,
       "version_minor": 0
      },
      "text/plain": [
       "  0%|          | 0/320 [00:00<?, ?it/s]"
      ]
     },
     "metadata": {},
     "output_type": "display_data"
    },
    {
     "name": "stdout",
     "output_type": "stream",
     "text": [
      "| Epoch: 27 | Train Loss: 1.641 | Train Acc: 40.23% | Val. Loss: 1.650 | Val. Acc: 39.38% | Val. Precision: 21.719 | Val. Recall: 39.375 | Val. F1-score: 27.060 |\n"
     ]
    },
    {
     "data": {
      "application/vnd.jupyter.widget-view+json": {
       "model_id": "387c486c284a4f49917228b52d4c0c34",
       "version_major": 2,
       "version_minor": 0
      },
      "text/plain": [
       "  0%|          | 0/320 [00:00<?, ?it/s]"
      ]
     },
     "metadata": {},
     "output_type": "display_data"
    },
    {
     "name": "stdout",
     "output_type": "stream",
     "text": [
      "| Epoch: 28 | Train Loss: 1.641 | Train Acc: 40.23% | Val. Loss: 1.650 | Val. Acc: 39.38% | Val. Precision: 21.719 | Val. Recall: 39.375 | Val. F1-score: 27.060 |\n"
     ]
    },
    {
     "data": {
      "application/vnd.jupyter.widget-view+json": {
       "model_id": "8f0c8bc0255c420586f7cb29fee16e5a",
       "version_major": 2,
       "version_minor": 0
      },
      "text/plain": [
       "  0%|          | 0/320 [00:00<?, ?it/s]"
      ]
     },
     "metadata": {},
     "output_type": "display_data"
    },
    {
     "name": "stdout",
     "output_type": "stream",
     "text": [
      "| Epoch: 29 | Train Loss: 1.641 | Train Acc: 40.23% | Val. Loss: 1.650 | Val. Acc: 39.38% | Val. Precision: 21.719 | Val. Recall: 39.375 | Val. F1-score: 27.060 |\n"
     ]
    },
    {
     "data": {
      "application/vnd.jupyter.widget-view+json": {
       "model_id": "19ccdefbaa784593921c7ea4a732cbb1",
       "version_major": 2,
       "version_minor": 0
      },
      "text/plain": [
       "  0%|          | 0/320 [00:00<?, ?it/s]"
      ]
     },
     "metadata": {},
     "output_type": "display_data"
    },
    {
     "name": "stdout",
     "output_type": "stream",
     "text": [
      "| Epoch: 30 | Train Loss: 1.641 | Train Acc: 40.23% | Val. Loss: 1.650 | Val. Acc: 39.38% | Val. Precision: 21.719 | Val. Recall: 39.375 | Val. F1-score: 27.060 |\n"
     ]
    },
    {
     "data": {
      "application/vnd.jupyter.widget-view+json": {
       "model_id": "689f1e7f0bc849ac80e7c247cd2f402d",
       "version_major": 2,
       "version_minor": 0
      },
      "text/plain": [
       "  0%|          | 0/320 [00:00<?, ?it/s]"
      ]
     },
     "metadata": {},
     "output_type": "display_data"
    },
    {
     "name": "stdout",
     "output_type": "stream",
     "text": [
      "| Epoch: 31 | Train Loss: 1.641 | Train Acc: 40.23% | Val. Loss: 1.650 | Val. Acc: 39.38% | Val. Precision: 21.719 | Val. Recall: 39.375 | Val. F1-score: 27.060 |\n"
     ]
    },
    {
     "data": {
      "application/vnd.jupyter.widget-view+json": {
       "model_id": "0c97ba32f3e8452daa5eef9acc8b178e",
       "version_major": 2,
       "version_minor": 0
      },
      "text/plain": [
       "  0%|          | 0/320 [00:00<?, ?it/s]"
      ]
     },
     "metadata": {},
     "output_type": "display_data"
    },
    {
     "name": "stdout",
     "output_type": "stream",
     "text": [
      "| Epoch: 32 | Train Loss: 1.684 | Train Acc: 35.94% | Val. Loss: 1.691 | Val. Acc: 35.00% | Val. Precision: 23.646 | Val. Recall: 35.000 | Val. F1-score: 26.690 |\n"
     ]
    },
    {
     "data": {
      "application/vnd.jupyter.widget-view+json": {
       "model_id": "2e3ec78b6c0f45ffb74ad17a995391ee",
       "version_major": 2,
       "version_minor": 0
      },
      "text/plain": [
       "  0%|          | 0/320 [00:00<?, ?it/s]"
      ]
     },
     "metadata": {},
     "output_type": "display_data"
    },
    {
     "name": "stdout",
     "output_type": "stream",
     "text": [
      "| Epoch: 33 | Train Loss: 1.646 | Train Acc: 39.77% | Val. Loss: 1.650 | Val. Acc: 39.38% | Val. Precision: 21.719 | Val. Recall: 39.375 | Val. F1-score: 27.060 |\n"
     ]
    },
    {
     "data": {
      "application/vnd.jupyter.widget-view+json": {
       "model_id": "82ab289bdf2940ad99f3eb2f80589827",
       "version_major": 2,
       "version_minor": 0
      },
      "text/plain": [
       "  0%|          | 0/320 [00:00<?, ?it/s]"
      ]
     },
     "metadata": {},
     "output_type": "display_data"
    },
    {
     "name": "stdout",
     "output_type": "stream",
     "text": [
      "| Epoch: 34 | Train Loss: 1.640 | Train Acc: 40.31% | Val. Loss: 1.650 | Val. Acc: 39.38% | Val. Precision: 21.719 | Val. Recall: 39.375 | Val. F1-score: 27.060 |\n"
     ]
    },
    {
     "data": {
      "application/vnd.jupyter.widget-view+json": {
       "model_id": "3d01a9d12fba452eb739310ea6763793",
       "version_major": 2,
       "version_minor": 0
      },
      "text/plain": [
       "  0%|          | 0/320 [00:00<?, ?it/s]"
      ]
     },
     "metadata": {},
     "output_type": "display_data"
    },
    {
     "name": "stdout",
     "output_type": "stream",
     "text": [
      "| Epoch: 35 | Train Loss: 1.641 | Train Acc: 40.23% | Val. Loss: 1.650 | Val. Acc: 39.38% | Val. Precision: 21.719 | Val. Recall: 39.375 | Val. F1-score: 27.060 |\n"
     ]
    },
    {
     "data": {
      "application/vnd.jupyter.widget-view+json": {
       "model_id": "ab0fd808198f4ef392c9fea6059b7f19",
       "version_major": 2,
       "version_minor": 0
      },
      "text/plain": [
       "  0%|          | 0/320 [00:00<?, ?it/s]"
      ]
     },
     "metadata": {},
     "output_type": "display_data"
    },
    {
     "name": "stdout",
     "output_type": "stream",
     "text": [
      "| Epoch: 36 | Train Loss: 1.641 | Train Acc: 40.23% | Val. Loss: 1.650 | Val. Acc: 39.38% | Val. Precision: 21.719 | Val. Recall: 39.375 | Val. F1-score: 27.060 |\n"
     ]
    },
    {
     "data": {
      "application/vnd.jupyter.widget-view+json": {
       "model_id": "13d7c95247af4534822902c5ed7ac93e",
       "version_major": 2,
       "version_minor": 0
      },
      "text/plain": [
       "  0%|          | 0/320 [00:00<?, ?it/s]"
      ]
     },
     "metadata": {},
     "output_type": "display_data"
    },
    {
     "name": "stdout",
     "output_type": "stream",
     "text": [
      "| Epoch: 37 | Train Loss: 1.641 | Train Acc: 40.23% | Val. Loss: 1.650 | Val. Acc: 39.38% | Val. Precision: 21.719 | Val. Recall: 39.375 | Val. F1-score: 27.060 |\n"
     ]
    },
    {
     "data": {
      "application/vnd.jupyter.widget-view+json": {
       "model_id": "b99888148872410eb2f513994fc4d46d",
       "version_major": 2,
       "version_minor": 0
      },
      "text/plain": [
       "  0%|          | 0/320 [00:00<?, ?it/s]"
      ]
     },
     "metadata": {},
     "output_type": "display_data"
    },
    {
     "name": "stdout",
     "output_type": "stream",
     "text": [
      "| Epoch: 38 | Train Loss: 1.621 | Train Acc: 42.27% | Val. Loss: 1.575 | Val. Acc: 46.88% | Val. Precision: 28.906 | Val. Recall: 46.875 | Val. F1-score: 34.798 |\n"
     ]
    },
    {
     "data": {
      "application/vnd.jupyter.widget-view+json": {
       "model_id": "85948567569147f1954781431314e5e2",
       "version_major": 2,
       "version_minor": 0
      },
      "text/plain": [
       "  0%|          | 0/320 [00:00<?, ?it/s]"
      ]
     },
     "metadata": {},
     "output_type": "display_data"
    },
    {
     "name": "stdout",
     "output_type": "stream",
     "text": [
      "| Epoch: 39 | Train Loss: 1.629 | Train Acc: 41.48% | Val. Loss: 1.575 | Val. Acc: 46.88% | Val. Precision: 28.906 | Val. Recall: 46.875 | Val. F1-score: 34.798 |\n"
     ]
    },
    {
     "data": {
      "application/vnd.jupyter.widget-view+json": {
       "model_id": "52b5bd45cb904156b4bd8d734598353b",
       "version_major": 2,
       "version_minor": 0
      },
      "text/plain": [
       "  0%|          | 0/320 [00:00<?, ?it/s]"
      ]
     },
     "metadata": {},
     "output_type": "display_data"
    },
    {
     "name": "stdout",
     "output_type": "stream",
     "text": [
      "| Epoch: 40 | Train Loss: 1.629 | Train Acc: 41.48% | Val. Loss: 1.575 | Val. Acc: 46.88% | Val. Precision: 28.906 | Val. Recall: 46.875 | Val. F1-score: 34.798 |\n"
     ]
    },
    {
     "data": {
      "application/vnd.jupyter.widget-view+json": {
       "model_id": "001652b9715e4da697049102d49a60d2",
       "version_major": 2,
       "version_minor": 0
      },
      "text/plain": [
       "  0%|          | 0/320 [00:00<?, ?it/s]"
      ]
     },
     "metadata": {},
     "output_type": "display_data"
    },
    {
     "name": "stdout",
     "output_type": "stream",
     "text": [
      "| Epoch: 41 | Train Loss: 1.629 | Train Acc: 41.48% | Val. Loss: 1.575 | Val. Acc: 46.88% | Val. Precision: 28.906 | Val. Recall: 46.875 | Val. F1-score: 34.798 |\n"
     ]
    },
    {
     "data": {
      "application/vnd.jupyter.widget-view+json": {
       "model_id": "c09ec7785d864e36842c5efdd6a7a072",
       "version_major": 2,
       "version_minor": 0
      },
      "text/plain": [
       "  0%|          | 0/320 [00:00<?, ?it/s]"
      ]
     },
     "metadata": {},
     "output_type": "display_data"
    },
    {
     "name": "stdout",
     "output_type": "stream",
     "text": [
      "| Epoch: 42 | Train Loss: 1.629 | Train Acc: 41.48% | Val. Loss: 1.575 | Val. Acc: 46.88% | Val. Precision: 28.906 | Val. Recall: 46.875 | Val. F1-score: 34.798 |\n"
     ]
    },
    {
     "data": {
      "application/vnd.jupyter.widget-view+json": {
       "model_id": "7ecc900de3fa44519cb6a1996e30062b",
       "version_major": 2,
       "version_minor": 0
      },
      "text/plain": [
       "  0%|          | 0/320 [00:00<?, ?it/s]"
      ]
     },
     "metadata": {},
     "output_type": "display_data"
    },
    {
     "name": "stdout",
     "output_type": "stream",
     "text": [
      "| Epoch: 43 | Train Loss: 1.629 | Train Acc: 41.48% | Val. Loss: 1.575 | Val. Acc: 46.88% | Val. Precision: 28.906 | Val. Recall: 46.875 | Val. F1-score: 34.798 |\n"
     ]
    },
    {
     "data": {
      "application/vnd.jupyter.widget-view+json": {
       "model_id": "fdff2e1b8dab4c14a6f1e4d1d4faa4fa",
       "version_major": 2,
       "version_minor": 0
      },
      "text/plain": [
       "  0%|          | 0/320 [00:00<?, ?it/s]"
      ]
     },
     "metadata": {},
     "output_type": "display_data"
    },
    {
     "name": "stdout",
     "output_type": "stream",
     "text": [
      "| Epoch: 44 | Train Loss: 1.618 | Train Acc: 42.58% | Val. Loss: 1.650 | Val. Acc: 39.38% | Val. Precision: 37.708 | Val. Recall: 39.375 | Val. F1-score: 35.027 |\n"
     ]
    },
    {
     "data": {
      "application/vnd.jupyter.widget-view+json": {
       "model_id": "16e895712b9c425096e9499badb4c11f",
       "version_major": 2,
       "version_minor": 0
      },
      "text/plain": [
       "  0%|          | 0/320 [00:00<?, ?it/s]"
      ]
     },
     "metadata": {},
     "output_type": "display_data"
    },
    {
     "name": "stdout",
     "output_type": "stream",
     "text": [
      "| Epoch: 45 | Train Loss: 1.667 | Train Acc: 37.66% | Val. Loss: 1.744 | Val. Acc: 30.00% | Val. Precision: 25.729 | Val. Recall: 30.000 | Val. F1-score: 25.068 |\n"
     ]
    },
    {
     "data": {
      "application/vnd.jupyter.widget-view+json": {
       "model_id": "1bc635a3de1e488da6dd68c52bf79532",
       "version_major": 2,
       "version_minor": 0
      },
      "text/plain": [
       "  0%|          | 0/320 [00:00<?, ?it/s]"
      ]
     },
     "metadata": {},
     "output_type": "display_data"
    },
    {
     "name": "stdout",
     "output_type": "stream",
     "text": [
      "| Epoch: 46 | Train Loss: 1.655 | Train Acc: 38.91% | Val. Loss: 1.650 | Val. Acc: 39.38% | Val. Precision: 21.719 | Val. Recall: 39.375 | Val. F1-score: 27.060 |\n"
     ]
    },
    {
     "data": {
      "application/vnd.jupyter.widget-view+json": {
       "model_id": "4302876afa4e45d480d38db84e7861bb",
       "version_major": 2,
       "version_minor": 0
      },
      "text/plain": [
       "  0%|          | 0/320 [00:00<?, ?it/s]"
      ]
     },
     "metadata": {},
     "output_type": "display_data"
    },
    {
     "name": "stdout",
     "output_type": "stream",
     "text": [
      "| Epoch: 47 | Train Loss: 1.641 | Train Acc: 40.23% | Val. Loss: 1.650 | Val. Acc: 39.38% | Val. Precision: 21.719 | Val. Recall: 39.375 | Val. F1-score: 27.060 |\n"
     ]
    },
    {
     "data": {
      "application/vnd.jupyter.widget-view+json": {
       "model_id": "3a70839e8cfe401c873dba0f3382e2b3",
       "version_major": 2,
       "version_minor": 0
      },
      "text/plain": [
       "  0%|          | 0/320 [00:00<?, ?it/s]"
      ]
     },
     "metadata": {},
     "output_type": "display_data"
    },
    {
     "name": "stdout",
     "output_type": "stream",
     "text": [
      "| Epoch: 48 | Train Loss: 1.641 | Train Acc: 40.23% | Val. Loss: 1.650 | Val. Acc: 39.38% | Val. Precision: 21.719 | Val. Recall: 39.375 | Val. F1-score: 27.060 |\n"
     ]
    },
    {
     "data": {
      "application/vnd.jupyter.widget-view+json": {
       "model_id": "05eac23afaf8468082a4a0fcc5b81bce",
       "version_major": 2,
       "version_minor": 0
      },
      "text/plain": [
       "  0%|          | 0/320 [00:00<?, ?it/s]"
      ]
     },
     "metadata": {},
     "output_type": "display_data"
    },
    {
     "name": "stdout",
     "output_type": "stream",
     "text": [
      "| Epoch: 49 | Train Loss: 1.641 | Train Acc: 40.23% | Val. Loss: 1.650 | Val. Acc: 39.38% | Val. Precision: 21.719 | Val. Recall: 39.375 | Val. F1-score: 27.060 |\n"
     ]
    },
    {
     "data": {
      "application/vnd.jupyter.widget-view+json": {
       "model_id": "f9e0deed61344faaa7e8d310d9cd7b35",
       "version_major": 2,
       "version_minor": 0
      },
      "text/plain": [
       "  0%|          | 0/320 [00:00<?, ?it/s]"
      ]
     },
     "metadata": {},
     "output_type": "display_data"
    },
    {
     "name": "stdout",
     "output_type": "stream",
     "text": [
      "| Epoch: 50 | Train Loss: 1.641 | Train Acc: 40.23% | Val. Loss: 1.650 | Val. Acc: 39.38% | Val. Precision: 21.719 | Val. Recall: 39.375 | Val. F1-score: 27.060 |\n"
     ]
    },
    {
     "data": {
      "application/vnd.jupyter.widget-view+json": {
       "model_id": "59a5ef374bc34f8189208609981ebfca",
       "version_major": 2,
       "version_minor": 0
      },
      "text/plain": [
       "  0%|          | 0/320 [00:00<?, ?it/s]"
      ]
     },
     "metadata": {},
     "output_type": "display_data"
    },
    {
     "name": "stdout",
     "output_type": "stream",
     "text": [
      "| Epoch: 51 | Train Loss: 1.648 | Train Acc: 39.61% | Val. Loss: 1.710 | Val. Acc: 33.12% | Val. Precision: 23.854 | Val. Recall: 33.125 | Val. F1-score: 25.235 |\n"
     ]
    },
    {
     "data": {
      "application/vnd.jupyter.widget-view+json": {
       "model_id": "88e0175141794ddb9d00a4f591118d0e",
       "version_major": 2,
       "version_minor": 0
      },
      "text/plain": [
       "  0%|          | 0/320 [00:00<?, ?it/s]"
      ]
     },
     "metadata": {},
     "output_type": "display_data"
    },
    {
     "name": "stdout",
     "output_type": "stream",
     "text": [
      "| Epoch: 52 | Train Loss: 1.679 | Train Acc: 36.41% | Val. Loss: 1.650 | Val. Acc: 39.38% | Val. Precision: 21.719 | Val. Recall: 39.375 | Val. F1-score: 27.060 |\n"
     ]
    },
    {
     "data": {
      "application/vnd.jupyter.widget-view+json": {
       "model_id": "cc1498f388da4ef18c776e5c3933db0a",
       "version_major": 2,
       "version_minor": 0
      },
      "text/plain": [
       "  0%|          | 0/320 [00:00<?, ?it/s]"
      ]
     },
     "metadata": {},
     "output_type": "display_data"
    },
    {
     "name": "stdout",
     "output_type": "stream",
     "text": [
      "| Epoch: 53 | Train Loss: 1.641 | Train Acc: 40.23% | Val. Loss: 1.650 | Val. Acc: 39.38% | Val. Precision: 21.719 | Val. Recall: 39.375 | Val. F1-score: 27.060 |\n"
     ]
    },
    {
     "data": {
      "application/vnd.jupyter.widget-view+json": {
       "model_id": "14b2322542a64c70a68202eea24220c1",
       "version_major": 2,
       "version_minor": 0
      },
      "text/plain": [
       "  0%|          | 0/320 [00:00<?, ?it/s]"
      ]
     },
     "metadata": {},
     "output_type": "display_data"
    },
    {
     "name": "stdout",
     "output_type": "stream",
     "text": [
      "| Epoch: 54 | Train Loss: 1.641 | Train Acc: 40.23% | Val. Loss: 1.650 | Val. Acc: 39.38% | Val. Precision: 21.719 | Val. Recall: 39.375 | Val. F1-score: 27.060 |\n"
     ]
    },
    {
     "data": {
      "application/vnd.jupyter.widget-view+json": {
       "model_id": "05586c1c35d446839823d57b8c1aaf51",
       "version_major": 2,
       "version_minor": 0
      },
      "text/plain": [
       "  0%|          | 0/320 [00:00<?, ?it/s]"
      ]
     },
     "metadata": {},
     "output_type": "display_data"
    },
    {
     "name": "stdout",
     "output_type": "stream",
     "text": [
      "| Epoch: 55 | Train Loss: 1.641 | Train Acc: 40.23% | Val. Loss: 1.650 | Val. Acc: 39.38% | Val. Precision: 21.719 | Val. Recall: 39.375 | Val. F1-score: 27.060 |\n"
     ]
    },
    {
     "data": {
      "application/vnd.jupyter.widget-view+json": {
       "model_id": "f9a3a0051f8241148912a6745acada7b",
       "version_major": 2,
       "version_minor": 0
      },
      "text/plain": [
       "  0%|          | 0/320 [00:00<?, ?it/s]"
      ]
     },
     "metadata": {},
     "output_type": "display_data"
    },
    {
     "name": "stdout",
     "output_type": "stream",
     "text": [
      "| Epoch: 56 | Train Loss: 1.641 | Train Acc: 40.23% | Val. Loss: 1.650 | Val. Acc: 39.38% | Val. Precision: 21.719 | Val. Recall: 39.375 | Val. F1-score: 27.060 |\n"
     ]
    },
    {
     "data": {
      "application/vnd.jupyter.widget-view+json": {
       "model_id": "64d18bf61a294e668b49cf61c0653c83",
       "version_major": 2,
       "version_minor": 0
      },
      "text/plain": [
       "  0%|          | 0/320 [00:00<?, ?it/s]"
      ]
     },
     "metadata": {},
     "output_type": "display_data"
    },
    {
     "name": "stdout",
     "output_type": "stream",
     "text": [
      "| Epoch: 57 | Train Loss: 1.641 | Train Acc: 40.23% | Val. Loss: 1.650 | Val. Acc: 39.38% | Val. Precision: 21.719 | Val. Recall: 39.375 | Val. F1-score: 27.060 |\n"
     ]
    },
    {
     "data": {
      "application/vnd.jupyter.widget-view+json": {
       "model_id": "a3c717b114a941e3ad1054e6965c8cda",
       "version_major": 2,
       "version_minor": 0
      },
      "text/plain": [
       "  0%|          | 0/320 [00:00<?, ?it/s]"
      ]
     },
     "metadata": {},
     "output_type": "display_data"
    },
    {
     "name": "stdout",
     "output_type": "stream",
     "text": [
      "| Epoch: 58 | Train Loss: 1.899 | Train Acc: 14.45% | Val. Loss: 2.037 | Val. Acc: 0.62% | Val. Precision: 0.156 | Val. Recall: 0.625 | Val. F1-score: 0.250 |\n"
     ]
    },
    {
     "data": {
      "application/vnd.jupyter.widget-view+json": {
       "model_id": "fb65e46b5b8745f59f9f6fccd198791b",
       "version_major": 2,
       "version_minor": 0
      },
      "text/plain": [
       "  0%|          | 0/320 [00:00<?, ?it/s]"
      ]
     },
     "metadata": {},
     "output_type": "display_data"
    },
    {
     "name": "stdout",
     "output_type": "stream",
     "text": [
      "| Epoch: 59 | Train Loss: 2.037 | Train Acc: 0.62% | Val. Loss: 2.037 | Val. Acc: 0.62% | Val. Precision: 0.156 | Val. Recall: 0.625 | Val. F1-score: 0.250 |\n"
     ]
    },
    {
     "data": {
      "application/vnd.jupyter.widget-view+json": {
       "model_id": "74ec89847ff14c2c8f70a50f8d048e26",
       "version_major": 2,
       "version_minor": 0
      },
      "text/plain": [
       "  0%|          | 0/320 [00:00<?, ?it/s]"
      ]
     },
     "metadata": {},
     "output_type": "display_data"
    },
    {
     "name": "stdout",
     "output_type": "stream",
     "text": [
      "| Epoch: 60 | Train Loss: 2.037 | Train Acc: 0.62% | Val. Loss: 2.037 | Val. Acc: 0.62% | Val. Precision: 0.156 | Val. Recall: 0.625 | Val. F1-score: 0.250 |\n"
     ]
    },
    {
     "data": {
      "application/vnd.jupyter.widget-view+json": {
       "model_id": "4dcaff730cbd40c28c1a71148b8b0379",
       "version_major": 2,
       "version_minor": 0
      },
      "text/plain": [
       "  0%|          | 0/320 [00:00<?, ?it/s]"
      ]
     },
     "metadata": {},
     "output_type": "display_data"
    },
    {
     "name": "stdout",
     "output_type": "stream",
     "text": [
      "| Epoch: 61 | Train Loss: 2.037 | Train Acc: 0.62% | Val. Loss: 2.037 | Val. Acc: 0.62% | Val. Precision: 0.156 | Val. Recall: 0.625 | Val. F1-score: 0.250 |\n"
     ]
    },
    {
     "data": {
      "application/vnd.jupyter.widget-view+json": {
       "model_id": "090e37b4e2f04a1082af25f99b97e53c",
       "version_major": 2,
       "version_minor": 0
      },
      "text/plain": [
       "  0%|          | 0/320 [00:00<?, ?it/s]"
      ]
     },
     "metadata": {},
     "output_type": "display_data"
    },
    {
     "name": "stdout",
     "output_type": "stream",
     "text": [
      "| Epoch: 62 | Train Loss: 2.037 | Train Acc: 0.62% | Val. Loss: 2.037 | Val. Acc: 0.62% | Val. Precision: 0.156 | Val. Recall: 0.625 | Val. F1-score: 0.250 |\n"
     ]
    },
    {
     "data": {
      "application/vnd.jupyter.widget-view+json": {
       "model_id": "5cbd488bde894c689436833535e98a6f",
       "version_major": 2,
       "version_minor": 0
      },
      "text/plain": [
       "  0%|          | 0/320 [00:00<?, ?it/s]"
      ]
     },
     "metadata": {},
     "output_type": "display_data"
    },
    {
     "name": "stdout",
     "output_type": "stream",
     "text": [
      "| Epoch: 63 | Train Loss: 2.024 | Train Acc: 1.95% | Val. Loss: 1.999 | Val. Acc: 4.38% | Val. Precision: 1.146 | Val. Recall: 4.375 | Val. F1-score: 1.812 |\n"
     ]
    },
    {
     "data": {
      "application/vnd.jupyter.widget-view+json": {
       "model_id": "3588f5435eb44f4d9b165810d2f1181f",
       "version_major": 2,
       "version_minor": 0
      },
      "text/plain": [
       "  0%|          | 0/320 [00:00<?, ?it/s]"
      ]
     },
     "metadata": {},
     "output_type": "display_data"
    },
    {
     "name": "stdout",
     "output_type": "stream",
     "text": [
      "| Epoch: 64 | Train Loss: 2.009 | Train Acc: 3.44% | Val. Loss: 2.000 | Val. Acc: 4.38% | Val. Precision: 1.094 | Val. Recall: 4.375 | Val. F1-score: 1.750 |\n"
     ]
    },
    {
     "data": {
      "application/vnd.jupyter.widget-view+json": {
       "model_id": "b9ad481f6c0e422a9a3faae5aedf6825",
       "version_major": 2,
       "version_minor": 0
      },
      "text/plain": [
       "  0%|          | 0/320 [00:00<?, ?it/s]"
      ]
     },
     "metadata": {},
     "output_type": "display_data"
    },
    {
     "name": "stdout",
     "output_type": "stream",
     "text": [
      "| Epoch: 65 | Train Loss: 2.009 | Train Acc: 3.44% | Val. Loss: 2.000 | Val. Acc: 4.38% | Val. Precision: 1.094 | Val. Recall: 4.375 | Val. F1-score: 1.750 |\n"
     ]
    },
    {
     "data": {
      "application/vnd.jupyter.widget-view+json": {
       "model_id": "a567476c1e1446c195d74461991ed4b2",
       "version_major": 2,
       "version_minor": 0
      },
      "text/plain": [
       "  0%|          | 0/320 [00:00<?, ?it/s]"
      ]
     },
     "metadata": {},
     "output_type": "display_data"
    },
    {
     "name": "stdout",
     "output_type": "stream",
     "text": [
      "| Epoch: 66 | Train Loss: 2.009 | Train Acc: 3.44% | Val. Loss: 2.000 | Val. Acc: 4.38% | Val. Precision: 1.094 | Val. Recall: 4.375 | Val. F1-score: 1.750 |\n"
     ]
    },
    {
     "data": {
      "application/vnd.jupyter.widget-view+json": {
       "model_id": "f7473dff5ec449faba5abadd8aad0ead",
       "version_major": 2,
       "version_minor": 0
      },
      "text/plain": [
       "  0%|          | 0/320 [00:00<?, ?it/s]"
      ]
     },
     "metadata": {},
     "output_type": "display_data"
    },
    {
     "name": "stdout",
     "output_type": "stream",
     "text": [
      "| Epoch: 67 | Train Loss: 2.009 | Train Acc: 3.44% | Val. Loss: 2.000 | Val. Acc: 4.38% | Val. Precision: 1.094 | Val. Recall: 4.375 | Val. F1-score: 1.750 |\n"
     ]
    },
    {
     "data": {
      "application/vnd.jupyter.widget-view+json": {
       "model_id": "d7ae4afd6d574de4a610f8f64bcfeed0",
       "version_major": 2,
       "version_minor": 0
      },
      "text/plain": [
       "  0%|          | 0/320 [00:00<?, ?it/s]"
      ]
     },
     "metadata": {},
     "output_type": "display_data"
    },
    {
     "name": "stdout",
     "output_type": "stream",
     "text": [
      "| Epoch: 68 | Train Loss: 2.009 | Train Acc: 3.44% | Val. Loss: 2.000 | Val. Acc: 4.38% | Val. Precision: 1.094 | Val. Recall: 4.375 | Val. F1-score: 1.750 |\n"
     ]
    },
    {
     "data": {
      "application/vnd.jupyter.widget-view+json": {
       "model_id": "241c18afe9d34e29aea6aa82433515e4",
       "version_major": 2,
       "version_minor": 0
      },
      "text/plain": [
       "  0%|          | 0/320 [00:00<?, ?it/s]"
      ]
     },
     "metadata": {},
     "output_type": "display_data"
    },
    {
     "name": "stdout",
     "output_type": "stream",
     "text": [
      "| Epoch: 69 | Train Loss: 1.829 | Train Acc: 21.41% | Val. Loss: 1.650 | Val. Acc: 39.38% | Val. Precision: 21.719 | Val. Recall: 39.375 | Val. F1-score: 27.060 |\n"
     ]
    },
    {
     "data": {
      "application/vnd.jupyter.widget-view+json": {
       "model_id": "c3d632cb3e2a4fb29ad34fc3f3379ddd",
       "version_major": 2,
       "version_minor": 0
      },
      "text/plain": [
       "  0%|          | 0/320 [00:00<?, ?it/s]"
      ]
     },
     "metadata": {},
     "output_type": "display_data"
    },
    {
     "name": "stdout",
     "output_type": "stream",
     "text": [
      "| Epoch: 70 | Train Loss: 1.641 | Train Acc: 40.23% | Val. Loss: 1.650 | Val. Acc: 39.38% | Val. Precision: 21.719 | Val. Recall: 39.375 | Val. F1-score: 27.060 |\n"
     ]
    },
    {
     "data": {
      "application/vnd.jupyter.widget-view+json": {
       "model_id": "6a72dd46bc8240f89829029b5e3ff0ff",
       "version_major": 2,
       "version_minor": 0
      },
      "text/plain": [
       "  0%|          | 0/320 [00:00<?, ?it/s]"
      ]
     },
     "metadata": {},
     "output_type": "display_data"
    },
    {
     "name": "stdout",
     "output_type": "stream",
     "text": [
      "| Epoch: 71 | Train Loss: 1.641 | Train Acc: 40.23% | Val. Loss: 1.650 | Val. Acc: 39.38% | Val. Precision: 21.719 | Val. Recall: 39.375 | Val. F1-score: 27.060 |\n"
     ]
    },
    {
     "data": {
      "application/vnd.jupyter.widget-view+json": {
       "model_id": "9fc9c9b5ffc44268a80538ed45e02193",
       "version_major": 2,
       "version_minor": 0
      },
      "text/plain": [
       "  0%|          | 0/320 [00:00<?, ?it/s]"
      ]
     },
     "metadata": {},
     "output_type": "display_data"
    },
    {
     "name": "stdout",
     "output_type": "stream",
     "text": [
      "| Epoch: 72 | Train Loss: 1.641 | Train Acc: 40.23% | Val. Loss: 1.650 | Val. Acc: 39.38% | Val. Precision: 21.719 | Val. Recall: 39.375 | Val. F1-score: 27.060 |\n"
     ]
    },
    {
     "data": {
      "application/vnd.jupyter.widget-view+json": {
       "model_id": "06a771a3b2c04286b7863bc7d5b5ebd7",
       "version_major": 2,
       "version_minor": 0
      },
      "text/plain": [
       "  0%|          | 0/320 [00:00<?, ?it/s]"
      ]
     },
     "metadata": {},
     "output_type": "display_data"
    },
    {
     "name": "stdout",
     "output_type": "stream",
     "text": [
      "| Epoch: 73 | Train Loss: 1.641 | Train Acc: 40.23% | Val. Loss: 1.650 | Val. Acc: 39.38% | Val. Precision: 21.719 | Val. Recall: 39.375 | Val. F1-score: 27.060 |\n"
     ]
    },
    {
     "data": {
      "application/vnd.jupyter.widget-view+json": {
       "model_id": "6ce1a51be4484f66b8d1d9e660ce0334",
       "version_major": 2,
       "version_minor": 0
      },
      "text/plain": [
       "  0%|          | 0/320 [00:00<?, ?it/s]"
      ]
     },
     "metadata": {},
     "output_type": "display_data"
    },
    {
     "name": "stdout",
     "output_type": "stream",
     "text": [
      "| Epoch: 74 | Train Loss: 1.641 | Train Acc: 40.23% | Val. Loss: 1.650 | Val. Acc: 39.38% | Val. Precision: 21.719 | Val. Recall: 39.375 | Val. F1-score: 27.060 |\n"
     ]
    },
    {
     "data": {
      "application/vnd.jupyter.widget-view+json": {
       "model_id": "dd6d02ebcaec4c8886498963a310b4f0",
       "version_major": 2,
       "version_minor": 0
      },
      "text/plain": [
       "  0%|          | 0/320 [00:00<?, ?it/s]"
      ]
     },
     "metadata": {},
     "output_type": "display_data"
    },
    {
     "name": "stdout",
     "output_type": "stream",
     "text": [
      "| Epoch: 75 | Train Loss: 1.641 | Train Acc: 40.23% | Val. Loss: 1.650 | Val. Acc: 39.38% | Val. Precision: 21.719 | Val. Recall: 39.375 | Val. F1-score: 27.060 |\n"
     ]
    },
    {
     "data": {
      "application/vnd.jupyter.widget-view+json": {
       "model_id": "a9707bcfbb374efc8e0fc061d021e240",
       "version_major": 2,
       "version_minor": 0
      },
      "text/plain": [
       "  0%|          | 0/320 [00:00<?, ?it/s]"
      ]
     },
     "metadata": {},
     "output_type": "display_data"
    },
    {
     "name": "stdout",
     "output_type": "stream",
     "text": [
      "| Epoch: 76 | Train Loss: 1.640 | Train Acc: 40.39% | Val. Loss: 1.521 | Val. Acc: 51.88% | Val. Precision: 53.646 | Val. Recall: 51.875 | Val. F1-score: 48.089 |\n"
     ]
    },
    {
     "data": {
      "application/vnd.jupyter.widget-view+json": {
       "model_id": "625f8f92ac4746b8adafdbeaa3c29e4f",
       "version_major": 2,
       "version_minor": 0
      },
      "text/plain": [
       "  0%|          | 0/320 [00:00<?, ?it/s]"
      ]
     },
     "metadata": {},
     "output_type": "display_data"
    },
    {
     "name": "stdout",
     "output_type": "stream",
     "text": [
      "| Epoch: 77 | Train Loss: 1.616 | Train Acc: 42.81% | Val. Loss: 1.575 | Val. Acc: 46.88% | Val. Precision: 28.906 | Val. Recall: 46.875 | Val. F1-score: 34.798 |\n"
     ]
    },
    {
     "data": {
      "application/vnd.jupyter.widget-view+json": {
       "model_id": "b78c4c911a84437a9ac292d4f36edd5b",
       "version_major": 2,
       "version_minor": 0
      },
      "text/plain": [
       "  0%|          | 0/320 [00:00<?, ?it/s]"
      ]
     },
     "metadata": {},
     "output_type": "display_data"
    },
    {
     "name": "stdout",
     "output_type": "stream",
     "text": [
      "| Epoch: 78 | Train Loss: 1.629 | Train Acc: 41.48% | Val. Loss: 1.575 | Val. Acc: 46.88% | Val. Precision: 28.906 | Val. Recall: 46.875 | Val. F1-score: 34.798 |\n"
     ]
    },
    {
     "data": {
      "application/vnd.jupyter.widget-view+json": {
       "model_id": "cb39d6f83abe476cb2fa8f41579bd6a9",
       "version_major": 2,
       "version_minor": 0
      },
      "text/plain": [
       "  0%|          | 0/320 [00:00<?, ?it/s]"
      ]
     },
     "metadata": {},
     "output_type": "display_data"
    },
    {
     "name": "stdout",
     "output_type": "stream",
     "text": [
      "| Epoch: 79 | Train Loss: 1.629 | Train Acc: 41.48% | Val. Loss: 1.575 | Val. Acc: 46.88% | Val. Precision: 28.906 | Val. Recall: 46.875 | Val. F1-score: 34.798 |\n"
     ]
    },
    {
     "data": {
      "application/vnd.jupyter.widget-view+json": {
       "model_id": "953a2b4afce044eeb796b14bfaa65b53",
       "version_major": 2,
       "version_minor": 0
      },
      "text/plain": [
       "  0%|          | 0/320 [00:00<?, ?it/s]"
      ]
     },
     "metadata": {},
     "output_type": "display_data"
    },
    {
     "name": "stdout",
     "output_type": "stream",
     "text": [
      "| Epoch: 80 | Train Loss: 1.622 | Train Acc: 42.11% | Val. Loss: 1.662 | Val. Acc: 38.12% | Val. Precision: 21.354 | Val. Recall: 38.125 | Val. F1-score: 26.455 |\n"
     ]
    },
    {
     "data": {
      "application/vnd.jupyter.widget-view+json": {
       "model_id": "d301edea2d7b46569592cd130db2baeb",
       "version_major": 2,
       "version_minor": 0
      },
      "text/plain": [
       "  0%|          | 0/320 [00:00<?, ?it/s]"
      ]
     },
     "metadata": {},
     "output_type": "display_data"
    },
    {
     "name": "stdout",
     "output_type": "stream",
     "text": [
      "| Epoch: 81 | Train Loss: 1.601 | Train Acc: 44.30% | Val. Loss: 1.581 | Val. Acc: 46.25% | Val. Precision: 49.583 | Val. Recall: 46.250 | Val. F1-score: 44.473 |\n"
     ]
    },
    {
     "data": {
      "application/vnd.jupyter.widget-view+json": {
       "model_id": "72153a0f0af9486e9d8f8bff68861f5e",
       "version_major": 2,
       "version_minor": 0
      },
      "text/plain": [
       "  0%|          | 0/320 [00:00<?, ?it/s]"
      ]
     },
     "metadata": {},
     "output_type": "display_data"
    },
    {
     "name": "stdout",
     "output_type": "stream",
     "text": [
      "| Epoch: 82 | Train Loss: 1.659 | Train Acc: 38.44% | Val. Loss: 1.619 | Val. Acc: 42.50% | Val. Precision: 46.771 | Val. Recall: 42.500 | Val. F1-score: 40.997 |\n"
     ]
    },
    {
     "data": {
      "application/vnd.jupyter.widget-view+json": {
       "model_id": "de3dff0747634d03860ae631d979cf8e",
       "version_major": 2,
       "version_minor": 0
      },
      "text/plain": [
       "  0%|          | 0/320 [00:00<?, ?it/s]"
      ]
     },
     "metadata": {},
     "output_type": "display_data"
    },
    {
     "name": "stdout",
     "output_type": "stream",
     "text": [
      "| Epoch: 83 | Train Loss: 1.577 | Train Acc: 46.72% | Val. Loss: 1.469 | Val. Acc: 57.50% | Val. Precision: 58.490 | Val. Recall: 57.500 | Val. F1-score: 54.973 |\n"
     ]
    },
    {
     "data": {
      "application/vnd.jupyter.widget-view+json": {
       "model_id": "11d83569c82f4f4a8c39a8567629505b",
       "version_major": 2,
       "version_minor": 0
      },
      "text/plain": [
       "  0%|          | 0/320 [00:00<?, ?it/s]"
      ]
     },
     "metadata": {},
     "output_type": "display_data"
    },
    {
     "name": "stdout",
     "output_type": "stream",
     "text": [
      "| Epoch: 84 | Train Loss: 1.559 | Train Acc: 48.44% | Val. Loss: 1.475 | Val. Acc: 56.88% | Val. Precision: 58.281 | Val. Recall: 56.875 | Val. F1-score: 52.845 |\n"
     ]
    },
    {
     "data": {
      "application/vnd.jupyter.widget-view+json": {
       "model_id": "7b7ef07e3f214f3682140d950b5b674e",
       "version_major": 2,
       "version_minor": 0
      },
      "text/plain": [
       "  0%|          | 0/320 [00:00<?, ?it/s]"
      ]
     },
     "metadata": {},
     "output_type": "display_data"
    },
    {
     "name": "stdout",
     "output_type": "stream",
     "text": [
      "| Epoch: 85 | Train Loss: 1.547 | Train Acc: 49.69% | Val. Loss: 1.556 | Val. Acc: 48.75% | Val. Precision: 37.865 | Val. Recall: 48.750 | Val. F1-score: 39.375 |\n"
     ]
    },
    {
     "data": {
      "application/vnd.jupyter.widget-view+json": {
       "model_id": "d16c78a750b345878d0d2c1d95a43ad6",
       "version_major": 2,
       "version_minor": 0
      },
      "text/plain": [
       "  0%|          | 0/320 [00:00<?, ?it/s]"
      ]
     },
     "metadata": {},
     "output_type": "display_data"
    },
    {
     "name": "stdout",
     "output_type": "stream",
     "text": [
      "| Epoch: 86 | Train Loss: 1.617 | Train Acc: 42.66% | Val. Loss: 1.575 | Val. Acc: 46.88% | Val. Precision: 28.906 | Val. Recall: 46.875 | Val. F1-score: 34.798 |\n"
     ]
    },
    {
     "data": {
      "application/vnd.jupyter.widget-view+json": {
       "model_id": "8520f1b26a3843fa85fa7b5ccc3b530c",
       "version_major": 2,
       "version_minor": 0
      },
      "text/plain": [
       "  0%|          | 0/320 [00:00<?, ?it/s]"
      ]
     },
     "metadata": {},
     "output_type": "display_data"
    },
    {
     "name": "stdout",
     "output_type": "stream",
     "text": [
      "| Epoch: 87 | Train Loss: 1.629 | Train Acc: 41.48% | Val. Loss: 1.575 | Val. Acc: 46.88% | Val. Precision: 28.906 | Val. Recall: 46.875 | Val. F1-score: 34.798 |\n"
     ]
    },
    {
     "data": {
      "application/vnd.jupyter.widget-view+json": {
       "model_id": "38f19977d13249e49267992bb80b7d7a",
       "version_major": 2,
       "version_minor": 0
      },
      "text/plain": [
       "  0%|          | 0/320 [00:00<?, ?it/s]"
      ]
     },
     "metadata": {},
     "output_type": "display_data"
    },
    {
     "name": "stdout",
     "output_type": "stream",
     "text": [
      "| Epoch: 88 | Train Loss: 1.629 | Train Acc: 41.48% | Val. Loss: 1.575 | Val. Acc: 46.88% | Val. Precision: 28.906 | Val. Recall: 46.875 | Val. F1-score: 34.798 |\n"
     ]
    },
    {
     "data": {
      "application/vnd.jupyter.widget-view+json": {
       "model_id": "e1c6bcee1373478ebaf2efb54d1e0e6e",
       "version_major": 2,
       "version_minor": 0
      },
      "text/plain": [
       "  0%|          | 0/320 [00:00<?, ?it/s]"
      ]
     },
     "metadata": {},
     "output_type": "display_data"
    },
    {
     "name": "stdout",
     "output_type": "stream",
     "text": [
      "| Epoch: 89 | Train Loss: 1.629 | Train Acc: 41.48% | Val. Loss: 1.575 | Val. Acc: 46.88% | Val. Precision: 28.906 | Val. Recall: 46.875 | Val. F1-score: 34.798 |\n"
     ]
    },
    {
     "data": {
      "application/vnd.jupyter.widget-view+json": {
       "model_id": "b06fe2370a0f4834a469618cb1ec2f7a",
       "version_major": 2,
       "version_minor": 0
      },
      "text/plain": [
       "  0%|          | 0/320 [00:00<?, ?it/s]"
      ]
     },
     "metadata": {},
     "output_type": "display_data"
    },
    {
     "name": "stdout",
     "output_type": "stream",
     "text": [
      "| Epoch: 90 | Train Loss: 1.630 | Train Acc: 41.41% | Val. Loss: 1.575 | Val. Acc: 46.88% | Val. Precision: 29.010 | Val. Recall: 46.875 | Val. F1-score: 34.923 |\n"
     ]
    },
    {
     "data": {
      "application/vnd.jupyter.widget-view+json": {
       "model_id": "d4c85e6e42314602b4d7a2aa52280269",
       "version_major": 2,
       "version_minor": 0
      },
      "text/plain": [
       "  0%|          | 0/320 [00:00<?, ?it/s]"
      ]
     },
     "metadata": {},
     "output_type": "display_data"
    },
    {
     "name": "stdout",
     "output_type": "stream",
     "text": [
      "| Epoch: 91 | Train Loss: 1.632 | Train Acc: 41.17% | Val. Loss: 1.575 | Val. Acc: 46.88% | Val. Precision: 28.906 | Val. Recall: 46.875 | Val. F1-score: 34.798 |\n"
     ]
    },
    {
     "data": {
      "application/vnd.jupyter.widget-view+json": {
       "model_id": "20fef04af4f940d6937218ca29553c1b",
       "version_major": 2,
       "version_minor": 0
      },
      "text/plain": [
       "  0%|          | 0/320 [00:00<?, ?it/s]"
      ]
     },
     "metadata": {},
     "output_type": "display_data"
    },
    {
     "name": "stdout",
     "output_type": "stream",
     "text": [
      "| Epoch: 92 | Train Loss: 1.629 | Train Acc: 41.48% | Val. Loss: 1.575 | Val. Acc: 46.88% | Val. Precision: 28.906 | Val. Recall: 46.875 | Val. F1-score: 34.798 |\n"
     ]
    },
    {
     "data": {
      "application/vnd.jupyter.widget-view+json": {
       "model_id": "f7e01b7fca5f4370b9bdbfecb13517af",
       "version_major": 2,
       "version_minor": 0
      },
      "text/plain": [
       "  0%|          | 0/320 [00:00<?, ?it/s]"
      ]
     },
     "metadata": {},
     "output_type": "display_data"
    },
    {
     "name": "stdout",
     "output_type": "stream",
     "text": [
      "| Epoch: 93 | Train Loss: 1.629 | Train Acc: 41.48% | Val. Loss: 1.575 | Val. Acc: 46.88% | Val. Precision: 28.906 | Val. Recall: 46.875 | Val. F1-score: 34.798 |\n"
     ]
    },
    {
     "data": {
      "application/vnd.jupyter.widget-view+json": {
       "model_id": "244eb280c0234f68a897f2b177037002",
       "version_major": 2,
       "version_minor": 0
      },
      "text/plain": [
       "  0%|          | 0/320 [00:00<?, ?it/s]"
      ]
     },
     "metadata": {},
     "output_type": "display_data"
    },
    {
     "name": "stdout",
     "output_type": "stream",
     "text": [
      "| Epoch: 94 | Train Loss: 1.629 | Train Acc: 41.48% | Val. Loss: 1.575 | Val. Acc: 46.88% | Val. Precision: 28.906 | Val. Recall: 46.875 | Val. F1-score: 34.798 |\n"
     ]
    },
    {
     "data": {
      "application/vnd.jupyter.widget-view+json": {
       "model_id": "3b16698c0b2f471998d52167b790580b",
       "version_major": 2,
       "version_minor": 0
      },
      "text/plain": [
       "  0%|          | 0/320 [00:00<?, ?it/s]"
      ]
     },
     "metadata": {},
     "output_type": "display_data"
    },
    {
     "name": "stdout",
     "output_type": "stream",
     "text": [
      "| Epoch: 95 | Train Loss: 1.629 | Train Acc: 41.48% | Val. Loss: 1.575 | Val. Acc: 46.88% | Val. Precision: 28.906 | Val. Recall: 46.875 | Val. F1-score: 34.798 |\n"
     ]
    },
    {
     "data": {
      "application/vnd.jupyter.widget-view+json": {
       "model_id": "68d78243310446d58c05b22c93cc44dd",
       "version_major": 2,
       "version_minor": 0
      },
      "text/plain": [
       "  0%|          | 0/320 [00:00<?, ?it/s]"
      ]
     },
     "metadata": {},
     "output_type": "display_data"
    },
    {
     "name": "stdout",
     "output_type": "stream",
     "text": [
      "| Epoch: 96 | Train Loss: 1.653 | Train Acc: 39.06% | Val. Loss: 1.650 | Val. Acc: 39.38% | Val. Precision: 21.719 | Val. Recall: 39.375 | Val. F1-score: 27.060 |\n"
     ]
    },
    {
     "data": {
      "application/vnd.jupyter.widget-view+json": {
       "model_id": "37a24a7f810b490382927d771df92690",
       "version_major": 2,
       "version_minor": 0
      },
      "text/plain": [
       "  0%|          | 0/320 [00:00<?, ?it/s]"
      ]
     },
     "metadata": {},
     "output_type": "display_data"
    },
    {
     "name": "stdout",
     "output_type": "stream",
     "text": [
      "| Epoch: 97 | Train Loss: 1.641 | Train Acc: 40.23% | Val. Loss: 1.650 | Val. Acc: 39.38% | Val. Precision: 21.719 | Val. Recall: 39.375 | Val. F1-score: 27.060 |\n"
     ]
    },
    {
     "data": {
      "application/vnd.jupyter.widget-view+json": {
       "model_id": "36badf3a5d1e4eb2aacd194310b33d4e",
       "version_major": 2,
       "version_minor": 0
      },
      "text/plain": [
       "  0%|          | 0/320 [00:00<?, ?it/s]"
      ]
     },
     "metadata": {},
     "output_type": "display_data"
    },
    {
     "name": "stdout",
     "output_type": "stream",
     "text": [
      "| Epoch: 98 | Train Loss: 1.641 | Train Acc: 40.23% | Val. Loss: 1.650 | Val. Acc: 39.38% | Val. Precision: 21.719 | Val. Recall: 39.375 | Val. F1-score: 27.060 |\n"
     ]
    },
    {
     "data": {
      "application/vnd.jupyter.widget-view+json": {
       "model_id": "f8193aef98524524a364f397bd0e74b5",
       "version_major": 2,
       "version_minor": 0
      },
      "text/plain": [
       "  0%|          | 0/320 [00:00<?, ?it/s]"
      ]
     },
     "metadata": {},
     "output_type": "display_data"
    },
    {
     "name": "stdout",
     "output_type": "stream",
     "text": [
      "| Epoch: 99 | Train Loss: 1.641 | Train Acc: 40.23% | Val. Loss: 1.650 | Val. Acc: 39.38% | Val. Precision: 21.719 | Val. Recall: 39.375 | Val. F1-score: 27.060 |\n"
     ]
    },
    {
     "data": {
      "application/vnd.jupyter.widget-view+json": {
       "model_id": "102dc0bda61a4ebd986862de516d810c",
       "version_major": 2,
       "version_minor": 0
      },
      "text/plain": [
       "  0%|          | 0/320 [00:00<?, ?it/s]"
      ]
     },
     "metadata": {},
     "output_type": "display_data"
    },
    {
     "name": "stdout",
     "output_type": "stream",
     "text": [
      "| Epoch: 100 | Train Loss: 1.641 | Train Acc: 40.23% | Val. Loss: 1.650 | Val. Acc: 39.38% | Val. Precision: 21.719 | Val. Recall: 39.375 | Val. F1-score: 27.060 |\n"
     ]
    },
    {
     "data": {
      "application/vnd.jupyter.widget-view+json": {
       "model_id": "64001dd85fb542e5bf92b7219fb42c91",
       "version_major": 2,
       "version_minor": 0
      },
      "text/plain": [
       "  0%|          | 0/320 [00:00<?, ?it/s]"
      ]
     },
     "metadata": {},
     "output_type": "display_data"
    },
    {
     "name": "stdout",
     "output_type": "stream",
     "text": [
      "| Epoch: 101 | Train Loss: 1.646 | Train Acc: 39.77% | Val. Loss: 1.650 | Val. Acc: 39.38% | Val. Precision: 21.719 | Val. Recall: 39.375 | Val. F1-score: 27.060 |\n"
     ]
    },
    {
     "data": {
      "application/vnd.jupyter.widget-view+json": {
       "model_id": "94bed1370ce54c5ba1f2f9162a82bc4b",
       "version_major": 2,
       "version_minor": 0
      },
      "text/plain": [
       "  0%|          | 0/320 [00:00<?, ?it/s]"
      ]
     },
     "metadata": {},
     "output_type": "display_data"
    },
    {
     "name": "stdout",
     "output_type": "stream",
     "text": [
      "| Epoch: 102 | Train Loss: 1.641 | Train Acc: 40.23% | Val. Loss: 1.650 | Val. Acc: 39.38% | Val. Precision: 21.719 | Val. Recall: 39.375 | Val. F1-score: 27.060 |\n"
     ]
    },
    {
     "data": {
      "application/vnd.jupyter.widget-view+json": {
       "model_id": "085604ff68da4205ba7955ba93e25432",
       "version_major": 2,
       "version_minor": 0
      },
      "text/plain": [
       "  0%|          | 0/320 [00:00<?, ?it/s]"
      ]
     },
     "metadata": {},
     "output_type": "display_data"
    },
    {
     "name": "stdout",
     "output_type": "stream",
     "text": [
      "| Epoch: 103 | Train Loss: 1.641 | Train Acc: 40.23% | Val. Loss: 1.650 | Val. Acc: 39.38% | Val. Precision: 21.719 | Val. Recall: 39.375 | Val. F1-score: 27.060 |\n"
     ]
    },
    {
     "data": {
      "application/vnd.jupyter.widget-view+json": {
       "model_id": "f8f578a1ba774e6198662a880b3365ff",
       "version_major": 2,
       "version_minor": 0
      },
      "text/plain": [
       "  0%|          | 0/320 [00:00<?, ?it/s]"
      ]
     },
     "metadata": {},
     "output_type": "display_data"
    },
    {
     "name": "stdout",
     "output_type": "stream",
     "text": [
      "| Epoch: 104 | Train Loss: 1.641 | Train Acc: 40.23% | Val. Loss: 1.650 | Val. Acc: 39.38% | Val. Precision: 21.719 | Val. Recall: 39.375 | Val. F1-score: 27.060 |\n"
     ]
    },
    {
     "data": {
      "application/vnd.jupyter.widget-view+json": {
       "model_id": "c21ca02f3c684bf58a20b2af951324e0",
       "version_major": 2,
       "version_minor": 0
      },
      "text/plain": [
       "  0%|          | 0/320 [00:00<?, ?it/s]"
      ]
     },
     "metadata": {},
     "output_type": "display_data"
    },
    {
     "name": "stdout",
     "output_type": "stream",
     "text": [
      "| Epoch: 105 | Train Loss: 1.640 | Train Acc: 40.39% | Val. Loss: 1.650 | Val. Acc: 39.38% | Val. Precision: 21.719 | Val. Recall: 39.375 | Val. F1-score: 27.060 |\n"
     ]
    },
    {
     "data": {
      "application/vnd.jupyter.widget-view+json": {
       "model_id": "4db8aaaa44ba42d48c2f0e01c22b20a4",
       "version_major": 2,
       "version_minor": 0
      },
      "text/plain": [
       "  0%|          | 0/320 [00:00<?, ?it/s]"
      ]
     },
     "metadata": {},
     "output_type": "display_data"
    },
    {
     "name": "stdout",
     "output_type": "stream",
     "text": [
      "| Epoch: 106 | Train Loss: 1.641 | Train Acc: 40.23% | Val. Loss: 1.650 | Val. Acc: 39.38% | Val. Precision: 21.719 | Val. Recall: 39.375 | Val. F1-score: 27.060 |\n"
     ]
    },
    {
     "data": {
      "application/vnd.jupyter.widget-view+json": {
       "model_id": "6d8e618311414d1db6711f866cfe96e4",
       "version_major": 2,
       "version_minor": 0
      },
      "text/plain": [
       "  0%|          | 0/320 [00:00<?, ?it/s]"
      ]
     },
     "metadata": {},
     "output_type": "display_data"
    },
    {
     "name": "stdout",
     "output_type": "stream",
     "text": [
      "| Epoch: 107 | Train Loss: 1.641 | Train Acc: 40.23% | Val. Loss: 1.650 | Val. Acc: 39.38% | Val. Precision: 21.719 | Val. Recall: 39.375 | Val. F1-score: 27.060 |\n"
     ]
    },
    {
     "data": {
      "application/vnd.jupyter.widget-view+json": {
       "model_id": "687e323a710445adb3ac14bc1b5f16af",
       "version_major": 2,
       "version_minor": 0
      },
      "text/plain": [
       "  0%|          | 0/320 [00:00<?, ?it/s]"
      ]
     },
     "metadata": {},
     "output_type": "display_data"
    },
    {
     "name": "stdout",
     "output_type": "stream",
     "text": [
      "| Epoch: 108 | Train Loss: 1.641 | Train Acc: 40.23% | Val. Loss: 1.650 | Val. Acc: 39.38% | Val. Precision: 21.719 | Val. Recall: 39.375 | Val. F1-score: 27.060 |\n"
     ]
    },
    {
     "data": {
      "application/vnd.jupyter.widget-view+json": {
       "model_id": "d6d85037f7fd477ab45b43307dffb6d6",
       "version_major": 2,
       "version_minor": 0
      },
      "text/plain": [
       "  0%|          | 0/320 [00:00<?, ?it/s]"
      ]
     },
     "metadata": {},
     "output_type": "display_data"
    },
    {
     "name": "stdout",
     "output_type": "stream",
     "text": [
      "| Epoch: 109 | Train Loss: 1.641 | Train Acc: 40.23% | Val. Loss: 1.650 | Val. Acc: 39.38% | Val. Precision: 21.719 | Val. Recall: 39.375 | Val. F1-score: 27.060 |\n"
     ]
    },
    {
     "data": {
      "application/vnd.jupyter.widget-view+json": {
       "model_id": "9d32651e77974f0080a3694751d32f78",
       "version_major": 2,
       "version_minor": 0
      },
      "text/plain": [
       "  0%|          | 0/320 [00:00<?, ?it/s]"
      ]
     },
     "metadata": {},
     "output_type": "display_data"
    },
    {
     "name": "stdout",
     "output_type": "stream",
     "text": [
      "| Epoch: 110 | Train Loss: 1.641 | Train Acc: 40.23% | Val. Loss: 1.650 | Val. Acc: 39.38% | Val. Precision: 21.719 | Val. Recall: 39.375 | Val. F1-score: 27.060 |\n"
     ]
    },
    {
     "data": {
      "application/vnd.jupyter.widget-view+json": {
       "model_id": "ea62fd29ddaa40b09f3d734991b1bc28",
       "version_major": 2,
       "version_minor": 0
      },
      "text/plain": [
       "  0%|          | 0/320 [00:00<?, ?it/s]"
      ]
     },
     "metadata": {},
     "output_type": "display_data"
    },
    {
     "name": "stdout",
     "output_type": "stream",
     "text": [
      "| Epoch: 111 | Train Loss: 1.644 | Train Acc: 40.00% | Val. Loss: 1.650 | Val. Acc: 39.38% | Val. Precision: 21.719 | Val. Recall: 39.375 | Val. F1-score: 27.060 |\n"
     ]
    },
    {
     "data": {
      "application/vnd.jupyter.widget-view+json": {
       "model_id": "930700be05cb481aab55b544562d5f59",
       "version_major": 2,
       "version_minor": 0
      },
      "text/plain": [
       "  0%|          | 0/320 [00:00<?, ?it/s]"
      ]
     },
     "metadata": {},
     "output_type": "display_data"
    },
    {
     "name": "stdout",
     "output_type": "stream",
     "text": [
      "| Epoch: 112 | Train Loss: 1.641 | Train Acc: 40.23% | Val. Loss: 1.650 | Val. Acc: 39.38% | Val. Precision: 21.719 | Val. Recall: 39.375 | Val. F1-score: 27.060 |\n"
     ]
    },
    {
     "data": {
      "application/vnd.jupyter.widget-view+json": {
       "model_id": "36e91700ee084869adee927abe099ea5",
       "version_major": 2,
       "version_minor": 0
      },
      "text/plain": [
       "  0%|          | 0/320 [00:00<?, ?it/s]"
      ]
     },
     "metadata": {},
     "output_type": "display_data"
    },
    {
     "name": "stdout",
     "output_type": "stream",
     "text": [
      "| Epoch: 113 | Train Loss: 1.641 | Train Acc: 40.23% | Val. Loss: 1.650 | Val. Acc: 39.38% | Val. Precision: 21.719 | Val. Recall: 39.375 | Val. F1-score: 27.060 |\n"
     ]
    },
    {
     "data": {
      "application/vnd.jupyter.widget-view+json": {
       "model_id": "e32f56b6e00d4d7b8070189e0fa51d49",
       "version_major": 2,
       "version_minor": 0
      },
      "text/plain": [
       "  0%|          | 0/320 [00:00<?, ?it/s]"
      ]
     },
     "metadata": {},
     "output_type": "display_data"
    },
    {
     "name": "stdout",
     "output_type": "stream",
     "text": [
      "| Epoch: 114 | Train Loss: 1.641 | Train Acc: 40.23% | Val. Loss: 1.650 | Val. Acc: 39.38% | Val. Precision: 21.719 | Val. Recall: 39.375 | Val. F1-score: 27.060 |\n"
     ]
    },
    {
     "data": {
      "application/vnd.jupyter.widget-view+json": {
       "model_id": "07bbe20cda8e49e5ade4ea6b5f8b5d2d",
       "version_major": 2,
       "version_minor": 0
      },
      "text/plain": [
       "  0%|          | 0/320 [00:00<?, ?it/s]"
      ]
     },
     "metadata": {},
     "output_type": "display_data"
    },
    {
     "name": "stdout",
     "output_type": "stream",
     "text": [
      "| Epoch: 115 | Train Loss: 1.641 | Train Acc: 40.23% | Val. Loss: 1.650 | Val. Acc: 39.38% | Val. Precision: 21.719 | Val. Recall: 39.375 | Val. F1-score: 27.060 |\n"
     ]
    },
    {
     "data": {
      "application/vnd.jupyter.widget-view+json": {
       "model_id": "110bc603e1364337889dd3266c833467",
       "version_major": 2,
       "version_minor": 0
      },
      "text/plain": [
       "  0%|          | 0/320 [00:00<?, ?it/s]"
      ]
     },
     "metadata": {},
     "output_type": "display_data"
    },
    {
     "name": "stdout",
     "output_type": "stream",
     "text": [
      "| Epoch: 116 | Train Loss: 1.643 | Train Acc: 40.00% | Val. Loss: 1.650 | Val. Acc: 39.38% | Val. Precision: 21.719 | Val. Recall: 39.375 | Val. F1-score: 27.060 |\n"
     ]
    },
    {
     "data": {
      "application/vnd.jupyter.widget-view+json": {
       "model_id": "19e9be8e804d425dad614e6ebe8d0d07",
       "version_major": 2,
       "version_minor": 0
      },
      "text/plain": [
       "  0%|          | 0/320 [00:00<?, ?it/s]"
      ]
     },
     "metadata": {},
     "output_type": "display_data"
    },
    {
     "name": "stdout",
     "output_type": "stream",
     "text": [
      "| Epoch: 117 | Train Loss: 1.641 | Train Acc: 40.23% | Val. Loss: 1.650 | Val. Acc: 39.38% | Val. Precision: 21.719 | Val. Recall: 39.375 | Val. F1-score: 27.060 |\n"
     ]
    },
    {
     "data": {
      "application/vnd.jupyter.widget-view+json": {
       "model_id": "df8b723015e24fd6b6693d12b138f92a",
       "version_major": 2,
       "version_minor": 0
      },
      "text/plain": [
       "  0%|          | 0/320 [00:00<?, ?it/s]"
      ]
     },
     "metadata": {},
     "output_type": "display_data"
    },
    {
     "name": "stdout",
     "output_type": "stream",
     "text": [
      "| Epoch: 118 | Train Loss: 1.641 | Train Acc: 40.23% | Val. Loss: 1.650 | Val. Acc: 39.38% | Val. Precision: 21.719 | Val. Recall: 39.375 | Val. F1-score: 27.060 |\n"
     ]
    },
    {
     "data": {
      "application/vnd.jupyter.widget-view+json": {
       "model_id": "f6151dbc327b4c1ea573041365d23049",
       "version_major": 2,
       "version_minor": 0
      },
      "text/plain": [
       "  0%|          | 0/320 [00:00<?, ?it/s]"
      ]
     },
     "metadata": {},
     "output_type": "display_data"
    },
    {
     "name": "stdout",
     "output_type": "stream",
     "text": [
      "| Epoch: 119 | Train Loss: 1.641 | Train Acc: 40.23% | Val. Loss: 1.650 | Val. Acc: 39.38% | Val. Precision: 21.719 | Val. Recall: 39.375 | Val. F1-score: 27.060 |\n"
     ]
    },
    {
     "data": {
      "application/vnd.jupyter.widget-view+json": {
       "model_id": "7f38231919974f69bb087f325a6f980d",
       "version_major": 2,
       "version_minor": 0
      },
      "text/plain": [
       "  0%|          | 0/320 [00:00<?, ?it/s]"
      ]
     },
     "metadata": {},
     "output_type": "display_data"
    },
    {
     "name": "stdout",
     "output_type": "stream",
     "text": [
      "| Epoch: 120 | Train Loss: 1.641 | Train Acc: 40.23% | Val. Loss: 1.650 | Val. Acc: 39.38% | Val. Precision: 21.719 | Val. Recall: 39.375 | Val. F1-score: 27.060 |\n"
     ]
    },
    {
     "data": {
      "application/vnd.jupyter.widget-view+json": {
       "model_id": "66b2771986a44529bb6658ccd29619cc",
       "version_major": 2,
       "version_minor": 0
      },
      "text/plain": [
       "  0%|          | 0/320 [00:00<?, ?it/s]"
      ]
     },
     "metadata": {},
     "output_type": "display_data"
    },
    {
     "name": "stdout",
     "output_type": "stream",
     "text": [
      "| Epoch: 121 | Train Loss: 1.647 | Train Acc: 39.69% | Val. Loss: 1.650 | Val. Acc: 39.38% | Val. Precision: 21.719 | Val. Recall: 39.375 | Val. F1-score: 27.060 |\n"
     ]
    },
    {
     "data": {
      "application/vnd.jupyter.widget-view+json": {
       "model_id": "9a5372d6dda041a4aa1620bdc6d01577",
       "version_major": 2,
       "version_minor": 0
      },
      "text/plain": [
       "  0%|          | 0/320 [00:00<?, ?it/s]"
      ]
     },
     "metadata": {},
     "output_type": "display_data"
    },
    {
     "name": "stdout",
     "output_type": "stream",
     "text": [
      "| Epoch: 122 | Train Loss: 1.641 | Train Acc: 40.23% | Val. Loss: 1.650 | Val. Acc: 39.38% | Val. Precision: 21.719 | Val. Recall: 39.375 | Val. F1-score: 27.060 |\n"
     ]
    },
    {
     "data": {
      "application/vnd.jupyter.widget-view+json": {
       "model_id": "101c7a951a9142e88c0c153ba2e21c66",
       "version_major": 2,
       "version_minor": 0
      },
      "text/plain": [
       "  0%|          | 0/320 [00:00<?, ?it/s]"
      ]
     },
     "metadata": {},
     "output_type": "display_data"
    },
    {
     "name": "stdout",
     "output_type": "stream",
     "text": [
      "| Epoch: 123 | Train Loss: 1.641 | Train Acc: 40.23% | Val. Loss: 1.650 | Val. Acc: 39.38% | Val. Precision: 21.719 | Val. Recall: 39.375 | Val. F1-score: 27.060 |\n"
     ]
    },
    {
     "data": {
      "application/vnd.jupyter.widget-view+json": {
       "model_id": "38ac248769184c4aa1de893295c82b01",
       "version_major": 2,
       "version_minor": 0
      },
      "text/plain": [
       "  0%|          | 0/320 [00:00<?, ?it/s]"
      ]
     },
     "metadata": {},
     "output_type": "display_data"
    },
    {
     "name": "stdout",
     "output_type": "stream",
     "text": [
      "| Epoch: 124 | Train Loss: 1.641 | Train Acc: 40.23% | Val. Loss: 1.650 | Val. Acc: 39.38% | Val. Precision: 21.719 | Val. Recall: 39.375 | Val. F1-score: 27.060 |\n"
     ]
    },
    {
     "data": {
      "application/vnd.jupyter.widget-view+json": {
       "model_id": "6dae7e9843dc4c3288ea9533633f765b",
       "version_major": 2,
       "version_minor": 0
      },
      "text/plain": [
       "  0%|          | 0/320 [00:00<?, ?it/s]"
      ]
     },
     "metadata": {},
     "output_type": "display_data"
    },
    {
     "name": "stdout",
     "output_type": "stream",
     "text": [
      "| Epoch: 125 | Train Loss: 1.919 | Train Acc: 12.50% | Val. Loss: 2.000 | Val. Acc: 4.38% | Val. Precision: 1.094 | Val. Recall: 4.375 | Val. F1-score: 1.750 |\n"
     ]
    },
    {
     "data": {
      "application/vnd.jupyter.widget-view+json": {
       "model_id": "648ccf1a2c194ccb89c0752330c27dc1",
       "version_major": 2,
       "version_minor": 0
      },
      "text/plain": [
       "  0%|          | 0/320 [00:00<?, ?it/s]"
      ]
     },
     "metadata": {},
     "output_type": "display_data"
    },
    {
     "name": "stdout",
     "output_type": "stream",
     "text": [
      "| Epoch: 126 | Train Loss: 2.009 | Train Acc: 3.44% | Val. Loss: 2.000 | Val. Acc: 4.38% | Val. Precision: 1.094 | Val. Recall: 4.375 | Val. F1-score: 1.750 |\n"
     ]
    },
    {
     "data": {
      "application/vnd.jupyter.widget-view+json": {
       "model_id": "d70540794ac646efb7107c0d2c537982",
       "version_major": 2,
       "version_minor": 0
      },
      "text/plain": [
       "  0%|          | 0/320 [00:00<?, ?it/s]"
      ]
     },
     "metadata": {},
     "output_type": "display_data"
    },
    {
     "name": "stdout",
     "output_type": "stream",
     "text": [
      "| Epoch: 127 | Train Loss: 2.009 | Train Acc: 3.44% | Val. Loss: 2.000 | Val. Acc: 4.38% | Val. Precision: 1.094 | Val. Recall: 4.375 | Val. F1-score: 1.750 |\n"
     ]
    },
    {
     "data": {
      "application/vnd.jupyter.widget-view+json": {
       "model_id": "fa295e79051f4a79b505650e18854949",
       "version_major": 2,
       "version_minor": 0
      },
      "text/plain": [
       "  0%|          | 0/320 [00:00<?, ?it/s]"
      ]
     },
     "metadata": {},
     "output_type": "display_data"
    },
    {
     "name": "stdout",
     "output_type": "stream",
     "text": [
      "| Epoch: 128 | Train Loss: 2.009 | Train Acc: 3.44% | Val. Loss: 2.000 | Val. Acc: 4.38% | Val. Precision: 1.094 | Val. Recall: 4.375 | Val. F1-score: 1.750 |\n"
     ]
    },
    {
     "data": {
      "application/vnd.jupyter.widget-view+json": {
       "model_id": "9619427674024170b541185a131ea697",
       "version_major": 2,
       "version_minor": 0
      },
      "text/plain": [
       "  0%|          | 0/320 [00:00<?, ?it/s]"
      ]
     },
     "metadata": {},
     "output_type": "display_data"
    },
    {
     "name": "stdout",
     "output_type": "stream",
     "text": [
      "| Epoch: 129 | Train Loss: 2.009 | Train Acc: 3.44% | Val. Loss: 2.000 | Val. Acc: 4.38% | Val. Precision: 1.094 | Val. Recall: 4.375 | Val. F1-score: 1.750 |\n"
     ]
    },
    {
     "data": {
      "application/vnd.jupyter.widget-view+json": {
       "model_id": "e428bb426ded45ff97b8e2d3c4fbd024",
       "version_major": 2,
       "version_minor": 0
      },
      "text/plain": [
       "  0%|          | 0/320 [00:00<?, ?it/s]"
      ]
     },
     "metadata": {},
     "output_type": "display_data"
    },
    {
     "name": "stdout",
     "output_type": "stream",
     "text": [
      "| Epoch: 130 | Train Loss: 2.009 | Train Acc: 3.44% | Val. Loss: 2.000 | Val. Acc: 4.38% | Val. Precision: 1.094 | Val. Recall: 4.375 | Val. F1-score: 1.750 |\n"
     ]
    },
    {
     "data": {
      "application/vnd.jupyter.widget-view+json": {
       "model_id": "6b058be1227f46daa3a9452364255525",
       "version_major": 2,
       "version_minor": 0
      },
      "text/plain": [
       "  0%|          | 0/320 [00:00<?, ?it/s]"
      ]
     },
     "metadata": {},
     "output_type": "display_data"
    },
    {
     "name": "stdout",
     "output_type": "stream",
     "text": [
      "| Epoch: 131 | Train Loss: 2.009 | Train Acc: 3.44% | Val. Loss: 2.000 | Val. Acc: 4.38% | Val. Precision: 1.094 | Val. Recall: 4.375 | Val. F1-score: 1.750 |\n"
     ]
    },
    {
     "data": {
      "application/vnd.jupyter.widget-view+json": {
       "model_id": "e3b9fba30f4c44b5a29e7823b00a37f5",
       "version_major": 2,
       "version_minor": 0
      },
      "text/plain": [
       "  0%|          | 0/320 [00:00<?, ?it/s]"
      ]
     },
     "metadata": {},
     "output_type": "display_data"
    },
    {
     "name": "stdout",
     "output_type": "stream",
     "text": [
      "| Epoch: 132 | Train Loss: 1.669 | Train Acc: 37.42% | Val. Loss: 1.650 | Val. Acc: 39.38% | Val. Precision: 21.719 | Val. Recall: 39.375 | Val. F1-score: 27.060 |\n"
     ]
    },
    {
     "data": {
      "application/vnd.jupyter.widget-view+json": {
       "model_id": "87ebf7ec87cf49068f2071e98f27193d",
       "version_major": 2,
       "version_minor": 0
      },
      "text/plain": [
       "  0%|          | 0/320 [00:00<?, ?it/s]"
      ]
     },
     "metadata": {},
     "output_type": "display_data"
    },
    {
     "name": "stdout",
     "output_type": "stream",
     "text": [
      "| Epoch: 133 | Train Loss: 1.641 | Train Acc: 40.23% | Val. Loss: 1.650 | Val. Acc: 39.38% | Val. Precision: 21.719 | Val. Recall: 39.375 | Val. F1-score: 27.060 |\n"
     ]
    },
    {
     "data": {
      "application/vnd.jupyter.widget-view+json": {
       "model_id": "e0a88ee3265345edb8c9f75cb5233765",
       "version_major": 2,
       "version_minor": 0
      },
      "text/plain": [
       "  0%|          | 0/320 [00:00<?, ?it/s]"
      ]
     },
     "metadata": {},
     "output_type": "display_data"
    },
    {
     "name": "stdout",
     "output_type": "stream",
     "text": [
      "| Epoch: 134 | Train Loss: 1.641 | Train Acc: 40.23% | Val. Loss: 1.650 | Val. Acc: 39.38% | Val. Precision: 21.719 | Val. Recall: 39.375 | Val. F1-score: 27.060 |\n"
     ]
    },
    {
     "data": {
      "application/vnd.jupyter.widget-view+json": {
       "model_id": "f46c39a1a0b34c7dbb4ffbba828982c5",
       "version_major": 2,
       "version_minor": 0
      },
      "text/plain": [
       "  0%|          | 0/320 [00:00<?, ?it/s]"
      ]
     },
     "metadata": {},
     "output_type": "display_data"
    },
    {
     "name": "stdout",
     "output_type": "stream",
     "text": [
      "| Epoch: 135 | Train Loss: 1.641 | Train Acc: 40.23% | Val. Loss: 1.650 | Val. Acc: 39.38% | Val. Precision: 21.719 | Val. Recall: 39.375 | Val. F1-score: 27.060 |\n"
     ]
    },
    {
     "data": {
      "application/vnd.jupyter.widget-view+json": {
       "model_id": "d41b6d7cc9b8482a9f533ca7ccfee241",
       "version_major": 2,
       "version_minor": 0
      },
      "text/plain": [
       "  0%|          | 0/320 [00:00<?, ?it/s]"
      ]
     },
     "metadata": {},
     "output_type": "display_data"
    },
    {
     "name": "stdout",
     "output_type": "stream",
     "text": [
      "| Epoch: 136 | Train Loss: 1.641 | Train Acc: 40.23% | Val. Loss: 1.650 | Val. Acc: 39.38% | Val. Precision: 21.719 | Val. Recall: 39.375 | Val. F1-score: 27.060 |\n"
     ]
    },
    {
     "data": {
      "application/vnd.jupyter.widget-view+json": {
       "model_id": "4fb9d506f68e4d5f837ebf3684c416f0",
       "version_major": 2,
       "version_minor": 0
      },
      "text/plain": [
       "  0%|          | 0/320 [00:00<?, ?it/s]"
      ]
     },
     "metadata": {},
     "output_type": "display_data"
    },
    {
     "name": "stdout",
     "output_type": "stream",
     "text": [
      "| Epoch: 137 | Train Loss: 1.641 | Train Acc: 40.23% | Val. Loss: 1.650 | Val. Acc: 39.38% | Val. Precision: 21.719 | Val. Recall: 39.375 | Val. F1-score: 27.060 |\n"
     ]
    },
    {
     "data": {
      "application/vnd.jupyter.widget-view+json": {
       "model_id": "977b2fffbdc34155a923b918f8ad1469",
       "version_major": 2,
       "version_minor": 0
      },
      "text/plain": [
       "  0%|          | 0/320 [00:00<?, ?it/s]"
      ]
     },
     "metadata": {},
     "output_type": "display_data"
    },
    {
     "name": "stdout",
     "output_type": "stream",
     "text": [
      "| Epoch: 138 | Train Loss: 1.641 | Train Acc: 40.23% | Val. Loss: 1.674 | Val. Acc: 36.88% | Val. Precision: 22.292 | Val. Recall: 36.875 | Val. F1-score: 26.515 |\n"
     ]
    },
    {
     "data": {
      "application/vnd.jupyter.widget-view+json": {
       "model_id": "bf36dc8e588a4dcbbb14519b3dfa3583",
       "version_major": 2,
       "version_minor": 0
      },
      "text/plain": [
       "  0%|          | 0/320 [00:00<?, ?it/s]"
      ]
     },
     "metadata": {},
     "output_type": "display_data"
    },
    {
     "name": "stdout",
     "output_type": "stream",
     "text": [
      "| Epoch: 139 | Train Loss: 1.686 | Train Acc: 35.70% | Val. Loss: 1.650 | Val. Acc: 39.38% | Val. Precision: 21.719 | Val. Recall: 39.375 | Val. F1-score: 27.060 |\n"
     ]
    },
    {
     "data": {
      "application/vnd.jupyter.widget-view+json": {
       "model_id": "15f0f16b49e643ab99286c37968ef8f2",
       "version_major": 2,
       "version_minor": 0
      },
      "text/plain": [
       "  0%|          | 0/320 [00:00<?, ?it/s]"
      ]
     },
     "metadata": {},
     "output_type": "display_data"
    },
    {
     "name": "stdout",
     "output_type": "stream",
     "text": [
      "| Epoch: 140 | Train Loss: 1.641 | Train Acc: 40.23% | Val. Loss: 1.650 | Val. Acc: 39.38% | Val. Precision: 21.719 | Val. Recall: 39.375 | Val. F1-score: 27.060 |\n"
     ]
    },
    {
     "data": {
      "application/vnd.jupyter.widget-view+json": {
       "model_id": "765afd637eb141cdaf47c4de7aa6abb2",
       "version_major": 2,
       "version_minor": 0
      },
      "text/plain": [
       "  0%|          | 0/320 [00:00<?, ?it/s]"
      ]
     },
     "metadata": {},
     "output_type": "display_data"
    },
    {
     "name": "stdout",
     "output_type": "stream",
     "text": [
      "| Epoch: 141 | Train Loss: 1.641 | Train Acc: 40.23% | Val. Loss: 1.650 | Val. Acc: 39.38% | Val. Precision: 21.719 | Val. Recall: 39.375 | Val. F1-score: 27.060 |\n"
     ]
    },
    {
     "data": {
      "application/vnd.jupyter.widget-view+json": {
       "model_id": "074be332bfc540ffb148ced65cb55d44",
       "version_major": 2,
       "version_minor": 0
      },
      "text/plain": [
       "  0%|          | 0/320 [00:00<?, ?it/s]"
      ]
     },
     "metadata": {},
     "output_type": "display_data"
    },
    {
     "name": "stdout",
     "output_type": "stream",
     "text": [
      "| Epoch: 142 | Train Loss: 1.641 | Train Acc: 40.23% | Val. Loss: 1.650 | Val. Acc: 39.38% | Val. Precision: 21.719 | Val. Recall: 39.375 | Val. F1-score: 27.060 |\n"
     ]
    },
    {
     "data": {
      "application/vnd.jupyter.widget-view+json": {
       "model_id": "883206746ff449e1b0bae79c3c6cf40b",
       "version_major": 2,
       "version_minor": 0
      },
      "text/plain": [
       "  0%|          | 0/320 [00:00<?, ?it/s]"
      ]
     },
     "metadata": {},
     "output_type": "display_data"
    },
    {
     "name": "stdout",
     "output_type": "stream",
     "text": [
      "| Epoch: 143 | Train Loss: 1.641 | Train Acc: 40.23% | Val. Loss: 1.650 | Val. Acc: 39.38% | Val. Precision: 21.719 | Val. Recall: 39.375 | Val. F1-score: 27.060 |\n"
     ]
    },
    {
     "data": {
      "application/vnd.jupyter.widget-view+json": {
       "model_id": "da017bae7e904531bd5e669ef320ee7f",
       "version_major": 2,
       "version_minor": 0
      },
      "text/plain": [
       "  0%|          | 0/320 [00:00<?, ?it/s]"
      ]
     },
     "metadata": {},
     "output_type": "display_data"
    },
    {
     "name": "stdout",
     "output_type": "stream",
     "text": [
      "| Epoch: 144 | Train Loss: 1.641 | Train Acc: 40.23% | Val. Loss: 1.650 | Val. Acc: 39.38% | Val. Precision: 21.719 | Val. Recall: 39.375 | Val. F1-score: 27.060 |\n"
     ]
    },
    {
     "data": {
      "application/vnd.jupyter.widget-view+json": {
       "model_id": "2f322a5d19184b269d7240039bb22da9",
       "version_major": 2,
       "version_minor": 0
      },
      "text/plain": [
       "  0%|          | 0/320 [00:00<?, ?it/s]"
      ]
     },
     "metadata": {},
     "output_type": "display_data"
    },
    {
     "name": "stdout",
     "output_type": "stream",
     "text": [
      "| Epoch: 145 | Train Loss: 1.641 | Train Acc: 40.23% | Val. Loss: 1.650 | Val. Acc: 39.38% | Val. Precision: 21.719 | Val. Recall: 39.375 | Val. F1-score: 27.060 |\n"
     ]
    },
    {
     "data": {
      "application/vnd.jupyter.widget-view+json": {
       "model_id": "75c7c49547064f35a5d1391d87331bac",
       "version_major": 2,
       "version_minor": 0
      },
      "text/plain": [
       "  0%|          | 0/320 [00:00<?, ?it/s]"
      ]
     },
     "metadata": {},
     "output_type": "display_data"
    },
    {
     "name": "stdout",
     "output_type": "stream",
     "text": [
      "| Epoch: 146 | Train Loss: 1.642 | Train Acc: 40.23% | Val. Loss: 1.650 | Val. Acc: 39.38% | Val. Precision: 21.719 | Val. Recall: 39.375 | Val. F1-score: 27.060 |\n"
     ]
    },
    {
     "data": {
      "application/vnd.jupyter.widget-view+json": {
       "model_id": "31fedea43414447d80b049381eb3e654",
       "version_major": 2,
       "version_minor": 0
      },
      "text/plain": [
       "  0%|          | 0/320 [00:00<?, ?it/s]"
      ]
     },
     "metadata": {},
     "output_type": "display_data"
    },
    {
     "name": "stdout",
     "output_type": "stream",
     "text": [
      "| Epoch: 147 | Train Loss: 1.641 | Train Acc: 40.23% | Val. Loss: 1.650 | Val. Acc: 39.38% | Val. Precision: 21.719 | Val. Recall: 39.375 | Val. F1-score: 27.060 |\n"
     ]
    },
    {
     "data": {
      "application/vnd.jupyter.widget-view+json": {
       "model_id": "471e12816e054d33a016353ef8a0cd76",
       "version_major": 2,
       "version_minor": 0
      },
      "text/plain": [
       "  0%|          | 0/320 [00:00<?, ?it/s]"
      ]
     },
     "metadata": {},
     "output_type": "display_data"
    },
    {
     "name": "stdout",
     "output_type": "stream",
     "text": [
      "| Epoch: 148 | Train Loss: 1.641 | Train Acc: 40.23% | Val. Loss: 1.650 | Val. Acc: 39.38% | Val. Precision: 21.719 | Val. Recall: 39.375 | Val. F1-score: 27.060 |\n"
     ]
    },
    {
     "data": {
      "application/vnd.jupyter.widget-view+json": {
       "model_id": "6bf6fe30721e4c9798c259e2b2c68368",
       "version_major": 2,
       "version_minor": 0
      },
      "text/plain": [
       "  0%|          | 0/320 [00:00<?, ?it/s]"
      ]
     },
     "metadata": {},
     "output_type": "display_data"
    },
    {
     "name": "stdout",
     "output_type": "stream",
     "text": [
      "| Epoch: 149 | Train Loss: 1.641 | Train Acc: 40.23% | Val. Loss: 1.650 | Val. Acc: 39.38% | Val. Precision: 21.719 | Val. Recall: 39.375 | Val. F1-score: 27.060 |\n"
     ]
    },
    {
     "data": {
      "application/vnd.jupyter.widget-view+json": {
       "model_id": "4e57f0ad5fbd403daac0811938ffd588",
       "version_major": 2,
       "version_minor": 0
      },
      "text/plain": [
       "  0%|          | 0/320 [00:00<?, ?it/s]"
      ]
     },
     "metadata": {},
     "output_type": "display_data"
    },
    {
     "name": "stdout",
     "output_type": "stream",
     "text": [
      "| Epoch: 150 | Train Loss: 1.641 | Train Acc: 40.23% | Val. Loss: 1.650 | Val. Acc: 39.38% | Val. Precision: 21.719 | Val. Recall: 39.375 | Val. F1-score: 27.060 |\n"
     ]
    },
    {
     "data": {
      "application/vnd.jupyter.widget-view+json": {
       "model_id": "db45963174604ac2aaa2a8b033914ad4",
       "version_major": 2,
       "version_minor": 0
      },
      "text/plain": [
       "  0%|          | 0/320 [00:00<?, ?it/s]"
      ]
     },
     "metadata": {},
     "output_type": "display_data"
    },
    {
     "name": "stdout",
     "output_type": "stream",
     "text": [
      "| Epoch: 151 | Train Loss: 1.641 | Train Acc: 40.23% | Val. Loss: 1.650 | Val. Acc: 39.38% | Val. Precision: 21.719 | Val. Recall: 39.375 | Val. F1-score: 27.060 |\n"
     ]
    },
    {
     "data": {
      "application/vnd.jupyter.widget-view+json": {
       "model_id": "8c479f9975764ae592794430f7a43618",
       "version_major": 2,
       "version_minor": 0
      },
      "text/plain": [
       "  0%|          | 0/320 [00:00<?, ?it/s]"
      ]
     },
     "metadata": {},
     "output_type": "display_data"
    },
    {
     "name": "stdout",
     "output_type": "stream",
     "text": [
      "| Epoch: 152 | Train Loss: 1.641 | Train Acc: 40.23% | Val. Loss: 1.650 | Val. Acc: 39.38% | Val. Precision: 21.719 | Val. Recall: 39.375 | Val. F1-score: 27.060 |\n"
     ]
    },
    {
     "data": {
      "application/vnd.jupyter.widget-view+json": {
       "model_id": "84419bf613864a23af82af3384c405bb",
       "version_major": 2,
       "version_minor": 0
      },
      "text/plain": [
       "  0%|          | 0/320 [00:00<?, ?it/s]"
      ]
     },
     "metadata": {},
     "output_type": "display_data"
    },
    {
     "name": "stdout",
     "output_type": "stream",
     "text": [
      "| Epoch: 153 | Train Loss: 1.641 | Train Acc: 40.23% | Val. Loss: 1.650 | Val. Acc: 39.38% | Val. Precision: 21.719 | Val. Recall: 39.375 | Val. F1-score: 27.060 |\n"
     ]
    },
    {
     "data": {
      "application/vnd.jupyter.widget-view+json": {
       "model_id": "2afd1cf1e32b4120b04da86926283f9a",
       "version_major": 2,
       "version_minor": 0
      },
      "text/plain": [
       "  0%|          | 0/320 [00:00<?, ?it/s]"
      ]
     },
     "metadata": {},
     "output_type": "display_data"
    },
    {
     "name": "stdout",
     "output_type": "stream",
     "text": [
      "| Epoch: 154 | Train Loss: 1.641 | Train Acc: 40.23% | Val. Loss: 1.650 | Val. Acc: 39.38% | Val. Precision: 21.719 | Val. Recall: 39.375 | Val. F1-score: 27.060 |\n"
     ]
    },
    {
     "data": {
      "application/vnd.jupyter.widget-view+json": {
       "model_id": "9b3b2b7166fd4ceaba7f3cfd2d2f29d3",
       "version_major": 2,
       "version_minor": 0
      },
      "text/plain": [
       "  0%|          | 0/320 [00:00<?, ?it/s]"
      ]
     },
     "metadata": {},
     "output_type": "display_data"
    },
    {
     "name": "stdout",
     "output_type": "stream",
     "text": [
      "| Epoch: 155 | Train Loss: 1.641 | Train Acc: 40.23% | Val. Loss: 1.650 | Val. Acc: 39.38% | Val. Precision: 21.719 | Val. Recall: 39.375 | Val. F1-score: 27.060 |\n"
     ]
    },
    {
     "data": {
      "application/vnd.jupyter.widget-view+json": {
       "model_id": "3f330f5f96d7420a83279bb152fd476c",
       "version_major": 2,
       "version_minor": 0
      },
      "text/plain": [
       "  0%|          | 0/320 [00:00<?, ?it/s]"
      ]
     },
     "metadata": {},
     "output_type": "display_data"
    },
    {
     "name": "stdout",
     "output_type": "stream",
     "text": [
      "| Epoch: 156 | Train Loss: 1.641 | Train Acc: 40.23% | Val. Loss: 1.650 | Val. Acc: 39.38% | Val. Precision: 21.719 | Val. Recall: 39.375 | Val. F1-score: 27.060 |\n"
     ]
    },
    {
     "data": {
      "application/vnd.jupyter.widget-view+json": {
       "model_id": "6a0d850ff365436683df68b945528fa7",
       "version_major": 2,
       "version_minor": 0
      },
      "text/plain": [
       "  0%|          | 0/320 [00:00<?, ?it/s]"
      ]
     },
     "metadata": {},
     "output_type": "display_data"
    },
    {
     "name": "stdout",
     "output_type": "stream",
     "text": [
      "| Epoch: 157 | Train Loss: 1.642 | Train Acc: 40.16% | Val. Loss: 1.650 | Val. Acc: 39.38% | Val. Precision: 21.719 | Val. Recall: 39.375 | Val. F1-score: 27.060 |\n"
     ]
    },
    {
     "data": {
      "application/vnd.jupyter.widget-view+json": {
       "model_id": "eeae46b6bcfd49628680bef19b17726a",
       "version_major": 2,
       "version_minor": 0
      },
      "text/plain": [
       "  0%|          | 0/320 [00:00<?, ?it/s]"
      ]
     },
     "metadata": {},
     "output_type": "display_data"
    },
    {
     "name": "stdout",
     "output_type": "stream",
     "text": [
      "| Epoch: 158 | Train Loss: 1.641 | Train Acc: 40.23% | Val. Loss: 1.650 | Val. Acc: 39.38% | Val. Precision: 21.719 | Val. Recall: 39.375 | Val. F1-score: 27.060 |\n"
     ]
    },
    {
     "data": {
      "application/vnd.jupyter.widget-view+json": {
       "model_id": "50c59879f5614d5cbcfdf736475c9610",
       "version_major": 2,
       "version_minor": 0
      },
      "text/plain": [
       "  0%|          | 0/320 [00:00<?, ?it/s]"
      ]
     },
     "metadata": {},
     "output_type": "display_data"
    },
    {
     "name": "stdout",
     "output_type": "stream",
     "text": [
      "| Epoch: 159 | Train Loss: 1.641 | Train Acc: 40.23% | Val. Loss: 1.650 | Val. Acc: 39.38% | Val. Precision: 21.719 | Val. Recall: 39.375 | Val. F1-score: 27.060 |\n"
     ]
    },
    {
     "data": {
      "application/vnd.jupyter.widget-view+json": {
       "model_id": "7374a93ed7a04f2db86712ce8c6c85b9",
       "version_major": 2,
       "version_minor": 0
      },
      "text/plain": [
       "  0%|          | 0/320 [00:00<?, ?it/s]"
      ]
     },
     "metadata": {},
     "output_type": "display_data"
    },
    {
     "name": "stdout",
     "output_type": "stream",
     "text": [
      "| Epoch: 160 | Train Loss: 1.648 | Train Acc: 39.53% | Val. Loss: 1.695 | Val. Acc: 34.38% | Val. Precision: 34.740 | Val. Recall: 34.375 | Val. F1-score: 31.524 |\n"
     ]
    },
    {
     "data": {
      "application/vnd.jupyter.widget-view+json": {
       "model_id": "5700ce8e494b42029da4e6b3cf9faaae",
       "version_major": 2,
       "version_minor": 0
      },
      "text/plain": [
       "  0%|          | 0/320 [00:00<?, ?it/s]"
      ]
     },
     "metadata": {},
     "output_type": "display_data"
    },
    {
     "name": "stdout",
     "output_type": "stream",
     "text": [
      "| Epoch: 161 | Train Loss: 1.632 | Train Acc: 41.17% | Val. Loss: 1.575 | Val. Acc: 46.88% | Val. Precision: 28.906 | Val. Recall: 46.875 | Val. F1-score: 34.798 |\n"
     ]
    },
    {
     "data": {
      "application/vnd.jupyter.widget-view+json": {
       "model_id": "66c460082f0347e0b91d091d19e92476",
       "version_major": 2,
       "version_minor": 0
      },
      "text/plain": [
       "  0%|          | 0/320 [00:00<?, ?it/s]"
      ]
     },
     "metadata": {},
     "output_type": "display_data"
    },
    {
     "name": "stdout",
     "output_type": "stream",
     "text": [
      "| Epoch: 162 | Train Loss: 1.629 | Train Acc: 41.48% | Val. Loss: 1.575 | Val. Acc: 46.88% | Val. Precision: 28.906 | Val. Recall: 46.875 | Val. F1-score: 34.798 |\n"
     ]
    },
    {
     "data": {
      "application/vnd.jupyter.widget-view+json": {
       "model_id": "fdc30387b1974320b1f01fc77f911067",
       "version_major": 2,
       "version_minor": 0
      },
      "text/plain": [
       "  0%|          | 0/320 [00:00<?, ?it/s]"
      ]
     },
     "metadata": {},
     "output_type": "display_data"
    },
    {
     "name": "stdout",
     "output_type": "stream",
     "text": [
      "| Epoch: 163 | Train Loss: 1.629 | Train Acc: 41.48% | Val. Loss: 1.575 | Val. Acc: 46.88% | Val. Precision: 28.906 | Val. Recall: 46.875 | Val. F1-score: 34.798 |\n"
     ]
    },
    {
     "data": {
      "application/vnd.jupyter.widget-view+json": {
       "model_id": "210a82d50804424c99e80338d6371539",
       "version_major": 2,
       "version_minor": 0
      },
      "text/plain": [
       "  0%|          | 0/320 [00:00<?, ?it/s]"
      ]
     },
     "metadata": {},
     "output_type": "display_data"
    },
    {
     "name": "stdout",
     "output_type": "stream",
     "text": [
      "| Epoch: 164 | Train Loss: 1.629 | Train Acc: 41.48% | Val. Loss: 1.575 | Val. Acc: 46.88% | Val. Precision: 28.906 | Val. Recall: 46.875 | Val. F1-score: 34.798 |\n"
     ]
    },
    {
     "data": {
      "application/vnd.jupyter.widget-view+json": {
       "model_id": "2de5150fb4714092ac5f3efedec30b3d",
       "version_major": 2,
       "version_minor": 0
      },
      "text/plain": [
       "  0%|          | 0/320 [00:00<?, ?it/s]"
      ]
     },
     "metadata": {},
     "output_type": "display_data"
    },
    {
     "name": "stdout",
     "output_type": "stream",
     "text": [
      "| Epoch: 165 | Train Loss: 1.629 | Train Acc: 41.48% | Val. Loss: 1.575 | Val. Acc: 46.88% | Val. Precision: 28.906 | Val. Recall: 46.875 | Val. F1-score: 34.798 |\n"
     ]
    },
    {
     "data": {
      "application/vnd.jupyter.widget-view+json": {
       "model_id": "b69506b2f50b4e7aa4427ba148989115",
       "version_major": 2,
       "version_minor": 0
      },
      "text/plain": [
       "  0%|          | 0/320 [00:00<?, ?it/s]"
      ]
     },
     "metadata": {},
     "output_type": "display_data"
    },
    {
     "name": "stdout",
     "output_type": "stream",
     "text": [
      "| Epoch: 166 | Train Loss: 1.629 | Train Acc: 41.48% | Val. Loss: 1.575 | Val. Acc: 46.88% | Val. Precision: 28.906 | Val. Recall: 46.875 | Val. F1-score: 34.798 |\n"
     ]
    },
    {
     "data": {
      "application/vnd.jupyter.widget-view+json": {
       "model_id": "85455c6396134dc39962fbf7e682324d",
       "version_major": 2,
       "version_minor": 0
      },
      "text/plain": [
       "  0%|          | 0/320 [00:00<?, ?it/s]"
      ]
     },
     "metadata": {},
     "output_type": "display_data"
    },
    {
     "name": "stdout",
     "output_type": "stream",
     "text": [
      "| Epoch: 167 | Train Loss: 1.629 | Train Acc: 41.48% | Val. Loss: 1.575 | Val. Acc: 46.88% | Val. Precision: 28.906 | Val. Recall: 46.875 | Val. F1-score: 34.798 |\n"
     ]
    },
    {
     "data": {
      "application/vnd.jupyter.widget-view+json": {
       "model_id": "a87e17e643e8495e8a61d25721c8d646",
       "version_major": 2,
       "version_minor": 0
      },
      "text/plain": [
       "  0%|          | 0/320 [00:00<?, ?it/s]"
      ]
     },
     "metadata": {},
     "output_type": "display_data"
    },
    {
     "name": "stdout",
     "output_type": "stream",
     "text": [
      "| Epoch: 168 | Train Loss: 1.629 | Train Acc: 41.48% | Val. Loss: 1.575 | Val. Acc: 46.88% | Val. Precision: 28.906 | Val. Recall: 46.875 | Val. F1-score: 34.798 |\n"
     ]
    },
    {
     "data": {
      "application/vnd.jupyter.widget-view+json": {
       "model_id": "211d7fc803a04eac8a4139da97013f8f",
       "version_major": 2,
       "version_minor": 0
      },
      "text/plain": [
       "  0%|          | 0/320 [00:00<?, ?it/s]"
      ]
     },
     "metadata": {},
     "output_type": "display_data"
    },
    {
     "name": "stdout",
     "output_type": "stream",
     "text": [
      "| Epoch: 169 | Train Loss: 1.629 | Train Acc: 41.48% | Val. Loss: 1.575 | Val. Acc: 46.88% | Val. Precision: 28.906 | Val. Recall: 46.875 | Val. F1-score: 34.798 |\n"
     ]
    },
    {
     "data": {
      "application/vnd.jupyter.widget-view+json": {
       "model_id": "307dc491fe524dc3a350a7d30ec2647f",
       "version_major": 2,
       "version_minor": 0
      },
      "text/plain": [
       "  0%|          | 0/320 [00:00<?, ?it/s]"
      ]
     },
     "metadata": {},
     "output_type": "display_data"
    },
    {
     "name": "stdout",
     "output_type": "stream",
     "text": [
      "| Epoch: 170 | Train Loss: 1.630 | Train Acc: 41.41% | Val. Loss: 1.575 | Val. Acc: 46.88% | Val. Precision: 28.906 | Val. Recall: 46.875 | Val. F1-score: 34.798 |\n"
     ]
    },
    {
     "data": {
      "application/vnd.jupyter.widget-view+json": {
       "model_id": "06a834f0c9f24cd382ea1610a62c6166",
       "version_major": 2,
       "version_minor": 0
      },
      "text/plain": [
       "  0%|          | 0/320 [00:00<?, ?it/s]"
      ]
     },
     "metadata": {},
     "output_type": "display_data"
    },
    {
     "name": "stdout",
     "output_type": "stream",
     "text": [
      "| Epoch: 171 | Train Loss: 1.629 | Train Acc: 41.48% | Val. Loss: 1.575 | Val. Acc: 46.88% | Val. Precision: 28.906 | Val. Recall: 46.875 | Val. F1-score: 34.798 |\n"
     ]
    },
    {
     "data": {
      "application/vnd.jupyter.widget-view+json": {
       "model_id": "681a54cdc488406689a707f97df194e3",
       "version_major": 2,
       "version_minor": 0
      },
      "text/plain": [
       "  0%|          | 0/320 [00:00<?, ?it/s]"
      ]
     },
     "metadata": {},
     "output_type": "display_data"
    },
    {
     "name": "stdout",
     "output_type": "stream",
     "text": [
      "| Epoch: 172 | Train Loss: 1.629 | Train Acc: 41.48% | Val. Loss: 1.575 | Val. Acc: 46.88% | Val. Precision: 28.906 | Val. Recall: 46.875 | Val. F1-score: 34.798 |\n"
     ]
    },
    {
     "data": {
      "application/vnd.jupyter.widget-view+json": {
       "model_id": "ffe6c22b8ce94be296fec29227429d67",
       "version_major": 2,
       "version_minor": 0
      },
      "text/plain": [
       "  0%|          | 0/320 [00:00<?, ?it/s]"
      ]
     },
     "metadata": {},
     "output_type": "display_data"
    },
    {
     "name": "stdout",
     "output_type": "stream",
     "text": [
      "| Epoch: 173 | Train Loss: 1.629 | Train Acc: 41.48% | Val. Loss: 1.575 | Val. Acc: 46.88% | Val. Precision: 28.906 | Val. Recall: 46.875 | Val. F1-score: 34.798 |\n"
     ]
    },
    {
     "data": {
      "application/vnd.jupyter.widget-view+json": {
       "model_id": "50f5a9380e4e4922b1ea41f27fb9d391",
       "version_major": 2,
       "version_minor": 0
      },
      "text/plain": [
       "  0%|          | 0/320 [00:00<?, ?it/s]"
      ]
     },
     "metadata": {},
     "output_type": "display_data"
    },
    {
     "name": "stdout",
     "output_type": "stream",
     "text": [
      "| Epoch: 174 | Train Loss: 1.681 | Train Acc: 36.25% | Val. Loss: 2.037 | Val. Acc: 0.62% | Val. Precision: 0.156 | Val. Recall: 0.625 | Val. F1-score: 0.250 |\n"
     ]
    },
    {
     "data": {
      "application/vnd.jupyter.widget-view+json": {
       "model_id": "bfcaf4e157e34996bf572aefb584b08f",
       "version_major": 2,
       "version_minor": 0
      },
      "text/plain": [
       "  0%|          | 0/320 [00:00<?, ?it/s]"
      ]
     },
     "metadata": {},
     "output_type": "display_data"
    },
    {
     "name": "stdout",
     "output_type": "stream",
     "text": [
      "| Epoch: 175 | Train Loss: 2.037 | Train Acc: 0.62% | Val. Loss: 2.037 | Val. Acc: 0.62% | Val. Precision: 0.156 | Val. Recall: 0.625 | Val. F1-score: 0.250 |\n"
     ]
    },
    {
     "data": {
      "application/vnd.jupyter.widget-view+json": {
       "model_id": "5fd010cc85cd495681252add15727053",
       "version_major": 2,
       "version_minor": 0
      },
      "text/plain": [
       "  0%|          | 0/320 [00:00<?, ?it/s]"
      ]
     },
     "metadata": {},
     "output_type": "display_data"
    },
    {
     "name": "stdout",
     "output_type": "stream",
     "text": [
      "| Epoch: 176 | Train Loss: 2.037 | Train Acc: 0.62% | Val. Loss: 2.037 | Val. Acc: 0.62% | Val. Precision: 0.156 | Val. Recall: 0.625 | Val. F1-score: 0.250 |\n"
     ]
    },
    {
     "data": {
      "application/vnd.jupyter.widget-view+json": {
       "model_id": "3697dd70a27e487a90f5958b920dc8da",
       "version_major": 2,
       "version_minor": 0
      },
      "text/plain": [
       "  0%|          | 0/320 [00:00<?, ?it/s]"
      ]
     },
     "metadata": {},
     "output_type": "display_data"
    },
    {
     "name": "stdout",
     "output_type": "stream",
     "text": [
      "| Epoch: 177 | Train Loss: 2.037 | Train Acc: 0.62% | Val. Loss: 2.037 | Val. Acc: 0.62% | Val. Precision: 0.156 | Val. Recall: 0.625 | Val. F1-score: 0.250 |\n"
     ]
    },
    {
     "data": {
      "application/vnd.jupyter.widget-view+json": {
       "model_id": "9b89e290f18a40d09fb88acdfa72e36e",
       "version_major": 2,
       "version_minor": 0
      },
      "text/plain": [
       "  0%|          | 0/320 [00:00<?, ?it/s]"
      ]
     },
     "metadata": {},
     "output_type": "display_data"
    },
    {
     "name": "stdout",
     "output_type": "stream",
     "text": [
      "| Epoch: 178 | Train Loss: 2.026 | Train Acc: 1.72% | Val. Loss: 2.000 | Val. Acc: 4.38% | Val. Precision: 1.094 | Val. Recall: 4.375 | Val. F1-score: 1.750 |\n"
     ]
    },
    {
     "data": {
      "application/vnd.jupyter.widget-view+json": {
       "model_id": "a291d883290a4de6942902b86f81f19c",
       "version_major": 2,
       "version_minor": 0
      },
      "text/plain": [
       "  0%|          | 0/320 [00:00<?, ?it/s]"
      ]
     },
     "metadata": {},
     "output_type": "display_data"
    },
    {
     "name": "stdout",
     "output_type": "stream",
     "text": [
      "| Epoch: 179 | Train Loss: 2.009 | Train Acc: 3.44% | Val. Loss: 2.000 | Val. Acc: 4.38% | Val. Precision: 1.094 | Val. Recall: 4.375 | Val. F1-score: 1.750 |\n"
     ]
    },
    {
     "data": {
      "application/vnd.jupyter.widget-view+json": {
       "model_id": "e7e37005d3c5446f830ea201c3cca6eb",
       "version_major": 2,
       "version_minor": 0
      },
      "text/plain": [
       "  0%|          | 0/320 [00:00<?, ?it/s]"
      ]
     },
     "metadata": {},
     "output_type": "display_data"
    },
    {
     "name": "stdout",
     "output_type": "stream",
     "text": [
      "| Epoch: 180 | Train Loss: 2.009 | Train Acc: 3.44% | Val. Loss: 2.019 | Val. Acc: 2.50% | Val. Precision: 0.885 | Val. Recall: 2.500 | Val. F1-score: 1.292 |\n"
     ]
    },
    {
     "data": {
      "application/vnd.jupyter.widget-view+json": {
       "model_id": "9eba4abd780b41bcbf5b8296642f68ec",
       "version_major": 2,
       "version_minor": 0
      },
      "text/plain": [
       "  0%|          | 0/320 [00:00<?, ?it/s]"
      ]
     },
     "metadata": {},
     "output_type": "display_data"
    },
    {
     "name": "stdout",
     "output_type": "stream",
     "text": [
      "| Epoch: 181 | Train Loss: 2.009 | Train Acc: 3.44% | Val. Loss: 2.000 | Val. Acc: 4.38% | Val. Precision: 1.094 | Val. Recall: 4.375 | Val. F1-score: 1.750 |\n"
     ]
    },
    {
     "data": {
      "application/vnd.jupyter.widget-view+json": {
       "model_id": "285315a560c6410a87733978ba4ea644",
       "version_major": 2,
       "version_minor": 0
      },
      "text/plain": [
       "  0%|          | 0/320 [00:00<?, ?it/s]"
      ]
     },
     "metadata": {},
     "output_type": "display_data"
    },
    {
     "name": "stdout",
     "output_type": "stream",
     "text": [
      "| Epoch: 182 | Train Loss: 2.009 | Train Acc: 3.44% | Val. Loss: 2.000 | Val. Acc: 4.38% | Val. Precision: 1.094 | Val. Recall: 4.375 | Val. F1-score: 1.750 |\n"
     ]
    },
    {
     "data": {
      "application/vnd.jupyter.widget-view+json": {
       "model_id": "90137d06983f44e1b9436fdf6c96699e",
       "version_major": 2,
       "version_minor": 0
      },
      "text/plain": [
       "  0%|          | 0/320 [00:00<?, ?it/s]"
      ]
     },
     "metadata": {},
     "output_type": "display_data"
    },
    {
     "name": "stdout",
     "output_type": "stream",
     "text": [
      "| Epoch: 183 | Train Loss: 2.009 | Train Acc: 3.44% | Val. Loss: 2.000 | Val. Acc: 4.38% | Val. Precision: 1.094 | Val. Recall: 4.375 | Val. F1-score: 1.750 |\n"
     ]
    },
    {
     "data": {
      "application/vnd.jupyter.widget-view+json": {
       "model_id": "0cb9e6945b234e6eaeec1cc44e3dc289",
       "version_major": 2,
       "version_minor": 0
      },
      "text/plain": [
       "  0%|          | 0/320 [00:00<?, ?it/s]"
      ]
     },
     "metadata": {},
     "output_type": "display_data"
    },
    {
     "name": "stdout",
     "output_type": "stream",
     "text": [
      "| Epoch: 184 | Train Loss: 2.009 | Train Acc: 3.44% | Val. Loss: 2.000 | Val. Acc: 4.38% | Val. Precision: 1.094 | Val. Recall: 4.375 | Val. F1-score: 1.750 |\n"
     ]
    },
    {
     "data": {
      "application/vnd.jupyter.widget-view+json": {
       "model_id": "7b482db5f3b24b4b9b09d2c6f1723977",
       "version_major": 2,
       "version_minor": 0
      },
      "text/plain": [
       "  0%|          | 0/320 [00:00<?, ?it/s]"
      ]
     },
     "metadata": {},
     "output_type": "display_data"
    },
    {
     "name": "stdout",
     "output_type": "stream",
     "text": [
      "| Epoch: 185 | Train Loss: 1.715 | Train Acc: 32.81% | Val. Loss: 1.562 | Val. Acc: 48.12% | Val. Precision: 32.344 | Val. Recall: 48.125 | Val. F1-score: 37.292 |\n"
     ]
    },
    {
     "data": {
      "application/vnd.jupyter.widget-view+json": {
       "model_id": "550d25c88f2c428fb92366dba12a710d",
       "version_major": 2,
       "version_minor": 0
      },
      "text/plain": [
       "  0%|          | 0/320 [00:00<?, ?it/s]"
      ]
     },
     "metadata": {},
     "output_type": "display_data"
    },
    {
     "name": "stdout",
     "output_type": "stream",
     "text": [
      "| Epoch: 186 | Train Loss: 1.619 | Train Acc: 42.50% | Val. Loss: 1.506 | Val. Acc: 53.75% | Val. Precision: 57.292 | Val. Recall: 53.750 | Val. F1-score: 52.101 |\n"
     ]
    },
    {
     "data": {
      "application/vnd.jupyter.widget-view+json": {
       "model_id": "0f60a540f3c04ac3889b2c63b4c8578e",
       "version_major": 2,
       "version_minor": 0
      },
      "text/plain": [
       "  0%|          | 0/320 [00:00<?, ?it/s]"
      ]
     },
     "metadata": {},
     "output_type": "display_data"
    },
    {
     "name": "stdout",
     "output_type": "stream",
     "text": [
      "| Epoch: 187 | Train Loss: 1.600 | Train Acc: 44.38% | Val. Loss: 1.606 | Val. Acc: 43.75% | Val. Precision: 41.146 | Val. Recall: 43.750 | Val. F1-score: 39.920 |\n"
     ]
    },
    {
     "data": {
      "application/vnd.jupyter.widget-view+json": {
       "model_id": "60ff7e6c8c674d65b9385bdc588c894b",
       "version_major": 2,
       "version_minor": 0
      },
      "text/plain": [
       "  0%|          | 0/320 [00:00<?, ?it/s]"
      ]
     },
     "metadata": {},
     "output_type": "display_data"
    },
    {
     "name": "stdout",
     "output_type": "stream",
     "text": [
      "| Epoch: 188 | Train Loss: 1.629 | Train Acc: 41.48% | Val. Loss: 1.575 | Val. Acc: 46.88% | Val. Precision: 28.906 | Val. Recall: 46.875 | Val. F1-score: 34.798 |\n"
     ]
    },
    {
     "data": {
      "application/vnd.jupyter.widget-view+json": {
       "model_id": "2d746b480748420b91dcaec1272d6824",
       "version_major": 2,
       "version_minor": 0
      },
      "text/plain": [
       "  0%|          | 0/320 [00:00<?, ?it/s]"
      ]
     },
     "metadata": {},
     "output_type": "display_data"
    },
    {
     "name": "stdout",
     "output_type": "stream",
     "text": [
      "| Epoch: 189 | Train Loss: 1.629 | Train Acc: 41.48% | Val. Loss: 1.575 | Val. Acc: 46.88% | Val. Precision: 28.906 | Val. Recall: 46.875 | Val. F1-score: 34.798 |\n"
     ]
    },
    {
     "data": {
      "application/vnd.jupyter.widget-view+json": {
       "model_id": "fcc58aef359748c8a2caa08c911aa4b5",
       "version_major": 2,
       "version_minor": 0
      },
      "text/plain": [
       "  0%|          | 0/320 [00:00<?, ?it/s]"
      ]
     },
     "metadata": {},
     "output_type": "display_data"
    },
    {
     "name": "stdout",
     "output_type": "stream",
     "text": [
      "| Epoch: 190 | Train Loss: 1.629 | Train Acc: 41.48% | Val. Loss: 1.575 | Val. Acc: 46.88% | Val. Precision: 28.906 | Val. Recall: 46.875 | Val. F1-score: 34.798 |\n"
     ]
    },
    {
     "data": {
      "application/vnd.jupyter.widget-view+json": {
       "model_id": "7d8c793d87f1402f8dfe719f03bb09fd",
       "version_major": 2,
       "version_minor": 0
      },
      "text/plain": [
       "  0%|          | 0/320 [00:00<?, ?it/s]"
      ]
     },
     "metadata": {},
     "output_type": "display_data"
    },
    {
     "name": "stdout",
     "output_type": "stream",
     "text": [
      "| Epoch: 191 | Train Loss: 1.629 | Train Acc: 41.48% | Val. Loss: 1.575 | Val. Acc: 46.88% | Val. Precision: 28.906 | Val. Recall: 46.875 | Val. F1-score: 34.798 |\n"
     ]
    },
    {
     "data": {
      "application/vnd.jupyter.widget-view+json": {
       "model_id": "f528e5a30e624ad6a08db25e6b3f3bb1",
       "version_major": 2,
       "version_minor": 0
      },
      "text/plain": [
       "  0%|          | 0/320 [00:00<?, ?it/s]"
      ]
     },
     "metadata": {},
     "output_type": "display_data"
    },
    {
     "name": "stdout",
     "output_type": "stream",
     "text": [
      "| Epoch: 192 | Train Loss: 1.629 | Train Acc: 41.48% | Val. Loss: 1.575 | Val. Acc: 46.88% | Val. Precision: 28.906 | Val. Recall: 46.875 | Val. F1-score: 34.798 |\n"
     ]
    },
    {
     "data": {
      "application/vnd.jupyter.widget-view+json": {
       "model_id": "a2458f20795c4b4a96d867b1a2c4b742",
       "version_major": 2,
       "version_minor": 0
      },
      "text/plain": [
       "  0%|          | 0/320 [00:00<?, ?it/s]"
      ]
     },
     "metadata": {},
     "output_type": "display_data"
    },
    {
     "name": "stdout",
     "output_type": "stream",
     "text": [
      "| Epoch: 193 | Train Loss: 1.629 | Train Acc: 41.48% | Val. Loss: 1.575 | Val. Acc: 46.88% | Val. Precision: 28.906 | Val. Recall: 46.875 | Val. F1-score: 34.798 |\n"
     ]
    },
    {
     "data": {
      "application/vnd.jupyter.widget-view+json": {
       "model_id": "799b8b80f9904c4fbd4be3b5e286ee33",
       "version_major": 2,
       "version_minor": 0
      },
      "text/plain": [
       "  0%|          | 0/320 [00:00<?, ?it/s]"
      ]
     },
     "metadata": {},
     "output_type": "display_data"
    },
    {
     "name": "stdout",
     "output_type": "stream",
     "text": [
      "| Epoch: 194 | Train Loss: 1.630 | Train Acc: 41.33% | Val. Loss: 1.575 | Val. Acc: 46.88% | Val. Precision: 28.906 | Val. Recall: 46.875 | Val. F1-score: 34.798 |\n"
     ]
    },
    {
     "data": {
      "application/vnd.jupyter.widget-view+json": {
       "model_id": "4eb47cd382bf44d980f2fda65c3f5f08",
       "version_major": 2,
       "version_minor": 0
      },
      "text/plain": [
       "  0%|          | 0/320 [00:00<?, ?it/s]"
      ]
     },
     "metadata": {},
     "output_type": "display_data"
    },
    {
     "name": "stdout",
     "output_type": "stream",
     "text": [
      "| Epoch: 195 | Train Loss: 1.629 | Train Acc: 41.48% | Val. Loss: 1.575 | Val. Acc: 46.88% | Val. Precision: 28.906 | Val. Recall: 46.875 | Val. F1-score: 34.798 |\n"
     ]
    },
    {
     "data": {
      "application/vnd.jupyter.widget-view+json": {
       "model_id": "7597f8683612474d825f8bcf357fcee0",
       "version_major": 2,
       "version_minor": 0
      },
      "text/plain": [
       "  0%|          | 0/320 [00:00<?, ?it/s]"
      ]
     },
     "metadata": {},
     "output_type": "display_data"
    },
    {
     "name": "stdout",
     "output_type": "stream",
     "text": [
      "| Epoch: 196 | Train Loss: 1.629 | Train Acc: 41.48% | Val. Loss: 1.575 | Val. Acc: 46.88% | Val. Precision: 28.906 | Val. Recall: 46.875 | Val. F1-score: 34.798 |\n"
     ]
    },
    {
     "data": {
      "application/vnd.jupyter.widget-view+json": {
       "model_id": "897ccf0a137e4803a16080385d032a42",
       "version_major": 2,
       "version_minor": 0
      },
      "text/plain": [
       "  0%|          | 0/320 [00:00<?, ?it/s]"
      ]
     },
     "metadata": {},
     "output_type": "display_data"
    },
    {
     "name": "stdout",
     "output_type": "stream",
     "text": [
      "| Epoch: 197 | Train Loss: 1.629 | Train Acc: 41.48% | Val. Loss: 1.575 | Val. Acc: 46.88% | Val. Precision: 28.906 | Val. Recall: 46.875 | Val. F1-score: 34.798 |\n"
     ]
    },
    {
     "data": {
      "application/vnd.jupyter.widget-view+json": {
       "model_id": "719b81118d0a4f7faeb16e5a4fd790a9",
       "version_major": 2,
       "version_minor": 0
      },
      "text/plain": [
       "  0%|          | 0/320 [00:00<?, ?it/s]"
      ]
     },
     "metadata": {},
     "output_type": "display_data"
    },
    {
     "name": "stdout",
     "output_type": "stream",
     "text": [
      "| Epoch: 198 | Train Loss: 1.629 | Train Acc: 41.48% | Val. Loss: 1.575 | Val. Acc: 46.88% | Val. Precision: 28.906 | Val. Recall: 46.875 | Val. F1-score: 34.798 |\n"
     ]
    },
    {
     "data": {
      "application/vnd.jupyter.widget-view+json": {
       "model_id": "aa4ae8e61c5f47f388de447b2a2e9a0a",
       "version_major": 2,
       "version_minor": 0
      },
      "text/plain": [
       "  0%|          | 0/320 [00:00<?, ?it/s]"
      ]
     },
     "metadata": {},
     "output_type": "display_data"
    },
    {
     "name": "stdout",
     "output_type": "stream",
     "text": [
      "| Epoch: 199 | Train Loss: 1.629 | Train Acc: 41.48% | Val. Loss: 1.575 | Val. Acc: 46.88% | Val. Precision: 28.906 | Val. Recall: 46.875 | Val. F1-score: 34.798 |\n"
     ]
    },
    {
     "data": {
      "application/vnd.jupyter.widget-view+json": {
       "model_id": "5b44c88732734c2faa8ca92c1cf89c96",
       "version_major": 2,
       "version_minor": 0
      },
      "text/plain": [
       "  0%|          | 0/320 [00:00<?, ?it/s]"
      ]
     },
     "metadata": {},
     "output_type": "display_data"
    },
    {
     "name": "stdout",
     "output_type": "stream",
     "text": [
      "| Epoch: 200 | Train Loss: 1.636 | Train Acc: 40.78% | Val. Loss: 1.575 | Val. Acc: 46.88% | Val. Precision: 28.906 | Val. Recall: 46.875 | Val. F1-score: 34.798 |\n"
     ]
    },
    {
     "data": {
      "application/vnd.jupyter.widget-view+json": {
       "model_id": "e1d0f71c1ae34961be3dc9f499e991ec",
       "version_major": 2,
       "version_minor": 0
      },
      "text/plain": [
       "  0%|          | 0/320 [00:00<?, ?it/s]"
      ]
     },
     "metadata": {},
     "output_type": "display_data"
    },
    {
     "name": "stdout",
     "output_type": "stream",
     "text": [
      "| Epoch: 201 | Train Loss: 1.629 | Train Acc: 41.48% | Val. Loss: 1.575 | Val. Acc: 46.88% | Val. Precision: 28.906 | Val. Recall: 46.875 | Val. F1-score: 34.798 |\n"
     ]
    },
    {
     "data": {
      "application/vnd.jupyter.widget-view+json": {
       "model_id": "36252e769a9a4ebb90c48fb88ee65f96",
       "version_major": 2,
       "version_minor": 0
      },
      "text/plain": [
       "  0%|          | 0/320 [00:00<?, ?it/s]"
      ]
     },
     "metadata": {},
     "output_type": "display_data"
    },
    {
     "name": "stdout",
     "output_type": "stream",
     "text": [
      "| Epoch: 202 | Train Loss: 1.629 | Train Acc: 41.48% | Val. Loss: 1.575 | Val. Acc: 46.88% | Val. Precision: 28.906 | Val. Recall: 46.875 | Val. F1-score: 34.798 |\n"
     ]
    },
    {
     "data": {
      "application/vnd.jupyter.widget-view+json": {
       "model_id": "d6a4ffeed00144f2accb83b16b8d8324",
       "version_major": 2,
       "version_minor": 0
      },
      "text/plain": [
       "  0%|          | 0/320 [00:00<?, ?it/s]"
      ]
     },
     "metadata": {},
     "output_type": "display_data"
    },
    {
     "name": "stdout",
     "output_type": "stream",
     "text": [
      "| Epoch: 203 | Train Loss: 1.629 | Train Acc: 41.48% | Val. Loss: 1.575 | Val. Acc: 46.88% | Val. Precision: 28.906 | Val. Recall: 46.875 | Val. F1-score: 34.798 |\n"
     ]
    },
    {
     "data": {
      "application/vnd.jupyter.widget-view+json": {
       "model_id": "d04efc8f60394f50bec4d605e764555f",
       "version_major": 2,
       "version_minor": 0
      },
      "text/plain": [
       "  0%|          | 0/320 [00:00<?, ?it/s]"
      ]
     },
     "metadata": {},
     "output_type": "display_data"
    },
    {
     "name": "stdout",
     "output_type": "stream",
     "text": [
      "| Epoch: 204 | Train Loss: 1.629 | Train Acc: 41.48% | Val. Loss: 1.575 | Val. Acc: 46.88% | Val. Precision: 28.906 | Val. Recall: 46.875 | Val. F1-score: 34.798 |\n"
     ]
    },
    {
     "data": {
      "application/vnd.jupyter.widget-view+json": {
       "model_id": "8e07cc784eec45cebf9ddfd142b7404d",
       "version_major": 2,
       "version_minor": 0
      },
      "text/plain": [
       "  0%|          | 0/320 [00:00<?, ?it/s]"
      ]
     },
     "metadata": {},
     "output_type": "display_data"
    },
    {
     "name": "stdout",
     "output_type": "stream",
     "text": [
      "| Epoch: 205 | Train Loss: 1.629 | Train Acc: 41.48% | Val. Loss: 1.575 | Val. Acc: 46.88% | Val. Precision: 28.906 | Val. Recall: 46.875 | Val. F1-score: 34.798 |\n"
     ]
    },
    {
     "data": {
      "application/vnd.jupyter.widget-view+json": {
       "model_id": "202d57dd22c744d19498823bf9a9e1f5",
       "version_major": 2,
       "version_minor": 0
      },
      "text/plain": [
       "  0%|          | 0/320 [00:00<?, ?it/s]"
      ]
     },
     "metadata": {},
     "output_type": "display_data"
    },
    {
     "name": "stdout",
     "output_type": "stream",
     "text": [
      "| Epoch: 206 | Train Loss: 1.629 | Train Acc: 41.48% | Val. Loss: 1.575 | Val. Acc: 46.88% | Val. Precision: 28.906 | Val. Recall: 46.875 | Val. F1-score: 34.798 |\n"
     ]
    },
    {
     "data": {
      "application/vnd.jupyter.widget-view+json": {
       "model_id": "185a6cac371147b7b3d5b719810e3e73",
       "version_major": 2,
       "version_minor": 0
      },
      "text/plain": [
       "  0%|          | 0/320 [00:00<?, ?it/s]"
      ]
     },
     "metadata": {},
     "output_type": "display_data"
    },
    {
     "name": "stdout",
     "output_type": "stream",
     "text": [
      "| Epoch: 207 | Train Loss: 1.629 | Train Acc: 41.48% | Val. Loss: 1.575 | Val. Acc: 46.88% | Val. Precision: 28.906 | Val. Recall: 46.875 | Val. F1-score: 34.798 |\n"
     ]
    },
    {
     "data": {
      "application/vnd.jupyter.widget-view+json": {
       "model_id": "5af0cb4343a24f21b64902bccaae8320",
       "version_major": 2,
       "version_minor": 0
      },
      "text/plain": [
       "  0%|          | 0/320 [00:00<?, ?it/s]"
      ]
     },
     "metadata": {},
     "output_type": "display_data"
    },
    {
     "name": "stdout",
     "output_type": "stream",
     "text": [
      "| Epoch: 208 | Train Loss: 1.629 | Train Acc: 41.48% | Val. Loss: 1.575 | Val. Acc: 46.88% | Val. Precision: 28.906 | Val. Recall: 46.875 | Val. F1-score: 34.798 |\n"
     ]
    },
    {
     "data": {
      "application/vnd.jupyter.widget-view+json": {
       "model_id": "ae265fb0f8f24b8cab05a53d3601953e",
       "version_major": 2,
       "version_minor": 0
      },
      "text/plain": [
       "  0%|          | 0/320 [00:00<?, ?it/s]"
      ]
     },
     "metadata": {},
     "output_type": "display_data"
    },
    {
     "name": "stdout",
     "output_type": "stream",
     "text": [
      "| Epoch: 209 | Train Loss: 1.629 | Train Acc: 41.41% | Val. Loss: 1.575 | Val. Acc: 46.88% | Val. Precision: 28.906 | Val. Recall: 46.875 | Val. F1-score: 34.798 |\n"
     ]
    },
    {
     "data": {
      "application/vnd.jupyter.widget-view+json": {
       "model_id": "63c719545d284be6ae63b954a0df47f8",
       "version_major": 2,
       "version_minor": 0
      },
      "text/plain": [
       "  0%|          | 0/320 [00:00<?, ?it/s]"
      ]
     },
     "metadata": {},
     "output_type": "display_data"
    },
    {
     "name": "stdout",
     "output_type": "stream",
     "text": [
      "| Epoch: 210 | Train Loss: 1.629 | Train Acc: 41.48% | Val. Loss: 1.575 | Val. Acc: 46.88% | Val. Precision: 28.906 | Val. Recall: 46.875 | Val. F1-score: 34.798 |\n"
     ]
    },
    {
     "data": {
      "application/vnd.jupyter.widget-view+json": {
       "model_id": "304fd54045734a7d96e4585cc2f5a1c6",
       "version_major": 2,
       "version_minor": 0
      },
      "text/plain": [
       "  0%|          | 0/320 [00:00<?, ?it/s]"
      ]
     },
     "metadata": {},
     "output_type": "display_data"
    },
    {
     "name": "stdout",
     "output_type": "stream",
     "text": [
      "| Epoch: 211 | Train Loss: 1.629 | Train Acc: 41.48% | Val. Loss: 1.575 | Val. Acc: 46.88% | Val. Precision: 28.906 | Val. Recall: 46.875 | Val. F1-score: 34.798 |\n"
     ]
    },
    {
     "data": {
      "application/vnd.jupyter.widget-view+json": {
       "model_id": "8cb803760c0b46a7955711453b6ff2f9",
       "version_major": 2,
       "version_minor": 0
      },
      "text/plain": [
       "  0%|          | 0/320 [00:00<?, ?it/s]"
      ]
     },
     "metadata": {},
     "output_type": "display_data"
    },
    {
     "name": "stdout",
     "output_type": "stream",
     "text": [
      "| Epoch: 212 | Train Loss: 1.694 | Train Acc: 35.00% | Val. Loss: 1.575 | Val. Acc: 46.88% | Val. Precision: 28.906 | Val. Recall: 46.875 | Val. F1-score: 34.798 |\n"
     ]
    },
    {
     "data": {
      "application/vnd.jupyter.widget-view+json": {
       "model_id": "ddd5672954c54a71a40c3aaa92272c86",
       "version_major": 2,
       "version_minor": 0
      },
      "text/plain": [
       "  0%|          | 0/320 [00:00<?, ?it/s]"
      ]
     },
     "metadata": {},
     "output_type": "display_data"
    },
    {
     "name": "stdout",
     "output_type": "stream",
     "text": [
      "| Epoch: 213 | Train Loss: 1.629 | Train Acc: 41.48% | Val. Loss: 1.575 | Val. Acc: 46.88% | Val. Precision: 28.906 | Val. Recall: 46.875 | Val. F1-score: 34.798 |\n"
     ]
    },
    {
     "data": {
      "application/vnd.jupyter.widget-view+json": {
       "model_id": "fa738550e5854cb1be5a710d6c042ad7",
       "version_major": 2,
       "version_minor": 0
      },
      "text/plain": [
       "  0%|          | 0/320 [00:00<?, ?it/s]"
      ]
     },
     "metadata": {},
     "output_type": "display_data"
    },
    {
     "name": "stdout",
     "output_type": "stream",
     "text": [
      "| Epoch: 214 | Train Loss: 1.629 | Train Acc: 41.48% | Val. Loss: 1.575 | Val. Acc: 46.88% | Val. Precision: 28.906 | Val. Recall: 46.875 | Val. F1-score: 34.798 |\n"
     ]
    },
    {
     "data": {
      "application/vnd.jupyter.widget-view+json": {
       "model_id": "9d6d0f2063604ec09742e44138469d7c",
       "version_major": 2,
       "version_minor": 0
      },
      "text/plain": [
       "  0%|          | 0/320 [00:00<?, ?it/s]"
      ]
     },
     "metadata": {},
     "output_type": "display_data"
    },
    {
     "name": "stdout",
     "output_type": "stream",
     "text": [
      "| Epoch: 215 | Train Loss: 1.629 | Train Acc: 41.48% | Val. Loss: 1.575 | Val. Acc: 46.88% | Val. Precision: 28.906 | Val. Recall: 46.875 | Val. F1-score: 34.798 |\n"
     ]
    },
    {
     "data": {
      "application/vnd.jupyter.widget-view+json": {
       "model_id": "7c8299758ccb48c5922884a734d6dc7d",
       "version_major": 2,
       "version_minor": 0
      },
      "text/plain": [
       "  0%|          | 0/320 [00:00<?, ?it/s]"
      ]
     },
     "metadata": {},
     "output_type": "display_data"
    },
    {
     "name": "stdout",
     "output_type": "stream",
     "text": [
      "| Epoch: 216 | Train Loss: 1.629 | Train Acc: 41.48% | Val. Loss: 1.575 | Val. Acc: 46.88% | Val. Precision: 28.906 | Val. Recall: 46.875 | Val. F1-score: 34.798 |\n"
     ]
    },
    {
     "data": {
      "application/vnd.jupyter.widget-view+json": {
       "model_id": "4b2578af3de94240b0f9dac02ded438d",
       "version_major": 2,
       "version_minor": 0
      },
      "text/plain": [
       "  0%|          | 0/320 [00:00<?, ?it/s]"
      ]
     },
     "metadata": {},
     "output_type": "display_data"
    },
    {
     "name": "stdout",
     "output_type": "stream",
     "text": [
      "| Epoch: 217 | Train Loss: 1.629 | Train Acc: 41.48% | Val. Loss: 1.575 | Val. Acc: 46.88% | Val. Precision: 28.906 | Val. Recall: 46.875 | Val. F1-score: 34.798 |\n"
     ]
    },
    {
     "data": {
      "application/vnd.jupyter.widget-view+json": {
       "model_id": "45d28f5219bd4c889a0f46d52cb9ac7f",
       "version_major": 2,
       "version_minor": 0
      },
      "text/plain": [
       "  0%|          | 0/320 [00:00<?, ?it/s]"
      ]
     },
     "metadata": {},
     "output_type": "display_data"
    },
    {
     "name": "stdout",
     "output_type": "stream",
     "text": [
      "| Epoch: 218 | Train Loss: 1.674 | Train Acc: 36.95% | Val. Loss: 1.750 | Val. Acc: 29.38% | Val. Precision: 38.125 | Val. Recall: 29.375 | Val. F1-score: 30.685 |\n"
     ]
    },
    {
     "data": {
      "application/vnd.jupyter.widget-view+json": {
       "model_id": "832926e201ca4ab5b1b269138b4098e4",
       "version_major": 2,
       "version_minor": 0
      },
      "text/plain": [
       "  0%|          | 0/320 [00:00<?, ?it/s]"
      ]
     },
     "metadata": {},
     "output_type": "display_data"
    },
    {
     "name": "stdout",
     "output_type": "stream",
     "text": [
      "| Epoch: 219 | Train Loss: 1.715 | Train Acc: 32.89% | Val. Loss: 1.656 | Val. Acc: 38.75% | Val. Precision: 36.771 | Val. Recall: 38.750 | Val. F1-score: 36.146 |\n"
     ]
    },
    {
     "data": {
      "application/vnd.jupyter.widget-view+json": {
       "model_id": "bb9f4623309d4260b01f33b15551bcb9",
       "version_major": 2,
       "version_minor": 0
      },
      "text/plain": [
       "  0%|          | 0/320 [00:00<?, ?it/s]"
      ]
     },
     "metadata": {},
     "output_type": "display_data"
    },
    {
     "name": "stdout",
     "output_type": "stream",
     "text": [
      "| Epoch: 220 | Train Loss: 1.712 | Train Acc: 33.12% | Val. Loss: 1.656 | Val. Acc: 38.75% | Val. Precision: 36.771 | Val. Recall: 38.750 | Val. F1-score: 36.146 |\n"
     ]
    },
    {
     "data": {
      "application/vnd.jupyter.widget-view+json": {
       "model_id": "5407fbfc89f643e491631c4ec24d260a",
       "version_major": 2,
       "version_minor": 0
      },
      "text/plain": [
       "  0%|          | 0/320 [00:00<?, ?it/s]"
      ]
     },
     "metadata": {},
     "output_type": "display_data"
    },
    {
     "name": "stdout",
     "output_type": "stream",
     "text": [
      "| Epoch: 221 | Train Loss: 1.715 | Train Acc: 32.81% | Val. Loss: 1.662 | Val. Acc: 38.12% | Val. Precision: 36.771 | Val. Recall: 38.125 | Val. F1-score: 35.771 |\n"
     ]
    },
    {
     "data": {
      "application/vnd.jupyter.widget-view+json": {
       "model_id": "7245cd6fb70540298fe96374af55a24a",
       "version_major": 2,
       "version_minor": 0
      },
      "text/plain": [
       "  0%|          | 0/320 [00:00<?, ?it/s]"
      ]
     },
     "metadata": {},
     "output_type": "display_data"
    },
    {
     "name": "stdout",
     "output_type": "stream",
     "text": [
      "| Epoch: 222 | Train Loss: 1.857 | Train Acc: 18.67% | Val. Loss: 1.944 | Val. Acc: 10.00% | Val. Precision: 12.552 | Val. Recall: 10.000 | Val. F1-score: 8.938 |\n"
     ]
    },
    {
     "data": {
      "application/vnd.jupyter.widget-view+json": {
       "model_id": "42c488df10b34af9bcdf50c2944ba9d4",
       "version_major": 2,
       "version_minor": 0
      },
      "text/plain": [
       "  0%|          | 0/320 [00:00<?, ?it/s]"
      ]
     },
     "metadata": {},
     "output_type": "display_data"
    },
    {
     "name": "stdout",
     "output_type": "stream",
     "text": [
      "| Epoch: 223 | Train Loss: 1.965 | Train Acc: 7.89% | Val. Loss: 1.950 | Val. Acc: 9.38% | Val. Precision: 12.240 | Val. Recall: 9.375 | Val. F1-score: 8.521 |\n"
     ]
    },
    {
     "data": {
      "application/vnd.jupyter.widget-view+json": {
       "model_id": "8b73021758b145a8a69660b588b6a5ec",
       "version_major": 2,
       "version_minor": 0
      },
      "text/plain": [
       "  0%|          | 0/320 [00:00<?, ?it/s]"
      ]
     },
     "metadata": {},
     "output_type": "display_data"
    },
    {
     "name": "stdout",
     "output_type": "stream",
     "text": [
      "| Epoch: 224 | Train Loss: 1.759 | Train Acc: 28.44% | Val. Loss: 1.575 | Val. Acc: 46.88% | Val. Precision: 28.906 | Val. Recall: 46.875 | Val. F1-score: 34.798 |\n"
     ]
    },
    {
     "data": {
      "application/vnd.jupyter.widget-view+json": {
       "model_id": "44e5594ab3cc4d1a861c4d47266dec2a",
       "version_major": 2,
       "version_minor": 0
      },
      "text/plain": [
       "  0%|          | 0/320 [00:00<?, ?it/s]"
      ]
     },
     "metadata": {},
     "output_type": "display_data"
    },
    {
     "name": "stdout",
     "output_type": "stream",
     "text": [
      "| Epoch: 225 | Train Loss: 1.629 | Train Acc: 41.48% | Val. Loss: 1.575 | Val. Acc: 46.88% | Val. Precision: 28.906 | Val. Recall: 46.875 | Val. F1-score: 34.798 |\n"
     ]
    },
    {
     "data": {
      "application/vnd.jupyter.widget-view+json": {
       "model_id": "58f018be16624a56a62d4baf0f2a8855",
       "version_major": 2,
       "version_minor": 0
      },
      "text/plain": [
       "  0%|          | 0/320 [00:00<?, ?it/s]"
      ]
     },
     "metadata": {},
     "output_type": "display_data"
    },
    {
     "name": "stdout",
     "output_type": "stream",
     "text": [
      "| Epoch: 226 | Train Loss: 1.629 | Train Acc: 41.48% | Val. Loss: 1.575 | Val. Acc: 46.88% | Val. Precision: 28.906 | Val. Recall: 46.875 | Val. F1-score: 34.798 |\n"
     ]
    },
    {
     "data": {
      "application/vnd.jupyter.widget-view+json": {
       "model_id": "03c9c7c3064b4fb08c9147d9aa055e2a",
       "version_major": 2,
       "version_minor": 0
      },
      "text/plain": [
       "  0%|          | 0/320 [00:00<?, ?it/s]"
      ]
     },
     "metadata": {},
     "output_type": "display_data"
    },
    {
     "name": "stdout",
     "output_type": "stream",
     "text": [
      "| Epoch: 227 | Train Loss: 1.629 | Train Acc: 41.48% | Val. Loss: 1.575 | Val. Acc: 46.88% | Val. Precision: 28.906 | Val. Recall: 46.875 | Val. F1-score: 34.798 |\n"
     ]
    },
    {
     "data": {
      "application/vnd.jupyter.widget-view+json": {
       "model_id": "f06de8c7c2be465999f960dbdebfddce",
       "version_major": 2,
       "version_minor": 0
      },
      "text/plain": [
       "  0%|          | 0/320 [00:00<?, ?it/s]"
      ]
     },
     "metadata": {},
     "output_type": "display_data"
    },
    {
     "name": "stdout",
     "output_type": "stream",
     "text": [
      "| Epoch: 228 | Train Loss: 1.629 | Train Acc: 41.48% | Val. Loss: 1.575 | Val. Acc: 46.88% | Val. Precision: 28.906 | Val. Recall: 46.875 | Val. F1-score: 34.798 |\n"
     ]
    },
    {
     "data": {
      "application/vnd.jupyter.widget-view+json": {
       "model_id": "4e331bb5d7404b97b674e287a1435e2b",
       "version_major": 2,
       "version_minor": 0
      },
      "text/plain": [
       "  0%|          | 0/320 [00:00<?, ?it/s]"
      ]
     },
     "metadata": {},
     "output_type": "display_data"
    },
    {
     "name": "stdout",
     "output_type": "stream",
     "text": [
      "| Epoch: 229 | Train Loss: 1.629 | Train Acc: 41.48% | Val. Loss: 1.575 | Val. Acc: 46.88% | Val. Precision: 28.906 | Val. Recall: 46.875 | Val. F1-score: 34.798 |\n"
     ]
    },
    {
     "data": {
      "application/vnd.jupyter.widget-view+json": {
       "model_id": "65070cbde6214f968f82aad2a997e926",
       "version_major": 2,
       "version_minor": 0
      },
      "text/plain": [
       "  0%|          | 0/320 [00:00<?, ?it/s]"
      ]
     },
     "metadata": {},
     "output_type": "display_data"
    },
    {
     "name": "stdout",
     "output_type": "stream",
     "text": [
      "| Epoch: 230 | Train Loss: 1.630 | Train Acc: 41.33% | Val. Loss: 1.575 | Val. Acc: 46.88% | Val. Precision: 28.906 | Val. Recall: 46.875 | Val. F1-score: 34.798 |\n"
     ]
    },
    {
     "data": {
      "application/vnd.jupyter.widget-view+json": {
       "model_id": "4aca3e59e84b4fe98edb25d2a82a4f19",
       "version_major": 2,
       "version_minor": 0
      },
      "text/plain": [
       "  0%|          | 0/320 [00:00<?, ?it/s]"
      ]
     },
     "metadata": {},
     "output_type": "display_data"
    },
    {
     "name": "stdout",
     "output_type": "stream",
     "text": [
      "| Epoch: 231 | Train Loss: 1.629 | Train Acc: 41.48% | Val. Loss: 1.575 | Val. Acc: 46.88% | Val. Precision: 28.906 | Val. Recall: 46.875 | Val. F1-score: 34.798 |\n"
     ]
    },
    {
     "data": {
      "application/vnd.jupyter.widget-view+json": {
       "model_id": "f6b878dd693647dba29b77a6527014ca",
       "version_major": 2,
       "version_minor": 0
      },
      "text/plain": [
       "  0%|          | 0/320 [00:00<?, ?it/s]"
      ]
     },
     "metadata": {},
     "output_type": "display_data"
    },
    {
     "name": "stdout",
     "output_type": "stream",
     "text": [
      "| Epoch: 232 | Train Loss: 1.629 | Train Acc: 41.48% | Val. Loss: 1.575 | Val. Acc: 46.88% | Val. Precision: 28.906 | Val. Recall: 46.875 | Val. F1-score: 34.798 |\n"
     ]
    },
    {
     "data": {
      "application/vnd.jupyter.widget-view+json": {
       "model_id": "a9cd6c239b6f4881a86c93d38c32d3b1",
       "version_major": 2,
       "version_minor": 0
      },
      "text/plain": [
       "  0%|          | 0/320 [00:00<?, ?it/s]"
      ]
     },
     "metadata": {},
     "output_type": "display_data"
    },
    {
     "name": "stdout",
     "output_type": "stream",
     "text": [
      "| Epoch: 233 | Train Loss: 1.912 | Train Acc: 13.12% | Val. Loss: 2.037 | Val. Acc: 0.62% | Val. Precision: 0.156 | Val. Recall: 0.625 | Val. F1-score: 0.250 |\n"
     ]
    },
    {
     "data": {
      "application/vnd.jupyter.widget-view+json": {
       "model_id": "c6f5eedfd7f042f39a035518e6c6efbe",
       "version_major": 2,
       "version_minor": 0
      },
      "text/plain": [
       "  0%|          | 0/320 [00:00<?, ?it/s]"
      ]
     },
     "metadata": {},
     "output_type": "display_data"
    },
    {
     "name": "stdout",
     "output_type": "stream",
     "text": [
      "| Epoch: 234 | Train Loss: 2.033 | Train Acc: 1.09% | Val. Loss: 2.037 | Val. Acc: 0.62% | Val. Precision: 0.156 | Val. Recall: 0.625 | Val. F1-score: 0.250 |\n"
     ]
    },
    {
     "data": {
      "application/vnd.jupyter.widget-view+json": {
       "model_id": "78ff155ddbe8426bbffb9ba09e9eda98",
       "version_major": 2,
       "version_minor": 0
      },
      "text/plain": [
       "  0%|          | 0/320 [00:00<?, ?it/s]"
      ]
     },
     "metadata": {},
     "output_type": "display_data"
    },
    {
     "name": "stdout",
     "output_type": "stream",
     "text": [
      "| Epoch: 235 | Train Loss: 2.033 | Train Acc: 1.09% | Val. Loss: 2.037 | Val. Acc: 0.62% | Val. Precision: 0.156 | Val. Recall: 0.625 | Val. F1-score: 0.250 |\n"
     ]
    },
    {
     "data": {
      "application/vnd.jupyter.widget-view+json": {
       "model_id": "09f5b5e4d2c84f66a0a4ea01d4fc41fd",
       "version_major": 2,
       "version_minor": 0
      },
      "text/plain": [
       "  0%|          | 0/320 [00:00<?, ?it/s]"
      ]
     },
     "metadata": {},
     "output_type": "display_data"
    },
    {
     "name": "stdout",
     "output_type": "stream",
     "text": [
      "| Epoch: 236 | Train Loss: 2.033 | Train Acc: 1.09% | Val. Loss: 2.037 | Val. Acc: 0.62% | Val. Precision: 0.156 | Val. Recall: 0.625 | Val. F1-score: 0.250 |\n"
     ]
    },
    {
     "data": {
      "application/vnd.jupyter.widget-view+json": {
       "model_id": "9b2c85a33e4745228ce205a6ddaf6b0a",
       "version_major": 2,
       "version_minor": 0
      },
      "text/plain": [
       "  0%|          | 0/320 [00:00<?, ?it/s]"
      ]
     },
     "metadata": {},
     "output_type": "display_data"
    },
    {
     "name": "stdout",
     "output_type": "stream",
     "text": [
      "| Epoch: 237 | Train Loss: 2.033 | Train Acc: 1.09% | Val. Loss: 2.037 | Val. Acc: 0.62% | Val. Precision: 0.156 | Val. Recall: 0.625 | Val. F1-score: 0.250 |\n"
     ]
    },
    {
     "data": {
      "application/vnd.jupyter.widget-view+json": {
       "model_id": "d22c17716ebc4c6e91846b8d65e9ca9e",
       "version_major": 2,
       "version_minor": 0
      },
      "text/plain": [
       "  0%|          | 0/320 [00:00<?, ?it/s]"
      ]
     },
     "metadata": {},
     "output_type": "display_data"
    },
    {
     "name": "stdout",
     "output_type": "stream",
     "text": [
      "| Epoch: 238 | Train Loss: 2.033 | Train Acc: 1.09% | Val. Loss: 2.037 | Val. Acc: 0.62% | Val. Precision: 0.156 | Val. Recall: 0.625 | Val. F1-score: 0.250 |\n"
     ]
    },
    {
     "data": {
      "application/vnd.jupyter.widget-view+json": {
       "model_id": "37eb8b163c754499966051e6860cb3b5",
       "version_major": 2,
       "version_minor": 0
      },
      "text/plain": [
       "  0%|          | 0/320 [00:00<?, ?it/s]"
      ]
     },
     "metadata": {},
     "output_type": "display_data"
    },
    {
     "name": "stdout",
     "output_type": "stream",
     "text": [
      "| Epoch: 239 | Train Loss: 1.729 | Train Acc: 31.41% | Val. Loss: 1.650 | Val. Acc: 39.38% | Val. Precision: 21.719 | Val. Recall: 39.375 | Val. F1-score: 27.060 |\n"
     ]
    },
    {
     "data": {
      "application/vnd.jupyter.widget-view+json": {
       "model_id": "12ba07b49fec4177a403fbcca2a04de0",
       "version_major": 2,
       "version_minor": 0
      },
      "text/plain": [
       "  0%|          | 0/320 [00:00<?, ?it/s]"
      ]
     },
     "metadata": {},
     "output_type": "display_data"
    },
    {
     "name": "stdout",
     "output_type": "stream",
     "text": [
      "| Epoch: 240 | Train Loss: 1.641 | Train Acc: 40.23% | Val. Loss: 1.650 | Val. Acc: 39.38% | Val. Precision: 21.719 | Val. Recall: 39.375 | Val. F1-score: 27.060 |\n"
     ]
    },
    {
     "data": {
      "application/vnd.jupyter.widget-view+json": {
       "model_id": "6cad53953a7c42d6b472c92ea734ba3c",
       "version_major": 2,
       "version_minor": 0
      },
      "text/plain": [
       "  0%|          | 0/320 [00:00<?, ?it/s]"
      ]
     },
     "metadata": {},
     "output_type": "display_data"
    },
    {
     "name": "stdout",
     "output_type": "stream",
     "text": [
      "| Epoch: 241 | Train Loss: 1.641 | Train Acc: 40.23% | Val. Loss: 1.650 | Val. Acc: 39.38% | Val. Precision: 21.719 | Val. Recall: 39.375 | Val. F1-score: 27.060 |\n"
     ]
    },
    {
     "data": {
      "application/vnd.jupyter.widget-view+json": {
       "model_id": "9affe4d6be4341ff8146218a41202c74",
       "version_major": 2,
       "version_minor": 0
      },
      "text/plain": [
       "  0%|          | 0/320 [00:00<?, ?it/s]"
      ]
     },
     "metadata": {},
     "output_type": "display_data"
    },
    {
     "name": "stdout",
     "output_type": "stream",
     "text": [
      "| Epoch: 242 | Train Loss: 1.641 | Train Acc: 40.23% | Val. Loss: 1.650 | Val. Acc: 39.38% | Val. Precision: 21.719 | Val. Recall: 39.375 | Val. F1-score: 27.060 |\n"
     ]
    },
    {
     "data": {
      "application/vnd.jupyter.widget-view+json": {
       "model_id": "70ffd70e53ce416791051f64d44c6e2f",
       "version_major": 2,
       "version_minor": 0
      },
      "text/plain": [
       "  0%|          | 0/320 [00:00<?, ?it/s]"
      ]
     },
     "metadata": {},
     "output_type": "display_data"
    },
    {
     "name": "stdout",
     "output_type": "stream",
     "text": [
      "| Epoch: 243 | Train Loss: 1.646 | Train Acc: 39.77% | Val. Loss: 1.575 | Val. Acc: 46.88% | Val. Precision: 28.906 | Val. Recall: 46.875 | Val. F1-score: 34.798 |\n"
     ]
    },
    {
     "data": {
      "application/vnd.jupyter.widget-view+json": {
       "model_id": "7f8fe76f6dd643fba4731f6d226e8e8d",
       "version_major": 2,
       "version_minor": 0
      },
      "text/plain": [
       "  0%|          | 0/320 [00:00<?, ?it/s]"
      ]
     },
     "metadata": {},
     "output_type": "display_data"
    },
    {
     "name": "stdout",
     "output_type": "stream",
     "text": [
      "| Epoch: 244 | Train Loss: 1.629 | Train Acc: 41.48% | Val. Loss: 1.575 | Val. Acc: 46.88% | Val. Precision: 28.906 | Val. Recall: 46.875 | Val. F1-score: 34.798 |\n"
     ]
    },
    {
     "data": {
      "application/vnd.jupyter.widget-view+json": {
       "model_id": "3a7e6c44ec304b65a1ef6ab270808a43",
       "version_major": 2,
       "version_minor": 0
      },
      "text/plain": [
       "  0%|          | 0/320 [00:00<?, ?it/s]"
      ]
     },
     "metadata": {},
     "output_type": "display_data"
    },
    {
     "name": "stdout",
     "output_type": "stream",
     "text": [
      "| Epoch: 245 | Train Loss: 1.629 | Train Acc: 41.48% | Val. Loss: 1.575 | Val. Acc: 46.88% | Val. Precision: 28.906 | Val. Recall: 46.875 | Val. F1-score: 34.798 |\n"
     ]
    },
    {
     "data": {
      "application/vnd.jupyter.widget-view+json": {
       "model_id": "bbdbd6aa840246b7b3a1346da2d26f83",
       "version_major": 2,
       "version_minor": 0
      },
      "text/plain": [
       "  0%|          | 0/320 [00:00<?, ?it/s]"
      ]
     },
     "metadata": {},
     "output_type": "display_data"
    },
    {
     "name": "stdout",
     "output_type": "stream",
     "text": [
      "| Epoch: 246 | Train Loss: 1.648 | Train Acc: 39.53% | Val. Loss: 1.744 | Val. Acc: 30.00% | Val. Precision: 32.708 | Val. Recall: 30.000 | Val. F1-score: 29.536 |\n"
     ]
    },
    {
     "data": {
      "application/vnd.jupyter.widget-view+json": {
       "model_id": "e80e5d52063142b2bd2cc7f498d4830f",
       "version_major": 2,
       "version_minor": 0
      },
      "text/plain": [
       "  0%|          | 0/320 [00:00<?, ?it/s]"
      ]
     },
     "metadata": {},
     "output_type": "display_data"
    },
    {
     "name": "stdout",
     "output_type": "stream",
     "text": [
      "| Epoch: 247 | Train Loss: 1.777 | Train Acc: 26.64% | Val. Loss: 1.712 | Val. Acc: 33.12% | Val. Precision: 31.615 | Val. Recall: 33.125 | Val. F1-score: 30.560 |\n"
     ]
    },
    {
     "data": {
      "application/vnd.jupyter.widget-view+json": {
       "model_id": "4552c6c63b964a418cc667c7abb928da",
       "version_major": 2,
       "version_minor": 0
      },
      "text/plain": [
       "  0%|          | 0/320 [00:00<?, ?it/s]"
      ]
     },
     "metadata": {},
     "output_type": "display_data"
    },
    {
     "name": "stdout",
     "output_type": "stream",
     "text": [
      "| Epoch: 248 | Train Loss: 1.787 | Train Acc: 25.62% | Val. Loss: 1.806 | Val. Acc: 23.75% | Val. Precision: 27.031 | Val. Recall: 23.750 | Val. F1-score: 23.271 |\n"
     ]
    },
    {
     "data": {
      "application/vnd.jupyter.widget-view+json": {
       "model_id": "9089eb07b05845e9bf2e0b98ff0dfc07",
       "version_major": 2,
       "version_minor": 0
      },
      "text/plain": [
       "  0%|          | 0/320 [00:00<?, ?it/s]"
      ]
     },
     "metadata": {},
     "output_type": "display_data"
    },
    {
     "name": "stdout",
     "output_type": "stream",
     "text": [
      "| Epoch: 249 | Train Loss: 1.734 | Train Acc: 30.94% | Val. Loss: 1.675 | Val. Acc: 36.88% | Val. Precision: 36.667 | Val. Recall: 36.875 | Val. F1-score: 34.833 |\n"
     ]
    },
    {
     "data": {
      "application/vnd.jupyter.widget-view+json": {
       "model_id": "51dbc96d1e834bb98da76156a7fb7a83",
       "version_major": 2,
       "version_minor": 0
      },
      "text/plain": [
       "  0%|          | 0/320 [00:00<?, ?it/s]"
      ]
     },
     "metadata": {},
     "output_type": "display_data"
    },
    {
     "name": "stdout",
     "output_type": "stream",
     "text": [
      "| Epoch: 250 | Train Loss: 1.752 | Train Acc: 29.14% | Val. Loss: 1.731 | Val. Acc: 31.25% | Val. Precision: 31.615 | Val. Recall: 31.250 | Val. F1-score: 30.060 |\n"
     ]
    },
    {
     "data": {
      "application/vnd.jupyter.widget-view+json": {
       "model_id": "e47b9ca0df3e4db2b74ef09e2172b782",
       "version_major": 2,
       "version_minor": 0
      },
      "text/plain": [
       "  0%|          | 0/320 [00:00<?, ?it/s]"
      ]
     },
     "metadata": {},
     "output_type": "display_data"
    },
    {
     "name": "stdout",
     "output_type": "stream",
     "text": [
      "| Epoch: 251 | Train Loss: 1.772 | Train Acc: 27.19% | Val. Loss: 1.900 | Val. Acc: 14.37% | Val. Precision: 18.854 | Val. Recall: 14.375 | Val. F1-score: 14.479 |\n"
     ]
    },
    {
     "data": {
      "application/vnd.jupyter.widget-view+json": {
       "model_id": "457da111e51241ac8580c891f6240f0a",
       "version_major": 2,
       "version_minor": 0
      },
      "text/plain": [
       "  0%|          | 0/320 [00:00<?, ?it/s]"
      ]
     },
     "metadata": {},
     "output_type": "display_data"
    },
    {
     "name": "stdout",
     "output_type": "stream",
     "text": [
      "| Epoch: 252 | Train Loss: 1.877 | Train Acc: 16.64% | Val. Loss: 1.612 | Val. Acc: 43.12% | Val. Precision: 36.198 | Val. Recall: 43.125 | Val. F1-score: 37.943 |\n"
     ]
    },
    {
     "data": {
      "application/vnd.jupyter.widget-view+json": {
       "model_id": "1e7cff7384be4a7aa811d096c126df43",
       "version_major": 2,
       "version_minor": 0
      },
      "text/plain": [
       "  0%|          | 0/320 [00:00<?, ?it/s]"
      ]
     },
     "metadata": {},
     "output_type": "display_data"
    },
    {
     "name": "stdout",
     "output_type": "stream",
     "text": [
      "| Epoch: 253 | Train Loss: 1.680 | Train Acc: 36.41% | Val. Loss: 1.606 | Val. Acc: 43.75% | Val. Precision: 33.021 | Val. Recall: 43.750 | Val. F1-score: 36.643 |\n"
     ]
    },
    {
     "data": {
      "application/vnd.jupyter.widget-view+json": {
       "model_id": "d61cb502a536416f9017c922a62e8dea",
       "version_major": 2,
       "version_minor": 0
      },
      "text/plain": [
       "  0%|          | 0/320 [00:00<?, ?it/s]"
      ]
     },
     "metadata": {},
     "output_type": "display_data"
    },
    {
     "name": "stdout",
     "output_type": "stream",
     "text": [
      "| Epoch: 254 | Train Loss: 1.681 | Train Acc: 36.25% | Val. Loss: 1.619 | Val. Acc: 42.50% | Val. Precision: 33.490 | Val. Recall: 42.500 | Val. F1-score: 36.449 |\n"
     ]
    },
    {
     "data": {
      "application/vnd.jupyter.widget-view+json": {
       "model_id": "0fd54cffba4e4d4d9deed70624da65ec",
       "version_major": 2,
       "version_minor": 0
      },
      "text/plain": [
       "  0%|          | 0/320 [00:00<?, ?it/s]"
      ]
     },
     "metadata": {},
     "output_type": "display_data"
    },
    {
     "name": "stdout",
     "output_type": "stream",
     "text": [
      "| Epoch: 255 | Train Loss: 1.660 | Train Acc: 38.36% | Val. Loss: 1.581 | Val. Acc: 46.25% | Val. Precision: 29.479 | Val. Recall: 46.250 | Val. F1-score: 35.024 |\n"
     ]
    },
    {
     "data": {
      "application/vnd.jupyter.widget-view+json": {
       "model_id": "50b0d22ac91842d5bfdc7a455b65968d",
       "version_major": 2,
       "version_minor": 0
      },
      "text/plain": [
       "  0%|          | 0/320 [00:00<?, ?it/s]"
      ]
     },
     "metadata": {},
     "output_type": "display_data"
    },
    {
     "name": "stdout",
     "output_type": "stream",
     "text": [
      "| Epoch: 256 | Train Loss: 1.633 | Train Acc: 41.09% | Val. Loss: 1.575 | Val. Acc: 46.88% | Val. Precision: 28.906 | Val. Recall: 46.875 | Val. F1-score: 34.798 |\n"
     ]
    },
    {
     "data": {
      "application/vnd.jupyter.widget-view+json": {
       "model_id": "db8c6ece1da94cafbc73939c5e492e3b",
       "version_major": 2,
       "version_minor": 0
      },
      "text/plain": [
       "  0%|          | 0/320 [00:00<?, ?it/s]"
      ]
     },
     "metadata": {},
     "output_type": "display_data"
    },
    {
     "name": "stdout",
     "output_type": "stream",
     "text": [
      "| Epoch: 257 | Train Loss: 1.629 | Train Acc: 41.48% | Val. Loss: 1.575 | Val. Acc: 46.88% | Val. Precision: 28.906 | Val. Recall: 46.875 | Val. F1-score: 34.798 |\n"
     ]
    },
    {
     "data": {
      "application/vnd.jupyter.widget-view+json": {
       "model_id": "1bc1e116e6cd4c5e92b5c41c24721536",
       "version_major": 2,
       "version_minor": 0
      },
      "text/plain": [
       "  0%|          | 0/320 [00:00<?, ?it/s]"
      ]
     },
     "metadata": {},
     "output_type": "display_data"
    },
    {
     "name": "stdout",
     "output_type": "stream",
     "text": [
      "| Epoch: 258 | Train Loss: 1.629 | Train Acc: 41.48% | Val. Loss: 1.575 | Val. Acc: 46.88% | Val. Precision: 28.906 | Val. Recall: 46.875 | Val. F1-score: 34.798 |\n"
     ]
    },
    {
     "data": {
      "application/vnd.jupyter.widget-view+json": {
       "model_id": "efd28a2aca8646f0aab9dde3616e8942",
       "version_major": 2,
       "version_minor": 0
      },
      "text/plain": [
       "  0%|          | 0/320 [00:00<?, ?it/s]"
      ]
     },
     "metadata": {},
     "output_type": "display_data"
    },
    {
     "name": "stdout",
     "output_type": "stream",
     "text": [
      "| Epoch: 259 | Train Loss: 1.629 | Train Acc: 41.48% | Val. Loss: 1.575 | Val. Acc: 46.88% | Val. Precision: 28.906 | Val. Recall: 46.875 | Val. F1-score: 34.798 |\n"
     ]
    },
    {
     "data": {
      "application/vnd.jupyter.widget-view+json": {
       "model_id": "ff60259b39e740c0913e64d86a43edd2",
       "version_major": 2,
       "version_minor": 0
      },
      "text/plain": [
       "  0%|          | 0/320 [00:00<?, ?it/s]"
      ]
     },
     "metadata": {},
     "output_type": "display_data"
    },
    {
     "name": "stdout",
     "output_type": "stream",
     "text": [
      "| Epoch: 260 | Train Loss: 1.672 | Train Acc: 37.19% | Val. Loss: 1.719 | Val. Acc: 32.50% | Val. Precision: 31.875 | Val. Recall: 32.500 | Val. F1-score: 28.193 |\n"
     ]
    },
    {
     "data": {
      "application/vnd.jupyter.widget-view+json": {
       "model_id": "2a4fb8af39da4ad7a69a898952c6db67",
       "version_major": 2,
       "version_minor": 0
      },
      "text/plain": [
       "  0%|          | 0/320 [00:00<?, ?it/s]"
      ]
     },
     "metadata": {},
     "output_type": "display_data"
    },
    {
     "name": "stdout",
     "output_type": "stream",
     "text": [
      "| Epoch: 261 | Train Loss: 1.640 | Train Acc: 40.31% | Val. Loss: 1.575 | Val. Acc: 46.88% | Val. Precision: 37.813 | Val. Recall: 46.875 | Val. F1-score: 40.315 |\n"
     ]
    },
    {
     "data": {
      "application/vnd.jupyter.widget-view+json": {
       "model_id": "a67947f603094ffda778861b552de090",
       "version_major": 2,
       "version_minor": 0
      },
      "text/plain": [
       "  0%|          | 0/320 [00:00<?, ?it/s]"
      ]
     },
     "metadata": {},
     "output_type": "display_data"
    },
    {
     "name": "stdout",
     "output_type": "stream",
     "text": [
      "| Epoch: 262 | Train Loss: 1.590 | Train Acc: 45.31% | Val. Loss: 1.575 | Val. Acc: 46.88% | Val. Precision: 37.813 | Val. Recall: 46.875 | Val. F1-score: 40.315 |\n"
     ]
    },
    {
     "data": {
      "application/vnd.jupyter.widget-view+json": {
       "model_id": "57115ca0ed3846358c54cfb75cdbef63",
       "version_major": 2,
       "version_minor": 0
      },
      "text/plain": [
       "  0%|          | 0/320 [00:00<?, ?it/s]"
      ]
     },
     "metadata": {},
     "output_type": "display_data"
    },
    {
     "name": "stdout",
     "output_type": "stream",
     "text": [
      "| Epoch: 263 | Train Loss: 1.590 | Train Acc: 45.31% | Val. Loss: 1.556 | Val. Acc: 48.75% | Val. Precision: 34.740 | Val. Recall: 48.750 | Val. F1-score: 39.515 |\n"
     ]
    },
    {
     "data": {
      "application/vnd.jupyter.widget-view+json": {
       "model_id": "9f9d5138412a44ddb888c78dd38b3f51",
       "version_major": 2,
       "version_minor": 0
      },
      "text/plain": [
       "  0%|          | 0/320 [00:00<?, ?it/s]"
      ]
     },
     "metadata": {},
     "output_type": "display_data"
    },
    {
     "name": "stdout",
     "output_type": "stream",
     "text": [
      "| Epoch: 264 | Train Loss: 1.629 | Train Acc: 41.48% | Val. Loss: 1.575 | Val. Acc: 46.88% | Val. Precision: 28.906 | Val. Recall: 46.875 | Val. F1-score: 34.798 |\n"
     ]
    },
    {
     "data": {
      "application/vnd.jupyter.widget-view+json": {
       "model_id": "fd1666ee9714474ea4373d1fbb0ba634",
       "version_major": 2,
       "version_minor": 0
      },
      "text/plain": [
       "  0%|          | 0/320 [00:00<?, ?it/s]"
      ]
     },
     "metadata": {},
     "output_type": "display_data"
    },
    {
     "name": "stdout",
     "output_type": "stream",
     "text": [
      "| Epoch: 265 | Train Loss: 1.629 | Train Acc: 41.48% | Val. Loss: 1.575 | Val. Acc: 46.88% | Val. Precision: 28.906 | Val. Recall: 46.875 | Val. F1-score: 34.798 |\n"
     ]
    },
    {
     "data": {
      "application/vnd.jupyter.widget-view+json": {
       "model_id": "02533c3571bd4a53a2cb321e4b547982",
       "version_major": 2,
       "version_minor": 0
      },
      "text/plain": [
       "  0%|          | 0/320 [00:00<?, ?it/s]"
      ]
     },
     "metadata": {},
     "output_type": "display_data"
    },
    {
     "name": "stdout",
     "output_type": "stream",
     "text": [
      "| Epoch: 266 | Train Loss: 1.629 | Train Acc: 41.48% | Val. Loss: 1.575 | Val. Acc: 46.88% | Val. Precision: 28.906 | Val. Recall: 46.875 | Val. F1-score: 34.798 |\n"
     ]
    },
    {
     "data": {
      "application/vnd.jupyter.widget-view+json": {
       "model_id": "daff5eab20244ec8afd33bf20ac6d2d0",
       "version_major": 2,
       "version_minor": 0
      },
      "text/plain": [
       "  0%|          | 0/320 [00:00<?, ?it/s]"
      ]
     },
     "metadata": {},
     "output_type": "display_data"
    },
    {
     "name": "stdout",
     "output_type": "stream",
     "text": [
      "| Epoch: 267 | Train Loss: 1.629 | Train Acc: 41.48% | Val. Loss: 1.575 | Val. Acc: 46.88% | Val. Precision: 28.906 | Val. Recall: 46.875 | Val. F1-score: 34.798 |\n"
     ]
    },
    {
     "data": {
      "application/vnd.jupyter.widget-view+json": {
       "model_id": "0f8456a96e934c1896d178b73527c9ca",
       "version_major": 2,
       "version_minor": 0
      },
      "text/plain": [
       "  0%|          | 0/320 [00:00<?, ?it/s]"
      ]
     },
     "metadata": {},
     "output_type": "display_data"
    },
    {
     "name": "stdout",
     "output_type": "stream",
     "text": [
      "| Epoch: 268 | Train Loss: 1.630 | Train Acc: 41.41% | Val. Loss: 1.575 | Val. Acc: 46.88% | Val. Precision: 28.906 | Val. Recall: 46.875 | Val. F1-score: 34.798 |\n"
     ]
    },
    {
     "data": {
      "application/vnd.jupyter.widget-view+json": {
       "model_id": "1cab15e3230b4fc8a591aad2c33fb345",
       "version_major": 2,
       "version_minor": 0
      },
      "text/plain": [
       "  0%|          | 0/320 [00:00<?, ?it/s]"
      ]
     },
     "metadata": {},
     "output_type": "display_data"
    },
    {
     "name": "stdout",
     "output_type": "stream",
     "text": [
      "| Epoch: 269 | Train Loss: 1.629 | Train Acc: 41.48% | Val. Loss: 1.575 | Val. Acc: 46.88% | Val. Precision: 28.906 | Val. Recall: 46.875 | Val. F1-score: 34.798 |\n"
     ]
    },
    {
     "data": {
      "application/vnd.jupyter.widget-view+json": {
       "model_id": "869e002768c3480bb6643faa13b72b9f",
       "version_major": 2,
       "version_minor": 0
      },
      "text/plain": [
       "  0%|          | 0/320 [00:00<?, ?it/s]"
      ]
     },
     "metadata": {},
     "output_type": "display_data"
    },
    {
     "name": "stdout",
     "output_type": "stream",
     "text": [
      "| Epoch: 270 | Train Loss: 1.629 | Train Acc: 41.48% | Val. Loss: 1.575 | Val. Acc: 46.88% | Val. Precision: 28.906 | Val. Recall: 46.875 | Val. F1-score: 34.798 |\n"
     ]
    },
    {
     "data": {
      "application/vnd.jupyter.widget-view+json": {
       "model_id": "d41f25235a0f417e86595387d9395629",
       "version_major": 2,
       "version_minor": 0
      },
      "text/plain": [
       "  0%|          | 0/320 [00:00<?, ?it/s]"
      ]
     },
     "metadata": {},
     "output_type": "display_data"
    },
    {
     "name": "stdout",
     "output_type": "stream",
     "text": [
      "| Epoch: 271 | Train Loss: 1.629 | Train Acc: 41.48% | Val. Loss: 1.575 | Val. Acc: 46.88% | Val. Precision: 28.906 | Val. Recall: 46.875 | Val. F1-score: 34.798 |\n"
     ]
    },
    {
     "data": {
      "application/vnd.jupyter.widget-view+json": {
       "model_id": "c2a01deb8656410da7bea749579cf1e1",
       "version_major": 2,
       "version_minor": 0
      },
      "text/plain": [
       "  0%|          | 0/320 [00:00<?, ?it/s]"
      ]
     },
     "metadata": {},
     "output_type": "display_data"
    },
    {
     "name": "stdout",
     "output_type": "stream",
     "text": [
      "| Epoch: 272 | Train Loss: 1.629 | Train Acc: 41.48% | Val. Loss: 1.575 | Val. Acc: 46.88% | Val. Precision: 28.906 | Val. Recall: 46.875 | Val. F1-score: 34.798 |\n"
     ]
    },
    {
     "data": {
      "application/vnd.jupyter.widget-view+json": {
       "model_id": "9b34bf3158d2494ebe0a1ae95c5c3f20",
       "version_major": 2,
       "version_minor": 0
      },
      "text/plain": [
       "  0%|          | 0/320 [00:00<?, ?it/s]"
      ]
     },
     "metadata": {},
     "output_type": "display_data"
    },
    {
     "name": "stdout",
     "output_type": "stream",
     "text": [
      "| Epoch: 273 | Train Loss: 1.847 | Train Acc: 19.69% | Val. Loss: 2.031 | Val. Acc: 1.25% | Val. Precision: 0.625 | Val. Recall: 1.250 | Val. F1-score: 0.833 |\n"
     ]
    },
    {
     "data": {
      "application/vnd.jupyter.widget-view+json": {
       "model_id": "149d22baf83d46098af2c96920763ac0",
       "version_major": 2,
       "version_minor": 0
      },
      "text/plain": [
       "  0%|          | 0/320 [00:00<?, ?it/s]"
      ]
     },
     "metadata": {},
     "output_type": "display_data"
    },
    {
     "name": "stdout",
     "output_type": "stream",
     "text": [
      "| Epoch: 274 | Train Loss: 2.028 | Train Acc: 1.56% | Val. Loss: 2.025 | Val. Acc: 1.88% | Val. Precision: 2.396 | Val. Recall: 1.875 | Val. F1-score: 1.667 |\n"
     ]
    },
    {
     "data": {
      "application/vnd.jupyter.widget-view+json": {
       "model_id": "f069dd61a1e54fd7bd934192e7f51fc1",
       "version_major": 2,
       "version_minor": 0
      },
      "text/plain": [
       "  0%|          | 0/320 [00:00<?, ?it/s]"
      ]
     },
     "metadata": {},
     "output_type": "display_data"
    },
    {
     "name": "stdout",
     "output_type": "stream",
     "text": [
      "| Epoch: 275 | Train Loss: 1.828 | Train Acc: 21.48% | Val. Loss: 1.785 | Val. Acc: 25.62% | Val. Precision: 25.833 | Val. Recall: 25.625 | Val. F1-score: 24.411 |\n"
     ]
    },
    {
     "data": {
      "application/vnd.jupyter.widget-view+json": {
       "model_id": "37af05e4c2884278abbaab0c1edf5ba4",
       "version_major": 2,
       "version_minor": 0
      },
      "text/plain": [
       "  0%|          | 0/320 [00:00<?, ?it/s]"
      ]
     },
     "metadata": {},
     "output_type": "display_data"
    },
    {
     "name": "stdout",
     "output_type": "stream",
     "text": [
      "| Epoch: 276 | Train Loss: 1.842 | Train Acc: 20.16% | Val. Loss: 1.819 | Val. Acc: 22.50% | Val. Precision: 22.344 | Val. Recall: 22.500 | Val. F1-score: 21.164 |\n"
     ]
    },
    {
     "data": {
      "application/vnd.jupyter.widget-view+json": {
       "model_id": "82f9715645444365b81d012f6f8d5fc1",
       "version_major": 2,
       "version_minor": 0
      },
      "text/plain": [
       "  0%|          | 0/320 [00:00<?, ?it/s]"
      ]
     },
     "metadata": {},
     "output_type": "display_data"
    },
    {
     "name": "stdout",
     "output_type": "stream",
     "text": [
      "| Epoch: 277 | Train Loss: 1.837 | Train Acc: 20.70% | Val. Loss: 1.800 | Val. Acc: 24.38% | Val. Precision: 25.573 | Val. Recall: 24.375 | Val. F1-score: 23.458 |\n"
     ]
    },
    {
     "data": {
      "application/vnd.jupyter.widget-view+json": {
       "model_id": "b1d509ee3e6747f7b741796f73c264af",
       "version_major": 2,
       "version_minor": 0
      },
      "text/plain": [
       "  0%|          | 0/320 [00:00<?, ?it/s]"
      ]
     },
     "metadata": {},
     "output_type": "display_data"
    },
    {
     "name": "stdout",
     "output_type": "stream",
     "text": [
      "| Epoch: 278 | Train Loss: 1.664 | Train Acc: 37.97% | Val. Loss: 1.575 | Val. Acc: 46.88% | Val. Precision: 28.906 | Val. Recall: 46.875 | Val. F1-score: 34.798 |\n"
     ]
    },
    {
     "data": {
      "application/vnd.jupyter.widget-view+json": {
       "model_id": "41cf5af60c0d4795b0ff09092f52291d",
       "version_major": 2,
       "version_minor": 0
      },
      "text/plain": [
       "  0%|          | 0/320 [00:00<?, ?it/s]"
      ]
     },
     "metadata": {},
     "output_type": "display_data"
    },
    {
     "name": "stdout",
     "output_type": "stream",
     "text": [
      "| Epoch: 279 | Train Loss: 1.629 | Train Acc: 41.48% | Val. Loss: 1.575 | Val. Acc: 46.88% | Val. Precision: 28.906 | Val. Recall: 46.875 | Val. F1-score: 34.798 |\n"
     ]
    },
    {
     "data": {
      "application/vnd.jupyter.widget-view+json": {
       "model_id": "2eae0e3852f446c8abd5f5d4c807173f",
       "version_major": 2,
       "version_minor": 0
      },
      "text/plain": [
       "  0%|          | 0/320 [00:00<?, ?it/s]"
      ]
     },
     "metadata": {},
     "output_type": "display_data"
    },
    {
     "name": "stdout",
     "output_type": "stream",
     "text": [
      "| Epoch: 280 | Train Loss: 1.629 | Train Acc: 41.48% | Val. Loss: 1.575 | Val. Acc: 46.88% | Val. Precision: 28.906 | Val. Recall: 46.875 | Val. F1-score: 34.798 |\n"
     ]
    },
    {
     "data": {
      "application/vnd.jupyter.widget-view+json": {
       "model_id": "cf077dcf34d846f9bd0bb9f85c57b79e",
       "version_major": 2,
       "version_minor": 0
      },
      "text/plain": [
       "  0%|          | 0/320 [00:00<?, ?it/s]"
      ]
     },
     "metadata": {},
     "output_type": "display_data"
    },
    {
     "name": "stdout",
     "output_type": "stream",
     "text": [
      "| Epoch: 281 | Train Loss: 1.629 | Train Acc: 41.48% | Val. Loss: 1.575 | Val. Acc: 46.88% | Val. Precision: 28.906 | Val. Recall: 46.875 | Val. F1-score: 34.798 |\n"
     ]
    },
    {
     "data": {
      "application/vnd.jupyter.widget-view+json": {
       "model_id": "3dfd590c35e04aec8de09dfe1f7bf022",
       "version_major": 2,
       "version_minor": 0
      },
      "text/plain": [
       "  0%|          | 0/320 [00:00<?, ?it/s]"
      ]
     },
     "metadata": {},
     "output_type": "display_data"
    },
    {
     "name": "stdout",
     "output_type": "stream",
     "text": [
      "| Epoch: 282 | Train Loss: 1.629 | Train Acc: 41.48% | Val. Loss: 1.575 | Val. Acc: 46.88% | Val. Precision: 28.906 | Val. Recall: 46.875 | Val. F1-score: 34.798 |\n"
     ]
    },
    {
     "data": {
      "application/vnd.jupyter.widget-view+json": {
       "model_id": "65f48963eefc4e878e315919aa81139d",
       "version_major": 2,
       "version_minor": 0
      },
      "text/plain": [
       "  0%|          | 0/320 [00:00<?, ?it/s]"
      ]
     },
     "metadata": {},
     "output_type": "display_data"
    },
    {
     "name": "stdout",
     "output_type": "stream",
     "text": [
      "| Epoch: 283 | Train Loss: 1.629 | Train Acc: 41.48% | Val. Loss: 1.575 | Val. Acc: 46.88% | Val. Precision: 28.906 | Val. Recall: 46.875 | Val. F1-score: 34.798 |\n"
     ]
    },
    {
     "data": {
      "application/vnd.jupyter.widget-view+json": {
       "model_id": "5a941d887b404e1bbb36ad816940d673",
       "version_major": 2,
       "version_minor": 0
      },
      "text/plain": [
       "  0%|          | 0/320 [00:00<?, ?it/s]"
      ]
     },
     "metadata": {},
     "output_type": "display_data"
    },
    {
     "name": "stdout",
     "output_type": "stream",
     "text": [
      "| Epoch: 284 | Train Loss: 1.660 | Train Acc: 38.28% | Val. Loss: 1.650 | Val. Acc: 39.38% | Val. Precision: 21.719 | Val. Recall: 39.375 | Val. F1-score: 27.060 |\n"
     ]
    },
    {
     "data": {
      "application/vnd.jupyter.widget-view+json": {
       "model_id": "1c2dfc0f69e848d1bf017c7d9d608310",
       "version_major": 2,
       "version_minor": 0
      },
      "text/plain": [
       "  0%|          | 0/320 [00:00<?, ?it/s]"
      ]
     },
     "metadata": {},
     "output_type": "display_data"
    },
    {
     "name": "stdout",
     "output_type": "stream",
     "text": [
      "| Epoch: 285 | Train Loss: 1.641 | Train Acc: 40.23% | Val. Loss: 1.650 | Val. Acc: 39.38% | Val. Precision: 21.719 | Val. Recall: 39.375 | Val. F1-score: 27.060 |\n"
     ]
    },
    {
     "data": {
      "application/vnd.jupyter.widget-view+json": {
       "model_id": "bb62e613f93b44e89a49bfd521b19732",
       "version_major": 2,
       "version_minor": 0
      },
      "text/plain": [
       "  0%|          | 0/320 [00:00<?, ?it/s]"
      ]
     },
     "metadata": {},
     "output_type": "display_data"
    },
    {
     "name": "stdout",
     "output_type": "stream",
     "text": [
      "| Epoch: 286 | Train Loss: 1.641 | Train Acc: 40.23% | Val. Loss: 1.650 | Val. Acc: 39.38% | Val. Precision: 21.719 | Val. Recall: 39.375 | Val. F1-score: 27.060 |\n"
     ]
    },
    {
     "data": {
      "application/vnd.jupyter.widget-view+json": {
       "model_id": "2c174aec05564c12a2a2b5c923c687e8",
       "version_major": 2,
       "version_minor": 0
      },
      "text/plain": [
       "  0%|          | 0/320 [00:00<?, ?it/s]"
      ]
     },
     "metadata": {},
     "output_type": "display_data"
    },
    {
     "name": "stdout",
     "output_type": "stream",
     "text": [
      "| Epoch: 287 | Train Loss: 1.641 | Train Acc: 40.23% | Val. Loss: 1.650 | Val. Acc: 39.38% | Val. Precision: 21.719 | Val. Recall: 39.375 | Val. F1-score: 27.060 |\n"
     ]
    },
    {
     "data": {
      "application/vnd.jupyter.widget-view+json": {
       "model_id": "9cbf42fc30654e6d83b2e24c7b00e1a0",
       "version_major": 2,
       "version_minor": 0
      },
      "text/plain": [
       "  0%|          | 0/320 [00:00<?, ?it/s]"
      ]
     },
     "metadata": {},
     "output_type": "display_data"
    },
    {
     "name": "stdout",
     "output_type": "stream",
     "text": [
      "| Epoch: 288 | Train Loss: 1.641 | Train Acc: 40.23% | Val. Loss: 1.650 | Val. Acc: 39.38% | Val. Precision: 21.719 | Val. Recall: 39.375 | Val. F1-score: 27.060 |\n"
     ]
    },
    {
     "data": {
      "application/vnd.jupyter.widget-view+json": {
       "model_id": "2806ee791ef64b17b356d57897b93e12",
       "version_major": 2,
       "version_minor": 0
      },
      "text/plain": [
       "  0%|          | 0/320 [00:00<?, ?it/s]"
      ]
     },
     "metadata": {},
     "output_type": "display_data"
    },
    {
     "name": "stdout",
     "output_type": "stream",
     "text": [
      "| Epoch: 289 | Train Loss: 1.642 | Train Acc: 40.16% | Val. Loss: 1.650 | Val. Acc: 39.38% | Val. Precision: 21.719 | Val. Recall: 39.375 | Val. F1-score: 27.060 |\n"
     ]
    },
    {
     "data": {
      "application/vnd.jupyter.widget-view+json": {
       "model_id": "921b5e413f594f6d91b353e0607a8430",
       "version_major": 2,
       "version_minor": 0
      },
      "text/plain": [
       "  0%|          | 0/320 [00:00<?, ?it/s]"
      ]
     },
     "metadata": {},
     "output_type": "display_data"
    },
    {
     "name": "stdout",
     "output_type": "stream",
     "text": [
      "| Epoch: 290 | Train Loss: 1.641 | Train Acc: 40.23% | Val. Loss: 1.650 | Val. Acc: 39.38% | Val. Precision: 21.719 | Val. Recall: 39.375 | Val. F1-score: 27.060 |\n"
     ]
    },
    {
     "data": {
      "application/vnd.jupyter.widget-view+json": {
       "model_id": "e1c1f0f475a045d4b52c1bcb82551870",
       "version_major": 2,
       "version_minor": 0
      },
      "text/plain": [
       "  0%|          | 0/320 [00:00<?, ?it/s]"
      ]
     },
     "metadata": {},
     "output_type": "display_data"
    },
    {
     "name": "stdout",
     "output_type": "stream",
     "text": [
      "| Epoch: 291 | Train Loss: 1.641 | Train Acc: 40.23% | Val. Loss: 1.650 | Val. Acc: 39.38% | Val. Precision: 21.719 | Val. Recall: 39.375 | Val. F1-score: 27.060 |\n"
     ]
    },
    {
     "data": {
      "application/vnd.jupyter.widget-view+json": {
       "model_id": "5f58060c4dad4258be6fc2b4e92c6e27",
       "version_major": 2,
       "version_minor": 0
      },
      "text/plain": [
       "  0%|          | 0/320 [00:00<?, ?it/s]"
      ]
     },
     "metadata": {},
     "output_type": "display_data"
    },
    {
     "name": "stdout",
     "output_type": "stream",
     "text": [
      "| Epoch: 292 | Train Loss: 1.641 | Train Acc: 40.23% | Val. Loss: 1.650 | Val. Acc: 39.38% | Val. Precision: 21.719 | Val. Recall: 39.375 | Val. F1-score: 27.060 |\n"
     ]
    },
    {
     "data": {
      "application/vnd.jupyter.widget-view+json": {
       "model_id": "6ac191df4d0641859ac1d4100a93f97f",
       "version_major": 2,
       "version_minor": 0
      },
      "text/plain": [
       "  0%|          | 0/320 [00:00<?, ?it/s]"
      ]
     },
     "metadata": {},
     "output_type": "display_data"
    },
    {
     "name": "stdout",
     "output_type": "stream",
     "text": [
      "| Epoch: 293 | Train Loss: 1.641 | Train Acc: 40.23% | Val. Loss: 1.650 | Val. Acc: 39.38% | Val. Precision: 21.719 | Val. Recall: 39.375 | Val. F1-score: 27.060 |\n"
     ]
    },
    {
     "data": {
      "application/vnd.jupyter.widget-view+json": {
       "model_id": "0b3cc4c1932a486f969a2d5383bfed3d",
       "version_major": 2,
       "version_minor": 0
      },
      "text/plain": [
       "  0%|          | 0/320 [00:00<?, ?it/s]"
      ]
     },
     "metadata": {},
     "output_type": "display_data"
    },
    {
     "name": "stdout",
     "output_type": "stream",
     "text": [
      "| Epoch: 294 | Train Loss: 1.685 | Train Acc: 35.86% | Val. Loss: 1.850 | Val. Acc: 19.38% | Val. Precision: 27.396 | Val. Recall: 19.375 | Val. F1-score: 21.065 |\n"
     ]
    },
    {
     "data": {
      "application/vnd.jupyter.widget-view+json": {
       "model_id": "19afcb6f711645248184b4b07cc674ae",
       "version_major": 2,
       "version_minor": 0
      },
      "text/plain": [
       "  0%|          | 0/320 [00:00<?, ?it/s]"
      ]
     },
     "metadata": {},
     "output_type": "display_data"
    },
    {
     "name": "stdout",
     "output_type": "stream",
     "text": [
      "| Epoch: 295 | Train Loss: 1.772 | Train Acc: 27.11% | Val. Loss: 1.650 | Val. Acc: 39.38% | Val. Precision: 21.719 | Val. Recall: 39.375 | Val. F1-score: 27.060 |\n"
     ]
    },
    {
     "data": {
      "application/vnd.jupyter.widget-view+json": {
       "model_id": "100934b0900a49b39fd264c61e275665",
       "version_major": 2,
       "version_minor": 0
      },
      "text/plain": [
       "  0%|          | 0/320 [00:00<?, ?it/s]"
      ]
     },
     "metadata": {},
     "output_type": "display_data"
    },
    {
     "name": "stdout",
     "output_type": "stream",
     "text": [
      "| Epoch: 296 | Train Loss: 1.641 | Train Acc: 40.23% | Val. Loss: 1.650 | Val. Acc: 39.38% | Val. Precision: 21.719 | Val. Recall: 39.375 | Val. F1-score: 27.060 |\n"
     ]
    },
    {
     "data": {
      "application/vnd.jupyter.widget-view+json": {
       "model_id": "36bc423647c741fea99f409ccefa8f97",
       "version_major": 2,
       "version_minor": 0
      },
      "text/plain": [
       "  0%|          | 0/320 [00:00<?, ?it/s]"
      ]
     },
     "metadata": {},
     "output_type": "display_data"
    },
    {
     "name": "stdout",
     "output_type": "stream",
     "text": [
      "| Epoch: 297 | Train Loss: 1.641 | Train Acc: 40.23% | Val. Loss: 1.650 | Val. Acc: 39.38% | Val. Precision: 21.719 | Val. Recall: 39.375 | Val. F1-score: 27.060 |\n"
     ]
    },
    {
     "data": {
      "application/vnd.jupyter.widget-view+json": {
       "model_id": "25504af3f30a47ac9f5a9b8606bf5165",
       "version_major": 2,
       "version_minor": 0
      },
      "text/plain": [
       "  0%|          | 0/320 [00:00<?, ?it/s]"
      ]
     },
     "metadata": {},
     "output_type": "display_data"
    },
    {
     "name": "stdout",
     "output_type": "stream",
     "text": [
      "| Epoch: 298 | Train Loss: 1.641 | Train Acc: 40.23% | Val. Loss: 1.650 | Val. Acc: 39.38% | Val. Precision: 21.719 | Val. Recall: 39.375 | Val. F1-score: 27.060 |\n"
     ]
    },
    {
     "data": {
      "application/vnd.jupyter.widget-view+json": {
       "model_id": "9b516d865a5b42018a975d44374650c2",
       "version_major": 2,
       "version_minor": 0
      },
      "text/plain": [
       "  0%|          | 0/320 [00:00<?, ?it/s]"
      ]
     },
     "metadata": {},
     "output_type": "display_data"
    },
    {
     "name": "stdout",
     "output_type": "stream",
     "text": [
      "| Epoch: 299 | Train Loss: 1.641 | Train Acc: 40.23% | Val. Loss: 1.650 | Val. Acc: 39.38% | Val. Precision: 21.719 | Val. Recall: 39.375 | Val. F1-score: 27.060 |\n"
     ]
    },
    {
     "data": {
      "application/vnd.jupyter.widget-view+json": {
       "model_id": "e536bf550ef9489a8fd3eca9506638b1",
       "version_major": 2,
       "version_minor": 0
      },
      "text/plain": [
       "  0%|          | 0/320 [00:00<?, ?it/s]"
      ]
     },
     "metadata": {},
     "output_type": "display_data"
    },
    {
     "name": "stdout",
     "output_type": "stream",
     "text": [
      "| Epoch: 300 | Train Loss: 1.641 | Train Acc: 40.23% | Val. Loss: 1.650 | Val. Acc: 39.38% | Val. Precision: 21.719 | Val. Recall: 39.375 | Val. F1-score: 27.060 |\n"
     ]
    },
    {
     "data": {
      "application/vnd.jupyter.widget-view+json": {
       "model_id": "3c3c6e4464044898b3805c715f55cb51",
       "version_major": 2,
       "version_minor": 0
      },
      "text/plain": [
       "  0%|          | 0/320 [00:00<?, ?it/s]"
      ]
     },
     "metadata": {},
     "output_type": "display_data"
    },
    {
     "name": "stdout",
     "output_type": "stream",
     "text": [
      "| Epoch: 301 | Train Loss: 1.641 | Train Acc: 40.23% | Val. Loss: 1.650 | Val. Acc: 39.38% | Val. Precision: 21.719 | Val. Recall: 39.375 | Val. F1-score: 27.060 |\n"
     ]
    },
    {
     "data": {
      "application/vnd.jupyter.widget-view+json": {
       "model_id": "4882ead4c1624bf4992d8ba49260682d",
       "version_major": 2,
       "version_minor": 0
      },
      "text/plain": [
       "  0%|          | 0/320 [00:00<?, ?it/s]"
      ]
     },
     "metadata": {},
     "output_type": "display_data"
    },
    {
     "name": "stdout",
     "output_type": "stream",
     "text": [
      "| Epoch: 302 | Train Loss: 1.641 | Train Acc: 40.23% | Val. Loss: 1.650 | Val. Acc: 39.38% | Val. Precision: 21.719 | Val. Recall: 39.375 | Val. F1-score: 27.060 |\n"
     ]
    },
    {
     "data": {
      "application/vnd.jupyter.widget-view+json": {
       "model_id": "960f7af75cb74297ab5176c987590a98",
       "version_major": 2,
       "version_minor": 0
      },
      "text/plain": [
       "  0%|          | 0/320 [00:00<?, ?it/s]"
      ]
     },
     "metadata": {},
     "output_type": "display_data"
    },
    {
     "name": "stdout",
     "output_type": "stream",
     "text": [
      "| Epoch: 303 | Train Loss: 1.641 | Train Acc: 40.23% | Val. Loss: 1.650 | Val. Acc: 39.38% | Val. Precision: 21.719 | Val. Recall: 39.375 | Val. F1-score: 27.060 |\n"
     ]
    },
    {
     "data": {
      "application/vnd.jupyter.widget-view+json": {
       "model_id": "af7fcff9cc4749d0aa961eb381497bf6",
       "version_major": 2,
       "version_minor": 0
      },
      "text/plain": [
       "  0%|          | 0/320 [00:00<?, ?it/s]"
      ]
     },
     "metadata": {},
     "output_type": "display_data"
    },
    {
     "name": "stdout",
     "output_type": "stream",
     "text": [
      "| Epoch: 304 | Train Loss: 1.641 | Train Acc: 40.23% | Val. Loss: 1.650 | Val. Acc: 39.38% | Val. Precision: 21.719 | Val. Recall: 39.375 | Val. F1-score: 27.060 |\n"
     ]
    },
    {
     "data": {
      "application/vnd.jupyter.widget-view+json": {
       "model_id": "9c38e0518333425a85c033b2edec5e29",
       "version_major": 2,
       "version_minor": 0
      },
      "text/plain": [
       "  0%|          | 0/320 [00:00<?, ?it/s]"
      ]
     },
     "metadata": {},
     "output_type": "display_data"
    },
    {
     "name": "stdout",
     "output_type": "stream",
     "text": [
      "| Epoch: 305 | Train Loss: 1.641 | Train Acc: 40.23% | Val. Loss: 1.650 | Val. Acc: 39.38% | Val. Precision: 21.719 | Val. Recall: 39.375 | Val. F1-score: 27.060 |\n"
     ]
    },
    {
     "data": {
      "application/vnd.jupyter.widget-view+json": {
       "model_id": "db3061e7c9ed49bd8e2495aedd231b02",
       "version_major": 2,
       "version_minor": 0
      },
      "text/plain": [
       "  0%|          | 0/320 [00:00<?, ?it/s]"
      ]
     },
     "metadata": {},
     "output_type": "display_data"
    },
    {
     "name": "stdout",
     "output_type": "stream",
     "text": [
      "| Epoch: 306 | Train Loss: 1.641 | Train Acc: 40.23% | Val. Loss: 1.650 | Val. Acc: 39.38% | Val. Precision: 21.719 | Val. Recall: 39.375 | Val. F1-score: 27.060 |\n"
     ]
    },
    {
     "data": {
      "application/vnd.jupyter.widget-view+json": {
       "model_id": "191fab1332fd415982914c493069e0a3",
       "version_major": 2,
       "version_minor": 0
      },
      "text/plain": [
       "  0%|          | 0/320 [00:00<?, ?it/s]"
      ]
     },
     "metadata": {},
     "output_type": "display_data"
    },
    {
     "name": "stdout",
     "output_type": "stream",
     "text": [
      "| Epoch: 307 | Train Loss: 1.641 | Train Acc: 40.23% | Val. Loss: 1.650 | Val. Acc: 39.38% | Val. Precision: 21.719 | Val. Recall: 39.375 | Val. F1-score: 27.060 |\n"
     ]
    },
    {
     "data": {
      "application/vnd.jupyter.widget-view+json": {
       "model_id": "1dfaec019ce845f0a285b49e8789e1c5",
       "version_major": 2,
       "version_minor": 0
      },
      "text/plain": [
       "  0%|          | 0/320 [00:00<?, ?it/s]"
      ]
     },
     "metadata": {},
     "output_type": "display_data"
    },
    {
     "name": "stdout",
     "output_type": "stream",
     "text": [
      "| Epoch: 308 | Train Loss: 1.644 | Train Acc: 39.84% | Val. Loss: 1.650 | Val. Acc: 39.38% | Val. Precision: 21.719 | Val. Recall: 39.375 | Val. F1-score: 27.060 |\n"
     ]
    },
    {
     "data": {
      "application/vnd.jupyter.widget-view+json": {
       "model_id": "d6b4bf7431c74d7daf5aaee111417924",
       "version_major": 2,
       "version_minor": 0
      },
      "text/plain": [
       "  0%|          | 0/320 [00:00<?, ?it/s]"
      ]
     },
     "metadata": {},
     "output_type": "display_data"
    },
    {
     "name": "stdout",
     "output_type": "stream",
     "text": [
      "| Epoch: 309 | Train Loss: 1.641 | Train Acc: 40.23% | Val. Loss: 1.650 | Val. Acc: 39.38% | Val. Precision: 21.719 | Val. Recall: 39.375 | Val. F1-score: 27.060 |\n"
     ]
    },
    {
     "data": {
      "application/vnd.jupyter.widget-view+json": {
       "model_id": "1fa161b220b24f809acefc873bf2084a",
       "version_major": 2,
       "version_minor": 0
      },
      "text/plain": [
       "  0%|          | 0/320 [00:00<?, ?it/s]"
      ]
     },
     "metadata": {},
     "output_type": "display_data"
    },
    {
     "name": "stdout",
     "output_type": "stream",
     "text": [
      "| Epoch: 310 | Train Loss: 1.641 | Train Acc: 40.23% | Val. Loss: 1.650 | Val. Acc: 39.38% | Val. Precision: 21.719 | Val. Recall: 39.375 | Val. F1-score: 27.060 |\n"
     ]
    },
    {
     "data": {
      "application/vnd.jupyter.widget-view+json": {
       "model_id": "5225d1a00a21447abce54c3d5a42ee33",
       "version_major": 2,
       "version_minor": 0
      },
      "text/plain": [
       "  0%|          | 0/320 [00:00<?, ?it/s]"
      ]
     },
     "metadata": {},
     "output_type": "display_data"
    },
    {
     "name": "stdout",
     "output_type": "stream",
     "text": [
      "| Epoch: 311 | Train Loss: 1.641 | Train Acc: 40.23% | Val. Loss: 1.650 | Val. Acc: 39.38% | Val. Precision: 21.719 | Val. Recall: 39.375 | Val. F1-score: 27.060 |\n"
     ]
    },
    {
     "data": {
      "application/vnd.jupyter.widget-view+json": {
       "model_id": "1ef5bd3080284303a8be552efb4b7d59",
       "version_major": 2,
       "version_minor": 0
      },
      "text/plain": [
       "  0%|          | 0/320 [00:00<?, ?it/s]"
      ]
     },
     "metadata": {},
     "output_type": "display_data"
    },
    {
     "name": "stdout",
     "output_type": "stream",
     "text": [
      "| Epoch: 312 | Train Loss: 1.641 | Train Acc: 40.23% | Val. Loss: 1.650 | Val. Acc: 39.38% | Val. Precision: 21.719 | Val. Recall: 39.375 | Val. F1-score: 27.060 |\n"
     ]
    },
    {
     "data": {
      "application/vnd.jupyter.widget-view+json": {
       "model_id": "29ef2002c6ba415c8eaa8c2bb6df69f8",
       "version_major": 2,
       "version_minor": 0
      },
      "text/plain": [
       "  0%|          | 0/320 [00:00<?, ?it/s]"
      ]
     },
     "metadata": {},
     "output_type": "display_data"
    },
    {
     "name": "stdout",
     "output_type": "stream",
     "text": [
      "| Epoch: 313 | Train Loss: 1.641 | Train Acc: 40.23% | Val. Loss: 1.650 | Val. Acc: 39.38% | Val. Precision: 21.719 | Val. Recall: 39.375 | Val. F1-score: 27.060 |\n"
     ]
    },
    {
     "data": {
      "application/vnd.jupyter.widget-view+json": {
       "model_id": "433c47c8151043acac0e3c75969629d1",
       "version_major": 2,
       "version_minor": 0
      },
      "text/plain": [
       "  0%|          | 0/320 [00:00<?, ?it/s]"
      ]
     },
     "metadata": {},
     "output_type": "display_data"
    },
    {
     "name": "stdout",
     "output_type": "stream",
     "text": [
      "| Epoch: 314 | Train Loss: 1.641 | Train Acc: 40.23% | Val. Loss: 1.650 | Val. Acc: 39.38% | Val. Precision: 21.719 | Val. Recall: 39.375 | Val. F1-score: 27.060 |\n"
     ]
    },
    {
     "data": {
      "application/vnd.jupyter.widget-view+json": {
       "model_id": "d7060393533244ed81dd5b778799b3fd",
       "version_major": 2,
       "version_minor": 0
      },
      "text/plain": [
       "  0%|          | 0/320 [00:00<?, ?it/s]"
      ]
     },
     "metadata": {},
     "output_type": "display_data"
    },
    {
     "name": "stdout",
     "output_type": "stream",
     "text": [
      "| Epoch: 315 | Train Loss: 1.641 | Train Acc: 40.23% | Val. Loss: 1.650 | Val. Acc: 39.38% | Val. Precision: 21.719 | Val. Recall: 39.375 | Val. F1-score: 27.060 |\n"
     ]
    },
    {
     "data": {
      "application/vnd.jupyter.widget-view+json": {
       "model_id": "eef13d91c39c442292bdb4f624866c3f",
       "version_major": 2,
       "version_minor": 0
      },
      "text/plain": [
       "  0%|          | 0/320 [00:00<?, ?it/s]"
      ]
     },
     "metadata": {},
     "output_type": "display_data"
    },
    {
     "name": "stdout",
     "output_type": "stream",
     "text": [
      "| Epoch: 316 | Train Loss: 1.643 | Train Acc: 40.00% | Val. Loss: 1.650 | Val. Acc: 39.38% | Val. Precision: 21.719 | Val. Recall: 39.375 | Val. F1-score: 27.060 |\n"
     ]
    },
    {
     "data": {
      "application/vnd.jupyter.widget-view+json": {
       "model_id": "48086fa6c86d43cfa6276e7240f132d8",
       "version_major": 2,
       "version_minor": 0
      },
      "text/plain": [
       "  0%|          | 0/320 [00:00<?, ?it/s]"
      ]
     },
     "metadata": {},
     "output_type": "display_data"
    },
    {
     "name": "stdout",
     "output_type": "stream",
     "text": [
      "| Epoch: 317 | Train Loss: 1.641 | Train Acc: 40.23% | Val. Loss: 1.650 | Val. Acc: 39.38% | Val. Precision: 21.719 | Val. Recall: 39.375 | Val. F1-score: 27.060 |\n"
     ]
    },
    {
     "data": {
      "application/vnd.jupyter.widget-view+json": {
       "model_id": "b5de8e931da74af8bba8d87c064663b0",
       "version_major": 2,
       "version_minor": 0
      },
      "text/plain": [
       "  0%|          | 0/320 [00:00<?, ?it/s]"
      ]
     },
     "metadata": {},
     "output_type": "display_data"
    },
    {
     "name": "stdout",
     "output_type": "stream",
     "text": [
      "| Epoch: 318 | Train Loss: 1.641 | Train Acc: 40.23% | Val. Loss: 1.650 | Val. Acc: 39.38% | Val. Precision: 21.719 | Val. Recall: 39.375 | Val. F1-score: 27.060 |\n"
     ]
    },
    {
     "data": {
      "application/vnd.jupyter.widget-view+json": {
       "model_id": "7b610a6358bb4920bc4adab623bdca0e",
       "version_major": 2,
       "version_minor": 0
      },
      "text/plain": [
       "  0%|          | 0/320 [00:00<?, ?it/s]"
      ]
     },
     "metadata": {},
     "output_type": "display_data"
    },
    {
     "name": "stdout",
     "output_type": "stream",
     "text": [
      "| Epoch: 319 | Train Loss: 1.644 | Train Acc: 39.92% | Val. Loss: 1.614 | Val. Acc: 43.12% | Val. Precision: 45.208 | Val. Recall: 43.125 | Val. F1-score: 40.006 |\n"
     ]
    },
    {
     "data": {
      "application/vnd.jupyter.widget-view+json": {
       "model_id": "03c1fca4f19c4f6d85545df936d73b66",
       "version_major": 2,
       "version_minor": 0
      },
      "text/plain": [
       "  0%|          | 0/320 [00:00<?, ?it/s]"
      ]
     },
     "metadata": {},
     "output_type": "display_data"
    },
    {
     "name": "stdout",
     "output_type": "stream",
     "text": [
      "| Epoch: 320 | Train Loss: 1.573 | Train Acc: 47.11% | Val. Loss: 1.519 | Val. Acc: 52.50% | Val. Precision: 55.312 | Val. Recall: 52.500 | Val. F1-score: 50.080 |\n"
     ]
    },
    {
     "data": {
      "application/vnd.jupyter.widget-view+json": {
       "model_id": "da6d663a705a41b8bd876916c024c0eb",
       "version_major": 2,
       "version_minor": 0
      },
      "text/plain": [
       "  0%|          | 0/320 [00:00<?, ?it/s]"
      ]
     },
     "metadata": {},
     "output_type": "display_data"
    },
    {
     "name": "stdout",
     "output_type": "stream",
     "text": [
      "| Epoch: 321 | Train Loss: 1.584 | Train Acc: 45.94% | Val. Loss: 1.562 | Val. Acc: 48.12% | Val. Precision: 50.729 | Val. Recall: 48.125 | Val. F1-score: 45.045 |\n"
     ]
    },
    {
     "data": {
      "application/vnd.jupyter.widget-view+json": {
       "model_id": "4eb8de17a2bc4ba5a914115041ddb00f",
       "version_major": 2,
       "version_minor": 0
      },
      "text/plain": [
       "  0%|          | 0/320 [00:00<?, ?it/s]"
      ]
     },
     "metadata": {},
     "output_type": "display_data"
    },
    {
     "name": "stdout",
     "output_type": "stream",
     "text": [
      "| Epoch: 322 | Train Loss: 1.547 | Train Acc: 49.61% | Val. Loss: 1.481 | Val. Acc: 56.25% | Val. Precision: 56.510 | Val. Recall: 56.250 | Val. F1-score: 52.714 |\n"
     ]
    },
    {
     "data": {
      "application/vnd.jupyter.widget-view+json": {
       "model_id": "4d6c097aafdf4a0e8d1b217da806dbb9",
       "version_major": 2,
       "version_minor": 0
      },
      "text/plain": [
       "  0%|          | 0/320 [00:00<?, ?it/s]"
      ]
     },
     "metadata": {},
     "output_type": "display_data"
    },
    {
     "name": "stdout",
     "output_type": "stream",
     "text": [
      "| Epoch: 323 | Train Loss: 1.601 | Train Acc: 44.22% | Val. Loss: 1.575 | Val. Acc: 46.88% | Val. Precision: 28.906 | Val. Recall: 46.875 | Val. F1-score: 34.798 |\n"
     ]
    },
    {
     "data": {
      "application/vnd.jupyter.widget-view+json": {
       "model_id": "2a47ff6fc30b4ca488b7240651d20773",
       "version_major": 2,
       "version_minor": 0
      },
      "text/plain": [
       "  0%|          | 0/320 [00:00<?, ?it/s]"
      ]
     },
     "metadata": {},
     "output_type": "display_data"
    },
    {
     "name": "stdout",
     "output_type": "stream",
     "text": [
      "| Epoch: 324 | Train Loss: 1.629 | Train Acc: 41.48% | Val. Loss: 1.575 | Val. Acc: 46.88% | Val. Precision: 28.906 | Val. Recall: 46.875 | Val. F1-score: 34.798 |\n"
     ]
    },
    {
     "data": {
      "application/vnd.jupyter.widget-view+json": {
       "model_id": "6f89f97d8b6341b38af7c4e92c2e4298",
       "version_major": 2,
       "version_minor": 0
      },
      "text/plain": [
       "  0%|          | 0/320 [00:00<?, ?it/s]"
      ]
     },
     "metadata": {},
     "output_type": "display_data"
    },
    {
     "name": "stdout",
     "output_type": "stream",
     "text": [
      "| Epoch: 325 | Train Loss: 1.629 | Train Acc: 41.48% | Val. Loss: 1.575 | Val. Acc: 46.88% | Val. Precision: 28.906 | Val. Recall: 46.875 | Val. F1-score: 34.798 |\n"
     ]
    },
    {
     "data": {
      "application/vnd.jupyter.widget-view+json": {
       "model_id": "08eb6ca797934f7091de45d806f92dbb",
       "version_major": 2,
       "version_minor": 0
      },
      "text/plain": [
       "  0%|          | 0/320 [00:00<?, ?it/s]"
      ]
     },
     "metadata": {},
     "output_type": "display_data"
    },
    {
     "name": "stdout",
     "output_type": "stream",
     "text": [
      "| Epoch: 326 | Train Loss: 1.629 | Train Acc: 41.48% | Val. Loss: 1.575 | Val. Acc: 46.88% | Val. Precision: 28.906 | Val. Recall: 46.875 | Val. F1-score: 34.798 |\n"
     ]
    },
    {
     "data": {
      "application/vnd.jupyter.widget-view+json": {
       "model_id": "219bb25d7c9f4acaa0cdb5f1b5f5c984",
       "version_major": 2,
       "version_minor": 0
      },
      "text/plain": [
       "  0%|          | 0/320 [00:00<?, ?it/s]"
      ]
     },
     "metadata": {},
     "output_type": "display_data"
    },
    {
     "name": "stdout",
     "output_type": "stream",
     "text": [
      "| Epoch: 327 | Train Loss: 1.635 | Train Acc: 40.86% | Val. Loss: 1.575 | Val. Acc: 46.88% | Val. Precision: 28.906 | Val. Recall: 46.875 | Val. F1-score: 34.798 |\n"
     ]
    },
    {
     "data": {
      "application/vnd.jupyter.widget-view+json": {
       "model_id": "7b22a81ab64440499ca34e336c4df791",
       "version_major": 2,
       "version_minor": 0
      },
      "text/plain": [
       "  0%|          | 0/320 [00:00<?, ?it/s]"
      ]
     },
     "metadata": {},
     "output_type": "display_data"
    },
    {
     "name": "stdout",
     "output_type": "stream",
     "text": [
      "| Epoch: 328 | Train Loss: 1.629 | Train Acc: 41.48% | Val. Loss: 1.575 | Val. Acc: 46.88% | Val. Precision: 28.906 | Val. Recall: 46.875 | Val. F1-score: 34.798 |\n"
     ]
    },
    {
     "data": {
      "application/vnd.jupyter.widget-view+json": {
       "model_id": "e9d8216096cf43dfa57533b747311f06",
       "version_major": 2,
       "version_minor": 0
      },
      "text/plain": [
       "  0%|          | 0/320 [00:00<?, ?it/s]"
      ]
     },
     "metadata": {},
     "output_type": "display_data"
    },
    {
     "name": "stdout",
     "output_type": "stream",
     "text": [
      "| Epoch: 329 | Train Loss: 1.629 | Train Acc: 41.48% | Val. Loss: 1.575 | Val. Acc: 46.88% | Val. Precision: 28.906 | Val. Recall: 46.875 | Val. F1-score: 34.798 |\n"
     ]
    },
    {
     "data": {
      "application/vnd.jupyter.widget-view+json": {
       "model_id": "19c4f25c6d904d8cae9a6e2cf02c8599",
       "version_major": 2,
       "version_minor": 0
      },
      "text/plain": [
       "  0%|          | 0/320 [00:00<?, ?it/s]"
      ]
     },
     "metadata": {},
     "output_type": "display_data"
    },
    {
     "name": "stdout",
     "output_type": "stream",
     "text": [
      "| Epoch: 330 | Train Loss: 1.632 | Train Acc: 41.17% | Val. Loss: 1.575 | Val. Acc: 46.88% | Val. Precision: 28.906 | Val. Recall: 46.875 | Val. F1-score: 34.798 |\n"
     ]
    },
    {
     "data": {
      "application/vnd.jupyter.widget-view+json": {
       "model_id": "11855ad262d24fa78a9e5c9356201c5b",
       "version_major": 2,
       "version_minor": 0
      },
      "text/plain": [
       "  0%|          | 0/320 [00:00<?, ?it/s]"
      ]
     },
     "metadata": {},
     "output_type": "display_data"
    },
    {
     "name": "stdout",
     "output_type": "stream",
     "text": [
      "| Epoch: 331 | Train Loss: 1.629 | Train Acc: 41.48% | Val. Loss: 1.575 | Val. Acc: 46.88% | Val. Precision: 28.906 | Val. Recall: 46.875 | Val. F1-score: 34.798 |\n"
     ]
    },
    {
     "data": {
      "application/vnd.jupyter.widget-view+json": {
       "model_id": "5ef4dd07e38a417180dc3dcc36b0735e",
       "version_major": 2,
       "version_minor": 0
      },
      "text/plain": [
       "  0%|          | 0/320 [00:00<?, ?it/s]"
      ]
     },
     "metadata": {},
     "output_type": "display_data"
    },
    {
     "name": "stdout",
     "output_type": "stream",
     "text": [
      "| Epoch: 332 | Train Loss: 1.629 | Train Acc: 41.48% | Val. Loss: 1.575 | Val. Acc: 46.88% | Val. Precision: 28.906 | Val. Recall: 46.875 | Val. F1-score: 34.798 |\n"
     ]
    },
    {
     "data": {
      "application/vnd.jupyter.widget-view+json": {
       "model_id": "159f718d494a482c9e46d5b913c1c5c3",
       "version_major": 2,
       "version_minor": 0
      },
      "text/plain": [
       "  0%|          | 0/320 [00:00<?, ?it/s]"
      ]
     },
     "metadata": {},
     "output_type": "display_data"
    },
    {
     "name": "stdout",
     "output_type": "stream",
     "text": [
      "| Epoch: 333 | Train Loss: 1.787 | Train Acc: 25.62% | Val. Loss: 1.575 | Val. Acc: 46.88% | Val. Precision: 28.906 | Val. Recall: 46.875 | Val. F1-score: 34.798 |\n"
     ]
    },
    {
     "data": {
      "application/vnd.jupyter.widget-view+json": {
       "model_id": "e15fd9515f9c417f9d84fda91b7269e7",
       "version_major": 2,
       "version_minor": 0
      },
      "text/plain": [
       "  0%|          | 0/320 [00:00<?, ?it/s]"
      ]
     },
     "metadata": {},
     "output_type": "display_data"
    },
    {
     "name": "stdout",
     "output_type": "stream",
     "text": [
      "| Epoch: 334 | Train Loss: 1.629 | Train Acc: 41.48% | Val. Loss: 1.575 | Val. Acc: 46.88% | Val. Precision: 28.906 | Val. Recall: 46.875 | Val. F1-score: 34.798 |\n"
     ]
    },
    {
     "data": {
      "application/vnd.jupyter.widget-view+json": {
       "model_id": "33788fa779d141abbb96ffe373cdf83f",
       "version_major": 2,
       "version_minor": 0
      },
      "text/plain": [
       "  0%|          | 0/320 [00:00<?, ?it/s]"
      ]
     },
     "metadata": {},
     "output_type": "display_data"
    },
    {
     "name": "stdout",
     "output_type": "stream",
     "text": [
      "| Epoch: 335 | Train Loss: 1.629 | Train Acc: 41.48% | Val. Loss: 1.575 | Val. Acc: 46.88% | Val. Precision: 28.906 | Val. Recall: 46.875 | Val. F1-score: 34.798 |\n"
     ]
    },
    {
     "data": {
      "application/vnd.jupyter.widget-view+json": {
       "model_id": "e13087938b1c4a839a335ff62fb61987",
       "version_major": 2,
       "version_minor": 0
      },
      "text/plain": [
       "  0%|          | 0/320 [00:00<?, ?it/s]"
      ]
     },
     "metadata": {},
     "output_type": "display_data"
    },
    {
     "name": "stdout",
     "output_type": "stream",
     "text": [
      "| Epoch: 336 | Train Loss: 1.629 | Train Acc: 41.48% | Val. Loss: 1.575 | Val. Acc: 46.88% | Val. Precision: 28.906 | Val. Recall: 46.875 | Val. F1-score: 34.798 |\n"
     ]
    },
    {
     "data": {
      "application/vnd.jupyter.widget-view+json": {
       "model_id": "c7db648bb5954e2f95c86cc1396f42e4",
       "version_major": 2,
       "version_minor": 0
      },
      "text/plain": [
       "  0%|          | 0/320 [00:00<?, ?it/s]"
      ]
     },
     "metadata": {},
     "output_type": "display_data"
    },
    {
     "name": "stdout",
     "output_type": "stream",
     "text": [
      "| Epoch: 337 | Train Loss: 1.629 | Train Acc: 41.48% | Val. Loss: 1.575 | Val. Acc: 46.88% | Val. Precision: 28.906 | Val. Recall: 46.875 | Val. F1-score: 34.798 |\n"
     ]
    },
    {
     "data": {
      "application/vnd.jupyter.widget-view+json": {
       "model_id": "eaaf11b48c974e7ca443f4bea0a24803",
       "version_major": 2,
       "version_minor": 0
      },
      "text/plain": [
       "  0%|          | 0/320 [00:00<?, ?it/s]"
      ]
     },
     "metadata": {},
     "output_type": "display_data"
    },
    {
     "name": "stdout",
     "output_type": "stream",
     "text": [
      "| Epoch: 338 | Train Loss: 1.629 | Train Acc: 41.48% | Val. Loss: 1.575 | Val. Acc: 46.88% | Val. Precision: 28.906 | Val. Recall: 46.875 | Val. F1-score: 34.798 |\n"
     ]
    },
    {
     "data": {
      "application/vnd.jupyter.widget-view+json": {
       "model_id": "03451021b63149258465e670b67649c8",
       "version_major": 2,
       "version_minor": 0
      },
      "text/plain": [
       "  0%|          | 0/320 [00:00<?, ?it/s]"
      ]
     },
     "metadata": {},
     "output_type": "display_data"
    },
    {
     "name": "stdout",
     "output_type": "stream",
     "text": [
      "| Epoch: 339 | Train Loss: 1.629 | Train Acc: 41.48% | Val. Loss: 1.575 | Val. Acc: 46.88% | Val. Precision: 28.906 | Val. Recall: 46.875 | Val. F1-score: 34.798 |\n"
     ]
    },
    {
     "data": {
      "application/vnd.jupyter.widget-view+json": {
       "model_id": "3a5c233d78fc43c18008d042966e92bf",
       "version_major": 2,
       "version_minor": 0
      },
      "text/plain": [
       "  0%|          | 0/320 [00:00<?, ?it/s]"
      ]
     },
     "metadata": {},
     "output_type": "display_data"
    },
    {
     "name": "stdout",
     "output_type": "stream",
     "text": [
      "| Epoch: 340 | Train Loss: 1.629 | Train Acc: 41.48% | Val. Loss: 1.575 | Val. Acc: 46.88% | Val. Precision: 28.906 | Val. Recall: 46.875 | Val. F1-score: 34.798 |\n"
     ]
    },
    {
     "data": {
      "application/vnd.jupyter.widget-view+json": {
       "model_id": "4f0bd74468b04b16b03b5b939a92cf03",
       "version_major": 2,
       "version_minor": 0
      },
      "text/plain": [
       "  0%|          | 0/320 [00:00<?, ?it/s]"
      ]
     },
     "metadata": {},
     "output_type": "display_data"
    },
    {
     "name": "stdout",
     "output_type": "stream",
     "text": [
      "| Epoch: 341 | Train Loss: 1.634 | Train Acc: 40.94% | Val. Loss: 1.631 | Val. Acc: 41.25% | Val. Precision: 33.438 | Val. Recall: 41.250 | Val. F1-score: 35.057 |\n"
     ]
    },
    {
     "data": {
      "application/vnd.jupyter.widget-view+json": {
       "model_id": "15bcd5db4e8846399ca6702c4bead514",
       "version_major": 2,
       "version_minor": 0
      },
      "text/plain": [
       "  0%|          | 0/320 [00:00<?, ?it/s]"
      ]
     },
     "metadata": {},
     "output_type": "display_data"
    },
    {
     "name": "stdout",
     "output_type": "stream",
     "text": [
      "| Epoch: 342 | Train Loss: 1.624 | Train Acc: 41.95% | Val. Loss: 1.587 | Val. Acc: 45.62% | Val. Precision: 37.812 | Val. Recall: 45.625 | Val. F1-score: 39.705 |\n"
     ]
    },
    {
     "data": {
      "application/vnd.jupyter.widget-view+json": {
       "model_id": "aca4c7e58c3847a2809bdf0db240621a",
       "version_major": 2,
       "version_minor": 0
      },
      "text/plain": [
       "  0%|          | 0/320 [00:00<?, ?it/s]"
      ]
     },
     "metadata": {},
     "output_type": "display_data"
    },
    {
     "name": "stdout",
     "output_type": "stream",
     "text": [
      "| Epoch: 343 | Train Loss: 1.598 | Train Acc: 44.53% | Val. Loss: 1.581 | Val. Acc: 46.25% | Val. Precision: 32.656 | Val. Recall: 46.250 | Val. F1-score: 37.030 |\n"
     ]
    },
    {
     "data": {
      "application/vnd.jupyter.widget-view+json": {
       "model_id": "71097d4d55b04549b893a02f0f57ab9c",
       "version_major": 2,
       "version_minor": 0
      },
      "text/plain": [
       "  0%|          | 0/320 [00:00<?, ?it/s]"
      ]
     },
     "metadata": {},
     "output_type": "display_data"
    },
    {
     "name": "stdout",
     "output_type": "stream",
     "text": [
      "| Epoch: 344 | Train Loss: 1.628 | Train Acc: 41.56% | Val. Loss: 1.575 | Val. Acc: 46.88% | Val. Precision: 28.906 | Val. Recall: 46.875 | Val. F1-score: 34.798 |\n"
     ]
    },
    {
     "data": {
      "application/vnd.jupyter.widget-view+json": {
       "model_id": "e63dc55c0d2d48cf990df5b18cd5f02e",
       "version_major": 2,
       "version_minor": 0
      },
      "text/plain": [
       "  0%|          | 0/320 [00:00<?, ?it/s]"
      ]
     },
     "metadata": {},
     "output_type": "display_data"
    },
    {
     "name": "stdout",
     "output_type": "stream",
     "text": [
      "| Epoch: 345 | Train Loss: 1.635 | Train Acc: 40.86% | Val. Loss: 1.606 | Val. Acc: 43.75% | Val. Precision: 37.813 | Val. Recall: 43.750 | Val. F1-score: 38.735 |\n"
     ]
    },
    {
     "data": {
      "application/vnd.jupyter.widget-view+json": {
       "model_id": "52f8afcba3c3456385008ae148498565",
       "version_major": 2,
       "version_minor": 0
      },
      "text/plain": [
       "  0%|          | 0/320 [00:00<?, ?it/s]"
      ]
     },
     "metadata": {},
     "output_type": "display_data"
    },
    {
     "name": "stdout",
     "output_type": "stream",
     "text": [
      "| Epoch: 346 | Train Loss: 1.632 | Train Acc: 41.17% | Val. Loss: 1.569 | Val. Acc: 47.50% | Val. Precision: 38.125 | Val. Recall: 47.500 | Val. F1-score: 40.714 |\n"
     ]
    },
    {
     "data": {
      "application/vnd.jupyter.widget-view+json": {
       "model_id": "bb1b5be01f594ec7bf5aed25cce942f1",
       "version_major": 2,
       "version_minor": 0
      },
      "text/plain": [
       "  0%|          | 0/320 [00:00<?, ?it/s]"
      ]
     },
     "metadata": {},
     "output_type": "display_data"
    },
    {
     "name": "stdout",
     "output_type": "stream",
     "text": [
      "| Epoch: 347 | Train Loss: 1.610 | Train Acc: 43.36% | Val. Loss: 1.556 | Val. Acc: 48.75% | Val. Precision: 40.052 | Val. Recall: 48.750 | Val. F1-score: 42.176 |\n"
     ]
    },
    {
     "data": {
      "application/vnd.jupyter.widget-view+json": {
       "model_id": "7fd0ebe5dfbb4ba6a5a291fa05795c07",
       "version_major": 2,
       "version_minor": 0
      },
      "text/plain": [
       "  0%|          | 0/320 [00:00<?, ?it/s]"
      ]
     },
     "metadata": {},
     "output_type": "display_data"
    },
    {
     "name": "stdout",
     "output_type": "stream",
     "text": [
      "| Epoch: 348 | Train Loss: 1.610 | Train Acc: 43.36% | Val. Loss: 1.637 | Val. Acc: 40.62% | Val. Precision: 35.052 | Val. Recall: 40.625 | Val. F1-score: 34.940 |\n"
     ]
    },
    {
     "data": {
      "application/vnd.jupyter.widget-view+json": {
       "model_id": "92441fe428224029a71523a72396fc1b",
       "version_major": 2,
       "version_minor": 0
      },
      "text/plain": [
       "  0%|          | 0/320 [00:00<?, ?it/s]"
      ]
     },
     "metadata": {},
     "output_type": "display_data"
    },
    {
     "name": "stdout",
     "output_type": "stream",
     "text": [
      "| Epoch: 349 | Train Loss: 1.620 | Train Acc: 42.34% | Val. Loss: 1.619 | Val. Acc: 42.50% | Val. Precision: 37.500 | Val. Recall: 42.500 | Val. F1-score: 37.170 |\n"
     ]
    },
    {
     "data": {
      "application/vnd.jupyter.widget-view+json": {
       "model_id": "e09d86614d8043098b525124c44c12ca",
       "version_major": 2,
       "version_minor": 0
      },
      "text/plain": [
       "  0%|          | 0/320 [00:00<?, ?it/s]"
      ]
     },
     "metadata": {},
     "output_type": "display_data"
    },
    {
     "name": "stdout",
     "output_type": "stream",
     "text": [
      "| Epoch: 350 | Train Loss: 1.612 | Train Acc: 43.20% | Val. Loss: 1.569 | Val. Acc: 47.50% | Val. Precision: 35.052 | Val. Recall: 47.500 | Val. F1-score: 39.036 |\n"
     ]
    },
    {
     "data": {
      "application/vnd.jupyter.widget-view+json": {
       "model_id": "dad75f7ccbd947a3be0ef1b8b7489829",
       "version_major": 2,
       "version_minor": 0
      },
      "text/plain": [
       "  0%|          | 0/320 [00:00<?, ?it/s]"
      ]
     },
     "metadata": {},
     "output_type": "display_data"
    },
    {
     "name": "stdout",
     "output_type": "stream",
     "text": [
      "| Epoch: 351 | Train Loss: 1.594 | Train Acc: 44.92% | Val. Loss: 1.575 | Val. Acc: 46.88% | Val. Precision: 38.125 | Val. Recall: 46.875 | Val. F1-score: 40.295 |\n"
     ]
    },
    {
     "data": {
      "application/vnd.jupyter.widget-view+json": {
       "model_id": "850d2ab18aba4e33baac79a159fafa16",
       "version_major": 2,
       "version_minor": 0
      },
      "text/plain": [
       "  0%|          | 0/320 [00:00<?, ?it/s]"
      ]
     },
     "metadata": {},
     "output_type": "display_data"
    },
    {
     "name": "stdout",
     "output_type": "stream",
     "text": [
      "| Epoch: 352 | Train Loss: 1.617 | Train Acc: 42.73% | Val. Loss: 1.575 | Val. Acc: 46.88% | Val. Precision: 28.906 | Val. Recall: 46.875 | Val. F1-score: 34.798 |\n"
     ]
    },
    {
     "data": {
      "application/vnd.jupyter.widget-view+json": {
       "model_id": "8cd2d1e007f747f3bae06b31d73f5f2e",
       "version_major": 2,
       "version_minor": 0
      },
      "text/plain": [
       "  0%|          | 0/320 [00:00<?, ?it/s]"
      ]
     },
     "metadata": {},
     "output_type": "display_data"
    },
    {
     "name": "stdout",
     "output_type": "stream",
     "text": [
      "| Epoch: 353 | Train Loss: 1.629 | Train Acc: 41.48% | Val. Loss: 1.575 | Val. Acc: 46.88% | Val. Precision: 28.906 | Val. Recall: 46.875 | Val. F1-score: 34.798 |\n"
     ]
    },
    {
     "data": {
      "application/vnd.jupyter.widget-view+json": {
       "model_id": "4277427265714f82a9b95ceafe757d25",
       "version_major": 2,
       "version_minor": 0
      },
      "text/plain": [
       "  0%|          | 0/320 [00:00<?, ?it/s]"
      ]
     },
     "metadata": {},
     "output_type": "display_data"
    },
    {
     "name": "stdout",
     "output_type": "stream",
     "text": [
      "| Epoch: 354 | Train Loss: 1.629 | Train Acc: 41.48% | Val. Loss: 1.575 | Val. Acc: 46.88% | Val. Precision: 28.906 | Val. Recall: 46.875 | Val. F1-score: 34.798 |\n"
     ]
    },
    {
     "data": {
      "application/vnd.jupyter.widget-view+json": {
       "model_id": "0d3993c33f5d46de8ff85e39608e42bf",
       "version_major": 2,
       "version_minor": 0
      },
      "text/plain": [
       "  0%|          | 0/320 [00:00<?, ?it/s]"
      ]
     },
     "metadata": {},
     "output_type": "display_data"
    },
    {
     "name": "stdout",
     "output_type": "stream",
     "text": [
      "| Epoch: 355 | Train Loss: 1.629 | Train Acc: 41.48% | Val. Loss: 1.575 | Val. Acc: 46.88% | Val. Precision: 28.906 | Val. Recall: 46.875 | Val. F1-score: 34.798 |\n"
     ]
    },
    {
     "data": {
      "application/vnd.jupyter.widget-view+json": {
       "model_id": "06977792eead408ea56deafb1e02ba66",
       "version_major": 2,
       "version_minor": 0
      },
      "text/plain": [
       "  0%|          | 0/320 [00:00<?, ?it/s]"
      ]
     },
     "metadata": {},
     "output_type": "display_data"
    },
    {
     "name": "stdout",
     "output_type": "stream",
     "text": [
      "| Epoch: 356 | Train Loss: 1.629 | Train Acc: 41.48% | Val. Loss: 1.575 | Val. Acc: 46.88% | Val. Precision: 28.906 | Val. Recall: 46.875 | Val. F1-score: 34.798 |\n"
     ]
    },
    {
     "data": {
      "application/vnd.jupyter.widget-view+json": {
       "model_id": "097d9415b6e242928f5e041c1e5bf17a",
       "version_major": 2,
       "version_minor": 0
      },
      "text/plain": [
       "  0%|          | 0/320 [00:00<?, ?it/s]"
      ]
     },
     "metadata": {},
     "output_type": "display_data"
    },
    {
     "name": "stdout",
     "output_type": "stream",
     "text": [
      "| Epoch: 357 | Train Loss: 1.629 | Train Acc: 41.48% | Val. Loss: 1.575 | Val. Acc: 46.88% | Val. Precision: 28.906 | Val. Recall: 46.875 | Val. F1-score: 34.798 |\n"
     ]
    },
    {
     "data": {
      "application/vnd.jupyter.widget-view+json": {
       "model_id": "681e230f5700445fb15dc74b192ced57",
       "version_major": 2,
       "version_minor": 0
      },
      "text/plain": [
       "  0%|          | 0/320 [00:00<?, ?it/s]"
      ]
     },
     "metadata": {},
     "output_type": "display_data"
    },
    {
     "name": "stdout",
     "output_type": "stream",
     "text": [
      "| Epoch: 358 | Train Loss: 1.629 | Train Acc: 41.41% | Val. Loss: 1.575 | Val. Acc: 46.88% | Val. Precision: 28.906 | Val. Recall: 46.875 | Val. F1-score: 34.798 |\n"
     ]
    },
    {
     "data": {
      "application/vnd.jupyter.widget-view+json": {
       "model_id": "b23d8447d3ac4094908b0f32d3d15776",
       "version_major": 2,
       "version_minor": 0
      },
      "text/plain": [
       "  0%|          | 0/320 [00:00<?, ?it/s]"
      ]
     },
     "metadata": {},
     "output_type": "display_data"
    },
    {
     "name": "stdout",
     "output_type": "stream",
     "text": [
      "| Epoch: 359 | Train Loss: 1.629 | Train Acc: 41.48% | Val. Loss: 1.575 | Val. Acc: 46.88% | Val. Precision: 28.906 | Val. Recall: 46.875 | Val. F1-score: 34.798 |\n"
     ]
    },
    {
     "data": {
      "application/vnd.jupyter.widget-view+json": {
       "model_id": "b1cfa0590f0341f69664bd42b371a2fe",
       "version_major": 2,
       "version_minor": 0
      },
      "text/plain": [
       "  0%|          | 0/320 [00:00<?, ?it/s]"
      ]
     },
     "metadata": {},
     "output_type": "display_data"
    },
    {
     "name": "stdout",
     "output_type": "stream",
     "text": [
      "| Epoch: 360 | Train Loss: 1.629 | Train Acc: 41.48% | Val. Loss: 1.575 | Val. Acc: 46.88% | Val. Precision: 28.906 | Val. Recall: 46.875 | Val. F1-score: 34.798 |\n"
     ]
    },
    {
     "data": {
      "application/vnd.jupyter.widget-view+json": {
       "model_id": "4e32d9b4844c4cd5af8a0ba1c91b135c",
       "version_major": 2,
       "version_minor": 0
      },
      "text/plain": [
       "  0%|          | 0/320 [00:00<?, ?it/s]"
      ]
     },
     "metadata": {},
     "output_type": "display_data"
    },
    {
     "name": "stdout",
     "output_type": "stream",
     "text": [
      "| Epoch: 361 | Train Loss: 1.598 | Train Acc: 44.53% | Val. Loss: 1.481 | Val. Acc: 56.25% | Val. Precision: 59.167 | Val. Recall: 56.250 | Val. F1-score: 52.982 |\n"
     ]
    },
    {
     "data": {
      "application/vnd.jupyter.widget-view+json": {
       "model_id": "7aaf69d7e92c4938be7fa3dd08450503",
       "version_major": 2,
       "version_minor": 0
      },
      "text/plain": [
       "  0%|          | 0/320 [00:00<?, ?it/s]"
      ]
     },
     "metadata": {},
     "output_type": "display_data"
    },
    {
     "name": "stdout",
     "output_type": "stream",
     "text": [
      "| Epoch: 362 | Train Loss: 1.544 | Train Acc: 50.00% | Val. Loss: 1.444 | Val. Acc: 60.00% | Val. Precision: 62.917 | Val. Recall: 60.000 | Val. F1-score: 57.158 |\n"
     ]
    },
    {
     "data": {
      "application/vnd.jupyter.widget-view+json": {
       "model_id": "5ba7ba62631848d2896ef82bfe665333",
       "version_major": 2,
       "version_minor": 0
      },
      "text/plain": [
       "  0%|          | 0/320 [00:00<?, ?it/s]"
      ]
     },
     "metadata": {},
     "output_type": "display_data"
    },
    {
     "name": "stdout",
     "output_type": "stream",
     "text": [
      "| Epoch: 363 | Train Loss: 1.531 | Train Acc: 51.25% | Val. Loss: 1.450 | Val. Acc: 59.38% | Val. Precision: 60.990 | Val. Recall: 59.375 | Val. F1-score: 56.256 |\n"
     ]
    },
    {
     "data": {
      "application/vnd.jupyter.widget-view+json": {
       "model_id": "f73d4fa520394f989cf9d467810f95d2",
       "version_major": 2,
       "version_minor": 0
      },
      "text/plain": [
       "  0%|          | 0/320 [00:00<?, ?it/s]"
      ]
     },
     "metadata": {},
     "output_type": "display_data"
    },
    {
     "name": "stdout",
     "output_type": "stream",
     "text": [
      "| Epoch: 364 | Train Loss: 1.511 | Train Acc: 53.28% | Val. Loss: 1.419 | Val. Acc: 62.50% | Val. Precision: 63.854 | Val. Recall: 62.500 | Val. F1-score: 59.750 |\n"
     ]
    },
    {
     "data": {
      "application/vnd.jupyter.widget-view+json": {
       "model_id": "c62d0d99ec074eacae4bb55e853dbb65",
       "version_major": 2,
       "version_minor": 0
      },
      "text/plain": [
       "  0%|          | 0/320 [00:00<?, ?it/s]"
      ]
     },
     "metadata": {},
     "output_type": "display_data"
    },
    {
     "name": "stdout",
     "output_type": "stream",
     "text": [
      "| Epoch: 365 | Train Loss: 1.525 | Train Acc: 51.88% | Val. Loss: 1.469 | Val. Acc: 57.50% | Val. Precision: 57.448 | Val. Recall: 57.500 | Val. F1-score: 53.384 |\n"
     ]
    },
    {
     "data": {
      "application/vnd.jupyter.widget-view+json": {
       "model_id": "3d2e55037da74e698b5cf261541c3a0e",
       "version_major": 2,
       "version_minor": 0
      },
      "text/plain": [
       "  0%|          | 0/320 [00:00<?, ?it/s]"
      ]
     },
     "metadata": {},
     "output_type": "display_data"
    },
    {
     "name": "stdout",
     "output_type": "stream",
     "text": [
      "| Epoch: 366 | Train Loss: 1.593 | Train Acc: 45.08% | Val. Loss: 1.650 | Val. Acc: 39.38% | Val. Precision: 21.719 | Val. Recall: 39.375 | Val. F1-score: 27.060 |\n"
     ]
    },
    {
     "data": {
      "application/vnd.jupyter.widget-view+json": {
       "model_id": "88891e4ca4fb49bb8c670a436e1afeac",
       "version_major": 2,
       "version_minor": 0
      },
      "text/plain": [
       "  0%|          | 0/320 [00:00<?, ?it/s]"
      ]
     },
     "metadata": {},
     "output_type": "display_data"
    },
    {
     "name": "stdout",
     "output_type": "stream",
     "text": [
      "| Epoch: 367 | Train Loss: 1.641 | Train Acc: 40.23% | Val. Loss: 1.650 | Val. Acc: 39.38% | Val. Precision: 21.719 | Val. Recall: 39.375 | Val. F1-score: 27.060 |\n"
     ]
    },
    {
     "data": {
      "application/vnd.jupyter.widget-view+json": {
       "model_id": "62dbe6efc6fd4b7f97a18d45c8684b66",
       "version_major": 2,
       "version_minor": 0
      },
      "text/plain": [
       "  0%|          | 0/320 [00:00<?, ?it/s]"
      ]
     },
     "metadata": {},
     "output_type": "display_data"
    },
    {
     "name": "stdout",
     "output_type": "stream",
     "text": [
      "| Epoch: 368 | Train Loss: 1.641 | Train Acc: 40.23% | Val. Loss: 1.650 | Val. Acc: 39.38% | Val. Precision: 21.719 | Val. Recall: 39.375 | Val. F1-score: 27.060 |\n"
     ]
    },
    {
     "data": {
      "application/vnd.jupyter.widget-view+json": {
       "model_id": "594d89be811f425abbe72a0c97e6ffc5",
       "version_major": 2,
       "version_minor": 0
      },
      "text/plain": [
       "  0%|          | 0/320 [00:00<?, ?it/s]"
      ]
     },
     "metadata": {},
     "output_type": "display_data"
    },
    {
     "name": "stdout",
     "output_type": "stream",
     "text": [
      "| Epoch: 369 | Train Loss: 1.641 | Train Acc: 40.23% | Val. Loss: 1.650 | Val. Acc: 39.38% | Val. Precision: 21.719 | Val. Recall: 39.375 | Val. F1-score: 27.060 |\n"
     ]
    },
    {
     "data": {
      "application/vnd.jupyter.widget-view+json": {
       "model_id": "c1195260db13451fbf451fe3a7aaaa8d",
       "version_major": 2,
       "version_minor": 0
      },
      "text/plain": [
       "  0%|          | 0/320 [00:00<?, ?it/s]"
      ]
     },
     "metadata": {},
     "output_type": "display_data"
    },
    {
     "name": "stdout",
     "output_type": "stream",
     "text": [
      "| Epoch: 370 | Train Loss: 1.641 | Train Acc: 40.23% | Val. Loss: 1.650 | Val. Acc: 39.38% | Val. Precision: 21.719 | Val. Recall: 39.375 | Val. F1-score: 27.060 |\n"
     ]
    },
    {
     "data": {
      "application/vnd.jupyter.widget-view+json": {
       "model_id": "3c962575fe5d48458a8f608bce60e67e",
       "version_major": 2,
       "version_minor": 0
      },
      "text/plain": [
       "  0%|          | 0/320 [00:00<?, ?it/s]"
      ]
     },
     "metadata": {},
     "output_type": "display_data"
    },
    {
     "name": "stdout",
     "output_type": "stream",
     "text": [
      "| Epoch: 371 | Train Loss: 1.641 | Train Acc: 40.23% | Val. Loss: 1.650 | Val. Acc: 39.38% | Val. Precision: 21.719 | Val. Recall: 39.375 | Val. F1-score: 27.060 |\n"
     ]
    },
    {
     "data": {
      "application/vnd.jupyter.widget-view+json": {
       "model_id": "97c4be1b0eaf48e3a41451f30e97e50f",
       "version_major": 2,
       "version_minor": 0
      },
      "text/plain": [
       "  0%|          | 0/320 [00:00<?, ?it/s]"
      ]
     },
     "metadata": {},
     "output_type": "display_data"
    },
    {
     "name": "stdout",
     "output_type": "stream",
     "text": [
      "| Epoch: 372 | Train Loss: 1.729 | Train Acc: 31.41% | Val. Loss: 1.750 | Val. Acc: 29.38% | Val. Precision: 23.906 | Val. Recall: 29.375 | Val. F1-score: 24.211 |\n"
     ]
    },
    {
     "data": {
      "application/vnd.jupyter.widget-view+json": {
       "model_id": "262ed798926247eda5545391bef13cd1",
       "version_major": 2,
       "version_minor": 0
      },
      "text/plain": [
       "  0%|          | 0/320 [00:00<?, ?it/s]"
      ]
     },
     "metadata": {},
     "output_type": "display_data"
    },
    {
     "name": "stdout",
     "output_type": "stream",
     "text": [
      "| Epoch: 373 | Train Loss: 1.734 | Train Acc: 30.94% | Val. Loss: 1.719 | Val. Acc: 32.50% | Val. Precision: 23.229 | Val. Recall: 32.500 | Val. F1-score: 25.860 |\n"
     ]
    },
    {
     "data": {
      "application/vnd.jupyter.widget-view+json": {
       "model_id": "b86e17e9022446529b9f20fa2c36b0a0",
       "version_major": 2,
       "version_minor": 0
      },
      "text/plain": [
       "  0%|          | 0/320 [00:00<?, ?it/s]"
      ]
     },
     "metadata": {},
     "output_type": "display_data"
    },
    {
     "name": "stdout",
     "output_type": "stream",
     "text": [
      "| Epoch: 374 | Train Loss: 1.675 | Train Acc: 36.88% | Val. Loss: 1.650 | Val. Acc: 39.38% | Val. Precision: 21.719 | Val. Recall: 39.375 | Val. F1-score: 27.060 |\n"
     ]
    },
    {
     "data": {
      "application/vnd.jupyter.widget-view+json": {
       "model_id": "00d27d5dfbc242db91184a4ae850c1d2",
       "version_major": 2,
       "version_minor": 0
      },
      "text/plain": [
       "  0%|          | 0/320 [00:00<?, ?it/s]"
      ]
     },
     "metadata": {},
     "output_type": "display_data"
    },
    {
     "name": "stdout",
     "output_type": "stream",
     "text": [
      "| Epoch: 375 | Train Loss: 1.641 | Train Acc: 40.23% | Val. Loss: 1.650 | Val. Acc: 39.38% | Val. Precision: 21.719 | Val. Recall: 39.375 | Val. F1-score: 27.060 |\n"
     ]
    },
    {
     "data": {
      "application/vnd.jupyter.widget-view+json": {
       "model_id": "1ac2bb542e0f44519575b5c4c04da3fc",
       "version_major": 2,
       "version_minor": 0
      },
      "text/plain": [
       "  0%|          | 0/320 [00:00<?, ?it/s]"
      ]
     },
     "metadata": {},
     "output_type": "display_data"
    },
    {
     "name": "stdout",
     "output_type": "stream",
     "text": [
      "| Epoch: 376 | Train Loss: 1.641 | Train Acc: 40.23% | Val. Loss: 1.650 | Val. Acc: 39.38% | Val. Precision: 21.719 | Val. Recall: 39.375 | Val. F1-score: 27.060 |\n"
     ]
    },
    {
     "data": {
      "application/vnd.jupyter.widget-view+json": {
       "model_id": "279720fc5d0e48a0a7485c3fae2389be",
       "version_major": 2,
       "version_minor": 0
      },
      "text/plain": [
       "  0%|          | 0/320 [00:00<?, ?it/s]"
      ]
     },
     "metadata": {},
     "output_type": "display_data"
    },
    {
     "name": "stdout",
     "output_type": "stream",
     "text": [
      "| Epoch: 377 | Train Loss: 1.641 | Train Acc: 40.23% | Val. Loss: 1.650 | Val. Acc: 39.38% | Val. Precision: 21.719 | Val. Recall: 39.375 | Val. F1-score: 27.060 |\n"
     ]
    },
    {
     "data": {
      "application/vnd.jupyter.widget-view+json": {
       "model_id": "04b9d7bb4dc14c869b0654d1bc02959c",
       "version_major": 2,
       "version_minor": 0
      },
      "text/plain": [
       "  0%|          | 0/320 [00:00<?, ?it/s]"
      ]
     },
     "metadata": {},
     "output_type": "display_data"
    },
    {
     "name": "stdout",
     "output_type": "stream",
     "text": [
      "| Epoch: 378 | Train Loss: 1.641 | Train Acc: 40.23% | Val. Loss: 1.650 | Val. Acc: 39.38% | Val. Precision: 21.719 | Val. Recall: 39.375 | Val. F1-score: 27.060 |\n"
     ]
    },
    {
     "data": {
      "application/vnd.jupyter.widget-view+json": {
       "model_id": "bf4a311a565349b3a5d4fba46fccdf34",
       "version_major": 2,
       "version_minor": 0
      },
      "text/plain": [
       "  0%|          | 0/320 [00:00<?, ?it/s]"
      ]
     },
     "metadata": {},
     "output_type": "display_data"
    },
    {
     "name": "stdout",
     "output_type": "stream",
     "text": [
      "| Epoch: 379 | Train Loss: 1.644 | Train Acc: 39.92% | Val. Loss: 1.650 | Val. Acc: 39.38% | Val. Precision: 21.719 | Val. Recall: 39.375 | Val. F1-score: 27.060 |\n"
     ]
    },
    {
     "data": {
      "application/vnd.jupyter.widget-view+json": {
       "model_id": "987fa3cdd9ff44408b87ae961db14604",
       "version_major": 2,
       "version_minor": 0
      },
      "text/plain": [
       "  0%|          | 0/320 [00:00<?, ?it/s]"
      ]
     },
     "metadata": {},
     "output_type": "display_data"
    },
    {
     "name": "stdout",
     "output_type": "stream",
     "text": [
      "| Epoch: 380 | Train Loss: 1.641 | Train Acc: 40.23% | Val. Loss: 1.650 | Val. Acc: 39.38% | Val. Precision: 21.719 | Val. Recall: 39.375 | Val. F1-score: 27.060 |\n"
     ]
    },
    {
     "data": {
      "application/vnd.jupyter.widget-view+json": {
       "model_id": "608a762d782341bd9955bd7519313c6c",
       "version_major": 2,
       "version_minor": 0
      },
      "text/plain": [
       "  0%|          | 0/320 [00:00<?, ?it/s]"
      ]
     },
     "metadata": {},
     "output_type": "display_data"
    },
    {
     "name": "stdout",
     "output_type": "stream",
     "text": [
      "| Epoch: 381 | Train Loss: 1.641 | Train Acc: 40.23% | Val. Loss: 1.650 | Val. Acc: 39.38% | Val. Precision: 21.719 | Val. Recall: 39.375 | Val. F1-score: 27.060 |\n"
     ]
    },
    {
     "data": {
      "application/vnd.jupyter.widget-view+json": {
       "model_id": "9f7d680330484d9cad83ae83f304889e",
       "version_major": 2,
       "version_minor": 0
      },
      "text/plain": [
       "  0%|          | 0/320 [00:00<?, ?it/s]"
      ]
     },
     "metadata": {},
     "output_type": "display_data"
    },
    {
     "name": "stdout",
     "output_type": "stream",
     "text": [
      "| Epoch: 382 | Train Loss: 1.646 | Train Acc: 39.77% | Val. Loss: 1.662 | Val. Acc: 38.12% | Val. Precision: 23.021 | Val. Recall: 38.125 | Val. F1-score: 27.827 |\n"
     ]
    },
    {
     "data": {
      "application/vnd.jupyter.widget-view+json": {
       "model_id": "b4879ca5bd494c88a7aea4abbcbbf497",
       "version_major": 2,
       "version_minor": 0
      },
      "text/plain": [
       "  0%|          | 0/320 [00:00<?, ?it/s]"
      ]
     },
     "metadata": {},
     "output_type": "display_data"
    },
    {
     "name": "stdout",
     "output_type": "stream",
     "text": [
      "| Epoch: 383 | Train Loss: 1.643 | Train Acc: 40.08% | Val. Loss: 1.650 | Val. Acc: 39.38% | Val. Precision: 21.719 | Val. Recall: 39.375 | Val. F1-score: 27.060 |\n"
     ]
    },
    {
     "data": {
      "application/vnd.jupyter.widget-view+json": {
       "model_id": "2b0a78af3c0c4a569f53f1cb540c6a25",
       "version_major": 2,
       "version_minor": 0
      },
      "text/plain": [
       "  0%|          | 0/320 [00:00<?, ?it/s]"
      ]
     },
     "metadata": {},
     "output_type": "display_data"
    },
    {
     "name": "stdout",
     "output_type": "stream",
     "text": [
      "| Epoch: 384 | Train Loss: 1.641 | Train Acc: 40.23% | Val. Loss: 1.650 | Val. Acc: 39.38% | Val. Precision: 21.719 | Val. Recall: 39.375 | Val. F1-score: 27.060 |\n"
     ]
    },
    {
     "data": {
      "application/vnd.jupyter.widget-view+json": {
       "model_id": "c37051ccb00542bfb1ac1c17065163af",
       "version_major": 2,
       "version_minor": 0
      },
      "text/plain": [
       "  0%|          | 0/320 [00:00<?, ?it/s]"
      ]
     },
     "metadata": {},
     "output_type": "display_data"
    },
    {
     "name": "stdout",
     "output_type": "stream",
     "text": [
      "| Epoch: 385 | Train Loss: 1.641 | Train Acc: 40.23% | Val. Loss: 1.650 | Val. Acc: 39.38% | Val. Precision: 21.719 | Val. Recall: 39.375 | Val. F1-score: 27.060 |\n"
     ]
    },
    {
     "data": {
      "application/vnd.jupyter.widget-view+json": {
       "model_id": "7a8563eb45074f73b9144646e910b033",
       "version_major": 2,
       "version_minor": 0
      },
      "text/plain": [
       "  0%|          | 0/320 [00:00<?, ?it/s]"
      ]
     },
     "metadata": {},
     "output_type": "display_data"
    },
    {
     "name": "stdout",
     "output_type": "stream",
     "text": [
      "| Epoch: 386 | Train Loss: 1.597 | Train Acc: 44.69% | Val. Loss: 1.575 | Val. Acc: 46.88% | Val. Precision: 28.906 | Val. Recall: 46.875 | Val. F1-score: 34.798 |\n"
     ]
    },
    {
     "data": {
      "application/vnd.jupyter.widget-view+json": {
       "model_id": "ca84f67dd02546ebb14f0cd43b36a8d4",
       "version_major": 2,
       "version_minor": 0
      },
      "text/plain": [
       "  0%|          | 0/320 [00:00<?, ?it/s]"
      ]
     },
     "metadata": {},
     "output_type": "display_data"
    },
    {
     "name": "stdout",
     "output_type": "stream",
     "text": [
      "| Epoch: 387 | Train Loss: 1.629 | Train Acc: 41.48% | Val. Loss: 1.575 | Val. Acc: 46.88% | Val. Precision: 28.906 | Val. Recall: 46.875 | Val. F1-score: 34.798 |\n"
     ]
    },
    {
     "data": {
      "application/vnd.jupyter.widget-view+json": {
       "model_id": "213a10f0eea241a0b18f1ff4c362fd60",
       "version_major": 2,
       "version_minor": 0
      },
      "text/plain": [
       "  0%|          | 0/320 [00:00<?, ?it/s]"
      ]
     },
     "metadata": {},
     "output_type": "display_data"
    },
    {
     "name": "stdout",
     "output_type": "stream",
     "text": [
      "| Epoch: 388 | Train Loss: 1.629 | Train Acc: 41.48% | Val. Loss: 1.575 | Val. Acc: 46.88% | Val. Precision: 28.906 | Val. Recall: 46.875 | Val. F1-score: 34.798 |\n"
     ]
    },
    {
     "data": {
      "application/vnd.jupyter.widget-view+json": {
       "model_id": "e2dfd2cb0b36479ab66cda902a8185eb",
       "version_major": 2,
       "version_minor": 0
      },
      "text/plain": [
       "  0%|          | 0/320 [00:00<?, ?it/s]"
      ]
     },
     "metadata": {},
     "output_type": "display_data"
    },
    {
     "name": "stdout",
     "output_type": "stream",
     "text": [
      "| Epoch: 389 | Train Loss: 1.629 | Train Acc: 41.48% | Val. Loss: 1.575 | Val. Acc: 46.88% | Val. Precision: 28.906 | Val. Recall: 46.875 | Val. F1-score: 34.798 |\n"
     ]
    },
    {
     "data": {
      "application/vnd.jupyter.widget-view+json": {
       "model_id": "aac9a8816b174644953e04b52f39c5dc",
       "version_major": 2,
       "version_minor": 0
      },
      "text/plain": [
       "  0%|          | 0/320 [00:00<?, ?it/s]"
      ]
     },
     "metadata": {},
     "output_type": "display_data"
    },
    {
     "name": "stdout",
     "output_type": "stream",
     "text": [
      "| Epoch: 390 | Train Loss: 1.629 | Train Acc: 41.48% | Val. Loss: 1.575 | Val. Acc: 46.88% | Val. Precision: 28.906 | Val. Recall: 46.875 | Val. F1-score: 34.798 |\n"
     ]
    },
    {
     "data": {
      "application/vnd.jupyter.widget-view+json": {
       "model_id": "66298245cc7048a0b09a0fdd23cef830",
       "version_major": 2,
       "version_minor": 0
      },
      "text/plain": [
       "  0%|          | 0/320 [00:00<?, ?it/s]"
      ]
     },
     "metadata": {},
     "output_type": "display_data"
    },
    {
     "name": "stdout",
     "output_type": "stream",
     "text": [
      "| Epoch: 391 | Train Loss: 1.629 | Train Acc: 41.48% | Val. Loss: 1.575 | Val. Acc: 46.88% | Val. Precision: 28.906 | Val. Recall: 46.875 | Val. F1-score: 34.798 |\n"
     ]
    },
    {
     "data": {
      "application/vnd.jupyter.widget-view+json": {
       "model_id": "6e2f7575bea64ae3b466796c990eef95",
       "version_major": 2,
       "version_minor": 0
      },
      "text/plain": [
       "  0%|          | 0/320 [00:00<?, ?it/s]"
      ]
     },
     "metadata": {},
     "output_type": "display_data"
    },
    {
     "name": "stdout",
     "output_type": "stream",
     "text": [
      "| Epoch: 392 | Train Loss: 1.726 | Train Acc: 31.72% | Val. Loss: 1.844 | Val. Acc: 20.00% | Val. Precision: 27.240 | Val. Recall: 20.000 | Val. F1-score: 20.479 |\n"
     ]
    },
    {
     "data": {
      "application/vnd.jupyter.widget-view+json": {
       "model_id": "3d965918bc144c578665ff12473f214a",
       "version_major": 2,
       "version_minor": 0
      },
      "text/plain": [
       "  0%|          | 0/320 [00:00<?, ?it/s]"
      ]
     },
     "metadata": {},
     "output_type": "display_data"
    },
    {
     "name": "stdout",
     "output_type": "stream",
     "text": [
      "| Epoch: 393 | Train Loss: 1.797 | Train Acc: 24.61% | Val. Loss: 1.625 | Val. Acc: 41.88% | Val. Precision: 38.229 | Val. Recall: 41.875 | Val. F1-score: 38.670 |\n"
     ]
    },
    {
     "data": {
      "application/vnd.jupyter.widget-view+json": {
       "model_id": "75c39bc90cf84ed2a7d18f9f4aadd0a2",
       "version_major": 2,
       "version_minor": 0
      },
      "text/plain": [
       "  0%|          | 0/320 [00:00<?, ?it/s]"
      ]
     },
     "metadata": {},
     "output_type": "display_data"
    },
    {
     "name": "stdout",
     "output_type": "stream",
     "text": [
      "| Epoch: 394 | Train Loss: 1.673 | Train Acc: 37.03% | Val. Loss: 1.676 | Val. Acc: 36.88% | Val. Precision: 34.323 | Val. Recall: 36.875 | Val. F1-score: 33.149 |\n"
     ]
    },
    {
     "data": {
      "application/vnd.jupyter.widget-view+json": {
       "model_id": "2138d3e3a2924aaab68102d3215fb6bc",
       "version_major": 2,
       "version_minor": 0
      },
      "text/plain": [
       "  0%|          | 0/320 [00:00<?, ?it/s]"
      ]
     },
     "metadata": {},
     "output_type": "display_data"
    },
    {
     "name": "stdout",
     "output_type": "stream",
     "text": [
      "| Epoch: 395 | Train Loss: 1.726 | Train Acc: 31.80% | Val. Loss: 1.769 | Val. Acc: 27.50% | Val. Precision: 31.823 | Val. Recall: 27.500 | Val. F1-score: 27.437 |\n"
     ]
    },
    {
     "data": {
      "application/vnd.jupyter.widget-view+json": {
       "model_id": "681cdfbefac3491496381b0c89ba2dc8",
       "version_major": 2,
       "version_minor": 0
      },
      "text/plain": [
       "  0%|          | 0/320 [00:00<?, ?it/s]"
      ]
     },
     "metadata": {},
     "output_type": "display_data"
    },
    {
     "name": "stdout",
     "output_type": "stream",
     "text": [
      "| Epoch: 396 | Train Loss: 1.682 | Train Acc: 36.17% | Val. Loss: 1.600 | Val. Acc: 44.38% | Val. Precision: 36.406 | Val. Recall: 44.375 | Val. F1-score: 38.658 |\n"
     ]
    },
    {
     "data": {
      "application/vnd.jupyter.widget-view+json": {
       "model_id": "e3505407f75049cda3434174b0a32fe6",
       "version_major": 2,
       "version_minor": 0
      },
      "text/plain": [
       "  0%|          | 0/320 [00:00<?, ?it/s]"
      ]
     },
     "metadata": {},
     "output_type": "display_data"
    },
    {
     "name": "stdout",
     "output_type": "stream",
     "text": [
      "| Epoch: 397 | Train Loss: 1.678 | Train Acc: 36.56% | Val. Loss: 1.587 | Val. Acc: 45.62% | Val. Precision: 33.385 | Val. Recall: 45.625 | Val. F1-score: 37.429 |\n"
     ]
    },
    {
     "data": {
      "application/vnd.jupyter.widget-view+json": {
       "model_id": "fd623dd69e5b4f75b05d62efab1e9348",
       "version_major": 2,
       "version_minor": 0
      },
      "text/plain": [
       "  0%|          | 0/320 [00:00<?, ?it/s]"
      ]
     },
     "metadata": {},
     "output_type": "display_data"
    },
    {
     "name": "stdout",
     "output_type": "stream",
     "text": [
      "| Epoch: 398 | Train Loss: 1.659 | Train Acc: 38.44% | Val. Loss: 1.575 | Val. Acc: 46.88% | Val. Precision: 28.906 | Val. Recall: 46.875 | Val. F1-score: 34.798 |\n"
     ]
    },
    {
     "data": {
      "application/vnd.jupyter.widget-view+json": {
       "model_id": "ad64a742acd7416f8d562d7daa4de36d",
       "version_major": 2,
       "version_minor": 0
      },
      "text/plain": [
       "  0%|          | 0/320 [00:00<?, ?it/s]"
      ]
     },
     "metadata": {},
     "output_type": "display_data"
    },
    {
     "name": "stdout",
     "output_type": "stream",
     "text": [
      "| Epoch: 399 | Train Loss: 1.629 | Train Acc: 41.48% | Val. Loss: 1.575 | Val. Acc: 46.88% | Val. Precision: 28.906 | Val. Recall: 46.875 | Val. F1-score: 34.798 |\n"
     ]
    },
    {
     "data": {
      "application/vnd.jupyter.widget-view+json": {
       "model_id": "6a238c0f1cdf4278b6683c28ad451c23",
       "version_major": 2,
       "version_minor": 0
      },
      "text/plain": [
       "  0%|          | 0/320 [00:00<?, ?it/s]"
      ]
     },
     "metadata": {},
     "output_type": "display_data"
    },
    {
     "name": "stdout",
     "output_type": "stream",
     "text": [
      "| Epoch: 400 | Train Loss: 1.629 | Train Acc: 41.48% | Val. Loss: 1.575 | Val. Acc: 46.88% | Val. Precision: 28.906 | Val. Recall: 46.875 | Val. F1-score: 34.798 |\n"
     ]
    },
    {
     "data": {
      "application/vnd.jupyter.widget-view+json": {
       "model_id": "f063c4713fcb4355ade4d30b55ac2d7c",
       "version_major": 2,
       "version_minor": 0
      },
      "text/plain": [
       "  0%|          | 0/320 [00:00<?, ?it/s]"
      ]
     },
     "metadata": {},
     "output_type": "display_data"
    },
    {
     "name": "stdout",
     "output_type": "stream",
     "text": [
      "| Epoch: 401 | Train Loss: 1.629 | Train Acc: 41.48% | Val. Loss: 1.575 | Val. Acc: 46.88% | Val. Precision: 28.906 | Val. Recall: 46.875 | Val. F1-score: 34.798 |\n"
     ]
    },
    {
     "data": {
      "application/vnd.jupyter.widget-view+json": {
       "model_id": "010155f0dcd640a380e21d9de4fb421d",
       "version_major": 2,
       "version_minor": 0
      },
      "text/plain": [
       "  0%|          | 0/320 [00:00<?, ?it/s]"
      ]
     },
     "metadata": {},
     "output_type": "display_data"
    },
    {
     "name": "stdout",
     "output_type": "stream",
     "text": [
      "| Epoch: 402 | Train Loss: 1.629 | Train Acc: 41.48% | Val. Loss: 1.575 | Val. Acc: 46.88% | Val. Precision: 28.906 | Val. Recall: 46.875 | Val. F1-score: 34.798 |\n"
     ]
    },
    {
     "data": {
      "application/vnd.jupyter.widget-view+json": {
       "model_id": "be28d89e75804692b936bb281927c5c9",
       "version_major": 2,
       "version_minor": 0
      },
      "text/plain": [
       "  0%|          | 0/320 [00:00<?, ?it/s]"
      ]
     },
     "metadata": {},
     "output_type": "display_data"
    },
    {
     "name": "stdout",
     "output_type": "stream",
     "text": [
      "| Epoch: 403 | Train Loss: 1.630 | Train Acc: 41.41% | Val. Loss: 1.575 | Val. Acc: 46.88% | Val. Precision: 28.906 | Val. Recall: 46.875 | Val. F1-score: 34.798 |\n"
     ]
    },
    {
     "data": {
      "application/vnd.jupyter.widget-view+json": {
       "model_id": "d6c6874c40364b03b2fedb251ed3ad12",
       "version_major": 2,
       "version_minor": 0
      },
      "text/plain": [
       "  0%|          | 0/320 [00:00<?, ?it/s]"
      ]
     },
     "metadata": {},
     "output_type": "display_data"
    },
    {
     "name": "stdout",
     "output_type": "stream",
     "text": [
      "| Epoch: 404 | Train Loss: 1.629 | Train Acc: 41.48% | Val. Loss: 1.575 | Val. Acc: 46.88% | Val. Precision: 28.906 | Val. Recall: 46.875 | Val. F1-score: 34.798 |\n"
     ]
    },
    {
     "data": {
      "application/vnd.jupyter.widget-view+json": {
       "model_id": "a203fd01cd114b5084fc79615cac12c3",
       "version_major": 2,
       "version_minor": 0
      },
      "text/plain": [
       "  0%|          | 0/320 [00:00<?, ?it/s]"
      ]
     },
     "metadata": {},
     "output_type": "display_data"
    },
    {
     "name": "stdout",
     "output_type": "stream",
     "text": [
      "| Epoch: 405 | Train Loss: 1.629 | Train Acc: 41.48% | Val. Loss: 1.575 | Val. Acc: 46.88% | Val. Precision: 28.906 | Val. Recall: 46.875 | Val. F1-score: 34.798 |\n"
     ]
    },
    {
     "data": {
      "application/vnd.jupyter.widget-view+json": {
       "model_id": "21430223d1db44c78c81d0539c66dc13",
       "version_major": 2,
       "version_minor": 0
      },
      "text/plain": [
       "  0%|          | 0/320 [00:00<?, ?it/s]"
      ]
     },
     "metadata": {},
     "output_type": "display_data"
    },
    {
     "name": "stdout",
     "output_type": "stream",
     "text": [
      "| Epoch: 406 | Train Loss: 1.629 | Train Acc: 41.48% | Val. Loss: 1.575 | Val. Acc: 46.88% | Val. Precision: 28.906 | Val. Recall: 46.875 | Val. F1-score: 34.798 |\n"
     ]
    },
    {
     "data": {
      "application/vnd.jupyter.widget-view+json": {
       "model_id": "7d5f4cbf6f7d408f8bdffcb9361f3652",
       "version_major": 2,
       "version_minor": 0
      },
      "text/plain": [
       "  0%|          | 0/320 [00:00<?, ?it/s]"
      ]
     },
     "metadata": {},
     "output_type": "display_data"
    },
    {
     "name": "stdout",
     "output_type": "stream",
     "text": [
      "| Epoch: 407 | Train Loss: 1.641 | Train Acc: 40.23% | Val. Loss: 1.650 | Val. Acc: 39.38% | Val. Precision: 21.719 | Val. Recall: 39.375 | Val. F1-score: 27.060 |\n"
     ]
    },
    {
     "data": {
      "application/vnd.jupyter.widget-view+json": {
       "model_id": "d4f93d2be55141acb363c47289c2b175",
       "version_major": 2,
       "version_minor": 0
      },
      "text/plain": [
       "  0%|          | 0/320 [00:00<?, ?it/s]"
      ]
     },
     "metadata": {},
     "output_type": "display_data"
    },
    {
     "name": "stdout",
     "output_type": "stream",
     "text": [
      "| Epoch: 408 | Train Loss: 1.641 | Train Acc: 40.23% | Val. Loss: 1.650 | Val. Acc: 39.38% | Val. Precision: 21.719 | Val. Recall: 39.375 | Val. F1-score: 27.060 |\n"
     ]
    },
    {
     "data": {
      "application/vnd.jupyter.widget-view+json": {
       "model_id": "9fdc916033e04c998daf32d8140aba7f",
       "version_major": 2,
       "version_minor": 0
      },
      "text/plain": [
       "  0%|          | 0/320 [00:00<?, ?it/s]"
      ]
     },
     "metadata": {},
     "output_type": "display_data"
    },
    {
     "name": "stdout",
     "output_type": "stream",
     "text": [
      "| Epoch: 409 | Train Loss: 1.698 | Train Acc: 34.53% | Val. Loss: 1.775 | Val. Acc: 26.88% | Val. Precision: 22.969 | Val. Recall: 26.875 | Val. F1-score: 23.312 |\n"
     ]
    },
    {
     "data": {
      "application/vnd.jupyter.widget-view+json": {
       "model_id": "95b40e31c1014adb8a2cdbbb06236665",
       "version_major": 2,
       "version_minor": 0
      },
      "text/plain": [
       "  0%|          | 0/320 [00:00<?, ?it/s]"
      ]
     },
     "metadata": {},
     "output_type": "display_data"
    },
    {
     "name": "stdout",
     "output_type": "stream",
     "text": [
      "| Epoch: 410 | Train Loss: 1.841 | Train Acc: 20.23% | Val. Loss: 1.831 | Val. Acc: 21.25% | Val. Precision: 20.417 | Val. Recall: 21.250 | Val. F1-score: 18.979 |\n"
     ]
    },
    {
     "data": {
      "application/vnd.jupyter.widget-view+json": {
       "model_id": "7dc6d8d9a9944324b19545c84cf84e52",
       "version_major": 2,
       "version_minor": 0
      },
      "text/plain": [
       "  0%|          | 0/320 [00:00<?, ?it/s]"
      ]
     },
     "metadata": {},
     "output_type": "display_data"
    },
    {
     "name": "stdout",
     "output_type": "stream",
     "text": [
      "| Epoch: 411 | Train Loss: 1.713 | Train Acc: 33.05% | Val. Loss: 1.650 | Val. Acc: 39.38% | Val. Precision: 21.719 | Val. Recall: 39.375 | Val. F1-score: 27.060 |\n"
     ]
    },
    {
     "data": {
      "application/vnd.jupyter.widget-view+json": {
       "model_id": "05b4dcb31fc24690914b1621821c2604",
       "version_major": 2,
       "version_minor": 0
      },
      "text/plain": [
       "  0%|          | 0/320 [00:00<?, ?it/s]"
      ]
     },
     "metadata": {},
     "output_type": "display_data"
    },
    {
     "name": "stdout",
     "output_type": "stream",
     "text": [
      "| Epoch: 412 | Train Loss: 1.641 | Train Acc: 40.23% | Val. Loss: 1.650 | Val. Acc: 39.38% | Val. Precision: 21.719 | Val. Recall: 39.375 | Val. F1-score: 27.060 |\n"
     ]
    },
    {
     "data": {
      "application/vnd.jupyter.widget-view+json": {
       "model_id": "e61f9e95e3644be1a69109d15b9e0204",
       "version_major": 2,
       "version_minor": 0
      },
      "text/plain": [
       "  0%|          | 0/320 [00:00<?, ?it/s]"
      ]
     },
     "metadata": {},
     "output_type": "display_data"
    },
    {
     "name": "stdout",
     "output_type": "stream",
     "text": [
      "| Epoch: 413 | Train Loss: 1.641 | Train Acc: 40.23% | Val. Loss: 1.650 | Val. Acc: 39.38% | Val. Precision: 21.719 | Val. Recall: 39.375 | Val. F1-score: 27.060 |\n"
     ]
    },
    {
     "data": {
      "application/vnd.jupyter.widget-view+json": {
       "model_id": "6b60dded40f04963b795ad2171dda777",
       "version_major": 2,
       "version_minor": 0
      },
      "text/plain": [
       "  0%|          | 0/320 [00:00<?, ?it/s]"
      ]
     },
     "metadata": {},
     "output_type": "display_data"
    },
    {
     "name": "stdout",
     "output_type": "stream",
     "text": [
      "| Epoch: 414 | Train Loss: 1.641 | Train Acc: 40.23% | Val. Loss: 1.650 | Val. Acc: 39.38% | Val. Precision: 21.719 | Val. Recall: 39.375 | Val. F1-score: 27.060 |\n"
     ]
    },
    {
     "data": {
      "application/vnd.jupyter.widget-view+json": {
       "model_id": "bb4a89c14c8b4c34907a0e4444fb2746",
       "version_major": 2,
       "version_minor": 0
      },
      "text/plain": [
       "  0%|          | 0/320 [00:00<?, ?it/s]"
      ]
     },
     "metadata": {},
     "output_type": "display_data"
    },
    {
     "name": "stdout",
     "output_type": "stream",
     "text": [
      "| Epoch: 415 | Train Loss: 1.641 | Train Acc: 40.23% | Val. Loss: 1.650 | Val. Acc: 39.38% | Val. Precision: 21.719 | Val. Recall: 39.375 | Val. F1-score: 27.060 |\n"
     ]
    },
    {
     "data": {
      "application/vnd.jupyter.widget-view+json": {
       "model_id": "1e972e2bbd9e4c36b178f15c7224c54d",
       "version_major": 2,
       "version_minor": 0
      },
      "text/plain": [
       "  0%|          | 0/320 [00:00<?, ?it/s]"
      ]
     },
     "metadata": {},
     "output_type": "display_data"
    },
    {
     "name": "stdout",
     "output_type": "stream",
     "text": [
      "| Epoch: 416 | Train Loss: 1.641 | Train Acc: 40.23% | Val. Loss: 1.650 | Val. Acc: 39.38% | Val. Precision: 21.719 | Val. Recall: 39.375 | Val. F1-score: 27.060 |\n"
     ]
    },
    {
     "data": {
      "application/vnd.jupyter.widget-view+json": {
       "model_id": "0949b1d77fa249ddab21ca7a08402a4d",
       "version_major": 2,
       "version_minor": 0
      },
      "text/plain": [
       "  0%|          | 0/320 [00:00<?, ?it/s]"
      ]
     },
     "metadata": {},
     "output_type": "display_data"
    },
    {
     "name": "stdout",
     "output_type": "stream",
     "text": [
      "| Epoch: 417 | Train Loss: 1.661 | Train Acc: 38.28% | Val. Loss: 1.650 | Val. Acc: 39.38% | Val. Precision: 21.719 | Val. Recall: 39.375 | Val. F1-score: 27.060 |\n"
     ]
    },
    {
     "data": {
      "application/vnd.jupyter.widget-view+json": {
       "model_id": "b1f018618ba94ee6a7c160008d790815",
       "version_major": 2,
       "version_minor": 0
      },
      "text/plain": [
       "  0%|          | 0/320 [00:00<?, ?it/s]"
      ]
     },
     "metadata": {},
     "output_type": "display_data"
    },
    {
     "name": "stdout",
     "output_type": "stream",
     "text": [
      "| Epoch: 418 | Train Loss: 1.641 | Train Acc: 40.23% | Val. Loss: 1.650 | Val. Acc: 39.38% | Val. Precision: 21.719 | Val. Recall: 39.375 | Val. F1-score: 27.060 |\n"
     ]
    },
    {
     "data": {
      "application/vnd.jupyter.widget-view+json": {
       "model_id": "c3bdc20ef28448c68ab3acb223d13c7c",
       "version_major": 2,
       "version_minor": 0
      },
      "text/plain": [
       "  0%|          | 0/320 [00:00<?, ?it/s]"
      ]
     },
     "metadata": {},
     "output_type": "display_data"
    },
    {
     "name": "stdout",
     "output_type": "stream",
     "text": [
      "| Epoch: 419 | Train Loss: 1.641 | Train Acc: 40.23% | Val. Loss: 1.650 | Val. Acc: 39.38% | Val. Precision: 21.719 | Val. Recall: 39.375 | Val. F1-score: 27.060 |\n"
     ]
    },
    {
     "data": {
      "application/vnd.jupyter.widget-view+json": {
       "model_id": "cfa63f495cef4e02a7427950f96d0693",
       "version_major": 2,
       "version_minor": 0
      },
      "text/plain": [
       "  0%|          | 0/320 [00:00<?, ?it/s]"
      ]
     },
     "metadata": {},
     "output_type": "display_data"
    },
    {
     "name": "stdout",
     "output_type": "stream",
     "text": [
      "| Epoch: 420 | Train Loss: 1.641 | Train Acc: 40.23% | Val. Loss: 1.650 | Val. Acc: 39.38% | Val. Precision: 21.719 | Val. Recall: 39.375 | Val. F1-score: 27.060 |\n"
     ]
    },
    {
     "data": {
      "application/vnd.jupyter.widget-view+json": {
       "model_id": "9db494a113bd49459231d558a9ac35e1",
       "version_major": 2,
       "version_minor": 0
      },
      "text/plain": [
       "  0%|          | 0/320 [00:00<?, ?it/s]"
      ]
     },
     "metadata": {},
     "output_type": "display_data"
    },
    {
     "name": "stdout",
     "output_type": "stream",
     "text": [
      "| Epoch: 421 | Train Loss: 1.641 | Train Acc: 40.23% | Val. Loss: 1.650 | Val. Acc: 39.38% | Val. Precision: 21.719 | Val. Recall: 39.375 | Val. F1-score: 27.060 |\n"
     ]
    },
    {
     "data": {
      "application/vnd.jupyter.widget-view+json": {
       "model_id": "502e1ca375bc498193a42dc653909b89",
       "version_major": 2,
       "version_minor": 0
      },
      "text/plain": [
       "  0%|          | 0/320 [00:00<?, ?it/s]"
      ]
     },
     "metadata": {},
     "output_type": "display_data"
    },
    {
     "name": "stdout",
     "output_type": "stream",
     "text": [
      "| Epoch: 422 | Train Loss: 1.816 | Train Acc: 22.73% | Val. Loss: 1.962 | Val. Acc: 8.12% | Val. Precision: 2.344 | Val. Recall: 8.125 | Val. F1-score: 3.583 |\n"
     ]
    },
    {
     "data": {
      "application/vnd.jupyter.widget-view+json": {
       "model_id": "b2cb0162a8ef4a64a7632a6c2e7eb5e5",
       "version_major": 2,
       "version_minor": 0
      },
      "text/plain": [
       "  0%|          | 0/320 [00:00<?, ?it/s]"
      ]
     },
     "metadata": {},
     "output_type": "display_data"
    },
    {
     "name": "stdout",
     "output_type": "stream",
     "text": [
      "| Epoch: 423 | Train Loss: 1.912 | Train Acc: 13.12% | Val. Loss: 1.962 | Val. Acc: 8.12% | Val. Precision: 2.344 | Val. Recall: 8.125 | Val. F1-score: 3.583 |\n"
     ]
    },
    {
     "data": {
      "application/vnd.jupyter.widget-view+json": {
       "model_id": "01b0fc8cfc9547098c6c1658ced37414",
       "version_major": 2,
       "version_minor": 0
      },
      "text/plain": [
       "  0%|          | 0/320 [00:00<?, ?it/s]"
      ]
     },
     "metadata": {},
     "output_type": "display_data"
    },
    {
     "name": "stdout",
     "output_type": "stream",
     "text": [
      "| Epoch: 424 | Train Loss: 1.912 | Train Acc: 13.12% | Val. Loss: 1.962 | Val. Acc: 8.12% | Val. Precision: 2.344 | Val. Recall: 8.125 | Val. F1-score: 3.583 |\n"
     ]
    },
    {
     "data": {
      "application/vnd.jupyter.widget-view+json": {
       "model_id": "ea3afd9bf6d649b9a306e876d13bb8f0",
       "version_major": 2,
       "version_minor": 0
      },
      "text/plain": [
       "  0%|          | 0/320 [00:00<?, ?it/s]"
      ]
     },
     "metadata": {},
     "output_type": "display_data"
    },
    {
     "name": "stdout",
     "output_type": "stream",
     "text": [
      "| Epoch: 425 | Train Loss: 1.912 | Train Acc: 13.12% | Val. Loss: 1.962 | Val. Acc: 8.12% | Val. Precision: 2.344 | Val. Recall: 8.125 | Val. F1-score: 3.583 |\n"
     ]
    },
    {
     "data": {
      "application/vnd.jupyter.widget-view+json": {
       "model_id": "f8cb9add7f8d4b9698cf30017d232fac",
       "version_major": 2,
       "version_minor": 0
      },
      "text/plain": [
       "  0%|          | 0/320 [00:00<?, ?it/s]"
      ]
     },
     "metadata": {},
     "output_type": "display_data"
    },
    {
     "name": "stdout",
     "output_type": "stream",
     "text": [
      "| Epoch: 426 | Train Loss: 1.891 | Train Acc: 15.23% | Val. Loss: 1.575 | Val. Acc: 46.88% | Val. Precision: 28.906 | Val. Recall: 46.875 | Val. F1-score: 34.798 |\n"
     ]
    },
    {
     "data": {
      "application/vnd.jupyter.widget-view+json": {
       "model_id": "64633734114944d088e87291ef9333b8",
       "version_major": 2,
       "version_minor": 0
      },
      "text/plain": [
       "  0%|          | 0/320 [00:00<?, ?it/s]"
      ]
     },
     "metadata": {},
     "output_type": "display_data"
    },
    {
     "name": "stdout",
     "output_type": "stream",
     "text": [
      "| Epoch: 427 | Train Loss: 1.629 | Train Acc: 41.48% | Val. Loss: 1.575 | Val. Acc: 46.88% | Val. Precision: 28.906 | Val. Recall: 46.875 | Val. F1-score: 34.798 |\n"
     ]
    },
    {
     "data": {
      "application/vnd.jupyter.widget-view+json": {
       "model_id": "49802bd885484e57a39c38af1b92f789",
       "version_major": 2,
       "version_minor": 0
      },
      "text/plain": [
       "  0%|          | 0/320 [00:00<?, ?it/s]"
      ]
     },
     "metadata": {},
     "output_type": "display_data"
    },
    {
     "name": "stdout",
     "output_type": "stream",
     "text": [
      "| Epoch: 428 | Train Loss: 1.629 | Train Acc: 41.48% | Val. Loss: 1.575 | Val. Acc: 46.88% | Val. Precision: 28.906 | Val. Recall: 46.875 | Val. F1-score: 34.798 |\n"
     ]
    },
    {
     "data": {
      "application/vnd.jupyter.widget-view+json": {
       "model_id": "1b137e1fdda14687a0d3d7b97fdec481",
       "version_major": 2,
       "version_minor": 0
      },
      "text/plain": [
       "  0%|          | 0/320 [00:00<?, ?it/s]"
      ]
     },
     "metadata": {},
     "output_type": "display_data"
    },
    {
     "name": "stdout",
     "output_type": "stream",
     "text": [
      "| Epoch: 429 | Train Loss: 1.629 | Train Acc: 41.48% | Val. Loss: 1.575 | Val. Acc: 46.88% | Val. Precision: 28.906 | Val. Recall: 46.875 | Val. F1-score: 34.798 |\n"
     ]
    },
    {
     "data": {
      "application/vnd.jupyter.widget-view+json": {
       "model_id": "be90d0804fb34b0c8cfc626f9d5df7fd",
       "version_major": 2,
       "version_minor": 0
      },
      "text/plain": [
       "  0%|          | 0/320 [00:00<?, ?it/s]"
      ]
     },
     "metadata": {},
     "output_type": "display_data"
    },
    {
     "name": "stdout",
     "output_type": "stream",
     "text": [
      "| Epoch: 430 | Train Loss: 1.629 | Train Acc: 41.48% | Val. Loss: 1.575 | Val. Acc: 46.88% | Val. Precision: 28.906 | Val. Recall: 46.875 | Val. F1-score: 34.798 |\n"
     ]
    },
    {
     "data": {
      "application/vnd.jupyter.widget-view+json": {
       "model_id": "06334ddafa2f45d1a90be6488516d626",
       "version_major": 2,
       "version_minor": 0
      },
      "text/plain": [
       "  0%|          | 0/320 [00:00<?, ?it/s]"
      ]
     },
     "metadata": {},
     "output_type": "display_data"
    },
    {
     "name": "stdout",
     "output_type": "stream",
     "text": [
      "| Epoch: 431 | Train Loss: 1.629 | Train Acc: 41.48% | Val. Loss: 1.575 | Val. Acc: 46.88% | Val. Precision: 28.906 | Val. Recall: 46.875 | Val. F1-score: 34.798 |\n"
     ]
    },
    {
     "data": {
      "application/vnd.jupyter.widget-view+json": {
       "model_id": "2774c41a3432461cae6fcdf9c42dda6f",
       "version_major": 2,
       "version_minor": 0
      },
      "text/plain": [
       "  0%|          | 0/320 [00:00<?, ?it/s]"
      ]
     },
     "metadata": {},
     "output_type": "display_data"
    },
    {
     "name": "stdout",
     "output_type": "stream",
     "text": [
      "| Epoch: 432 | Train Loss: 1.629 | Train Acc: 41.48% | Val. Loss: 1.575 | Val. Acc: 46.88% | Val. Precision: 28.906 | Val. Recall: 46.875 | Val. F1-score: 34.798 |\n"
     ]
    },
    {
     "data": {
      "application/vnd.jupyter.widget-view+json": {
       "model_id": "1342dafc0b1c4c26ba21e348be8df009",
       "version_major": 2,
       "version_minor": 0
      },
      "text/plain": [
       "  0%|          | 0/320 [00:00<?, ?it/s]"
      ]
     },
     "metadata": {},
     "output_type": "display_data"
    },
    {
     "name": "stdout",
     "output_type": "stream",
     "text": [
      "| Epoch: 433 | Train Loss: 1.629 | Train Acc: 41.48% | Val. Loss: 1.575 | Val. Acc: 46.88% | Val. Precision: 28.906 | Val. Recall: 46.875 | Val. F1-score: 34.798 |\n"
     ]
    },
    {
     "data": {
      "application/vnd.jupyter.widget-view+json": {
       "model_id": "e5c555504c5e446da916d71a219e4d9e",
       "version_major": 2,
       "version_minor": 0
      },
      "text/plain": [
       "  0%|          | 0/320 [00:00<?, ?it/s]"
      ]
     },
     "metadata": {},
     "output_type": "display_data"
    },
    {
     "name": "stdout",
     "output_type": "stream",
     "text": [
      "| Epoch: 434 | Train Loss: 1.629 | Train Acc: 41.48% | Val. Loss: 1.575 | Val. Acc: 46.88% | Val. Precision: 28.906 | Val. Recall: 46.875 | Val. F1-score: 34.798 |\n"
     ]
    },
    {
     "data": {
      "application/vnd.jupyter.widget-view+json": {
       "model_id": "8c889052f06c43ea8d08601d06f095e6",
       "version_major": 2,
       "version_minor": 0
      },
      "text/plain": [
       "  0%|          | 0/320 [00:00<?, ?it/s]"
      ]
     },
     "metadata": {},
     "output_type": "display_data"
    },
    {
     "name": "stdout",
     "output_type": "stream",
     "text": [
      "| Epoch: 435 | Train Loss: 1.629 | Train Acc: 41.48% | Val. Loss: 1.575 | Val. Acc: 46.88% | Val. Precision: 28.906 | Val. Recall: 46.875 | Val. F1-score: 34.798 |\n"
     ]
    },
    {
     "data": {
      "application/vnd.jupyter.widget-view+json": {
       "model_id": "68e66fd76f1042648d7e87529f136ceb",
       "version_major": 2,
       "version_minor": 0
      },
      "text/plain": [
       "  0%|          | 0/320 [00:00<?, ?it/s]"
      ]
     },
     "metadata": {},
     "output_type": "display_data"
    },
    {
     "name": "stdout",
     "output_type": "stream",
     "text": [
      "| Epoch: 436 | Train Loss: 1.629 | Train Acc: 41.48% | Val. Loss: 1.575 | Val. Acc: 46.88% | Val. Precision: 28.906 | Val. Recall: 46.875 | Val. F1-score: 34.798 |\n"
     ]
    },
    {
     "data": {
      "application/vnd.jupyter.widget-view+json": {
       "model_id": "133e0c31a8414fc0b56f63411ff8e319",
       "version_major": 2,
       "version_minor": 0
      },
      "text/plain": [
       "  0%|          | 0/320 [00:00<?, ?it/s]"
      ]
     },
     "metadata": {},
     "output_type": "display_data"
    },
    {
     "name": "stdout",
     "output_type": "stream",
     "text": [
      "| Epoch: 437 | Train Loss: 1.675 | Train Acc: 36.80% | Val. Loss: 2.000 | Val. Acc: 4.38% | Val. Precision: 1.094 | Val. Recall: 4.375 | Val. F1-score: 1.750 |\n"
     ]
    },
    {
     "data": {
      "application/vnd.jupyter.widget-view+json": {
       "model_id": "e9637146aa134f31968e32b8e7abe4a1",
       "version_major": 2,
       "version_minor": 0
      },
      "text/plain": [
       "  0%|          | 0/320 [00:00<?, ?it/s]"
      ]
     },
     "metadata": {},
     "output_type": "display_data"
    },
    {
     "name": "stdout",
     "output_type": "stream",
     "text": [
      "| Epoch: 438 | Train Loss: 2.010 | Train Acc: 3.36% | Val. Loss: 1.994 | Val. Acc: 5.00% | Val. Precision: 1.771 | Val. Recall: 5.000 | Val. F1-score: 2.438 |\n"
     ]
    },
    {
     "data": {
      "application/vnd.jupyter.widget-view+json": {
       "model_id": "9f058e47bd8f4899a01b400ae343ba96",
       "version_major": 2,
       "version_minor": 0
      },
      "text/plain": [
       "  0%|          | 0/320 [00:00<?, ?it/s]"
      ]
     },
     "metadata": {},
     "output_type": "display_data"
    },
    {
     "name": "stdout",
     "output_type": "stream",
     "text": [
      "| Epoch: 439 | Train Loss: 2.003 | Train Acc: 4.06% | Val. Loss: 2.000 | Val. Acc: 4.38% | Val. Precision: 1.146 | Val. Recall: 4.375 | Val. F1-score: 1.812 |\n"
     ]
    },
    {
     "data": {
      "application/vnd.jupyter.widget-view+json": {
       "model_id": "b01309c40bdb4e209de0634bd5e19397",
       "version_major": 2,
       "version_minor": 0
      },
      "text/plain": [
       "  0%|          | 0/320 [00:00<?, ?it/s]"
      ]
     },
     "metadata": {},
     "output_type": "display_data"
    },
    {
     "name": "stdout",
     "output_type": "stream",
     "text": [
      "| Epoch: 440 | Train Loss: 2.004 | Train Acc: 3.98% | Val. Loss: 2.000 | Val. Acc: 4.38% | Val. Precision: 1.146 | Val. Recall: 4.375 | Val. F1-score: 1.812 |\n"
     ]
    },
    {
     "data": {
      "application/vnd.jupyter.widget-view+json": {
       "model_id": "de1b2626c82349a0af578e2dca6470f7",
       "version_major": 2,
       "version_minor": 0
      },
      "text/plain": [
       "  0%|          | 0/320 [00:00<?, ?it/s]"
      ]
     },
     "metadata": {},
     "output_type": "display_data"
    },
    {
     "name": "stdout",
     "output_type": "stream",
     "text": [
      "| Epoch: 441 | Train Loss: 2.004 | Train Acc: 3.98% | Val. Loss: 2.012 | Val. Acc: 3.12% | Val. Precision: 1.094 | Val. Recall: 3.125 | Val. F1-score: 1.604 |\n"
     ]
    },
    {
     "data": {
      "application/vnd.jupyter.widget-view+json": {
       "model_id": "023908c8e99d4f26a18debd4a886be32",
       "version_major": 2,
       "version_minor": 0
      },
      "text/plain": [
       "  0%|          | 0/320 [00:00<?, ?it/s]"
      ]
     },
     "metadata": {},
     "output_type": "display_data"
    },
    {
     "name": "stdout",
     "output_type": "stream",
     "text": [
      "| Epoch: 442 | Train Loss: 2.002 | Train Acc: 4.14% | Val. Loss: 2.000 | Val. Acc: 4.38% | Val. Precision: 1.094 | Val. Recall: 4.375 | Val. F1-score: 1.750 |\n"
     ]
    },
    {
     "data": {
      "application/vnd.jupyter.widget-view+json": {
       "model_id": "0a71b3eb997f467fa6379cd86d5ccf7a",
       "version_major": 2,
       "version_minor": 0
      },
      "text/plain": [
       "  0%|          | 0/320 [00:00<?, ?it/s]"
      ]
     },
     "metadata": {},
     "output_type": "display_data"
    },
    {
     "name": "stdout",
     "output_type": "stream",
     "text": [
      "| Epoch: 443 | Train Loss: 2.009 | Train Acc: 3.44% | Val. Loss: 2.000 | Val. Acc: 4.38% | Val. Precision: 1.094 | Val. Recall: 4.375 | Val. F1-score: 1.750 |\n"
     ]
    },
    {
     "data": {
      "application/vnd.jupyter.widget-view+json": {
       "model_id": "ea2bedf98ca043698bcb018925716a11",
       "version_major": 2,
       "version_minor": 0
      },
      "text/plain": [
       "  0%|          | 0/320 [00:00<?, ?it/s]"
      ]
     },
     "metadata": {},
     "output_type": "display_data"
    },
    {
     "name": "stdout",
     "output_type": "stream",
     "text": [
      "| Epoch: 444 | Train Loss: 2.009 | Train Acc: 3.44% | Val. Loss: 2.000 | Val. Acc: 4.38% | Val. Precision: 1.094 | Val. Recall: 4.375 | Val. F1-score: 1.750 |\n"
     ]
    },
    {
     "data": {
      "application/vnd.jupyter.widget-view+json": {
       "model_id": "428ceb2cbe8b415f946119d112adbc65",
       "version_major": 2,
       "version_minor": 0
      },
      "text/plain": [
       "  0%|          | 0/320 [00:00<?, ?it/s]"
      ]
     },
     "metadata": {},
     "output_type": "display_data"
    },
    {
     "name": "stdout",
     "output_type": "stream",
     "text": [
      "| Epoch: 445 | Train Loss: 2.009 | Train Acc: 3.44% | Val. Loss: 2.000 | Val. Acc: 4.38% | Val. Precision: 1.094 | Val. Recall: 4.375 | Val. F1-score: 1.750 |\n"
     ]
    },
    {
     "data": {
      "application/vnd.jupyter.widget-view+json": {
       "model_id": "cf3f8ff5fe7d40e1ab19c09af0621f7e",
       "version_major": 2,
       "version_minor": 0
      },
      "text/plain": [
       "  0%|          | 0/320 [00:00<?, ?it/s]"
      ]
     },
     "metadata": {},
     "output_type": "display_data"
    },
    {
     "name": "stdout",
     "output_type": "stream",
     "text": [
      "| Epoch: 446 | Train Loss: 2.007 | Train Acc: 3.67% | Val. Loss: 1.994 | Val. Acc: 5.00% | Val. Precision: 1.406 | Val. Recall: 5.000 | Val. F1-score: 2.167 |\n"
     ]
    },
    {
     "data": {
      "application/vnd.jupyter.widget-view+json": {
       "model_id": "2be5995812ad4b5ba16f8ffd75f41994",
       "version_major": 2,
       "version_minor": 0
      },
      "text/plain": [
       "  0%|          | 0/320 [00:00<?, ?it/s]"
      ]
     },
     "metadata": {},
     "output_type": "display_data"
    },
    {
     "name": "stdout",
     "output_type": "stream",
     "text": [
      "| Epoch: 447 | Train Loss: 1.996 | Train Acc: 4.77% | Val. Loss: 2.000 | Val. Acc: 4.38% | Val. Precision: 1.354 | Val. Recall: 4.375 | Val. F1-score: 2.062 |\n"
     ]
    },
    {
     "data": {
      "application/vnd.jupyter.widget-view+json": {
       "model_id": "eb9cbd6f2a594bb99d791a19bba95b60",
       "version_major": 2,
       "version_minor": 0
      },
      "text/plain": [
       "  0%|          | 0/320 [00:00<?, ?it/s]"
      ]
     },
     "metadata": {},
     "output_type": "display_data"
    },
    {
     "name": "stdout",
     "output_type": "stream",
     "text": [
      "| Epoch: 448 | Train Loss: 1.938 | Train Acc: 10.55% | Val. Loss: 1.956 | Val. Acc: 8.75% | Val. Precision: 4.115 | Val. Recall: 8.750 | Val. F1-score: 5.437 |\n"
     ]
    },
    {
     "data": {
      "application/vnd.jupyter.widget-view+json": {
       "model_id": "2d032c41d2f24cfdb329b25a883e33c4",
       "version_major": 2,
       "version_minor": 0
      },
      "text/plain": [
       "  0%|          | 0/320 [00:00<?, ?it/s]"
      ]
     },
     "metadata": {},
     "output_type": "display_data"
    },
    {
     "name": "stdout",
     "output_type": "stream",
     "text": [
      "| Epoch: 449 | Train Loss: 1.917 | Train Acc: 12.66% | Val. Loss: 1.956 | Val. Acc: 8.75% | Val. Precision: 4.115 | Val. Recall: 8.750 | Val. F1-score: 5.437 |\n"
     ]
    },
    {
     "data": {
      "application/vnd.jupyter.widget-view+json": {
       "model_id": "f58cebdb6c2c41839702383fa519f0d9",
       "version_major": 2,
       "version_minor": 0
      },
      "text/plain": [
       "  0%|          | 0/320 [00:00<?, ?it/s]"
      ]
     },
     "metadata": {},
     "output_type": "display_data"
    },
    {
     "name": "stdout",
     "output_type": "stream",
     "text": [
      "| Epoch: 450 | Train Loss: 1.830 | Train Acc: 21.33% | Val. Loss: 1.650 | Val. Acc: 39.38% | Val. Precision: 21.719 | Val. Recall: 39.375 | Val. F1-score: 27.060 |\n"
     ]
    },
    {
     "data": {
      "application/vnd.jupyter.widget-view+json": {
       "model_id": "e151520c2a0d4687ba44baea31184abf",
       "version_major": 2,
       "version_minor": 0
      },
      "text/plain": [
       "  0%|          | 0/320 [00:00<?, ?it/s]"
      ]
     },
     "metadata": {},
     "output_type": "display_data"
    },
    {
     "name": "stdout",
     "output_type": "stream",
     "text": [
      "| Epoch: 451 | Train Loss: 1.641 | Train Acc: 40.23% | Val. Loss: 1.650 | Val. Acc: 39.38% | Val. Precision: 21.719 | Val. Recall: 39.375 | Val. F1-score: 27.060 |\n"
     ]
    },
    {
     "data": {
      "application/vnd.jupyter.widget-view+json": {
       "model_id": "7255f8d1843e4a2a91ab383786ae66a4",
       "version_major": 2,
       "version_minor": 0
      },
      "text/plain": [
       "  0%|          | 0/320 [00:00<?, ?it/s]"
      ]
     },
     "metadata": {},
     "output_type": "display_data"
    },
    {
     "name": "stdout",
     "output_type": "stream",
     "text": [
      "| Epoch: 452 | Train Loss: 1.641 | Train Acc: 40.23% | Val. Loss: 1.650 | Val. Acc: 39.38% | Val. Precision: 21.719 | Val. Recall: 39.375 | Val. F1-score: 27.060 |\n"
     ]
    },
    {
     "data": {
      "application/vnd.jupyter.widget-view+json": {
       "model_id": "74dc4a4f76c14142afbb842e54aa1fe8",
       "version_major": 2,
       "version_minor": 0
      },
      "text/plain": [
       "  0%|          | 0/320 [00:00<?, ?it/s]"
      ]
     },
     "metadata": {},
     "output_type": "display_data"
    },
    {
     "name": "stdout",
     "output_type": "stream",
     "text": [
      "| Epoch: 453 | Train Loss: 1.641 | Train Acc: 40.23% | Val. Loss: 1.650 | Val. Acc: 39.38% | Val. Precision: 21.719 | Val. Recall: 39.375 | Val. F1-score: 27.060 |\n"
     ]
    },
    {
     "data": {
      "application/vnd.jupyter.widget-view+json": {
       "model_id": "f0372162e24d42a48354b9480dbcca91",
       "version_major": 2,
       "version_minor": 0
      },
      "text/plain": [
       "  0%|          | 0/320 [00:00<?, ?it/s]"
      ]
     },
     "metadata": {},
     "output_type": "display_data"
    },
    {
     "name": "stdout",
     "output_type": "stream",
     "text": [
      "| Epoch: 454 | Train Loss: 1.641 | Train Acc: 40.23% | Val. Loss: 1.650 | Val. Acc: 39.38% | Val. Precision: 21.719 | Val. Recall: 39.375 | Val. F1-score: 27.060 |\n"
     ]
    },
    {
     "data": {
      "application/vnd.jupyter.widget-view+json": {
       "model_id": "4df71b0d33654905b23d4572ed682aa9",
       "version_major": 2,
       "version_minor": 0
      },
      "text/plain": [
       "  0%|          | 0/320 [00:00<?, ?it/s]"
      ]
     },
     "metadata": {},
     "output_type": "display_data"
    },
    {
     "name": "stdout",
     "output_type": "stream",
     "text": [
      "| Epoch: 455 | Train Loss: 1.641 | Train Acc: 40.23% | Val. Loss: 1.650 | Val. Acc: 39.38% | Val. Precision: 21.719 | Val. Recall: 39.375 | Val. F1-score: 27.060 |\n"
     ]
    },
    {
     "data": {
      "application/vnd.jupyter.widget-view+json": {
       "model_id": "58ff51a329fb4074bddc3bc77b94aa60",
       "version_major": 2,
       "version_minor": 0
      },
      "text/plain": [
       "  0%|          | 0/320 [00:00<?, ?it/s]"
      ]
     },
     "metadata": {},
     "output_type": "display_data"
    },
    {
     "name": "stdout",
     "output_type": "stream",
     "text": [
      "| Epoch: 456 | Train Loss: 1.641 | Train Acc: 40.23% | Val. Loss: 1.650 | Val. Acc: 39.38% | Val. Precision: 21.719 | Val. Recall: 39.375 | Val. F1-score: 27.060 |\n"
     ]
    },
    {
     "data": {
      "application/vnd.jupyter.widget-view+json": {
       "model_id": "15a69cfe03a949449906828548bd8520",
       "version_major": 2,
       "version_minor": 0
      },
      "text/plain": [
       "  0%|          | 0/320 [00:00<?, ?it/s]"
      ]
     },
     "metadata": {},
     "output_type": "display_data"
    },
    {
     "name": "stdout",
     "output_type": "stream",
     "text": [
      "| Epoch: 457 | Train Loss: 1.641 | Train Acc: 40.23% | Val. Loss: 1.650 | Val. Acc: 39.38% | Val. Precision: 21.719 | Val. Recall: 39.375 | Val. F1-score: 27.060 |\n"
     ]
    },
    {
     "data": {
      "application/vnd.jupyter.widget-view+json": {
       "model_id": "09b0d585b97b457191e7ca9cc0a0db50",
       "version_major": 2,
       "version_minor": 0
      },
      "text/plain": [
       "  0%|          | 0/320 [00:00<?, ?it/s]"
      ]
     },
     "metadata": {},
     "output_type": "display_data"
    },
    {
     "name": "stdout",
     "output_type": "stream",
     "text": [
      "| Epoch: 458 | Train Loss: 1.641 | Train Acc: 40.23% | Val. Loss: 1.650 | Val. Acc: 39.38% | Val. Precision: 21.719 | Val. Recall: 39.375 | Val. F1-score: 27.060 |\n"
     ]
    },
    {
     "data": {
      "application/vnd.jupyter.widget-view+json": {
       "model_id": "6e8cc44350ec4c52aa2d7aea8c752e28",
       "version_major": 2,
       "version_minor": 0
      },
      "text/plain": [
       "  0%|          | 0/320 [00:00<?, ?it/s]"
      ]
     },
     "metadata": {},
     "output_type": "display_data"
    },
    {
     "name": "stdout",
     "output_type": "stream",
     "text": [
      "| Epoch: 459 | Train Loss: 1.641 | Train Acc: 40.23% | Val. Loss: 1.650 | Val. Acc: 39.38% | Val. Precision: 21.719 | Val. Recall: 39.375 | Val. F1-score: 27.060 |\n"
     ]
    },
    {
     "data": {
      "application/vnd.jupyter.widget-view+json": {
       "model_id": "9dbf48451ad347f6a03361c00d0a651a",
       "version_major": 2,
       "version_minor": 0
      },
      "text/plain": [
       "  0%|          | 0/320 [00:00<?, ?it/s]"
      ]
     },
     "metadata": {},
     "output_type": "display_data"
    },
    {
     "name": "stdout",
     "output_type": "stream",
     "text": [
      "| Epoch: 460 | Train Loss: 1.641 | Train Acc: 40.23% | Val. Loss: 1.650 | Val. Acc: 39.38% | Val. Precision: 21.719 | Val. Recall: 39.375 | Val. F1-score: 27.060 |\n"
     ]
    },
    {
     "data": {
      "application/vnd.jupyter.widget-view+json": {
       "model_id": "f21f716395dc4671b6ca6cd66266e501",
       "version_major": 2,
       "version_minor": 0
      },
      "text/plain": [
       "  0%|          | 0/320 [00:00<?, ?it/s]"
      ]
     },
     "metadata": {},
     "output_type": "display_data"
    },
    {
     "name": "stdout",
     "output_type": "stream",
     "text": [
      "| Epoch: 461 | Train Loss: 1.641 | Train Acc: 40.23% | Val. Loss: 1.650 | Val. Acc: 39.38% | Val. Precision: 21.719 | Val. Recall: 39.375 | Val. F1-score: 27.060 |\n"
     ]
    },
    {
     "data": {
      "application/vnd.jupyter.widget-view+json": {
       "model_id": "09632eda0712480a882b8e7b0e2a0421",
       "version_major": 2,
       "version_minor": 0
      },
      "text/plain": [
       "  0%|          | 0/320 [00:00<?, ?it/s]"
      ]
     },
     "metadata": {},
     "output_type": "display_data"
    },
    {
     "name": "stdout",
     "output_type": "stream",
     "text": [
      "| Epoch: 462 | Train Loss: 1.645 | Train Acc: 39.84% | Val. Loss: 1.773 | Val. Acc: 26.88% | Val. Precision: 21.979 | Val. Recall: 26.875 | Val. F1-score: 22.625 |\n"
     ]
    },
    {
     "data": {
      "application/vnd.jupyter.widget-view+json": {
       "model_id": "970c48d78cc3447e8c5d30019c30bf20",
       "version_major": 2,
       "version_minor": 0
      },
      "text/plain": [
       "  0%|          | 0/320 [00:00<?, ?it/s]"
      ]
     },
     "metadata": {},
     "output_type": "display_data"
    },
    {
     "name": "stdout",
     "output_type": "stream",
     "text": [
      "| Epoch: 463 | Train Loss: 1.672 | Train Acc: 37.19% | Val. Loss: 1.650 | Val. Acc: 39.38% | Val. Precision: 21.719 | Val. Recall: 39.375 | Val. F1-score: 27.060 |\n"
     ]
    },
    {
     "data": {
      "application/vnd.jupyter.widget-view+json": {
       "model_id": "03c46941a4844fd8828604c7f8d72908",
       "version_major": 2,
       "version_minor": 0
      },
      "text/plain": [
       "  0%|          | 0/320 [00:00<?, ?it/s]"
      ]
     },
     "metadata": {},
     "output_type": "display_data"
    },
    {
     "name": "stdout",
     "output_type": "stream",
     "text": [
      "| Epoch: 464 | Train Loss: 1.641 | Train Acc: 40.23% | Val. Loss: 1.650 | Val. Acc: 39.38% | Val. Precision: 21.719 | Val. Recall: 39.375 | Val. F1-score: 27.060 |\n"
     ]
    },
    {
     "data": {
      "application/vnd.jupyter.widget-view+json": {
       "model_id": "ad4e16483abf4a0c96fbdf9395d9572c",
       "version_major": 2,
       "version_minor": 0
      },
      "text/plain": [
       "  0%|          | 0/320 [00:00<?, ?it/s]"
      ]
     },
     "metadata": {},
     "output_type": "display_data"
    },
    {
     "name": "stdout",
     "output_type": "stream",
     "text": [
      "| Epoch: 465 | Train Loss: 1.641 | Train Acc: 40.23% | Val. Loss: 1.650 | Val. Acc: 39.38% | Val. Precision: 21.719 | Val. Recall: 39.375 | Val. F1-score: 27.060 |\n"
     ]
    },
    {
     "data": {
      "application/vnd.jupyter.widget-view+json": {
       "model_id": "da8d1f7618a84c14b17c16f4f8b127ea",
       "version_major": 2,
       "version_minor": 0
      },
      "text/plain": [
       "  0%|          | 0/320 [00:00<?, ?it/s]"
      ]
     },
     "metadata": {},
     "output_type": "display_data"
    },
    {
     "name": "stdout",
     "output_type": "stream",
     "text": [
      "| Epoch: 466 | Train Loss: 1.641 | Train Acc: 40.23% | Val. Loss: 1.650 | Val. Acc: 39.38% | Val. Precision: 21.719 | Val. Recall: 39.375 | Val. F1-score: 27.060 |\n"
     ]
    },
    {
     "data": {
      "application/vnd.jupyter.widget-view+json": {
       "model_id": "ed13c9e3a24b49d1aa3342b0d5b37bd8",
       "version_major": 2,
       "version_minor": 0
      },
      "text/plain": [
       "  0%|          | 0/320 [00:00<?, ?it/s]"
      ]
     },
     "metadata": {},
     "output_type": "display_data"
    },
    {
     "name": "stdout",
     "output_type": "stream",
     "text": [
      "| Epoch: 467 | Train Loss: 1.641 | Train Acc: 40.23% | Val. Loss: 1.650 | Val. Acc: 39.38% | Val. Precision: 21.719 | Val. Recall: 39.375 | Val. F1-score: 27.060 |\n"
     ]
    },
    {
     "data": {
      "application/vnd.jupyter.widget-view+json": {
       "model_id": "28ee1c500b8a43f1bfa3872b5949d984",
       "version_major": 2,
       "version_minor": 0
      },
      "text/plain": [
       "  0%|          | 0/320 [00:00<?, ?it/s]"
      ]
     },
     "metadata": {},
     "output_type": "display_data"
    },
    {
     "name": "stdout",
     "output_type": "stream",
     "text": [
      "| Epoch: 468 | Train Loss: 1.641 | Train Acc: 40.23% | Val. Loss: 1.650 | Val. Acc: 39.38% | Val. Precision: 21.719 | Val. Recall: 39.375 | Val. F1-score: 27.060 |\n"
     ]
    },
    {
     "data": {
      "application/vnd.jupyter.widget-view+json": {
       "model_id": "32f2d7779f1748f5a0730fe15730cb99",
       "version_major": 2,
       "version_minor": 0
      },
      "text/plain": [
       "  0%|          | 0/320 [00:00<?, ?it/s]"
      ]
     },
     "metadata": {},
     "output_type": "display_data"
    },
    {
     "name": "stdout",
     "output_type": "stream",
     "text": [
      "| Epoch: 469 | Train Loss: 1.641 | Train Acc: 40.23% | Val. Loss: 1.650 | Val. Acc: 39.38% | Val. Precision: 21.719 | Val. Recall: 39.375 | Val. F1-score: 27.060 |\n"
     ]
    },
    {
     "data": {
      "application/vnd.jupyter.widget-view+json": {
       "model_id": "f5cdbe7b034344a48e15f7e90ae349e2",
       "version_major": 2,
       "version_minor": 0
      },
      "text/plain": [
       "  0%|          | 0/320 [00:00<?, ?it/s]"
      ]
     },
     "metadata": {},
     "output_type": "display_data"
    },
    {
     "name": "stdout",
     "output_type": "stream",
     "text": [
      "| Epoch: 470 | Train Loss: 1.641 | Train Acc: 40.23% | Val. Loss: 1.650 | Val. Acc: 39.38% | Val. Precision: 21.719 | Val. Recall: 39.375 | Val. F1-score: 27.060 |\n"
     ]
    },
    {
     "data": {
      "application/vnd.jupyter.widget-view+json": {
       "model_id": "e5bb997852b04b2e85fa816e8cbb2354",
       "version_major": 2,
       "version_minor": 0
      },
      "text/plain": [
       "  0%|          | 0/320 [00:00<?, ?it/s]"
      ]
     },
     "metadata": {},
     "output_type": "display_data"
    },
    {
     "name": "stdout",
     "output_type": "stream",
     "text": [
      "| Epoch: 471 | Train Loss: 1.641 | Train Acc: 40.23% | Val. Loss: 1.650 | Val. Acc: 39.38% | Val. Precision: 21.719 | Val. Recall: 39.375 | Val. F1-score: 27.060 |\n"
     ]
    },
    {
     "data": {
      "application/vnd.jupyter.widget-view+json": {
       "model_id": "e0b1de69b12546d9af006df6982cdafe",
       "version_major": 2,
       "version_minor": 0
      },
      "text/plain": [
       "  0%|          | 0/320 [00:00<?, ?it/s]"
      ]
     },
     "metadata": {},
     "output_type": "display_data"
    },
    {
     "name": "stdout",
     "output_type": "stream",
     "text": [
      "| Epoch: 472 | Train Loss: 1.641 | Train Acc: 40.23% | Val. Loss: 1.650 | Val. Acc: 39.38% | Val. Precision: 21.719 | Val. Recall: 39.375 | Val. F1-score: 27.060 |\n"
     ]
    },
    {
     "data": {
      "application/vnd.jupyter.widget-view+json": {
       "model_id": "2166009a9bd2412eb8f699c760af9833",
       "version_major": 2,
       "version_minor": 0
      },
      "text/plain": [
       "  0%|          | 0/320 [00:00<?, ?it/s]"
      ]
     },
     "metadata": {},
     "output_type": "display_data"
    },
    {
     "name": "stdout",
     "output_type": "stream",
     "text": [
      "| Epoch: 473 | Train Loss: 1.641 | Train Acc: 40.23% | Val. Loss: 1.650 | Val. Acc: 39.38% | Val. Precision: 21.719 | Val. Recall: 39.375 | Val. F1-score: 27.060 |\n"
     ]
    },
    {
     "data": {
      "application/vnd.jupyter.widget-view+json": {
       "model_id": "2cf80cf864344ff68dab63eb445d6697",
       "version_major": 2,
       "version_minor": 0
      },
      "text/plain": [
       "  0%|          | 0/320 [00:00<?, ?it/s]"
      ]
     },
     "metadata": {},
     "output_type": "display_data"
    },
    {
     "name": "stdout",
     "output_type": "stream",
     "text": [
      "| Epoch: 474 | Train Loss: 1.641 | Train Acc: 40.23% | Val. Loss: 1.650 | Val. Acc: 39.38% | Val. Precision: 21.719 | Val. Recall: 39.375 | Val. F1-score: 27.060 |\n"
     ]
    },
    {
     "data": {
      "application/vnd.jupyter.widget-view+json": {
       "model_id": "3a7c9f876ade4afab967d0d12868c05c",
       "version_major": 2,
       "version_minor": 0
      },
      "text/plain": [
       "  0%|          | 0/320 [00:00<?, ?it/s]"
      ]
     },
     "metadata": {},
     "output_type": "display_data"
    },
    {
     "name": "stdout",
     "output_type": "stream",
     "text": [
      "| Epoch: 475 | Train Loss: 1.642 | Train Acc: 40.16% | Val. Loss: 1.650 | Val. Acc: 39.38% | Val. Precision: 21.719 | Val. Recall: 39.375 | Val. F1-score: 27.060 |\n"
     ]
    },
    {
     "data": {
      "application/vnd.jupyter.widget-view+json": {
       "model_id": "6b31c3119a794989b94b3cac04599c65",
       "version_major": 2,
       "version_minor": 0
      },
      "text/plain": [
       "  0%|          | 0/320 [00:00<?, ?it/s]"
      ]
     },
     "metadata": {},
     "output_type": "display_data"
    },
    {
     "name": "stdout",
     "output_type": "stream",
     "text": [
      "| Epoch: 476 | Train Loss: 1.641 | Train Acc: 40.23% | Val. Loss: 1.650 | Val. Acc: 39.38% | Val. Precision: 21.719 | Val. Recall: 39.375 | Val. F1-score: 27.060 |\n"
     ]
    },
    {
     "data": {
      "application/vnd.jupyter.widget-view+json": {
       "model_id": "10fbed853d5249deafdbdaef3bd61963",
       "version_major": 2,
       "version_minor": 0
      },
      "text/plain": [
       "  0%|          | 0/320 [00:00<?, ?it/s]"
      ]
     },
     "metadata": {},
     "output_type": "display_data"
    },
    {
     "name": "stdout",
     "output_type": "stream",
     "text": [
      "| Epoch: 477 | Train Loss: 1.726 | Train Acc: 31.72% | Val. Loss: 1.966 | Val. Acc: 7.50% | Val. Precision: 2.240 | Val. Recall: 7.500 | Val. F1-score: 3.396 |\n"
     ]
    },
    {
     "data": {
      "application/vnd.jupyter.widget-view+json": {
       "model_id": "b97210b1cc0b4bd78f57e85429daba31",
       "version_major": 2,
       "version_minor": 0
      },
      "text/plain": [
       "  0%|          | 0/320 [00:00<?, ?it/s]"
      ]
     },
     "metadata": {},
     "output_type": "display_data"
    },
    {
     "name": "stdout",
     "output_type": "stream",
     "text": [
      "| Epoch: 478 | Train Loss: 1.815 | Train Acc: 22.89% | Val. Loss: 1.825 | Val. Acc: 21.88% | Val. Precision: 17.760 | Val. Recall: 21.875 | Val. F1-score: 18.152 |\n"
     ]
    },
    {
     "data": {
      "application/vnd.jupyter.widget-view+json": {
       "model_id": "b435dc9358ad44c69bf19ed8387522ae",
       "version_major": 2,
       "version_minor": 0
      },
      "text/plain": [
       "  0%|          | 0/320 [00:00<?, ?it/s]"
      ]
     },
     "metadata": {},
     "output_type": "display_data"
    },
    {
     "name": "stdout",
     "output_type": "stream",
     "text": [
      "| Epoch: 479 | Train Loss: 1.695 | Train Acc: 34.84% | Val. Loss: 1.650 | Val. Acc: 39.38% | Val. Precision: 21.719 | Val. Recall: 39.375 | Val. F1-score: 27.060 |\n"
     ]
    },
    {
     "data": {
      "application/vnd.jupyter.widget-view+json": {
       "model_id": "785bdcdec5e24491b4197d70e0905786",
       "version_major": 2,
       "version_minor": 0
      },
      "text/plain": [
       "  0%|          | 0/320 [00:00<?, ?it/s]"
      ]
     },
     "metadata": {},
     "output_type": "display_data"
    },
    {
     "name": "stdout",
     "output_type": "stream",
     "text": [
      "| Epoch: 480 | Train Loss: 1.641 | Train Acc: 40.23% | Val. Loss: 1.650 | Val. Acc: 39.38% | Val. Precision: 21.719 | Val. Recall: 39.375 | Val. F1-score: 27.060 |\n"
     ]
    },
    {
     "data": {
      "application/vnd.jupyter.widget-view+json": {
       "model_id": "1be959916f204413bdf0acf12e85ccd5",
       "version_major": 2,
       "version_minor": 0
      },
      "text/plain": [
       "  0%|          | 0/320 [00:00<?, ?it/s]"
      ]
     },
     "metadata": {},
     "output_type": "display_data"
    },
    {
     "name": "stdout",
     "output_type": "stream",
     "text": [
      "| Epoch: 481 | Train Loss: 1.641 | Train Acc: 40.23% | Val. Loss: 1.650 | Val. Acc: 39.38% | Val. Precision: 21.719 | Val. Recall: 39.375 | Val. F1-score: 27.060 |\n"
     ]
    },
    {
     "data": {
      "application/vnd.jupyter.widget-view+json": {
       "model_id": "3275b6a87ef048b2990ccda27eecc16f",
       "version_major": 2,
       "version_minor": 0
      },
      "text/plain": [
       "  0%|          | 0/320 [00:00<?, ?it/s]"
      ]
     },
     "metadata": {},
     "output_type": "display_data"
    },
    {
     "name": "stdout",
     "output_type": "stream",
     "text": [
      "| Epoch: 482 | Train Loss: 1.641 | Train Acc: 40.23% | Val. Loss: 1.650 | Val. Acc: 39.38% | Val. Precision: 21.719 | Val. Recall: 39.375 | Val. F1-score: 27.060 |\n"
     ]
    },
    {
     "data": {
      "application/vnd.jupyter.widget-view+json": {
       "model_id": "b096523c7452415bad63f586eee9efc5",
       "version_major": 2,
       "version_minor": 0
      },
      "text/plain": [
       "  0%|          | 0/320 [00:00<?, ?it/s]"
      ]
     },
     "metadata": {},
     "output_type": "display_data"
    },
    {
     "name": "stdout",
     "output_type": "stream",
     "text": [
      "| Epoch: 483 | Train Loss: 1.641 | Train Acc: 40.23% | Val. Loss: 1.650 | Val. Acc: 39.38% | Val. Precision: 21.719 | Val. Recall: 39.375 | Val. F1-score: 27.060 |\n"
     ]
    },
    {
     "data": {
      "application/vnd.jupyter.widget-view+json": {
       "model_id": "73d5ca9332f14b7bbb5e9a4204c4f5ce",
       "version_major": 2,
       "version_minor": 0
      },
      "text/plain": [
       "  0%|          | 0/320 [00:00<?, ?it/s]"
      ]
     },
     "metadata": {},
     "output_type": "display_data"
    },
    {
     "name": "stdout",
     "output_type": "stream",
     "text": [
      "| Epoch: 484 | Train Loss: 1.641 | Train Acc: 40.23% | Val. Loss: 1.650 | Val. Acc: 39.38% | Val. Precision: 21.719 | Val. Recall: 39.375 | Val. F1-score: 27.060 |\n"
     ]
    },
    {
     "data": {
      "application/vnd.jupyter.widget-view+json": {
       "model_id": "df8b8f1c472c440e8a7d0a88ce9c5519",
       "version_major": 2,
       "version_minor": 0
      },
      "text/plain": [
       "  0%|          | 0/320 [00:00<?, ?it/s]"
      ]
     },
     "metadata": {},
     "output_type": "display_data"
    },
    {
     "name": "stdout",
     "output_type": "stream",
     "text": [
      "| Epoch: 485 | Train Loss: 1.641 | Train Acc: 40.23% | Val. Loss: 1.650 | Val. Acc: 39.38% | Val. Precision: 21.719 | Val. Recall: 39.375 | Val. F1-score: 27.060 |\n"
     ]
    },
    {
     "data": {
      "application/vnd.jupyter.widget-view+json": {
       "model_id": "145c484a89e348539632cf5ac7833802",
       "version_major": 2,
       "version_minor": 0
      },
      "text/plain": [
       "  0%|          | 0/320 [00:00<?, ?it/s]"
      ]
     },
     "metadata": {},
     "output_type": "display_data"
    },
    {
     "name": "stdout",
     "output_type": "stream",
     "text": [
      "| Epoch: 486 | Train Loss: 1.641 | Train Acc: 40.23% | Val. Loss: 1.650 | Val. Acc: 39.38% | Val. Precision: 21.719 | Val. Recall: 39.375 | Val. F1-score: 27.060 |\n"
     ]
    },
    {
     "data": {
      "application/vnd.jupyter.widget-view+json": {
       "model_id": "736ff68a9e6a4a688f7d1f3d19239f5d",
       "version_major": 2,
       "version_minor": 0
      },
      "text/plain": [
       "  0%|          | 0/320 [00:00<?, ?it/s]"
      ]
     },
     "metadata": {},
     "output_type": "display_data"
    },
    {
     "name": "stdout",
     "output_type": "stream",
     "text": [
      "| Epoch: 487 | Train Loss: 1.642 | Train Acc: 40.16% | Val. Loss: 1.575 | Val. Acc: 46.88% | Val. Precision: 28.906 | Val. Recall: 46.875 | Val. F1-score: 34.798 |\n"
     ]
    },
    {
     "data": {
      "application/vnd.jupyter.widget-view+json": {
       "model_id": "af09faa64474430aa58b0b13c57694d8",
       "version_major": 2,
       "version_minor": 0
      },
      "text/plain": [
       "  0%|          | 0/320 [00:00<?, ?it/s]"
      ]
     },
     "metadata": {},
     "output_type": "display_data"
    },
    {
     "name": "stdout",
     "output_type": "stream",
     "text": [
      "| Epoch: 488 | Train Loss: 1.629 | Train Acc: 41.48% | Val. Loss: 1.575 | Val. Acc: 46.88% | Val. Precision: 28.906 | Val. Recall: 46.875 | Val. F1-score: 34.798 |\n"
     ]
    },
    {
     "data": {
      "application/vnd.jupyter.widget-view+json": {
       "model_id": "c14be681e66b4b1daaac7cb738907063",
       "version_major": 2,
       "version_minor": 0
      },
      "text/plain": [
       "  0%|          | 0/320 [00:00<?, ?it/s]"
      ]
     },
     "metadata": {},
     "output_type": "display_data"
    },
    {
     "name": "stdout",
     "output_type": "stream",
     "text": [
      "| Epoch: 489 | Train Loss: 1.629 | Train Acc: 41.48% | Val. Loss: 1.575 | Val. Acc: 46.88% | Val. Precision: 28.906 | Val. Recall: 46.875 | Val. F1-score: 34.798 |\n"
     ]
    },
    {
     "data": {
      "application/vnd.jupyter.widget-view+json": {
       "model_id": "7336071b4b4a4c798bb1e5a789283203",
       "version_major": 2,
       "version_minor": 0
      },
      "text/plain": [
       "  0%|          | 0/320 [00:00<?, ?it/s]"
      ]
     },
     "metadata": {},
     "output_type": "display_data"
    },
    {
     "name": "stdout",
     "output_type": "stream",
     "text": [
      "| Epoch: 490 | Train Loss: 1.629 | Train Acc: 41.48% | Val. Loss: 1.575 | Val. Acc: 46.88% | Val. Precision: 28.906 | Val. Recall: 46.875 | Val. F1-score: 34.798 |\n"
     ]
    },
    {
     "data": {
      "application/vnd.jupyter.widget-view+json": {
       "model_id": "4fdca1ef859d4327985ef00bc5131c0d",
       "version_major": 2,
       "version_minor": 0
      },
      "text/plain": [
       "  0%|          | 0/320 [00:00<?, ?it/s]"
      ]
     },
     "metadata": {},
     "output_type": "display_data"
    },
    {
     "name": "stdout",
     "output_type": "stream",
     "text": [
      "| Epoch: 491 | Train Loss: 1.655 | Train Acc: 38.83% | Val. Loss: 1.575 | Val. Acc: 46.88% | Val. Precision: 28.906 | Val. Recall: 46.875 | Val. F1-score: 34.798 |\n"
     ]
    },
    {
     "data": {
      "application/vnd.jupyter.widget-view+json": {
       "model_id": "432ca3c89c5348479da5679733fa3875",
       "version_major": 2,
       "version_minor": 0
      },
      "text/plain": [
       "  0%|          | 0/320 [00:00<?, ?it/s]"
      ]
     },
     "metadata": {},
     "output_type": "display_data"
    },
    {
     "name": "stdout",
     "output_type": "stream",
     "text": [
      "| Epoch: 492 | Train Loss: 1.629 | Train Acc: 41.48% | Val. Loss: 1.575 | Val. Acc: 46.88% | Val. Precision: 28.906 | Val. Recall: 46.875 | Val. F1-score: 34.798 |\n"
     ]
    },
    {
     "data": {
      "application/vnd.jupyter.widget-view+json": {
       "model_id": "5abddb73f1e9477e99895ff6fbe35ac4",
       "version_major": 2,
       "version_minor": 0
      },
      "text/plain": [
       "  0%|          | 0/320 [00:00<?, ?it/s]"
      ]
     },
     "metadata": {},
     "output_type": "display_data"
    },
    {
     "name": "stdout",
     "output_type": "stream",
     "text": [
      "| Epoch: 493 | Train Loss: 1.629 | Train Acc: 41.48% | Val. Loss: 1.575 | Val. Acc: 46.88% | Val. Precision: 28.906 | Val. Recall: 46.875 | Val. F1-score: 34.798 |\n"
     ]
    },
    {
     "data": {
      "application/vnd.jupyter.widget-view+json": {
       "model_id": "cc7ff8de4ae845e28a8d7d97f0723cdc",
       "version_major": 2,
       "version_minor": 0
      },
      "text/plain": [
       "  0%|          | 0/320 [00:00<?, ?it/s]"
      ]
     },
     "metadata": {},
     "output_type": "display_data"
    },
    {
     "name": "stdout",
     "output_type": "stream",
     "text": [
      "| Epoch: 494 | Train Loss: 1.629 | Train Acc: 41.48% | Val. Loss: 1.575 | Val. Acc: 46.88% | Val. Precision: 28.906 | Val. Recall: 46.875 | Val. F1-score: 34.798 |\n"
     ]
    },
    {
     "data": {
      "application/vnd.jupyter.widget-view+json": {
       "model_id": "dbe9cabcf21a4b8d88787189aaea26ad",
       "version_major": 2,
       "version_minor": 0
      },
      "text/plain": [
       "  0%|          | 0/320 [00:00<?, ?it/s]"
      ]
     },
     "metadata": {},
     "output_type": "display_data"
    },
    {
     "name": "stdout",
     "output_type": "stream",
     "text": [
      "| Epoch: 495 | Train Loss: 1.629 | Train Acc: 41.48% | Val. Loss: 1.575 | Val. Acc: 46.88% | Val. Precision: 28.906 | Val. Recall: 46.875 | Val. F1-score: 34.798 |\n"
     ]
    },
    {
     "data": {
      "application/vnd.jupyter.widget-view+json": {
       "model_id": "c6e17b31ee3f47b18856433f6395e60e",
       "version_major": 2,
       "version_minor": 0
      },
      "text/plain": [
       "  0%|          | 0/320 [00:00<?, ?it/s]"
      ]
     },
     "metadata": {},
     "output_type": "display_data"
    },
    {
     "name": "stdout",
     "output_type": "stream",
     "text": [
      "| Epoch: 496 | Train Loss: 1.629 | Train Acc: 41.48% | Val. Loss: 1.575 | Val. Acc: 46.88% | Val. Precision: 28.906 | Val. Recall: 46.875 | Val. F1-score: 34.798 |\n"
     ]
    },
    {
     "data": {
      "application/vnd.jupyter.widget-view+json": {
       "model_id": "baf127d8cdc649bbbdcf199fb21eeb4e",
       "version_major": 2,
       "version_minor": 0
      },
      "text/plain": [
       "  0%|          | 0/320 [00:00<?, ?it/s]"
      ]
     },
     "metadata": {},
     "output_type": "display_data"
    },
    {
     "name": "stdout",
     "output_type": "stream",
     "text": [
      "| Epoch: 497 | Train Loss: 1.629 | Train Acc: 41.48% | Val. Loss: 1.575 | Val. Acc: 46.88% | Val. Precision: 28.906 | Val. Recall: 46.875 | Val. F1-score: 34.798 |\n"
     ]
    },
    {
     "data": {
      "application/vnd.jupyter.widget-view+json": {
       "model_id": "88a73288903e4eb79fb581f0eaae32ba",
       "version_major": 2,
       "version_minor": 0
      },
      "text/plain": [
       "  0%|          | 0/320 [00:00<?, ?it/s]"
      ]
     },
     "metadata": {},
     "output_type": "display_data"
    },
    {
     "name": "stdout",
     "output_type": "stream",
     "text": [
      "| Epoch: 498 | Train Loss: 1.629 | Train Acc: 41.48% | Val. Loss: 1.575 | Val. Acc: 46.88% | Val. Precision: 28.906 | Val. Recall: 46.875 | Val. F1-score: 34.798 |\n"
     ]
    },
    {
     "data": {
      "application/vnd.jupyter.widget-view+json": {
       "model_id": "6856a59032c24e80a9078ecb65d66671",
       "version_major": 2,
       "version_minor": 0
      },
      "text/plain": [
       "  0%|          | 0/320 [00:00<?, ?it/s]"
      ]
     },
     "metadata": {},
     "output_type": "display_data"
    },
    {
     "name": "stdout",
     "output_type": "stream",
     "text": [
      "| Epoch: 499 | Train Loss: 1.629 | Train Acc: 41.48% | Val. Loss: 1.575 | Val. Acc: 46.88% | Val. Precision: 28.906 | Val. Recall: 46.875 | Val. F1-score: 34.798 |\n"
     ]
    },
    {
     "data": {
      "application/vnd.jupyter.widget-view+json": {
       "model_id": "c4af1532b8874907aa9e88e5e8456595",
       "version_major": 2,
       "version_minor": 0
      },
      "text/plain": [
       "  0%|          | 0/320 [00:00<?, ?it/s]"
      ]
     },
     "metadata": {},
     "output_type": "display_data"
    },
    {
     "name": "stdout",
     "output_type": "stream",
     "text": [
      "| Epoch: 500 | Train Loss: 1.629 | Train Acc: 41.41% | Val. Loss: 1.575 | Val. Acc: 46.88% | Val. Precision: 28.906 | Val. Recall: 46.875 | Val. F1-score: 34.798 |\n"
     ]
    }
   ],
   "source": [
    "# Let's train our model\n",
    "                   # ENHANCEMENT 2\n",
    "for epoch in range(500):\n",
    "    train_loss, train_acc = train(winemodel, train_dataloader, optimizer, criterion)\n",
    "    # ENHANCEMENT 1\n",
    "    valid_loss, valid_acc, valid_precision, valid_recall, valid_f1  = evaluate(winemodel, val_dataloader, criterion)\n",
    "\n",
    "    print(f'| Epoch: {epoch+1:02} | Train Loss: {train_loss:.3f} | Train Acc: {train_acc*100:.2f}% | Val. Loss: {valid_loss:.3f} | Val. Acc: {valid_acc*100:.2f}% | Val. Precision: {valid_precision *100:.3f} | Val. Recall: {valid_recall*100:.3f} | Val. F1-score: {valid_f1*100:.3f} |')"
   ]
  },
  {
   "cell_type": "markdown",
   "metadata": {
    "id": "sN4r268sqghf"
   },
   "source": [
    "# Lab Enhancements\n",
    "* These tasks are additional enhancements with less guidance.\n",
    "* Report results means give us the accuracy, precision, recall and F1-score.\n"
   ]
  },
  {
   "cell_type": "markdown",
   "metadata": {
    "id": "lTeTTU12l_e8"
   },
   "source": [
    "## Enhancement 1: The current code does not actually evaluate the model on the test set, but it only evaluates it on the val set. When you write papers, you would ideally split the dataset into train, val and test. Train and val are both used in training, and the model trained on the training data, and  evaluated on the val data. So why do we need test split? We report our results on the test split in papers. Also, we do cross-validation on the train/val split (covered in later labs).\n",
    "\n",
    "## Report the results of the model on the test split. (Hint: It would be exactly like the evaluation on the val dataset, except it would be done on the test dataset.)"
   ]
  },
  {
   "cell_type": "code",
   "execution_count": 46,
   "metadata": {
    "id": "mvThtvybtAyC"
   },
   "outputs": [
    {
     "name": "stdout",
     "output_type": "stream",
     "text": [
      "| Test. Loss: 1.575 | Test. Acc: 46.88% | Test. Precision: 0.277 | Test. Recall: 0.469 | Test. F1-score: 0.337 |\n"
     ]
    }
   ],
   "source": [
    "test_loss, test_acc, test_prec, test_rec, test_f1 = evaluate(winemodel, test_dataloader, criterion)\n",
    "\n",
    "print(f'| Test. Loss: {test_loss:.3f} | Test. Acc: {test_acc*100:.2f}% | Test. Precision: {test_prec:.3f} | Test. Recall: {test_rec:.3f} | Test. F1-score: {test_f1:.3f} |')"
   ]
  },
  {
   "cell_type": "markdown",
   "metadata": {
    "id": "TtPZiqkAqX88"
   },
   "source": [
    "## Enhancement 2: Increase the number of epochs (and maybe the learning rate). Does the accuracy on the test set increase? Is there a significant difference between the test accuracy and the train accuracy? If yes, why?"
   ]
  },
  {
   "cell_type": "markdown",
   "metadata": {
    "id": "7Qb9PdtvpGpO"
   },
   "source": [
    "## Enhancement 3: Increase the depth of your model (add more layers). Report the parts of the model definition you had to update. Report results."
   ]
  },
  {
   "cell_type": "markdown",
   "metadata": {
    "id": "hH1YvNbbpMWh"
   },
   "source": [
    "## Enhancement 4: Increase the width of your model's layers. Report the parts of the model definition you had to update. Report results."
   ]
  },
  {
   "cell_type": "markdown",
   "metadata": {
    "id": "2RryO5TdpZ_m"
   },
   "source": [
    "## Enhancement 5: Choose a new dataset from the list below. Search the Internet and download your chosen dataset (many of them could be available on kaggle). Adapt your model to your dataset. Train your model and record your results.\n",
    "\n",
    "   * cancer_dataset          - Breast cancer dataset.\n",
    "   * crab_dataset            - Crab gender dataset.\n",
    "   * glass_dataset           - Glass chemical dataset.\n",
    "   * iris_dataset            - Iris flower dataset.\n",
    "   * ovarian_dataset         - Ovarian cancer dataset.\n",
    "   * thyroid_dataset         - Thyroid function dataset."
   ]
  }
 ],
 "metadata": {
  "colab": {
   "provenance": []
  },
  "hide_input": false,
  "kernelspec": {
   "display_name": "Python 3 (ipykernel)",
   "language": "python",
   "name": "python3"
  },
  "language_info": {
   "codemirror_mode": {
    "name": "ipython",
    "version": 3
   },
   "file_extension": ".py",
   "mimetype": "text/x-python",
   "name": "python",
   "nbconvert_exporter": "python",
   "pygments_lexer": "ipython3",
   "version": "3.9.12"
  }
 },
 "nbformat": 4,
 "nbformat_minor": 1
}
